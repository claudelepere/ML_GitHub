{
  "cells": [
    {
      "cell_type": "markdown",
      "metadata": {
        "id": "view-in-github",
        "colab_type": "text"
      },
      "source": [
        "<a href=\"https://colab.research.google.com/github/claudelepere/ML_GitHub/blob/main/BERT_for_multi_label_text_classification.ipynb\" target=\"_parent\"><img src=\"https://colab.research.google.com/assets/colab-badge.svg\" alt=\"Open In Colab\"/></a>"
      ]
    },
    {
      "cell_type": "code",
      "execution_count": 1,
      "metadata": {
        "id": "cgQnuPvUFNsY",
        "colab": {
          "base_uri": "https://localhost:8080/"
        },
        "outputId": "d1b4e434-970f-48e5-bd9d-40a6776e9dd4"
      },
      "outputs": [
        {
          "output_type": "stream",
          "name": "stdout",
          "text": [
            "\u001b[?25l   \u001b[90m━━━━━━━━━━━━━━━━━━━━━━━━━━━━━━━━━━━━━━━━\u001b[0m \u001b[32m0.0/480.6 kB\u001b[0m \u001b[31m?\u001b[0m eta \u001b[36m-:--:--\u001b[0m\r\u001b[2K   \u001b[91m━━━━━━━━━━━━━━━━━━━━━━━━━━━━━━━━━━━━━━━\u001b[0m\u001b[90m╺\u001b[0m \u001b[32m471.0/480.6 kB\u001b[0m \u001b[31m19.1 MB/s\u001b[0m eta \u001b[36m0:00:01\u001b[0m\r\u001b[2K   \u001b[90m━━━━━━━━━━━━━━━━━━━━━━━━━━━━━━━━━━━━━━━━\u001b[0m \u001b[32m480.6/480.6 kB\u001b[0m \u001b[31m11.1 MB/s\u001b[0m eta \u001b[36m0:00:00\u001b[0m\n",
            "\u001b[?25h\u001b[?25l   \u001b[90m━━━━━━━━━━━━━━━━━━━━━━━━━━━━━━━━━━━━━━━━\u001b[0m \u001b[32m0.0/116.3 kB\u001b[0m \u001b[31m?\u001b[0m eta \u001b[36m-:--:--\u001b[0m\r\u001b[2K   \u001b[90m━━━━━━━━━━━━━━━━━━━━━━━━━━━━━━━━━━━━━━━━\u001b[0m \u001b[32m116.3/116.3 kB\u001b[0m \u001b[31m9.9 MB/s\u001b[0m eta \u001b[36m0:00:00\u001b[0m\n",
            "\u001b[?25h\u001b[?25l   \u001b[90m━━━━━━━━━━━━━━━━━━━━━━━━━━━━━━━━━━━━━━━━\u001b[0m \u001b[32m0.0/179.3 kB\u001b[0m \u001b[31m?\u001b[0m eta \u001b[36m-:--:--\u001b[0m\r\u001b[2K   \u001b[90m━━━━━━━━━━━━━━━━━━━━━━━━━━━━━━━━━━━━━━━━\u001b[0m \u001b[32m179.3/179.3 kB\u001b[0m \u001b[31m10.1 MB/s\u001b[0m eta \u001b[36m0:00:00\u001b[0m\n",
            "\u001b[?25h\u001b[?25l   \u001b[90m━━━━━━━━━━━━━━━━━━━━━━━━━━━━━━━━━━━━━━━━\u001b[0m \u001b[32m0.0/134.8 kB\u001b[0m \u001b[31m?\u001b[0m eta \u001b[36m-:--:--\u001b[0m\r\u001b[2K   \u001b[90m━━━━━━━━━━━━━━━━━━━━━━━━━━━━━━━━━━━━━━━━\u001b[0m \u001b[32m134.8/134.8 kB\u001b[0m \u001b[31m11.6 MB/s\u001b[0m eta \u001b[36m0:00:00\u001b[0m\n",
            "\u001b[?25h\u001b[?25l   \u001b[90m━━━━━━━━━━━━━━━━━━━━━━━━━━━━━━━━━━━━━━━━\u001b[0m \u001b[32m0.0/194.1 kB\u001b[0m \u001b[31m?\u001b[0m eta \u001b[36m-:--:--\u001b[0m\r\u001b[2K   \u001b[90m━━━━━━━━━━━━━━━━━━━━━━━━━━━━━━━━━━━━━━━━\u001b[0m \u001b[32m194.1/194.1 kB\u001b[0m \u001b[31m14.9 MB/s\u001b[0m eta \u001b[36m0:00:00\u001b[0m\n",
            "\u001b[?25h\u001b[31mERROR: pip's dependency resolver does not currently take into account all the packages that are installed. This behaviour is the source of the following dependency conflicts.\n",
            "gcsfs 2024.10.0 requires fsspec==2024.10.0, but you have fsspec 2024.9.0 which is incompatible.\u001b[0m\u001b[31m\n",
            "\u001b[0m"
          ]
        }
      ],
      "source": [
        "# Do not use conda in Colab, do not try to install with conda in Colab\n",
        "# Do not launch wandb (cannot connect to the W&B server): 3 things: #!pip install, #import, os.environ disable\n",
        "\n",
        "!pip install -q accelerate\n",
        "!pip install -q huggingface_hub\n",
        "!pip install -q transformers datasets\n",
        "#!pip install -q wandb\n",
        "\n",
        "import json\n",
        "import numpy as np\n",
        "import os\n",
        "import sys\n",
        "import time\n",
        "import torch\n",
        "#import wandb\n",
        "os.environ[\"WANDB_DISABLE_CODE\"] = \"true\"\n",
        "\n",
        "from datasets              import DatasetDict\n",
        "from google.colab          import auth, drive, files, userdata\n",
        "from huggingface_hub       import create_repo, login, upload_file\n",
        "from huggingface_hub.utils import RepositoryNotFoundError\n",
        "from sklearn.metrics       import accuracy_score, average_precision_score, f1_score, precision_score, recall_score, roc_auc_score\n",
        "from transformers          import AutoModelForSequenceClassification, AutoTokenizer, EvalPrediction, Trainer, TrainingArguments\n"
      ]
    },
    {
      "cell_type": "code",
      "execution_count": 2,
      "metadata": {
        "id": "gweGUl--FNsZ",
        "colab": {
          "base_uri": "https://localhost:8080/"
        },
        "outputId": "14dcb8df-0ad6-4cd3-c595-7caa4af70a7e"
      },
      "outputs": [
        {
          "output_type": "stream",
          "name": "stdout",
          "text": [
            "currentdir: /content\n",
            "\n",
            "device: cuda\n"
          ]
        }
      ],
      "source": [
        "\"\"\"\n",
        "# Check the Python version\n",
        "print(sys.version)\n",
        "print()\n",
        "\n",
        "# Get the installed packages (you can see that conda is not installed (do not install it))\n",
        "!pip list\n",
        "print()\n",
        "\n",
        "# Check system information\n",
        "!cat /etc/os-release\n",
        "!uname -m\n",
        "print()\n",
        "\n",
        "# Check the GPU details (only if the runtime type is T4 GPU)\n",
        "#!nvidia-smi\n",
        "#print()\n",
        "\n",
        "# Check RAM\n",
        "!free -h\n",
        "print()\n",
        "\n",
        "# Check disk space\n",
        "!df -h\n",
        "print()\n",
        "\n",
        "# Get environment variables\n",
        "for key, value in os.environ.items():\n",
        "    print(f\"{key}: {value}\")\n",
        "\"\"\"\n",
        "import os, torch\n",
        "print(f\"currentdir: {os.getcwd()}\")\n",
        "print()\n",
        "\n",
        "# Check the device\n",
        "device = torch.device(\"cuda\" if torch.cuda.is_available() else \"cpu\")\n",
        "print(f\"device: {device}\")\n"
      ]
    },
    {
      "cell_type": "code",
      "source": [
        "### Google Colab authenticate\n",
        "\n",
        "# Required for accessing Colab Secrets\n",
        "#auth.authenticate_user()\n"
      ],
      "metadata": {
        "id": "cFalQQ0Agl_8"
      },
      "execution_count": 3,
      "outputs": []
    },
    {
      "cell_type": "code",
      "source": [
        "### Hugging Face authenticate\n",
        "\n",
        "os.environ[\"HF_TOKEN\"] = userdata.get(\"HF_TOKEN\")    # Store the key in os.environ\n",
        "hf_token               = os.environ.get('HF_TOKEN')\n",
        "login(token=hf_token)\n",
        "\n",
        "# Verify\n",
        "!huggingface-cli whoami\n"
      ],
      "metadata": {
        "id": "1ZZ-tVIaGdqI",
        "colab": {
          "base_uri": "https://localhost:8080/"
        },
        "outputId": "882da2e6-b9a0-4271-ee48-11d274ae03d0"
      },
      "execution_count": 4,
      "outputs": [
        {
          "output_type": "stream",
          "name": "stderr",
          "text": [
            "Note: Environment variable`HF_TOKEN` is set and is the current active token independently from the token you've just configured.\n",
            "WARNING:huggingface_hub._login:Note: Environment variable`HF_TOKEN` is set and is the current active token independently from the token you've just configured.\n"
          ]
        },
        {
          "output_type": "stream",
          "name": "stdout",
          "text": [
            "claudelepere\n"
          ]
        }
      ]
    },
    {
      "cell_type": "code",
      "source": [
        "### Create the skill_classification repo on the Hugging Face Hub\n",
        "\n",
        "HF_name         = \"claudelepere/skill_classification\"\n",
        "repo_id_model   = HF_name\n",
        "repo_id_dataset = HF_name\n",
        "\n",
        "repo_model_url = create_repo(\n",
        "    repo_id   = repo_id_model,\n",
        "    repo_type = \"model\",\n",
        "    private   = True,\n",
        "    exist_ok  = True\n",
        "    )\n",
        "print(f\"Repo model url: {repo_model_url} created successfully as a private repo.\")\n",
        "\n",
        "repo_dataset_url = create_repo(\n",
        "    repo_id   = repo_id_dataset,\n",
        "    repo_type = \"dataset\",\n",
        "    private   = True,\n",
        "    exist_ok  = True\n",
        "    )\n",
        "print(f\"Repo datasets url: {repo_dataset_url} created successfully as a private repo.\")\n",
        "\n",
        "repo_id_dataset = f\"datasets/{HF_name}\"\n",
        "\n",
        "print(f\"repo_id_model: {repo_id_model}\")\n",
        "print(f\"repo_id_dataset: {repo_id_dataset}\")\n"
      ],
      "metadata": {
        "id": "gHvQQaaK9Bzo",
        "colab": {
          "base_uri": "https://localhost:8080/"
        },
        "outputId": "97d26b8d-8657-4856-9492-b1b04e654b2a"
      },
      "execution_count": 5,
      "outputs": [
        {
          "output_type": "stream",
          "name": "stdout",
          "text": [
            "Repo model url: https://huggingface.co/claudelepere/skill_classification created successfully as a private repo.\n",
            "Repo datasets url: https://huggingface.co/datasets/claudelepere/skill_classification created successfully as a private repo.\n",
            "repo_id_model: claudelepere/skill_classification\n",
            "repo_id_dataset: datasets/claudelepere/skill_classification\n"
          ]
        }
      ]
    },
    {
      "cell_type": "code",
      "source": [
        "\n",
        "\"\"\"\n",
        "### Weights & Biases (W&B, wandb) authenticate\n",
        "\n",
        "os.environ[\"WANDB_API_KEY\"] = userdata.get(\"WANDB_API_KEY\")        # Store the key in os.environ\n",
        "wandb_api_key               = os.environ.get('WANDB_API_KEY')\n",
        "\n",
        "wandb.login(relogin=True)\n",
        "wandb.init(project=\"skill_classification\", entity=\"claudelepere\")\n",
        "\"\"\""
      ],
      "metadata": {
        "id": "o4f6l4kBhAGj",
        "colab": {
          "base_uri": "https://localhost:8080/",
          "height": 73
        },
        "outputId": "68cfebff-6393-488b-aa89-0c56a4a2c996"
      },
      "execution_count": 6,
      "outputs": [
        {
          "output_type": "execute_result",
          "data": {
            "text/plain": [
              "'\\n### Weights & Biases (W&B, wandb) authenticate\\n\\nos.environ[\"WANDB_API_KEY\"] = userdata.get(\"WANDB_API_KEY\")        # Store the key in os.environ\\nwandb_api_key               = os.environ.get(\\'WANDB_API_KEY\\')\\n\\nwandb.login(relogin=True)\\nwandb.init(project=\"skill_classification\", entity=\"claudelepere\")\\n'"
            ],
            "application/vnd.google.colaboratory.intrinsic+json": {
              "type": "string"
            }
          },
          "metadata": {},
          "execution_count": 6
        }
      ]
    },
    {
      "cell_type": "code",
      "source": [
        "\"\"\"\n",
        "wandb.finish\n",
        "time.sleep(20)\n",
        "\n",
        "try:\n",
        "  wandb.init(\n",
        "      project=\"skill_classification\",\n",
        "      entity=\"claudelepere\",\n",
        "      )\n",
        "except wandb.errors.CommError as e:\n",
        "  print(f\"CommError: {e}\")\n",
        "except Exception as e:\n",
        "  print(f\"Exception: {e}\")\n",
        "\"\"\""
      ],
      "metadata": {
        "id": "UTeaWF2SaTeL",
        "colab": {
          "base_uri": "https://localhost:8080/",
          "height": 73
        },
        "outputId": "f3dbdc90-adce-458b-b622-bcb5a36a07cf"
      },
      "execution_count": 7,
      "outputs": [
        {
          "output_type": "execute_result",
          "data": {
            "text/plain": [
              "'\\nwandb.finish\\ntime.sleep(20)\\n\\ntry:\\n  wandb.init(\\n      project=\"skill_classification\",\\n      entity=\"claudelepere\",\\n      )\\nexcept wandb.errors.CommError as e:\\n  print(f\"CommError: {e}\")\\nexcept Exception as e:\\n  print(f\"Exception: {e}\")\\n'"
            ],
            "application/vnd.google.colaboratory.intrinsic+json": {
              "type": "string"
            }
          },
          "metadata": {},
          "execution_count": 7
        }
      ]
    },
    {
      "cell_type": "markdown",
      "metadata": {
        "id": "kLB3I4FKZ5Lr"
      },
      "source": [
        "# My fine-tuning BERT (and friends) for multi-label text classification\n",
        "\n",
        "In this notebook, we are going to fine-tune BERT to predict one or more labels for a given piece of text. Note that this notebook illustrates how to fine-tune a bert-base-uncased model, but you can also fine-tune a RoBERTa, DeBERTa, DistilBERT, CANINE, ... checkpoint in the same way.\n",
        "\n",
        "All of those work in the same way: they add a **linear layer on top of the base model, which is used to produce a tensor of shape (batch_size, num_labels)**, indicating the unnormalized scores for a number of labels for every example in the batch.\n",
        "\n",
        "\n",
        "\n",
        "## Set-up environment\n",
        "\n",
        "First, we install the libraries which we'll use: HuggingFace Transformers and Datasets."
      ]
    },
    {
      "cell_type": "markdown",
      "metadata": {
        "id": "bIH9NP0MZ6-O"
      },
      "source": [
        "## Load dataset\n",
        "\n",
        "Next, let's download a multi-label text classification dataset from the [hub](https://huggingface.co/).\n",
        "\n",
        "At the time of writing, I picked a random one as follows:   \n",
        "\n",
        "* first, go to the \"datasets\" tab on huggingface.co\n",
        "* next, select the \"multi-label-classification\" tag on the left as well as the the \"1k<10k\" tag (fo find a relatively small dataset).\n",
        "\n",
        "Note that you can also easily load your local data (i.e. csv files, txt files, Parquet files, JSON, ...) as explained [here](https://huggingface.co/docs/datasets/loading.html#local-and-remote-files).\n",
        "\n"
      ]
    },
    {
      "cell_type": "raw",
      "metadata": {
        "id": "yskdGyNJFNsa"
      },
      "source": [
        "### Upload datasetHF_128_18_54.zip or datasetHF_1000_125_125.zip"
      ]
    },
    {
      "cell_type": "code",
      "execution_count": 8,
      "metadata": {
        "id": "sd1LiXGjZ420",
        "lines_to_next_cell": 2,
        "colab": {
          "base_uri": "https://localhost:8080/",
          "height": 381
        },
        "outputId": "14485e04-28c2-41ba-ab86-035847748eba"
      },
      "outputs": [
        {
          "output_type": "display_data",
          "data": {
            "text/plain": [
              "<IPython.core.display.HTML object>"
            ],
            "text/html": [
              "\n",
              "     <input type=\"file\" id=\"files-a9b93d50-2f4d-454b-a856-0d5fab5a44e2\" name=\"files[]\" multiple disabled\n",
              "        style=\"border:none\" />\n",
              "     <output id=\"result-a9b93d50-2f4d-454b-a856-0d5fab5a44e2\">\n",
              "      Upload widget is only available when the cell has been executed in the\n",
              "      current browser session. Please rerun this cell to enable.\n",
              "      </output>\n",
              "      <script>// Copyright 2017 Google LLC\n",
              "//\n",
              "// Licensed under the Apache License, Version 2.0 (the \"License\");\n",
              "// you may not use this file except in compliance with the License.\n",
              "// You may obtain a copy of the License at\n",
              "//\n",
              "//      http://www.apache.org/licenses/LICENSE-2.0\n",
              "//\n",
              "// Unless required by applicable law or agreed to in writing, software\n",
              "// distributed under the License is distributed on an \"AS IS\" BASIS,\n",
              "// WITHOUT WARRANTIES OR CONDITIONS OF ANY KIND, either express or implied.\n",
              "// See the License for the specific language governing permissions and\n",
              "// limitations under the License.\n",
              "\n",
              "/**\n",
              " * @fileoverview Helpers for google.colab Python module.\n",
              " */\n",
              "(function(scope) {\n",
              "function span(text, styleAttributes = {}) {\n",
              "  const element = document.createElement('span');\n",
              "  element.textContent = text;\n",
              "  for (const key of Object.keys(styleAttributes)) {\n",
              "    element.style[key] = styleAttributes[key];\n",
              "  }\n",
              "  return element;\n",
              "}\n",
              "\n",
              "// Max number of bytes which will be uploaded at a time.\n",
              "const MAX_PAYLOAD_SIZE = 100 * 1024;\n",
              "\n",
              "function _uploadFiles(inputId, outputId) {\n",
              "  const steps = uploadFilesStep(inputId, outputId);\n",
              "  const outputElement = document.getElementById(outputId);\n",
              "  // Cache steps on the outputElement to make it available for the next call\n",
              "  // to uploadFilesContinue from Python.\n",
              "  outputElement.steps = steps;\n",
              "\n",
              "  return _uploadFilesContinue(outputId);\n",
              "}\n",
              "\n",
              "// This is roughly an async generator (not supported in the browser yet),\n",
              "// where there are multiple asynchronous steps and the Python side is going\n",
              "// to poll for completion of each step.\n",
              "// This uses a Promise to block the python side on completion of each step,\n",
              "// then passes the result of the previous step as the input to the next step.\n",
              "function _uploadFilesContinue(outputId) {\n",
              "  const outputElement = document.getElementById(outputId);\n",
              "  const steps = outputElement.steps;\n",
              "\n",
              "  const next = steps.next(outputElement.lastPromiseValue);\n",
              "  return Promise.resolve(next.value.promise).then((value) => {\n",
              "    // Cache the last promise value to make it available to the next\n",
              "    // step of the generator.\n",
              "    outputElement.lastPromiseValue = value;\n",
              "    return next.value.response;\n",
              "  });\n",
              "}\n",
              "\n",
              "/**\n",
              " * Generator function which is called between each async step of the upload\n",
              " * process.\n",
              " * @param {string} inputId Element ID of the input file picker element.\n",
              " * @param {string} outputId Element ID of the output display.\n",
              " * @return {!Iterable<!Object>} Iterable of next steps.\n",
              " */\n",
              "function* uploadFilesStep(inputId, outputId) {\n",
              "  const inputElement = document.getElementById(inputId);\n",
              "  inputElement.disabled = false;\n",
              "\n",
              "  const outputElement = document.getElementById(outputId);\n",
              "  outputElement.innerHTML = '';\n",
              "\n",
              "  const pickedPromise = new Promise((resolve) => {\n",
              "    inputElement.addEventListener('change', (e) => {\n",
              "      resolve(e.target.files);\n",
              "    });\n",
              "  });\n",
              "\n",
              "  const cancel = document.createElement('button');\n",
              "  inputElement.parentElement.appendChild(cancel);\n",
              "  cancel.textContent = 'Cancel upload';\n",
              "  const cancelPromise = new Promise((resolve) => {\n",
              "    cancel.onclick = () => {\n",
              "      resolve(null);\n",
              "    };\n",
              "  });\n",
              "\n",
              "  // Wait for the user to pick the files.\n",
              "  const files = yield {\n",
              "    promise: Promise.race([pickedPromise, cancelPromise]),\n",
              "    response: {\n",
              "      action: 'starting',\n",
              "    }\n",
              "  };\n",
              "\n",
              "  cancel.remove();\n",
              "\n",
              "  // Disable the input element since further picks are not allowed.\n",
              "  inputElement.disabled = true;\n",
              "\n",
              "  if (!files) {\n",
              "    return {\n",
              "      response: {\n",
              "        action: 'complete',\n",
              "      }\n",
              "    };\n",
              "  }\n",
              "\n",
              "  for (const file of files) {\n",
              "    const li = document.createElement('li');\n",
              "    li.append(span(file.name, {fontWeight: 'bold'}));\n",
              "    li.append(span(\n",
              "        `(${file.type || 'n/a'}) - ${file.size} bytes, ` +\n",
              "        `last modified: ${\n",
              "            file.lastModifiedDate ? file.lastModifiedDate.toLocaleDateString() :\n",
              "                                    'n/a'} - `));\n",
              "    const percent = span('0% done');\n",
              "    li.appendChild(percent);\n",
              "\n",
              "    outputElement.appendChild(li);\n",
              "\n",
              "    const fileDataPromise = new Promise((resolve) => {\n",
              "      const reader = new FileReader();\n",
              "      reader.onload = (e) => {\n",
              "        resolve(e.target.result);\n",
              "      };\n",
              "      reader.readAsArrayBuffer(file);\n",
              "    });\n",
              "    // Wait for the data to be ready.\n",
              "    let fileData = yield {\n",
              "      promise: fileDataPromise,\n",
              "      response: {\n",
              "        action: 'continue',\n",
              "      }\n",
              "    };\n",
              "\n",
              "    // Use a chunked sending to avoid message size limits. See b/62115660.\n",
              "    let position = 0;\n",
              "    do {\n",
              "      const length = Math.min(fileData.byteLength - position, MAX_PAYLOAD_SIZE);\n",
              "      const chunk = new Uint8Array(fileData, position, length);\n",
              "      position += length;\n",
              "\n",
              "      const base64 = btoa(String.fromCharCode.apply(null, chunk));\n",
              "      yield {\n",
              "        response: {\n",
              "          action: 'append',\n",
              "          file: file.name,\n",
              "          data: base64,\n",
              "        },\n",
              "      };\n",
              "\n",
              "      let percentDone = fileData.byteLength === 0 ?\n",
              "          100 :\n",
              "          Math.round((position / fileData.byteLength) * 100);\n",
              "      percent.textContent = `${percentDone}% done`;\n",
              "\n",
              "    } while (position < fileData.byteLength);\n",
              "  }\n",
              "\n",
              "  // All done.\n",
              "  yield {\n",
              "    response: {\n",
              "      action: 'complete',\n",
              "    }\n",
              "  };\n",
              "}\n",
              "\n",
              "scope.google = scope.google || {};\n",
              "scope.google.colab = scope.google.colab || {};\n",
              "scope.google.colab._files = {\n",
              "  _uploadFiles,\n",
              "  _uploadFilesContinue,\n",
              "};\n",
              "})(self);\n",
              "</script> "
            ]
          },
          "metadata": {}
        },
        {
          "output_type": "stream",
          "name": "stdout",
          "text": [
            "Saving dataset_8910_1087_68_204.zip to dataset_8910_1087_68_204.zip\n",
            "uploaded_file_name: dataset_8910_1087_68_204.zip 1\n",
            "Archive:  dataset_8910_1087_68_204.zip\n",
            "   creating: dataset_8910_1087_68_204/\n",
            "   creating: dataset_8910_1087_68_204/test/\n",
            "   creating: dataset_8910_1087_68_204/train/\n",
            "   creating: dataset_8910_1087_68_204/validation/\n",
            "  inflating: dataset_8910_1087_68_204/dataset_dict.json  \n",
            "  inflating: dataset_8910_1087_68_204/test/data-00000-of-00001.arrow  \n",
            "  inflating: dataset_8910_1087_68_204/test/dataset_info.json  \n",
            "  inflating: dataset_8910_1087_68_204/test/state.json  \n",
            "  inflating: dataset_8910_1087_68_204/train/data-00000-of-00001.arrow  \n",
            "  inflating: dataset_8910_1087_68_204/train/dataset_info.json  \n",
            "  inflating: dataset_8910_1087_68_204/train/state.json  \n",
            "  inflating: dataset_8910_1087_68_204/validation/data-00000-of-00001.arrow  \n",
            "  inflating: dataset_8910_1087_68_204/validation/dataset_info.json  \n",
            "  inflating: dataset_8910_1087_68_204/validation/state.json  \n",
            "unzipped_file_dir_name: dataset_8910_1087_68_204\n"
          ]
        }
      ],
      "source": [
        "### Upload and unzip the dataset zip file\n",
        "\n",
        "uploaded_files     = files.upload()\n",
        "uploaded_file_name = list(uploaded_files.keys())[0]\n",
        "print(f\"uploaded_file_name: {uploaded_file_name} {len(uploaded_files)}\")\n",
        "\n",
        "!unzip {uploaded_file_name}\n",
        "\n",
        "unzipped_file_dir_name = os.path.splitext(uploaded_file_name)[0]\n",
        "print(f\"unzipped_file_dir_name: {unzipped_file_dir_name}\")\n"
      ]
    },
    {
      "cell_type": "code",
      "execution_count": 9,
      "metadata": {
        "id": "xcF4Gm8GFNsc",
        "colab": {
          "base_uri": "https://localhost:8080/"
        },
        "outputId": "896ef6ef-4c34-41be-844c-86fad9d3e002"
      },
      "outputs": [
        {
          "output_type": "stream",
          "name": "stdout",
          "text": [
            "dataset: <class 'datasets.dataset_dict.DatasetDict'> {'train': (1087, 208), 'validation': (68, 208), 'test': (204, 208)}\n",
            "DatasetDict({\n",
            "    train: Dataset({\n",
            "        features: ['id', 'text', '265', '818', '820', '312', '719', '822', '266', '314', '315', '824', '825', '826', '829', '610', '611', '612', '613', '614', '615', '616', '618', '630', '631', '633', '636', '637', '660', '661', '662', '668', '670', '672', '673', '676', '677', '678', '681', '682', '683', '178', '180', '181', '182', '693', '696', '694', '697', '699', '700', '701', '189', '190', '703', '188', '705', '698', '196', '702', '198', '199', '704', '706', '708', '203', '204', '205', '718', '206', '208', '209', '210', '720', '724', '717', '214', '726', '216', '215', '722', '754', '755', '762', '763', '764', '765', '766', '767', '769', '770', '771', '772', '773', '774', '775', '263', '777', '778', '779', '268', '267', '270', '271', '272', '273', '274', '787', '276', '277', '278', '791', '788', '785', '794', '795', '796', '284', '797', '285', '288', '289', '802', '291', '800', '293', '806', '807', '803', '297', '298', '811', '300', '812', '813', '815', '814', '817', '816', '819', '303', '302', '304', '308', '309', '310', '311', '821', '313', '823', '827', '316', '317', '318', '830', '321', '322', '320', '324', '776', '781', '782', '783', '358', '359', '275', '784', '365', '366', '367', '369', '372', '378', '379', '380', '381', '382', '384', '385', '396', '397', '398', '399', '283', '401', '402', '403', '404', '405', '793', '406', '792', '183', '410', '411', '407', '286', '798', '799', '292', '801', '804', '805', '400', '808', '809', '301', '810'],\n",
            "        num_rows: 1087\n",
            "    })\n",
            "    validation: Dataset({\n",
            "        features: ['id', 'text', '265', '818', '820', '312', '719', '822', '266', '314', '315', '824', '825', '826', '829', '610', '611', '612', '613', '614', '615', '616', '618', '630', '631', '633', '636', '637', '660', '661', '662', '668', '670', '672', '673', '676', '677', '678', '681', '682', '683', '178', '180', '181', '182', '693', '696', '694', '697', '699', '700', '701', '189', '190', '703', '188', '705', '698', '196', '702', '198', '199', '704', '706', '708', '203', '204', '205', '718', '206', '208', '209', '210', '720', '724', '717', '214', '726', '216', '215', '722', '754', '755', '762', '763', '764', '765', '766', '767', '769', '770', '771', '772', '773', '774', '775', '263', '777', '778', '779', '268', '267', '270', '271', '272', '273', '274', '787', '276', '277', '278', '791', '788', '785', '794', '795', '796', '284', '797', '285', '288', '289', '802', '291', '800', '293', '806', '807', '803', '297', '298', '811', '300', '812', '813', '815', '814', '817', '816', '819', '303', '302', '304', '308', '309', '310', '311', '821', '313', '823', '827', '316', '317', '318', '830', '321', '322', '320', '324', '776', '781', '782', '783', '358', '359', '275', '784', '365', '366', '367', '369', '372', '378', '379', '380', '381', '382', '384', '385', '396', '397', '398', '399', '283', '401', '402', '403', '404', '405', '793', '406', '792', '183', '410', '411', '407', '286', '798', '799', '292', '801', '804', '805', '400', '808', '809', '301', '810'],\n",
            "        num_rows: 68\n",
            "    })\n",
            "    test: Dataset({\n",
            "        features: ['id', 'text', '265', '818', '820', '312', '719', '822', '266', '314', '315', '824', '825', '826', '829', '610', '611', '612', '613', '614', '615', '616', '618', '630', '631', '633', '636', '637', '660', '661', '662', '668', '670', '672', '673', '676', '677', '678', '681', '682', '683', '178', '180', '181', '182', '693', '696', '694', '697', '699', '700', '701', '189', '190', '703', '188', '705', '698', '196', '702', '198', '199', '704', '706', '708', '203', '204', '205', '718', '206', '208', '209', '210', '720', '724', '717', '214', '726', '216', '215', '722', '754', '755', '762', '763', '764', '765', '766', '767', '769', '770', '771', '772', '773', '774', '775', '263', '777', '778', '779', '268', '267', '270', '271', '272', '273', '274', '787', '276', '277', '278', '791', '788', '785', '794', '795', '796', '284', '797', '285', '288', '289', '802', '291', '800', '293', '806', '807', '803', '297', '298', '811', '300', '812', '813', '815', '814', '817', '816', '819', '303', '302', '304', '308', '309', '310', '311', '821', '313', '823', '827', '316', '317', '318', '830', '321', '322', '320', '324', '776', '781', '782', '783', '358', '359', '275', '784', '365', '366', '367', '369', '372', '378', '379', '380', '381', '382', '384', '385', '396', '397', '398', '399', '283', '401', '402', '403', '404', '405', '793', '406', '792', '183', '410', '411', '407', '286', '798', '799', '292', '801', '804', '805', '400', '808', '809', '301', '810'],\n",
            "        num_rows: 204\n",
            "    })\n",
            "})\n"
          ]
        }
      ],
      "source": [
        "### Create the dataset\n",
        "\n",
        "dataset = DatasetDict.load_from_disk(unzipped_file_dir_name)\n",
        "\n",
        "print(f\"dataset: {type(dataset)} {dataset.shape}\\n{dataset}\")\n"
      ]
    },
    {
      "cell_type": "markdown",
      "metadata": {
        "id": "QCL02vQgxYTO"
      },
      "source": [
        "As we can see, the dataset contains 3 splits: one for training, one for validation and one for testing."
      ]
    },
    {
      "cell_type": "markdown",
      "metadata": {
        "id": "j5qgMAhrlql-"
      },
      "source": [
        "Let's test the first example of the training split:"
      ]
    },
    {
      "cell_type": "code",
      "execution_count": 10,
      "metadata": {
        "id": "unjuTtKUjZI3",
        "lines_to_next_cell": 2,
        "colab": {
          "base_uri": "https://localhost:8080/"
        },
        "outputId": "71e6aa7c-bfcf-4048-961a-493d706b8874"
      },
      "outputs": [
        {
          "output_type": "stream",
          "name": "stdout",
          "text": [
            "example: <class 'dict'> dict_keys(['id', 'text', '265', '818', '820', '312', '719', '822', '266', '314', '315', '824', '825', '826', '829', '610', '611', '612', '613', '614', '615', '616', '618', '630', '631', '633', '636', '637', '660', '661', '662', '668', '670', '672', '673', '676', '677', '678', '681', '682', '683', '178', '180', '181', '182', '693', '696', '694', '697', '699', '700', '701', '189', '190', '703', '188', '705', '698', '196', '702', '198', '199', '704', '706', '708', '203', '204', '205', '718', '206', '208', '209', '210', '720', '724', '717', '214', '726', '216', '215', '722', '754', '755', '762', '763', '764', '765', '766', '767', '769', '770', '771', '772', '773', '774', '775', '263', '777', '778', '779', '268', '267', '270', '271', '272', '273', '274', '787', '276', '277', '278', '791', '788', '785', '794', '795', '796', '284', '797', '285', '288', '289', '802', '291', '800', '293', '806', '807', '803', '297', '298', '811', '300', '812', '813', '815', '814', '817', '816', '819', '303', '302', '304', '308', '309', '310', '311', '821', '313', '823', '827', '316', '317', '318', '830', '321', '322', '320', '324', '776', '781', '782', '783', '358', '359', '275', '784', '365', '366', '367', '369', '372', '378', '379', '380', '381', '382', '384', '385', '396', '397', '398', '399', '283', '401', '402', '403', '404', '405', '793', '406', '792', '183', '410', '411', '407', '286', '798', '799', '292', '801', '804', '805', '400', '808', '809', '301', '810'])\n",
            "{'id': 159668, 'text': \"Desmosia - Quality Officer .NET, SQL, Testing, Test, Web Desmosia Principales tâches et responsabilités Aider à la planification et à l'estimation de l'effort global de test ; superviser l'exécution des tests conformément aux plans de test et au calendrier de déploiement approuvés ; diriger, guider et surveiller l'analyse, la conception, la mise en œuvre et l'exécution des cas de test, des procédures de test et des suites de test. Examiner les processus existants pour identifier les domaines d'amélioration et mettre en œuvre les meilleures pratiques. Contribuer à des solutions d'automatisation des tests robustes, évolutives et fiables pour améliorer l'efficacité des tests. Contribuer à la planification tactique et stratégique des futurs programmes de qualité. Inventer des solutions élégantes et éliminer les blocages. Rapports réguliers au PMO et au département qualité. Collaborer avec les équipes commerciales et techniques pour résoudre des problèmes complexes. Travailler avec les architectes informatiques et le PO pour définir et exécuter des méthodologies de test efficaces et les meilleures pratiques d'Aq afin de garantir des déploiements de haute qualité dans des délais appropriés Travailler directement sur le terrain et/ou guider l'équipe de développement, planifier et exécuter des stratégies de test et des cas de test basés sur les spécifications fonctionnelles, les histoires d'utilisateur et les critères d'acceptation. Identifier une stratégie pour établir et maintenir des environnements et du matériel d'Aq cohérents pour soutenir les tests. Mesurer les paramètres d'assurance qualité et en rendre compte régulièrement. Communiquer les informations relatives à la qualité dans l'ensemble de l'organisation. Assurer un taux d'infiltration de défauts proche de zéro dans les implémentations de production des produits logiciels. Se tenir au courant des normes industrielles liées aux processus. Qualifications Bonne connaissance et pratique de SQL Connaissance de .NET Expérience des tests de logiciels. Expérience dans les technologies de services Web (Rest/SOAP). Expérience dans l'utilisation d'outils de gestion des tests comme TFS (.NET). Connaissance des langages de script\", '265': False, '818': False, '820': False, '312': False, '719': False, '822': False, '266': False, '314': False, '315': False, '824': False, '825': False, '826': False, '829': False, '610': False, '611': False, '612': False, '613': False, '614': False, '615': False, '616': False, '618': False, '630': False, '631': False, '633': False, '636': True, '637': False, '660': False, '661': False, '662': False, '668': False, '670': False, '672': False, '673': False, '676': False, '677': False, '678': False, '681': False, '682': False, '683': False, '178': False, '180': False, '181': False, '182': True, '693': False, '696': False, '694': False, '697': False, '699': False, '700': False, '701': False, '189': False, '190': False, '703': False, '188': False, '705': False, '698': False, '196': False, '702': False, '198': False, '199': False, '704': False, '706': False, '708': False, '203': False, '204': False, '205': False, '718': False, '206': False, '208': True, '209': False, '210': False, '720': False, '724': False, '717': False, '214': False, '726': False, '216': False, '215': False, '722': False, '754': False, '755': False, '762': False, '763': False, '764': False, '765': False, '766': False, '767': False, '769': False, '770': False, '771': False, '772': False, '773': False, '774': False, '775': False, '263': False, '777': False, '778': False, '779': False, '268': False, '267': False, '270': False, '271': False, '272': False, '273': False, '274': False, '787': False, '276': False, '277': False, '278': False, '791': False, '788': False, '785': False, '794': False, '795': False, '796': False, '284': False, '797': False, '285': False, '288': False, '289': False, '802': False, '291': False, '800': False, '293': False, '806': False, '807': False, '803': False, '297': False, '298': False, '811': False, '300': False, '812': False, '813': False, '815': False, '814': False, '817': False, '816': False, '819': False, '303': False, '302': False, '304': False, '308': False, '309': False, '310': False, '311': False, '821': False, '313': False, '823': False, '827': False, '316': False, '317': False, '318': False, '830': False, '321': False, '322': False, '320': False, '324': False, '776': False, '781': False, '782': False, '783': False, '358': False, '359': False, '275': False, '784': False, '365': False, '366': False, '367': False, '369': False, '372': False, '378': False, '379': False, '380': False, '381': False, '382': False, '384': False, '385': False, '396': False, '397': False, '398': False, '399': False, '283': False, '401': False, '402': False, '403': False, '404': False, '405': False, '793': False, '406': False, '792': False, '183': False, '410': False, '411': False, '407': False, '286': False, '798': False, '799': False, '292': False, '801': False, '804': False, '805': False, '400': False, '808': False, '809': False, '301': False, '810': False}\n"
          ]
        }
      ],
      "source": [
        "example = dataset['train'][0]\n",
        "print(f\"example: {type(example)} {example.keys()}\\n{example}\")"
      ]
    },
    {
      "cell_type": "code",
      "execution_count": 11,
      "metadata": {
        "id": "-5eYNbH5FNsd",
        "colab": {
          "base_uri": "https://localhost:8080/"
        },
        "outputId": "65e7e30d-5cdc-4604-b539-e4a50225be26"
      },
      "outputs": [
        {
          "output_type": "stream",
          "name": "stdout",
          "text": [
            "labels: <class 'list'> 206\n",
            "['178', '180', '181', '182', '183', '188', '189', '190', '196', '198', '199', '203', '204', '205', '206', '208', '209', '210', '214', '215', '216', '263', '265', '266', '267', '268', '270', '271', '272', '273', '274', '275', '276', '277', '278', '283', '284', '285', '286', '288', '289', '291', '292', '293', '297', '298', '300', '301', '302', '303', '304', '308', '309', '310', '311', '312', '313', '314', '315', '316', '317', '318', '320', '321', '322', '324', '358', '359', '365', '366', '367', '369', '372', '378', '379', '380', '381', '382', '384', '385', '396', '397', '398', '399', '400', '401', '402', '403', '404', '405', '406', '407', '410', '411', '610', '611', '612', '613', '614', '615', '616', '618', '630', '631', '633', '636', '637', '660', '661', '662', '668', '670', '672', '673', '676', '677', '678', '681', '682', '683', '693', '694', '696', '697', '698', '699', '700', '701', '702', '703', '704', '705', '706', '708', '717', '718', '719', '720', '722', '724', '726', '754', '755', '762', '763', '764', '765', '766', '767', '769', '770', '771', '772', '773', '774', '775', '776', '777', '778', '779', '781', '782', '783', '784', '785', '787', '788', '791', '792', '793', '794', '795', '796', '797', '798', '799', '800', '801', '802', '803', '804', '805', '806', '807', '808', '809', '810', '811', '812', '813', '814', '815', '816', '817', '818', '819', '820', '821', '822', '823', '824', '825', '826', '827', '829', '830']\n",
            "id2label: <class 'dict'> 206\n",
            "{0: '178', 1: '180', 2: '181', 3: '182', 4: '183', 5: '188', 6: '189', 7: '190', 8: '196', 9: '198', 10: '199', 11: '203', 12: '204', 13: '205', 14: '206', 15: '208', 16: '209', 17: '210', 18: '214', 19: '215', 20: '216', 21: '263', 22: '265', 23: '266', 24: '267', 25: '268', 26: '270', 27: '271', 28: '272', 29: '273', 30: '274', 31: '275', 32: '276', 33: '277', 34: '278', 35: '283', 36: '284', 37: '285', 38: '286', 39: '288', 40: '289', 41: '291', 42: '292', 43: '293', 44: '297', 45: '298', 46: '300', 47: '301', 48: '302', 49: '303', 50: '304', 51: '308', 52: '309', 53: '310', 54: '311', 55: '312', 56: '313', 57: '314', 58: '315', 59: '316', 60: '317', 61: '318', 62: '320', 63: '321', 64: '322', 65: '324', 66: '358', 67: '359', 68: '365', 69: '366', 70: '367', 71: '369', 72: '372', 73: '378', 74: '379', 75: '380', 76: '381', 77: '382', 78: '384', 79: '385', 80: '396', 81: '397', 82: '398', 83: '399', 84: '400', 85: '401', 86: '402', 87: '403', 88: '404', 89: '405', 90: '406', 91: '407', 92: '410', 93: '411', 94: '610', 95: '611', 96: '612', 97: '613', 98: '614', 99: '615', 100: '616', 101: '618', 102: '630', 103: '631', 104: '633', 105: '636', 106: '637', 107: '660', 108: '661', 109: '662', 110: '668', 111: '670', 112: '672', 113: '673', 114: '676', 115: '677', 116: '678', 117: '681', 118: '682', 119: '683', 120: '693', 121: '694', 122: '696', 123: '697', 124: '698', 125: '699', 126: '700', 127: '701', 128: '702', 129: '703', 130: '704', 131: '705', 132: '706', 133: '708', 134: '717', 135: '718', 136: '719', 137: '720', 138: '722', 139: '724', 140: '726', 141: '754', 142: '755', 143: '762', 144: '763', 145: '764', 146: '765', 147: '766', 148: '767', 149: '769', 150: '770', 151: '771', 152: '772', 153: '773', 154: '774', 155: '775', 156: '776', 157: '777', 158: '778', 159: '779', 160: '781', 161: '782', 162: '783', 163: '784', 164: '785', 165: '787', 166: '788', 167: '791', 168: '792', 169: '793', 170: '794', 171: '795', 172: '796', 173: '797', 174: '798', 175: '799', 176: '800', 177: '801', 178: '802', 179: '803', 180: '804', 181: '805', 182: '806', 183: '807', 184: '808', 185: '809', 186: '810', 187: '811', 188: '812', 189: '813', 190: '814', 191: '815', 192: '816', 193: '817', 194: '818', 195: '819', 196: '820', 197: '821', 198: '822', 199: '823', 200: '824', 201: '825', 202: '826', 203: '827', 204: '829', 205: '830'}\n",
            "label2id: <class 'dict'> 206\n",
            "{'178': 0, '180': 1, '181': 2, '182': 3, '183': 4, '188': 5, '189': 6, '190': 7, '196': 8, '198': 9, '199': 10, '203': 11, '204': 12, '205': 13, '206': 14, '208': 15, '209': 16, '210': 17, '214': 18, '215': 19, '216': 20, '263': 21, '265': 22, '266': 23, '267': 24, '268': 25, '270': 26, '271': 27, '272': 28, '273': 29, '274': 30, '275': 31, '276': 32, '277': 33, '278': 34, '283': 35, '284': 36, '285': 37, '286': 38, '288': 39, '289': 40, '291': 41, '292': 42, '293': 43, '297': 44, '298': 45, '300': 46, '301': 47, '302': 48, '303': 49, '304': 50, '308': 51, '309': 52, '310': 53, '311': 54, '312': 55, '313': 56, '314': 57, '315': 58, '316': 59, '317': 60, '318': 61, '320': 62, '321': 63, '322': 64, '324': 65, '358': 66, '359': 67, '365': 68, '366': 69, '367': 70, '369': 71, '372': 72, '378': 73, '379': 74, '380': 75, '381': 76, '382': 77, '384': 78, '385': 79, '396': 80, '397': 81, '398': 82, '399': 83, '400': 84, '401': 85, '402': 86, '403': 87, '404': 88, '405': 89, '406': 90, '407': 91, '410': 92, '411': 93, '610': 94, '611': 95, '612': 96, '613': 97, '614': 98, '615': 99, '616': 100, '618': 101, '630': 102, '631': 103, '633': 104, '636': 105, '637': 106, '660': 107, '661': 108, '662': 109, '668': 110, '670': 111, '672': 112, '673': 113, '676': 114, '677': 115, '678': 116, '681': 117, '682': 118, '683': 119, '693': 120, '694': 121, '696': 122, '697': 123, '698': 124, '699': 125, '700': 126, '701': 127, '702': 128, '703': 129, '704': 130, '705': 131, '706': 132, '708': 133, '717': 134, '718': 135, '719': 136, '720': 137, '722': 138, '724': 139, '726': 140, '754': 141, '755': 142, '762': 143, '763': 144, '764': 145, '765': 146, '766': 147, '767': 148, '769': 149, '770': 150, '771': 151, '772': 152, '773': 153, '774': 154, '775': 155, '776': 156, '777': 157, '778': 158, '779': 159, '781': 160, '782': 161, '783': 162, '784': 163, '785': 164, '787': 165, '788': 166, '791': 167, '792': 168, '793': 169, '794': 170, '795': 171, '796': 172, '797': 173, '798': 174, '799': 175, '800': 176, '801': 177, '802': 178, '803': 179, '804': 180, '805': 181, '806': 182, '807': 183, '808': 184, '809': 185, '810': 186, '811': 187, '812': 188, '813': 189, '814': 190, '815': 191, '816': 192, '817': 193, '818': 194, '819': 195, '820': 196, '821': 197, '822': 198, '823': 199, '824': 200, '825': 201, '826': 202, '827': 203, '829': 204, '830': 205}\n"
          ]
        }
      ],
      "source": [
        "### Create the label list and the id2label and label2id mappings.\n",
        "\n",
        "\"\"\"\n",
        "labels\n",
        "    if dataset 7_1000_125_125  , 48 labels\n",
        "    if dataset 7_128_18_54     , 42 labels\n",
        "    if dataset 8910_1087_68_204, 206 labels\n",
        "\"\"\"\n",
        "\n",
        "labels = [label for label in dataset['train'].features.keys() if label not in ['id', 'text']]\n",
        "labels.sort()\n",
        "print(f\"labels: {type(labels)} {len(labels)}\\n{labels}\")\n",
        "\n",
        "id2label = {idx:label for idx, label in enumerate(labels)}\n",
        "print(f\"id2label: {type(id2label)} {len(id2label)}\\n{id2label}\")\n",
        "\n",
        "label2id = {label:idx for idx, label in enumerate(labels)}\n",
        "print(f\"label2id: {type(label2id)} {len(label2id)}\\n{label2id}\")\n"
      ]
    },
    {
      "cell_type": "markdown",
      "metadata": {
        "id": "fdkFBRCcl5dU"
      },
      "source": [
        "The dataset consists of texts, labeled with one or more skills.\n",
        "\n",
        "Let's create a list that contains the labels, as well as 2 dictionaries that map labels to integers and back."
      ]
    },
    {
      "cell_type": "code",
      "execution_count": 12,
      "metadata": {
        "id": "mGtb9Op-FNsf",
        "colab": {
          "base_uri": "https://localhost:8080/"
        },
        "outputId": "610f8564-cea9-4106-d722-77f260432cc1"
      },
      "outputs": [
        {
          "output_type": "stream",
          "name": "stdout",
          "text": [
            "labels saved to labels.json\n"
          ]
        },
        {
          "output_type": "stream",
          "name": "stderr",
          "text": [
            "No files have been modified since last commit. Skipping to prevent empty commit.\n",
            "WARNING:huggingface_hub.hf_api:No files have been modified since last commit. Skipping to prevent empty commit.\n"
          ]
        },
        {
          "output_type": "stream",
          "name": "stdout",
          "text": [
            "labels uploaded to https://huggingface.co/datasets/claudelepere/skill_classification/tree/main/labels.json\n"
          ]
        }
      ],
      "source": [
        "### Upload the label list as a JSON file to the HF repo_id_dataset\n",
        "\n",
        "labels_path = \"labels.json\"\n",
        "with open(labels_path, 'w') as f:\n",
        "    json.dump(labels, f)\n",
        "print(f\"labels saved to {labels_path}\")\n",
        "\n",
        "\n",
        "upload_file(\n",
        "    path_or_fileobj = labels_path,\n",
        "    path_in_repo    = labels_path,\n",
        "    repo_id         = HF_name,\n",
        "    repo_type       = \"dataset\"\n",
        "    )\n",
        "print(f\"labels uploaded to https://huggingface.co/datasets/{HF_name}/tree/main/{labels_path}\")\n",
        "\n"
      ]
    },
    {
      "cell_type": "markdown",
      "metadata": {
        "id": "nJ3Teyjmank2"
      },
      "source": [
        "## Preprocess data\n",
        "\n",
        "As models like BERT don't expect text as direct input, but rather **`input_ids`**, etc., we tokenize the text using the tokenizer. Here I'm using the `AutoTokenizer` API, which will automatically load the appropriate tokenizer based on the checkpoint on the hub.\n",
        "\n",
        "What's a bit tricky is that we also need to provide labels to the model. For multi-label text classification, this is a **matrix of shape (batch_size, num_labels)**. Also important: this should be a tensor of floats rather than integers, otherwise PyTorch' **BCEWithLogitsLoss** (which the model will use) will complain, as explained [here](https://discuss.pytorch.org/t/multi-label-binary-classification-result-type-float-cant-be-cast-to-the-desired-output-type-long/117915/3)."
      ]
    },
    {
      "cell_type": "markdown",
      "metadata": {
        "id": "IJCqsGCLFNsg"
      },
      "source": [
        "### Preprocess (examples, not example, because batched=True => examples is a batch)"
      ]
    },
    {
      "cell_type": "code",
      "execution_count": 13,
      "metadata": {
        "lines_to_next_cell": 1,
        "id": "guGi7K-DFNsg",
        "colab": {
          "base_uri": "https://localhost:8080/",
          "height": 145,
          "referenced_widgets": [
            "f48dd61a71c04bb8b263e911d69a5117",
            "9ea8348b08b848d69b6dbbf727a77fdb",
            "626501bb18dd4d819591f98c51672c1e",
            "42927a3382d84a588dd33df6377e4c16",
            "fe2092e71eaa499583068e845c9b7f73",
            "0c59808b1a7643f1aefe7b9bbd9e9ecd",
            "85a57bae24394e5ba5c8fbf0e33c9cde",
            "334648f9b7e14d4fa3f4293c65e2085c",
            "54fd81c39d16411281eee5b3f5c790ad",
            "06c39e35b202479aba902b92e7fd92c3",
            "8235369d681945259d8852d143f714a9",
            "2d31f0152158482390d3e32d5b6d9202",
            "6734fef8062545139e3adec81d93006a",
            "0cb3fcd80276460fa0fd98b2f9169d90",
            "66764ca2feca4705816be8d808d8a2be",
            "146e538d12024d26bb2dcb7fda8ef9c4",
            "ace97e57429441629605e96add4dc4fb",
            "0be84d0bcf8a425a9529246d9c220776",
            "9df6b3cdc7484b398d7fc290d2a071bd",
            "a472bfd3807a4b4b83a1d7c50b378aa9",
            "d160004da4da4f908d1082acd0d907b8",
            "5f8082da2ff348e4a045346a4bbcb53f",
            "93933bebe73e40e39fe92d7143db802d",
            "70bfbc4c696b4dcf8da7f953419a073d",
            "721579f558cb4d789ebe981614640100",
            "7e98cfe0028846a5b9f9078f40824ef2",
            "6e65cdc610824e508baeada7d3b9a265",
            "6dc662a93efc47b1ad202f223c83936b",
            "90d200228a594a8f974083528e735e81",
            "33d729752f354ba8b9f9d0b7f5db5b41",
            "31efbdbd5a074b60a85c685ea03c3461",
            "ae081c9e671848b6b998573bdd46758c",
            "cda262808ac946d49602581ba7cfd7be",
            "382417b2c1bb4d9d8a648a68ce41b629",
            "2e06a74ee7294155beca97d147c500c7",
            "0a8083d5731a44e7bccb21bff564909c",
            "0afe8ee8103a4cc5b01d1fdd52e5eca1",
            "0487e8e81b23494cbacfdb2b1670b6bb",
            "1d6ac45899f141389ca4224d63b4ed04",
            "c147e6be93ce4b939e0f7989c68cf05d",
            "7f4dab0a8fb84fbda56f4575a32fbaa2",
            "37e297770a0f4b4cb38ce735ef8810b0",
            "18fd4bfd41ba495da2aaeef5d6eb20d0",
            "f5206e8398574b808efd312ac30c7a69"
          ]
        },
        "outputId": "c93c5770-af25-43f6-c6b7-721b3ed4d5e7"
      },
      "outputs": [
        {
          "output_type": "display_data",
          "data": {
            "text/plain": [
              "tokenizer_config.json:   0%|          | 0.00/48.0 [00:00<?, ?B/s]"
            ],
            "application/vnd.jupyter.widget-view+json": {
              "version_major": 2,
              "version_minor": 0,
              "model_id": "f48dd61a71c04bb8b263e911d69a5117"
            }
          },
          "metadata": {}
        },
        {
          "output_type": "display_data",
          "data": {
            "text/plain": [
              "config.json:   0%|          | 0.00/570 [00:00<?, ?B/s]"
            ],
            "application/vnd.jupyter.widget-view+json": {
              "version_major": 2,
              "version_minor": 0,
              "model_id": "2d31f0152158482390d3e32d5b6d9202"
            }
          },
          "metadata": {}
        },
        {
          "output_type": "display_data",
          "data": {
            "text/plain": [
              "vocab.txt:   0%|          | 0.00/232k [00:00<?, ?B/s]"
            ],
            "application/vnd.jupyter.widget-view+json": {
              "version_major": 2,
              "version_minor": 0,
              "model_id": "93933bebe73e40e39fe92d7143db802d"
            }
          },
          "metadata": {}
        },
        {
          "output_type": "display_data",
          "data": {
            "text/plain": [
              "tokenizer.json:   0%|          | 0.00/466k [00:00<?, ?B/s]"
            ],
            "application/vnd.jupyter.widget-view+json": {
              "version_major": 2,
              "version_minor": 0,
              "model_id": "382417b2c1bb4d9d8a648a68ce41b629"
            }
          },
          "metadata": {}
        }
      ],
      "source": [
        "### Tokenize 'text'\n",
        "\n",
        "tokenizer = AutoTokenizer.from_pretrained(\"bert-base-uncased\")"
      ]
    },
    {
      "cell_type": "code",
      "execution_count": 14,
      "metadata": {
        "id": "AFWlSsbZaRLc"
      },
      "outputs": [],
      "source": [
        "def preprocess_data(examples, indices):\n",
        "  text = examples['text']    # Batch of texts\n",
        "\n",
        "  encoding = tokenizer(\n",
        "      text,                             # Tokenize text\n",
        "      truncation     = True,\n",
        "      padding        = 'max_length',\n",
        "      max_length     = 512,\n",
        "      return_tensors = 'pt'             # Return PyTorch tensors\n",
        "      )\n",
        "\n",
        "  # Create an empty label matrix\n",
        "  labels_matrix = torch.zeros((len(text), len(labels)), dtype=torch.float32)\n",
        "  #print(f\"labels_matrix: {type(labels_matrix)} {labels_matrix.shape}\")\n",
        "\n",
        "  # Populate label matrix\n",
        "  for idx, label in enumerate(labels):\n",
        "    #print(f\"idx:{idx} label:{label}\")\n",
        "    if label in examples:\n",
        "      labels_matrix[:, idx] = torch.tensor(\n",
        "          [1.0 if val else 0.0 for val in examples[label]],\n",
        "          dtype=torch.float32\n",
        "          )\n",
        "  #print(f\"labels_matrix: {type(labels_matrix)} {labels_matrix.shape}\")\n",
        "\n",
        "  # Add labels to the encoding\n",
        "  encoding['labels'] = labels_matrix\n",
        "  #print(f\"encoding['labels']: {encoding['labels']}\")\n",
        "\n",
        "  return encoding\n"
      ]
    },
    {
      "cell_type": "code",
      "execution_count": 15,
      "metadata": {
        "id": "kuft8rJe2Q03",
        "colab": {
          "base_uri": "https://localhost:8080/",
          "height": 113,
          "referenced_widgets": [
            "23b8e5101b4949608b5b6d738b952ffc",
            "eda4c41976bd4632b87d5c2ba73a5d45",
            "daa3b7c81b16441b99f5da3d6fd77ee8",
            "91908d6f82a243779983760f42ba6f62",
            "de9401c36f404aa28dc99332c19bfefe",
            "3f71db91501a4a158b5fb4f074ca9b76",
            "c1af15f9303c42d190ffffea295f0a33",
            "7b34ae2972f34ec8ac3ffff7a3779e2a",
            "7f2372551bd04b1296b62a8227ae30e0",
            "1d88853c54374817bc6d936170570208",
            "d4d365fd2434421aaf9665e267232849",
            "c59635fed5ff453f82b6e8a0116f2c1a",
            "7a21d8cdf8b94df7a2c4a73e78f9d3bf",
            "cd63a89cee984df1889742444a33c559",
            "4211bf32514043aa8ad8f5f8b5e99a77",
            "0cade1a8a5f3439ba08ad5585a590467",
            "905b0097a7704b37bb73f103f76a8637",
            "a05fbe1e0353422fb11bb52780122254",
            "f5d1f1c844294df085c8acb2934187db",
            "23fd987e9aae49ce9543d06963eb3886",
            "f15e46a2519549619748fc26b3ebeb9e",
            "846a19d3143745fba1cf14ab46a5280b",
            "ac280643144b4e53bf6139d86d4fb875",
            "287c3bfe81dc49709d839e572abc25e9",
            "bd007812158343219e51693329cc3f13",
            "1067da25dc7048d3b7d48c505efe138e",
            "077f08d521af48b18d078d978d17cb4e",
            "03f77ab598184d2d93a478c01afd8210",
            "2c963a36f88542de92d210e638f90530",
            "491f3d058b4c481ba7a1fbfdb7ef1640",
            "1786579046da4246a3f4feda8854638c",
            "59d28da7ff6c4ea0a15367cb09a3c527",
            "8be75f849f024e09a189a74de26fe6d9"
          ]
        },
        "outputId": "5d506ccf-4ff0-4f87-c681-92a4e82f62c1"
      },
      "outputs": [
        {
          "output_type": "display_data",
          "data": {
            "text/plain": [
              "Map:   0%|          | 0/1087 [00:00<?, ? examples/s]"
            ],
            "application/vnd.jupyter.widget-view+json": {
              "version_major": 2,
              "version_minor": 0,
              "model_id": "23b8e5101b4949608b5b6d738b952ffc"
            }
          },
          "metadata": {}
        },
        {
          "output_type": "display_data",
          "data": {
            "text/plain": [
              "Map:   0%|          | 0/68 [00:00<?, ? examples/s]"
            ],
            "application/vnd.jupyter.widget-view+json": {
              "version_major": 2,
              "version_minor": 0,
              "model_id": "c59635fed5ff453f82b6e8a0116f2c1a"
            }
          },
          "metadata": {}
        },
        {
          "output_type": "display_data",
          "data": {
            "text/plain": [
              "Map:   0%|          | 0/204 [00:00<?, ? examples/s]"
            ],
            "application/vnd.jupyter.widget-view+json": {
              "version_major": 2,
              "version_minor": 0,
              "model_id": "ac280643144b4e53bf6139d86d4fb875"
            }
          },
          "metadata": {}
        }
      ],
      "source": [
        "### Create the encoded dataset\n",
        "\n",
        "encoded_dataset = dataset.map(\n",
        "    preprocess_data,\n",
        "    batched        = True,\n",
        "    remove_columns = dataset['train'].column_names,\n",
        "    with_indices   = True\n",
        "    )"
      ]
    },
    {
      "cell_type": "code",
      "execution_count": 16,
      "metadata": {
        "id": "0enAb0W9o25W",
        "lines_to_next_cell": 2,
        "colab": {
          "base_uri": "https://localhost:8080/"
        },
        "outputId": "87118408-0900-4566-b945-23adba06504d"
      },
      "outputs": [
        {
          "output_type": "stream",
          "name": "stdout",
          "text": [
            "example: <class 'dict'> dict_keys(['input_ids', 'token_type_ids', 'attention_mask', 'labels'])\n",
            "{'input_ids': [101, 4078, 15530, 2401, 1011, 3737, 2961, 1012, 5658, 1010, 29296, 1010, 5604, 1010, 3231, 1010, 4773, 4078, 15530, 2401, 4054, 2229, 11937, 8376, 3802, 24501, 26029, 3736, 14454, 7616, 14895, 2099, 1037, 2474, 2933, 9031, 3802, 1037, 1048, 1005, 24155, 2139, 1048, 1005, 3947, 3795, 2139, 3231, 1025, 28589, 2099, 1048, 1005, 7781, 4078, 5852, 23758, 13665, 19554, 3488, 2139, 3231, 3802, 8740, 21854, 4859, 16252, 2139, 2139, 24759, 10448, 13665, 10439, 22494, 6961, 1025, 16101, 17071, 1010, 5009, 2099, 3802, 7505, 3726, 10484, 2099, 1048, 1005, 20302, 23274, 1010, 2474, 13120, 1010, 2474, 28616, 2063, 4372, 1107, 2226, 12229, 3802, 1048, 1005, 7781, 4078, 25222, 2139, 3231, 1010, 4078, 8853, 2139, 3231, 3802, 4078, 19796, 2139, 3231, 1012, 19684, 4649, 2832, 2271, 4839, 11390, 10364, 8909, 4765, 18095, 4649, 5884, 2229, 1040, 1005, 2572, 20806, 21223, 3802, 2777, 7913, 4372, 1107, 2226, 12229, 4649, 19734, 6216, 14900, 10975, 10450, 10997, 1012, 9530, 18886, 8569, 2121, 1037, 4078, 7300, 1040, 1005, 8285, 18900, 6648, 4078, 5852, 15873, 2229, 1010, 23408, 4747, 28546, 2015, 3802, 19807, 13510, 10364, 2572, 20806, 5686, 2099, 1048, 1005, 1041, 26989, 3540, 17847, 4078, 5852, 1012, 9530, 18886, 8569, 2121, 1037, 2474, 2933, 9031, 11937, 6593, 7413, 3802, 2358, 11657, 5856, 4226, 4078, 11865, 20689, 2015, 8497, 2139, 24209, 11475, 2618, 1012, 1999, 15338, 2121, 4078, 7300, 11552, 2229, 3802, 12005, 11233, 2099, 4649, 15984, 13923, 1012, 9680, 25378, 19723, 15859, 2545, 8740, 7610, 2080, 3802, 8740, 18280, 13665, 24209, 11475, 2618, 1012, 8902, 20470, 5686, 2099, 13642, 2278, 4649, 1041, 15549, 10374, 3293, 2229, 3802, 5461, 10364, 24501, 19224, 2890, 4078, 3291, 2229, 15420, 1012, 19817, 12462, 10484, 2099, 13642, 2278, 4649, 4944, 2229, 12367, 10450, 10997, 3802, 3393, 13433, 10364, 13366, 5498, 2099, 3802, 15389, 2099, 4078, 4118, 20792, 2139, 3231, 1041, 26989, 3540, 9623, 3802, 4649, 19734, 6216, 14900, 10975, 10450, 10997, 1040, 1005, 1037, 4160, 28697, 2078, 2139, 11721, 17884, 4313, 4078, 2139, 24759, 10448, 13665, 2015, 2139, 18535, 24209, 11475, 2618, 18033, 4078, 3972, 15593, 10439, 18981, 5134, 19817, 12462, 10484, 2099, 3622, 13665, 7505, 3393, 9291, 3802, 1013, 15068, 5009, 2099, 1048, 1005, 1041, 15549, 5051, 2139, 4503, 5051, 3672, 1010, 2933, 18095, 3802, 15389, 2099, 4078, 9942, 2139, 3231, 3802, 4078, 25222, 2139, 3231, 7888, 7505, 4649, 15480, 1042, 2239, 7542, 9091, 2229, 1010, 4649, 20088, 2015, 1040, 1005, 21183, 24411, 3686, 3126, 3802, 4649, 13675, 21646, 2229, 1040, 1005, 5138, 3370, 1012, 8909, 4765, 18095, 16655, 2358, 11657, 11239, 10364, 27859, 16558, 4313, 3802, 2364, 6528, 4313, 4078, 4372, 21663, 18256, 8163, 3802, 4241, 16289, 9257, 1040, 1005, 1037, 4160, 18920, 2015, 10364, 2061, 10421, 29339, 4649, 5852, 1012, 2033, 28632, 2099, 4649, 11498, 11368, 6072, 1040, 1005, 16375, 24209, 11475, 2618, 3802, 4372, 14916, 16200, 4012, 13876, 2063, 19723, 15859, 7869, 3672, 1012, 4012, 23041, 7413, 2099, 4649, 2592, 2015, 9064, 1037, 2474, 24209, 11475, 2618, 18033, 1048, 1005, 7241, 2139, 1048, 1005, 5502, 1012, 14306, 2099, 4895, 19982, 2595, 1040, 1005, 1999, 28674, 2139, 13366, 4887, 3215, 4013, 5403, 2139, 5717, 18033, 4649, 24977, 2139, 2537, 102], 'token_type_ids': [0, 0, 0, 0, 0, 0, 0, 0, 0, 0, 0, 0, 0, 0, 0, 0, 0, 0, 0, 0, 0, 0, 0, 0, 0, 0, 0, 0, 0, 0, 0, 0, 0, 0, 0, 0, 0, 0, 0, 0, 0, 0, 0, 0, 0, 0, 0, 0, 0, 0, 0, 0, 0, 0, 0, 0, 0, 0, 0, 0, 0, 0, 0, 0, 0, 0, 0, 0, 0, 0, 0, 0, 0, 0, 0, 0, 0, 0, 0, 0, 0, 0, 0, 0, 0, 0, 0, 0, 0, 0, 0, 0, 0, 0, 0, 0, 0, 0, 0, 0, 0, 0, 0, 0, 0, 0, 0, 0, 0, 0, 0, 0, 0, 0, 0, 0, 0, 0, 0, 0, 0, 0, 0, 0, 0, 0, 0, 0, 0, 0, 0, 0, 0, 0, 0, 0, 0, 0, 0, 0, 0, 0, 0, 0, 0, 0, 0, 0, 0, 0, 0, 0, 0, 0, 0, 0, 0, 0, 0, 0, 0, 0, 0, 0, 0, 0, 0, 0, 0, 0, 0, 0, 0, 0, 0, 0, 0, 0, 0, 0, 0, 0, 0, 0, 0, 0, 0, 0, 0, 0, 0, 0, 0, 0, 0, 0, 0, 0, 0, 0, 0, 0, 0, 0, 0, 0, 0, 0, 0, 0, 0, 0, 0, 0, 0, 0, 0, 0, 0, 0, 0, 0, 0, 0, 0, 0, 0, 0, 0, 0, 0, 0, 0, 0, 0, 0, 0, 0, 0, 0, 0, 0, 0, 0, 0, 0, 0, 0, 0, 0, 0, 0, 0, 0, 0, 0, 0, 0, 0, 0, 0, 0, 0, 0, 0, 0, 0, 0, 0, 0, 0, 0, 0, 0, 0, 0, 0, 0, 0, 0, 0, 0, 0, 0, 0, 0, 0, 0, 0, 0, 0, 0, 0, 0, 0, 0, 0, 0, 0, 0, 0, 0, 0, 0, 0, 0, 0, 0, 0, 0, 0, 0, 0, 0, 0, 0, 0, 0, 0, 0, 0, 0, 0, 0, 0, 0, 0, 0, 0, 0, 0, 0, 0, 0, 0, 0, 0, 0, 0, 0, 0, 0, 0, 0, 0, 0, 0, 0, 0, 0, 0, 0, 0, 0, 0, 0, 0, 0, 0, 0, 0, 0, 0, 0, 0, 0, 0, 0, 0, 0, 0, 0, 0, 0, 0, 0, 0, 0, 0, 0, 0, 0, 0, 0, 0, 0, 0, 0, 0, 0, 0, 0, 0, 0, 0, 0, 0, 0, 0, 0, 0, 0, 0, 0, 0, 0, 0, 0, 0, 0, 0, 0, 0, 0, 0, 0, 0, 0, 0, 0, 0, 0, 0, 0, 0, 0, 0, 0, 0, 0, 0, 0, 0, 0, 0, 0, 0, 0, 0, 0, 0, 0, 0, 0, 0, 0, 0, 0, 0, 0, 0, 0, 0, 0, 0, 0, 0, 0, 0, 0, 0, 0, 0, 0, 0, 0, 0, 0, 0, 0, 0, 0, 0, 0, 0, 0, 0, 0, 0, 0, 0, 0, 0, 0, 0, 0, 0, 0, 0, 0, 0, 0, 0, 0, 0, 0, 0, 0, 0, 0, 0, 0, 0, 0, 0, 0, 0, 0, 0, 0, 0, 0], 'attention_mask': [1, 1, 1, 1, 1, 1, 1, 1, 1, 1, 1, 1, 1, 1, 1, 1, 1, 1, 1, 1, 1, 1, 1, 1, 1, 1, 1, 1, 1, 1, 1, 1, 1, 1, 1, 1, 1, 1, 1, 1, 1, 1, 1, 1, 1, 1, 1, 1, 1, 1, 1, 1, 1, 1, 1, 1, 1, 1, 1, 1, 1, 1, 1, 1, 1, 1, 1, 1, 1, 1, 1, 1, 1, 1, 1, 1, 1, 1, 1, 1, 1, 1, 1, 1, 1, 1, 1, 1, 1, 1, 1, 1, 1, 1, 1, 1, 1, 1, 1, 1, 1, 1, 1, 1, 1, 1, 1, 1, 1, 1, 1, 1, 1, 1, 1, 1, 1, 1, 1, 1, 1, 1, 1, 1, 1, 1, 1, 1, 1, 1, 1, 1, 1, 1, 1, 1, 1, 1, 1, 1, 1, 1, 1, 1, 1, 1, 1, 1, 1, 1, 1, 1, 1, 1, 1, 1, 1, 1, 1, 1, 1, 1, 1, 1, 1, 1, 1, 1, 1, 1, 1, 1, 1, 1, 1, 1, 1, 1, 1, 1, 1, 1, 1, 1, 1, 1, 1, 1, 1, 1, 1, 1, 1, 1, 1, 1, 1, 1, 1, 1, 1, 1, 1, 1, 1, 1, 1, 1, 1, 1, 1, 1, 1, 1, 1, 1, 1, 1, 1, 1, 1, 1, 1, 1, 1, 1, 1, 1, 1, 1, 1, 1, 1, 1, 1, 1, 1, 1, 1, 1, 1, 1, 1, 1, 1, 1, 1, 1, 1, 1, 1, 1, 1, 1, 1, 1, 1, 1, 1, 1, 1, 1, 1, 1, 1, 1, 1, 1, 1, 1, 1, 1, 1, 1, 1, 1, 1, 1, 1, 1, 1, 1, 1, 1, 1, 1, 1, 1, 1, 1, 1, 1, 1, 1, 1, 1, 1, 1, 1, 1, 1, 1, 1, 1, 1, 1, 1, 1, 1, 1, 1, 1, 1, 1, 1, 1, 1, 1, 1, 1, 1, 1, 1, 1, 1, 1, 1, 1, 1, 1, 1, 1, 1, 1, 1, 1, 1, 1, 1, 1, 1, 1, 1, 1, 1, 1, 1, 1, 1, 1, 1, 1, 1, 1, 1, 1, 1, 1, 1, 1, 1, 1, 1, 1, 1, 1, 1, 1, 1, 1, 1, 1, 1, 1, 1, 1, 1, 1, 1, 1, 1, 1, 1, 1, 1, 1, 1, 1, 1, 1, 1, 1, 1, 1, 1, 1, 1, 1, 1, 1, 1, 1, 1, 1, 1, 1, 1, 1, 1, 1, 1, 1, 1, 1, 1, 1, 1, 1, 1, 1, 1, 1, 1, 1, 1, 1, 1, 1, 1, 1, 1, 1, 1, 1, 1, 1, 1, 1, 1, 1, 1, 1, 1, 1, 1, 1, 1, 1, 1, 1, 1, 1, 1, 1, 1, 1, 1, 1, 1, 1, 1, 1, 1, 1, 1, 1, 1, 1, 1, 1, 1, 1, 1, 1, 1, 1, 1, 1, 1, 1, 1, 1, 1, 1, 1, 1, 1, 1, 1, 1, 1, 1, 1, 1, 1, 1, 1, 1, 1, 1, 1, 1, 1, 1, 1, 1, 1, 1, 1, 1, 1, 1], 'labels': [0.0, 0.0, 0.0, 1.0, 0.0, 0.0, 0.0, 0.0, 0.0, 0.0, 0.0, 0.0, 0.0, 0.0, 0.0, 1.0, 0.0, 0.0, 0.0, 0.0, 0.0, 0.0, 0.0, 0.0, 0.0, 0.0, 0.0, 0.0, 0.0, 0.0, 0.0, 0.0, 0.0, 0.0, 0.0, 0.0, 0.0, 0.0, 0.0, 0.0, 0.0, 0.0, 0.0, 0.0, 0.0, 0.0, 0.0, 0.0, 0.0, 0.0, 0.0, 0.0, 0.0, 0.0, 0.0, 0.0, 0.0, 0.0, 0.0, 0.0, 0.0, 0.0, 0.0, 0.0, 0.0, 0.0, 0.0, 0.0, 0.0, 0.0, 0.0, 0.0, 0.0, 0.0, 0.0, 0.0, 0.0, 0.0, 0.0, 0.0, 0.0, 0.0, 0.0, 0.0, 0.0, 0.0, 0.0, 0.0, 0.0, 0.0, 0.0, 0.0, 0.0, 0.0, 0.0, 0.0, 0.0, 0.0, 0.0, 0.0, 0.0, 0.0, 0.0, 0.0, 0.0, 1.0, 0.0, 0.0, 0.0, 0.0, 0.0, 0.0, 0.0, 0.0, 0.0, 0.0, 0.0, 0.0, 0.0, 0.0, 0.0, 0.0, 0.0, 0.0, 0.0, 0.0, 0.0, 0.0, 0.0, 0.0, 0.0, 0.0, 0.0, 0.0, 0.0, 0.0, 0.0, 0.0, 0.0, 0.0, 0.0, 0.0, 0.0, 0.0, 0.0, 0.0, 0.0, 0.0, 0.0, 0.0, 0.0, 0.0, 0.0, 0.0, 0.0, 0.0, 0.0, 0.0, 0.0, 0.0, 0.0, 0.0, 0.0, 0.0, 0.0, 0.0, 0.0, 0.0, 0.0, 0.0, 0.0, 0.0, 0.0, 0.0, 0.0, 0.0, 0.0, 0.0, 0.0, 0.0, 0.0, 0.0, 0.0, 0.0, 0.0, 0.0, 0.0, 0.0, 0.0, 0.0, 0.0, 0.0, 0.0, 0.0, 0.0, 0.0, 0.0, 0.0, 0.0, 0.0, 0.0, 0.0, 0.0, 0.0, 0.0, 0.0]}\n",
            "\n",
            "example['input_ids']: <class 'list'> 512\n",
            "[101, 4078, 15530, 2401, 1011, 3737, 2961, 1012, 5658, 1010, 29296, 1010, 5604, 1010, 3231, 1010, 4773, 4078, 15530, 2401, 4054, 2229, 11937, 8376, 3802, 24501, 26029, 3736, 14454, 7616, 14895, 2099, 1037, 2474, 2933, 9031, 3802, 1037, 1048, 1005, 24155, 2139, 1048, 1005, 3947, 3795, 2139, 3231, 1025, 28589, 2099, 1048, 1005, 7781, 4078, 5852, 23758, 13665, 19554, 3488, 2139, 3231, 3802, 8740, 21854, 4859, 16252, 2139, 2139, 24759, 10448, 13665, 10439, 22494, 6961, 1025, 16101, 17071, 1010, 5009, 2099, 3802, 7505, 3726, 10484, 2099, 1048, 1005, 20302, 23274, 1010, 2474, 13120, 1010, 2474, 28616, 2063, 4372, 1107, 2226, 12229, 3802, 1048, 1005, 7781, 4078, 25222, 2139, 3231, 1010, 4078, 8853, 2139, 3231, 3802, 4078, 19796, 2139, 3231, 1012, 19684, 4649, 2832, 2271, 4839, 11390, 10364, 8909, 4765, 18095, 4649, 5884, 2229, 1040, 1005, 2572, 20806, 21223, 3802, 2777, 7913, 4372, 1107, 2226, 12229, 4649, 19734, 6216, 14900, 10975, 10450, 10997, 1012, 9530, 18886, 8569, 2121, 1037, 4078, 7300, 1040, 1005, 8285, 18900, 6648, 4078, 5852, 15873, 2229, 1010, 23408, 4747, 28546, 2015, 3802, 19807, 13510, 10364, 2572, 20806, 5686, 2099, 1048, 1005, 1041, 26989, 3540, 17847, 4078, 5852, 1012, 9530, 18886, 8569, 2121, 1037, 2474, 2933, 9031, 11937, 6593, 7413, 3802, 2358, 11657, 5856, 4226, 4078, 11865, 20689, 2015, 8497, 2139, 24209, 11475, 2618, 1012, 1999, 15338, 2121, 4078, 7300, 11552, 2229, 3802, 12005, 11233, 2099, 4649, 15984, 13923, 1012, 9680, 25378, 19723, 15859, 2545, 8740, 7610, 2080, 3802, 8740, 18280, 13665, 24209, 11475, 2618, 1012, 8902, 20470, 5686, 2099, 13642, 2278, 4649, 1041, 15549, 10374, 3293, 2229, 3802, 5461, 10364, 24501, 19224, 2890, 4078, 3291, 2229, 15420, 1012, 19817, 12462, 10484, 2099, 13642, 2278, 4649, 4944, 2229, 12367, 10450, 10997, 3802, 3393, 13433, 10364, 13366, 5498, 2099, 3802, 15389, 2099, 4078, 4118, 20792, 2139, 3231, 1041, 26989, 3540, 9623, 3802, 4649, 19734, 6216, 14900, 10975, 10450, 10997, 1040, 1005, 1037, 4160, 28697, 2078, 2139, 11721, 17884, 4313, 4078, 2139, 24759, 10448, 13665, 2015, 2139, 18535, 24209, 11475, 2618, 18033, 4078, 3972, 15593, 10439, 18981, 5134, 19817, 12462, 10484, 2099, 3622, 13665, 7505, 3393, 9291, 3802, 1013, 15068, 5009, 2099, 1048, 1005, 1041, 15549, 5051, 2139, 4503, 5051, 3672, 1010, 2933, 18095, 3802, 15389, 2099, 4078, 9942, 2139, 3231, 3802, 4078, 25222, 2139, 3231, 7888, 7505, 4649, 15480, 1042, 2239, 7542, 9091, 2229, 1010, 4649, 20088, 2015, 1040, 1005, 21183, 24411, 3686, 3126, 3802, 4649, 13675, 21646, 2229, 1040, 1005, 5138, 3370, 1012, 8909, 4765, 18095, 16655, 2358, 11657, 11239, 10364, 27859, 16558, 4313, 3802, 2364, 6528, 4313, 4078, 4372, 21663, 18256, 8163, 3802, 4241, 16289, 9257, 1040, 1005, 1037, 4160, 18920, 2015, 10364, 2061, 10421, 29339, 4649, 5852, 1012, 2033, 28632, 2099, 4649, 11498, 11368, 6072, 1040, 1005, 16375, 24209, 11475, 2618, 3802, 4372, 14916, 16200, 4012, 13876, 2063, 19723, 15859, 7869, 3672, 1012, 4012, 23041, 7413, 2099, 4649, 2592, 2015, 9064, 1037, 2474, 24209, 11475, 2618, 18033, 1048, 1005, 7241, 2139, 1048, 1005, 5502, 1012, 14306, 2099, 4895, 19982, 2595, 1040, 1005, 1999, 28674, 2139, 13366, 4887, 3215, 4013, 5403, 2139, 5717, 18033, 4649, 24977, 2139, 2537, 102]\n",
            "example['token_type_ids']: <class 'list'> 512\n",
            "[0, 0, 0, 0, 0, 0, 0, 0, 0, 0, 0, 0, 0, 0, 0, 0, 0, 0, 0, 0, 0, 0, 0, 0, 0, 0, 0, 0, 0, 0, 0, 0, 0, 0, 0, 0, 0, 0, 0, 0, 0, 0, 0, 0, 0, 0, 0, 0, 0, 0, 0, 0, 0, 0, 0, 0, 0, 0, 0, 0, 0, 0, 0, 0, 0, 0, 0, 0, 0, 0, 0, 0, 0, 0, 0, 0, 0, 0, 0, 0, 0, 0, 0, 0, 0, 0, 0, 0, 0, 0, 0, 0, 0, 0, 0, 0, 0, 0, 0, 0, 0, 0, 0, 0, 0, 0, 0, 0, 0, 0, 0, 0, 0, 0, 0, 0, 0, 0, 0, 0, 0, 0, 0, 0, 0, 0, 0, 0, 0, 0, 0, 0, 0, 0, 0, 0, 0, 0, 0, 0, 0, 0, 0, 0, 0, 0, 0, 0, 0, 0, 0, 0, 0, 0, 0, 0, 0, 0, 0, 0, 0, 0, 0, 0, 0, 0, 0, 0, 0, 0, 0, 0, 0, 0, 0, 0, 0, 0, 0, 0, 0, 0, 0, 0, 0, 0, 0, 0, 0, 0, 0, 0, 0, 0, 0, 0, 0, 0, 0, 0, 0, 0, 0, 0, 0, 0, 0, 0, 0, 0, 0, 0, 0, 0, 0, 0, 0, 0, 0, 0, 0, 0, 0, 0, 0, 0, 0, 0, 0, 0, 0, 0, 0, 0, 0, 0, 0, 0, 0, 0, 0, 0, 0, 0, 0, 0, 0, 0, 0, 0, 0, 0, 0, 0, 0, 0, 0, 0, 0, 0, 0, 0, 0, 0, 0, 0, 0, 0, 0, 0, 0, 0, 0, 0, 0, 0, 0, 0, 0, 0, 0, 0, 0, 0, 0, 0, 0, 0, 0, 0, 0, 0, 0, 0, 0, 0, 0, 0, 0, 0, 0, 0, 0, 0, 0, 0, 0, 0, 0, 0, 0, 0, 0, 0, 0, 0, 0, 0, 0, 0, 0, 0, 0, 0, 0, 0, 0, 0, 0, 0, 0, 0, 0, 0, 0, 0, 0, 0, 0, 0, 0, 0, 0, 0, 0, 0, 0, 0, 0, 0, 0, 0, 0, 0, 0, 0, 0, 0, 0, 0, 0, 0, 0, 0, 0, 0, 0, 0, 0, 0, 0, 0, 0, 0, 0, 0, 0, 0, 0, 0, 0, 0, 0, 0, 0, 0, 0, 0, 0, 0, 0, 0, 0, 0, 0, 0, 0, 0, 0, 0, 0, 0, 0, 0, 0, 0, 0, 0, 0, 0, 0, 0, 0, 0, 0, 0, 0, 0, 0, 0, 0, 0, 0, 0, 0, 0, 0, 0, 0, 0, 0, 0, 0, 0, 0, 0, 0, 0, 0, 0, 0, 0, 0, 0, 0, 0, 0, 0, 0, 0, 0, 0, 0, 0, 0, 0, 0, 0, 0, 0, 0, 0, 0, 0, 0, 0, 0, 0, 0, 0, 0, 0, 0, 0, 0, 0, 0, 0, 0, 0, 0, 0, 0, 0, 0, 0, 0, 0, 0, 0, 0, 0, 0, 0, 0, 0, 0, 0, 0, 0, 0, 0, 0, 0, 0, 0, 0, 0, 0, 0, 0, 0]\n",
            "example['attention_mask']: <class 'list'> 512\n",
            "[1, 1, 1, 1, 1, 1, 1, 1, 1, 1, 1, 1, 1, 1, 1, 1, 1, 1, 1, 1, 1, 1, 1, 1, 1, 1, 1, 1, 1, 1, 1, 1, 1, 1, 1, 1, 1, 1, 1, 1, 1, 1, 1, 1, 1, 1, 1, 1, 1, 1, 1, 1, 1, 1, 1, 1, 1, 1, 1, 1, 1, 1, 1, 1, 1, 1, 1, 1, 1, 1, 1, 1, 1, 1, 1, 1, 1, 1, 1, 1, 1, 1, 1, 1, 1, 1, 1, 1, 1, 1, 1, 1, 1, 1, 1, 1, 1, 1, 1, 1, 1, 1, 1, 1, 1, 1, 1, 1, 1, 1, 1, 1, 1, 1, 1, 1, 1, 1, 1, 1, 1, 1, 1, 1, 1, 1, 1, 1, 1, 1, 1, 1, 1, 1, 1, 1, 1, 1, 1, 1, 1, 1, 1, 1, 1, 1, 1, 1, 1, 1, 1, 1, 1, 1, 1, 1, 1, 1, 1, 1, 1, 1, 1, 1, 1, 1, 1, 1, 1, 1, 1, 1, 1, 1, 1, 1, 1, 1, 1, 1, 1, 1, 1, 1, 1, 1, 1, 1, 1, 1, 1, 1, 1, 1, 1, 1, 1, 1, 1, 1, 1, 1, 1, 1, 1, 1, 1, 1, 1, 1, 1, 1, 1, 1, 1, 1, 1, 1, 1, 1, 1, 1, 1, 1, 1, 1, 1, 1, 1, 1, 1, 1, 1, 1, 1, 1, 1, 1, 1, 1, 1, 1, 1, 1, 1, 1, 1, 1, 1, 1, 1, 1, 1, 1, 1, 1, 1, 1, 1, 1, 1, 1, 1, 1, 1, 1, 1, 1, 1, 1, 1, 1, 1, 1, 1, 1, 1, 1, 1, 1, 1, 1, 1, 1, 1, 1, 1, 1, 1, 1, 1, 1, 1, 1, 1, 1, 1, 1, 1, 1, 1, 1, 1, 1, 1, 1, 1, 1, 1, 1, 1, 1, 1, 1, 1, 1, 1, 1, 1, 1, 1, 1, 1, 1, 1, 1, 1, 1, 1, 1, 1, 1, 1, 1, 1, 1, 1, 1, 1, 1, 1, 1, 1, 1, 1, 1, 1, 1, 1, 1, 1, 1, 1, 1, 1, 1, 1, 1, 1, 1, 1, 1, 1, 1, 1, 1, 1, 1, 1, 1, 1, 1, 1, 1, 1, 1, 1, 1, 1, 1, 1, 1, 1, 1, 1, 1, 1, 1, 1, 1, 1, 1, 1, 1, 1, 1, 1, 1, 1, 1, 1, 1, 1, 1, 1, 1, 1, 1, 1, 1, 1, 1, 1, 1, 1, 1, 1, 1, 1, 1, 1, 1, 1, 1, 1, 1, 1, 1, 1, 1, 1, 1, 1, 1, 1, 1, 1, 1, 1, 1, 1, 1, 1, 1, 1, 1, 1, 1, 1, 1, 1, 1, 1, 1, 1, 1, 1, 1, 1, 1, 1, 1, 1, 1, 1, 1, 1, 1, 1, 1, 1, 1, 1, 1, 1, 1, 1, 1, 1, 1, 1, 1, 1, 1, 1, 1, 1, 1, 1, 1, 1, 1, 1, 1, 1, 1, 1, 1, 1, 1, 1, 1, 1, 1, 1, 1, 1, 1, 1, 1, 1, 1]\n",
            "example['labels']:  <class 'list'> 206\n",
            "[0.0, 0.0, 0.0, 1.0, 0.0, 0.0, 0.0, 0.0, 0.0, 0.0, 0.0, 0.0, 0.0, 0.0, 0.0, 1.0, 0.0, 0.0, 0.0, 0.0, 0.0, 0.0, 0.0, 0.0, 0.0, 0.0, 0.0, 0.0, 0.0, 0.0, 0.0, 0.0, 0.0, 0.0, 0.0, 0.0, 0.0, 0.0, 0.0, 0.0, 0.0, 0.0, 0.0, 0.0, 0.0, 0.0, 0.0, 0.0, 0.0, 0.0, 0.0, 0.0, 0.0, 0.0, 0.0, 0.0, 0.0, 0.0, 0.0, 0.0, 0.0, 0.0, 0.0, 0.0, 0.0, 0.0, 0.0, 0.0, 0.0, 0.0, 0.0, 0.0, 0.0, 0.0, 0.0, 0.0, 0.0, 0.0, 0.0, 0.0, 0.0, 0.0, 0.0, 0.0, 0.0, 0.0, 0.0, 0.0, 0.0, 0.0, 0.0, 0.0, 0.0, 0.0, 0.0, 0.0, 0.0, 0.0, 0.0, 0.0, 0.0, 0.0, 0.0, 0.0, 0.0, 1.0, 0.0, 0.0, 0.0, 0.0, 0.0, 0.0, 0.0, 0.0, 0.0, 0.0, 0.0, 0.0, 0.0, 0.0, 0.0, 0.0, 0.0, 0.0, 0.0, 0.0, 0.0, 0.0, 0.0, 0.0, 0.0, 0.0, 0.0, 0.0, 0.0, 0.0, 0.0, 0.0, 0.0, 0.0, 0.0, 0.0, 0.0, 0.0, 0.0, 0.0, 0.0, 0.0, 0.0, 0.0, 0.0, 0.0, 0.0, 0.0, 0.0, 0.0, 0.0, 0.0, 0.0, 0.0, 0.0, 0.0, 0.0, 0.0, 0.0, 0.0, 0.0, 0.0, 0.0, 0.0, 0.0, 0.0, 0.0, 0.0, 0.0, 0.0, 0.0, 0.0, 0.0, 0.0, 0.0, 0.0, 0.0, 0.0, 0.0, 0.0, 0.0, 0.0, 0.0, 0.0, 0.0, 0.0, 0.0, 0.0, 0.0, 0.0, 0.0, 0.0, 0.0, 0.0, 0.0, 0.0, 0.0, 0.0, 0.0, 0.0]\n"
          ]
        }
      ],
      "source": [
        "example = encoded_dataset['train'][0]\n",
        "print(f\"example: {type(example)} {example.keys()}\\n{example}\")\n",
        "\n",
        "print()\n",
        "\n",
        "print(f\"example['input_ids']: {type(example['input_ids'])} {len(example['input_ids'])}\\n{example['input_ids']}\")\n",
        "print(f\"example['token_type_ids']: {type(example['token_type_ids'])} {len(example['token_type_ids'])}\\n{example['token_type_ids']}\")\n",
        "print(f\"example['attention_mask']: {type(example['attention_mask'])} {len(example['attention_mask'])}\\n{example['attention_mask']}\")\n",
        "print(f\"example['labels']:  {type(example['labels'])} {len(example['labels'])}\\n{example['labels']}\")\n"
      ]
    },
    {
      "cell_type": "code",
      "execution_count": 17,
      "metadata": {
        "id": "D0McCtJ8HRJY",
        "lines_to_next_cell": 2,
        "colab": {
          "base_uri": "https://localhost:8080/",
          "height": 181
        },
        "outputId": "7c05b036-7015-47ac-aa32-bd8bded5bd18"
      },
      "outputs": [
        {
          "output_type": "execute_result",
          "data": {
            "text/plain": [
              "\"[CLS] desmosia - quality officer. net, sql, testing, test, web desmosia principales taches et responsabilites aider a la planification et a l ' estimation de l ' effort global de test ; superviser l ' execution des tests conformement aux plans de test et au calendrier de deploiement approuves ; diriger, guider et surveiller l ' analyse, la conception, la mise en œuvre et l ' execution des cas de test, des procedures de test et des suites de test. examiner les processus existants pour identifier les domaines d ' amelioration et mettre en œuvre les meilleures pratiques. contribuer a des solutions d ' automatisation des tests robustes, evolutives et fiables pour ameliorer l ' efficacite des tests. contribuer a la planification tactique et strategique des futurs programmes de qualite. inventer des solutions elegantes et eliminer les blocages. rapports reguliers au pmo et au departement qualite. collaborer avec les equipes commerciales et techniques pour resoudre des problemes complexes. travailler avec les architectes informatiques et le po pour definir et executer des methodologies de test efficaces et les meilleures pratiques d ' aq afin de garantir des deploiements de haute qualite dans des delais appropries travailler directement sur le terrain et / ou guider l ' equipe de developpement, planifier et executer des strategies de test et des cas de test bases sur les specifications fonctionnelles, les histoires d ' utilisateur et les criteres d ' acceptation. identifier une strategie pour etablir et maintenir des environnements et du materiel d ' aq coherents pour soutenir les tests. mesurer les parametres d ' assurance qualite et en rendre compte regulierement. communiquer les informations relatives a la qualite dans l ' ensemble de l ' organisation. assurer un taux d ' infiltration de defauts proche de zero dans les implementations de production [SEP]\""
            ],
            "application/vnd.google.colaboratory.intrinsic+json": {
              "type": "string"
            }
          },
          "metadata": {},
          "execution_count": 17
        }
      ],
      "source": [
        "tokenizer.decode(example['input_ids'])"
      ]
    },
    {
      "cell_type": "code",
      "execution_count": 18,
      "metadata": {
        "id": "6LAyThO7Jnvj",
        "lines_to_next_cell": 2,
        "colab": {
          "base_uri": "https://localhost:8080/"
        },
        "outputId": "61f09cc8-f10c-429d-cef8-c2dd2693eddb"
      },
      "outputs": [
        {
          "output_type": "execute_result",
          "data": {
            "text/plain": [
              "['182', '208', '636']"
            ]
          },
          "metadata": {},
          "execution_count": 18
        }
      ],
      "source": [
        "[id2label[idx] for idx, label in enumerate(example['labels']) if label == 1.0]"
      ]
    },
    {
      "cell_type": "markdown",
      "metadata": {
        "id": "HgpKXDfvKBxn"
      },
      "source": [
        "Finally, we set the format of our data to PyTorch tensors. This will turn the training, validation and test sets into standard PyTorch [datasets](https://pytorch.org/docs/stable/data.html)."
      ]
    },
    {
      "cell_type": "code",
      "execution_count": 19,
      "metadata": {
        "id": "i4ENBTdulBEI",
        "lines_to_next_cell": 2
      },
      "outputs": [],
      "source": [
        "encoded_dataset.set_format(\"torch\")    # Ensures correctness and compatibility with PyTorch pipelines"
      ]
    },
    {
      "cell_type": "markdown",
      "metadata": {
        "id": "w5qSmCgWefWs"
      },
      "source": [
        "## Define model\n",
        "\n",
        "Here we define a **model that includes a pre-trained base (i.e. the weights from bert-base-uncased) are loaded, with a random initialized classification head (linear layer) on top**. One should fine-tune this head, together with the pre-trained base on a labeled dataset.\n",
        "\n",
        "This is also printed by the warning.\n",
        "\n",
        "We set the `problem_type` to be \"multi_label_classification\", as this will make sure the appropriate loss function is used (namely [**BCEWithLogitsLoss**](https://pytorch.org/docs/stable/generated/torch.nn.BCEWithLogitsLoss.html)). We also make sure the output layer has `len(labels)` output neurons, and we set the id2label and label2id mappings."
      ]
    },
    {
      "cell_type": "code",
      "execution_count": 20,
      "metadata": {
        "id": "6XPL1Z_RegBF",
        "lines_to_next_cell": 2,
        "colab": {
          "base_uri": "https://localhost:8080/",
          "height": 105,
          "referenced_widgets": [
            "cac0887e02444462b371db564cca125e",
            "77774e94bd174a03b57489ce54169c15",
            "194e58c46d1d4c978ffb193db17f46f0",
            "8a61081d8d2c4b14ad37338149542122",
            "f7ba07657499462cb5f62d93c157ac5b",
            "d4799e9de68e4e0b881f4a52cdf2df58",
            "cd5693385f194abf957eef5c0ae8f964",
            "4b14c39ef708450c84597377e3ff279d",
            "86e6f76985b74fd587e5a98a93b9baee",
            "0bc797fef9eb443aa32ed26c53039784",
            "23aece1e1675456080deb35fb85d7570"
          ]
        },
        "outputId": "3ddd0e32-e86c-46a6-e407-2f66195dcf81"
      },
      "outputs": [
        {
          "output_type": "display_data",
          "data": {
            "text/plain": [
              "model.safetensors:   0%|          | 0.00/440M [00:00<?, ?B/s]"
            ],
            "application/vnd.jupyter.widget-view+json": {
              "version_major": 2,
              "version_minor": 0,
              "model_id": "cac0887e02444462b371db564cca125e"
            }
          },
          "metadata": {}
        },
        {
          "output_type": "stream",
          "name": "stderr",
          "text": [
            "Some weights of BertForSequenceClassification were not initialized from the model checkpoint at bert-base-uncased and are newly initialized: ['classifier.bias', 'classifier.weight']\n",
            "You should probably TRAIN this model on a down-stream task to be able to use it for predictions and inference.\n"
          ]
        }
      ],
      "source": [
        "### Define the model\n",
        "\n",
        "model = AutoModelForSequenceClassification.from_pretrained(\n",
        "    \"bert-base-uncased\",\n",
        "    problem_type=\"multi_label_classification\",\n",
        "    num_labels=len(labels),\n",
        "    id2label=id2label,\n",
        "    label2id=label2id\n",
        "    )"
      ]
    },
    {
      "cell_type": "markdown",
      "metadata": {
        "id": "mjJGEXShp7te"
      },
      "source": [
        "## Train the model!\n",
        "\n",
        "We are going to train the model using HuggingFace's Trainer API. This requires us to define 2 things:\n",
        "\n",
        "* `TrainingArguments`, which specify training hyperparameters. All options can be found in the [docs](https://huggingface.co/transformers/main_classes/trainer.html#trainingarguments). Below, we for example specify that we want to evaluate after every epoch of training, we would like to save the model every epoch, we set the learning rate, the batch size to use for training/evaluation, how many epochs to train for, and so on.\n",
        "* a `Trainer` object (docs can be found [here](https://huggingface.co/transformers/main_classes/trainer.html#id1))."
      ]
    },
    {
      "cell_type": "code",
      "execution_count": 21,
      "metadata": {
        "id": "K5a8_vIKqr7P"
      },
      "outputs": [],
      "source": [
        "batch_size  = 8\n",
        "metric_name = \"f1\""
      ]
    },
    {
      "cell_type": "markdown",
      "metadata": {
        "id": "a3s32t3tFNsi"
      },
      "source": [
        "### TrainingArguments"
      ]
    },
    {
      "cell_type": "code",
      "execution_count": 22,
      "metadata": {
        "id": "dR2GmpvDqbuZ",
        "lines_to_next_cell": 2
      },
      "outputs": [],
      "source": [
        "output_dir = \"training_results\"  # where model predictions and checkpoints will be written during training\n",
        "args = TrainingArguments(\n",
        "    output_dir                  = output_dir,\n",
        "    overwrite_output_dir        = True,\n",
        "    logging_dir                 = \"logs\",\n",
        "    logging_steps               = 50,\n",
        "    save_steps                  = 500,\n",
        "    save_total_limit            = 2,\n",
        "    eval_strategy               = \"epoch\",\n",
        "    save_strategy               = \"epoch\",\n",
        "    learning_rate               = 2e-5,\n",
        "    per_device_train_batch_size = batch_size,\n",
        "    per_device_eval_batch_size  = batch_size,\n",
        "    num_train_epochs            = 5,\n",
        "    weight_decay                = 0.01,\n",
        "    load_best_model_at_end      = True,\n",
        "    metric_for_best_model       = metric_name,\n",
        "    #push_to_hub                 = True,             # push the model to the HF Hub\n",
        "    run_name                   = \"BERT-multilabel-lr2e5-epochs5-datasetHF_128_18_54\",\n",
        "    report_to                  = \"none\" #\"wandb\"\n",
        "    )"
      ]
    },
    {
      "cell_type": "markdown",
      "metadata": {
        "id": "1_v2fPFFJ3-v"
      },
      "source": [
        "We are also going to compute metrics while training. For this, we need to define a `compute_metrics` function, that returns a dictionary with the desired metric values."
      ]
    },
    {
      "cell_type": "code",
      "execution_count": 23,
      "metadata": {
        "lines_to_next_cell": 1,
        "id": "7LaQCQoJFNsi"
      },
      "outputs": [],
      "source": [
        "### Metrics\n",
        "\n",
        "# source: https://jesusleal.io/2021/04/21/Longformer-multilabel-classification/\n",
        "def multi_label_metrics(predictions, labels, threshold=0.2):\n",
        "    _average = 'micro'    # 'micro' or 'weighted'\n",
        "\n",
        "    # first, apply sigmoid on predictions which are of shape (batch_size, num_labels)\n",
        "    sigmoid = torch.nn.Sigmoid()\n",
        "    probs   = sigmoid(torch.Tensor(predictions))\n",
        "\n",
        "    # next, use threshold to turn them into integer predictions\n",
        "    y_pred = np.zeros(probs.shape)\n",
        "    y_pred[np.where(probs >= threshold)] = 1\n",
        "\n",
        "    # finally, compute metrics\n",
        "    y_true               = labels\n",
        "    f1                   = f1_score               (y_true=y_true, y_pred=y_pred, average=_average)    #, zero_division=1)\n",
        "    precision            = precision_score        (y_true=y_true, y_pred=y_pred, average=_average)    #, zero_division=1)\n",
        "    recall               = recall_score           (y_true=y_true, y_pred=y_pred, average=_average)    #, zero_division=1)\n",
        "    roc_auc              = roc_auc_score          (y_true=y_true, y_score=probs, average=_average)\n",
        "    precision_recall_auc = average_precision_score(y_true=y_true, y_score=probs, average=_average)\n",
        "    accuracy             = accuracy_score         (y_true=y_true, y_pred=y_pred)\n",
        "\n",
        "    # return as dictionary\n",
        "    metrics = {\n",
        "        'f1'                  : f1,\n",
        "        'precision'           : precision,\n",
        "        'recall'              : recall,\n",
        "        'roc_auc'             : roc_auc,\n",
        "        'precision_recall_auc': precision_recall_auc,\n",
        "        'accuracy'            : accuracy\n",
        "        }\n",
        "\n",
        "    return metrics\n"
      ]
    },
    {
      "cell_type": "code",
      "execution_count": 24,
      "metadata": {
        "id": "797b2WHJqUgZ"
      },
      "outputs": [],
      "source": [
        "def compute_metrics(p: EvalPrediction):\n",
        "    preds = p.predictions[0] if isinstance(p.predictions, tuple) else p.predictions\n",
        "    result = multi_label_metrics(\n",
        "        predictions = preds,\n",
        "        labels      = p.label_ids\n",
        "        )\n",
        "    return result\n"
      ]
    },
    {
      "cell_type": "markdown",
      "metadata": {
        "id": "fxNo4_TsvzDm"
      },
      "source": [
        "Let's verify a batch as well as a forward pass:"
      ]
    },
    {
      "cell_type": "code",
      "execution_count": 25,
      "metadata": {
        "id": "adTwB7XvFNsj",
        "colab": {
          "base_uri": "https://localhost:8080/"
        },
        "outputId": "7d878db2-ce14-4fb4-d434-29d04a88efff"
      },
      "outputs": [
        {
          "output_type": "stream",
          "name": "stdout",
          "text": [
            "inputids:        <class 'torch.Tensor'>      torch.Size([512])\n",
            "token_type_ids': <class 'torch.Tensor'> torch.Size([512])\n",
            "attention_mask:  <class 'torch.Tensor'> torch.Size([512])\n",
            "labels:          <class 'torch.Tensor'>         torch.Size([206])\n"
          ]
        }
      ],
      "source": [
        "print(f\"inputids:        {type(encoded_dataset['train']['input_ids'][0])}      {encoded_dataset['train']['input_ids'][0].shape}\")\n",
        "print(f\"token_type_ids': {type(encoded_dataset['train']['token_type_ids'][0])} {encoded_dataset['train']['token_type_ids'][0].shape}\")\n",
        "print(f\"attention_mask:  {type(encoded_dataset['train']['attention_mask'][0])} {encoded_dataset['train']['attention_mask'][0].shape}\")\n",
        "print(f\"labels:          {type(encoded_dataset['train'][0]['labels'])}         {encoded_dataset['train'][0]['labels'].shape}\")"
      ]
    },
    {
      "cell_type": "code",
      "execution_count": 26,
      "metadata": {
        "id": "sxWcnZ8ku12V",
        "lines_to_next_cell": 2,
        "colab": {
          "base_uri": "https://localhost:8080/"
        },
        "outputId": "69136987-ae94-4cfd-bfe7-1cc4dd2e9ef5"
      },
      "outputs": [
        {
          "output_type": "stream",
          "name": "stdout",
          "text": [
            "outputs: <class 'transformers.modeling_outputs.SequenceClassifierOutput'> odict_keys(['loss', 'logits'])\n",
            "SequenceClassifierOutput(loss=tensor(0.7156, grad_fn=<BinaryCrossEntropyWithLogitsBackward0>), logits=tensor([[-2.0777e-01,  4.8046e-01,  4.3335e-02,  1.4716e-01,  5.8410e-01,\n",
            "          2.4881e-01, -1.2890e-01, -2.6154e-01, -6.0586e-02,  2.5208e-01,\n",
            "         -5.2129e-01, -4.7445e-01,  3.1237e-01,  4.2213e-01, -8.1946e-02,\n",
            "         -3.5199e-01,  4.1424e-01,  1.3597e-01, -6.0092e-01, -7.7877e-01,\n",
            "          2.9667e-01,  4.9385e-02, -2.5015e-01,  5.1417e-01, -2.4235e-01,\n",
            "          1.9000e-01,  3.5877e-01,  2.5488e-01,  2.8586e-01,  3.2419e-01,\n",
            "          1.3825e-01,  2.5022e-01, -3.7708e-01,  3.4707e-02, -3.6947e-02,\n",
            "          7.5136e-02, -5.9680e-01, -2.9298e-04, -2.5920e-01, -3.5265e-01,\n",
            "         -8.5790e-02,  3.6636e-01,  3.8846e-01,  2.0418e-01, -1.7808e-02,\n",
            "          1.4121e-02,  1.8668e-01,  2.7122e-01,  7.5491e-01,  6.2560e-01,\n",
            "         -1.7345e-01,  5.2444e-01,  2.5910e-01,  3.4740e-01,  1.0211e-02,\n",
            "         -4.6816e-01, -3.2345e-03,  3.1161e-01,  1.9219e-01, -1.8248e-02,\n",
            "         -3.9231e-01,  6.1005e-01, -4.6088e-01, -4.1361e-02,  3.7224e-01,\n",
            "          1.2602e-01, -1.7247e-01,  4.5058e-01,  8.0802e-02,  9.7419e-02,\n",
            "          6.2222e-01,  4.2248e-01, -2.1240e-01, -2.9740e-01, -2.7892e-01,\n",
            "          5.3391e-02, -4.0530e-01,  1.1264e-01, -6.5873e-02, -4.3624e-01,\n",
            "          3.8100e-01, -3.4267e-02,  5.8706e-01,  8.7951e-03, -2.3577e-01,\n",
            "         -6.2043e-01, -7.8132e-02, -6.2394e-01,  4.5336e-01,  1.7481e-01,\n",
            "         -4.8356e-02,  5.1163e-01,  2.8782e-01,  1.5941e-01,  1.7978e-02,\n",
            "         -1.9224e-01,  9.2872e-01,  1.3907e-02,  1.1991e-01, -6.6071e-02,\n",
            "         -3.2543e-02, -1.9424e-02, -2.9880e-01,  3.5130e-01,  3.2226e-03,\n",
            "          1.8518e-01,  4.5509e-01, -6.1732e-01,  3.6679e-02, -4.2087e-02,\n",
            "         -3.2335e-01, -2.9772e-01,  4.4523e-01,  6.9382e-02, -2.0602e-01,\n",
            "          4.6753e-01,  1.4126e-02,  3.0127e-01, -2.6408e-02, -3.1270e-01,\n",
            "         -1.7460e-01,  1.3793e-01, -1.0863e-01, -5.3260e-01, -2.2496e-02,\n",
            "         -2.7247e-01,  1.0865e-01,  6.7301e-01, -3.6493e-01,  2.6233e-01,\n",
            "         -2.1687e-01, -5.0885e-01, -2.8128e-01,  3.2517e-01,  1.0063e-01,\n",
            "         -1.0053e-01,  3.9585e-01, -4.0262e-02,  2.0478e-01, -1.0747e-02,\n",
            "          1.0498e-01,  6.4404e-02, -4.6454e-01,  2.2503e-01, -1.9250e-01,\n",
            "         -3.7552e-01,  4.1978e-02,  1.6165e-01, -7.7126e-01,  3.8106e-01,\n",
            "         -3.2581e-01,  9.6388e-02,  6.1972e-01,  1.9471e-01, -7.4949e-03,\n",
            "         -4.3674e-01, -4.2741e-01,  1.5093e-01, -3.2797e-01, -2.4612e-01,\n",
            "         -5.4203e-01, -3.7899e-01, -2.7546e-01, -5.6649e-02,  3.5945e-01,\n",
            "          2.2711e-01,  1.3490e-01, -2.4548e-01, -2.2042e-01, -2.5647e-01,\n",
            "         -2.3499e-01, -7.7828e-02, -8.0154e-02, -1.9125e-01,  6.0551e-01,\n",
            "          4.2790e-02, -1.2157e-01, -2.8235e-01,  8.3265e-02, -1.3573e-01,\n",
            "          6.6390e-01,  3.3907e-01,  2.2539e-01, -5.8601e-02, -2.1247e-01,\n",
            "         -7.6854e-02,  2.3474e-01, -8.0877e-02,  1.4927e-01, -3.6109e-01,\n",
            "         -5.1665e-02,  3.8665e-01, -2.3769e-02, -2.8451e-01,  1.9590e-01,\n",
            "         -8.0721e-02,  4.7504e-01, -1.5915e-03,  1.4032e-01,  3.5114e-01,\n",
            "          3.0403e-01, -1.2558e-01, -1.2916e-01, -7.0741e-01,  1.4885e-01,\n",
            "          9.3269e-02]], grad_fn=<AddmmBackward0>), hidden_states=None, attentions=None)\n"
          ]
        }
      ],
      "source": [
        "### Execute the forward pass\n",
        "\n",
        "outputs = model(\n",
        "    input_ids      = encoded_dataset['train']['input_ids'][0].unsqueeze(0),\n",
        "    attention_mask = encoded_dataset['train']['attention_mask'][0].unsqueeze(0),\n",
        "    labels         = encoded_dataset['train'][0]['labels'].unsqueeze(0)\n",
        "    )\n",
        "\n",
        "print(f\"outputs: {type(outputs)} {outputs.keys()}\\n{outputs}\")\n"
      ]
    },
    {
      "cell_type": "markdown",
      "metadata": {
        "id": "f-X2brZcv0X6"
      },
      "source": [
        "Let's start training!"
      ]
    },
    {
      "cell_type": "code",
      "execution_count": 27,
      "metadata": {
        "id": "chq_3nUz73ib",
        "colab": {
          "base_uri": "https://localhost:8080/"
        },
        "outputId": "90ccb7d8-7638-43dc-81fb-9fafd5880f56"
      },
      "outputs": [
        {
          "output_type": "stream",
          "name": "stderr",
          "text": [
            "<ipython-input-27-72d5597b5b4d>:3: FutureWarning: `tokenizer` is deprecated and will be removed in version 5.0.0 for `Trainer.__init__`. Use `processing_class` instead.\n",
            "  trainer = Trainer(\n"
          ]
        }
      ],
      "source": [
        "### Create the trainer\n",
        "\n",
        "trainer = Trainer(\n",
        "    model,\n",
        "    args,\n",
        "    train_dataset=encoded_dataset[\"train\"],\n",
        "    eval_dataset=encoded_dataset[\"validation\"],\n",
        "    tokenizer=tokenizer,\n",
        "    compute_metrics=compute_metrics\n",
        "    )\n"
      ]
    },
    {
      "cell_type": "code",
      "execution_count": 28,
      "metadata": {
        "id": "KXmFds8js6P8",
        "lines_to_next_cell": 2,
        "colab": {
          "base_uri": "https://localhost:8080/",
          "height": 232
        },
        "outputId": "277f718d-3324-48ac-a616-ac1c8ea60414"
      },
      "outputs": [
        {
          "output_type": "display_data",
          "data": {
            "text/plain": [
              "<IPython.core.display.HTML object>"
            ],
            "text/html": [
              "\n",
              "    <div>\n",
              "      \n",
              "      <progress value='680' max='680' style='width:300px; height:20px; vertical-align: middle;'></progress>\n",
              "      [680/680 12:23, Epoch 5/5]\n",
              "    </div>\n",
              "    <table border=\"1\" class=\"dataframe\">\n",
              "  <thead>\n",
              " <tr style=\"text-align: left;\">\n",
              "      <th>Epoch</th>\n",
              "      <th>Training Loss</th>\n",
              "      <th>Validation Loss</th>\n",
              "      <th>F1</th>\n",
              "      <th>Precision</th>\n",
              "      <th>Recall</th>\n",
              "      <th>Roc Auc</th>\n",
              "      <th>Precision Recall Auc</th>\n",
              "      <th>Accuracy</th>\n",
              "    </tr>\n",
              "  </thead>\n",
              "  <tbody>\n",
              "    <tr>\n",
              "      <td>1</td>\n",
              "      <td>0.344400</td>\n",
              "      <td>0.211167</td>\n",
              "      <td>0.064438</td>\n",
              "      <td>0.034995</td>\n",
              "      <td>0.406130</td>\n",
              "      <td>0.631491</td>\n",
              "      <td>0.044257</td>\n",
              "      <td>0.000000</td>\n",
              "    </tr>\n",
              "    <tr>\n",
              "      <td>2</td>\n",
              "      <td>0.148300</td>\n",
              "      <td>0.126796</td>\n",
              "      <td>0.146096</td>\n",
              "      <td>0.213235</td>\n",
              "      <td>0.111111</td>\n",
              "      <td>0.737691</td>\n",
              "      <td>0.097222</td>\n",
              "      <td>0.000000</td>\n",
              "    </tr>\n",
              "    <tr>\n",
              "      <td>3</td>\n",
              "      <td>0.111400</td>\n",
              "      <td>0.105057</td>\n",
              "      <td>0.146096</td>\n",
              "      <td>0.213235</td>\n",
              "      <td>0.111111</td>\n",
              "      <td>0.776970</td>\n",
              "      <td>0.113751</td>\n",
              "      <td>0.000000</td>\n",
              "    </tr>\n",
              "    <tr>\n",
              "      <td>4</td>\n",
              "      <td>0.102800</td>\n",
              "      <td>0.097358</td>\n",
              "      <td>0.146096</td>\n",
              "      <td>0.213235</td>\n",
              "      <td>0.111111</td>\n",
              "      <td>0.797541</td>\n",
              "      <td>0.119393</td>\n",
              "      <td>0.000000</td>\n",
              "    </tr>\n",
              "    <tr>\n",
              "      <td>5</td>\n",
              "      <td>0.097100</td>\n",
              "      <td>0.095270</td>\n",
              "      <td>0.146096</td>\n",
              "      <td>0.213235</td>\n",
              "      <td>0.111111</td>\n",
              "      <td>0.802284</td>\n",
              "      <td>0.122443</td>\n",
              "      <td>0.000000</td>\n",
              "    </tr>\n",
              "  </tbody>\n",
              "</table><p>"
            ]
          },
          "metadata": {}
        }
      ],
      "source": [
        "### Train, save the results as a JSON file\n",
        "\n",
        "train_output  = trainer.train()\n",
        "\n",
        "train_results = {\n",
        "    'global_step':   train_output.global_step,    # total steps completed during training\n",
        "    'training_loss': train_output.training_loss,  # average loss during training\n",
        "    'metrics':       train_output.metrics         # dictionary of metrics\n",
        "}\n",
        "\n",
        "with open(\"train_results.json\", \"w\") as f:\n",
        "  json.dump(train_results, f, indent=4)\n"
      ]
    },
    {
      "cell_type": "markdown",
      "metadata": {
        "id": "hiloh9eMK91o"
      },
      "source": [
        "## Evaluate\n",
        "\n",
        "After training, we evaluate our model on the validation set."
      ]
    },
    {
      "cell_type": "code",
      "execution_count": 29,
      "metadata": {
        "id": "cMlebJ83LRYG",
        "colab": {
          "base_uri": "https://localhost:8080/",
          "height": 37
        },
        "outputId": "75616963-9433-401f-edc4-842feee4c135"
      },
      "outputs": [
        {
          "output_type": "display_data",
          "data": {
            "text/plain": [
              "<IPython.core.display.HTML object>"
            ],
            "text/html": [
              "\n",
              "    <div>\n",
              "      \n",
              "      <progress value='9' max='9' style='width:300px; height:20px; vertical-align: middle;'></progress>\n",
              "      [9/9 00:01]\n",
              "    </div>\n",
              "    "
            ]
          },
          "metadata": {}
        }
      ],
      "source": [
        "### Evaluate, save the output as a JSON file\n",
        "\n",
        "eval_output  = trainer.evaluate()\n",
        "\n",
        "with open(\"eval_results.json\", \"w\") as f:\n",
        "  json.dump(eval_output, f, indent=4)\n"
      ]
    },
    {
      "cell_type": "code",
      "execution_count": 30,
      "metadata": {
        "id": "NfPiHh62FNsl"
      },
      "outputs": [],
      "source": [
        "### Save the model\n",
        "\n",
        "model_path = \"model\"\n",
        "trainer.save_model(model_path)\n"
      ]
    },
    {
      "cell_type": "code",
      "execution_count": 31,
      "metadata": {
        "id": "xSAz3pspFNsm",
        "colab": {
          "base_uri": "https://localhost:8080/",
          "height": 226,
          "referenced_widgets": [
            "4c477c6b345c427ba11b067fab2022d6",
            "5cc1d5ec28cb401f8031e72ac1e61560",
            "32111d152bad449ca3a5ba4ff1581b0d",
            "1a7b2806022b4b229c3556996bb1f7b5",
            "a00fda7173094063ad5d41a1fc0b7be1",
            "26ac7e2e54d04bf4858ee11797ef004a",
            "53c5ca1085b6422f87f04ab2fc55fac1",
            "55758f8eaefa4c96b5d36f86cf7a6520",
            "f9925e72652543f9b2f2b30745c1be77",
            "7be4395432424d958dabe4c2a95379a9",
            "e8af450f4f574068b7edeae85b1686a3",
            "632c826843b041f291530aeeab5d0786",
            "0f9c6d0b4d8c464980959948cfdbded4",
            "163021f65ec34e4488ebd5c308f92e7c",
            "f0fa331ac523433d9d98cf500914502b",
            "7407dd3da68343efa867ca4d841dba94",
            "eab8790ef1af416a8a18707e485c7e8f",
            "3dabeeb100574e839836d58cefd24120",
            "84cd650e63634eb2b6919ae4e9d7747c",
            "e572c6b391094d6fb39827a96dc1a401",
            "d30de5a5b695430ca9471b59d0bd50eb",
            "b2a2b03728a3401dab8f781b69d3826c"
          ]
        },
        "outputId": "4118401a-2a1b-4ad5-8993-25633192a9a6"
      },
      "outputs": [
        {
          "output_type": "display_data",
          "data": {
            "text/plain": [
              "README.md:   0%|          | 0.00/5.17k [00:00<?, ?B/s]"
            ],
            "application/vnd.jupyter.widget-view+json": {
              "version_major": 2,
              "version_minor": 0,
              "model_id": "4c477c6b345c427ba11b067fab2022d6"
            }
          },
          "metadata": {}
        },
        {
          "output_type": "display_data",
          "data": {
            "text/plain": [
              "model.safetensors:   0%|          | 0.00/439M [00:00<?, ?B/s]"
            ],
            "application/vnd.jupyter.widget-view+json": {
              "version_major": 2,
              "version_minor": 0,
              "model_id": "632c826843b041f291530aeeab5d0786"
            }
          },
          "metadata": {}
        },
        {
          "output_type": "stream",
          "name": "stderr",
          "text": [
            "No files have been modified since last commit. Skipping to prevent empty commit.\n",
            "WARNING:huggingface_hub.hf_api:No files have been modified since last commit. Skipping to prevent empty commit.\n"
          ]
        },
        {
          "output_type": "execute_result",
          "data": {
            "text/plain": [
              "CommitInfo(commit_url='https://huggingface.co/claudelepere/skill_classification/commit/1e16b6a5bc046e858c323e03823b5c0b9e5c104a', commit_message='Upload tokenizer', commit_description='', oid='1e16b6a5bc046e858c323e03823b5c0b9e5c104a', pr_url=None, repo_url=RepoUrl('https://huggingface.co/claudelepere/skill_classification', endpoint='https://huggingface.co', repo_type='model', repo_id='claudelepere/skill_classification'), pr_revision=None, pr_num=None)"
            ],
            "application/vnd.google.colaboratory.intrinsic+json": {
              "type": "string"
            }
          },
          "metadata": {},
          "execution_count": 31
        }
      ],
      "source": [
        "### Upload the model and the tokenizer to the HF repo_id_model\n",
        "\n",
        "model     = AutoModelForSequenceClassification.from_pretrained(model_path)\n",
        "tokenizer = AutoTokenizer.from_pretrained(model_path)\n",
        "\n",
        "model.push_to_hub(repo_id_model)\n",
        "tokenizer.push_to_hub(repo_id_model)\n"
      ]
    },
    {
      "cell_type": "code",
      "source": [
        "### Upload train_results.json and eval_results.json to the HF repo_id_dataset\n",
        "\n",
        "# BETTER to upload to wanddb repo?\n",
        "\n",
        "upload_file(\n",
        "    path_or_fileobj = \"train_results.json\",\n",
        "    path_in_repo    = \"train_results.json\",\n",
        "    repo_id         = HF_name,\n",
        "    repo_type       = \"dataset\"\n",
        "    )\n",
        "\n",
        "upload_file(\n",
        "    path_or_fileobj = \"eval_results.json\",\n",
        "    path_in_repo    = \"eval_results.json\",\n",
        "    repo_id         = HF_name,\n",
        "    repo_type       = \"dataset\"\n",
        "    )\n"
      ],
      "metadata": {
        "id": "LYmURgAz4Xk-",
        "colab": {
          "base_uri": "https://localhost:8080/",
          "height": 144
        },
        "outputId": "f86de87d-a31b-4b21-9cfb-2cb4a71b5b92"
      },
      "execution_count": 32,
      "outputs": [
        {
          "output_type": "execute_result",
          "data": {
            "text/plain": [
              "CommitInfo(commit_url='https://huggingface.co/datasets/claudelepere/skill_classification/commit/43236ce6226676a6ab6fb4a2a96f0f93e0feb58e', commit_message='Upload eval_results.json with huggingface_hub', commit_description='', oid='43236ce6226676a6ab6fb4a2a96f0f93e0feb58e', pr_url=None, repo_url=RepoUrl('https://huggingface.co/datasets/claudelepere/skill_classification', endpoint='https://huggingface.co', repo_type='dataset', repo_id='claudelepere/skill_classification'), pr_revision=None, pr_num=None)"
            ],
            "application/vnd.google.colaboratory.intrinsic+json": {
              "type": "string"
            }
          },
          "metadata": {},
          "execution_count": 32
        }
      ]
    },
    {
      "cell_type": "code",
      "source": [
        "print(\"It's the end of the notebook!\")"
      ],
      "metadata": {
        "colab": {
          "base_uri": "https://localhost:8080/"
        },
        "id": "0QwshIQGSFxg",
        "outputId": "ae77af65-f647-4b58-dd3d-d78192dfb3d8"
      },
      "execution_count": 33,
      "outputs": [
        {
          "output_type": "stream",
          "name": "stdout",
          "text": [
            "It's the end of the notebook!\n"
          ]
        }
      ]
    },
    {
      "cell_type": "code",
      "source": [],
      "metadata": {
        "id": "_gsDJONcSO1W"
      },
      "execution_count": null,
      "outputs": []
    }
  ],
  "metadata": {
    "colab": {
      "provenance": [],
      "gpuType": "T4",
      "include_colab_link": true
    },
    "jupytext": {
      "formats": "ipynb,py:nomarker"
    },
    "kernelspec": {
      "display_name": "Python 3",
      "name": "python3"
    },
    "language_info": {
      "codemirror_mode": {
        "name": "ipython",
        "version": 3
      },
      "file_extension": ".py",
      "mimetype": "text/x-python",
      "name": "python",
      "nbconvert_exporter": "python",
      "pygments_lexer": "ipython3",
      "version": "3.12.6"
    },
    "widgets": {
      "application/vnd.jupyter.widget-state+json": {
        "f48dd61a71c04bb8b263e911d69a5117": {
          "model_module": "@jupyter-widgets/controls",
          "model_name": "HBoxModel",
          "model_module_version": "1.5.0",
          "state": {
            "_dom_classes": [],
            "_model_module": "@jupyter-widgets/controls",
            "_model_module_version": "1.5.0",
            "_model_name": "HBoxModel",
            "_view_count": null,
            "_view_module": "@jupyter-widgets/controls",
            "_view_module_version": "1.5.0",
            "_view_name": "HBoxView",
            "box_style": "",
            "children": [
              "IPY_MODEL_9ea8348b08b848d69b6dbbf727a77fdb",
              "IPY_MODEL_626501bb18dd4d819591f98c51672c1e",
              "IPY_MODEL_42927a3382d84a588dd33df6377e4c16"
            ],
            "layout": "IPY_MODEL_fe2092e71eaa499583068e845c9b7f73"
          }
        },
        "9ea8348b08b848d69b6dbbf727a77fdb": {
          "model_module": "@jupyter-widgets/controls",
          "model_name": "HTMLModel",
          "model_module_version": "1.5.0",
          "state": {
            "_dom_classes": [],
            "_model_module": "@jupyter-widgets/controls",
            "_model_module_version": "1.5.0",
            "_model_name": "HTMLModel",
            "_view_count": null,
            "_view_module": "@jupyter-widgets/controls",
            "_view_module_version": "1.5.0",
            "_view_name": "HTMLView",
            "description": "",
            "description_tooltip": null,
            "layout": "IPY_MODEL_0c59808b1a7643f1aefe7b9bbd9e9ecd",
            "placeholder": "​",
            "style": "IPY_MODEL_85a57bae24394e5ba5c8fbf0e33c9cde",
            "value": "tokenizer_config.json: 100%"
          }
        },
        "626501bb18dd4d819591f98c51672c1e": {
          "model_module": "@jupyter-widgets/controls",
          "model_name": "FloatProgressModel",
          "model_module_version": "1.5.0",
          "state": {
            "_dom_classes": [],
            "_model_module": "@jupyter-widgets/controls",
            "_model_module_version": "1.5.0",
            "_model_name": "FloatProgressModel",
            "_view_count": null,
            "_view_module": "@jupyter-widgets/controls",
            "_view_module_version": "1.5.0",
            "_view_name": "ProgressView",
            "bar_style": "success",
            "description": "",
            "description_tooltip": null,
            "layout": "IPY_MODEL_334648f9b7e14d4fa3f4293c65e2085c",
            "max": 48,
            "min": 0,
            "orientation": "horizontal",
            "style": "IPY_MODEL_54fd81c39d16411281eee5b3f5c790ad",
            "value": 48
          }
        },
        "42927a3382d84a588dd33df6377e4c16": {
          "model_module": "@jupyter-widgets/controls",
          "model_name": "HTMLModel",
          "model_module_version": "1.5.0",
          "state": {
            "_dom_classes": [],
            "_model_module": "@jupyter-widgets/controls",
            "_model_module_version": "1.5.0",
            "_model_name": "HTMLModel",
            "_view_count": null,
            "_view_module": "@jupyter-widgets/controls",
            "_view_module_version": "1.5.0",
            "_view_name": "HTMLView",
            "description": "",
            "description_tooltip": null,
            "layout": "IPY_MODEL_06c39e35b202479aba902b92e7fd92c3",
            "placeholder": "​",
            "style": "IPY_MODEL_8235369d681945259d8852d143f714a9",
            "value": " 48.0/48.0 [00:00&lt;00:00, 2.09kB/s]"
          }
        },
        "fe2092e71eaa499583068e845c9b7f73": {
          "model_module": "@jupyter-widgets/base",
          "model_name": "LayoutModel",
          "model_module_version": "1.2.0",
          "state": {
            "_model_module": "@jupyter-widgets/base",
            "_model_module_version": "1.2.0",
            "_model_name": "LayoutModel",
            "_view_count": null,
            "_view_module": "@jupyter-widgets/base",
            "_view_module_version": "1.2.0",
            "_view_name": "LayoutView",
            "align_content": null,
            "align_items": null,
            "align_self": null,
            "border": null,
            "bottom": null,
            "display": null,
            "flex": null,
            "flex_flow": null,
            "grid_area": null,
            "grid_auto_columns": null,
            "grid_auto_flow": null,
            "grid_auto_rows": null,
            "grid_column": null,
            "grid_gap": null,
            "grid_row": null,
            "grid_template_areas": null,
            "grid_template_columns": null,
            "grid_template_rows": null,
            "height": null,
            "justify_content": null,
            "justify_items": null,
            "left": null,
            "margin": null,
            "max_height": null,
            "max_width": null,
            "min_height": null,
            "min_width": null,
            "object_fit": null,
            "object_position": null,
            "order": null,
            "overflow": null,
            "overflow_x": null,
            "overflow_y": null,
            "padding": null,
            "right": null,
            "top": null,
            "visibility": null,
            "width": null
          }
        },
        "0c59808b1a7643f1aefe7b9bbd9e9ecd": {
          "model_module": "@jupyter-widgets/base",
          "model_name": "LayoutModel",
          "model_module_version": "1.2.0",
          "state": {
            "_model_module": "@jupyter-widgets/base",
            "_model_module_version": "1.2.0",
            "_model_name": "LayoutModel",
            "_view_count": null,
            "_view_module": "@jupyter-widgets/base",
            "_view_module_version": "1.2.0",
            "_view_name": "LayoutView",
            "align_content": null,
            "align_items": null,
            "align_self": null,
            "border": null,
            "bottom": null,
            "display": null,
            "flex": null,
            "flex_flow": null,
            "grid_area": null,
            "grid_auto_columns": null,
            "grid_auto_flow": null,
            "grid_auto_rows": null,
            "grid_column": null,
            "grid_gap": null,
            "grid_row": null,
            "grid_template_areas": null,
            "grid_template_columns": null,
            "grid_template_rows": null,
            "height": null,
            "justify_content": null,
            "justify_items": null,
            "left": null,
            "margin": null,
            "max_height": null,
            "max_width": null,
            "min_height": null,
            "min_width": null,
            "object_fit": null,
            "object_position": null,
            "order": null,
            "overflow": null,
            "overflow_x": null,
            "overflow_y": null,
            "padding": null,
            "right": null,
            "top": null,
            "visibility": null,
            "width": null
          }
        },
        "85a57bae24394e5ba5c8fbf0e33c9cde": {
          "model_module": "@jupyter-widgets/controls",
          "model_name": "DescriptionStyleModel",
          "model_module_version": "1.5.0",
          "state": {
            "_model_module": "@jupyter-widgets/controls",
            "_model_module_version": "1.5.0",
            "_model_name": "DescriptionStyleModel",
            "_view_count": null,
            "_view_module": "@jupyter-widgets/base",
            "_view_module_version": "1.2.0",
            "_view_name": "StyleView",
            "description_width": ""
          }
        },
        "334648f9b7e14d4fa3f4293c65e2085c": {
          "model_module": "@jupyter-widgets/base",
          "model_name": "LayoutModel",
          "model_module_version": "1.2.0",
          "state": {
            "_model_module": "@jupyter-widgets/base",
            "_model_module_version": "1.2.0",
            "_model_name": "LayoutModel",
            "_view_count": null,
            "_view_module": "@jupyter-widgets/base",
            "_view_module_version": "1.2.0",
            "_view_name": "LayoutView",
            "align_content": null,
            "align_items": null,
            "align_self": null,
            "border": null,
            "bottom": null,
            "display": null,
            "flex": null,
            "flex_flow": null,
            "grid_area": null,
            "grid_auto_columns": null,
            "grid_auto_flow": null,
            "grid_auto_rows": null,
            "grid_column": null,
            "grid_gap": null,
            "grid_row": null,
            "grid_template_areas": null,
            "grid_template_columns": null,
            "grid_template_rows": null,
            "height": null,
            "justify_content": null,
            "justify_items": null,
            "left": null,
            "margin": null,
            "max_height": null,
            "max_width": null,
            "min_height": null,
            "min_width": null,
            "object_fit": null,
            "object_position": null,
            "order": null,
            "overflow": null,
            "overflow_x": null,
            "overflow_y": null,
            "padding": null,
            "right": null,
            "top": null,
            "visibility": null,
            "width": null
          }
        },
        "54fd81c39d16411281eee5b3f5c790ad": {
          "model_module": "@jupyter-widgets/controls",
          "model_name": "ProgressStyleModel",
          "model_module_version": "1.5.0",
          "state": {
            "_model_module": "@jupyter-widgets/controls",
            "_model_module_version": "1.5.0",
            "_model_name": "ProgressStyleModel",
            "_view_count": null,
            "_view_module": "@jupyter-widgets/base",
            "_view_module_version": "1.2.0",
            "_view_name": "StyleView",
            "bar_color": null,
            "description_width": ""
          }
        },
        "06c39e35b202479aba902b92e7fd92c3": {
          "model_module": "@jupyter-widgets/base",
          "model_name": "LayoutModel",
          "model_module_version": "1.2.0",
          "state": {
            "_model_module": "@jupyter-widgets/base",
            "_model_module_version": "1.2.0",
            "_model_name": "LayoutModel",
            "_view_count": null,
            "_view_module": "@jupyter-widgets/base",
            "_view_module_version": "1.2.0",
            "_view_name": "LayoutView",
            "align_content": null,
            "align_items": null,
            "align_self": null,
            "border": null,
            "bottom": null,
            "display": null,
            "flex": null,
            "flex_flow": null,
            "grid_area": null,
            "grid_auto_columns": null,
            "grid_auto_flow": null,
            "grid_auto_rows": null,
            "grid_column": null,
            "grid_gap": null,
            "grid_row": null,
            "grid_template_areas": null,
            "grid_template_columns": null,
            "grid_template_rows": null,
            "height": null,
            "justify_content": null,
            "justify_items": null,
            "left": null,
            "margin": null,
            "max_height": null,
            "max_width": null,
            "min_height": null,
            "min_width": null,
            "object_fit": null,
            "object_position": null,
            "order": null,
            "overflow": null,
            "overflow_x": null,
            "overflow_y": null,
            "padding": null,
            "right": null,
            "top": null,
            "visibility": null,
            "width": null
          }
        },
        "8235369d681945259d8852d143f714a9": {
          "model_module": "@jupyter-widgets/controls",
          "model_name": "DescriptionStyleModel",
          "model_module_version": "1.5.0",
          "state": {
            "_model_module": "@jupyter-widgets/controls",
            "_model_module_version": "1.5.0",
            "_model_name": "DescriptionStyleModel",
            "_view_count": null,
            "_view_module": "@jupyter-widgets/base",
            "_view_module_version": "1.2.0",
            "_view_name": "StyleView",
            "description_width": ""
          }
        },
        "2d31f0152158482390d3e32d5b6d9202": {
          "model_module": "@jupyter-widgets/controls",
          "model_name": "HBoxModel",
          "model_module_version": "1.5.0",
          "state": {
            "_dom_classes": [],
            "_model_module": "@jupyter-widgets/controls",
            "_model_module_version": "1.5.0",
            "_model_name": "HBoxModel",
            "_view_count": null,
            "_view_module": "@jupyter-widgets/controls",
            "_view_module_version": "1.5.0",
            "_view_name": "HBoxView",
            "box_style": "",
            "children": [
              "IPY_MODEL_6734fef8062545139e3adec81d93006a",
              "IPY_MODEL_0cb3fcd80276460fa0fd98b2f9169d90",
              "IPY_MODEL_66764ca2feca4705816be8d808d8a2be"
            ],
            "layout": "IPY_MODEL_146e538d12024d26bb2dcb7fda8ef9c4"
          }
        },
        "6734fef8062545139e3adec81d93006a": {
          "model_module": "@jupyter-widgets/controls",
          "model_name": "HTMLModel",
          "model_module_version": "1.5.0",
          "state": {
            "_dom_classes": [],
            "_model_module": "@jupyter-widgets/controls",
            "_model_module_version": "1.5.0",
            "_model_name": "HTMLModel",
            "_view_count": null,
            "_view_module": "@jupyter-widgets/controls",
            "_view_module_version": "1.5.0",
            "_view_name": "HTMLView",
            "description": "",
            "description_tooltip": null,
            "layout": "IPY_MODEL_ace97e57429441629605e96add4dc4fb",
            "placeholder": "​",
            "style": "IPY_MODEL_0be84d0bcf8a425a9529246d9c220776",
            "value": "config.json: 100%"
          }
        },
        "0cb3fcd80276460fa0fd98b2f9169d90": {
          "model_module": "@jupyter-widgets/controls",
          "model_name": "FloatProgressModel",
          "model_module_version": "1.5.0",
          "state": {
            "_dom_classes": [],
            "_model_module": "@jupyter-widgets/controls",
            "_model_module_version": "1.5.0",
            "_model_name": "FloatProgressModel",
            "_view_count": null,
            "_view_module": "@jupyter-widgets/controls",
            "_view_module_version": "1.5.0",
            "_view_name": "ProgressView",
            "bar_style": "success",
            "description": "",
            "description_tooltip": null,
            "layout": "IPY_MODEL_9df6b3cdc7484b398d7fc290d2a071bd",
            "max": 570,
            "min": 0,
            "orientation": "horizontal",
            "style": "IPY_MODEL_a472bfd3807a4b4b83a1d7c50b378aa9",
            "value": 570
          }
        },
        "66764ca2feca4705816be8d808d8a2be": {
          "model_module": "@jupyter-widgets/controls",
          "model_name": "HTMLModel",
          "model_module_version": "1.5.0",
          "state": {
            "_dom_classes": [],
            "_model_module": "@jupyter-widgets/controls",
            "_model_module_version": "1.5.0",
            "_model_name": "HTMLModel",
            "_view_count": null,
            "_view_module": "@jupyter-widgets/controls",
            "_view_module_version": "1.5.0",
            "_view_name": "HTMLView",
            "description": "",
            "description_tooltip": null,
            "layout": "IPY_MODEL_d160004da4da4f908d1082acd0d907b8",
            "placeholder": "​",
            "style": "IPY_MODEL_5f8082da2ff348e4a045346a4bbcb53f",
            "value": " 570/570 [00:00&lt;00:00, 28.0kB/s]"
          }
        },
        "146e538d12024d26bb2dcb7fda8ef9c4": {
          "model_module": "@jupyter-widgets/base",
          "model_name": "LayoutModel",
          "model_module_version": "1.2.0",
          "state": {
            "_model_module": "@jupyter-widgets/base",
            "_model_module_version": "1.2.0",
            "_model_name": "LayoutModel",
            "_view_count": null,
            "_view_module": "@jupyter-widgets/base",
            "_view_module_version": "1.2.0",
            "_view_name": "LayoutView",
            "align_content": null,
            "align_items": null,
            "align_self": null,
            "border": null,
            "bottom": null,
            "display": null,
            "flex": null,
            "flex_flow": null,
            "grid_area": null,
            "grid_auto_columns": null,
            "grid_auto_flow": null,
            "grid_auto_rows": null,
            "grid_column": null,
            "grid_gap": null,
            "grid_row": null,
            "grid_template_areas": null,
            "grid_template_columns": null,
            "grid_template_rows": null,
            "height": null,
            "justify_content": null,
            "justify_items": null,
            "left": null,
            "margin": null,
            "max_height": null,
            "max_width": null,
            "min_height": null,
            "min_width": null,
            "object_fit": null,
            "object_position": null,
            "order": null,
            "overflow": null,
            "overflow_x": null,
            "overflow_y": null,
            "padding": null,
            "right": null,
            "top": null,
            "visibility": null,
            "width": null
          }
        },
        "ace97e57429441629605e96add4dc4fb": {
          "model_module": "@jupyter-widgets/base",
          "model_name": "LayoutModel",
          "model_module_version": "1.2.0",
          "state": {
            "_model_module": "@jupyter-widgets/base",
            "_model_module_version": "1.2.0",
            "_model_name": "LayoutModel",
            "_view_count": null,
            "_view_module": "@jupyter-widgets/base",
            "_view_module_version": "1.2.0",
            "_view_name": "LayoutView",
            "align_content": null,
            "align_items": null,
            "align_self": null,
            "border": null,
            "bottom": null,
            "display": null,
            "flex": null,
            "flex_flow": null,
            "grid_area": null,
            "grid_auto_columns": null,
            "grid_auto_flow": null,
            "grid_auto_rows": null,
            "grid_column": null,
            "grid_gap": null,
            "grid_row": null,
            "grid_template_areas": null,
            "grid_template_columns": null,
            "grid_template_rows": null,
            "height": null,
            "justify_content": null,
            "justify_items": null,
            "left": null,
            "margin": null,
            "max_height": null,
            "max_width": null,
            "min_height": null,
            "min_width": null,
            "object_fit": null,
            "object_position": null,
            "order": null,
            "overflow": null,
            "overflow_x": null,
            "overflow_y": null,
            "padding": null,
            "right": null,
            "top": null,
            "visibility": null,
            "width": null
          }
        },
        "0be84d0bcf8a425a9529246d9c220776": {
          "model_module": "@jupyter-widgets/controls",
          "model_name": "DescriptionStyleModel",
          "model_module_version": "1.5.0",
          "state": {
            "_model_module": "@jupyter-widgets/controls",
            "_model_module_version": "1.5.0",
            "_model_name": "DescriptionStyleModel",
            "_view_count": null,
            "_view_module": "@jupyter-widgets/base",
            "_view_module_version": "1.2.0",
            "_view_name": "StyleView",
            "description_width": ""
          }
        },
        "9df6b3cdc7484b398d7fc290d2a071bd": {
          "model_module": "@jupyter-widgets/base",
          "model_name": "LayoutModel",
          "model_module_version": "1.2.0",
          "state": {
            "_model_module": "@jupyter-widgets/base",
            "_model_module_version": "1.2.0",
            "_model_name": "LayoutModel",
            "_view_count": null,
            "_view_module": "@jupyter-widgets/base",
            "_view_module_version": "1.2.0",
            "_view_name": "LayoutView",
            "align_content": null,
            "align_items": null,
            "align_self": null,
            "border": null,
            "bottom": null,
            "display": null,
            "flex": null,
            "flex_flow": null,
            "grid_area": null,
            "grid_auto_columns": null,
            "grid_auto_flow": null,
            "grid_auto_rows": null,
            "grid_column": null,
            "grid_gap": null,
            "grid_row": null,
            "grid_template_areas": null,
            "grid_template_columns": null,
            "grid_template_rows": null,
            "height": null,
            "justify_content": null,
            "justify_items": null,
            "left": null,
            "margin": null,
            "max_height": null,
            "max_width": null,
            "min_height": null,
            "min_width": null,
            "object_fit": null,
            "object_position": null,
            "order": null,
            "overflow": null,
            "overflow_x": null,
            "overflow_y": null,
            "padding": null,
            "right": null,
            "top": null,
            "visibility": null,
            "width": null
          }
        },
        "a472bfd3807a4b4b83a1d7c50b378aa9": {
          "model_module": "@jupyter-widgets/controls",
          "model_name": "ProgressStyleModel",
          "model_module_version": "1.5.0",
          "state": {
            "_model_module": "@jupyter-widgets/controls",
            "_model_module_version": "1.5.0",
            "_model_name": "ProgressStyleModel",
            "_view_count": null,
            "_view_module": "@jupyter-widgets/base",
            "_view_module_version": "1.2.0",
            "_view_name": "StyleView",
            "bar_color": null,
            "description_width": ""
          }
        },
        "d160004da4da4f908d1082acd0d907b8": {
          "model_module": "@jupyter-widgets/base",
          "model_name": "LayoutModel",
          "model_module_version": "1.2.0",
          "state": {
            "_model_module": "@jupyter-widgets/base",
            "_model_module_version": "1.2.0",
            "_model_name": "LayoutModel",
            "_view_count": null,
            "_view_module": "@jupyter-widgets/base",
            "_view_module_version": "1.2.0",
            "_view_name": "LayoutView",
            "align_content": null,
            "align_items": null,
            "align_self": null,
            "border": null,
            "bottom": null,
            "display": null,
            "flex": null,
            "flex_flow": null,
            "grid_area": null,
            "grid_auto_columns": null,
            "grid_auto_flow": null,
            "grid_auto_rows": null,
            "grid_column": null,
            "grid_gap": null,
            "grid_row": null,
            "grid_template_areas": null,
            "grid_template_columns": null,
            "grid_template_rows": null,
            "height": null,
            "justify_content": null,
            "justify_items": null,
            "left": null,
            "margin": null,
            "max_height": null,
            "max_width": null,
            "min_height": null,
            "min_width": null,
            "object_fit": null,
            "object_position": null,
            "order": null,
            "overflow": null,
            "overflow_x": null,
            "overflow_y": null,
            "padding": null,
            "right": null,
            "top": null,
            "visibility": null,
            "width": null
          }
        },
        "5f8082da2ff348e4a045346a4bbcb53f": {
          "model_module": "@jupyter-widgets/controls",
          "model_name": "DescriptionStyleModel",
          "model_module_version": "1.5.0",
          "state": {
            "_model_module": "@jupyter-widgets/controls",
            "_model_module_version": "1.5.0",
            "_model_name": "DescriptionStyleModel",
            "_view_count": null,
            "_view_module": "@jupyter-widgets/base",
            "_view_module_version": "1.2.0",
            "_view_name": "StyleView",
            "description_width": ""
          }
        },
        "93933bebe73e40e39fe92d7143db802d": {
          "model_module": "@jupyter-widgets/controls",
          "model_name": "HBoxModel",
          "model_module_version": "1.5.0",
          "state": {
            "_dom_classes": [],
            "_model_module": "@jupyter-widgets/controls",
            "_model_module_version": "1.5.0",
            "_model_name": "HBoxModel",
            "_view_count": null,
            "_view_module": "@jupyter-widgets/controls",
            "_view_module_version": "1.5.0",
            "_view_name": "HBoxView",
            "box_style": "",
            "children": [
              "IPY_MODEL_70bfbc4c696b4dcf8da7f953419a073d",
              "IPY_MODEL_721579f558cb4d789ebe981614640100",
              "IPY_MODEL_7e98cfe0028846a5b9f9078f40824ef2"
            ],
            "layout": "IPY_MODEL_6e65cdc610824e508baeada7d3b9a265"
          }
        },
        "70bfbc4c696b4dcf8da7f953419a073d": {
          "model_module": "@jupyter-widgets/controls",
          "model_name": "HTMLModel",
          "model_module_version": "1.5.0",
          "state": {
            "_dom_classes": [],
            "_model_module": "@jupyter-widgets/controls",
            "_model_module_version": "1.5.0",
            "_model_name": "HTMLModel",
            "_view_count": null,
            "_view_module": "@jupyter-widgets/controls",
            "_view_module_version": "1.5.0",
            "_view_name": "HTMLView",
            "description": "",
            "description_tooltip": null,
            "layout": "IPY_MODEL_6dc662a93efc47b1ad202f223c83936b",
            "placeholder": "​",
            "style": "IPY_MODEL_90d200228a594a8f974083528e735e81",
            "value": "vocab.txt: 100%"
          }
        },
        "721579f558cb4d789ebe981614640100": {
          "model_module": "@jupyter-widgets/controls",
          "model_name": "FloatProgressModel",
          "model_module_version": "1.5.0",
          "state": {
            "_dom_classes": [],
            "_model_module": "@jupyter-widgets/controls",
            "_model_module_version": "1.5.0",
            "_model_name": "FloatProgressModel",
            "_view_count": null,
            "_view_module": "@jupyter-widgets/controls",
            "_view_module_version": "1.5.0",
            "_view_name": "ProgressView",
            "bar_style": "success",
            "description": "",
            "description_tooltip": null,
            "layout": "IPY_MODEL_33d729752f354ba8b9f9d0b7f5db5b41",
            "max": 231508,
            "min": 0,
            "orientation": "horizontal",
            "style": "IPY_MODEL_31efbdbd5a074b60a85c685ea03c3461",
            "value": 231508
          }
        },
        "7e98cfe0028846a5b9f9078f40824ef2": {
          "model_module": "@jupyter-widgets/controls",
          "model_name": "HTMLModel",
          "model_module_version": "1.5.0",
          "state": {
            "_dom_classes": [],
            "_model_module": "@jupyter-widgets/controls",
            "_model_module_version": "1.5.0",
            "_model_name": "HTMLModel",
            "_view_count": null,
            "_view_module": "@jupyter-widgets/controls",
            "_view_module_version": "1.5.0",
            "_view_name": "HTMLView",
            "description": "",
            "description_tooltip": null,
            "layout": "IPY_MODEL_ae081c9e671848b6b998573bdd46758c",
            "placeholder": "​",
            "style": "IPY_MODEL_cda262808ac946d49602581ba7cfd7be",
            "value": " 232k/232k [00:00&lt;00:00, 3.24MB/s]"
          }
        },
        "6e65cdc610824e508baeada7d3b9a265": {
          "model_module": "@jupyter-widgets/base",
          "model_name": "LayoutModel",
          "model_module_version": "1.2.0",
          "state": {
            "_model_module": "@jupyter-widgets/base",
            "_model_module_version": "1.2.0",
            "_model_name": "LayoutModel",
            "_view_count": null,
            "_view_module": "@jupyter-widgets/base",
            "_view_module_version": "1.2.0",
            "_view_name": "LayoutView",
            "align_content": null,
            "align_items": null,
            "align_self": null,
            "border": null,
            "bottom": null,
            "display": null,
            "flex": null,
            "flex_flow": null,
            "grid_area": null,
            "grid_auto_columns": null,
            "grid_auto_flow": null,
            "grid_auto_rows": null,
            "grid_column": null,
            "grid_gap": null,
            "grid_row": null,
            "grid_template_areas": null,
            "grid_template_columns": null,
            "grid_template_rows": null,
            "height": null,
            "justify_content": null,
            "justify_items": null,
            "left": null,
            "margin": null,
            "max_height": null,
            "max_width": null,
            "min_height": null,
            "min_width": null,
            "object_fit": null,
            "object_position": null,
            "order": null,
            "overflow": null,
            "overflow_x": null,
            "overflow_y": null,
            "padding": null,
            "right": null,
            "top": null,
            "visibility": null,
            "width": null
          }
        },
        "6dc662a93efc47b1ad202f223c83936b": {
          "model_module": "@jupyter-widgets/base",
          "model_name": "LayoutModel",
          "model_module_version": "1.2.0",
          "state": {
            "_model_module": "@jupyter-widgets/base",
            "_model_module_version": "1.2.0",
            "_model_name": "LayoutModel",
            "_view_count": null,
            "_view_module": "@jupyter-widgets/base",
            "_view_module_version": "1.2.0",
            "_view_name": "LayoutView",
            "align_content": null,
            "align_items": null,
            "align_self": null,
            "border": null,
            "bottom": null,
            "display": null,
            "flex": null,
            "flex_flow": null,
            "grid_area": null,
            "grid_auto_columns": null,
            "grid_auto_flow": null,
            "grid_auto_rows": null,
            "grid_column": null,
            "grid_gap": null,
            "grid_row": null,
            "grid_template_areas": null,
            "grid_template_columns": null,
            "grid_template_rows": null,
            "height": null,
            "justify_content": null,
            "justify_items": null,
            "left": null,
            "margin": null,
            "max_height": null,
            "max_width": null,
            "min_height": null,
            "min_width": null,
            "object_fit": null,
            "object_position": null,
            "order": null,
            "overflow": null,
            "overflow_x": null,
            "overflow_y": null,
            "padding": null,
            "right": null,
            "top": null,
            "visibility": null,
            "width": null
          }
        },
        "90d200228a594a8f974083528e735e81": {
          "model_module": "@jupyter-widgets/controls",
          "model_name": "DescriptionStyleModel",
          "model_module_version": "1.5.0",
          "state": {
            "_model_module": "@jupyter-widgets/controls",
            "_model_module_version": "1.5.0",
            "_model_name": "DescriptionStyleModel",
            "_view_count": null,
            "_view_module": "@jupyter-widgets/base",
            "_view_module_version": "1.2.0",
            "_view_name": "StyleView",
            "description_width": ""
          }
        },
        "33d729752f354ba8b9f9d0b7f5db5b41": {
          "model_module": "@jupyter-widgets/base",
          "model_name": "LayoutModel",
          "model_module_version": "1.2.0",
          "state": {
            "_model_module": "@jupyter-widgets/base",
            "_model_module_version": "1.2.0",
            "_model_name": "LayoutModel",
            "_view_count": null,
            "_view_module": "@jupyter-widgets/base",
            "_view_module_version": "1.2.0",
            "_view_name": "LayoutView",
            "align_content": null,
            "align_items": null,
            "align_self": null,
            "border": null,
            "bottom": null,
            "display": null,
            "flex": null,
            "flex_flow": null,
            "grid_area": null,
            "grid_auto_columns": null,
            "grid_auto_flow": null,
            "grid_auto_rows": null,
            "grid_column": null,
            "grid_gap": null,
            "grid_row": null,
            "grid_template_areas": null,
            "grid_template_columns": null,
            "grid_template_rows": null,
            "height": null,
            "justify_content": null,
            "justify_items": null,
            "left": null,
            "margin": null,
            "max_height": null,
            "max_width": null,
            "min_height": null,
            "min_width": null,
            "object_fit": null,
            "object_position": null,
            "order": null,
            "overflow": null,
            "overflow_x": null,
            "overflow_y": null,
            "padding": null,
            "right": null,
            "top": null,
            "visibility": null,
            "width": null
          }
        },
        "31efbdbd5a074b60a85c685ea03c3461": {
          "model_module": "@jupyter-widgets/controls",
          "model_name": "ProgressStyleModel",
          "model_module_version": "1.5.0",
          "state": {
            "_model_module": "@jupyter-widgets/controls",
            "_model_module_version": "1.5.0",
            "_model_name": "ProgressStyleModel",
            "_view_count": null,
            "_view_module": "@jupyter-widgets/base",
            "_view_module_version": "1.2.0",
            "_view_name": "StyleView",
            "bar_color": null,
            "description_width": ""
          }
        },
        "ae081c9e671848b6b998573bdd46758c": {
          "model_module": "@jupyter-widgets/base",
          "model_name": "LayoutModel",
          "model_module_version": "1.2.0",
          "state": {
            "_model_module": "@jupyter-widgets/base",
            "_model_module_version": "1.2.0",
            "_model_name": "LayoutModel",
            "_view_count": null,
            "_view_module": "@jupyter-widgets/base",
            "_view_module_version": "1.2.0",
            "_view_name": "LayoutView",
            "align_content": null,
            "align_items": null,
            "align_self": null,
            "border": null,
            "bottom": null,
            "display": null,
            "flex": null,
            "flex_flow": null,
            "grid_area": null,
            "grid_auto_columns": null,
            "grid_auto_flow": null,
            "grid_auto_rows": null,
            "grid_column": null,
            "grid_gap": null,
            "grid_row": null,
            "grid_template_areas": null,
            "grid_template_columns": null,
            "grid_template_rows": null,
            "height": null,
            "justify_content": null,
            "justify_items": null,
            "left": null,
            "margin": null,
            "max_height": null,
            "max_width": null,
            "min_height": null,
            "min_width": null,
            "object_fit": null,
            "object_position": null,
            "order": null,
            "overflow": null,
            "overflow_x": null,
            "overflow_y": null,
            "padding": null,
            "right": null,
            "top": null,
            "visibility": null,
            "width": null
          }
        },
        "cda262808ac946d49602581ba7cfd7be": {
          "model_module": "@jupyter-widgets/controls",
          "model_name": "DescriptionStyleModel",
          "model_module_version": "1.5.0",
          "state": {
            "_model_module": "@jupyter-widgets/controls",
            "_model_module_version": "1.5.0",
            "_model_name": "DescriptionStyleModel",
            "_view_count": null,
            "_view_module": "@jupyter-widgets/base",
            "_view_module_version": "1.2.0",
            "_view_name": "StyleView",
            "description_width": ""
          }
        },
        "382417b2c1bb4d9d8a648a68ce41b629": {
          "model_module": "@jupyter-widgets/controls",
          "model_name": "HBoxModel",
          "model_module_version": "1.5.0",
          "state": {
            "_dom_classes": [],
            "_model_module": "@jupyter-widgets/controls",
            "_model_module_version": "1.5.0",
            "_model_name": "HBoxModel",
            "_view_count": null,
            "_view_module": "@jupyter-widgets/controls",
            "_view_module_version": "1.5.0",
            "_view_name": "HBoxView",
            "box_style": "",
            "children": [
              "IPY_MODEL_2e06a74ee7294155beca97d147c500c7",
              "IPY_MODEL_0a8083d5731a44e7bccb21bff564909c",
              "IPY_MODEL_0afe8ee8103a4cc5b01d1fdd52e5eca1"
            ],
            "layout": "IPY_MODEL_0487e8e81b23494cbacfdb2b1670b6bb"
          }
        },
        "2e06a74ee7294155beca97d147c500c7": {
          "model_module": "@jupyter-widgets/controls",
          "model_name": "HTMLModel",
          "model_module_version": "1.5.0",
          "state": {
            "_dom_classes": [],
            "_model_module": "@jupyter-widgets/controls",
            "_model_module_version": "1.5.0",
            "_model_name": "HTMLModel",
            "_view_count": null,
            "_view_module": "@jupyter-widgets/controls",
            "_view_module_version": "1.5.0",
            "_view_name": "HTMLView",
            "description": "",
            "description_tooltip": null,
            "layout": "IPY_MODEL_1d6ac45899f141389ca4224d63b4ed04",
            "placeholder": "​",
            "style": "IPY_MODEL_c147e6be93ce4b939e0f7989c68cf05d",
            "value": "tokenizer.json: 100%"
          }
        },
        "0a8083d5731a44e7bccb21bff564909c": {
          "model_module": "@jupyter-widgets/controls",
          "model_name": "FloatProgressModel",
          "model_module_version": "1.5.0",
          "state": {
            "_dom_classes": [],
            "_model_module": "@jupyter-widgets/controls",
            "_model_module_version": "1.5.0",
            "_model_name": "FloatProgressModel",
            "_view_count": null,
            "_view_module": "@jupyter-widgets/controls",
            "_view_module_version": "1.5.0",
            "_view_name": "ProgressView",
            "bar_style": "success",
            "description": "",
            "description_tooltip": null,
            "layout": "IPY_MODEL_7f4dab0a8fb84fbda56f4575a32fbaa2",
            "max": 466062,
            "min": 0,
            "orientation": "horizontal",
            "style": "IPY_MODEL_37e297770a0f4b4cb38ce735ef8810b0",
            "value": 466062
          }
        },
        "0afe8ee8103a4cc5b01d1fdd52e5eca1": {
          "model_module": "@jupyter-widgets/controls",
          "model_name": "HTMLModel",
          "model_module_version": "1.5.0",
          "state": {
            "_dom_classes": [],
            "_model_module": "@jupyter-widgets/controls",
            "_model_module_version": "1.5.0",
            "_model_name": "HTMLModel",
            "_view_count": null,
            "_view_module": "@jupyter-widgets/controls",
            "_view_module_version": "1.5.0",
            "_view_name": "HTMLView",
            "description": "",
            "description_tooltip": null,
            "layout": "IPY_MODEL_18fd4bfd41ba495da2aaeef5d6eb20d0",
            "placeholder": "​",
            "style": "IPY_MODEL_f5206e8398574b808efd312ac30c7a69",
            "value": " 466k/466k [00:00&lt;00:00, 3.45MB/s]"
          }
        },
        "0487e8e81b23494cbacfdb2b1670b6bb": {
          "model_module": "@jupyter-widgets/base",
          "model_name": "LayoutModel",
          "model_module_version": "1.2.0",
          "state": {
            "_model_module": "@jupyter-widgets/base",
            "_model_module_version": "1.2.0",
            "_model_name": "LayoutModel",
            "_view_count": null,
            "_view_module": "@jupyter-widgets/base",
            "_view_module_version": "1.2.0",
            "_view_name": "LayoutView",
            "align_content": null,
            "align_items": null,
            "align_self": null,
            "border": null,
            "bottom": null,
            "display": null,
            "flex": null,
            "flex_flow": null,
            "grid_area": null,
            "grid_auto_columns": null,
            "grid_auto_flow": null,
            "grid_auto_rows": null,
            "grid_column": null,
            "grid_gap": null,
            "grid_row": null,
            "grid_template_areas": null,
            "grid_template_columns": null,
            "grid_template_rows": null,
            "height": null,
            "justify_content": null,
            "justify_items": null,
            "left": null,
            "margin": null,
            "max_height": null,
            "max_width": null,
            "min_height": null,
            "min_width": null,
            "object_fit": null,
            "object_position": null,
            "order": null,
            "overflow": null,
            "overflow_x": null,
            "overflow_y": null,
            "padding": null,
            "right": null,
            "top": null,
            "visibility": null,
            "width": null
          }
        },
        "1d6ac45899f141389ca4224d63b4ed04": {
          "model_module": "@jupyter-widgets/base",
          "model_name": "LayoutModel",
          "model_module_version": "1.2.0",
          "state": {
            "_model_module": "@jupyter-widgets/base",
            "_model_module_version": "1.2.0",
            "_model_name": "LayoutModel",
            "_view_count": null,
            "_view_module": "@jupyter-widgets/base",
            "_view_module_version": "1.2.0",
            "_view_name": "LayoutView",
            "align_content": null,
            "align_items": null,
            "align_self": null,
            "border": null,
            "bottom": null,
            "display": null,
            "flex": null,
            "flex_flow": null,
            "grid_area": null,
            "grid_auto_columns": null,
            "grid_auto_flow": null,
            "grid_auto_rows": null,
            "grid_column": null,
            "grid_gap": null,
            "grid_row": null,
            "grid_template_areas": null,
            "grid_template_columns": null,
            "grid_template_rows": null,
            "height": null,
            "justify_content": null,
            "justify_items": null,
            "left": null,
            "margin": null,
            "max_height": null,
            "max_width": null,
            "min_height": null,
            "min_width": null,
            "object_fit": null,
            "object_position": null,
            "order": null,
            "overflow": null,
            "overflow_x": null,
            "overflow_y": null,
            "padding": null,
            "right": null,
            "top": null,
            "visibility": null,
            "width": null
          }
        },
        "c147e6be93ce4b939e0f7989c68cf05d": {
          "model_module": "@jupyter-widgets/controls",
          "model_name": "DescriptionStyleModel",
          "model_module_version": "1.5.0",
          "state": {
            "_model_module": "@jupyter-widgets/controls",
            "_model_module_version": "1.5.0",
            "_model_name": "DescriptionStyleModel",
            "_view_count": null,
            "_view_module": "@jupyter-widgets/base",
            "_view_module_version": "1.2.0",
            "_view_name": "StyleView",
            "description_width": ""
          }
        },
        "7f4dab0a8fb84fbda56f4575a32fbaa2": {
          "model_module": "@jupyter-widgets/base",
          "model_name": "LayoutModel",
          "model_module_version": "1.2.0",
          "state": {
            "_model_module": "@jupyter-widgets/base",
            "_model_module_version": "1.2.0",
            "_model_name": "LayoutModel",
            "_view_count": null,
            "_view_module": "@jupyter-widgets/base",
            "_view_module_version": "1.2.0",
            "_view_name": "LayoutView",
            "align_content": null,
            "align_items": null,
            "align_self": null,
            "border": null,
            "bottom": null,
            "display": null,
            "flex": null,
            "flex_flow": null,
            "grid_area": null,
            "grid_auto_columns": null,
            "grid_auto_flow": null,
            "grid_auto_rows": null,
            "grid_column": null,
            "grid_gap": null,
            "grid_row": null,
            "grid_template_areas": null,
            "grid_template_columns": null,
            "grid_template_rows": null,
            "height": null,
            "justify_content": null,
            "justify_items": null,
            "left": null,
            "margin": null,
            "max_height": null,
            "max_width": null,
            "min_height": null,
            "min_width": null,
            "object_fit": null,
            "object_position": null,
            "order": null,
            "overflow": null,
            "overflow_x": null,
            "overflow_y": null,
            "padding": null,
            "right": null,
            "top": null,
            "visibility": null,
            "width": null
          }
        },
        "37e297770a0f4b4cb38ce735ef8810b0": {
          "model_module": "@jupyter-widgets/controls",
          "model_name": "ProgressStyleModel",
          "model_module_version": "1.5.0",
          "state": {
            "_model_module": "@jupyter-widgets/controls",
            "_model_module_version": "1.5.0",
            "_model_name": "ProgressStyleModel",
            "_view_count": null,
            "_view_module": "@jupyter-widgets/base",
            "_view_module_version": "1.2.0",
            "_view_name": "StyleView",
            "bar_color": null,
            "description_width": ""
          }
        },
        "18fd4bfd41ba495da2aaeef5d6eb20d0": {
          "model_module": "@jupyter-widgets/base",
          "model_name": "LayoutModel",
          "model_module_version": "1.2.0",
          "state": {
            "_model_module": "@jupyter-widgets/base",
            "_model_module_version": "1.2.0",
            "_model_name": "LayoutModel",
            "_view_count": null,
            "_view_module": "@jupyter-widgets/base",
            "_view_module_version": "1.2.0",
            "_view_name": "LayoutView",
            "align_content": null,
            "align_items": null,
            "align_self": null,
            "border": null,
            "bottom": null,
            "display": null,
            "flex": null,
            "flex_flow": null,
            "grid_area": null,
            "grid_auto_columns": null,
            "grid_auto_flow": null,
            "grid_auto_rows": null,
            "grid_column": null,
            "grid_gap": null,
            "grid_row": null,
            "grid_template_areas": null,
            "grid_template_columns": null,
            "grid_template_rows": null,
            "height": null,
            "justify_content": null,
            "justify_items": null,
            "left": null,
            "margin": null,
            "max_height": null,
            "max_width": null,
            "min_height": null,
            "min_width": null,
            "object_fit": null,
            "object_position": null,
            "order": null,
            "overflow": null,
            "overflow_x": null,
            "overflow_y": null,
            "padding": null,
            "right": null,
            "top": null,
            "visibility": null,
            "width": null
          }
        },
        "f5206e8398574b808efd312ac30c7a69": {
          "model_module": "@jupyter-widgets/controls",
          "model_name": "DescriptionStyleModel",
          "model_module_version": "1.5.0",
          "state": {
            "_model_module": "@jupyter-widgets/controls",
            "_model_module_version": "1.5.0",
            "_model_name": "DescriptionStyleModel",
            "_view_count": null,
            "_view_module": "@jupyter-widgets/base",
            "_view_module_version": "1.2.0",
            "_view_name": "StyleView",
            "description_width": ""
          }
        },
        "23b8e5101b4949608b5b6d738b952ffc": {
          "model_module": "@jupyter-widgets/controls",
          "model_name": "HBoxModel",
          "model_module_version": "1.5.0",
          "state": {
            "_dom_classes": [],
            "_model_module": "@jupyter-widgets/controls",
            "_model_module_version": "1.5.0",
            "_model_name": "HBoxModel",
            "_view_count": null,
            "_view_module": "@jupyter-widgets/controls",
            "_view_module_version": "1.5.0",
            "_view_name": "HBoxView",
            "box_style": "",
            "children": [
              "IPY_MODEL_eda4c41976bd4632b87d5c2ba73a5d45",
              "IPY_MODEL_daa3b7c81b16441b99f5da3d6fd77ee8",
              "IPY_MODEL_91908d6f82a243779983760f42ba6f62"
            ],
            "layout": "IPY_MODEL_de9401c36f404aa28dc99332c19bfefe"
          }
        },
        "eda4c41976bd4632b87d5c2ba73a5d45": {
          "model_module": "@jupyter-widgets/controls",
          "model_name": "HTMLModel",
          "model_module_version": "1.5.0",
          "state": {
            "_dom_classes": [],
            "_model_module": "@jupyter-widgets/controls",
            "_model_module_version": "1.5.0",
            "_model_name": "HTMLModel",
            "_view_count": null,
            "_view_module": "@jupyter-widgets/controls",
            "_view_module_version": "1.5.0",
            "_view_name": "HTMLView",
            "description": "",
            "description_tooltip": null,
            "layout": "IPY_MODEL_3f71db91501a4a158b5fb4f074ca9b76",
            "placeholder": "​",
            "style": "IPY_MODEL_c1af15f9303c42d190ffffea295f0a33",
            "value": "Map: 100%"
          }
        },
        "daa3b7c81b16441b99f5da3d6fd77ee8": {
          "model_module": "@jupyter-widgets/controls",
          "model_name": "FloatProgressModel",
          "model_module_version": "1.5.0",
          "state": {
            "_dom_classes": [],
            "_model_module": "@jupyter-widgets/controls",
            "_model_module_version": "1.5.0",
            "_model_name": "FloatProgressModel",
            "_view_count": null,
            "_view_module": "@jupyter-widgets/controls",
            "_view_module_version": "1.5.0",
            "_view_name": "ProgressView",
            "bar_style": "success",
            "description": "",
            "description_tooltip": null,
            "layout": "IPY_MODEL_7b34ae2972f34ec8ac3ffff7a3779e2a",
            "max": 1087,
            "min": 0,
            "orientation": "horizontal",
            "style": "IPY_MODEL_7f2372551bd04b1296b62a8227ae30e0",
            "value": 1087
          }
        },
        "91908d6f82a243779983760f42ba6f62": {
          "model_module": "@jupyter-widgets/controls",
          "model_name": "HTMLModel",
          "model_module_version": "1.5.0",
          "state": {
            "_dom_classes": [],
            "_model_module": "@jupyter-widgets/controls",
            "_model_module_version": "1.5.0",
            "_model_name": "HTMLModel",
            "_view_count": null,
            "_view_module": "@jupyter-widgets/controls",
            "_view_module_version": "1.5.0",
            "_view_name": "HTMLView",
            "description": "",
            "description_tooltip": null,
            "layout": "IPY_MODEL_1d88853c54374817bc6d936170570208",
            "placeholder": "​",
            "style": "IPY_MODEL_d4d365fd2434421aaf9665e267232849",
            "value": " 1087/1087 [00:02&lt;00:00, 475.50 examples/s]"
          }
        },
        "de9401c36f404aa28dc99332c19bfefe": {
          "model_module": "@jupyter-widgets/base",
          "model_name": "LayoutModel",
          "model_module_version": "1.2.0",
          "state": {
            "_model_module": "@jupyter-widgets/base",
            "_model_module_version": "1.2.0",
            "_model_name": "LayoutModel",
            "_view_count": null,
            "_view_module": "@jupyter-widgets/base",
            "_view_module_version": "1.2.0",
            "_view_name": "LayoutView",
            "align_content": null,
            "align_items": null,
            "align_self": null,
            "border": null,
            "bottom": null,
            "display": null,
            "flex": null,
            "flex_flow": null,
            "grid_area": null,
            "grid_auto_columns": null,
            "grid_auto_flow": null,
            "grid_auto_rows": null,
            "grid_column": null,
            "grid_gap": null,
            "grid_row": null,
            "grid_template_areas": null,
            "grid_template_columns": null,
            "grid_template_rows": null,
            "height": null,
            "justify_content": null,
            "justify_items": null,
            "left": null,
            "margin": null,
            "max_height": null,
            "max_width": null,
            "min_height": null,
            "min_width": null,
            "object_fit": null,
            "object_position": null,
            "order": null,
            "overflow": null,
            "overflow_x": null,
            "overflow_y": null,
            "padding": null,
            "right": null,
            "top": null,
            "visibility": null,
            "width": null
          }
        },
        "3f71db91501a4a158b5fb4f074ca9b76": {
          "model_module": "@jupyter-widgets/base",
          "model_name": "LayoutModel",
          "model_module_version": "1.2.0",
          "state": {
            "_model_module": "@jupyter-widgets/base",
            "_model_module_version": "1.2.0",
            "_model_name": "LayoutModel",
            "_view_count": null,
            "_view_module": "@jupyter-widgets/base",
            "_view_module_version": "1.2.0",
            "_view_name": "LayoutView",
            "align_content": null,
            "align_items": null,
            "align_self": null,
            "border": null,
            "bottom": null,
            "display": null,
            "flex": null,
            "flex_flow": null,
            "grid_area": null,
            "grid_auto_columns": null,
            "grid_auto_flow": null,
            "grid_auto_rows": null,
            "grid_column": null,
            "grid_gap": null,
            "grid_row": null,
            "grid_template_areas": null,
            "grid_template_columns": null,
            "grid_template_rows": null,
            "height": null,
            "justify_content": null,
            "justify_items": null,
            "left": null,
            "margin": null,
            "max_height": null,
            "max_width": null,
            "min_height": null,
            "min_width": null,
            "object_fit": null,
            "object_position": null,
            "order": null,
            "overflow": null,
            "overflow_x": null,
            "overflow_y": null,
            "padding": null,
            "right": null,
            "top": null,
            "visibility": null,
            "width": null
          }
        },
        "c1af15f9303c42d190ffffea295f0a33": {
          "model_module": "@jupyter-widgets/controls",
          "model_name": "DescriptionStyleModel",
          "model_module_version": "1.5.0",
          "state": {
            "_model_module": "@jupyter-widgets/controls",
            "_model_module_version": "1.5.0",
            "_model_name": "DescriptionStyleModel",
            "_view_count": null,
            "_view_module": "@jupyter-widgets/base",
            "_view_module_version": "1.2.0",
            "_view_name": "StyleView",
            "description_width": ""
          }
        },
        "7b34ae2972f34ec8ac3ffff7a3779e2a": {
          "model_module": "@jupyter-widgets/base",
          "model_name": "LayoutModel",
          "model_module_version": "1.2.0",
          "state": {
            "_model_module": "@jupyter-widgets/base",
            "_model_module_version": "1.2.0",
            "_model_name": "LayoutModel",
            "_view_count": null,
            "_view_module": "@jupyter-widgets/base",
            "_view_module_version": "1.2.0",
            "_view_name": "LayoutView",
            "align_content": null,
            "align_items": null,
            "align_self": null,
            "border": null,
            "bottom": null,
            "display": null,
            "flex": null,
            "flex_flow": null,
            "grid_area": null,
            "grid_auto_columns": null,
            "grid_auto_flow": null,
            "grid_auto_rows": null,
            "grid_column": null,
            "grid_gap": null,
            "grid_row": null,
            "grid_template_areas": null,
            "grid_template_columns": null,
            "grid_template_rows": null,
            "height": null,
            "justify_content": null,
            "justify_items": null,
            "left": null,
            "margin": null,
            "max_height": null,
            "max_width": null,
            "min_height": null,
            "min_width": null,
            "object_fit": null,
            "object_position": null,
            "order": null,
            "overflow": null,
            "overflow_x": null,
            "overflow_y": null,
            "padding": null,
            "right": null,
            "top": null,
            "visibility": null,
            "width": null
          }
        },
        "7f2372551bd04b1296b62a8227ae30e0": {
          "model_module": "@jupyter-widgets/controls",
          "model_name": "ProgressStyleModel",
          "model_module_version": "1.5.0",
          "state": {
            "_model_module": "@jupyter-widgets/controls",
            "_model_module_version": "1.5.0",
            "_model_name": "ProgressStyleModel",
            "_view_count": null,
            "_view_module": "@jupyter-widgets/base",
            "_view_module_version": "1.2.0",
            "_view_name": "StyleView",
            "bar_color": null,
            "description_width": ""
          }
        },
        "1d88853c54374817bc6d936170570208": {
          "model_module": "@jupyter-widgets/base",
          "model_name": "LayoutModel",
          "model_module_version": "1.2.0",
          "state": {
            "_model_module": "@jupyter-widgets/base",
            "_model_module_version": "1.2.0",
            "_model_name": "LayoutModel",
            "_view_count": null,
            "_view_module": "@jupyter-widgets/base",
            "_view_module_version": "1.2.0",
            "_view_name": "LayoutView",
            "align_content": null,
            "align_items": null,
            "align_self": null,
            "border": null,
            "bottom": null,
            "display": null,
            "flex": null,
            "flex_flow": null,
            "grid_area": null,
            "grid_auto_columns": null,
            "grid_auto_flow": null,
            "grid_auto_rows": null,
            "grid_column": null,
            "grid_gap": null,
            "grid_row": null,
            "grid_template_areas": null,
            "grid_template_columns": null,
            "grid_template_rows": null,
            "height": null,
            "justify_content": null,
            "justify_items": null,
            "left": null,
            "margin": null,
            "max_height": null,
            "max_width": null,
            "min_height": null,
            "min_width": null,
            "object_fit": null,
            "object_position": null,
            "order": null,
            "overflow": null,
            "overflow_x": null,
            "overflow_y": null,
            "padding": null,
            "right": null,
            "top": null,
            "visibility": null,
            "width": null
          }
        },
        "d4d365fd2434421aaf9665e267232849": {
          "model_module": "@jupyter-widgets/controls",
          "model_name": "DescriptionStyleModel",
          "model_module_version": "1.5.0",
          "state": {
            "_model_module": "@jupyter-widgets/controls",
            "_model_module_version": "1.5.0",
            "_model_name": "DescriptionStyleModel",
            "_view_count": null,
            "_view_module": "@jupyter-widgets/base",
            "_view_module_version": "1.2.0",
            "_view_name": "StyleView",
            "description_width": ""
          }
        },
        "c59635fed5ff453f82b6e8a0116f2c1a": {
          "model_module": "@jupyter-widgets/controls",
          "model_name": "HBoxModel",
          "model_module_version": "1.5.0",
          "state": {
            "_dom_classes": [],
            "_model_module": "@jupyter-widgets/controls",
            "_model_module_version": "1.5.0",
            "_model_name": "HBoxModel",
            "_view_count": null,
            "_view_module": "@jupyter-widgets/controls",
            "_view_module_version": "1.5.0",
            "_view_name": "HBoxView",
            "box_style": "",
            "children": [
              "IPY_MODEL_7a21d8cdf8b94df7a2c4a73e78f9d3bf",
              "IPY_MODEL_cd63a89cee984df1889742444a33c559",
              "IPY_MODEL_4211bf32514043aa8ad8f5f8b5e99a77"
            ],
            "layout": "IPY_MODEL_0cade1a8a5f3439ba08ad5585a590467"
          }
        },
        "7a21d8cdf8b94df7a2c4a73e78f9d3bf": {
          "model_module": "@jupyter-widgets/controls",
          "model_name": "HTMLModel",
          "model_module_version": "1.5.0",
          "state": {
            "_dom_classes": [],
            "_model_module": "@jupyter-widgets/controls",
            "_model_module_version": "1.5.0",
            "_model_name": "HTMLModel",
            "_view_count": null,
            "_view_module": "@jupyter-widgets/controls",
            "_view_module_version": "1.5.0",
            "_view_name": "HTMLView",
            "description": "",
            "description_tooltip": null,
            "layout": "IPY_MODEL_905b0097a7704b37bb73f103f76a8637",
            "placeholder": "​",
            "style": "IPY_MODEL_a05fbe1e0353422fb11bb52780122254",
            "value": "Map: 100%"
          }
        },
        "cd63a89cee984df1889742444a33c559": {
          "model_module": "@jupyter-widgets/controls",
          "model_name": "FloatProgressModel",
          "model_module_version": "1.5.0",
          "state": {
            "_dom_classes": [],
            "_model_module": "@jupyter-widgets/controls",
            "_model_module_version": "1.5.0",
            "_model_name": "FloatProgressModel",
            "_view_count": null,
            "_view_module": "@jupyter-widgets/controls",
            "_view_module_version": "1.5.0",
            "_view_name": "ProgressView",
            "bar_style": "success",
            "description": "",
            "description_tooltip": null,
            "layout": "IPY_MODEL_f5d1f1c844294df085c8acb2934187db",
            "max": 68,
            "min": 0,
            "orientation": "horizontal",
            "style": "IPY_MODEL_23fd987e9aae49ce9543d06963eb3886",
            "value": 68
          }
        },
        "4211bf32514043aa8ad8f5f8b5e99a77": {
          "model_module": "@jupyter-widgets/controls",
          "model_name": "HTMLModel",
          "model_module_version": "1.5.0",
          "state": {
            "_dom_classes": [],
            "_model_module": "@jupyter-widgets/controls",
            "_model_module_version": "1.5.0",
            "_model_name": "HTMLModel",
            "_view_count": null,
            "_view_module": "@jupyter-widgets/controls",
            "_view_module_version": "1.5.0",
            "_view_name": "HTMLView",
            "description": "",
            "description_tooltip": null,
            "layout": "IPY_MODEL_f15e46a2519549619748fc26b3ebeb9e",
            "placeholder": "​",
            "style": "IPY_MODEL_846a19d3143745fba1cf14ab46a5280b",
            "value": " 68/68 [00:00&lt;00:00, 375.44 examples/s]"
          }
        },
        "0cade1a8a5f3439ba08ad5585a590467": {
          "model_module": "@jupyter-widgets/base",
          "model_name": "LayoutModel",
          "model_module_version": "1.2.0",
          "state": {
            "_model_module": "@jupyter-widgets/base",
            "_model_module_version": "1.2.0",
            "_model_name": "LayoutModel",
            "_view_count": null,
            "_view_module": "@jupyter-widgets/base",
            "_view_module_version": "1.2.0",
            "_view_name": "LayoutView",
            "align_content": null,
            "align_items": null,
            "align_self": null,
            "border": null,
            "bottom": null,
            "display": null,
            "flex": null,
            "flex_flow": null,
            "grid_area": null,
            "grid_auto_columns": null,
            "grid_auto_flow": null,
            "grid_auto_rows": null,
            "grid_column": null,
            "grid_gap": null,
            "grid_row": null,
            "grid_template_areas": null,
            "grid_template_columns": null,
            "grid_template_rows": null,
            "height": null,
            "justify_content": null,
            "justify_items": null,
            "left": null,
            "margin": null,
            "max_height": null,
            "max_width": null,
            "min_height": null,
            "min_width": null,
            "object_fit": null,
            "object_position": null,
            "order": null,
            "overflow": null,
            "overflow_x": null,
            "overflow_y": null,
            "padding": null,
            "right": null,
            "top": null,
            "visibility": null,
            "width": null
          }
        },
        "905b0097a7704b37bb73f103f76a8637": {
          "model_module": "@jupyter-widgets/base",
          "model_name": "LayoutModel",
          "model_module_version": "1.2.0",
          "state": {
            "_model_module": "@jupyter-widgets/base",
            "_model_module_version": "1.2.0",
            "_model_name": "LayoutModel",
            "_view_count": null,
            "_view_module": "@jupyter-widgets/base",
            "_view_module_version": "1.2.0",
            "_view_name": "LayoutView",
            "align_content": null,
            "align_items": null,
            "align_self": null,
            "border": null,
            "bottom": null,
            "display": null,
            "flex": null,
            "flex_flow": null,
            "grid_area": null,
            "grid_auto_columns": null,
            "grid_auto_flow": null,
            "grid_auto_rows": null,
            "grid_column": null,
            "grid_gap": null,
            "grid_row": null,
            "grid_template_areas": null,
            "grid_template_columns": null,
            "grid_template_rows": null,
            "height": null,
            "justify_content": null,
            "justify_items": null,
            "left": null,
            "margin": null,
            "max_height": null,
            "max_width": null,
            "min_height": null,
            "min_width": null,
            "object_fit": null,
            "object_position": null,
            "order": null,
            "overflow": null,
            "overflow_x": null,
            "overflow_y": null,
            "padding": null,
            "right": null,
            "top": null,
            "visibility": null,
            "width": null
          }
        },
        "a05fbe1e0353422fb11bb52780122254": {
          "model_module": "@jupyter-widgets/controls",
          "model_name": "DescriptionStyleModel",
          "model_module_version": "1.5.0",
          "state": {
            "_model_module": "@jupyter-widgets/controls",
            "_model_module_version": "1.5.0",
            "_model_name": "DescriptionStyleModel",
            "_view_count": null,
            "_view_module": "@jupyter-widgets/base",
            "_view_module_version": "1.2.0",
            "_view_name": "StyleView",
            "description_width": ""
          }
        },
        "f5d1f1c844294df085c8acb2934187db": {
          "model_module": "@jupyter-widgets/base",
          "model_name": "LayoutModel",
          "model_module_version": "1.2.0",
          "state": {
            "_model_module": "@jupyter-widgets/base",
            "_model_module_version": "1.2.0",
            "_model_name": "LayoutModel",
            "_view_count": null,
            "_view_module": "@jupyter-widgets/base",
            "_view_module_version": "1.2.0",
            "_view_name": "LayoutView",
            "align_content": null,
            "align_items": null,
            "align_self": null,
            "border": null,
            "bottom": null,
            "display": null,
            "flex": null,
            "flex_flow": null,
            "grid_area": null,
            "grid_auto_columns": null,
            "grid_auto_flow": null,
            "grid_auto_rows": null,
            "grid_column": null,
            "grid_gap": null,
            "grid_row": null,
            "grid_template_areas": null,
            "grid_template_columns": null,
            "grid_template_rows": null,
            "height": null,
            "justify_content": null,
            "justify_items": null,
            "left": null,
            "margin": null,
            "max_height": null,
            "max_width": null,
            "min_height": null,
            "min_width": null,
            "object_fit": null,
            "object_position": null,
            "order": null,
            "overflow": null,
            "overflow_x": null,
            "overflow_y": null,
            "padding": null,
            "right": null,
            "top": null,
            "visibility": null,
            "width": null
          }
        },
        "23fd987e9aae49ce9543d06963eb3886": {
          "model_module": "@jupyter-widgets/controls",
          "model_name": "ProgressStyleModel",
          "model_module_version": "1.5.0",
          "state": {
            "_model_module": "@jupyter-widgets/controls",
            "_model_module_version": "1.5.0",
            "_model_name": "ProgressStyleModel",
            "_view_count": null,
            "_view_module": "@jupyter-widgets/base",
            "_view_module_version": "1.2.0",
            "_view_name": "StyleView",
            "bar_color": null,
            "description_width": ""
          }
        },
        "f15e46a2519549619748fc26b3ebeb9e": {
          "model_module": "@jupyter-widgets/base",
          "model_name": "LayoutModel",
          "model_module_version": "1.2.0",
          "state": {
            "_model_module": "@jupyter-widgets/base",
            "_model_module_version": "1.2.0",
            "_model_name": "LayoutModel",
            "_view_count": null,
            "_view_module": "@jupyter-widgets/base",
            "_view_module_version": "1.2.0",
            "_view_name": "LayoutView",
            "align_content": null,
            "align_items": null,
            "align_self": null,
            "border": null,
            "bottom": null,
            "display": null,
            "flex": null,
            "flex_flow": null,
            "grid_area": null,
            "grid_auto_columns": null,
            "grid_auto_flow": null,
            "grid_auto_rows": null,
            "grid_column": null,
            "grid_gap": null,
            "grid_row": null,
            "grid_template_areas": null,
            "grid_template_columns": null,
            "grid_template_rows": null,
            "height": null,
            "justify_content": null,
            "justify_items": null,
            "left": null,
            "margin": null,
            "max_height": null,
            "max_width": null,
            "min_height": null,
            "min_width": null,
            "object_fit": null,
            "object_position": null,
            "order": null,
            "overflow": null,
            "overflow_x": null,
            "overflow_y": null,
            "padding": null,
            "right": null,
            "top": null,
            "visibility": null,
            "width": null
          }
        },
        "846a19d3143745fba1cf14ab46a5280b": {
          "model_module": "@jupyter-widgets/controls",
          "model_name": "DescriptionStyleModel",
          "model_module_version": "1.5.0",
          "state": {
            "_model_module": "@jupyter-widgets/controls",
            "_model_module_version": "1.5.0",
            "_model_name": "DescriptionStyleModel",
            "_view_count": null,
            "_view_module": "@jupyter-widgets/base",
            "_view_module_version": "1.2.0",
            "_view_name": "StyleView",
            "description_width": ""
          }
        },
        "ac280643144b4e53bf6139d86d4fb875": {
          "model_module": "@jupyter-widgets/controls",
          "model_name": "HBoxModel",
          "model_module_version": "1.5.0",
          "state": {
            "_dom_classes": [],
            "_model_module": "@jupyter-widgets/controls",
            "_model_module_version": "1.5.0",
            "_model_name": "HBoxModel",
            "_view_count": null,
            "_view_module": "@jupyter-widgets/controls",
            "_view_module_version": "1.5.0",
            "_view_name": "HBoxView",
            "box_style": "",
            "children": [
              "IPY_MODEL_287c3bfe81dc49709d839e572abc25e9",
              "IPY_MODEL_bd007812158343219e51693329cc3f13",
              "IPY_MODEL_1067da25dc7048d3b7d48c505efe138e"
            ],
            "layout": "IPY_MODEL_077f08d521af48b18d078d978d17cb4e"
          }
        },
        "287c3bfe81dc49709d839e572abc25e9": {
          "model_module": "@jupyter-widgets/controls",
          "model_name": "HTMLModel",
          "model_module_version": "1.5.0",
          "state": {
            "_dom_classes": [],
            "_model_module": "@jupyter-widgets/controls",
            "_model_module_version": "1.5.0",
            "_model_name": "HTMLModel",
            "_view_count": null,
            "_view_module": "@jupyter-widgets/controls",
            "_view_module_version": "1.5.0",
            "_view_name": "HTMLView",
            "description": "",
            "description_tooltip": null,
            "layout": "IPY_MODEL_03f77ab598184d2d93a478c01afd8210",
            "placeholder": "​",
            "style": "IPY_MODEL_2c963a36f88542de92d210e638f90530",
            "value": "Map: 100%"
          }
        },
        "bd007812158343219e51693329cc3f13": {
          "model_module": "@jupyter-widgets/controls",
          "model_name": "FloatProgressModel",
          "model_module_version": "1.5.0",
          "state": {
            "_dom_classes": [],
            "_model_module": "@jupyter-widgets/controls",
            "_model_module_version": "1.5.0",
            "_model_name": "FloatProgressModel",
            "_view_count": null,
            "_view_module": "@jupyter-widgets/controls",
            "_view_module_version": "1.5.0",
            "_view_name": "ProgressView",
            "bar_style": "success",
            "description": "",
            "description_tooltip": null,
            "layout": "IPY_MODEL_491f3d058b4c481ba7a1fbfdb7ef1640",
            "max": 204,
            "min": 0,
            "orientation": "horizontal",
            "style": "IPY_MODEL_1786579046da4246a3f4feda8854638c",
            "value": 204
          }
        },
        "1067da25dc7048d3b7d48c505efe138e": {
          "model_module": "@jupyter-widgets/controls",
          "model_name": "HTMLModel",
          "model_module_version": "1.5.0",
          "state": {
            "_dom_classes": [],
            "_model_module": "@jupyter-widgets/controls",
            "_model_module_version": "1.5.0",
            "_model_name": "HTMLModel",
            "_view_count": null,
            "_view_module": "@jupyter-widgets/controls",
            "_view_module_version": "1.5.0",
            "_view_name": "HTMLView",
            "description": "",
            "description_tooltip": null,
            "layout": "IPY_MODEL_59d28da7ff6c4ea0a15367cb09a3c527",
            "placeholder": "​",
            "style": "IPY_MODEL_8be75f849f024e09a189a74de26fe6d9",
            "value": " 204/204 [00:00&lt;00:00, 433.53 examples/s]"
          }
        },
        "077f08d521af48b18d078d978d17cb4e": {
          "model_module": "@jupyter-widgets/base",
          "model_name": "LayoutModel",
          "model_module_version": "1.2.0",
          "state": {
            "_model_module": "@jupyter-widgets/base",
            "_model_module_version": "1.2.0",
            "_model_name": "LayoutModel",
            "_view_count": null,
            "_view_module": "@jupyter-widgets/base",
            "_view_module_version": "1.2.0",
            "_view_name": "LayoutView",
            "align_content": null,
            "align_items": null,
            "align_self": null,
            "border": null,
            "bottom": null,
            "display": null,
            "flex": null,
            "flex_flow": null,
            "grid_area": null,
            "grid_auto_columns": null,
            "grid_auto_flow": null,
            "grid_auto_rows": null,
            "grid_column": null,
            "grid_gap": null,
            "grid_row": null,
            "grid_template_areas": null,
            "grid_template_columns": null,
            "grid_template_rows": null,
            "height": null,
            "justify_content": null,
            "justify_items": null,
            "left": null,
            "margin": null,
            "max_height": null,
            "max_width": null,
            "min_height": null,
            "min_width": null,
            "object_fit": null,
            "object_position": null,
            "order": null,
            "overflow": null,
            "overflow_x": null,
            "overflow_y": null,
            "padding": null,
            "right": null,
            "top": null,
            "visibility": null,
            "width": null
          }
        },
        "03f77ab598184d2d93a478c01afd8210": {
          "model_module": "@jupyter-widgets/base",
          "model_name": "LayoutModel",
          "model_module_version": "1.2.0",
          "state": {
            "_model_module": "@jupyter-widgets/base",
            "_model_module_version": "1.2.0",
            "_model_name": "LayoutModel",
            "_view_count": null,
            "_view_module": "@jupyter-widgets/base",
            "_view_module_version": "1.2.0",
            "_view_name": "LayoutView",
            "align_content": null,
            "align_items": null,
            "align_self": null,
            "border": null,
            "bottom": null,
            "display": null,
            "flex": null,
            "flex_flow": null,
            "grid_area": null,
            "grid_auto_columns": null,
            "grid_auto_flow": null,
            "grid_auto_rows": null,
            "grid_column": null,
            "grid_gap": null,
            "grid_row": null,
            "grid_template_areas": null,
            "grid_template_columns": null,
            "grid_template_rows": null,
            "height": null,
            "justify_content": null,
            "justify_items": null,
            "left": null,
            "margin": null,
            "max_height": null,
            "max_width": null,
            "min_height": null,
            "min_width": null,
            "object_fit": null,
            "object_position": null,
            "order": null,
            "overflow": null,
            "overflow_x": null,
            "overflow_y": null,
            "padding": null,
            "right": null,
            "top": null,
            "visibility": null,
            "width": null
          }
        },
        "2c963a36f88542de92d210e638f90530": {
          "model_module": "@jupyter-widgets/controls",
          "model_name": "DescriptionStyleModel",
          "model_module_version": "1.5.0",
          "state": {
            "_model_module": "@jupyter-widgets/controls",
            "_model_module_version": "1.5.0",
            "_model_name": "DescriptionStyleModel",
            "_view_count": null,
            "_view_module": "@jupyter-widgets/base",
            "_view_module_version": "1.2.0",
            "_view_name": "StyleView",
            "description_width": ""
          }
        },
        "491f3d058b4c481ba7a1fbfdb7ef1640": {
          "model_module": "@jupyter-widgets/base",
          "model_name": "LayoutModel",
          "model_module_version": "1.2.0",
          "state": {
            "_model_module": "@jupyter-widgets/base",
            "_model_module_version": "1.2.0",
            "_model_name": "LayoutModel",
            "_view_count": null,
            "_view_module": "@jupyter-widgets/base",
            "_view_module_version": "1.2.0",
            "_view_name": "LayoutView",
            "align_content": null,
            "align_items": null,
            "align_self": null,
            "border": null,
            "bottom": null,
            "display": null,
            "flex": null,
            "flex_flow": null,
            "grid_area": null,
            "grid_auto_columns": null,
            "grid_auto_flow": null,
            "grid_auto_rows": null,
            "grid_column": null,
            "grid_gap": null,
            "grid_row": null,
            "grid_template_areas": null,
            "grid_template_columns": null,
            "grid_template_rows": null,
            "height": null,
            "justify_content": null,
            "justify_items": null,
            "left": null,
            "margin": null,
            "max_height": null,
            "max_width": null,
            "min_height": null,
            "min_width": null,
            "object_fit": null,
            "object_position": null,
            "order": null,
            "overflow": null,
            "overflow_x": null,
            "overflow_y": null,
            "padding": null,
            "right": null,
            "top": null,
            "visibility": null,
            "width": null
          }
        },
        "1786579046da4246a3f4feda8854638c": {
          "model_module": "@jupyter-widgets/controls",
          "model_name": "ProgressStyleModel",
          "model_module_version": "1.5.0",
          "state": {
            "_model_module": "@jupyter-widgets/controls",
            "_model_module_version": "1.5.0",
            "_model_name": "ProgressStyleModel",
            "_view_count": null,
            "_view_module": "@jupyter-widgets/base",
            "_view_module_version": "1.2.0",
            "_view_name": "StyleView",
            "bar_color": null,
            "description_width": ""
          }
        },
        "59d28da7ff6c4ea0a15367cb09a3c527": {
          "model_module": "@jupyter-widgets/base",
          "model_name": "LayoutModel",
          "model_module_version": "1.2.0",
          "state": {
            "_model_module": "@jupyter-widgets/base",
            "_model_module_version": "1.2.0",
            "_model_name": "LayoutModel",
            "_view_count": null,
            "_view_module": "@jupyter-widgets/base",
            "_view_module_version": "1.2.0",
            "_view_name": "LayoutView",
            "align_content": null,
            "align_items": null,
            "align_self": null,
            "border": null,
            "bottom": null,
            "display": null,
            "flex": null,
            "flex_flow": null,
            "grid_area": null,
            "grid_auto_columns": null,
            "grid_auto_flow": null,
            "grid_auto_rows": null,
            "grid_column": null,
            "grid_gap": null,
            "grid_row": null,
            "grid_template_areas": null,
            "grid_template_columns": null,
            "grid_template_rows": null,
            "height": null,
            "justify_content": null,
            "justify_items": null,
            "left": null,
            "margin": null,
            "max_height": null,
            "max_width": null,
            "min_height": null,
            "min_width": null,
            "object_fit": null,
            "object_position": null,
            "order": null,
            "overflow": null,
            "overflow_x": null,
            "overflow_y": null,
            "padding": null,
            "right": null,
            "top": null,
            "visibility": null,
            "width": null
          }
        },
        "8be75f849f024e09a189a74de26fe6d9": {
          "model_module": "@jupyter-widgets/controls",
          "model_name": "DescriptionStyleModel",
          "model_module_version": "1.5.0",
          "state": {
            "_model_module": "@jupyter-widgets/controls",
            "_model_module_version": "1.5.0",
            "_model_name": "DescriptionStyleModel",
            "_view_count": null,
            "_view_module": "@jupyter-widgets/base",
            "_view_module_version": "1.2.0",
            "_view_name": "StyleView",
            "description_width": ""
          }
        },
        "cac0887e02444462b371db564cca125e": {
          "model_module": "@jupyter-widgets/controls",
          "model_name": "HBoxModel",
          "model_module_version": "1.5.0",
          "state": {
            "_dom_classes": [],
            "_model_module": "@jupyter-widgets/controls",
            "_model_module_version": "1.5.0",
            "_model_name": "HBoxModel",
            "_view_count": null,
            "_view_module": "@jupyter-widgets/controls",
            "_view_module_version": "1.5.0",
            "_view_name": "HBoxView",
            "box_style": "",
            "children": [
              "IPY_MODEL_77774e94bd174a03b57489ce54169c15",
              "IPY_MODEL_194e58c46d1d4c978ffb193db17f46f0",
              "IPY_MODEL_8a61081d8d2c4b14ad37338149542122"
            ],
            "layout": "IPY_MODEL_f7ba07657499462cb5f62d93c157ac5b"
          }
        },
        "77774e94bd174a03b57489ce54169c15": {
          "model_module": "@jupyter-widgets/controls",
          "model_name": "HTMLModel",
          "model_module_version": "1.5.0",
          "state": {
            "_dom_classes": [],
            "_model_module": "@jupyter-widgets/controls",
            "_model_module_version": "1.5.0",
            "_model_name": "HTMLModel",
            "_view_count": null,
            "_view_module": "@jupyter-widgets/controls",
            "_view_module_version": "1.5.0",
            "_view_name": "HTMLView",
            "description": "",
            "description_tooltip": null,
            "layout": "IPY_MODEL_d4799e9de68e4e0b881f4a52cdf2df58",
            "placeholder": "​",
            "style": "IPY_MODEL_cd5693385f194abf957eef5c0ae8f964",
            "value": "model.safetensors: 100%"
          }
        },
        "194e58c46d1d4c978ffb193db17f46f0": {
          "model_module": "@jupyter-widgets/controls",
          "model_name": "FloatProgressModel",
          "model_module_version": "1.5.0",
          "state": {
            "_dom_classes": [],
            "_model_module": "@jupyter-widgets/controls",
            "_model_module_version": "1.5.0",
            "_model_name": "FloatProgressModel",
            "_view_count": null,
            "_view_module": "@jupyter-widgets/controls",
            "_view_module_version": "1.5.0",
            "_view_name": "ProgressView",
            "bar_style": "success",
            "description": "",
            "description_tooltip": null,
            "layout": "IPY_MODEL_4b14c39ef708450c84597377e3ff279d",
            "max": 440449768,
            "min": 0,
            "orientation": "horizontal",
            "style": "IPY_MODEL_86e6f76985b74fd587e5a98a93b9baee",
            "value": 440449768
          }
        },
        "8a61081d8d2c4b14ad37338149542122": {
          "model_module": "@jupyter-widgets/controls",
          "model_name": "HTMLModel",
          "model_module_version": "1.5.0",
          "state": {
            "_dom_classes": [],
            "_model_module": "@jupyter-widgets/controls",
            "_model_module_version": "1.5.0",
            "_model_name": "HTMLModel",
            "_view_count": null,
            "_view_module": "@jupyter-widgets/controls",
            "_view_module_version": "1.5.0",
            "_view_name": "HTMLView",
            "description": "",
            "description_tooltip": null,
            "layout": "IPY_MODEL_0bc797fef9eb443aa32ed26c53039784",
            "placeholder": "​",
            "style": "IPY_MODEL_23aece1e1675456080deb35fb85d7570",
            "value": " 440M/440M [00:02&lt;00:00, 198MB/s]"
          }
        },
        "f7ba07657499462cb5f62d93c157ac5b": {
          "model_module": "@jupyter-widgets/base",
          "model_name": "LayoutModel",
          "model_module_version": "1.2.0",
          "state": {
            "_model_module": "@jupyter-widgets/base",
            "_model_module_version": "1.2.0",
            "_model_name": "LayoutModel",
            "_view_count": null,
            "_view_module": "@jupyter-widgets/base",
            "_view_module_version": "1.2.0",
            "_view_name": "LayoutView",
            "align_content": null,
            "align_items": null,
            "align_self": null,
            "border": null,
            "bottom": null,
            "display": null,
            "flex": null,
            "flex_flow": null,
            "grid_area": null,
            "grid_auto_columns": null,
            "grid_auto_flow": null,
            "grid_auto_rows": null,
            "grid_column": null,
            "grid_gap": null,
            "grid_row": null,
            "grid_template_areas": null,
            "grid_template_columns": null,
            "grid_template_rows": null,
            "height": null,
            "justify_content": null,
            "justify_items": null,
            "left": null,
            "margin": null,
            "max_height": null,
            "max_width": null,
            "min_height": null,
            "min_width": null,
            "object_fit": null,
            "object_position": null,
            "order": null,
            "overflow": null,
            "overflow_x": null,
            "overflow_y": null,
            "padding": null,
            "right": null,
            "top": null,
            "visibility": null,
            "width": null
          }
        },
        "d4799e9de68e4e0b881f4a52cdf2df58": {
          "model_module": "@jupyter-widgets/base",
          "model_name": "LayoutModel",
          "model_module_version": "1.2.0",
          "state": {
            "_model_module": "@jupyter-widgets/base",
            "_model_module_version": "1.2.0",
            "_model_name": "LayoutModel",
            "_view_count": null,
            "_view_module": "@jupyter-widgets/base",
            "_view_module_version": "1.2.0",
            "_view_name": "LayoutView",
            "align_content": null,
            "align_items": null,
            "align_self": null,
            "border": null,
            "bottom": null,
            "display": null,
            "flex": null,
            "flex_flow": null,
            "grid_area": null,
            "grid_auto_columns": null,
            "grid_auto_flow": null,
            "grid_auto_rows": null,
            "grid_column": null,
            "grid_gap": null,
            "grid_row": null,
            "grid_template_areas": null,
            "grid_template_columns": null,
            "grid_template_rows": null,
            "height": null,
            "justify_content": null,
            "justify_items": null,
            "left": null,
            "margin": null,
            "max_height": null,
            "max_width": null,
            "min_height": null,
            "min_width": null,
            "object_fit": null,
            "object_position": null,
            "order": null,
            "overflow": null,
            "overflow_x": null,
            "overflow_y": null,
            "padding": null,
            "right": null,
            "top": null,
            "visibility": null,
            "width": null
          }
        },
        "cd5693385f194abf957eef5c0ae8f964": {
          "model_module": "@jupyter-widgets/controls",
          "model_name": "DescriptionStyleModel",
          "model_module_version": "1.5.0",
          "state": {
            "_model_module": "@jupyter-widgets/controls",
            "_model_module_version": "1.5.0",
            "_model_name": "DescriptionStyleModel",
            "_view_count": null,
            "_view_module": "@jupyter-widgets/base",
            "_view_module_version": "1.2.0",
            "_view_name": "StyleView",
            "description_width": ""
          }
        },
        "4b14c39ef708450c84597377e3ff279d": {
          "model_module": "@jupyter-widgets/base",
          "model_name": "LayoutModel",
          "model_module_version": "1.2.0",
          "state": {
            "_model_module": "@jupyter-widgets/base",
            "_model_module_version": "1.2.0",
            "_model_name": "LayoutModel",
            "_view_count": null,
            "_view_module": "@jupyter-widgets/base",
            "_view_module_version": "1.2.0",
            "_view_name": "LayoutView",
            "align_content": null,
            "align_items": null,
            "align_self": null,
            "border": null,
            "bottom": null,
            "display": null,
            "flex": null,
            "flex_flow": null,
            "grid_area": null,
            "grid_auto_columns": null,
            "grid_auto_flow": null,
            "grid_auto_rows": null,
            "grid_column": null,
            "grid_gap": null,
            "grid_row": null,
            "grid_template_areas": null,
            "grid_template_columns": null,
            "grid_template_rows": null,
            "height": null,
            "justify_content": null,
            "justify_items": null,
            "left": null,
            "margin": null,
            "max_height": null,
            "max_width": null,
            "min_height": null,
            "min_width": null,
            "object_fit": null,
            "object_position": null,
            "order": null,
            "overflow": null,
            "overflow_x": null,
            "overflow_y": null,
            "padding": null,
            "right": null,
            "top": null,
            "visibility": null,
            "width": null
          }
        },
        "86e6f76985b74fd587e5a98a93b9baee": {
          "model_module": "@jupyter-widgets/controls",
          "model_name": "ProgressStyleModel",
          "model_module_version": "1.5.0",
          "state": {
            "_model_module": "@jupyter-widgets/controls",
            "_model_module_version": "1.5.0",
            "_model_name": "ProgressStyleModel",
            "_view_count": null,
            "_view_module": "@jupyter-widgets/base",
            "_view_module_version": "1.2.0",
            "_view_name": "StyleView",
            "bar_color": null,
            "description_width": ""
          }
        },
        "0bc797fef9eb443aa32ed26c53039784": {
          "model_module": "@jupyter-widgets/base",
          "model_name": "LayoutModel",
          "model_module_version": "1.2.0",
          "state": {
            "_model_module": "@jupyter-widgets/base",
            "_model_module_version": "1.2.0",
            "_model_name": "LayoutModel",
            "_view_count": null,
            "_view_module": "@jupyter-widgets/base",
            "_view_module_version": "1.2.0",
            "_view_name": "LayoutView",
            "align_content": null,
            "align_items": null,
            "align_self": null,
            "border": null,
            "bottom": null,
            "display": null,
            "flex": null,
            "flex_flow": null,
            "grid_area": null,
            "grid_auto_columns": null,
            "grid_auto_flow": null,
            "grid_auto_rows": null,
            "grid_column": null,
            "grid_gap": null,
            "grid_row": null,
            "grid_template_areas": null,
            "grid_template_columns": null,
            "grid_template_rows": null,
            "height": null,
            "justify_content": null,
            "justify_items": null,
            "left": null,
            "margin": null,
            "max_height": null,
            "max_width": null,
            "min_height": null,
            "min_width": null,
            "object_fit": null,
            "object_position": null,
            "order": null,
            "overflow": null,
            "overflow_x": null,
            "overflow_y": null,
            "padding": null,
            "right": null,
            "top": null,
            "visibility": null,
            "width": null
          }
        },
        "23aece1e1675456080deb35fb85d7570": {
          "model_module": "@jupyter-widgets/controls",
          "model_name": "DescriptionStyleModel",
          "model_module_version": "1.5.0",
          "state": {
            "_model_module": "@jupyter-widgets/controls",
            "_model_module_version": "1.5.0",
            "_model_name": "DescriptionStyleModel",
            "_view_count": null,
            "_view_module": "@jupyter-widgets/base",
            "_view_module_version": "1.2.0",
            "_view_name": "StyleView",
            "description_width": ""
          }
        },
        "4c477c6b345c427ba11b067fab2022d6": {
          "model_module": "@jupyter-widgets/controls",
          "model_name": "HBoxModel",
          "model_module_version": "1.5.0",
          "state": {
            "_dom_classes": [],
            "_model_module": "@jupyter-widgets/controls",
            "_model_module_version": "1.5.0",
            "_model_name": "HBoxModel",
            "_view_count": null,
            "_view_module": "@jupyter-widgets/controls",
            "_view_module_version": "1.5.0",
            "_view_name": "HBoxView",
            "box_style": "",
            "children": [
              "IPY_MODEL_5cc1d5ec28cb401f8031e72ac1e61560",
              "IPY_MODEL_32111d152bad449ca3a5ba4ff1581b0d",
              "IPY_MODEL_1a7b2806022b4b229c3556996bb1f7b5"
            ],
            "layout": "IPY_MODEL_a00fda7173094063ad5d41a1fc0b7be1"
          }
        },
        "5cc1d5ec28cb401f8031e72ac1e61560": {
          "model_module": "@jupyter-widgets/controls",
          "model_name": "HTMLModel",
          "model_module_version": "1.5.0",
          "state": {
            "_dom_classes": [],
            "_model_module": "@jupyter-widgets/controls",
            "_model_module_version": "1.5.0",
            "_model_name": "HTMLModel",
            "_view_count": null,
            "_view_module": "@jupyter-widgets/controls",
            "_view_module_version": "1.5.0",
            "_view_name": "HTMLView",
            "description": "",
            "description_tooltip": null,
            "layout": "IPY_MODEL_26ac7e2e54d04bf4858ee11797ef004a",
            "placeholder": "​",
            "style": "IPY_MODEL_53c5ca1085b6422f87f04ab2fc55fac1",
            "value": "README.md: 100%"
          }
        },
        "32111d152bad449ca3a5ba4ff1581b0d": {
          "model_module": "@jupyter-widgets/controls",
          "model_name": "FloatProgressModel",
          "model_module_version": "1.5.0",
          "state": {
            "_dom_classes": [],
            "_model_module": "@jupyter-widgets/controls",
            "_model_module_version": "1.5.0",
            "_model_name": "FloatProgressModel",
            "_view_count": null,
            "_view_module": "@jupyter-widgets/controls",
            "_view_module_version": "1.5.0",
            "_view_name": "ProgressView",
            "bar_style": "success",
            "description": "",
            "description_tooltip": null,
            "layout": "IPY_MODEL_55758f8eaefa4c96b5d36f86cf7a6520",
            "max": 5174,
            "min": 0,
            "orientation": "horizontal",
            "style": "IPY_MODEL_f9925e72652543f9b2f2b30745c1be77",
            "value": 5174
          }
        },
        "1a7b2806022b4b229c3556996bb1f7b5": {
          "model_module": "@jupyter-widgets/controls",
          "model_name": "HTMLModel",
          "model_module_version": "1.5.0",
          "state": {
            "_dom_classes": [],
            "_model_module": "@jupyter-widgets/controls",
            "_model_module_version": "1.5.0",
            "_model_name": "HTMLModel",
            "_view_count": null,
            "_view_module": "@jupyter-widgets/controls",
            "_view_module_version": "1.5.0",
            "_view_name": "HTMLView",
            "description": "",
            "description_tooltip": null,
            "layout": "IPY_MODEL_7be4395432424d958dabe4c2a95379a9",
            "placeholder": "​",
            "style": "IPY_MODEL_e8af450f4f574068b7edeae85b1686a3",
            "value": " 5.17k/5.17k [00:00&lt;00:00, 241kB/s]"
          }
        },
        "a00fda7173094063ad5d41a1fc0b7be1": {
          "model_module": "@jupyter-widgets/base",
          "model_name": "LayoutModel",
          "model_module_version": "1.2.0",
          "state": {
            "_model_module": "@jupyter-widgets/base",
            "_model_module_version": "1.2.0",
            "_model_name": "LayoutModel",
            "_view_count": null,
            "_view_module": "@jupyter-widgets/base",
            "_view_module_version": "1.2.0",
            "_view_name": "LayoutView",
            "align_content": null,
            "align_items": null,
            "align_self": null,
            "border": null,
            "bottom": null,
            "display": null,
            "flex": null,
            "flex_flow": null,
            "grid_area": null,
            "grid_auto_columns": null,
            "grid_auto_flow": null,
            "grid_auto_rows": null,
            "grid_column": null,
            "grid_gap": null,
            "grid_row": null,
            "grid_template_areas": null,
            "grid_template_columns": null,
            "grid_template_rows": null,
            "height": null,
            "justify_content": null,
            "justify_items": null,
            "left": null,
            "margin": null,
            "max_height": null,
            "max_width": null,
            "min_height": null,
            "min_width": null,
            "object_fit": null,
            "object_position": null,
            "order": null,
            "overflow": null,
            "overflow_x": null,
            "overflow_y": null,
            "padding": null,
            "right": null,
            "top": null,
            "visibility": null,
            "width": null
          }
        },
        "26ac7e2e54d04bf4858ee11797ef004a": {
          "model_module": "@jupyter-widgets/base",
          "model_name": "LayoutModel",
          "model_module_version": "1.2.0",
          "state": {
            "_model_module": "@jupyter-widgets/base",
            "_model_module_version": "1.2.0",
            "_model_name": "LayoutModel",
            "_view_count": null,
            "_view_module": "@jupyter-widgets/base",
            "_view_module_version": "1.2.0",
            "_view_name": "LayoutView",
            "align_content": null,
            "align_items": null,
            "align_self": null,
            "border": null,
            "bottom": null,
            "display": null,
            "flex": null,
            "flex_flow": null,
            "grid_area": null,
            "grid_auto_columns": null,
            "grid_auto_flow": null,
            "grid_auto_rows": null,
            "grid_column": null,
            "grid_gap": null,
            "grid_row": null,
            "grid_template_areas": null,
            "grid_template_columns": null,
            "grid_template_rows": null,
            "height": null,
            "justify_content": null,
            "justify_items": null,
            "left": null,
            "margin": null,
            "max_height": null,
            "max_width": null,
            "min_height": null,
            "min_width": null,
            "object_fit": null,
            "object_position": null,
            "order": null,
            "overflow": null,
            "overflow_x": null,
            "overflow_y": null,
            "padding": null,
            "right": null,
            "top": null,
            "visibility": null,
            "width": null
          }
        },
        "53c5ca1085b6422f87f04ab2fc55fac1": {
          "model_module": "@jupyter-widgets/controls",
          "model_name": "DescriptionStyleModel",
          "model_module_version": "1.5.0",
          "state": {
            "_model_module": "@jupyter-widgets/controls",
            "_model_module_version": "1.5.0",
            "_model_name": "DescriptionStyleModel",
            "_view_count": null,
            "_view_module": "@jupyter-widgets/base",
            "_view_module_version": "1.2.0",
            "_view_name": "StyleView",
            "description_width": ""
          }
        },
        "55758f8eaefa4c96b5d36f86cf7a6520": {
          "model_module": "@jupyter-widgets/base",
          "model_name": "LayoutModel",
          "model_module_version": "1.2.0",
          "state": {
            "_model_module": "@jupyter-widgets/base",
            "_model_module_version": "1.2.0",
            "_model_name": "LayoutModel",
            "_view_count": null,
            "_view_module": "@jupyter-widgets/base",
            "_view_module_version": "1.2.0",
            "_view_name": "LayoutView",
            "align_content": null,
            "align_items": null,
            "align_self": null,
            "border": null,
            "bottom": null,
            "display": null,
            "flex": null,
            "flex_flow": null,
            "grid_area": null,
            "grid_auto_columns": null,
            "grid_auto_flow": null,
            "grid_auto_rows": null,
            "grid_column": null,
            "grid_gap": null,
            "grid_row": null,
            "grid_template_areas": null,
            "grid_template_columns": null,
            "grid_template_rows": null,
            "height": null,
            "justify_content": null,
            "justify_items": null,
            "left": null,
            "margin": null,
            "max_height": null,
            "max_width": null,
            "min_height": null,
            "min_width": null,
            "object_fit": null,
            "object_position": null,
            "order": null,
            "overflow": null,
            "overflow_x": null,
            "overflow_y": null,
            "padding": null,
            "right": null,
            "top": null,
            "visibility": null,
            "width": null
          }
        },
        "f9925e72652543f9b2f2b30745c1be77": {
          "model_module": "@jupyter-widgets/controls",
          "model_name": "ProgressStyleModel",
          "model_module_version": "1.5.0",
          "state": {
            "_model_module": "@jupyter-widgets/controls",
            "_model_module_version": "1.5.0",
            "_model_name": "ProgressStyleModel",
            "_view_count": null,
            "_view_module": "@jupyter-widgets/base",
            "_view_module_version": "1.2.0",
            "_view_name": "StyleView",
            "bar_color": null,
            "description_width": ""
          }
        },
        "7be4395432424d958dabe4c2a95379a9": {
          "model_module": "@jupyter-widgets/base",
          "model_name": "LayoutModel",
          "model_module_version": "1.2.0",
          "state": {
            "_model_module": "@jupyter-widgets/base",
            "_model_module_version": "1.2.0",
            "_model_name": "LayoutModel",
            "_view_count": null,
            "_view_module": "@jupyter-widgets/base",
            "_view_module_version": "1.2.0",
            "_view_name": "LayoutView",
            "align_content": null,
            "align_items": null,
            "align_self": null,
            "border": null,
            "bottom": null,
            "display": null,
            "flex": null,
            "flex_flow": null,
            "grid_area": null,
            "grid_auto_columns": null,
            "grid_auto_flow": null,
            "grid_auto_rows": null,
            "grid_column": null,
            "grid_gap": null,
            "grid_row": null,
            "grid_template_areas": null,
            "grid_template_columns": null,
            "grid_template_rows": null,
            "height": null,
            "justify_content": null,
            "justify_items": null,
            "left": null,
            "margin": null,
            "max_height": null,
            "max_width": null,
            "min_height": null,
            "min_width": null,
            "object_fit": null,
            "object_position": null,
            "order": null,
            "overflow": null,
            "overflow_x": null,
            "overflow_y": null,
            "padding": null,
            "right": null,
            "top": null,
            "visibility": null,
            "width": null
          }
        },
        "e8af450f4f574068b7edeae85b1686a3": {
          "model_module": "@jupyter-widgets/controls",
          "model_name": "DescriptionStyleModel",
          "model_module_version": "1.5.0",
          "state": {
            "_model_module": "@jupyter-widgets/controls",
            "_model_module_version": "1.5.0",
            "_model_name": "DescriptionStyleModel",
            "_view_count": null,
            "_view_module": "@jupyter-widgets/base",
            "_view_module_version": "1.2.0",
            "_view_name": "StyleView",
            "description_width": ""
          }
        },
        "632c826843b041f291530aeeab5d0786": {
          "model_module": "@jupyter-widgets/controls",
          "model_name": "HBoxModel",
          "model_module_version": "1.5.0",
          "state": {
            "_dom_classes": [],
            "_model_module": "@jupyter-widgets/controls",
            "_model_module_version": "1.5.0",
            "_model_name": "HBoxModel",
            "_view_count": null,
            "_view_module": "@jupyter-widgets/controls",
            "_view_module_version": "1.5.0",
            "_view_name": "HBoxView",
            "box_style": "",
            "children": [
              "IPY_MODEL_0f9c6d0b4d8c464980959948cfdbded4",
              "IPY_MODEL_163021f65ec34e4488ebd5c308f92e7c",
              "IPY_MODEL_f0fa331ac523433d9d98cf500914502b"
            ],
            "layout": "IPY_MODEL_7407dd3da68343efa867ca4d841dba94"
          }
        },
        "0f9c6d0b4d8c464980959948cfdbded4": {
          "model_module": "@jupyter-widgets/controls",
          "model_name": "HTMLModel",
          "model_module_version": "1.5.0",
          "state": {
            "_dom_classes": [],
            "_model_module": "@jupyter-widgets/controls",
            "_model_module_version": "1.5.0",
            "_model_name": "HTMLModel",
            "_view_count": null,
            "_view_module": "@jupyter-widgets/controls",
            "_view_module_version": "1.5.0",
            "_view_name": "HTMLView",
            "description": "",
            "description_tooltip": null,
            "layout": "IPY_MODEL_eab8790ef1af416a8a18707e485c7e8f",
            "placeholder": "​",
            "style": "IPY_MODEL_3dabeeb100574e839836d58cefd24120",
            "value": "model.safetensors: 100%"
          }
        },
        "163021f65ec34e4488ebd5c308f92e7c": {
          "model_module": "@jupyter-widgets/controls",
          "model_name": "FloatProgressModel",
          "model_module_version": "1.5.0",
          "state": {
            "_dom_classes": [],
            "_model_module": "@jupyter-widgets/controls",
            "_model_module_version": "1.5.0",
            "_model_name": "FloatProgressModel",
            "_view_count": null,
            "_view_module": "@jupyter-widgets/controls",
            "_view_module_version": "1.5.0",
            "_view_name": "ProgressView",
            "bar_style": "success",
            "description": "",
            "description_tooltip": null,
            "layout": "IPY_MODEL_84cd650e63634eb2b6919ae4e9d7747c",
            "max": 438586152,
            "min": 0,
            "orientation": "horizontal",
            "style": "IPY_MODEL_e572c6b391094d6fb39827a96dc1a401",
            "value": 438586152
          }
        },
        "f0fa331ac523433d9d98cf500914502b": {
          "model_module": "@jupyter-widgets/controls",
          "model_name": "HTMLModel",
          "model_module_version": "1.5.0",
          "state": {
            "_dom_classes": [],
            "_model_module": "@jupyter-widgets/controls",
            "_model_module_version": "1.5.0",
            "_model_name": "HTMLModel",
            "_view_count": null,
            "_view_module": "@jupyter-widgets/controls",
            "_view_module_version": "1.5.0",
            "_view_name": "HTMLView",
            "description": "",
            "description_tooltip": null,
            "layout": "IPY_MODEL_d30de5a5b695430ca9471b59d0bd50eb",
            "placeholder": "​",
            "style": "IPY_MODEL_b2a2b03728a3401dab8f781b69d3826c",
            "value": " 439M/439M [00:19&lt;00:00, 16.5MB/s]"
          }
        },
        "7407dd3da68343efa867ca4d841dba94": {
          "model_module": "@jupyter-widgets/base",
          "model_name": "LayoutModel",
          "model_module_version": "1.2.0",
          "state": {
            "_model_module": "@jupyter-widgets/base",
            "_model_module_version": "1.2.0",
            "_model_name": "LayoutModel",
            "_view_count": null,
            "_view_module": "@jupyter-widgets/base",
            "_view_module_version": "1.2.0",
            "_view_name": "LayoutView",
            "align_content": null,
            "align_items": null,
            "align_self": null,
            "border": null,
            "bottom": null,
            "display": null,
            "flex": null,
            "flex_flow": null,
            "grid_area": null,
            "grid_auto_columns": null,
            "grid_auto_flow": null,
            "grid_auto_rows": null,
            "grid_column": null,
            "grid_gap": null,
            "grid_row": null,
            "grid_template_areas": null,
            "grid_template_columns": null,
            "grid_template_rows": null,
            "height": null,
            "justify_content": null,
            "justify_items": null,
            "left": null,
            "margin": null,
            "max_height": null,
            "max_width": null,
            "min_height": null,
            "min_width": null,
            "object_fit": null,
            "object_position": null,
            "order": null,
            "overflow": null,
            "overflow_x": null,
            "overflow_y": null,
            "padding": null,
            "right": null,
            "top": null,
            "visibility": null,
            "width": null
          }
        },
        "eab8790ef1af416a8a18707e485c7e8f": {
          "model_module": "@jupyter-widgets/base",
          "model_name": "LayoutModel",
          "model_module_version": "1.2.0",
          "state": {
            "_model_module": "@jupyter-widgets/base",
            "_model_module_version": "1.2.0",
            "_model_name": "LayoutModel",
            "_view_count": null,
            "_view_module": "@jupyter-widgets/base",
            "_view_module_version": "1.2.0",
            "_view_name": "LayoutView",
            "align_content": null,
            "align_items": null,
            "align_self": null,
            "border": null,
            "bottom": null,
            "display": null,
            "flex": null,
            "flex_flow": null,
            "grid_area": null,
            "grid_auto_columns": null,
            "grid_auto_flow": null,
            "grid_auto_rows": null,
            "grid_column": null,
            "grid_gap": null,
            "grid_row": null,
            "grid_template_areas": null,
            "grid_template_columns": null,
            "grid_template_rows": null,
            "height": null,
            "justify_content": null,
            "justify_items": null,
            "left": null,
            "margin": null,
            "max_height": null,
            "max_width": null,
            "min_height": null,
            "min_width": null,
            "object_fit": null,
            "object_position": null,
            "order": null,
            "overflow": null,
            "overflow_x": null,
            "overflow_y": null,
            "padding": null,
            "right": null,
            "top": null,
            "visibility": null,
            "width": null
          }
        },
        "3dabeeb100574e839836d58cefd24120": {
          "model_module": "@jupyter-widgets/controls",
          "model_name": "DescriptionStyleModel",
          "model_module_version": "1.5.0",
          "state": {
            "_model_module": "@jupyter-widgets/controls",
            "_model_module_version": "1.5.0",
            "_model_name": "DescriptionStyleModel",
            "_view_count": null,
            "_view_module": "@jupyter-widgets/base",
            "_view_module_version": "1.2.0",
            "_view_name": "StyleView",
            "description_width": ""
          }
        },
        "84cd650e63634eb2b6919ae4e9d7747c": {
          "model_module": "@jupyter-widgets/base",
          "model_name": "LayoutModel",
          "model_module_version": "1.2.0",
          "state": {
            "_model_module": "@jupyter-widgets/base",
            "_model_module_version": "1.2.0",
            "_model_name": "LayoutModel",
            "_view_count": null,
            "_view_module": "@jupyter-widgets/base",
            "_view_module_version": "1.2.0",
            "_view_name": "LayoutView",
            "align_content": null,
            "align_items": null,
            "align_self": null,
            "border": null,
            "bottom": null,
            "display": null,
            "flex": null,
            "flex_flow": null,
            "grid_area": null,
            "grid_auto_columns": null,
            "grid_auto_flow": null,
            "grid_auto_rows": null,
            "grid_column": null,
            "grid_gap": null,
            "grid_row": null,
            "grid_template_areas": null,
            "grid_template_columns": null,
            "grid_template_rows": null,
            "height": null,
            "justify_content": null,
            "justify_items": null,
            "left": null,
            "margin": null,
            "max_height": null,
            "max_width": null,
            "min_height": null,
            "min_width": null,
            "object_fit": null,
            "object_position": null,
            "order": null,
            "overflow": null,
            "overflow_x": null,
            "overflow_y": null,
            "padding": null,
            "right": null,
            "top": null,
            "visibility": null,
            "width": null
          }
        },
        "e572c6b391094d6fb39827a96dc1a401": {
          "model_module": "@jupyter-widgets/controls",
          "model_name": "ProgressStyleModel",
          "model_module_version": "1.5.0",
          "state": {
            "_model_module": "@jupyter-widgets/controls",
            "_model_module_version": "1.5.0",
            "_model_name": "ProgressStyleModel",
            "_view_count": null,
            "_view_module": "@jupyter-widgets/base",
            "_view_module_version": "1.2.0",
            "_view_name": "StyleView",
            "bar_color": null,
            "description_width": ""
          }
        },
        "d30de5a5b695430ca9471b59d0bd50eb": {
          "model_module": "@jupyter-widgets/base",
          "model_name": "LayoutModel",
          "model_module_version": "1.2.0",
          "state": {
            "_model_module": "@jupyter-widgets/base",
            "_model_module_version": "1.2.0",
            "_model_name": "LayoutModel",
            "_view_count": null,
            "_view_module": "@jupyter-widgets/base",
            "_view_module_version": "1.2.0",
            "_view_name": "LayoutView",
            "align_content": null,
            "align_items": null,
            "align_self": null,
            "border": null,
            "bottom": null,
            "display": null,
            "flex": null,
            "flex_flow": null,
            "grid_area": null,
            "grid_auto_columns": null,
            "grid_auto_flow": null,
            "grid_auto_rows": null,
            "grid_column": null,
            "grid_gap": null,
            "grid_row": null,
            "grid_template_areas": null,
            "grid_template_columns": null,
            "grid_template_rows": null,
            "height": null,
            "justify_content": null,
            "justify_items": null,
            "left": null,
            "margin": null,
            "max_height": null,
            "max_width": null,
            "min_height": null,
            "min_width": null,
            "object_fit": null,
            "object_position": null,
            "order": null,
            "overflow": null,
            "overflow_x": null,
            "overflow_y": null,
            "padding": null,
            "right": null,
            "top": null,
            "visibility": null,
            "width": null
          }
        },
        "b2a2b03728a3401dab8f781b69d3826c": {
          "model_module": "@jupyter-widgets/controls",
          "model_name": "DescriptionStyleModel",
          "model_module_version": "1.5.0",
          "state": {
            "_model_module": "@jupyter-widgets/controls",
            "_model_module_version": "1.5.0",
            "_model_name": "DescriptionStyleModel",
            "_view_count": null,
            "_view_module": "@jupyter-widgets/base",
            "_view_module_version": "1.2.0",
            "_view_name": "StyleView",
            "description_width": ""
          }
        }
      }
    },
    "accelerator": "GPU"
  },
  "nbformat": 4,
  "nbformat_minor": 0
}