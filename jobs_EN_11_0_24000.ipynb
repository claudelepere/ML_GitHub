{
  "cells": [
    {
      "cell_type": "markdown",
      "metadata": {
        "id": "view-in-github",
        "colab_type": "text"
      },
      "source": [
        "<a href=\"https://colab.research.google.com/github/claudelepere/ML_GitHub/blob/main/jobs_EN_11_0_24000.ipynb\" target=\"_parent\"><img src=\"https://colab.research.google.com/assets/colab-badge.svg\" alt=\"Open In Colab\"/></a>"
      ]
    },
    {
      "cell_type": "code",
      "execution_count": null,
      "metadata": {
        "colab": {
          "base_uri": "https://localhost:8080/"
        },
        "id": "9OIjOPWowcJq",
        "outputId": "d14420bd-7bf2-46f8-f400-a1747f5357a0"
      },
      "outputs": [
        {
          "output_type": "stream",
          "name": "stdout",
          "text": [
            "\u001b[2K   \u001b[90m━━━━━━━━━━━━━━━━━━━━━━━━━━━━━━━━━━━━━━━━\u001b[0m \u001b[32m363.4/363.4 MB\u001b[0m \u001b[31m2.9 MB/s\u001b[0m eta \u001b[36m0:00:00\u001b[0m\n",
            "\u001b[2K   \u001b[90m━━━━━━━━━━━━━━━━━━━━━━━━━━━━━━━━━━━━━━━━\u001b[0m \u001b[32m13.8/13.8 MB\u001b[0m \u001b[31m86.9 MB/s\u001b[0m eta \u001b[36m0:00:00\u001b[0m\n",
            "\u001b[2K   \u001b[90m━━━━━━━━━━━━━━━━━━━━━━━━━━━━━━━━━━━━━━━━\u001b[0m \u001b[32m24.6/24.6 MB\u001b[0m \u001b[31m61.9 MB/s\u001b[0m eta \u001b[36m0:00:00\u001b[0m\n",
            "\u001b[2K   \u001b[90m━━━━━━━━━━━━━━━━━━━━━━━━━━━━━━━━━━━━━━━━\u001b[0m \u001b[32m883.7/883.7 kB\u001b[0m \u001b[31m49.1 MB/s\u001b[0m eta \u001b[36m0:00:00\u001b[0m\n",
            "\u001b[2K   \u001b[90m━━━━━━━━━━━━━━━━━━━━━━━━━━━━━━━━━━━━━━━━\u001b[0m \u001b[32m664.8/664.8 MB\u001b[0m \u001b[31m1.7 MB/s\u001b[0m eta \u001b[36m0:00:00\u001b[0m\n",
            "\u001b[2K   \u001b[90m━━━━━━━━━━━━━━━━━━━━━━━━━━━━━━━━━━━━━━━━\u001b[0m \u001b[32m211.5/211.5 MB\u001b[0m \u001b[31m10.5 MB/s\u001b[0m eta \u001b[36m0:00:00\u001b[0m\n",
            "\u001b[2K   \u001b[90m━━━━━━━━━━━━━━━━━━━━━━━━━━━━━━━━━━━━━━━━\u001b[0m \u001b[32m56.3/56.3 MB\u001b[0m \u001b[31m38.2 MB/s\u001b[0m eta \u001b[36m0:00:00\u001b[0m\n",
            "\u001b[2K   \u001b[90m━━━━━━━━━━━━━━━━━━━━━━━━━━━━━━━━━━━━━━━━\u001b[0m \u001b[32m127.9/127.9 MB\u001b[0m \u001b[31m17.7 MB/s\u001b[0m eta \u001b[36m0:00:00\u001b[0m\n",
            "\u001b[2K   \u001b[90m━━━━━━━━━━━━━━━━━━━━━━━━━━━━━━━━━━━━━━━━\u001b[0m \u001b[32m207.5/207.5 MB\u001b[0m \u001b[31m4.1 MB/s\u001b[0m eta \u001b[36m0:00:00\u001b[0m\n",
            "\u001b[2K   \u001b[90m━━━━━━━━━━━━━━━━━━━━━━━━━━━━━━━━━━━━━━━━\u001b[0m \u001b[32m21.1/21.1 MB\u001b[0m \u001b[31m95.0 MB/s\u001b[0m eta \u001b[36m0:00:00\u001b[0m\n",
            "\u001b[2K   \u001b[90m━━━━━━━━━━━━━━━━━━━━━━━━━━━━━━━━━━━━━━━━\u001b[0m \u001b[32m480.6/480.6 kB\u001b[0m \u001b[31m34.8 MB/s\u001b[0m eta \u001b[36m0:00:00\u001b[0m\n",
            "\u001b[2K   \u001b[90m━━━━━━━━━━━━━━━━━━━━━━━━━━━━━━━━━━━━━━━━\u001b[0m \u001b[32m116.3/116.3 kB\u001b[0m \u001b[31m13.5 MB/s\u001b[0m eta \u001b[36m0:00:00\u001b[0m\n",
            "\u001b[2K   \u001b[90m━━━━━━━━━━━━━━━━━━━━━━━━━━━━━━━━━━━━━━━━\u001b[0m \u001b[32m179.3/179.3 kB\u001b[0m \u001b[31m19.0 MB/s\u001b[0m eta \u001b[36m0:00:00\u001b[0m\n",
            "\u001b[2K   \u001b[90m━━━━━━━━━━━━━━━━━━━━━━━━━━━━━━━━━━━━━━━━\u001b[0m \u001b[32m143.5/143.5 kB\u001b[0m \u001b[31m16.8 MB/s\u001b[0m eta \u001b[36m0:00:00\u001b[0m\n",
            "\u001b[2K   \u001b[90m━━━━━━━━━━━━━━━━━━━━━━━━━━━━━━━━━━━━━━━━\u001b[0m \u001b[32m194.8/194.8 kB\u001b[0m \u001b[31m20.8 MB/s\u001b[0m eta \u001b[36m0:00:00\u001b[0m\n",
            "\u001b[?25h\u001b[31mERROR: pip's dependency resolver does not currently take into account all the packages that are installed. This behaviour is the source of the following dependency conflicts.\n",
            "gcsfs 2024.10.0 requires fsspec==2024.10.0, but you have fsspec 2024.9.0 which is incompatible.\u001b[0m\u001b[31m\n",
            "\u001b[0m"
          ]
        }
      ],
      "source": [
        "!pip install -q accelerate\n",
        "!pip install -q huggingface_hub\n",
        "!pip install -q scikit-learn\n",
        "!pip install -q transformers datasets  # transformers and datasets are Hugging Face libraries\n",
        "!pip install -q wandb"
      ]
    },
    {
      "cell_type": "code",
      "execution_count": null,
      "metadata": {
        "id": "Ync6uXy-wcJs"
      },
      "outputs": [],
      "source": [
        "import datetime\n",
        "import json\n",
        "import numpy as np\n",
        "import os\n",
        "import pandas as pd\n",
        "import pickle\n",
        "import sys\n",
        "import time\n",
        "import torch\n",
        "import torch.nn.functional as F\n",
        "import wandb\n",
        "\n",
        "from datasets              import DatasetDict\n",
        "from google.colab          import auth, drive, files, userdata\n",
        "from huggingface_hub       import create_branch, create_repo, HfApi, login, upload_file, hf_hub_download, whoami\n",
        "from huggingface_hub.utils import RepositoryNotFoundError\n",
        "from sklearn.metrics       import accuracy_score, average_precision_score, classification_report, f1_score, precision_score, precision_recall_curve, precision_recall_fscore_support, recall_score, roc_auc_score\n",
        "from torch.utils.data      import DataLoader\n",
        "from tqdm.auto             import tqdm\n",
        "from transformers          import AdamW, EvalPrediction, LongformerTokenizerFast, LongformerForSequenceClassification, Trainer, TrainingArguments\n",
        "from torch.nn              import BCEWithLogitsLoss, Module"
      ]
    },
    {
      "cell_type": "markdown",
      "source": [
        "## Google Cloud authentication"
      ],
      "metadata": {
        "id": "wXMnrvto55rW"
      }
    },
    {
      "cell_type": "code",
      "source": [
        "auth.authenticate_user()  # user = c.lepere@ictjob.be"
      ],
      "metadata": {
        "id": "dLG2EnRQ53G4"
      },
      "execution_count": null,
      "outputs": []
    },
    {
      "cell_type": "markdown",
      "metadata": {
        "id": "-nkZXVHOruti"
      },
      "source": [
        "## Get skills and jobs"
      ]
    },
    {
      "cell_type": "code",
      "execution_count": null,
      "metadata": {
        "colab": {
          "base_uri": "https://localhost:8080/"
        },
        "outputId": "f3a247eb-93ae-4da5-88fe-413d964f60e6",
        "id": "kCDIh_QXrmdI"
      },
      "outputs": [
        {
          "output_type": "stream",
          "name": "stdout",
          "text": [
            "datasetDict_zip_file_name: dataset_EN_11_0_120.zip\n",
            "datasetDict_dir_name     : dataset_EN_11_0_120\n",
            "\n"
          ]
        }
      ],
      "source": [
        "skills         = 11\n",
        "all_rows_low   = 0\n",
        "all_rows_high  = 120 #24000\n",
        "num_datapoints = all_rows_high - all_rows_low\n",
        "\n",
        "datasetDict_zip_file_name = f\"dataset_EN_{skills}_{all_rows_low}_{all_rows_high}.zip\"\n",
        "datasetDict_dir_name      = os.path.splitext(datasetDict_zip_file_name)[0]\n",
        "\n",
        "print(f\"datasetDict_zip_file_name: {datasetDict_zip_file_name}\")\n",
        "print(f\"datasetDict_dir_name     : {datasetDict_dir_name}\")\n",
        "print()"
      ]
    },
    {
      "cell_type": "markdown",
      "source": [
        "## Tune thresholds?"
      ],
      "metadata": {
        "id": "hgxRu9m4Kb4_"
      }
    },
    {
      "cell_type": "code",
      "source": [
        "threshold_tuning = True"
      ],
      "metadata": {
        "id": "1KUJss-mKmRw"
      },
      "execution_count": null,
      "outputs": []
    },
    {
      "cell_type": "markdown",
      "source": [
        "## Upload to HF Hub?"
      ],
      "metadata": {
        "id": "lBe6WmEbwq2W"
      }
    },
    {
      "cell_type": "code",
      "source": [
        "upload_to_HF = False"
      ],
      "metadata": {
        "id": "riGK-dwYr1kw"
      },
      "execution_count": null,
      "outputs": []
    },
    {
      "cell_type": "markdown",
      "metadata": {
        "id": "98L73sydik95"
      },
      "source": [
        "## Hugging Face Hub (HF Hub) authenticate"
      ]
    },
    {
      "cell_type": "code",
      "execution_count": null,
      "metadata": {
        "id": "BNxYo9txwcJs"
      },
      "outputs": [],
      "source": [
        "if upload_to_HF:\n",
        "\n",
        "  os.environ[\"HF_TOKEN\"] = userdata.get(\"HF_TOKEN\")    # Store the key in os.environ\n",
        "  hf_token               = os.environ.get('HF_TOKEN')\n",
        "\n",
        "  login(token=hf_token)\n",
        "\n",
        "  # Check\n",
        "  user = whoami(token=hf_token)\n",
        "  assert user['name'] == 'claudelepere', f\"{user['name']} is not claudelepere\"\n",
        "  print(f\"user: {user}\")"
      ]
    },
    {
      "cell_type": "markdown",
      "metadata": {
        "id": "aPBlVmE3wcJv"
      },
      "source": [
        "## repo_id, branch, model and dataset repos on HF Hub\n",
        "**1 repo = 1 model and 1 tokenizer**\n",
        "\n",
        "**branch = revision**"
      ]
    },
    {
      "cell_type": "code",
      "execution_count": null,
      "metadata": {
        "id": "A1haRyaUwcJv"
      },
      "outputs": [],
      "source": [
        "if upload_to_HF:\n",
        "\n",
        "  if threshold_tuning:\n",
        "    repo_id   = 'claudelepere/jobs_EN_11_0_24000_tuned_thresholds'\n",
        "  else:\n",
        "    repo_id   = 'claudelepere/jobs_EN_11_0_24000'\n",
        "  timestamp = f\"{datetime.datetime.now().strftime('%Y-%m-%d %H:%M:%S')}\"\n",
        "\n",
        "  model_repoUrl   = create_repo(repo_id=repo_id, repo_type=\"model\",   private=True, exist_ok=True)\n",
        "  dataset_repoUrl = create_repo(repo_id=repo_id, repo_type=\"dataset\", private=True, exist_ok=True)\n",
        "\n",
        "  #create_branch(repo_id=repo_id, repo_type=\"model\",   branch=branch, exist_ok=True)\n",
        "  #create_branch(repo_id=repo_id, repo_type=\"dataset\", branch=branch, exist_ok=True)\n",
        "\n",
        "  print(f\"Model Repo Url: {model_repoUrl} created successfully as a private repo\")\n",
        "  print(f\"Dataset Repo Url: {dataset_repoUrl} created successfully as a private repo\")"
      ]
    },
    {
      "cell_type": "markdown",
      "source": [
        "## HF model card\n",
        "Model card here => README.md on the HF Hub."
      ],
      "metadata": {
        "id": "f1Ct9Ki6fLLL"
      }
    },
    {
      "cell_type": "code",
      "source": [
        "model_card = \"\"\"\n",
        "---\n",
        "tags:\n",
        "- \"24000\"\n",
        "---\n",
        "# Model\n",
        "Model fine-tuned on higly-imbalanced multilabel classification.\n",
        "\n",
        "## Model details\n",
        "- Language: English\n",
        "- Task: Multilabel classification\n",
        "- Architecture: Longformer\n",
        "- Pretrained model: [allenai/longformer-base-4096](https://huggingface.co/allenai/longformer-base-4096)\n",
        "- Framework: Pytorch\n",
        "- Version 1.0.0\n",
        "\n",
        "## Training Data\n",
        "- skills: 11\n",
        "- 24000 job datapoints\n",
        "\n",
        "## Fine-tuning parameters\n",
        "- batch size: 8\n",
        "- gradient accumulation: 4\n",
        "- fp16 precision\n",
        "- input tokens max length: 1024\n",
        "- epochs: 5\n",
        "- learning rate: 1e-5\n",
        "- tuned thresholds\n",
        "- attention window size: 1024\n",
        "\"\"\""
      ],
      "metadata": {
        "id": "G8Wn7JfxfFI0"
      },
      "execution_count": null,
      "outputs": []
    },
    {
      "cell_type": "markdown",
      "source": [
        "## Save locally and upload model card to HF Hub"
      ],
      "metadata": {
        "id": "_l8mrGaAqt3a"
      }
    },
    {
      "cell_type": "code",
      "source": [
        "if upload_to_HF:\n",
        "\n",
        "  with open(\"model_card.md\", \"w\") as f:\n",
        "    f.write(model_card)\n",
        "\n",
        "  upload_file(\n",
        "      path_or_fileobj = 'model_card.md',  # path to a file or a file-like object\n",
        "      path_in_repo    = 'README.md',\n",
        "      repo_id         = repo_id\n",
        "  )"
      ],
      "metadata": {
        "id": "aY4jxVl1qnEy"
      },
      "execution_count": null,
      "outputs": []
    },
    {
      "cell_type": "code",
      "execution_count": null,
      "metadata": {
        "id": "qhAd6EZJwcJt",
        "colab": {
          "base_uri": "https://localhost:8080/"
        },
        "outputId": "df55ae58-3c51-4da9-add3-484d0f253011"
      },
      "outputs": [
        {
          "output_type": "stream",
          "name": "stdout",
          "text": [
            "Python 3.11.11\n"
          ]
        }
      ],
      "source": [
        "\"\"\"\n",
        "# Check the Python version\n",
        "print(sys.version)\n",
        "print()\n",
        "\n",
        "# Get the installed packages (you can see that conda is not installed (do not install it))\n",
        "!pip list\n",
        "print()\n",
        "\n",
        "# Check system information\n",
        "!cat /etc/os-release\n",
        "!uname -m\n",
        "print()\n",
        "\n",
        "# Check the GPU details (only if the runtime type is T4 GPU)\n",
        "#!nvidia-smi\n",
        "#print()\n",
        "\n",
        "# Check RAM\n",
        "!free -h\n",
        "print()\n",
        "\n",
        "# Check disk space\n",
        "!df -h\n",
        "print()\n",
        "\n",
        "# Get environment variables\n",
        "for key, value in os.environ.items():\n",
        "    print(f\"{key}: {value}\")\n",
        "\"\"\"\n",
        "!python -V"
      ]
    },
    {
      "cell_type": "code",
      "execution_count": null,
      "metadata": {
        "id": "sUTMN8SSwcJt",
        "colab": {
          "base_uri": "https://localhost:8080/"
        },
        "outputId": "e585250d-b3a1-49d8-e3d6-482e505af0bf"
      },
      "outputs": [
        {
          "output_type": "stream",
          "name": "stdout",
          "text": [
            "currentdir: /content\n"
          ]
        }
      ],
      "source": [
        "print(f\"currentdir: {os.getcwd()}\")"
      ]
    },
    {
      "cell_type": "code",
      "execution_count": null,
      "metadata": {
        "id": "QIUfehpkwcJt",
        "colab": {
          "base_uri": "https://localhost:8080/"
        },
        "outputId": "286197e9-95aa-4c8d-d476-ac7d6b715081"
      },
      "outputs": [
        {
          "output_type": "stream",
          "name": "stdout",
          "text": [
            "device: cuda\n"
          ]
        }
      ],
      "source": [
        "device = torch.device(\"cuda\" if torch.cuda.is_available() else \"cpu\")\n",
        "print(f\"device: {device}\")"
      ]
    },
    {
      "cell_type": "markdown",
      "metadata": {
        "id": "pr4xZXGSXsEx"
      },
      "source": [
        "## Out Of Memory (OOM)"
      ]
    },
    {
      "cell_type": "markdown",
      "metadata": {
        "id": "nvigdvJgp8V9"
      },
      "source": [
        "### OOM: reduce batch size\n",
        "      small sizes (1 to 32):            PROs: better generalization in some cases\n",
        "                                        CONs: may produce noisier gradients\n",
        "      large sizes (128, 256, or higer): PROs: gradients are smoother, leading to more stable training\n",
        "                                        CONs: poorer generalization (overfitting) in some cases\n",
        "      intermediate sizes (32, 64):      combines the benefits of small and large sizes"
      ]
    },
    {
      "cell_type": "code",
      "execution_count": null,
      "metadata": {
        "id": "Bq0JDT07wcJt"
      },
      "outputs": [],
      "source": [
        "batch_size = 8"
      ]
    },
    {
      "cell_type": "markdown",
      "metadata": {
        "id": "rPERKMpOqa8X"
      },
      "source": [
        "### OOM: enable gradient accumulation\n",
        "\n",
        "* compensate for smaller batch sizes by accumulating gradients over several steps\n",
        "* **effective batch size** = per-device batch size x gradient acumulation steps\n",
        "* in each iteration, the model computes the gradients, these gradients are immediately used to update the model parameters\n",
        "\n",
        "WARNING: gradient_accumulation_steps may not be None => comment it in TrainingArguments"
      ]
    },
    {
      "cell_type": "code",
      "execution_count": null,
      "metadata": {
        "id": "nG0pflXGwcJt"
      },
      "outputs": [],
      "source": [
        "gradient_accumulation_steps = 4"
      ]
    },
    {
      "cell_type": "markdown",
      "metadata": {
        "id": "8yOaxNG3rzUt"
      },
      "source": [
        "### OOM: use PYTORCH_CUDA_ALLOC_CONF to handle memory fragmentation"
      ]
    },
    {
      "cell_type": "code",
      "execution_count": null,
      "metadata": {
        "id": "VXrPvSWAwcJt"
      },
      "outputs": [],
      "source": [
        "os.environ['PYTORCH_CUDA_ALLOC_CONF'] = 'expandable_segments:True'"
      ]
    },
    {
      "cell_type": "markdown",
      "metadata": {
        "id": "bmIswaWGsBBV"
      },
      "source": [
        "### OOM: check for and kill zombie processes"
      ]
    },
    {
      "cell_type": "code",
      "execution_count": null,
      "metadata": {
        "id": "JKeGyFYHwcJu",
        "colab": {
          "base_uri": "https://localhost:8080/"
        },
        "outputId": "6cd9bd39-8225-45c3-eb3f-5a8658207c03"
      },
      "outputs": [
        {
          "output_type": "stream",
          "name": "stdout",
          "text": [
            "root          85  2.1  0.0      0     0 ?        Z    18:06   0:13 [python3] <defunct>\n",
            "root          86  0.0  0.0  63640 50760 ?        S    18:06   0:00 python3 /usr/local/bin/colab-file\n",
            "root         131  0.5  0.1 775752 121804 ?       Sl   18:06   0:03 /usr/bin/python3 /usr/local/bin/j\n",
            "root        2233 14.9  1.4 12062112 1303840 ?    Ssl  18:15   0:20 /usr/bin/python3 -m colab_kernel_\n",
            "root        2282  0.5  0.0 545032 20792 ?        Sl   18:15   0:00 /usr/bin/python3 /usr/local/lib/p\n",
            "root        3042  0.0  0.0   7376  3476 ?        S    18:17   0:00 /bin/bash -c ps aux | grep python\n",
            "root        3044  0.0  0.0   6484  2428 ?        S    18:17   0:00 grep python\n",
            "/bin/bash: -c: line 1: syntax error near unexpected token `newline'\n",
            "/bin/bash: -c: line 1: `kill -9 <PID>'\n",
            "Thu Feb 13 18:17:38 2025       \n",
            "+-----------------------------------------------------------------------------------------+\n",
            "| NVIDIA-SMI 550.54.15              Driver Version: 550.54.15      CUDA Version: 12.4     |\n",
            "|-----------------------------------------+------------------------+----------------------+\n",
            "| GPU  Name                 Persistence-M | Bus-Id          Disp.A | Volatile Uncorr. ECC |\n",
            "| Fan  Temp   Perf          Pwr:Usage/Cap |           Memory-Usage | GPU-Util  Compute M. |\n",
            "|                                         |                        |               MIG M. |\n",
            "|=========================================+========================+======================|\n",
            "|   0  NVIDIA A100-SXM4-40GB          Off |   00000000:00:04.0 Off |                    0 |\n",
            "| N/A   34C    P0             47W /  400W |       5MiB /  40960MiB |      0%      Default |\n",
            "|                                         |                        |             Disabled |\n",
            "+-----------------------------------------+------------------------+----------------------+\n",
            "                                                                                         \n",
            "+-----------------------------------------------------------------------------------------+\n",
            "| Processes:                                                                              |\n",
            "|  GPU   GI   CI        PID   Type   Process name                              GPU Memory |\n",
            "|        ID   ID                                                               Usage      |\n",
            "|=========================================================================================|\n",
            "|  No running processes found                                                             |\n",
            "+-----------------------------------------------------------------------------------------+\n",
            "|===========================================================================|\n",
            "|                  PyTorch CUDA memory summary, device ID 0                 |\n",
            "|---------------------------------------------------------------------------|\n",
            "|            CUDA OOMs: 0            |        cudaMalloc retries: 0         |\n",
            "|===========================================================================|\n",
            "|        Metric         | Cur Usage  | Peak Usage | Tot Alloc  | Tot Freed  |\n",
            "|---------------------------------------------------------------------------|\n",
            "| Allocated memory      |      0 B   |      0 B   |      0 B   |      0 B   |\n",
            "|       from large pool |      0 B   |      0 B   |      0 B   |      0 B   |\n",
            "|       from small pool |      0 B   |      0 B   |      0 B   |      0 B   |\n",
            "|---------------------------------------------------------------------------|\n",
            "| Active memory         |      0 B   |      0 B   |      0 B   |      0 B   |\n",
            "|       from large pool |      0 B   |      0 B   |      0 B   |      0 B   |\n",
            "|       from small pool |      0 B   |      0 B   |      0 B   |      0 B   |\n",
            "|---------------------------------------------------------------------------|\n",
            "| Requested memory      |      0 B   |      0 B   |      0 B   |      0 B   |\n",
            "|       from large pool |      0 B   |      0 B   |      0 B   |      0 B   |\n",
            "|       from small pool |      0 B   |      0 B   |      0 B   |      0 B   |\n",
            "|---------------------------------------------------------------------------|\n",
            "| GPU reserved memory   |      0 B   |      0 B   |      0 B   |      0 B   |\n",
            "|       from large pool |      0 B   |      0 B   |      0 B   |      0 B   |\n",
            "|       from small pool |      0 B   |      0 B   |      0 B   |      0 B   |\n",
            "|---------------------------------------------------------------------------|\n",
            "| Non-releasable memory |      0 B   |      0 B   |      0 B   |      0 B   |\n",
            "|       from large pool |      0 B   |      0 B   |      0 B   |      0 B   |\n",
            "|       from small pool |      0 B   |      0 B   |      0 B   |      0 B   |\n",
            "|---------------------------------------------------------------------------|\n",
            "| Allocations           |       0    |       0    |       0    |       0    |\n",
            "|       from large pool |       0    |       0    |       0    |       0    |\n",
            "|       from small pool |       0    |       0    |       0    |       0    |\n",
            "|---------------------------------------------------------------------------|\n",
            "| Active allocs         |       0    |       0    |       0    |       0    |\n",
            "|       from large pool |       0    |       0    |       0    |       0    |\n",
            "|       from small pool |       0    |       0    |       0    |       0    |\n",
            "|---------------------------------------------------------------------------|\n",
            "| GPU reserved segments |       0    |       0    |       0    |       0    |\n",
            "|       from large pool |       0    |       0    |       0    |       0    |\n",
            "|       from small pool |       0    |       0    |       0    |       0    |\n",
            "|---------------------------------------------------------------------------|\n",
            "| Non-releasable allocs |       0    |       0    |       0    |       0    |\n",
            "|       from large pool |       0    |       0    |       0    |       0    |\n",
            "|       from small pool |       0    |       0    |       0    |       0    |\n",
            "|---------------------------------------------------------------------------|\n",
            "| Oversize allocations  |       0    |       0    |       0    |       0    |\n",
            "|---------------------------------------------------------------------------|\n",
            "| Oversize GPU segments |       0    |       0    |       0    |       0    |\n",
            "|===========================================================================|\n",
            "\n"
          ]
        }
      ],
      "source": [
        "!ps aux | grep python\n",
        "!kill -9 <PID>\n",
        "if torch.cuda.is_available():\n",
        "  !nvidia-smi\n",
        "  print(torch.cuda.memory_summary())"
      ]
    },
    {
      "cell_type": "markdown",
      "metadata": {
        "id": "TpKIEUjjsO-i"
      },
      "source": [
        "### OOM: use fp16 (half precision) mixed precision training\n",
        "reduces memory requirements by up to 50%"
      ]
    },
    {
      "cell_type": "code",
      "execution_count": null,
      "metadata": {
        "id": "BbyMivrEwcJu"
      },
      "outputs": [],
      "source": [
        "fp = 'fp16'"
      ]
    },
    {
      "cell_type": "markdown",
      "metadata": {
        "id": "FVhoxNtUwcJu"
      },
      "source": [
        "### OOM: limit the number of GPU workers:\n",
        "* 0 (default) or 1\n",
        "* in Colab dataloader_num_workers = 1"
      ]
    },
    {
      "cell_type": "markdown",
      "metadata": {
        "id": "-elhl5Pkssq8"
      },
      "source": [
        "### OOM: reduce model size or input tokens\n",
        "* LongformerTokenizer.from_pretrained('allenai/longformer-base/large-4096'): large/base: 435M/149M parameters\n",
        "* max_length: 4096 max for Longformer\n",
        "* a single word can be equal to several tokens; stop words are **NOT discarded**!\n",
        "* word_text_length_counts_sorted:\n",
        "      jobs count                 : 50000\n",
        "      jobs count under  512 words: 44794  89.59%\n",
        "      jobs count under  640 words: 47894  95.79%\n",
        "      jobs count under  768 words: 49123  98.25%\n",
        "      jobs count under  896 words: 49691  99.38%\n",
        "      jobs count under 1024 words: 49917  99.83%\n",
        "      jobs count under 2048 words: 50000 100.00%\n",
        "      jobs count under 4096 words: 50000 100.00%"
      ]
    },
    {
      "cell_type": "code",
      "execution_count": null,
      "metadata": {
        "id": "oZOpDR5JwcJu"
      },
      "outputs": [],
      "source": [
        "#max_length =  768    #      37 min    #\n",
        "max_length = 1024    #      38 min    # GPU RAM: 12.2 / 40 GB\n",
        "#max_length = 2048    # 1 hr 10 min    # GPU RAM: 21.4 / 40 GB\n",
        "#max_length = 4096    # 2 hr 10 min    # GPU RAM: 39.5 / 40 GB => OutOfMemoryError"
      ]
    },
    {
      "cell_type": "markdown",
      "metadata": {
        "id": "R4v9XcFLuudV"
      },
      "source": [
        "### OOM: free up GPU memory"
      ]
    },
    {
      "cell_type": "code",
      "execution_count": null,
      "metadata": {
        "id": "WJNB5_2HwcJu"
      },
      "outputs": [],
      "source": [
        "torch.cuda.empty_cache()"
      ]
    },
    {
      "cell_type": "markdown",
      "metadata": {
        "id": "EVi2_ymCwcJu"
      },
      "source": [
        "### OOM: reduce the number of transformers layers"
      ]
    },
    {
      "cell_type": "code",
      "execution_count": null,
      "metadata": {
        "id": "VBu-UPkq0Rq0"
      },
      "outputs": [],
      "source": [
        "# hidden_layers = 6  # default:12"
      ]
    },
    {
      "cell_type": "markdown",
      "metadata": {
        "id": "qizOQRXNu54F"
      },
      "source": [
        "## epoch\n",
        "* 1 epoch is a complete pass through the entire training dataset\n",
        "* with n datapoints and batch size = b, n/b iterations to complete 1 epoch\n",
        "* 1 iteration is a single update of the model's parameters"
      ]
    },
    {
      "cell_type": "code",
      "execution_count": null,
      "metadata": {
        "id": "KORJtBl7wcJu"
      },
      "outputs": [],
      "source": [
        "epochs = 5"
      ]
    },
    {
      "cell_type": "markdown",
      "metadata": {
        "id": "lBRPtOsqvm2P"
      },
      "source": [
        "## learning rate\n",
        "* A common rule is to scale the learning rate proportionaly with the effective batch size\n",
        "* **note: get_linear_schedule_with_warmup**"
      ]
    },
    {
      "cell_type": "code",
      "execution_count": null,
      "metadata": {
        "id": "EaoQWRXYwcJu"
      },
      "outputs": [],
      "source": [
        "learning_rate = 1e-5  # 1e-5 x 32/8"
      ]
    },
    {
      "cell_type": "markdown",
      "metadata": {
        "id": "_1j87eP0wCR7"
      },
      "source": [
        "## threshold\n",
        "default: 0.5"
      ]
    },
    {
      "cell_type": "code",
      "execution_count": null,
      "metadata": {
        "id": "c2Dfm6lvwcJu"
      },
      "outputs": [],
      "source": [
        "threshold = 0.5"
      ]
    },
    {
      "cell_type": "markdown",
      "metadata": {
        "id": "xNDt1EVUwOWE"
      },
      "source": [
        "## attention window size"
      ]
    },
    {
      "cell_type": "code",
      "execution_count": null,
      "metadata": {
        "id": "P-CmoMf9wcJ0"
      },
      "outputs": [],
      "source": [
        "attention_window = 1024 #512"
      ]
    },
    {
      "cell_type": "markdown",
      "metadata": {
        "id": "RPt8yoHMsksM"
      },
      "source": [
        "## Upload and unzip job dataset"
      ]
    },
    {
      "cell_type": "code",
      "execution_count": null,
      "metadata": {
        "id": "EvZTXW-_ZAJ-",
        "colab": {
          "base_uri": "https://localhost:8080/",
          "height": 299
        },
        "outputId": "5e3520d7-0eb1-4b7e-a493-5677ecf50de8"
      },
      "outputs": [
        {
          "output_type": "stream",
          "name": "stdout",
          "text": [
            "'dataset_EN_11_0_120.zip' not found in /content. Uploading...\n"
          ]
        },
        {
          "output_type": "display_data",
          "data": {
            "text/plain": [
              "<IPython.core.display.HTML object>"
            ],
            "text/html": [
              "\n",
              "     <input type=\"file\" id=\"files-8fb1afef-0f52-42f4-9d73-cf9facb5844f\" name=\"files[]\" multiple disabled\n",
              "        style=\"border:none\" />\n",
              "     <output id=\"result-8fb1afef-0f52-42f4-9d73-cf9facb5844f\">\n",
              "      Upload widget is only available when the cell has been executed in the\n",
              "      current browser session. Please rerun this cell to enable.\n",
              "      </output>\n",
              "      <script>// Copyright 2017 Google LLC\n",
              "//\n",
              "// Licensed under the Apache License, Version 2.0 (the \"License\");\n",
              "// you may not use this file except in compliance with the License.\n",
              "// You may obtain a copy of the License at\n",
              "//\n",
              "//      http://www.apache.org/licenses/LICENSE-2.0\n",
              "//\n",
              "// Unless required by applicable law or agreed to in writing, software\n",
              "// distributed under the License is distributed on an \"AS IS\" BASIS,\n",
              "// WITHOUT WARRANTIES OR CONDITIONS OF ANY KIND, either express or implied.\n",
              "// See the License for the specific language governing permissions and\n",
              "// limitations under the License.\n",
              "\n",
              "/**\n",
              " * @fileoverview Helpers for google.colab Python module.\n",
              " */\n",
              "(function(scope) {\n",
              "function span(text, styleAttributes = {}) {\n",
              "  const element = document.createElement('span');\n",
              "  element.textContent = text;\n",
              "  for (const key of Object.keys(styleAttributes)) {\n",
              "    element.style[key] = styleAttributes[key];\n",
              "  }\n",
              "  return element;\n",
              "}\n",
              "\n",
              "// Max number of bytes which will be uploaded at a time.\n",
              "const MAX_PAYLOAD_SIZE = 100 * 1024;\n",
              "\n",
              "function _uploadFiles(inputId, outputId) {\n",
              "  const steps = uploadFilesStep(inputId, outputId);\n",
              "  const outputElement = document.getElementById(outputId);\n",
              "  // Cache steps on the outputElement to make it available for the next call\n",
              "  // to uploadFilesContinue from Python.\n",
              "  outputElement.steps = steps;\n",
              "\n",
              "  return _uploadFilesContinue(outputId);\n",
              "}\n",
              "\n",
              "// This is roughly an async generator (not supported in the browser yet),\n",
              "// where there are multiple asynchronous steps and the Python side is going\n",
              "// to poll for completion of each step.\n",
              "// This uses a Promise to block the python side on completion of each step,\n",
              "// then passes the result of the previous step as the input to the next step.\n",
              "function _uploadFilesContinue(outputId) {\n",
              "  const outputElement = document.getElementById(outputId);\n",
              "  const steps = outputElement.steps;\n",
              "\n",
              "  const next = steps.next(outputElement.lastPromiseValue);\n",
              "  return Promise.resolve(next.value.promise).then((value) => {\n",
              "    // Cache the last promise value to make it available to the next\n",
              "    // step of the generator.\n",
              "    outputElement.lastPromiseValue = value;\n",
              "    return next.value.response;\n",
              "  });\n",
              "}\n",
              "\n",
              "/**\n",
              " * Generator function which is called between each async step of the upload\n",
              " * process.\n",
              " * @param {string} inputId Element ID of the input file picker element.\n",
              " * @param {string} outputId Element ID of the output display.\n",
              " * @return {!Iterable<!Object>} Iterable of next steps.\n",
              " */\n",
              "function* uploadFilesStep(inputId, outputId) {\n",
              "  const inputElement = document.getElementById(inputId);\n",
              "  inputElement.disabled = false;\n",
              "\n",
              "  const outputElement = document.getElementById(outputId);\n",
              "  outputElement.innerHTML = '';\n",
              "\n",
              "  const pickedPromise = new Promise((resolve) => {\n",
              "    inputElement.addEventListener('change', (e) => {\n",
              "      resolve(e.target.files);\n",
              "    });\n",
              "  });\n",
              "\n",
              "  const cancel = document.createElement('button');\n",
              "  inputElement.parentElement.appendChild(cancel);\n",
              "  cancel.textContent = 'Cancel upload';\n",
              "  const cancelPromise = new Promise((resolve) => {\n",
              "    cancel.onclick = () => {\n",
              "      resolve(null);\n",
              "    };\n",
              "  });\n",
              "\n",
              "  // Wait for the user to pick the files.\n",
              "  const files = yield {\n",
              "    promise: Promise.race([pickedPromise, cancelPromise]),\n",
              "    response: {\n",
              "      action: 'starting',\n",
              "    }\n",
              "  };\n",
              "\n",
              "  cancel.remove();\n",
              "\n",
              "  // Disable the input element since further picks are not allowed.\n",
              "  inputElement.disabled = true;\n",
              "\n",
              "  if (!files) {\n",
              "    return {\n",
              "      response: {\n",
              "        action: 'complete',\n",
              "      }\n",
              "    };\n",
              "  }\n",
              "\n",
              "  for (const file of files) {\n",
              "    const li = document.createElement('li');\n",
              "    li.append(span(file.name, {fontWeight: 'bold'}));\n",
              "    li.append(span(\n",
              "        `(${file.type || 'n/a'}) - ${file.size} bytes, ` +\n",
              "        `last modified: ${\n",
              "            file.lastModifiedDate ? file.lastModifiedDate.toLocaleDateString() :\n",
              "                                    'n/a'} - `));\n",
              "    const percent = span('0% done');\n",
              "    li.appendChild(percent);\n",
              "\n",
              "    outputElement.appendChild(li);\n",
              "\n",
              "    const fileDataPromise = new Promise((resolve) => {\n",
              "      const reader = new FileReader();\n",
              "      reader.onload = (e) => {\n",
              "        resolve(e.target.result);\n",
              "      };\n",
              "      reader.readAsArrayBuffer(file);\n",
              "    });\n",
              "    // Wait for the data to be ready.\n",
              "    let fileData = yield {\n",
              "      promise: fileDataPromise,\n",
              "      response: {\n",
              "        action: 'continue',\n",
              "      }\n",
              "    };\n",
              "\n",
              "    // Use a chunked sending to avoid message size limits. See b/62115660.\n",
              "    let position = 0;\n",
              "    do {\n",
              "      const length = Math.min(fileData.byteLength - position, MAX_PAYLOAD_SIZE);\n",
              "      const chunk = new Uint8Array(fileData, position, length);\n",
              "      position += length;\n",
              "\n",
              "      const base64 = btoa(String.fromCharCode.apply(null, chunk));\n",
              "      yield {\n",
              "        response: {\n",
              "          action: 'append',\n",
              "          file: file.name,\n",
              "          data: base64,\n",
              "        },\n",
              "      };\n",
              "\n",
              "      let percentDone = fileData.byteLength === 0 ?\n",
              "          100 :\n",
              "          Math.round((position / fileData.byteLength) * 100);\n",
              "      percent.textContent = `${percentDone}% done`;\n",
              "\n",
              "    } while (position < fileData.byteLength);\n",
              "  }\n",
              "\n",
              "  // All done.\n",
              "  yield {\n",
              "    response: {\n",
              "      action: 'complete',\n",
              "    }\n",
              "  };\n",
              "}\n",
              "\n",
              "scope.google = scope.google || {};\n",
              "scope.google.colab = scope.google.colab || {};\n",
              "scope.google.colab._files = {\n",
              "  _uploadFiles,\n",
              "  _uploadFilesContinue,\n",
              "};\n",
              "})(self);\n",
              "</script> "
            ]
          },
          "metadata": {}
        },
        {
          "output_type": "stream",
          "name": "stdout",
          "text": [
            "Saving dataset_EN_11_0_120.zip to dataset_EN_11_0_120.zip\n",
            "'dataset_EN_11_0_120.zip' successfully uploaded to /content\n",
            "Archive:  dataset_EN_11_0_120.zip\n",
            "  inflating: dataset_EN_11_0_120/dataset_dict.json  \n",
            "  inflating: dataset_EN_11_0_120/test/data-00000-of-00001.arrow  \n",
            "  inflating: dataset_EN_11_0_120/test/dataset_info.json  \n",
            "  inflating: dataset_EN_11_0_120/test/state.json  \n",
            "  inflating: dataset_EN_11_0_120/train/data-00000-of-00001.arrow  \n",
            "  inflating: dataset_EN_11_0_120/train/dataset_info.json  \n",
            "  inflating: dataset_EN_11_0_120/train/state.json  \n",
            "  inflating: dataset_EN_11_0_120/validation/data-00000-of-00001.arrow  \n",
            "  inflating: dataset_EN_11_0_120/validation/dataset_info.json  \n",
            "  inflating: dataset_EN_11_0_120/validation/state.json  \n"
          ]
        }
      ],
      "source": [
        "def upload_unzip_dataset(file_name=datasetDict_zip_file_name):\n",
        "  # Check if the file exists\n",
        "  if not os.path.exists(file_name):\n",
        "    print(f\"'{file_name}' not found in /content. Uploading...\")\n",
        "    uploaded_files = files.upload()                              # Prompt file upload dialog\n",
        "    if file_name not in uploaded_files:\n",
        "      raise FileNotFoundError(f\"'{file_name}' was not uploaded. Please try again.\")\n",
        "    print(f\"'{file_name}' successfully uploaded to /content\")\n",
        "    uploaded_file_name = list(uploaded_files.keys())[0]          # Get the name of the uploaded file\n",
        "\n",
        "    !unzip {uploaded_file_name}\n",
        "\n",
        "    unzipped_dir_name = os.path.splitext(uploaded_file_name)[0]\n",
        "    assert unzipped_dir_name==datasetDict_dir_name, \"unzipped_dir_name != datasetDict_dir_name\"\n",
        "  else:\n",
        "    print(f\"'{file_name}' already exists in /content.\")\n",
        "\n",
        "upload_unzip_dataset(datasetDict_zip_file_name)"
      ]
    },
    {
      "cell_type": "markdown",
      "metadata": {
        "id": "T90_cKa4wcJv"
      },
      "source": [
        "## W&B initialization (not used now)"
      ]
    },
    {
      "cell_type": "code",
      "execution_count": null,
      "metadata": {
        "id": "gweGUl--FNsZ",
        "colab": {
          "base_uri": "https://localhost:8080/"
        },
        "outputId": "6cae3dc8-d530-4f49-fa17-043d27e74403"
      },
      "outputs": [
        {
          "output_type": "stream",
          "name": "stdout",
          "text": [
            "run_name: EN_11_0_120_ml1024_ep5_lr1e-05_th0.5_at1024_fp16_ba8x4\n"
          ]
        }
      ],
      "source": [
        "run_name = f\"EN_{skills}_{all_rows_low}_{all_rows_high}_ml{max_length}_ep{epochs}_lr{learning_rate}_th{threshold}_at{attention_window}_{fp}\"\n",
        "\n",
        "if 'gradient_accumulation_steps' not in globals():\n",
        "  run_name = f\"{run_name}_ba{batch_size}\"\n",
        "else:\n",
        "  run_name = f\"{run_name}_ba{batch_size}x{gradient_accumulation_steps}\"\n",
        "\n",
        "print(f\"run_name: {run_name}\")"
      ]
    },
    {
      "cell_type": "code",
      "execution_count": null,
      "metadata": {
        "id": "giGsdqlUwcJz",
        "colab": {
          "base_uri": "https://localhost:8080/"
        },
        "outputId": "2ceea6b7-4cd7-465b-a2c7-aafad6b88aaf"
      },
      "outputs": [
        {
          "output_type": "stream",
          "name": "stderr",
          "text": [
            "\u001b[34m\u001b[1mwandb\u001b[0m: \u001b[33mWARNING\u001b[0m If you're specifying your api key in code, ensure this code is not shared publicly.\n",
            "\u001b[34m\u001b[1mwandb\u001b[0m: \u001b[33mWARNING\u001b[0m Consider setting the WANDB_API_KEY environment variable, or running `wandb login` from the command line.\n",
            "\u001b[34m\u001b[1mwandb\u001b[0m: Appending key for api.wandb.ai to your netrc file: /root/.netrc\n",
            "\u001b[34m\u001b[1mwandb\u001b[0m: Currently logged in as: \u001b[33mclaudelepere\u001b[0m (\u001b[33mclaudelepere-c-cile-cy\u001b[0m) to \u001b[32mhttps://api.wandb.ai\u001b[0m. Use \u001b[1m`wandb login --relogin`\u001b[0m to force relogin\n"
          ]
        },
        {
          "output_type": "execute_result",
          "data": {
            "text/plain": [
              "True"
            ]
          },
          "metadata": {},
          "execution_count": 28
        }
      ],
      "source": [
        "os.environ[\"WANDB_API_KEY\"] = userdata.get(\"WANDB_API_KEY\")        # Store the key in os.environ\n",
        "wandb_api_key               = os.environ.get('WANDB_API_KEY')\n",
        "wandb.login(key=wandb_api_key)"
      ]
    },
    {
      "cell_type": "code",
      "execution_count": null,
      "metadata": {
        "id": "JYJMUPCONEiD",
        "colab": {
          "base_uri": "https://localhost:8080/",
          "height": 121
        },
        "outputId": "1e7ff100-0c3a-4288-f3ea-dc4feea79e2d"
      },
      "outputs": [
        {
          "output_type": "stream",
          "name": "stderr",
          "text": [
            "\u001b[34m\u001b[1mwandb\u001b[0m: Using wandb-core as the SDK backend.  Please refer to https://wandb.me/wandb-core for more information.\n"
          ]
        },
        {
          "output_type": "display_data",
          "data": {
            "text/plain": [
              "<IPython.core.display.HTML object>"
            ],
            "text/html": [
              "Tracking run with wandb version 0.19.6"
            ]
          },
          "metadata": {}
        },
        {
          "output_type": "display_data",
          "data": {
            "text/plain": [
              "<IPython.core.display.HTML object>"
            ],
            "text/html": [
              "Run data is saved locally in <code>/content/wandb/run-20250213_181828-9ai4qs4g</code>"
            ]
          },
          "metadata": {}
        },
        {
          "output_type": "display_data",
          "data": {
            "text/plain": [
              "<IPython.core.display.HTML object>"
            ],
            "text/html": [
              "Syncing run <strong><a href='https://wandb.ai/claudelepere-c-cile-cy/skill_classification/runs/9ai4qs4g' target=\"_blank\">EN_11_0_120_ml1024_ep5_lr1e-05_th0.5_at1024_fp16_ba8x4</a></strong> to <a href='https://wandb.ai/claudelepere-c-cile-cy/skill_classification' target=\"_blank\">Weights & Biases</a> (<a href='https://wandb.me/developer-guide' target=\"_blank\">docs</a>)<br>"
            ]
          },
          "metadata": {}
        },
        {
          "output_type": "display_data",
          "data": {
            "text/plain": [
              "<IPython.core.display.HTML object>"
            ],
            "text/html": [
              " View project at <a href='https://wandb.ai/claudelepere-c-cile-cy/skill_classification' target=\"_blank\">https://wandb.ai/claudelepere-c-cile-cy/skill_classification</a>"
            ]
          },
          "metadata": {}
        },
        {
          "output_type": "display_data",
          "data": {
            "text/plain": [
              "<IPython.core.display.HTML object>"
            ],
            "text/html": [
              " View run at <a href='https://wandb.ai/claudelepere-c-cile-cy/skill_classification/runs/9ai4qs4g' target=\"_blank\">https://wandb.ai/claudelepere-c-cile-cy/skill_classification/runs/9ai4qs4g</a>"
            ]
          },
          "metadata": {}
        }
      ],
      "source": [
        "try:\n",
        "  wandb.init(\n",
        "      project = \"skill_classification\",\n",
        "      name    = run_name,\n",
        "      entity  = \"claudelepere-c-cile-cy\",\n",
        "      config  = {\n",
        "          \"learning_rate\": learning_rate,\n",
        "          \"epochs\"       : epochs,\n",
        "          \"batch_size\"   : batch_size\n",
        "      }\n",
        "  )\n",
        "except wandb.errors.CommError as err:\n",
        "  print(f\"CommError: {err}\")\n",
        "except Exception as exc:\n",
        "  print(f\"Exception: {exc}\")"
      ]
    },
    {
      "cell_type": "markdown",
      "metadata": {
        "id": "wfBhdTN9wcJz"
      },
      "source": [
        "## Create datasetDict (HF DatasetDict) = 3 HF Dataset, train, validation and test"
      ]
    },
    {
      "cell_type": "code",
      "execution_count": null,
      "metadata": {
        "id": "Fh_SgQD9wcJz"
      },
      "outputs": [],
      "source": [
        "datasetDict = DatasetDict.load_from_disk(datasetDict_dir_name)"
      ]
    },
    {
      "cell_type": "code",
      "execution_count": null,
      "metadata": {
        "id": "xcF4Gm8GFNsc",
        "colab": {
          "base_uri": "https://localhost:8080/"
        },
        "outputId": "87313d88-0adf-4a11-d748-3358ba51bcf4"
      },
      "outputs": [
        {
          "output_type": "stream",
          "name": "stdout",
          "text": [
            "datasetDict: <class 'datasets.dataset_dict.DatasetDict'> {'train': (96, 8), 'validation': (12, 8), 'test': (12, 8)}\n",
            "DatasetDict({\n",
            "    train: Dataset({\n",
            "        features: ['id', 'text', '390', '135', '136', '137', '138', '139'],\n",
            "        num_rows: 96\n",
            "    })\n",
            "    validation: Dataset({\n",
            "        features: ['id', 'text', '390', '135', '136', '137', '138', '139'],\n",
            "        num_rows: 12\n",
            "    })\n",
            "    test: Dataset({\n",
            "        features: ['id', 'text', '390', '135', '136', '137', '138', '139'],\n",
            "        num_rows: 12\n",
            "    })\n",
            "})\n",
            "datasetDict.keys(): dict_keys(['train', 'validation', 'test'])\n",
            "datasetDict['train']:      <class 'datasets.arrow_dataset.Dataset'>      (96, 8)\n",
            "datasetDict['validation']: <class 'datasets.arrow_dataset.Dataset'> (12, 8)\n",
            "datasetDict['test']:       <class 'datasets.arrow_dataset.Dataset'>       (12, 8)\n"
          ]
        }
      ],
      "source": [
        "print(f\"datasetDict: {type(datasetDict)} {datasetDict.shape}\\n{datasetDict}\")\n",
        "print(f\"datasetDict.keys(): {datasetDict.keys()}\")\n",
        "print(f\"datasetDict['train']:      {type(datasetDict['train'])}      {datasetDict['train'].shape}\")\n",
        "print(f\"datasetDict['validation']: {type(datasetDict['validation'])} {datasetDict['validation'].shape}\")\n",
        "print(f\"datasetDict['test']:       {type(datasetDict['test'])}       {datasetDict['test'].shape}\")"
      ]
    },
    {
      "cell_type": "code",
      "execution_count": null,
      "metadata": {
        "id": "unjuTtKUjZI3",
        "colab": {
          "base_uri": "https://localhost:8080/"
        },
        "outputId": "b358f17b-2fee-42ea-d3da-6f070375c0f0"
      },
      "outputs": [
        {
          "output_type": "stream",
          "name": "stdout",
          "text": [
            "datasetDict['train'][0]: <class 'dict'> dict_keys(['id', 'text', '390', '135', '136', '137', '138', '139'])\n",
            "{'id': 335833, 'text': \"Centric - Full Stack Java Developer   Full Stack Java Developer   Centric   What you do Do you want to dive into multiple technologies and put them to work? Do you have a continuous improvement mindset? Does it give you energy to look for solutions for challenging problems? Answered Yes to these questions? Then you might be the Full Stack developer we are looking for in our team. Job tasks Developing applications on Blue CAP, our internal Cloud Application Platform. You'll be working with technologies like Java & Spring Framework, dockers on OpenShift (= Kubernetes by Red Hat), a fully automated build & deploy pipeline, GIT, continuous releasing, Kibana for log analysis, Prometheus for automated alert management... And you'll be working with a cloud-native development mindset. We also build the front-end for our applications using the Angular framework. How Bluecap works with a DevOps mindset; That means you'll be creating new features while also keeping tabs on the running applications. Occasional bugfixes and interaction with users are part of the job While you quickly fix any bugs that occur, you keep our (internal) users updated through Yammer. Assignments are tackled through the Agile methodology (and supported by Jira). Software is delivered in short iterations (sprints), allowing us to react quickly to new developments. We build high quality software. No feature is “done” until there's test cases for it and it is properly documented What you bring to the team Very good Java experience (full stack) Good experience with Spring Boot framework Knowledge of Hibernate Experienced with Angular framework Experience creating and using Dockers and OpenShift Experienced with Cloud computing Excellent knowledge of the English knowledge Able to work as a freelancer in the region of Brussels\", '390': False, '135': False, '136': False, '137': True, '138': True, '139': False}\n"
          ]
        }
      ],
      "source": [
        "example = datasetDict['train'][0]\n",
        "print(f\"datasetDict['train'][0]: {type(example)} {example.keys()}\\n{example}\")"
      ]
    },
    {
      "cell_type": "markdown",
      "metadata": {
        "id": "GEgARWcywcJz"
      },
      "source": [
        "## Create labels (list), id2label (dict) and label2id (dict).\n",
        "* dataset 7_1000_125_125  ,  48 labels\n",
        "* dataset 7_128_18_54     ,  42 labels\n",
        "* dataset 8910_1087_68_204, 206 labels\n",
        "* dataset 11_1000         ,   6 labels"
      ]
    },
    {
      "cell_type": "code",
      "execution_count": null,
      "metadata": {
        "id": "Vv6FWVzRwcJz",
        "colab": {
          "base_uri": "https://localhost:8080/"
        },
        "outputId": "adf7329c-64bf-4925-b79a-5fe1f1f7f1f5"
      },
      "outputs": [
        {
          "output_type": "stream",
          "name": "stdout",
          "text": [
            "labels: <class 'list'> 6\n",
            "['135', '136', '137', '138', '139', '390']\n",
            "id2label: <class 'dict'> 6\n",
            "{0: '135', 1: '136', 2: '137', 3: '138', 4: '139', 5: '390'}\n",
            "label2id: <class 'dict'> 6\n",
            "{'135': 0, '136': 1, '137': 2, '138': 3, '139': 4, '390': 5}\n"
          ]
        }
      ],
      "source": [
        "labels = [label for label in datasetDict['train'].features.keys() if label not in ['id', 'text']]\n",
        "labels.sort()\n",
        "print(f\"labels: {type(labels)} {len(labels)}\\n{labels}\")\n",
        "\n",
        "num_labels = len(labels)\n",
        "\n",
        "id2label = {idx: label for idx, label in enumerate(labels)}\n",
        "print(f\"id2label: {type(id2label)} {len(id2label)}\\n{id2label}\")\n",
        "\n",
        "label2id = {label: idx for idx, label in enumerate(labels)}\n",
        "print(f\"label2id: {type(label2id)} {len(label2id)}\\n{label2id}\")"
      ]
    },
    {
      "cell_type": "markdown",
      "metadata": {
        "id": "K_TdBZOGwcJ0"
      },
      "source": [
        "## Load the pretrained tokenizer and the model"
      ]
    },
    {
      "cell_type": "code",
      "execution_count": null,
      "metadata": {
        "id": "tL1IlzvfwcJ0"
      },
      "outputs": [],
      "source": [
        "model_name = \"allenai/longformer-base-4096\""
      ]
    },
    {
      "cell_type": "code",
      "execution_count": null,
      "metadata": {
        "id": "mwKcOR8GwcJ0",
        "colab": {
          "base_uri": "https://localhost:8080/",
          "height": 145,
          "referenced_widgets": [
            "6fe499378f64429aa48d944159f56f68",
            "c15455d5687a43429e78b574d7a842d2",
            "760042982235425aae898feb9202f521",
            "15857ff1718642fbb8848fe2e3e19088",
            "7a3a76fb403f49ccb5a53cf30d63a0b4",
            "c3ecca0182654cb4b6718301f86ca9d0",
            "c723656ac49947de80e21dc424d19792",
            "b39d648a539749e4b9176d4a6465ee81",
            "0b761c94f5b84f2da1f06e482a8bbf87",
            "0babe024f43c469cbf2350f4771c34d5",
            "fc454a9893914c88b103c780a2f6a5a1",
            "5cc8678e9b0d4defb3b31bdeeacce18a",
            "63f1a524718d43c2b17f384b31f918a9",
            "c161aa04f31140be83d424e6c98951de",
            "e716a0a1fd6d4d1485cc03ee865681bc",
            "a9c518bfb3d54fc5a603d6513a2f4c43",
            "35d96e4ed68f4816b318f7baf41fc37a",
            "01769204dcf44634a350031575129653",
            "796f38593abc4a6da1dfb908c316b69c",
            "922d277222384328b4b083bedb71d31c",
            "3687d91bf99c403ba8fd8d271a90e440",
            "a7af6fb0a3e04dd9963ee6beadbf0560",
            "a8b130a9da1c45f8a339fa904c914aa6",
            "3672dd120b5a4bc58e732bb165cac460",
            "adbcb3654b524bf5ba6525e93cad7103",
            "5e4c1a18415c43f5995c33dda1d9b5bc",
            "7fea5f36e1d1430abc2a4ce076c07a9a",
            "ff02c75bd2904125b7d3170fbcfa63a1",
            "1f717c2ce1454d0d93fa450fad6a53dc",
            "f3b6e4b839024c39954273dbf6bc69ed",
            "c53195db4ed34d01817c73370330a593",
            "a78f47263f874dbba0c0fbef43e9b06f",
            "e04b4033894a41e2af225dfdd3b37170",
            "145b54b23d0548a5be71873bcd4e283e",
            "92620bd3089b47048b79eae374a57b7b",
            "57ff38cfc87048988ffa3a62f60a07a8",
            "fd8f5158079a42a996ec0b2865730910",
            "0e217f060dec4e0ba240d5ec1d7a7ac6",
            "07d61ebe2c3745a68bc7689dcb23ee2f",
            "f785ea179661411a8910e601a2ae7e69",
            "8ad69f65a0f44a0ebe908d6c7715a085",
            "e02d10c7087e4d3a9afd54443f1c63fb",
            "c5aa1b0bc5ff4961a78fcaa30d5966c7",
            "3fcfc5f1c6cf43db9c9ff9002d839496"
          ]
        },
        "outputId": "806578af-9531-4d02-a7f3-e3a86ddfe78a"
      },
      "outputs": [
        {
          "output_type": "display_data",
          "data": {
            "text/plain": [
              "vocab.json:   0%|          | 0.00/899k [00:00<?, ?B/s]"
            ],
            "application/vnd.jupyter.widget-view+json": {
              "version_major": 2,
              "version_minor": 0,
              "model_id": "6fe499378f64429aa48d944159f56f68"
            }
          },
          "metadata": {}
        },
        {
          "output_type": "display_data",
          "data": {
            "text/plain": [
              "merges.txt:   0%|          | 0.00/456k [00:00<?, ?B/s]"
            ],
            "application/vnd.jupyter.widget-view+json": {
              "version_major": 2,
              "version_minor": 0,
              "model_id": "5cc8678e9b0d4defb3b31bdeeacce18a"
            }
          },
          "metadata": {}
        },
        {
          "output_type": "display_data",
          "data": {
            "text/plain": [
              "tokenizer.json:   0%|          | 0.00/1.36M [00:00<?, ?B/s]"
            ],
            "application/vnd.jupyter.widget-view+json": {
              "version_major": 2,
              "version_minor": 0,
              "model_id": "a8b130a9da1c45f8a339fa904c914aa6"
            }
          },
          "metadata": {}
        },
        {
          "output_type": "display_data",
          "data": {
            "text/plain": [
              "config.json:   0%|          | 0.00/694 [00:00<?, ?B/s]"
            ],
            "application/vnd.jupyter.widget-view+json": {
              "version_major": 2,
              "version_minor": 0,
              "model_id": "145b54b23d0548a5be71873bcd4e283e"
            }
          },
          "metadata": {}
        }
      ],
      "source": [
        "tokenizer = LongformerTokenizerFast.from_pretrained(model_name)"
      ]
    },
    {
      "cell_type": "code",
      "execution_count": null,
      "metadata": {
        "id": "HTZ61-RUwcJ0",
        "colab": {
          "base_uri": "https://localhost:8080/",
          "height": 104,
          "referenced_widgets": [
            "d3e7d7f36c81497faf6a10026d052700",
            "571d0a8c92f2470798f52aafde042da7",
            "5ce03585f86c462fae710ac93240729c",
            "5f92391bb8c1487597ebb72e55fe5387",
            "a6b4386b257d44109fd04ecb059295fd",
            "c886c1a0eeb1436ba833f7068f0d2748",
            "ee9fab3e4f32400aa8240355e020fdd7",
            "ddf1c51a7a2c44798d4018999bd6326f",
            "17567e4dba4c41328a8328ceb12ac3c0",
            "8db24d4cb5844c4e903389b963b1121c",
            "c1c255713ee6482ba303c2543fc6286f"
          ]
        },
        "outputId": "c680a375-33a7-40a5-953f-7d7b1ea140d0"
      },
      "outputs": [
        {
          "output_type": "display_data",
          "data": {
            "text/plain": [
              "pytorch_model.bin:   0%|          | 0.00/597M [00:00<?, ?B/s]"
            ],
            "application/vnd.jupyter.widget-view+json": {
              "version_major": 2,
              "version_minor": 0,
              "model_id": "d3e7d7f36c81497faf6a10026d052700"
            }
          },
          "metadata": {}
        },
        {
          "output_type": "stream",
          "name": "stderr",
          "text": [
            "Some weights of LongformerForSequenceClassification were not initialized from the model checkpoint at allenai/longformer-base-4096 and are newly initialized: ['classifier.dense.bias', 'classifier.dense.weight', 'classifier.out_proj.bias', 'classifier.out_proj.weight']\n",
            "You should probably TRAIN this model on a down-stream task to be able to use it for predictions and inference.\n"
          ]
        }
      ],
      "source": [
        "model = LongformerForSequenceClassification.from_pretrained(\n",
        "    model_name,\n",
        "    num_labels   = num_labels,\n",
        "    id2label     = id2label,\n",
        "    label2id     = label2id,\n",
        "    problem_type = 'multi_label_classification'\n",
        ")\n",
        "\n",
        "# Configure attention window size\n",
        "model.config.attention_window = attention_window"
      ]
    },
    {
      "cell_type": "code",
      "execution_count": null,
      "metadata": {
        "id": "PjLO31SssqAM",
        "colab": {
          "base_uri": "https://localhost:8080/"
        },
        "outputId": "1bc6bfd6-cf31-4b78-f7d1-c54dd1310eb2"
      },
      "outputs": [
        {
          "output_type": "stream",
          "name": "stderr",
          "text": [
            "/usr/local/lib/python3.11/dist-packages/transformers/optimization.py:591: FutureWarning: This implementation of AdamW is deprecated and will be removed in a future version. Use the PyTorch implementation torch.optim.AdamW instead, or set `no_deprecation_warning=True` to disable this warning\n",
            "  warnings.warn(\n"
          ]
        }
      ],
      "source": [
        "optimizer = AdamW(model.parameters(), lr=learning_rate)"
      ]
    },
    {
      "cell_type": "markdown",
      "metadata": {
        "id": "NTYt0hM5wcJ0"
      },
      "source": [
        "## Tokenize ('input_ids' and 'attention_mask'), add 'global_attention_mask' (for Longformer), add 'labels'"
      ]
    },
    {
      "cell_type": "code",
      "execution_count": null,
      "metadata": {
        "id": "AFWlSsbZaRLc"
      },
      "outputs": [],
      "source": [
        "def preprocess_data(examples, indices):\n",
        "  # Step 1: Extract text and tokenize\n",
        "  text = examples['text']             # Batch of texts\n",
        "  encoding = tokenizer(\n",
        "      text,                           # Tokenize text\n",
        "      truncation     = True,\n",
        "      padding        = 'max_length',\n",
        "      max_length     = max_length,\n",
        "      return_tensors = 'pt'           # Return PyTorch tensors\n",
        "  )\n",
        "\n",
        "  # Step 2: Create and add the global attention mask\n",
        "  global_attention_mask             = torch.zeros_like(encoding['input_ids'])  # Initialize global attention mask with zeros (same shape as input_ids)\n",
        "  global_attention_mask[:, 0]       = 1                                        # Set global attention on the first token ([CLS], token ID=0) in each sequence\n",
        "  encoding['global_attention_mask'] = global_attention_mask                    # Add the global_attention_mask to the batch\n",
        "\n",
        "  # Step 3: Create and populate the label matrix\n",
        "  labels_matrix = torch.zeros((len(text), len(labels)), dtype=torch.float32)   # Create an empty label matrix\n",
        "  #print(f\"labels_matrix: {type(labels_matrix)} {labels_matrix.shape}\")\n",
        "  #---------Populate label matrix\n",
        "  for idx, label in enumerate(labels):\n",
        "    #print(f\"idx:{idx} label:{label}\")\n",
        "    if label in examples:\n",
        "      labels_matrix[:, idx] = torch.tensor(\n",
        "          [1.0 if val else 0.0 for val in examples[label]],\n",
        "          dtype=torch.float32\n",
        "          )\n",
        "  print(f\"labels_matrix: {type(labels_matrix)} {labels_matrix.shape}\")\n",
        "\n",
        "  encoding['labels'] = labels_matrix                                           # Add labels to the encoding\n",
        "  print(f\"encoding['labels']: {type(encoding['labels'])} {encoding['labels'].shape}\")\n",
        "\n",
        "  # encoding: <class 'transformers.tokenization_utils_base.BatchEncoding'> dict_keys(['input_ids', 'attention_mask', 'global_attention_mask', 'labels'])\n",
        "  #   'input_ids': tensor([[\n",
        "  #   'attention_mask': tensor([[\n",
        "  #   'global_attention_mask': tensor([[\n",
        "  #   'labels': tensor([[\n",
        "  #print(f\"1 preprocess_data call: encoding: {type(encoding)} {encoding.keys()}\")\n",
        "\n",
        "  return encoding"
      ]
    },
    {
      "cell_type": "markdown",
      "metadata": {
        "id": "Rm9REDT_wcJ0"
      },
      "source": [
        "## Create encoded_dataset (datasets.dataset_dict.DatasetDict) = 3 encoded datasets.arrow_dataset.Dataset, train, validation and test"
      ]
    },
    {
      "cell_type": "code",
      "execution_count": null,
      "metadata": {
        "id": "mxLcO0XDwcJ0",
        "colab": {
          "base_uri": "https://localhost:8080/",
          "height": 234,
          "referenced_widgets": [
            "f987138b8f754d2cb518c0b587099565",
            "d558a693230d43528b17ae64be01b2a5",
            "3e62f1211c154b17b3929ffc7697135b",
            "c88319db21cc46958757b2b7b2bd7227",
            "9ef823ce53084770af608d3a772721b0",
            "285ee597ec8f49039416abb1cd0d872e",
            "c1b7c49af5dc4c07b2dad18768720440",
            "aa002cc8791847b6806d5d6d846f4a87",
            "47e75b0d36014c3c9d63ffd1a746c431",
            "3138142dcad04641a1d346ce1ccb0bb8",
            "62d6e69b82c84ad5a55a972794ed6ff1",
            "583b562d54634274ae06e942e63d13c3",
            "783cba9ff55942e4954c5e3c34e52aaa",
            "9d329759e69f4049b38f1dde6dae6644",
            "cb79ff37940843fa9262e0115ee04e4e",
            "c105a8428ba640abb66f875e3406fe97",
            "68ec2b037a4a4770981a42e227c02cb0",
            "99d6cee4021543198c9f5d860c55af39",
            "a2b6a4dd02e546a7a333e61e62d1bbfb",
            "55c154f2487f4c5fac827016ab832e0d",
            "029f3e9e00074df7a40585ad57d13377",
            "f928634c6071454f9448327b006106e2",
            "d5bad62ea1594bb18767e312eb9d1716",
            "84eda4cb0c064c02af4801a9910c047c",
            "2d986bd56d7f4e0681f243fa9a03c5b8",
            "dd418fda377946f7b689cf11ae6ae382",
            "951b175a1ec14120a099b7d0fee07a4e",
            "1ed83bbf39084e58b2e749f923c8c657",
            "2c5d5e0760b441c2a5deb0de88fdd92d",
            "6dafdf4ea88b41b6a777b2097c9c6480",
            "8774ee11c7174820a45fb718b4863a29",
            "767288e49b8a4cf5a9d12b8c0d859639",
            "35f63ac5c6dc46a8b5b886407cb18955"
          ]
        },
        "outputId": "586237f0-2848-4334-f589-a42d1501c2c1"
      },
      "outputs": [
        {
          "output_type": "display_data",
          "data": {
            "text/plain": [
              "Map:   0%|          | 0/96 [00:00<?, ? examples/s]"
            ],
            "application/vnd.jupyter.widget-view+json": {
              "version_major": 2,
              "version_minor": 0,
              "model_id": "f987138b8f754d2cb518c0b587099565"
            }
          },
          "metadata": {}
        },
        {
          "output_type": "stream",
          "name": "stdout",
          "text": [
            "labels_matrix: <class 'torch.Tensor'> torch.Size([96, 6])\n",
            "encoding['labels']: <class 'torch.Tensor'> torch.Size([96, 6])\n"
          ]
        },
        {
          "output_type": "display_data",
          "data": {
            "text/plain": [
              "Map:   0%|          | 0/12 [00:00<?, ? examples/s]"
            ],
            "application/vnd.jupyter.widget-view+json": {
              "version_major": 2,
              "version_minor": 0,
              "model_id": "583b562d54634274ae06e942e63d13c3"
            }
          },
          "metadata": {}
        },
        {
          "output_type": "stream",
          "name": "stdout",
          "text": [
            "labels_matrix: <class 'torch.Tensor'> torch.Size([12, 6])\n",
            "encoding['labels']: <class 'torch.Tensor'> torch.Size([12, 6])\n"
          ]
        },
        {
          "output_type": "display_data",
          "data": {
            "text/plain": [
              "Map:   0%|          | 0/12 [00:00<?, ? examples/s]"
            ],
            "application/vnd.jupyter.widget-view+json": {
              "version_major": 2,
              "version_minor": 0,
              "model_id": "d5bad62ea1594bb18767e312eb9d1716"
            }
          },
          "metadata": {}
        },
        {
          "output_type": "stream",
          "name": "stdout",
          "text": [
            "labels_matrix: <class 'torch.Tensor'> torch.Size([12, 6])\n",
            "encoding['labels']: <class 'torch.Tensor'> torch.Size([12, 6])\n",
            "Zencoded_dataset: <class 'datasets.dataset_dict.DatasetDict'> shape={'train': (96, 4), 'validation': (12, 4), 'test': (12, 4)}\n"
          ]
        }
      ],
      "source": [
        "encoded_dataset = datasetDict.map(\n",
        "    preprocess_data,\n",
        "    batched        = True,\n",
        "    remove_columns = datasetDict['train'].column_names,\n",
        "    with_indices   = True\n",
        ")\n",
        "\n",
        "print(f\"Zencoded_dataset: {type(encoded_dataset)} shape={encoded_dataset.shape}\")"
      ]
    },
    {
      "cell_type": "code",
      "execution_count": null,
      "metadata": {
        "id": "kuft8rJe2Q03",
        "colab": {
          "base_uri": "https://localhost:8080/"
        },
        "outputId": "63c84734-98e8-4e3e-def2-61b4a840f612"
      },
      "outputs": [
        {
          "output_type": "stream",
          "name": "stdout",
          "text": [
            "train_dataset_tensor:                          <class 'datasets.arrow_dataset.Dataset'>                              (96, 4) {'input_ids': Sequence(feature=Value(dtype='int32', id=None), length=-1, id=None), 'attention_mask': Sequence(feature=Value(dtype='int8', id=None), length=-1, id=None), 'global_attention_mask': Sequence(feature=Value(dtype='int64', id=None), length=-1, id=None), 'labels': Sequence(feature=Value(dtype='float32', id=None), length=-1, id=None)}\n",
            "Dataset({\n",
            "    features: ['input_ids', 'attention_mask', 'global_attention_mask', 'labels'],\n",
            "    num_rows: 96\n",
            "})\n",
            "train_dataset_tensor['input_ids']:             <class 'torch.Tensor'>             len=96             shape=torch.Size([96, 1024])            \n",
            "train_dataset_tensor['attention_mask']:        <class 'torch.Tensor'>        len=96        shape=torch.Size([96, 1024])       \n",
            "train_dataset_tensor['global_attention_mask']: <class 'torch.Tensor'> len=96 shape=torch.Size([96, 1024])\n",
            "train_dataset_tensor['labels']:                <class 'torch.Tensor'>                len=96                shape=torch.Size([96, 6])               \n"
          ]
        }
      ],
      "source": [
        "encoded_dataset.set_format('torch')\n",
        "train_dataset      = encoded_dataset['train']\n",
        "validation_dataset = encoded_dataset['validation']\n",
        "test_dataset       = encoded_dataset['test']\n",
        "\n",
        "print(f\"train_dataset_tensor:                          {type(train_dataset)}                              {train_dataset.shape} {train_dataset.features}\\n{train_dataset}\")\n",
        "print(f\"train_dataset_tensor['input_ids']:             {type(train_dataset['input_ids'])}             len={len(train_dataset['input_ids'])}             shape={train_dataset['input_ids'].shape}            \") #\\n{train_dataset['input_ids']}\")\n",
        "print(f\"train_dataset_tensor['attention_mask']:        {type(train_dataset['attention_mask'])}        len={len(train_dataset['attention_mask'])}        shape={train_dataset['attention_mask'].shape}       \") #\\n{train_dataset['attention_mask']}\")\n",
        "print(f\"train_dataset_tensor['global_attention_mask']: {type(train_dataset['global_attention_mask'])} len={len(train_dataset['global_attention_mask'])} shape={train_dataset['global_attention_mask'].shape}\") #\\n{train_dataset['global_attention_mask']}\")\n",
        "print(f\"train_dataset_tensor['labels']:                {type(train_dataset['labels'])}                len={len(train_dataset['labels'])}                shape={train_dataset['labels'].shape}               \") #\\n{train_dataset['labels']}\")"
      ]
    },
    {
      "cell_type": "markdown",
      "metadata": {
        "id": "ynwZnA55wcJ1"
      },
      "source": [
        "## Truncated part"
      ]
    },
    {
      "cell_type": "code",
      "execution_count": null,
      "metadata": {
        "id": "brkRdqdjN-Ur"
      },
      "outputs": [],
      "source": [
        "def get_truncated_part(text):\n",
        "  tokens = tokenizer(\n",
        "      text,\n",
        "      truncation                = True,\n",
        "      padding                   = 'max_length',\n",
        "      max_length                = max_length,\n",
        "      return_overflowing_tokens = True,\n",
        "      return_tensors            = None\n",
        "  )\n",
        "  print(f\"tokens.keys(): {tokens.keys()}\")\n",
        "\n",
        "  # Get the truncated tokens\n",
        "  truncated_ids = tokens[\"input_ids\"][0]\n",
        "  print(f\"truncated_ids: {type(truncated_ids)} {truncated_ids}\")\n",
        "  #overflow_ids  = tokens[\"overflow_to_sample_mapping\"][0]\n",
        "  #print(f\"overflow_ids: {type(overflow_ids)} {overflow_ids}\")\n",
        "\n",
        "  # Decode the tokens back to text\n",
        "  truncated_text = tokenizer.decode(truncated_ids, skip_special_tokens=True)\n",
        "  #overflow_text  = tokenizer.decode(overflow_ids, skip_special_tokens=True)\n",
        "\n",
        "  print(f\"original_text :\\n{text}\")\n",
        "  print(f\"truncated_text:\\n{truncated_text}\")\n",
        "  #print(f\"overflow_text:\\n{overflow_text}\")\n",
        "\n",
        "  original_tokens  = tokenizer.tokenize(text)\n",
        "  truncated_tokens = tokenizer.tokenize(truncated_text)\n",
        "  #overflow_tokens  = tokenizer.tokenize(overflow_text)\n",
        "\n",
        "  print(f\"original_tokens count : {len(original_tokens)}\")\n",
        "  print(f\"truncated_tokens count: {len(truncated_tokens)}\")\n",
        "  #print(f\"overflow_tokens count: {len(overflow_tokens)}\")"
      ]
    },
    {
      "cell_type": "code",
      "execution_count": null,
      "metadata": {
        "id": "DD_bjwTfRiQO"
      },
      "outputs": [],
      "source": [
        "example_text = datasetDict['train'][0]['text']\n",
        "#get_truncated_part(example_text)"
      ]
    },
    {
      "cell_type": "code",
      "execution_count": null,
      "metadata": {
        "id": "xFiZ4mYmwcJ1"
      },
      "outputs": [],
      "source": [
        "inputs = tokenizer(\n",
        "    example_text,\n",
        "    truncation     = True,\n",
        "    padding        = 'max_length',\n",
        "    max_length     = max_length,\n",
        "    return_tensors = 'pt'\n",
        ")"
      ]
    },
    {
      "cell_type": "markdown",
      "metadata": {
        "id": "RTh2E_8iwcJ1"
      },
      "source": [
        "## Forward pass for multi-label classification"
      ]
    },
    {
      "cell_type": "code",
      "execution_count": null,
      "metadata": {
        "id": "8_aIPMHuwcJ1",
        "colab": {
          "base_uri": "https://localhost:8080/",
          "height": 66,
          "referenced_widgets": [
            "44b7d30f545e4462ba0121f846ab5bef",
            "fcfc8c558d14487098c346f1592f2697",
            "834a8609b85c4df59a166b8b1f324a87",
            "14a063f4ebf249df9b5ca78c3b39c8b1",
            "5a1b134cff6f46f9b88dbbebbf184fed",
            "268f2227ebb5412e8e0e34a965fc1975",
            "425ce399ace944e297cf2dcd8288d55e",
            "e8b77f340bb349b497b1fcf3f118a8ac",
            "11021c5de0174d86a3e20b3d63d6549e",
            "b4896a535e7f4541839b0454f44f6a47",
            "949262118fa94728aaddcf538ed9033d"
          ]
        },
        "outputId": "77e6dad4-bc07-442d-da28-ee2270d8861f"
      },
      "outputs": [
        {
          "output_type": "stream",
          "name": "stderr",
          "text": [
            "Initializing global attention on CLS token...\n"
          ]
        },
        {
          "output_type": "display_data",
          "data": {
            "text/plain": [
              "model.safetensors:   0%|          | 0.00/597M [00:00<?, ?B/s]"
            ],
            "application/vnd.jupyter.widget-view+json": {
              "version_major": 2,
              "version_minor": 0,
              "model_id": "44b7d30f545e4462ba0121f846ab5bef"
            }
          },
          "metadata": {}
        }
      ],
      "source": [
        "outputs = model(\n",
        "    input_ids      = inputs.input_ids,\n",
        "    attention_mask = inputs.attention_mask\n",
        ")"
      ]
    },
    {
      "cell_type": "code",
      "execution_count": null,
      "metadata": {
        "id": "sxWcnZ8ku12V",
        "colab": {
          "base_uri": "https://localhost:8080/"
        },
        "outputId": "491701e7-9642-4b6c-9ee2-960c88b18d9a"
      },
      "outputs": [
        {
          "output_type": "stream",
          "name": "stdout",
          "text": [
            "outputs: <class 'transformers.models.longformer.modeling_longformer.LongformerSequenceClassifierOutput'> odict_keys(['logits'])\n",
            "LongformerSequenceClassifierOutput(loss=None, logits=tensor([[-0.1408, -0.0104,  0.0052,  0.1015,  0.0110,  0.0954]],\n",
            "       grad_fn=<AddmmBackward0>), hidden_states=None, attentions=None, global_attentions=None)\n"
          ]
        }
      ],
      "source": [
        "print(f\"outputs: {type(outputs)} {outputs.keys()}\\n{outputs}\")"
      ]
    },
    {
      "cell_type": "code",
      "execution_count": null,
      "metadata": {
        "id": "islk-kFSs0t8",
        "colab": {
          "base_uri": "https://localhost:8080/"
        },
        "outputId": "b1181486-8f8c-4b8b-fa29-7e130d2bdd2c"
      },
      "outputs": [
        {
          "output_type": "stream",
          "name": "stdout",
          "text": [
            "logits: <class 'torch.Tensor'> torch.Size([1, 6])\n",
            "tensor([[-0.1408, -0.0104,  0.0052,  0.1015,  0.0110,  0.0954]],\n",
            "       grad_fn=<AddmmBackward0>)\n"
          ]
        }
      ],
      "source": [
        "# Logits (= raw model outputs)\n",
        "logits = outputs.logits\n",
        "print(f\"logits: {type(logits)} {logits.shape}\\n{logits}\")"
      ]
    },
    {
      "cell_type": "code",
      "execution_count": null,
      "metadata": {
        "id": "sMscqNTXuY8o",
        "colab": {
          "base_uri": "https://localhost:8080/"
        },
        "outputId": "63130142-20ee-4db7-e934-b262aa2c9841"
      },
      "outputs": [
        {
          "output_type": "stream",
          "name": "stdout",
          "text": [
            "probs: <class 'torch.Tensor'> torch.Size([1, 6])\n",
            "tensor([[0.4649, 0.4974, 0.5013, 0.5253, 0.5027, 0.5238]],\n",
            "       grad_fn=<SigmoidBackward0>)\n"
          ]
        }
      ],
      "source": [
        "# Convert logits to probabilities\n",
        "sigmoid = torch.nn.Sigmoid()\n",
        "probs   = sigmoid(logits)\n",
        "print(f\"probs: {type(probs)} {probs.shape}\\n{probs}\")"
      ]
    },
    {
      "cell_type": "code",
      "execution_count": null,
      "metadata": {
        "id": "BZtO3uQkwcJ2"
      },
      "outputs": [],
      "source": [
        "example = encoded_dataset['train'][0]"
      ]
    },
    {
      "cell_type": "code",
      "execution_count": null,
      "metadata": {
        "id": "0enAb0W9o25W",
        "colab": {
          "base_uri": "https://localhost:8080/"
        },
        "outputId": "7d656700-ab15-469b-ca20-b21681a24dbe"
      },
      "outputs": [
        {
          "output_type": "stream",
          "name": "stdout",
          "text": [
            "example: <class 'dict'> dict_keys(['input_ids', 'attention_mask', 'global_attention_mask', 'labels'])\n",
            "{'input_ids': tensor([    0, 31230,  4063,  ...,     1,     1,     1]), 'attention_mask': tensor([1, 1, 1,  ..., 0, 0, 0]), 'global_attention_mask': tensor([1, 0, 0,  ..., 0, 0, 0]), 'labels': tensor([0., 0., 1., 1., 0., 0.])}\n",
            "\n"
          ]
        }
      ],
      "source": [
        "print(f\"example: {type(example)} {example.keys()}\\n{example}\")\n",
        "print()\n",
        "#print(f\"example['input_ids']: {type(example['input_ids'])} {len(example['input_ids'])}\\n{example['input_ids']}\")\n",
        "#print(f\"example['attention_mask']: {type(example['attention_mask'])} {len(example['attention_mask'])}\\n{example['attention_mask']}\")\n",
        "#print(f\"example['labels']:  {type(example['labels'])} {len(example['labels'])}\\n{example['labels']}\")"
      ]
    },
    {
      "cell_type": "code",
      "execution_count": null,
      "metadata": {
        "id": "D0McCtJ8HRJY",
        "colab": {
          "base_uri": "https://localhost:8080/",
          "height": 139
        },
        "outputId": "39a6b9f5-efa1-42dd-f816-5d3c13fa2cbf"
      },
      "outputs": [
        {
          "output_type": "execute_result",
          "data": {
            "text/plain": [
              "\"<s>Centric - Full Stack Java Developer   Full Stack Java Developer   Centric   What you do Do you want to dive into multiple technologies and put them to work? Do you have a continuous improvement mindset? Does it give you energy to look for solutions for challenging problems? Answered Yes to these questions? Then you might be the Full Stack developer we are looking for in our team. Job tasks Developing applications on Blue CAP, our internal Cloud Application Platform. You'll be working with technologies like Java & Spring Framework, dockers on OpenShift (= Kubernetes by Red Hat), a fully automated build & deploy pipeline, GIT, continuous releasing, Kibana for log analysis, Prometheus for automated alert management... And you'll be working with a cloud-native development mindset. We also build the front-end for our applications using the Angular framework. How Bluecap works with a DevOps mindset; That means you'll be creating new features while also keeping tabs on the running applications. Occasional bugfixes and interaction with users are part of the job While you quickly fix any bugs that occur, you keep our (internal) users updated through Yammer. Assignments are tackled through the Agile methodology (and supported by Jira). Software is delivered in short iterations (sprints), allowing us to react quickly to new developments. We build high quality software. No feature is “done” until there's test cases for it and it is properly documented What you bring to the team Very good Java experience (full stack) Good experience with Spring Boot framework Knowledge of Hibernate Experienced with Angular framework Experience creating and using Dockers and OpenShift Experienced with Cloud computing Excellent knowledge of the English knowledge Able to work as a freelancer in the region of Brussels</s><pad><pad><pad><pad><pad><pad><pad><pad><pad><pad><pad><pad><pad><pad><pad><pad><pad><pad><pad><pad><pad><pad><pad><pad><pad><pad><pad><pad><pad><pad><pad><pad><pad><pad><pad><pad><pad><pad><pad><pad><pad><pad><pad><pad><pad><pad><pad><pad><pad><pad><pad><pad><pad><pad><pad><pad><pad><pad><pad><pad><pad><pad><pad><pad><pad><pad><pad><pad><pad><pad><pad><pad><pad><pad><pad><pad><pad><pad><pad><pad><pad><pad><pad><pad><pad><pad><pad><pad><pad><pad><pad><pad><pad><pad><pad><pad><pad><pad><pad><pad><pad><pad><pad><pad><pad><pad><pad><pad><pad><pad><pad><pad><pad><pad><pad><pad><pad><pad><pad><pad><pad><pad><pad><pad><pad><pad><pad><pad><pad><pad><pad><pad><pad><pad><pad><pad><pad><pad><pad><pad><pad><pad><pad><pad><pad><pad><pad><pad><pad><pad><pad><pad><pad><pad><pad><pad><pad><pad><pad><pad><pad><pad><pad><pad><pad><pad><pad><pad><pad><pad><pad><pad><pad><pad><pad><pad><pad><pad><pad><pad><pad><pad><pad><pad><pad><pad><pad><pad><pad><pad><pad><pad><pad><pad><pad><pad><pad><pad><pad><pad><pad><pad><pad><pad><pad><pad><pad><pad><pad><pad><pad><pad><pad><pad><pad><pad><pad><pad><pad><pad><pad><pad><pad><pad><pad><pad><pad><pad><pad><pad><pad><pad><pad><pad><pad><pad><pad><pad><pad><pad><pad><pad><pad><pad><pad><pad><pad><pad><pad><pad><pad><pad><pad><pad><pad><pad><pad><pad><pad><pad><pad><pad><pad><pad><pad><pad><pad><pad><pad><pad><pad><pad><pad><pad><pad><pad><pad><pad><pad><pad><pad><pad><pad><pad><pad><pad><pad><pad><pad><pad><pad><pad><pad><pad><pad><pad><pad><pad><pad><pad><pad><pad><pad><pad><pad><pad><pad><pad><pad><pad><pad><pad><pad><pad><pad><pad><pad><pad><pad><pad><pad><pad><pad><pad><pad><pad><pad><pad><pad><pad><pad><pad><pad><pad><pad><pad><pad><pad><pad><pad><pad><pad><pad><pad><pad><pad><pad><pad><pad><pad><pad><pad><pad><pad><pad><pad><pad><pad><pad><pad><pad><pad><pad><pad><pad><pad><pad><pad><pad><pad><pad><pad><pad><pad><pad><pad><pad><pad><pad><pad><pad><pad><pad><pad><pad><pad><pad><pad><pad><pad><pad><pad><pad><pad><pad><pad><pad><pad><pad><pad><pad><pad><pad><pad><pad><pad><pad><pad><pad><pad><pad><pad><pad><pad><pad><pad><pad><pad><pad><pad><pad><pad><pad><pad><pad><pad><pad><pad><pad><pad><pad><pad><pad><pad><pad><pad><pad><pad><pad><pad><pad><pad><pad><pad><pad><pad><pad><pad><pad><pad><pad><pad><pad><pad><pad><pad><pad><pad><pad><pad><pad><pad><pad><pad><pad><pad><pad><pad><pad><pad><pad><pad><pad><pad><pad><pad><pad><pad><pad><pad><pad><pad><pad><pad><pad><pad><pad><pad><pad><pad><pad><pad><pad><pad><pad><pad><pad><pad><pad><pad><pad><pad><pad><pad><pad><pad><pad><pad><pad><pad><pad><pad><pad><pad><pad><pad><pad><pad><pad><pad><pad><pad><pad><pad><pad><pad><pad><pad><pad><pad><pad><pad><pad><pad><pad><pad><pad><pad><pad><pad><pad><pad><pad><pad><pad><pad><pad><pad><pad><pad><pad><pad><pad><pad><pad><pad><pad><pad><pad><pad><pad><pad><pad><pad><pad><pad><pad><pad><pad><pad><pad><pad><pad><pad><pad><pad><pad><pad><pad><pad><pad><pad><pad><pad><pad><pad><pad><pad><pad><pad><pad><pad><pad><pad><pad><pad><pad><pad><pad><pad><pad><pad><pad><pad><pad><pad><pad><pad><pad><pad><pad><pad><pad><pad><pad><pad><pad><pad><pad><pad><pad><pad><pad><pad><pad><pad><pad><pad><pad><pad><pad><pad><pad><pad><pad><pad><pad><pad><pad><pad><pad><pad><pad><pad><pad><pad><pad><pad><pad><pad><pad><pad><pad><pad><pad><pad><pad><pad><pad>\""
            ],
            "application/vnd.google.colaboratory.intrinsic+json": {
              "type": "string"
            }
          },
          "metadata": {},
          "execution_count": 50
        }
      ],
      "source": [
        "tokenizer.decode(example['input_ids'])"
      ]
    },
    {
      "cell_type": "code",
      "execution_count": null,
      "metadata": {
        "id": "6LAyThO7Jnvj",
        "colab": {
          "base_uri": "https://localhost:8080/"
        },
        "outputId": "8157e6d7-dd9f-4424-abd4-ad1da9a1b1d7"
      },
      "outputs": [
        {
          "output_type": "execute_result",
          "data": {
            "text/plain": [
              "['137', '138']"
            ]
          },
          "metadata": {},
          "execution_count": 51
        }
      ],
      "source": [
        "[id2label[idx] for idx, label in enumerate(example['labels']) if label == 1.0]"
      ]
    },
    {
      "cell_type": "markdown",
      "metadata": {
        "id": "mHCJcLKGwcJ2"
      },
      "source": [
        "## Set PyTorch format to ensures correctness and compatibility with PyTorch pipelines\n",
        "The 3 Hugging Face Dataset are formatted as PyTorch Dataset."
      ]
    },
    {
      "cell_type": "code",
      "execution_count": null,
      "metadata": {
        "id": "i4ENBTdulBEI"
      },
      "outputs": [],
      "source": [
        "encoded_dataset.set_format('torch')"
      ]
    },
    {
      "cell_type": "markdown",
      "metadata": {
        "id": "o8aGgHN-BQrO"
      },
      "source": [
        "## Workflow\n",
        "\n",
        "- 3 steps: training, evaluation, prediction\n",
        "- 3 datasets: train, validation, test\n",
        "- 3 Trainer functions: train, evaluate, predict\n",
        "---\n",
        "* training uses train_dataset\n",
        "* evaluation uses validation_dataset\n",
        "* test uses test_dataset"
      ]
    },
    {
      "cell_type": "markdown",
      "metadata": {
        "id": "Hy7jlzubwcJ6"
      },
      "source": [
        "## Training step\n"
      ]
    },
    {
      "cell_type": "code",
      "execution_count": null,
      "metadata": {
        "id": "K5a8_vIKqr7P"
      },
      "outputs": [],
      "source": [
        "batch_size  = batch_size\n",
        "metric_name = \"f1\""
      ]
    },
    {
      "cell_type": "markdown",
      "metadata": {
        "id": "-Zt-m0QpwcJ3"
      },
      "source": [
        "### Metrics\n",
        "  source: https://jesusleal.io/2021/04/21/Longformer-multilabel-classification/"
      ]
    },
    {
      "cell_type": "code",
      "execution_count": null,
      "metadata": {
        "id": "7LaQCQoJFNsi"
      },
      "outputs": [],
      "source": [
        "def multi_label_metrics(logits, true_labels):\n",
        "  \"\"\"\n",
        "  logits => sigmoid => probabilities => predictions\n",
        "\n",
        "  Args:\n",
        "    logits     : raw, unnormalized scores outputted by the model  (numpy array of shape (batch_size, num_labels))\n",
        "    true_labels: actual labels for the data                       (numpy array of shape (batch_size, num_labels))\n",
        "\n",
        "  Returns:\n",
        "    metrics: dictionary of scores\n",
        "  \"\"\"\n",
        "  average = 'micro'    # 'micro' or 'weighted'\n",
        "\n",
        "  sigmoid = torch.nn.Sigmoid()\n",
        "  probs   = sigmoid(torch.Tensor(logits))\n",
        "  # next, use threshold to turn them into integer predictions\n",
        "  preds = np.zeros(probs.shape)\n",
        "  preds[np.where(probs > threshold)] = 1\n",
        "\n",
        "  # compute metrics\n",
        "  f1                   = f1_score               (y_true=true_labels, y_pred=preds,  average=average)    #, zero_division=1)\n",
        "  precision            = precision_score        (y_true=true_labels, y_pred=preds,  average=average)    #, zero_division=1)\n",
        "  recall               = recall_score           (y_true=true_labels, y_pred=preds,  average=average)    #, zero_division=1)\n",
        "  roc_auc              = roc_auc_score          (y_true=true_labels, y_score=probs, average=average)\n",
        "  precision_recall_auc = average_precision_score(y_true=true_labels, y_score=probs, average=average)\n",
        "  accuracy             = accuracy_score         (y_true=true_labels, y_pred=preds)\n",
        "\n",
        "  metrics = {\n",
        "\n",
        "      'f1'                  : f1,\n",
        "      'precision'           : precision,\n",
        "      'recall'              : recall,\n",
        "      'roc_auc'             : roc_auc,\n",
        "      'precision_recall_auc': precision_recall_auc,\n",
        "      'accuracy'            : accuracy\n",
        "  }\n",
        "\n",
        "  return metrics"
      ]
    },
    {
      "cell_type": "code",
      "execution_count": null,
      "metadata": {
        "id": "797b2WHJqUgZ"
      },
      "outputs": [],
      "source": [
        "def compute_metrics(p: EvalPrediction):\n",
        "  preds = p.predictions[0] if isinstance(p.predictions, tuple) else p.predictions\n",
        "  result = multi_label_metrics(logits=preds,true_labels=p.label_ids)   # true_labels=p.label_ids<<<<<<<<<<<<<<<<<<<<<<<<<<<<<<<<<<<<<<<<<\n",
        "\n",
        "  return result"
      ]
    },
    {
      "cell_type": "code",
      "execution_count": null,
      "metadata": {
        "id": "adTwB7XvFNsj",
        "colab": {
          "base_uri": "https://localhost:8080/"
        },
        "outputId": "418a856e-5190-411d-c401-672d66039c2a"
      },
      "outputs": [
        {
          "output_type": "stream",
          "name": "stdout",
          "text": [
            "input_ids:              <class 'torch.Tensor'>\ttorch.Size([1024])\n",
            "attention_mask:         <class 'torch.Tensor'>\ttorch.Size([1024])\n",
            "global_attention_mask:  <class 'torch.Tensor'>\ttorch.Size([1024])\n",
            "labels:                 <class 'torch.Tensor'>\ttorch.Size([6])\n"
          ]
        }
      ],
      "source": [
        "print(f\"input_ids:              {type(encoded_dataset['train']['input_ids'][0])}\\t{encoded_dataset['train']['input_ids'][0].shape}\")\n",
        "print(f\"attention_mask:         {type(encoded_dataset['train']['attention_mask'][0])}\\t{encoded_dataset['train']['attention_mask'][0].shape}\")\n",
        "print(f\"global_attention_mask:  {type(encoded_dataset['train']['global_attention_mask'][0])}\\t{encoded_dataset['train']['global_attention_mask'][0].shape}\")\n",
        "print(f\"labels:                 {type(encoded_dataset['train'][0]['labels'])}\\t{encoded_dataset['train'][0]['labels'].shape}\")"
      ]
    },
    {
      "cell_type": "markdown",
      "metadata": {
        "id": "xCGdbfNJwcJ4"
      },
      "source": [
        "### Execute a forward pass for debugging or verification purposes (cf. BERT_3_1 in Notion BERT database)"
      ]
    },
    {
      "cell_type": "code",
      "execution_count": null,
      "metadata": {
        "id": "VN-sEDggwcJ4"
      },
      "outputs": [],
      "source": [
        "outputs = model(\n",
        "    input_ids      = encoded_dataset['train']['input_ids'][0].unsqueeze(0),\n",
        "    attention_mask = encoded_dataset['train']['attention_mask'][0].unsqueeze(0),\n",
        "    labels         = encoded_dataset['train'][0]['labels'].unsqueeze(0)\n",
        ")"
      ]
    },
    {
      "cell_type": "code",
      "execution_count": null,
      "metadata": {
        "id": "FtEd6KmRwcJ4",
        "colab": {
          "base_uri": "https://localhost:8080/"
        },
        "outputId": "6ec3a4f2-1d8a-4aab-ea50-b8b737c00f4b"
      },
      "outputs": [
        {
          "output_type": "stream",
          "name": "stdout",
          "text": [
            "outputs: <class 'transformers.models.longformer.modeling_longformer.LongformerSequenceClassifierOutput'> odict_keys(['loss', 'logits'])\n",
            "LongformerSequenceClassifierOutput(loss=tensor(0.6813, grad_fn=<BinaryCrossEntropyWithLogitsBackward0>), logits=tensor([[-0.1408, -0.0104,  0.0052,  0.1015,  0.0110,  0.0954]],\n",
            "       grad_fn=<AddmmBackward0>), hidden_states=None, attentions=None, global_attentions=None)\n"
          ]
        }
      ],
      "source": [
        "print(f\"outputs: {type(outputs)} {outputs.keys()}\\n{outputs}\")"
      ]
    },
    {
      "cell_type": "markdown",
      "metadata": {
        "id": "EYiSTBw_1Kdj"
      },
      "source": [
        "### Weighted loss function"
      ]
    },
    {
      "cell_type": "code",
      "execution_count": null,
      "metadata": {
        "id": "vqxhHkT1wcJ4",
        "colab": {
          "base_uri": "https://localhost:8080/",
          "height": 139
        },
        "outputId": "05e72965-9670-4f11-9c7e-9ea0c87ce151"
      },
      "outputs": [
        {
          "output_type": "execute_result",
          "data": {
            "text/plain": [
              "'# Define the weighted loss function\\n\\nclass_weights = torch.tensor([7.68, 2.15, 0.61, 0.47, 0.68, 6.26], dtype=torch.float32).to(device)\\nloss_fn       = BCEWithLogitsLoss(pos_weight=class_weights)  # For multi-label classification (binary classification per label)\\n\\n## Class supports, class weigths, weighted loss function\\n\\nReminder:\\n*   df_jobs      : <class \\'pandas.core.frame.DataFrame\\'>\\n*   df_jobs[\\'id\\']: <class \\'pandas.core.series.Series\\'>\\n\\ndataset = Dataset.from_pandas(df_jobs)\\n*   dataset      : <class \\'datasets.arrow_dataset.Dataset\\'>\\n*   dataset[\\'id\\']: <class \\'list\\'>\\n\\n*   dataset_dict_jobs : <class \\'datasets.dataset_dict.DatasetDict\\'>\\n*   train_dataset     : <class \\'datasets.arrow_dataset.Dataset\\'>\\n*   validation_dataset: <class \\'datasets.arrow_dataset.Dataset\\'>\\n*   test_dataset      : <class \\'datasets.arrow_dataset.Dataset\\'>\\n\\n\\nWe calculate the class supports for the train, validation and test datasets; the class weights and the weighted loss function are used for training only; the class supports of validation_dataset and test_dataset are calculated for information only.\\n\\ndef get_train_class_weights(datasetDict, labels):\\n  print(f\"datasetDict: {type(datasetDict)} shape={datasetDict.shape}\\n{datasetDict}\")\\n  print(f\"labels: {type(labels)} len={len(labels)}\\n{labels}\")\\n\\n  dataset_train      = datasetDict[\\'train\\']\\n  dataset_validation = datasetDict[\\'validation\\']\\n  dataset_test       = datasetDict[\\'test\\']\\n\\n  def calculate_class_supports(dataset, labels):\\n    class_supports = dataset.map(\\n        lambda example: {col: example[col] for col in labels},\\n        batched=True\\n    ).to_pandas()[labels].sum(axis=0)\\n    return class_supports\\n\\n  class_supports = {}\\n\\n  for split_name, split_dataset in datasetDict.items():\\n    class_supports[split_name] = calculate_class_supports(split_dataset, labels)\\n\\n  for split_name, split_class_supports in class_supports.items():\\n    print(f\"{split_name}: {type(split_class_supports)} len={len(split_class_supports)}\\n{split_class_supports}\")\\n\\n  train_class_supports_list = class_supports[\\'train\\'].tolist()\\n  print(f\"train_class_supports_list: {type(train_class_supports_list)} len={len(train_class_supports_list)} {train_class_supports_list}\")\\n\\n  train_class_supports_tensor = torch.tensor(train_class_supports_list, dtype=torch.float32)\\n  print(f\"train_class_supports_tensor: {type(train_class_supports_tensor)} len={len(train_class_supports_tensor)} {train_class_supports_tensor}\")\\n\\n  train_total_samples = dataset_train.num_rows\\n  print(f\"train_total_samples: {train_total_samples}\")\\n\\n  number_of_classes = len(labels)\\n  print(f\"number_of_classes: {number_of_classes}\")\\n\\n  train_class_weights = train_total_samples / (number_of_classes * train_class_supports_tensor)\\n  print(f\"train_class_weights: {type(train_class_weights)} len={len(train_class_weights)} {train_class_weights}\")\\n\\n  train_class_weights_sum = train_class_weights.sum()\\n  print(f\"train_class_weights_sum: {train_class_weights_sum}\")\\n\\n  normalized_train_class_weights = (train_class_weights / train_class_weights_sum) * number_of_classes\\n  print(f\"normalized_train_class_weights: {type(normalized_train_class_weights)} len={len(normalized_train_class_weights)} {normalized_train_class_weights}\")\\n\\n  # Positives samples per label\\n  supports = train_class_supports_tensor\\n  print(f\"supports: {type(supports)} {len(supports)} {supports}\")\\n\\n  # Negatives samples per label\\n  negatives = train_total_samples - supports\\n  print(f\"negatives: {type(negatives)} {len(negatives)} {negatives}\")\\n\\n  # pos_weights = negative to positive ratios\\n  pos_weights = negatives/supports\\n  print(f\"pos_weights: {type(pos_weights)} {len(pos_weights)} {pos_weights}\")\\n\\n  # Normalize using min-max scaling\\n  normalized_pos_weights_minmax = (pos_weights - pos_weights.min()) / (pos_weights.max() - pos_weights.min())\\n  print(f\"normalized_pos_weights_minmax: {type(normalized_pos_weights_minmax)} {len(normalized_pos_weights_minmax)} {normalized_pos_weights_minmax}\")\\n\\n  # Normalize using z-score standardization\\n  normalized_pos_weights_zscore = (pos_weights - pos_weights.mean()) / pos_weights.std()\\n  print(f\"normalized_pos_weights_zscore: {type(normalized_pos_weights_zscore)} {len(normalized_pos_weights_zscore)} {normalized_pos_weights_zscore}\")\\n\\n  # Normalize using min-max scaling\\n  normalized_pos_weights_minmax = (pos_weights - pos_weights.min()) / (pos_weights.max() - pos_weights.min())\\n  print(f\"normalized_pos_weights_minmax: {type(normalized_pos_weights_minmax)} {len(normalized_pos_weights_minmax)} {normalized_pos_weights_minmax}\")\\n\\n  # Normalize using z-score standardization\\n  normalized_pos_weights_zscore = (pos_weights - pos_weights.mean()) / pos_weights.std()\\n  print(f\"normalized_pos_weights_zscore: {type(normalized_pos_weights_zscore)} {len(normalized_pos_weights_zscore)} {normalized_pos_weights_zscore}\")\\n\\n  # Normalize using sum-to-one\\n  normalized_pos_weights_sum1 = pos_weights / pos_weights.sum()\\n  print(f\"normalized_pos_weights_sum1: {type(normalized_pos_weights_sum1)} {len(normalized_pos_weights_sum1)} {normalized_pos_weights_sum1}\")\\n\\n  return normalized_pos_weights_minmax\\n  #return normalized_pos_weights_zscore\\n  #return normalized_pos_weights_sum1\\n\\npos_weights = get_train_class_weights(datasetDict, labels)\\n\\nloss_fn = BCEWithLogitsLoss(pos_weight=pos_weights.to(device))  # For multi-label classification (binary classification per label)\\nprint(f\"loss_fn: {type(loss_fn)} {loss_fn}\")\\n'"
            ],
            "application/vnd.google.colaboratory.intrinsic+json": {
              "type": "string"
            }
          },
          "metadata": {},
          "execution_count": 59
        }
      ],
      "source": [
        "\"\"\"# Define the weighted loss function\n",
        "\n",
        "class_weights = torch.tensor([7.68, 2.15, 0.61, 0.47, 0.68, 6.26], dtype=torch.float32).to(device)\n",
        "loss_fn       = BCEWithLogitsLoss(pos_weight=class_weights)  # For multi-label classification (binary classification per label)\n",
        "\n",
        "## Class supports, class weigths, weighted loss function\n",
        "\n",
        "Reminder:\n",
        "*   df_jobs      : <class 'pandas.core.frame.DataFrame'>\n",
        "*   df_jobs['id']: <class 'pandas.core.series.Series'>\n",
        "\n",
        "dataset = Dataset.from_pandas(df_jobs)\n",
        "*   dataset      : <class 'datasets.arrow_dataset.Dataset'>\n",
        "*   dataset['id']: <class 'list'>\n",
        "\n",
        "*   dataset_dict_jobs : <class 'datasets.dataset_dict.DatasetDict'>\n",
        "*   train_dataset     : <class 'datasets.arrow_dataset.Dataset'>\n",
        "*   validation_dataset: <class 'datasets.arrow_dataset.Dataset'>\n",
        "*   test_dataset      : <class 'datasets.arrow_dataset.Dataset'>\n",
        "\n",
        "\n",
        "We calculate the class supports for the train, validation and test datasets; the class weights and the weighted loss function are used for training only; the class supports of validation_dataset and test_dataset are calculated for information only.\n",
        "\n",
        "def get_train_class_weights(datasetDict, labels):\n",
        "  print(f\"datasetDict: {type(datasetDict)} shape={datasetDict.shape}\\n{datasetDict}\")\n",
        "  print(f\"labels: {type(labels)} len={len(labels)}\\n{labels}\")\n",
        "\n",
        "  dataset_train      = datasetDict['train']\n",
        "  dataset_validation = datasetDict['validation']\n",
        "  dataset_test       = datasetDict['test']\n",
        "\n",
        "  def calculate_class_supports(dataset, labels):\n",
        "    class_supports = dataset.map(\n",
        "        lambda example: {col: example[col] for col in labels},\n",
        "        batched=True\n",
        "    ).to_pandas()[labels].sum(axis=0)\n",
        "    return class_supports\n",
        "\n",
        "  class_supports = {}\n",
        "\n",
        "  for split_name, split_dataset in datasetDict.items():\n",
        "    class_supports[split_name] = calculate_class_supports(split_dataset, labels)\n",
        "\n",
        "  for split_name, split_class_supports in class_supports.items():\n",
        "    print(f\"{split_name}: {type(split_class_supports)} len={len(split_class_supports)}\\n{split_class_supports}\")\n",
        "\n",
        "  train_class_supports_list = class_supports['train'].tolist()\n",
        "  print(f\"train_class_supports_list: {type(train_class_supports_list)} len={len(train_class_supports_list)} {train_class_supports_list}\")\n",
        "\n",
        "  train_class_supports_tensor = torch.tensor(train_class_supports_list, dtype=torch.float32)\n",
        "  print(f\"train_class_supports_tensor: {type(train_class_supports_tensor)} len={len(train_class_supports_tensor)} {train_class_supports_tensor}\")\n",
        "\n",
        "  train_total_samples = dataset_train.num_rows\n",
        "  print(f\"train_total_samples: {train_total_samples}\")\n",
        "\n",
        "  number_of_classes = len(labels)\n",
        "  print(f\"number_of_classes: {number_of_classes}\")\n",
        "\n",
        "  train_class_weights = train_total_samples / (number_of_classes * train_class_supports_tensor)\n",
        "  print(f\"train_class_weights: {type(train_class_weights)} len={len(train_class_weights)} {train_class_weights}\")\n",
        "\n",
        "  train_class_weights_sum = train_class_weights.sum()\n",
        "  print(f\"train_class_weights_sum: {train_class_weights_sum}\")\n",
        "\n",
        "  normalized_train_class_weights = (train_class_weights / train_class_weights_sum) * number_of_classes\n",
        "  print(f\"normalized_train_class_weights: {type(normalized_train_class_weights)} len={len(normalized_train_class_weights)} {normalized_train_class_weights}\")\n",
        "\n",
        "  # Positives samples per label\n",
        "  supports = train_class_supports_tensor\n",
        "  print(f\"supports: {type(supports)} {len(supports)} {supports}\")\n",
        "\n",
        "  # Negatives samples per label\n",
        "  negatives = train_total_samples - supports\n",
        "  print(f\"negatives: {type(negatives)} {len(negatives)} {negatives}\")\n",
        "\n",
        "  # pos_weights = negative to positive ratios\n",
        "  pos_weights = negatives/supports\n",
        "  print(f\"pos_weights: {type(pos_weights)} {len(pos_weights)} {pos_weights}\")\n",
        "\n",
        "  # Normalize using min-max scaling\n",
        "  normalized_pos_weights_minmax = (pos_weights - pos_weights.min()) / (pos_weights.max() - pos_weights.min())\n",
        "  print(f\"normalized_pos_weights_minmax: {type(normalized_pos_weights_minmax)} {len(normalized_pos_weights_minmax)} {normalized_pos_weights_minmax}\")\n",
        "\n",
        "  # Normalize using z-score standardization\n",
        "  normalized_pos_weights_zscore = (pos_weights - pos_weights.mean()) / pos_weights.std()\n",
        "  print(f\"normalized_pos_weights_zscore: {type(normalized_pos_weights_zscore)} {len(normalized_pos_weights_zscore)} {normalized_pos_weights_zscore}\")\n",
        "\n",
        "  # Normalize using min-max scaling\n",
        "  normalized_pos_weights_minmax = (pos_weights - pos_weights.min()) / (pos_weights.max() - pos_weights.min())\n",
        "  print(f\"normalized_pos_weights_minmax: {type(normalized_pos_weights_minmax)} {len(normalized_pos_weights_minmax)} {normalized_pos_weights_minmax}\")\n",
        "\n",
        "  # Normalize using z-score standardization\n",
        "  normalized_pos_weights_zscore = (pos_weights - pos_weights.mean()) / pos_weights.std()\n",
        "  print(f\"normalized_pos_weights_zscore: {type(normalized_pos_weights_zscore)} {len(normalized_pos_weights_zscore)} {normalized_pos_weights_zscore}\")\n",
        "\n",
        "  # Normalize using sum-to-one\n",
        "  normalized_pos_weights_sum1 = pos_weights / pos_weights.sum()\n",
        "  print(f\"normalized_pos_weights_sum1: {type(normalized_pos_weights_sum1)} {len(normalized_pos_weights_sum1)} {normalized_pos_weights_sum1}\")\n",
        "\n",
        "  return normalized_pos_weights_minmax\n",
        "  #return normalized_pos_weights_zscore\n",
        "  #return normalized_pos_weights_sum1\n",
        "\n",
        "pos_weights = get_train_class_weights(datasetDict, labels)\n",
        "\n",
        "loss_fn = BCEWithLogitsLoss(pos_weight=pos_weights.to(device))  # For multi-label classification (binary classification per label)\n",
        "print(f\"loss_fn: {type(loss_fn)} {loss_fn}\")\n",
        "\"\"\""
      ]
    },
    {
      "cell_type": "code",
      "execution_count": null,
      "metadata": {
        "id": "YqMipSpowcJ5"
      },
      "outputs": [],
      "source": [
        "def get_class_weights(labels=encoded_dataset['train']['labels']):\n",
        "  print(f\"labels: {type(labels)} len={len(labels)} shape={labels.shape}\\n{labels}\")\n",
        "\n",
        "  num_samples, num_labels = labels.shape\n",
        "  print(f\"num_samples: {type(num_samples)} {num_samples}\")\n",
        "  print(f\"num_labels:  {type(num_labels)}  {num_labels}\")\n",
        "\n",
        "  class_counts = labels.sum(dim=0)\n",
        "  print(f\"class_counts: {type(class_counts)} len={len(class_counts)}\\n{class_counts}\")\n",
        "\n",
        "  pos_weights = (num_samples-class_counts) / class_counts\n",
        "  print(f\"pos_weights: {type(pos_weights)} len={len(pos_weights)}\\n{pos_weights}\")\n",
        "\n",
        "  normalized_pos_weights_minmax = (pos_weights - pos_weights.min()) / (pos_weights.max() - pos_weights.min())\n",
        "  print(f\"normalized_pos_weights_minmax: {type(normalized_pos_weights_minmax)} {len(normalized_pos_weights_minmax)} {normalized_pos_weights_minmax}\")\n",
        "\n",
        "  normalized_pos_weights_zscore = (pos_weights - pos_weights.mean()) / pos_weights.std()\n",
        "  print(f\"normalized_pos_weights_zscore: {type(normalized_pos_weights_zscore)} {len(normalized_pos_weights_zscore)} {normalized_pos_weights_zscore}\")\n",
        "\n",
        "  normalized_pos_weights_sum1 = pos_weights / pos_weights.sum()\n",
        "  print(f\"normalized_pos_weights_sum1: {type(normalized_pos_weights_sum1)} {len(normalized_pos_weights_sum1)} {normalized_pos_weights_sum1}\")\n",
        "\n",
        "  #return pos_weights\n",
        "  #return normalized_pos_weights_minmax\n",
        "  #return normalized_pos_weights_zscore\n",
        "  return normalized_pos_weights_sum1"
      ]
    },
    {
      "cell_type": "code",
      "execution_count": null,
      "metadata": {
        "id": "3Bh-gAHGwcJ5",
        "colab": {
          "base_uri": "https://localhost:8080/"
        },
        "outputId": "80934b19-f0a5-453a-ec7c-624073ce893b"
      },
      "outputs": [
        {
          "output_type": "stream",
          "name": "stdout",
          "text": [
            "labels: <class 'torch.Tensor'> len=96 shape=torch.Size([96, 6])\n",
            "tensor([[0., 0., 1., 1., 0., 0.],\n",
            "        [1., 1., 1., 1., 1., 1.],\n",
            "        [0., 0., 1., 1., 1., 0.],\n",
            "        [0., 0., 0., 1., 1., 0.],\n",
            "        [0., 0., 0., 1., 1., 0.],\n",
            "        [0., 0., 0., 0., 1., 0.],\n",
            "        [0., 0., 1., 1., 1., 0.],\n",
            "        [0., 0., 1., 1., 1., 0.],\n",
            "        [0., 0., 1., 1., 0., 0.],\n",
            "        [0., 0., 0., 1., 1., 0.],\n",
            "        [0., 0., 0., 0., 1., 0.],\n",
            "        [0., 0., 1., 1., 1., 0.],\n",
            "        [0., 1., 1., 0., 0., 1.],\n",
            "        [0., 0., 1., 1., 1., 0.],\n",
            "        [0., 0., 1., 1., 1., 0.],\n",
            "        [0., 0., 1., 1., 1., 0.],\n",
            "        [0., 0., 1., 1., 1., 0.],\n",
            "        [0., 0., 1., 1., 0., 0.],\n",
            "        [0., 0., 1., 1., 0., 0.],\n",
            "        [0., 0., 1., 1., 0., 0.],\n",
            "        [0., 0., 0., 1., 1., 0.],\n",
            "        [0., 0., 0., 1., 1., 0.],\n",
            "        [0., 0., 0., 1., 1., 0.],\n",
            "        [0., 0., 0., 1., 1., 0.],\n",
            "        [0., 0., 1., 1., 1., 0.],\n",
            "        [0., 0., 1., 1., 0., 0.],\n",
            "        [0., 0., 0., 0., 1., 0.],\n",
            "        [0., 0., 0., 1., 1., 0.],\n",
            "        [0., 0., 0., 1., 1., 0.],\n",
            "        [0., 0., 1., 1., 1., 0.],\n",
            "        [0., 0., 0., 1., 1., 0.],\n",
            "        [0., 0., 1., 1., 1., 0.],\n",
            "        [0., 0., 1., 1., 1., 0.],\n",
            "        [0., 0., 1., 1., 0., 0.],\n",
            "        [1., 0., 0., 0., 0., 0.],\n",
            "        [0., 0., 0., 1., 1., 0.],\n",
            "        [0., 0., 0., 1., 1., 0.],\n",
            "        [0., 0., 0., 1., 1., 0.],\n",
            "        [0., 0., 1., 1., 0., 0.],\n",
            "        [0., 0., 0., 1., 1., 0.],\n",
            "        [0., 0., 1., 1., 0., 0.],\n",
            "        [0., 1., 1., 1., 0., 0.],\n",
            "        [1., 1., 1., 0., 0., 1.],\n",
            "        [0., 0., 0., 1., 1., 0.],\n",
            "        [0., 0., 1., 0., 0., 0.],\n",
            "        [0., 0., 1., 1., 1., 0.],\n",
            "        [0., 1., 1., 1., 1., 0.],\n",
            "        [0., 0., 0., 1., 1., 0.],\n",
            "        [0., 0., 1., 1., 1., 0.],\n",
            "        [0., 0., 1., 1., 0., 0.],\n",
            "        [0., 0., 0., 1., 1., 0.],\n",
            "        [0., 0., 1., 1., 0., 0.],\n",
            "        [0., 1., 1., 0., 0., 0.],\n",
            "        [0., 0., 0., 1., 1., 0.],\n",
            "        [0., 0., 0., 1., 1., 0.],\n",
            "        [0., 1., 1., 1., 0., 0.],\n",
            "        [0., 0., 0., 1., 1., 0.],\n",
            "        [0., 0., 0., 1., 1., 0.],\n",
            "        [0., 0., 1., 1., 1., 0.],\n",
            "        [0., 0., 0., 1., 1., 0.],\n",
            "        [0., 0., 0., 1., 1., 0.],\n",
            "        [0., 0., 1., 1., 1., 0.],\n",
            "        [0., 0., 0., 1., 1., 0.],\n",
            "        [0., 0., 0., 1., 1., 0.],\n",
            "        [0., 0., 1., 1., 0., 0.],\n",
            "        [0., 0., 1., 1., 0., 0.],\n",
            "        [0., 0., 1., 1., 0., 0.],\n",
            "        [0., 0., 1., 1., 0., 0.],\n",
            "        [0., 0., 0., 1., 1., 0.],\n",
            "        [0., 0., 1., 1., 0., 0.],\n",
            "        [0., 0., 0., 1., 1., 0.],\n",
            "        [0., 0., 0., 1., 1., 0.],\n",
            "        [0., 0., 0., 1., 1., 0.],\n",
            "        [0., 0., 0., 1., 1., 0.],\n",
            "        [0., 0., 1., 1., 0., 0.],\n",
            "        [0., 0., 0., 1., 1., 0.],\n",
            "        [0., 1., 1., 0., 0., 0.],\n",
            "        [0., 0., 0., 1., 1., 0.],\n",
            "        [0., 0., 0., 1., 1., 0.],\n",
            "        [0., 0., 1., 1., 1., 0.],\n",
            "        [0., 0., 0., 1., 1., 0.],\n",
            "        [0., 0., 1., 1., 1., 0.],\n",
            "        [0., 0., 0., 1., 1., 0.],\n",
            "        [0., 1., 0., 0., 0., 0.],\n",
            "        [0., 0., 1., 1., 0., 0.],\n",
            "        [0., 0., 1., 1., 0., 0.],\n",
            "        [0., 0., 1., 1., 1., 0.],\n",
            "        [0., 0., 0., 1., 1., 0.],\n",
            "        [0., 0., 1., 1., 1., 0.],\n",
            "        [0., 0., 1., 1., 0., 0.],\n",
            "        [0., 0., 0., 1., 1., 0.],\n",
            "        [0., 0., 1., 1., 0., 0.],\n",
            "        [0., 0., 1., 1., 0., 0.],\n",
            "        [0., 0., 1., 1., 0., 0.],\n",
            "        [0., 0., 1., 1., 0., 0.],\n",
            "        [0., 0., 0., 1., 1., 0.]])\n",
            "num_samples: <class 'int'> 96\n",
            "num_labels:  <class 'int'>  6\n",
            "class_counts: <class 'torch.Tensor'> len=6\n",
            "tensor([ 3.,  9., 53., 86., 63.,  3.])\n",
            "pos_weights: <class 'torch.Tensor'> len=6\n",
            "tensor([31.0000,  9.6667,  0.8113,  0.1163,  0.5238, 31.0000])\n",
            "normalized_pos_weights_minmax: <class 'torch.Tensor'> 6 tensor([1.0000, 0.3092, 0.0225, 0.0000, 0.0132, 1.0000])\n",
            "normalized_pos_weights_zscore: <class 'torch.Tensor'> 6 tensor([ 1.2540, -0.1680, -0.7582, -0.8045, -0.7774,  1.2540])\n",
            "normalized_pos_weights_sum1: <class 'torch.Tensor'> 6 tensor([0.4240, 0.1322, 0.0111, 0.0016, 0.0072, 0.4240])\n"
          ]
        }
      ],
      "source": [
        "pos_weights = get_class_weights()"
      ]
    },
    {
      "cell_type": "code",
      "execution_count": null,
      "metadata": {
        "id": "4d36Km6_wcJ5"
      },
      "outputs": [],
      "source": [
        "loss_fn = BCEWithLogitsLoss(pos_weight=pos_weights.to(device))"
      ]
    },
    {
      "cell_type": "markdown",
      "metadata": {
        "id": "w_lLw3Er1WGj"
      },
      "source": [
        "### FocalLoss"
      ]
    },
    {
      "cell_type": "code",
      "execution_count": null,
      "metadata": {
        "id": "OPRpdL8fwcJ5"
      },
      "outputs": [],
      "source": [
        "class FocalLoss(Module):\n",
        "  \"\"\"\n",
        "  Focal Loss implementation\n",
        "  \"\"\"\n",
        "  def __init__(self, alpha=1.0, gamma=2.0, logits=False, reduce=True):\n",
        "    super(FocalLoss, self).__init__()\n",
        "    self.alpha   = alpha\n",
        "    self.gamma   = gamma\n",
        "    self.logits  = logits  # This flag is to indicate whether input is logits or probability\n",
        "    self.reduce  = reduce\n",
        "\n",
        "  # inputs  = model's predictions: PyTorch tensor, shape=(batch_size, num_classes)\n",
        "  # targets = ground truth labels: PyTorch tensor, shape=same as inputs shape\n",
        "  def forward(self, inputs, targets):\n",
        "    # Here, we check if input is probability or logits\n",
        "    if self.logits:\n",
        "      # Input is logits\n",
        "      BCE_loss = F.binary_cross_entropy_with_logits(inputs, targets, reduction='none')\n",
        "    else:\n",
        "      # Input is probability\n",
        "      BCE_loss = F.binary_cross_entropy(inputs, targets, reduction='none')\n",
        "    pt = torch.exp(-BCE_loss)\n",
        "    F_loss = self.alpha * (1-pt)**self.gamma * BCE_loss\n",
        "\n",
        "    if self.reduce:\n",
        "      return torch.mean(F_loss)\n",
        "    else:\n",
        "      return F_loss\n",
        "\n",
        "  def __repr__(self):\n",
        "    return f\"FocalLoss(alpha={self.alpha}, gamma={self.gamma}, logits={self.logits}, reduce={self.reduce})\"\n",
        "\n",
        "  def __str__(self):\n",
        "    return f\"FocalLoss(alpha={self.alpha}, gamma={self.gamma}, logits={self.logits}, reduce={self.reduce})\"\n",
        "\n",
        "  def __call__(self, inputs, targets):\n",
        "    return self.forward(inputs, targets)"
      ]
    },
    {
      "cell_type": "code",
      "execution_count": null,
      "metadata": {
        "id": "zknwQWsEb7oP",
        "colab": {
          "base_uri": "https://localhost:8080/"
        },
        "outputId": "85edb3da-b56b-4fba-be3c-7f51483002b3"
      },
      "outputs": [
        {
          "output_type": "stream",
          "name": "stdout",
          "text": [
            "focal_loss_fn: <class '__main__.FocalLoss'> FocalLoss(alpha=0.5, gamma=4.0, logits=True, reduce=True)\n"
          ]
        }
      ],
      "source": [
        "focal_loss_fn = FocalLoss(alpha=0.5, gamma=4.0, logits=True, reduce=True)\n",
        "print(f\"focal_loss_fn: {type(focal_loss_fn)} {focal_loss_fn}\")"
      ]
    },
    {
      "cell_type": "markdown",
      "metadata": {
        "id": "d2elPEoowcJ6"
      },
      "source": [
        "### HF transformer Trainer and CustomTrainer\n",
        "Abstracts the training loop."
      ]
    },
    {
      "cell_type": "code",
      "execution_count": null,
      "metadata": {
        "id": "dR2GmpvDqbuZ"
      },
      "outputs": [],
      "source": [
        "training_args = TrainingArguments(\n",
        "    output_dir                  = './training_results',  # where model predictions and checkpoints will be written during training\n",
        "    overwrite_output_dir        = True,\n",
        "    logging_dir                 = './logs',\n",
        "    logging_steps               = 50,\n",
        "    save_steps                  = 500,\n",
        "    save_total_limit            = 2,\n",
        "    eval_strategy               = 'epoch',\n",
        "    save_strategy               = 'epoch',\n",
        "    learning_rate               = learning_rate,\n",
        "    per_device_train_batch_size = batch_size,\n",
        "    per_device_eval_batch_size  = batch_size,\n",
        "    gradient_accumulation_steps = gradient_accumulation_steps,\n",
        "    num_train_epochs            = epochs,\n",
        "    weight_decay                = 0.01,\n",
        "    load_best_model_at_end      = True,\n",
        "    metric_for_best_model       = metric_name,\n",
        "    run_name                    = run_name,\n",
        "    fp16                        = fp,\n",
        "    report_to                  = 'wandb'\n",
        ")"
      ]
    },
    {
      "cell_type": "code",
      "execution_count": null,
      "metadata": {
        "id": "Isb6aMV2bWJ8"
      },
      "outputs": [],
      "source": [
        "class CustomTrainer(Trainer):\n",
        "\n",
        "  def __init__(self, *args, loss_fn=None, **kwargs):\n",
        "    super().__init__(*args, **kwargs)\n",
        "    self.loss_fn = loss_fn\n",
        "\n",
        "  \"\"\"\n",
        "  # No print in compute_loss because out of memory because prints are batch per batch\n",
        "  def compute_loss(self, model, inputs, return_outputs=False, num_items_in_batch=None):\n",
        "\n",
        "    #print(f\"inputs passed to compute_loss: {inputs.keys()}\")\n",
        "    #input_ids             = inputs['input_ids']                        # shape: batch_size, sequence_length\n",
        "    #attention_mask        = inputs['attention_mask']                   # shape: batch_size, sequence_length\n",
        "    #global_attention_mask = inputs.get('global_attention_mask', None)  # shape: batch_size, sequence_length; optional as LongFormer specific\n",
        "    labels                = inputs.pop('labels', None)                 # shape: batch_size, num_labels; needed for loss computation, not required by the model\n",
        "\n",
        "    #outputs = model(**inputs, global_attention_mask=global_attention_mask)  # Forward pass\n",
        "    # Forward pass\n",
        "    #outputs = model(\n",
        "    #    input_ids             = input_ids,\n",
        "    #    attention_mask        = attention_mask,\n",
        "    #    global_attention_mask = global_attention_mask,\n",
        "    #    labels                = labels\n",
        "    #)\n",
        "    outputs = model(**inputs, labels=labels)\n",
        "    #print(f\"outputs: {type(outputs)} {outputs.keys()}\\n{outputs}\")\n",
        "    logits = outputs.logits  # shape: (batch_size, num_labels)\n",
        "\n",
        "    # If labels are provided, compute loss\n",
        "    if labels is not None:\n",
        "      # Use the custom loss function if provided\n",
        "      if self.loss_fn is not None:\n",
        "        loss = self.loss_fn(logits, labels)  # Compute weighted loss\n",
        "      else:\n",
        "        # Default loss: BCEWithLogitsLoss\n",
        "        loss_fn = BCEWithLogitsLoss()\n",
        "        loss    = loss_fn(logits, labels)    # Compute loss\n",
        "      return (loss, outputs) if return_outputs else loss\n",
        "\n",
        "    # If no labels, return outputs only, for evaluation or prediction\n",
        "    return outputs\n",
        "    \"\"\"\n",
        "  def compute_loss(self, model, inputs, return_outputs=False, num_items_in_batch=None):\n",
        "    labels  = inputs.pop('labels', None)\n",
        "    outputs = model(**inputs, labels=labels)\n",
        "    logits  = outputs.logits\n",
        "\n",
        "    if labels is not None:\n",
        "      if self.loss_fn is not None:\n",
        "        loss = self.loss_fn(logits, labels)\n",
        "      else:\n",
        "        loss_fn = BCEWithLogitsLoss()\n",
        "        loss    = loss_fn(logits, labels)\n",
        "      return (loss, outputs) if return_outputs else loss\n",
        "\n",
        "    return outputs"
      ]
    },
    {
      "cell_type": "code",
      "execution_count": null,
      "metadata": {
        "id": "chq_3nUz73ib"
      },
      "outputs": [],
      "source": [
        "\"\"\"\n",
        "trainer = CustomTrainer(\n",
        "    model           = model,\n",
        "    args            = training_args,\n",
        "    train_dataset   = encoded_dataset[\"train\"],\n",
        "    eval_dataset    = encoded_dataset[\"validation\"],\n",
        "    compute_metrics = compute_metrics,                # custom metrics function\n",
        "    loss_fn         = focal_loss_fn,\n",
        ")\n",
        "\"\"\"\n",
        "\n",
        "trainer = Trainer(\n",
        "    model           = model,\n",
        "    args            = training_args,\n",
        "    train_dataset   = encoded_dataset[\"train\"],\n",
        "    eval_dataset    = encoded_dataset[\"validation\"],\n",
        "    compute_metrics = compute_metrics,                # custom metrics function\n",
        ")"
      ]
    },
    {
      "cell_type": "code",
      "execution_count": null,
      "metadata": {
        "id": "cVs8D9geXHqK",
        "colab": {
          "base_uri": "https://localhost:8080/",
          "height": 70
        },
        "outputId": "f5e7b780-d722-464d-8866-024e6a120623"
      },
      "outputs": [
        {
          "output_type": "execute_result",
          "data": {
            "text/plain": [
              "'\\npredictions_output = trainer.predict(test_dataset)\\nprint(f\"predictions_output: {type(predictions_output)} len={len(predictions_output)}\\n{predictions_output}\")  # <class \\'transformers.trainer_utils.PredictionOutput\\'> len=3\\nlogits = predictions_output.predictions\\nprint(f\"logits: {type(logits)} len={len(logits)} shape={logits.shape}\\n{logits}\")\\n\\n\\nraise Exception(\"I\\'m here\")\\n'"
            ],
            "application/vnd.google.colaboratory.intrinsic+json": {
              "type": "string"
            }
          },
          "metadata": {},
          "execution_count": 68
        }
      ],
      "source": [
        "\"\"\"\n",
        "predictions_output: <class 'transformers.trainer_utils.PredictionOutput'> len=3:\n",
        "- predictions: np.ndarray          raw model outputs = logits\n",
        "- label_ids  : np.ndarray or None: true labels corresponding to the predictions, if available\n",
        "- metrics    : dict              : metrics computed during prediction step\n",
        "\"\"\"\n",
        "\"\"\"\n",
        "predictions_output = trainer.predict(test_dataset)\n",
        "print(f\"predictions_output: {type(predictions_output)} len={len(predictions_output)}\\n{predictions_output}\")  # <class 'transformers.trainer_utils.PredictionOutput'> len=3\n",
        "logits = predictions_output.predictions\n",
        "print(f\"logits: {type(logits)} len={len(logits)} shape={logits.shape}\\n{logits}\")\n",
        "\n",
        "\n",
        "raise Exception(\"I'm here\")\n",
        "\"\"\""
      ]
    },
    {
      "cell_type": "markdown",
      "metadata": {
        "id": "z3kPFNOG-3vL"
      },
      "source": [
        "### trainer.train"
      ]
    },
    {
      "cell_type": "code",
      "execution_count": null,
      "metadata": {
        "id": "V_k5uxpKwcJ6",
        "colab": {
          "base_uri": "https://localhost:8080/",
          "height": 460
        },
        "outputId": "98651b40-9c10-4915-9465-65ad293dfaf9"
      },
      "outputs": [
        {
          "output_type": "display_data",
          "data": {
            "text/plain": [
              "<IPython.core.display.HTML object>"
            ],
            "text/html": [
              "\n",
              "    <div>\n",
              "      \n",
              "      <progress value='15' max='15' style='width:300px; height:20px; vertical-align: middle;'></progress>\n",
              "      [15/15 00:43, Epoch 5/5]\n",
              "    </div>\n",
              "    <table border=\"1\" class=\"dataframe\">\n",
              "  <thead>\n",
              " <tr style=\"text-align: left;\">\n",
              "      <th>Epoch</th>\n",
              "      <th>Training Loss</th>\n",
              "      <th>Validation Loss</th>\n",
              "      <th>F1</th>\n",
              "      <th>Precision</th>\n",
              "      <th>Recall</th>\n",
              "      <th>Roc Auc</th>\n",
              "      <th>Precision Recall Auc</th>\n",
              "      <th>Accuracy</th>\n",
              "    </tr>\n",
              "  </thead>\n",
              "  <tbody>\n",
              "    <tr>\n",
              "      <td>1</td>\n",
              "      <td>No log</td>\n",
              "      <td>0.640540</td>\n",
              "      <td>0.800000</td>\n",
              "      <td>0.684211</td>\n",
              "      <td>0.962963</td>\n",
              "      <td>0.914403</td>\n",
              "      <td>0.866108</td>\n",
              "      <td>0.083333</td>\n",
              "    </tr>\n",
              "    <tr>\n",
              "      <td>2</td>\n",
              "      <td>No log</td>\n",
              "      <td>0.599804</td>\n",
              "      <td>0.857143</td>\n",
              "      <td>0.750000</td>\n",
              "      <td>1.000000</td>\n",
              "      <td>0.929218</td>\n",
              "      <td>0.880651</td>\n",
              "      <td>0.250000</td>\n",
              "    </tr>\n",
              "    <tr>\n",
              "      <td>3</td>\n",
              "      <td>No log</td>\n",
              "      <td>0.570365</td>\n",
              "      <td>0.857143</td>\n",
              "      <td>0.750000</td>\n",
              "      <td>1.000000</td>\n",
              "      <td>0.925926</td>\n",
              "      <td>0.878017</td>\n",
              "      <td>0.250000</td>\n",
              "    </tr>\n",
              "    <tr>\n",
              "      <td>4</td>\n",
              "      <td>No log</td>\n",
              "      <td>0.549688</td>\n",
              "      <td>0.857143</td>\n",
              "      <td>0.750000</td>\n",
              "      <td>1.000000</td>\n",
              "      <td>0.919342</td>\n",
              "      <td>0.868189</td>\n",
              "      <td>0.250000</td>\n",
              "    </tr>\n",
              "    <tr>\n",
              "      <td>5</td>\n",
              "      <td>No log</td>\n",
              "      <td>0.537043</td>\n",
              "      <td>0.857143</td>\n",
              "      <td>0.750000</td>\n",
              "      <td>1.000000</td>\n",
              "      <td>0.916049</td>\n",
              "      <td>0.860600</td>\n",
              "      <td>0.250000</td>\n",
              "    </tr>\n",
              "  </tbody>\n",
              "</table><p>"
            ]
          },
          "metadata": {}
        },
        {
          "output_type": "stream",
          "name": "stdout",
          "text": [
            "trainer_train_results: <class 'transformers.trainer_utils.TrainOutput'> len=3\n",
            "TrainOutput(global_step=15, training_loss=0.6125377655029297, metrics={'train_runtime': 46.2895, 'train_samples_per_second': 10.37, 'train_steps_per_second': 0.324, 'total_flos': 315297845084160.0, 'train_loss': 0.6125377655029297, 'epoch': 5.0})\n",
            "\n",
            "trainer_train_results.metrics: <class 'dict'> len=6\n",
            "{\n",
            "    \"train_runtime\": 46.2895,\n",
            "    \"train_samples_per_second\": 10.37,\n",
            "    \"train_steps_per_second\": 0.324,\n",
            "    \"total_flos\": 315297845084160.0,\n",
            "    \"train_loss\": 0.6125377655029297,\n",
            "    \"epoch\": 5.0\n",
            "}\n"
          ]
        }
      ],
      "source": [
        "trainer_train_results = trainer.train()\n",
        "\n",
        "print(f\"trainer_train_results: {type(trainer_train_results)} len={len(trainer_train_results)}\\n{trainer_train_results}\")\n",
        "print()\n",
        "print(f\"trainer_train_results.metrics: {type(trainer_train_results.metrics)} len={len(trainer_train_results.metrics)}\\n{json.dumps(trainer_train_results.metrics, indent=4)}\")"
      ]
    },
    {
      "cell_type": "code",
      "execution_count": null,
      "metadata": {
        "id": "I2SMR-lI8Y8r",
        "colab": {
          "base_uri": "https://localhost:8080/"
        },
        "outputId": "55526fa0-625c-4760-a718-018a4e172ce2"
      },
      "outputs": [
        {
          "output_type": "stream",
          "name": "stdout",
          "text": [
            "trainer.train successfully completed\n"
          ]
        }
      ],
      "source": [
        "print(\"trainer.train successfully completed\")"
      ]
    },
    {
      "cell_type": "markdown",
      "metadata": {
        "id": "Uai-d2z2IMaZ"
      },
      "source": [
        "### trainer.train results: save locally and upload to HF Hub"
      ]
    },
    {
      "cell_type": "code",
      "execution_count": null,
      "metadata": {
        "id": "HvhT1c_h_oul"
      },
      "outputs": [],
      "source": [
        "if upload_to_HF:\n",
        "\n",
        "  name               = \"trainer_train\"\n",
        "  trainer_train_path = f\"{name}.json\"\n",
        "\n",
        "  with open(trainer_train_path, \"w\") as f:\n",
        "    json.dump(trainer_train_results, f)\n",
        "\n",
        "  print(f\"{name} results successfully saved locally to {trainer_train_path}\")\n",
        "\n",
        "  upload_file(\n",
        "      path_or_fileobj = trainer_train_path,\n",
        "      path_in_repo    = trainer_train_path,\n",
        "      repo_id         = repo_id,\n",
        "      repo_type       = 'dataset',\n",
        "      commit_message  = f\"{name}_{timestamp}\"\n",
        "  )\n",
        "\n",
        "  print(f\"{name} results successfully uploaded to HF Hub as {trainer_train_path}\")"
      ]
    },
    {
      "cell_type": "markdown",
      "metadata": {
        "id": "as2omZpPJNO6"
      },
      "source": [
        "### trainer.train results: check that the uploaded file can be downloaded\n",
        "File locally downloaded to:\n",
        "/root/.cache/huggingface/hub/datasets-claudelepere-skill_classification/snapshots/full_commit_hash/trainer_train_results.json"
      ]
    },
    {
      "cell_type": "code",
      "execution_count": null,
      "metadata": {
        "id": "PJ2D28X2-GfV"
      },
      "outputs": [],
      "source": [
        "if upload_to_HF:\n",
        "\n",
        "  file_path = hf_hub_download(repo_type=\"dataset\", repo_id=repo_id, filename=trainer_train_path)\n",
        "\n",
        "  print(f\"file_path: {file_path}\")"
      ]
    },
    {
      "cell_type": "markdown",
      "metadata": {
        "id": "JVozoTnW1Mt9"
      },
      "source": [
        "## Evaluation step"
      ]
    },
    {
      "cell_type": "markdown",
      "metadata": {
        "id": "05FkezueB6_J"
      },
      "source": [
        "### Evaluation: trainer.evaluate\n",
        "trainer.evaluate uses a fixed threshold of 0.5 to convert logits into binary labels, which is often suboptimal for imbalanced data."
      ]
    },
    {
      "cell_type": "code",
      "execution_count": null,
      "metadata": {
        "id": "HMKEjsRk5ah6",
        "colab": {
          "base_uri": "https://localhost:8080/",
          "height": 280
        },
        "outputId": "cb623daf-c400-40f5-b411-af098ae00358"
      },
      "outputs": [
        {
          "output_type": "display_data",
          "data": {
            "text/plain": [
              "<IPython.core.display.HTML object>"
            ],
            "text/html": [
              "\n",
              "    <div>\n",
              "      \n",
              "      <progress value='2' max='2' style='width:300px; height:20px; vertical-align: middle;'></progress>\n",
              "      [2/2 00:00]\n",
              "    </div>\n",
              "    "
            ]
          },
          "metadata": {}
        },
        {
          "output_type": "stream",
          "name": "stdout",
          "text": [
            "evaluation_trainer_evaluate_results: <class 'dict'> len=11\n",
            "{\n",
            "    \"eval_loss\": 0.5998042225837708,\n",
            "    \"eval_f1\": 0.8571428571428571,\n",
            "    \"eval_precision\": 0.75,\n",
            "    \"eval_recall\": 1.0,\n",
            "    \"eval_roc_auc\": 0.9292181069958848,\n",
            "    \"eval_precision_recall_auc\": 0.8806507861089439,\n",
            "    \"eval_accuracy\": 0.25,\n",
            "    \"eval_runtime\": 0.2519,\n",
            "    \"eval_samples_per_second\": 47.645,\n",
            "    \"eval_steps_per_second\": 7.941,\n",
            "    \"epoch\": 5.0\n",
            "}\n"
          ]
        }
      ],
      "source": [
        "evaluation_trainer_evaluate_results = trainer.evaluate(\n",
        "    #eval_dataset=encoded_dataset[\"validation\"],  # by default, trainer.evaluate() evaluates the dataset passed as eval_dataset during training\n",
        "    metric_key_prefix=\"eval\"                     # prefix for the evaluation metrics\n",
        ")\n",
        "\n",
        "print(f\"evaluation_trainer_evaluate_results: {type(evaluation_trainer_evaluate_results)} len={len(evaluation_trainer_evaluate_results)}\\n{json.dumps(evaluation_trainer_evaluate_results, indent=4)}\")\n"
      ]
    },
    {
      "cell_type": "code",
      "execution_count": null,
      "metadata": {
        "id": "_O-_tVHg-lUe",
        "colab": {
          "base_uri": "https://localhost:8080/"
        },
        "outputId": "970d0492-cf4e-4d81-a965-96c45ab57ef6"
      },
      "outputs": [
        {
          "output_type": "stream",
          "name": "stdout",
          "text": [
            "evaluation_trainer.evaluate successfully completed\n"
          ]
        }
      ],
      "source": [
        "print(\"evaluation_trainer.evaluate successfully completed\")"
      ]
    },
    {
      "cell_type": "markdown",
      "metadata": {
        "id": "9w5BmumZ6tDS"
      },
      "source": [
        "### Evaluation: trainer.evaluate results: save locally and upload to HF Hub"
      ]
    },
    {
      "cell_type": "code",
      "execution_count": null,
      "metadata": {
        "id": "cMlebJ83LRYG"
      },
      "outputs": [],
      "source": [
        "if upload_to_HF:\n",
        "\n",
        "  name                             = \"evaluation_trainer_evaluate\"\n",
        "  evaluation_trainer_evaluate_path = f\"{name}.json\"\n",
        "\n",
        "  with open(evaluation_trainer_evaluate_path, \"w\") as f:\n",
        "    json.dump(evaluation_trainer_evaluate_results, f)\n",
        "\n",
        "  print(f\"{name} successfully saved locally to {evaluation_trainer_evaluate_path}\")\n",
        "\n",
        "  upload_file(\n",
        "      path_or_fileobj = evaluation_trainer_evaluate_path,\n",
        "      path_in_repo    = evaluation_trainer_evaluate_path,\n",
        "      repo_id         = repo_id,\n",
        "      repo_type       = 'dataset',\n",
        "      commit_message  = f\"{name}_{timestamp}\"\n",
        "  )\n",
        "\n",
        "  print(f\"{name} successfully uploaded to HF Hub as {evaluation_trainer_evaluate_path}\")"
      ]
    },
    {
      "cell_type": "markdown",
      "metadata": {
        "id": "nxYFDrB57nM3"
      },
      "source": [
        "### Evaluation: trainer.predict"
      ]
    },
    {
      "cell_type": "code",
      "execution_count": null,
      "metadata": {
        "id": "NlcRxeCycBg0"
      },
      "outputs": [],
      "source": [
        "def tune_thresholds(true_labels, probs, id2label):\n",
        "  \"\"\"\n",
        "  Tune thresholds for each label to maximize F1 alone, as F1 balances precision and recall into a single metric.\n",
        "\n",
        "  Args:\n",
        "    true_labels: actual labels for the data                                      (numpy array of shape (num_samples, num_labels))\n",
        "    probs      : predicted probabilities                                         (numpy array of shape (num_samples, num_labels))\n",
        "    id2label   : dictionary mapping label indices (int) to label names (string)\n",
        "\n",
        "  Returns:\n",
        "    best_thresholds: best threshold for each label                                                      (numpy array of shape (num_labels,))\n",
        "    best_metrics   : dictionary of best F1, precision_for_best_f1 and recall_for_best_f1 for each label (dictionary of numpy arrays)\n",
        "  \"\"\"\n",
        "  thresholds      = np.linspace(0.1, 0.9, 9)\n",
        "  best_thresholds = np.zeros(len(id2label))\n",
        "  best_metrics    = {label: {'f1': 0.0, 'precision': 0.0, 'recall': 0.0} for label in id2label.values()}\n",
        "\n",
        "  for label_idx, label in id2label.items():\n",
        "    for threshold in thresholds:\n",
        "      pred                     = (probs[:, label_idx] > threshold).astype(int)\n",
        "      precision, recall, f1, _ = precision_recall_fscore_support(true_labels[:, label_idx], pred, average='binary', zero_division=0)\n",
        "      if f1 > best_metrics[label]['f1']:\n",
        "        best_thresholds[label_idx]       = threshold\n",
        "        best_metrics[label]['f1']        = f1\n",
        "        best_metrics[label]['precision'] = precision\n",
        "        best_metrics[label]['recall']    = recall\n",
        "\n",
        "  print(\"==== tune_thresholds ====\")\n",
        "  print(f\"best_thresholds: {type(best_thresholds)} shape={best_thresholds.shape}\\n{best_thresholds}\")\n",
        "  print(f\"best_metrics   : {type(best_metrics)}    len={len(best_metrics)}      \\n{json.dumps(best_metrics, indent=4)}\")\n",
        "  print(\"=========================\")\n",
        "  print()\n",
        "\n",
        "  return best_thresholds, best_metrics\n"
      ]
    },
    {
      "cell_type": "code",
      "execution_count": null,
      "metadata": {
        "id": "8_-dGUEkJqDF"
      },
      "outputs": [],
      "source": [
        "\"\"\"\n",
        "def compute_metrics_with_threshold_SAV(probs, label_ids, thresholds, id2label):\n",
        "  \"\"\"\n",
        "  Compute metrics during evaluation or test, by applying tuned thresholds\n",
        "  \"\"\"\n",
        "  #logits  = eval_preds.predictions\n",
        "  #labels  = eval_preds.label_ids\n",
        "  #sigmoid = torch.nn.Sigmoid  # Sigmoid or numpy?\n",
        "  #probs   = sigmoid(logits).cpu().numpy()\n",
        "  preds   = np.zeros_like(probs)\n",
        "\n",
        "  if threshold_tuning:\n",
        "    # Apply per-label tuned threshold\n",
        "    for label_idx in id2label.keys():\n",
        "        preds[:, label_idx] = (probs[:, label_idx] > thresholds[label_idx]).astype(int)\n",
        "  else:\n",
        "    # threhsolds = None, apply a fixed threshold to all labels\n",
        "    for label_idx in id2label.keys():\n",
        "        preds[:, label_idx] = (probs[:, label_idx] > threshold).astype(int)\n",
        "\n",
        "  # Compute metrics\n",
        "  f1                    = f1_score               (label_ids, preds, average='micro')\n",
        "  precision             = precision_score        (label_ids, preds, average='micro')\n",
        "  recall                = recall_score           (label_ids, preds, average='micro')\n",
        "  accuracy              = accuracy_score         (label_ids, preds)\n",
        "  roc_auc               = roc_auc_score          (label_ids, probs, average='micro')  # multi_class=\"ovr\" <<<<<<<<<<<<<<<<<<<<<<<<<<<<<<<<<<<\n",
        "  precision_recall_auc  = average_precision_score(label_ids, probs, average='micro')\n",
        "\n",
        "  # Use id2label for target_names\n",
        "  report = classification_report(label_ids, preds, target_names=id2label.values(), zero_division=0)\n",
        "\n",
        "  if threshold_tuning:\n",
        "    _thresholds = thresholds.tolist()\n",
        "  else:\n",
        "    _thresholds = threshold\n",
        "\n",
        "  metrics = {\n",
        "      'f1'                   : f1,\n",
        "      'precision'            : precision,\n",
        "      'recall'               : recall,\n",
        "      'accuracy'             : accuracy,\n",
        "      'roc_auc'              : roc_auc,\n",
        "      'precision_recall_auc' : precision_recall_auc,\n",
        "      'thresholds'           : _thresholds,\n",
        "      'classification_report': report\n",
        "  }\n",
        "\n",
        "  return metrics\n",
        "\"\"\""
      ]
    },
    {
      "cell_type": "code",
      "execution_count": null,
      "metadata": {
        "id": "ygLGrdHabCRB"
      },
      "outputs": [],
      "source": [
        "def compute_metrics_with_threshold(probs, label_ids, thresholds, id2label):\n",
        "    \"\"\"\n",
        "    Compute metrics during evaluation or test, by applying tuned thresholds\n",
        "\n",
        "    average:\n",
        "    - 'micro'   : gives more weight to frequent labels     → best for imbalanced datasets where frequent labels are more important\n",
        "    - 'macro'   : treats all labels equally                → best when you care about rare labels as much as frequent ones\n",
        "    - 'weighted': like macro but considers label frequency → best if you want a compromise between macro and micro\n",
        "\n",
        "    - 'macro' or 'weighted' AUC is often best because AUC isn't as affected by class imbalance as F1/Precision/Recall\n",
        "    - 'macro'      AUC: usually the best because it treats all labels equally, avoiding the dominance of frequent labels\n",
        "    - 'weighted'   AUC: similar to macro but considers label frequency\n",
        "    - 'macro'   PR AUC: best for imbalanced datasets because it treats rare labels fairly\n",
        "    - 'weighted PR AUC: also good, but slightly biased toward frequent labels\n",
        "\n",
        "    PR AUC is better than ROC AUC when you care about positive examples in imbalanced data\n",
        "    \"\"\"\n",
        "    average = 'macro'\n",
        "    preds   = np.zeros_like(probs)\n",
        "\n",
        "    # Apply per-label tuned threshold\n",
        "    for label_idx in id2label.keys():\n",
        "        preds[:, label_idx] = (probs[:, label_idx] > thresholds[label_idx]).astype(int)\n",
        "\n",
        "    # Compute metrics\n",
        "    f1        = f1_score       (label_ids, preds, average=average)\n",
        "    precision = precision_score(label_ids, preds, average=average)\n",
        "    recall    = recall_score   (label_ids, preds, average=average)\n",
        "    accuracy  = accuracy_score (label_ids, preds)\n",
        "\n",
        "    # Compute AUC scores with error handling\n",
        "    try:\n",
        "        roc_auc              = roc_auc_score          (label_ids, probs, average=average)\n",
        "    except ValueError:\n",
        "        roc_auc  = 0.0\n",
        "\n",
        "    try:\n",
        "        precision_recall_auc = average_precision_score(label_ids, probs, average=average)\n",
        "    except ValueError:\n",
        "        precision_recall_auc = 0.0\n",
        "\n",
        "    # Compute per-class metrics (average = None)\n",
        "    per_class_f1        = f1_score       (label_ids, preds, average=None)\n",
        "    per_class_precision = precision_score(label_ids, preds, average=None)\n",
        "    per_class_recall    = recall_score   (label_ids, preds, average=None)\n",
        "\n",
        "    # Generate classification report\n",
        "    report = classification_report(label_ids, preds, target_names=id2label.values(), zero_division=0)\n",
        "\n",
        "    # Store metrics\n",
        "    metrics = {\n",
        "        'f1'                   : f1,\n",
        "        'precision'            : precision,\n",
        "        'recall'               : recall,\n",
        "        'accuracy'             : accuracy,\n",
        "        'roc_auc'              : roc_auc,\n",
        "        'precision_recall_auc' : precision_recall_auc,\n",
        "        'thresholds'           : thresholds.tolist(),\n",
        "        'classification_report': report,\n",
        "        'per_class_f1'         : per_class_f1,\n",
        "        'per_class_precision'  : per_class_precision,\n",
        "        'per_class_recall'     : per_class_recall\n",
        "    }\n",
        "\n",
        "    return metrics"
      ]
    },
    {
      "cell_type": "code",
      "execution_count": null,
      "metadata": {
        "id": "22JFVtdWhnss"
      },
      "outputs": [],
      "source": [
        "def predict_with_optimized_thresholds_cuda(trainer, dataset, threshold_tuning=False, thresholds=None, threshold=threshold):\n",
        "    \"\"\"\n",
        "    Predicts using trainer.predict(), with optional threshold tuning on GPU\n",
        "\n",
        "    Parameters:\n",
        "    - trainer         : Hugging Face Trainer or CustomTrainer instance\n",
        "    - dataset         : dataset to predict on\n",
        "    - id2label        : dictionary mapping label indices (int) to label names (string)\n",
        "    - threshold_tuning: boolean to enable thresholds tuning per class (if evaluation, True, if prediction, False)\n",
        "    - thresholds      : if evaluation, custom thresholds, if prediction, tuned thresholds (from evaluation)\n",
        "\n",
        "    Returns:\n",
        "    - best_thresholds (if threshold_tuning=True): optimized threshold for each label\n",
        "    - best_metrics                              : computed with tuned thresholds whether for evaluation or prediction\n",
        "\n",
        "    - metrics (if threshold_tuning=False): computed with fixed thresholds\n",
        "    - metrics (if threshold_tuning=True): computed with tuned thresholds\n",
        "    - predictions: final binary predictions\n",
        "    - label_ids  : ground true labels from the dataset\n",
        "    - best_thresholds (if threshold_tuning=True): optimized threshold per class\n",
        "    \"\"\"\n",
        "    device = torch.device(\"cuda\" if torch.cuda.is_available() else \"cpu\")  # Auto-detect GPU\n",
        "\n",
        "    # Predict\n",
        "    predictions_output = trainer.predict(dataset)        # <class 'transformers.trainer_utils.PredictionOutput'> len   = 3\n",
        "    predictions_np     = predictions_output.predictions  # <class 'numpy.ndarray'>                               shape = (2400, 6)\n",
        "    label_ids_np       = predictions_output.label_ids    # <class 'numpy.ndarray'>                               shape = (2400, 6)\n",
        "    metrics_dict       = predictions_output.metrics      # <class 'dict'> (= trainer.evaluate results)           len   = 10\n",
        "\n",
        "    print(\"==== predictions_output ====\")\n",
        "    print(f\"predictions_output.predictions: {type(predictions_np)} shape={predictions_np.shape} \\n{predictions_np}\")\n",
        "    print(f\"predictions_output.label_ids  : {type(label_ids_np)}   shape={label_ids_np.shape}   \\n{label_ids_np}\")\n",
        "    print(f\"predictions_output.metrics    : {type(metrics_dict)}   len={len(metrics_dict)}      \\n{json.dumps(metrics_dict, indent=4)}\")\n",
        "\n",
        "    # Convert NumPy arrays to PyTorch tensors (torch.from_numpy() keeps the NumPy array's memory layout, while torch.tensor() creates a new copy)\n",
        "    logits      = torch.tensor(predictions_np, device=device)  # Move to GPU\n",
        "    true_labels = torch.tensor(label_ids_np, device=device)    # Move to GPU\n",
        "\n",
        "    print(f\"logits     : {type(logits)}      shape={logits.shape}     \\n{logits}\")\n",
        "    print(f\"true_labels: {type(true_labels)} shape={true_labels.shape}\\n{true_labels}\")\n",
        "\n",
        "    # Convert logits to probabilities using PyTorch (on GPU)\n",
        "    probs = torch.sigmoid(logits)  # <class 'torch.Tensor'>  shape = (1200, 6)\n",
        "\n",
        "    print(f\"probs: {type(probs)} shape={probs.shape}\\n{probs}\")\n",
        "    print(\"============================\")\n",
        "    print()\n",
        "\n",
        "    num_labels = probs.shape[1]\n",
        "\n",
        "    if threshold_tuning:\n",
        "        best_thresholds = torch.full((num_labels,), threshold, device=device, dtype=torch.float32)  # Default to threshold\n",
        "\n",
        "        # Define candidate thresholds (on GPU)\n",
        "        threshold_candidates = torch.linspace(0.05, 0.95, 19, device=device)\n",
        "\n",
        "        for label_idx in range(num_labels):\n",
        "            best_f1 = 0\n",
        "            for threshold in threshold_candidates:\n",
        "                preds = (probs[:, label_idx] > threshold).int()\n",
        "\n",
        "                # Convert to CPU for sklearn\n",
        "                precision, recall, f1, _ = precision_recall_fscore_support(\n",
        "                    true_labels[:, label_idx].cpu().numpy(),\n",
        "                    preds.cpu().numpy(),\n",
        "                    average='binary',\n",
        "                    zero_division=0.0\n",
        "                )\n",
        "\n",
        "                if f1 > best_f1:\n",
        "                    best_f1                    = f1\n",
        "                    best_thresholds[label_idx] = threshold  # Store best threshold\n",
        "\n",
        "        return probs, true_labels, best_thresholds\n",
        "\n",
        "    # Apply provided thresholds (or default to threshold)\n",
        "    if thresholds is None:\n",
        "        thresholds = torch.full((num_labels,), threshold, device=device)  # Default to threshold\n",
        "    else:\n",
        "        thresholds = torch.tensor(thresholds, device=device)  # Move thresholds to GPU\n",
        "\n",
        "    preds = (probs > thresholds).int()\n",
        "\n",
        "    return preds, true_labels, None"
      ]
    },
    {
      "cell_type": "code",
      "source": [
        "def predict_with_optimized_thresholds(trainer, dataset, threshold_tuning=False, thresholds=None):\n",
        "    \"\"\"\n",
        "    Predicts using trainer.predict(), with optional threshold tuning.\n",
        "\n",
        "    Parameters:\n",
        "    - trainer         : Hugging Face Trainer or CustomTrainer instance.\n",
        "    - dataset         : Dataset to predict on.\n",
        "    - threshold_tuning: Boolean to enable threshold tuning per class.\n",
        "    - thresholds      : Custom thresholds for classification (optional).\n",
        "\n",
        "    Returns:\n",
        "    - predictions                               : Final binary predictions.\n",
        "    - true_labels                               : Ground truth labels from the dataset.\n",
        "    - best_thresholds (if threshold_tuning=True): Optimized thresholds per class.\n",
        "    \"\"\"\n",
        "    # Predict\n",
        "    predictions_output = trainer.predict(dataset)\n",
        "    logits             = predictions_output.predictions\n",
        "    true_labels        = predictions_output.label_ids\n",
        "\n",
        "    # Convert logits to probabilities\n",
        "    probs = 1 / (1 + np.exp(-logits))  # Sigmoid function\n",
        "\n",
        "    metrics = compute_metrics_with_threshold(probs, label_ids, thresholds, id2label)\n",
        "\n",
        "    num_labels = probs.shape[1]\n",
        "\n",
        "    if threshold_tuning:\n",
        "        best_thresholds = np.full(num_labels, 0.5)  # Default to 0.5\n",
        "\n",
        "        # Define candidate thresholds\n",
        "        threshold_candidates = np.linspace(0.05, 0.95, 19)  # More precise tuning\n",
        "\n",
        "        for label_idx in range(num_labels):\n",
        "            best_f1 = 0\n",
        "            for threshold in threshold_candidates:\n",
        "                preds                    = (probs[:, label_idx] > threshold).astype(int)\n",
        "                precision, recall, f1, _ = precision_recall_fscore_support(\n",
        "                    true_labels[:, label_idx], preds, average='binary', zero_division=0.0\n",
        "                )\n",
        "                if f1 > best_f1:\n",
        "                    best_f1                    = f1\n",
        "                    best_thresholds[label_idx] = threshold  # Store best thresholds\n",
        "\n",
        "        metrics = compute_metrics_with_threshold(probs, label_ids, thresholds, id2label)  # pas besoin de id2label\n",
        "        return probs, true_labels, best_thresholds, metrics  # return metrics et best_thresholds\n",
        "\n",
        "    # Apply provided thresholds (or default to 0.5)\n",
        "    if thresholds is None:\n",
        "        thresholds = np.full(num_labels, 0.5)  # Default to 0.5\n",
        "\n",
        "    metrics = compute_metrics_with_threshold(probs, label_ids, thresholds, id2label)  # pas besoin de id2label\n",
        "    preds = (probs >= thresholds).astype(int)\n",
        "\n",
        "    return preds, true_labels, [], metrics  # pourquoi preds et pas prods?   # return metrics uniquement"
      ],
      "metadata": {
        "id": "KZLwRkhTDOQR"
      },
      "execution_count": null,
      "outputs": []
    },
    {
      "cell_type": "code",
      "execution_count": null,
      "metadata": {
        "id": "TphO3ifmBLDf",
        "colab": {
          "base_uri": "https://localhost:8080/",
          "height": 1000
        },
        "outputId": "a7f36169-1e66-4ab1-9574-5de635b75f9a"
      },
      "outputs": [
        {
          "output_type": "display_data",
          "data": {
            "text/plain": [
              "<IPython.core.display.HTML object>"
            ],
            "text/html": []
          },
          "metadata": {}
        },
        {
          "output_type": "stream",
          "name": "stdout",
          "text": [
            "==== predictions_output ====\n",
            "predictions_output.predictions: <class 'numpy.ndarray'> shape=(12, 6) \n",
            "[[-0.44726562 -0.28051758  0.20007324  0.3708496   0.13378906 -0.2364502 ]\n",
            " [-0.41723633 -0.32250977  0.17956543  0.3623047   0.10766602 -0.18688965]\n",
            " [-0.36987305 -0.2692871   0.14367676  0.31201172  0.07012939 -0.12268066]\n",
            " [-0.44799805 -0.2697754   0.19482422  0.38232422  0.12207031 -0.21032715]\n",
            " [-0.42163086 -0.3256836   0.17785645  0.31835938  0.08111572 -0.14770508]\n",
            " [-0.38208008 -0.22070312  0.05847168  0.3293457   0.02565002 -0.13012695]\n",
            " [-0.4321289  -0.3322754   0.17944336  0.3623047   0.10443115 -0.17932129]\n",
            " [-0.44458008 -0.27026367  0.19519043  0.3305664   0.10437012 -0.1854248 ]\n",
            " [-0.4482422  -0.29663086  0.19348145  0.33032227  0.10986328 -0.21582031]\n",
            " [-0.44750977 -0.30078125  0.1899414   0.3359375   0.07672119 -0.1706543 ]\n",
            " [-0.32763672 -0.18920898  0.10827637  0.28295898  0.13549805 -0.09802246]\n",
            " [-0.4194336  -0.24267578  0.2163086   0.17053223  0.1315918  -0.04147339]]\n",
            "predictions_output.label_ids  : <class 'numpy.ndarray'>   shape=(12, 6)   \n",
            "[[0. 0. 1. 1. 0. 0.]\n",
            " [0. 0. 1. 1. 0. 0.]\n",
            " [0. 0. 1. 1. 0. 0.]\n",
            " [0. 0. 1. 1. 0. 0.]\n",
            " [0. 0. 1. 1. 1. 0.]\n",
            " [0. 0. 1. 1. 1. 0.]\n",
            " [0. 0. 0. 1. 1. 0.]\n",
            " [0. 0. 0. 1. 1. 0.]\n",
            " [0. 0. 1. 1. 0. 0.]\n",
            " [0. 0. 0. 1. 1. 0.]\n",
            " [0. 0. 1. 1. 1. 0.]\n",
            " [0. 0. 0. 1. 1. 0.]]\n",
            "predictions_output.metrics    : <class 'dict'>   len=10      \n",
            "{\n",
            "    \"test_loss\": 0.5998042225837708,\n",
            "    \"test_f1\": 0.8571428571428571,\n",
            "    \"test_precision\": 0.75,\n",
            "    \"test_recall\": 1.0,\n",
            "    \"test_roc_auc\": 0.9292181069958848,\n",
            "    \"test_precision_recall_auc\": 0.8806507861089439,\n",
            "    \"test_accuracy\": 0.25,\n",
            "    \"test_runtime\": 0.2488,\n",
            "    \"test_samples_per_second\": 48.234,\n",
            "    \"test_steps_per_second\": 8.039\n",
            "}\n",
            "logits     : <class 'torch.Tensor'>      shape=torch.Size([12, 6])     \n",
            "tensor([[-0.4473, -0.2805,  0.2001,  0.3708,  0.1338, -0.2365],\n",
            "        [-0.4172, -0.3225,  0.1796,  0.3623,  0.1077, -0.1869],\n",
            "        [-0.3699, -0.2693,  0.1437,  0.3120,  0.0701, -0.1227],\n",
            "        [-0.4480, -0.2698,  0.1948,  0.3823,  0.1221, -0.2103],\n",
            "        [-0.4216, -0.3257,  0.1779,  0.3184,  0.0811, -0.1477],\n",
            "        [-0.3821, -0.2207,  0.0585,  0.3293,  0.0257, -0.1301],\n",
            "        [-0.4321, -0.3323,  0.1794,  0.3623,  0.1044, -0.1793],\n",
            "        [-0.4446, -0.2703,  0.1952,  0.3306,  0.1044, -0.1854],\n",
            "        [-0.4482, -0.2966,  0.1935,  0.3303,  0.1099, -0.2158],\n",
            "        [-0.4475, -0.3008,  0.1899,  0.3359,  0.0767, -0.1707],\n",
            "        [-0.3276, -0.1892,  0.1083,  0.2830,  0.1355, -0.0980],\n",
            "        [-0.4194, -0.2427,  0.2163,  0.1705,  0.1316, -0.0415]],\n",
            "       device='cuda:0')\n",
            "true_labels: <class 'torch.Tensor'> shape=torch.Size([12, 6])\n",
            "tensor([[0., 0., 1., 1., 0., 0.],\n",
            "        [0., 0., 1., 1., 0., 0.],\n",
            "        [0., 0., 1., 1., 0., 0.],\n",
            "        [0., 0., 1., 1., 0., 0.],\n",
            "        [0., 0., 1., 1., 1., 0.],\n",
            "        [0., 0., 1., 1., 1., 0.],\n",
            "        [0., 0., 0., 1., 1., 0.],\n",
            "        [0., 0., 0., 1., 1., 0.],\n",
            "        [0., 0., 1., 1., 0., 0.],\n",
            "        [0., 0., 0., 1., 1., 0.],\n",
            "        [0., 0., 1., 1., 1., 0.],\n",
            "        [0., 0., 0., 1., 1., 0.]], device='cuda:0')\n",
            "probs: <class 'torch.Tensor'> shape=torch.Size([12, 6])\n",
            "tensor([[0.3900, 0.4303, 0.5499, 0.5917, 0.5334, 0.4412],\n",
            "        [0.3972, 0.4201, 0.5448, 0.5896, 0.5269, 0.4534],\n",
            "        [0.4086, 0.4331, 0.5359, 0.5774, 0.5175, 0.4694],\n",
            "        [0.3898, 0.4330, 0.5486, 0.5944, 0.5305, 0.4476],\n",
            "        [0.3961, 0.4193, 0.5443, 0.5789, 0.5203, 0.4631],\n",
            "        [0.4056, 0.4450, 0.5146, 0.5816, 0.5064, 0.4675],\n",
            "        [0.3936, 0.4177, 0.5447, 0.5896, 0.5261, 0.4553],\n",
            "        [0.3907, 0.4328, 0.5486, 0.5819, 0.5261, 0.4538],\n",
            "        [0.3898, 0.4264, 0.5482, 0.5818, 0.5274, 0.4463],\n",
            "        [0.3900, 0.4254, 0.5473, 0.5832, 0.5192, 0.4574],\n",
            "        [0.4188, 0.4528, 0.5270, 0.5703, 0.5338, 0.4755],\n",
            "        [0.3967, 0.4396, 0.5539, 0.5425, 0.5329, 0.4896]], device='cuda:0')\n",
            "============================\n",
            "\n",
            "probs: <class 'torch.Tensor'> shape=torch.Size([12, 6])\n",
            "tensor([[0.3900, 0.4303, 0.5499, 0.5917, 0.5334, 0.4412],\n",
            "        [0.3972, 0.4201, 0.5448, 0.5896, 0.5269, 0.4534],\n",
            "        [0.4086, 0.4331, 0.5359, 0.5774, 0.5175, 0.4694],\n",
            "        [0.3898, 0.4330, 0.5486, 0.5944, 0.5305, 0.4476],\n",
            "        [0.3961, 0.4193, 0.5443, 0.5789, 0.5203, 0.4631],\n",
            "        [0.4056, 0.4450, 0.5146, 0.5816, 0.5064, 0.4675],\n",
            "        [0.3936, 0.4177, 0.5447, 0.5896, 0.5261, 0.4553],\n",
            "        [0.3907, 0.4328, 0.5486, 0.5819, 0.5261, 0.4538],\n",
            "        [0.3898, 0.4264, 0.5482, 0.5818, 0.5274, 0.4463],\n",
            "        [0.3900, 0.4254, 0.5473, 0.5832, 0.5192, 0.4574],\n",
            "        [0.4188, 0.4528, 0.5270, 0.5703, 0.5338, 0.4755],\n",
            "        [0.3967, 0.4396, 0.5539, 0.5425, 0.5329, 0.4896]], device='cuda:0')\n",
            "true_labels: <class 'torch.Tensor'> shape=torch.Size([12, 6])\n",
            "tensor([[0., 0., 1., 1., 0., 0.],\n",
            "        [0., 0., 1., 1., 0., 0.],\n",
            "        [0., 0., 1., 1., 0., 0.],\n",
            "        [0., 0., 1., 1., 0., 0.],\n",
            "        [0., 0., 1., 1., 1., 0.],\n",
            "        [0., 0., 1., 1., 1., 0.],\n",
            "        [0., 0., 0., 1., 1., 0.],\n",
            "        [0., 0., 0., 1., 1., 0.],\n",
            "        [0., 0., 1., 1., 0., 0.],\n",
            "        [0., 0., 0., 1., 1., 0.],\n",
            "        [0., 0., 1., 1., 1., 0.],\n",
            "        [0., 0., 0., 1., 1., 0.]], device='cuda:0')\n",
            "best_thresholds: <class 'torch.Tensor'> torch.Size([6])\n",
            "tensor([0.5000, 0.5000, 0.0500, 0.0500, 0.0500, 0.5000], device='cuda:0')\n",
            "threshholds_dict: <class 'dict'> len=6\n",
            "{'135': 0.5, '136': 0.5, '137': 0.05000000074505806, '138': 0.05000000074505806, '139': 0.05000000074505806, '390': 0.5}\n"
          ]
        }
      ],
      "source": [
        "\"\"\"\n",
        "#best_thresholds, evaluation_trainer_predict_results = predict_with_thresholds(trainer, validation_dataset, id2label, threshold_tuning=threshold_tuning, thresholds=None)\n",
        "\n",
        "# If threshold_tuning is False, assign the single return value to evaluation_trainer_predict_results\n",
        "if not threshold_tuning:\n",
        "  evaluation_trainer_predict_results = predict_with_thresholds(trainer, validation_dataset, id2label, threshold_tuning=threshold_tuning, thresholds=None)\n",
        "# If threshold_tuning is True, unpack the two return values into best_thresholds and evaluation_trainer_predict_results\n",
        "else:\n",
        "  best_thresholds, evaluation_trainer_predict_results = predict_with_thresholds(trainer, validation_dataset, id2label, threshold_tuning=threshold_tuning, thresholds=None)\n",
        "except_report = {k: v for k, v in evaluation_trainer_predict_results.items() if k!='classification_report'}\n",
        "report        = evaluation_trainer_predict_results['classification_report']\n",
        "\n",
        "print(\"==== predict_with_thresholds ====\")\n",
        "print(f\"evaluation_trainer_predict_results:                          {type(except_report)} len={len(except_report)}\\n{json.dumps(except_report, indent=4)}\")\n",
        "print(f\"evaluation_trainer_predict_results['classification_report']: {type(report)}        len={len(report)}\\n       {report}\")\n",
        "print(\"=================================\")\n",
        "print()\n",
        "\"\"\"\n",
        "probs, true_labels, best_thresholds = predict_with_optimized_thresholds_cuda(trainer, validation_dataset, threshold_tuning=threshold_tuning, thresholds=None, threshold=threshold)\n",
        "#probs, true_labels, best_thresholds = predict_with_optimized_thresholds(trainer, validation_dataset, threshold_tuning=threshold_tuning, thresholds=None, threshold=threshold)\n",
        "\n",
        "print(f\"probs: {type(probs)} shape={probs.shape}\\n{probs}\")\n",
        "print(f\"true_labels: {type(true_labels)} shape={true_labels.shape}\\n{true_labels}\")\n",
        "\n",
        "\n",
        "if best_thresholds is not None:  # means if threshold_tuning is True\n",
        "    threshholds_dict = {label: threshold for label, threshold in zip(id2label.values(), best_thresholds.tolist())}\n",
        "\n",
        "    print(f\"best_thresholds: {type(best_thresholds)} {best_thresholds.shape}\\n{best_thresholds}\")         # <class 'torch.Tensor'> torch.Size([6])\n",
        "    print(f\"threshholds_dict: {type(threshholds_dict)} len={len(threshholds_dict)}\\n{threshholds_dict}\")  # <class 'dict'> len=6\n",
        "\n",
        "#test_preds, test_true_labels = predict_with_optimized_thresholds(trainer, test_dataset, threshold_tuning=threshold_tuning, thresholds=best_thresholds, threshold=threshold)"
      ]
    },
    {
      "cell_type": "markdown",
      "source": [
        "### Evaluation: best thresholds: save locally (as a dict) and upload to HF Hub (as a JSON file)\n",
        "best_thresholds: <class 'numpy.ndarray'> shape=(6,) but JSON doesn't support Numpy types"
      ],
      "metadata": {
        "id": "f127duCt-Nhg"
      }
    },
    {
      "cell_type": "code",
      "source": [
        "best_thresholds_dict = {}\n",
        "\n",
        "if best_thresholds is not None:  # means if threshold_tuning is True\n",
        "    best_thresholds_dict = {label: threshold for label, threshold in zip(id2label.values(), best_thresholds.tolist())}\n",
        "\n",
        "    print(f\"best_thresholds: {type(best_thresholds)} {best_thresholds.shape}\\n{best_thresholds}\")                         # <class 'torch.Tensor'> torch.Size([6])\n",
        "    print(f\"best_thresholds_dict: {type(best_thresholds_dict)} len={len(best_thresholds_dict)}\\n{best_thresholds_dict}\")  # <class 'dict'> len=6\n",
        "\n",
        "    if upload_to_HF:\n",
        "        name                 = \"best_thresholds\"\n",
        "        best_thresholds_path = f\"{name}.json\"\n",
        "\n",
        "        with open(best_thresholds_path, \"w\") as f:\n",
        "            json.dump(best_thresholds_dict, f, indent=4)\n",
        "\n",
        "        print(f\"{best_thresholds} successfully saved locally to {best_thresholds_path}\")\n",
        "\n",
        "        path_in_repo = \"tuned_thresholds.json\"\n",
        "\n",
        "        upload_file(\n",
        "            path_or_fileobj = best_thresholds_path,\n",
        "            path_in_repo    = path_in_repo,\n",
        "            repo_id         = repo_id,\n",
        "            repo_type       = 'model',\n",
        "            commit_message  = f\"tuned_thresholds_{timestamp}\"\n",
        "        )\n",
        "\n",
        "        print(f\"{name} successfully uploaded to HF Hub as {path_in_repo}\")"
      ],
      "metadata": {
        "colab": {
          "base_uri": "https://localhost:8080/"
        },
        "id": "iZjQfyNP-J46",
        "outputId": "99ce4e0d-a682-4e0d-cbb3-4ffcaf286ed9"
      },
      "execution_count": null,
      "outputs": [
        {
          "output_type": "stream",
          "name": "stdout",
          "text": [
            "best_thresholds: <class 'torch.Tensor'> torch.Size([6])\n",
            "tensor([0.5000, 0.5000, 0.0500, 0.0500, 0.0500, 0.5000], device='cuda:0')\n",
            "best_thresholds_dict: <class 'dict'> len=6\n",
            "{'135': 0.5, '136': 0.5, '137': 0.05000000074505806, '138': 0.05000000074505806, '139': 0.05000000074505806, '390': 0.5}\n"
          ]
        }
      ]
    },
    {
      "cell_type": "code",
      "source": [
        "print(best_thresholds_dict)\n",
        "raise Exception(\"zut\")"
      ],
      "metadata": {
        "colab": {
          "base_uri": "https://localhost:8080/",
          "height": 176
        },
        "id": "eL-IUxnvhR_p",
        "outputId": "7308e9f9-cf52-4554-8812-4da28803de98"
      },
      "execution_count": null,
      "outputs": [
        {
          "output_type": "stream",
          "name": "stdout",
          "text": [
            "{'135': 0.5, '136': 0.5, '137': 0.05000000074505806, '138': 0.05000000074505806, '139': 0.05000000074505806, '390': 0.5}\n"
          ]
        },
        {
          "output_type": "error",
          "ename": "Exception",
          "evalue": "zut",
          "traceback": [
            "\u001b[0;31m---------------------------------------------------------------------------\u001b[0m",
            "\u001b[0;31mException\u001b[0m                                 Traceback (most recent call last)",
            "\u001b[0;32m<ipython-input-85-5047927d8161>\u001b[0m in \u001b[0;36m<cell line: 0>\u001b[0;34m()\u001b[0m\n\u001b[1;32m      1\u001b[0m \u001b[0mprint\u001b[0m\u001b[0;34m(\u001b[0m\u001b[0mbest_thresholds_dict\u001b[0m\u001b[0;34m)\u001b[0m\u001b[0;34m\u001b[0m\u001b[0;34m\u001b[0m\u001b[0m\n\u001b[0;32m----> 2\u001b[0;31m \u001b[0;32mraise\u001b[0m \u001b[0mException\u001b[0m\u001b[0;34m(\u001b[0m\u001b[0;34m\"zut\"\u001b[0m\u001b[0;34m)\u001b[0m\u001b[0;34m\u001b[0m\u001b[0;34m\u001b[0m\u001b[0m\n\u001b[0m",
            "\u001b[0;31mException\u001b[0m: zut"
          ]
        }
      ]
    },
    {
      "cell_type": "code",
      "execution_count": null,
      "metadata": {
        "id": "oKuHwTP-_OmI"
      },
      "outputs": [],
      "source": [
        "print(\"evaluation_trainer.predict successfully completed\")"
      ]
    },
    {
      "cell_type": "markdown",
      "metadata": {
        "id": "JtwSQZ89__I9"
      },
      "source": [
        "### Evaluation: trainer.predict results: save locally and upload to HF Hub"
      ]
    },
    {
      "cell_type": "code",
      "execution_count": null,
      "metadata": {
        "id": "aTDx-S2UDsyw"
      },
      "outputs": [],
      "source": [
        "if upload_to_HF:\n",
        "\n",
        "  name                            = \"evaluation_trainer_predict\"\n",
        "  evaluation_trainer_predict_path = f\"{name}.json\"\n",
        "\n",
        "  with open(evaluation_trainer_predict_path, \"w\") as f:\n",
        "    json.dump(evaluation_trainer_predict_results, f)\n",
        "\n",
        "  print(f\"{name} results successfully saved locally to {evaluation_trainer_predict_path}\")\n",
        "\n",
        "  upload_file(\n",
        "      path_or_fileobj = evaluation_trainer_predict_path,\n",
        "      path_in_repo    = evaluation_trainer_predict_path,\n",
        "      repo_id         = repo_id,\n",
        "      repo_type       = 'dataset',\n",
        "      commit_message  = f\"{name}_{timestamp}\"\n",
        "  )\n",
        "\n",
        "  print(f\"{name} results successfully uploaded to HF Hub as {evaluation_trainer_evaluate_path}\")"
      ]
    },
    {
      "cell_type": "markdown",
      "metadata": {
        "id": "sYSVoKZDAq4e"
      },
      "source": [
        "## Prediction step"
      ]
    },
    {
      "cell_type": "markdown",
      "metadata": {
        "id": "0lCQusokDRda"
      },
      "source": [
        "### Prediction: trainer.evaluate"
      ]
    },
    {
      "cell_type": "code",
      "execution_count": null,
      "metadata": {
        "id": "3B6m5pYJM_0e"
      },
      "outputs": [],
      "source": [
        "prediction_trainer_evaluate_results = trainer.evaluate(\n",
        "    eval_dataset=encoded_dataset['test'],  # by default, trainer.evaluate() evaluates the dataset passed as eval_dataset during training\n",
        "    metric_key_prefix='test'\n",
        ")\n",
        "\n",
        "print(f\"prediction_trainer_evaluate_results: {type(prediction_trainer_evaluate_results)} len={len(prediction_trainer_evaluate_results)}\\n{json.dumps(prediction_trainer_evaluate_results, indent=4)}\")\n"
      ]
    },
    {
      "cell_type": "code",
      "execution_count": null,
      "metadata": {
        "id": "8JuMtbi6ODIJ"
      },
      "outputs": [],
      "source": [
        "print(\"prediction_trainer.evaluate successfully completed\")"
      ]
    },
    {
      "cell_type": "markdown",
      "metadata": {
        "id": "LosNwpYCOV2F"
      },
      "source": [
        "### Prediction: trainer.evaluate results: save locally and upload to HF Hub"
      ]
    },
    {
      "cell_type": "code",
      "execution_count": null,
      "metadata": {
        "id": "IuJvVmF8Oj8M"
      },
      "outputs": [],
      "source": [
        "if upload_to_HF:\n",
        "\n",
        "  name                             = \"prediction_trainer_evaluate\"\n",
        "  prediction_trainer_evaluate_path = f\"{name}.json\"\n",
        "\n",
        "  with open(prediction_trainer_evaluate_path, \"w\") as f:\n",
        "    json.dump(prediction_trainer_evaluate_results, f)\n",
        "\n",
        "  print(f\"{name} results successfully saved locally to {prediction_trainer_evaluate_path}\")\n",
        "\n",
        "  upload_file(\n",
        "      path_or_fileobj = prediction_trainer_evaluate_path,\n",
        "      path_in_repo    = prediction_trainer_evaluate_path,\n",
        "      repo_id         = repo_id,\n",
        "      repo_type       = 'dataset',\n",
        "      commit_message  = f\"{name}_{timestamp}\"\n",
        "  )\n",
        "\n",
        "  print(f\"{name} results successfully uploaded to HF Hub as {prediction_trainer_evaluate_path}\")"
      ]
    },
    {
      "cell_type": "markdown",
      "metadata": {
        "id": "ZJNMb3idDapI"
      },
      "source": [
        "### Prediction: trainer.predict"
      ]
    },
    {
      "cell_type": "code",
      "execution_count": null,
      "metadata": {
        "id": "R9lfg-tYjaWC"
      },
      "outputs": [],
      "source": [
        "prediction_trainer_predict_results = predict_with_thresholds(trainer, test_dataset, id2label, threshold_tuning=False, thresholds=best_thresholds)\n",
        "\n",
        "except_report = {k: v for k, v in prediction_trainer_predict_results.items() if k!='classification_report'}\n",
        "report        = prediction_trainer_predict_results['classification_report']\n",
        "print(f\"prediction_trainer_predict_results: {type(except_report)} len={len(except_report)}\\n{json.dumps(except_report, indent=4)}\")\n",
        "print(f\"prediction_trainer_predict_results['classification_report']: {type(report)} len={len(report)}\\n{report}\")\n"
      ]
    },
    {
      "cell_type": "code",
      "source": [
        "print(\"prediction_trainer.predict successfully completed\")"
      ],
      "metadata": {
        "id": "9fs3FWd4mfUu"
      },
      "execution_count": null,
      "outputs": []
    },
    {
      "cell_type": "markdown",
      "source": [
        "### Prediction: trainer.predict results: save locally and upload to HF Hub"
      ],
      "metadata": {
        "id": "Kr9L2hoGoQF-"
      }
    },
    {
      "cell_type": "code",
      "execution_count": null,
      "metadata": {
        "id": "Qq1WgCmgoioR"
      },
      "outputs": [],
      "source": [
        "if upload_to_HF:\n",
        "\n",
        "  name                            = \"prediction_trainer_predict\"\n",
        "  prediction_trainer_predict_path = f\"{name}.json\"\n",
        "\n",
        "  with open(prediction_trainer_predict_path, \"w\") as f:\n",
        "    json.dump(prediction_trainer_predict_results, f)\n",
        "\n",
        "  print(f\"{name} results successfully saved locally to {prediction_trainer_predict_path}\")\n",
        "\n",
        "  upload_file(\n",
        "      path_or_fileobj = prediction_trainer_predict_path,\n",
        "      path_in_repo    = prediction_trainer_predict_path,\n",
        "      repo_id         = repo_id,\n",
        "      repo_type       = 'dataset',\n",
        "      commit_message  = f\"{name}_{timestamp}\"\n",
        "  )\n",
        "\n",
        "  print(f\"{name} results successfully uploaded to HF Hub as {prediction_trainer_evaluate_path}\")"
      ]
    },
    {
      "cell_type": "markdown",
      "metadata": {
        "id": "zVQXo7SvwcJ7"
      },
      "source": [
        "## Upload tokenizer and model to HF Hub and check"
      ]
    },
    {
      "cell_type": "code",
      "execution_count": null,
      "metadata": {
        "id": "xSAz3pspFNsm"
      },
      "outputs": [],
      "source": [
        "if upload_to_HF:\n",
        "\n",
        "  # Upload\n",
        "  commit_message = f\"'model_tokenizer'_{timestamp}\"\n",
        "\n",
        "  tokenizer.push_to_hub(repo_id, commit_message=commit_message)  # commit_message as named parameter\n",
        "  model.push_to_hub(    repo_id, commit_message=commit_message)  # commit_message as named parameter\n",
        "\n",
        "  print(f\"tokenizer and model successfully uploaded to HF Hub at {repo_id}\")\n",
        "\n",
        "  # Check\n",
        "  def check_upload(repo_id):\n",
        "    print()\n",
        "    print(\"Tokenizer\")\n",
        "    tokenizer = LongformerTokenizerFast.from_pretrained(repo_id)\n",
        "    print()\n",
        "    print(\"Model\")\n",
        "    model = LongformerForSequenceClassification.from_pretrained(repo_id)\n",
        "    print()\n",
        "\n",
        "    inputs = tokenizer(\"Hello, my dog is cute\", return_tensors=\"pt\", truncation=True, padding=True)\n",
        "    outputs = model(**inputs)\n",
        "\n",
        "    print(f\"outputs: {type(outputs)} {outputs.keys()}\\n{outputs}\")\n",
        "\n",
        "  # To check if the upload was successful, download the tokenizer and the model\n",
        "  check_upload(repo_id)"
      ]
    },
    {
      "cell_type": "code",
      "execution_count": null,
      "metadata": {
        "id": "vvh_jDvdBt26"
      },
      "outputs": [],
      "source": [
        "print(\"It's the end\")"
      ]
    },
    {
      "cell_type": "code",
      "source": [
        "raise Exception(\"I stop here\")"
      ],
      "metadata": {
        "id": "Q9ThLZFflK7v"
      },
      "execution_count": null,
      "outputs": []
    },
    {
      "cell_type": "markdown",
      "source": [
        "==========================================================================================================="
      ],
      "metadata": {
        "id": "-9CetqX9zAM3"
      }
    },
    {
      "cell_type": "code",
      "execution_count": null,
      "metadata": {
        "id": "AVn29oBT2n0k"
      },
      "outputs": [],
      "source": [
        "example = datasetDict['test'][0]\n",
        "print(f\"datasetDict['test'][0]: {type(example)} {example.keys()}\\n{example}\")"
      ]
    },
    {
      "cell_type": "code",
      "execution_count": null,
      "metadata": {
        "id": "spiVOeMhz6Ku"
      },
      "outputs": [],
      "source": [
        "inputs = tokenizer(\n",
        "    example['text'],\n",
        "    truncation     = True,\n",
        "    padding        = 'max_length',\n",
        "    max_length     = max_length,\n",
        "    return_tensors = 'pt'\n",
        ")"
      ]
    },
    {
      "cell_type": "code",
      "source": [
        "with torch.no_grad():  # Disable gradient calculation during prediction\n",
        "    outputs = model(\n",
        "        input_ids=inputs.input_ids.to(device),\n",
        "        attention_mask=inputs.attention_mask.to(device)\n",
        "    )\n"
      ],
      "metadata": {
        "id": "_2U-0iYO0LWf"
      },
      "execution_count": null,
      "outputs": []
    },
    {
      "cell_type": "code",
      "source": [
        "probs = torch.sigmoid(outputs.logits)\n"
      ],
      "metadata": {
        "id": "u-VuKUM10dte"
      },
      "execution_count": null,
      "outputs": []
    },
    {
      "cell_type": "code",
      "source": [
        "best_thresholds = [0.4, 0.3, 0.3, 0.3, 0.4, 0.5]\n",
        "preds = np.zeros_like(probs)  # Initialize predictions array\n",
        "for label_idx in range(num_labels):\n",
        "  preds[:, label_idx] = (probs[:, label_idx] > best_thresholds[label_idx])  #.astype(int)"
      ],
      "metadata": {
        "id": "pMOj7NB11CH8"
      },
      "execution_count": null,
      "outputs": []
    },
    {
      "cell_type": "code",
      "source": [
        "print(f\"probs: {type(probs)} shape={probs.shape}\\n{probs}\")\n",
        "print(f\"preds: {type(preds)} shape={preds.shape}\\n{preds}\")"
      ],
      "metadata": {
        "id": "ICCj8Hm3i_GP"
      },
      "execution_count": null,
      "outputs": []
    },
    {
      "cell_type": "code",
      "source": [
        "print(f\"labels: {type(labels)} {len(labels)}\\n{labels}\")\n",
        "# '390': False, '135': False, '136': True, '137': True, '138': True, '139': False}"
      ],
      "metadata": {
        "id": "TiCmBf-kjcfc"
      },
      "execution_count": null,
      "outputs": []
    }
  ],
  "metadata": {
    "colab": {
      "provenance": [],
      "machine_shape": "hm",
      "include_colab_link": true
    },
    "jupytext": {
      "formats": "ipynb,py:nomarker"
    },
    "kernelspec": {
      "display_name": "Python 3",
      "name": "python3"
    },
    "language_info": {
      "codemirror_mode": {
        "name": "ipython",
        "version": 3
      },
      "file_extension": ".py",
      "mimetype": "text/x-python",
      "name": "python",
      "nbconvert_exporter": "python",
      "pygments_lexer": "ipython3",
      "version": "3.12.3"
    },
    "widgets": {
      "application/vnd.jupyter.widget-state+json": {
        "6fe499378f64429aa48d944159f56f68": {
          "model_module": "@jupyter-widgets/controls",
          "model_name": "HBoxModel",
          "model_module_version": "1.5.0",
          "state": {
            "_dom_classes": [],
            "_model_module": "@jupyter-widgets/controls",
            "_model_module_version": "1.5.0",
            "_model_name": "HBoxModel",
            "_view_count": null,
            "_view_module": "@jupyter-widgets/controls",
            "_view_module_version": "1.5.0",
            "_view_name": "HBoxView",
            "box_style": "",
            "children": [
              "IPY_MODEL_c15455d5687a43429e78b574d7a842d2",
              "IPY_MODEL_760042982235425aae898feb9202f521",
              "IPY_MODEL_15857ff1718642fbb8848fe2e3e19088"
            ],
            "layout": "IPY_MODEL_7a3a76fb403f49ccb5a53cf30d63a0b4"
          }
        },
        "c15455d5687a43429e78b574d7a842d2": {
          "model_module": "@jupyter-widgets/controls",
          "model_name": "HTMLModel",
          "model_module_version": "1.5.0",
          "state": {
            "_dom_classes": [],
            "_model_module": "@jupyter-widgets/controls",
            "_model_module_version": "1.5.0",
            "_model_name": "HTMLModel",
            "_view_count": null,
            "_view_module": "@jupyter-widgets/controls",
            "_view_module_version": "1.5.0",
            "_view_name": "HTMLView",
            "description": "",
            "description_tooltip": null,
            "layout": "IPY_MODEL_c3ecca0182654cb4b6718301f86ca9d0",
            "placeholder": "​",
            "style": "IPY_MODEL_c723656ac49947de80e21dc424d19792",
            "value": "vocab.json: 100%"
          }
        },
        "760042982235425aae898feb9202f521": {
          "model_module": "@jupyter-widgets/controls",
          "model_name": "FloatProgressModel",
          "model_module_version": "1.5.0",
          "state": {
            "_dom_classes": [],
            "_model_module": "@jupyter-widgets/controls",
            "_model_module_version": "1.5.0",
            "_model_name": "FloatProgressModel",
            "_view_count": null,
            "_view_module": "@jupyter-widgets/controls",
            "_view_module_version": "1.5.0",
            "_view_name": "ProgressView",
            "bar_style": "success",
            "description": "",
            "description_tooltip": null,
            "layout": "IPY_MODEL_b39d648a539749e4b9176d4a6465ee81",
            "max": 898823,
            "min": 0,
            "orientation": "horizontal",
            "style": "IPY_MODEL_0b761c94f5b84f2da1f06e482a8bbf87",
            "value": 898823
          }
        },
        "15857ff1718642fbb8848fe2e3e19088": {
          "model_module": "@jupyter-widgets/controls",
          "model_name": "HTMLModel",
          "model_module_version": "1.5.0",
          "state": {
            "_dom_classes": [],
            "_model_module": "@jupyter-widgets/controls",
            "_model_module_version": "1.5.0",
            "_model_name": "HTMLModel",
            "_view_count": null,
            "_view_module": "@jupyter-widgets/controls",
            "_view_module_version": "1.5.0",
            "_view_name": "HTMLView",
            "description": "",
            "description_tooltip": null,
            "layout": "IPY_MODEL_0babe024f43c469cbf2350f4771c34d5",
            "placeholder": "​",
            "style": "IPY_MODEL_fc454a9893914c88b103c780a2f6a5a1",
            "value": " 899k/899k [00:00&lt;00:00, 30.8MB/s]"
          }
        },
        "7a3a76fb403f49ccb5a53cf30d63a0b4": {
          "model_module": "@jupyter-widgets/base",
          "model_name": "LayoutModel",
          "model_module_version": "1.2.0",
          "state": {
            "_model_module": "@jupyter-widgets/base",
            "_model_module_version": "1.2.0",
            "_model_name": "LayoutModel",
            "_view_count": null,
            "_view_module": "@jupyter-widgets/base",
            "_view_module_version": "1.2.0",
            "_view_name": "LayoutView",
            "align_content": null,
            "align_items": null,
            "align_self": null,
            "border": null,
            "bottom": null,
            "display": null,
            "flex": null,
            "flex_flow": null,
            "grid_area": null,
            "grid_auto_columns": null,
            "grid_auto_flow": null,
            "grid_auto_rows": null,
            "grid_column": null,
            "grid_gap": null,
            "grid_row": null,
            "grid_template_areas": null,
            "grid_template_columns": null,
            "grid_template_rows": null,
            "height": null,
            "justify_content": null,
            "justify_items": null,
            "left": null,
            "margin": null,
            "max_height": null,
            "max_width": null,
            "min_height": null,
            "min_width": null,
            "object_fit": null,
            "object_position": null,
            "order": null,
            "overflow": null,
            "overflow_x": null,
            "overflow_y": null,
            "padding": null,
            "right": null,
            "top": null,
            "visibility": null,
            "width": null
          }
        },
        "c3ecca0182654cb4b6718301f86ca9d0": {
          "model_module": "@jupyter-widgets/base",
          "model_name": "LayoutModel",
          "model_module_version": "1.2.0",
          "state": {
            "_model_module": "@jupyter-widgets/base",
            "_model_module_version": "1.2.0",
            "_model_name": "LayoutModel",
            "_view_count": null,
            "_view_module": "@jupyter-widgets/base",
            "_view_module_version": "1.2.0",
            "_view_name": "LayoutView",
            "align_content": null,
            "align_items": null,
            "align_self": null,
            "border": null,
            "bottom": null,
            "display": null,
            "flex": null,
            "flex_flow": null,
            "grid_area": null,
            "grid_auto_columns": null,
            "grid_auto_flow": null,
            "grid_auto_rows": null,
            "grid_column": null,
            "grid_gap": null,
            "grid_row": null,
            "grid_template_areas": null,
            "grid_template_columns": null,
            "grid_template_rows": null,
            "height": null,
            "justify_content": null,
            "justify_items": null,
            "left": null,
            "margin": null,
            "max_height": null,
            "max_width": null,
            "min_height": null,
            "min_width": null,
            "object_fit": null,
            "object_position": null,
            "order": null,
            "overflow": null,
            "overflow_x": null,
            "overflow_y": null,
            "padding": null,
            "right": null,
            "top": null,
            "visibility": null,
            "width": null
          }
        },
        "c723656ac49947de80e21dc424d19792": {
          "model_module": "@jupyter-widgets/controls",
          "model_name": "DescriptionStyleModel",
          "model_module_version": "1.5.0",
          "state": {
            "_model_module": "@jupyter-widgets/controls",
            "_model_module_version": "1.5.0",
            "_model_name": "DescriptionStyleModel",
            "_view_count": null,
            "_view_module": "@jupyter-widgets/base",
            "_view_module_version": "1.2.0",
            "_view_name": "StyleView",
            "description_width": ""
          }
        },
        "b39d648a539749e4b9176d4a6465ee81": {
          "model_module": "@jupyter-widgets/base",
          "model_name": "LayoutModel",
          "model_module_version": "1.2.0",
          "state": {
            "_model_module": "@jupyter-widgets/base",
            "_model_module_version": "1.2.0",
            "_model_name": "LayoutModel",
            "_view_count": null,
            "_view_module": "@jupyter-widgets/base",
            "_view_module_version": "1.2.0",
            "_view_name": "LayoutView",
            "align_content": null,
            "align_items": null,
            "align_self": null,
            "border": null,
            "bottom": null,
            "display": null,
            "flex": null,
            "flex_flow": null,
            "grid_area": null,
            "grid_auto_columns": null,
            "grid_auto_flow": null,
            "grid_auto_rows": null,
            "grid_column": null,
            "grid_gap": null,
            "grid_row": null,
            "grid_template_areas": null,
            "grid_template_columns": null,
            "grid_template_rows": null,
            "height": null,
            "justify_content": null,
            "justify_items": null,
            "left": null,
            "margin": null,
            "max_height": null,
            "max_width": null,
            "min_height": null,
            "min_width": null,
            "object_fit": null,
            "object_position": null,
            "order": null,
            "overflow": null,
            "overflow_x": null,
            "overflow_y": null,
            "padding": null,
            "right": null,
            "top": null,
            "visibility": null,
            "width": null
          }
        },
        "0b761c94f5b84f2da1f06e482a8bbf87": {
          "model_module": "@jupyter-widgets/controls",
          "model_name": "ProgressStyleModel",
          "model_module_version": "1.5.0",
          "state": {
            "_model_module": "@jupyter-widgets/controls",
            "_model_module_version": "1.5.0",
            "_model_name": "ProgressStyleModel",
            "_view_count": null,
            "_view_module": "@jupyter-widgets/base",
            "_view_module_version": "1.2.0",
            "_view_name": "StyleView",
            "bar_color": null,
            "description_width": ""
          }
        },
        "0babe024f43c469cbf2350f4771c34d5": {
          "model_module": "@jupyter-widgets/base",
          "model_name": "LayoutModel",
          "model_module_version": "1.2.0",
          "state": {
            "_model_module": "@jupyter-widgets/base",
            "_model_module_version": "1.2.0",
            "_model_name": "LayoutModel",
            "_view_count": null,
            "_view_module": "@jupyter-widgets/base",
            "_view_module_version": "1.2.0",
            "_view_name": "LayoutView",
            "align_content": null,
            "align_items": null,
            "align_self": null,
            "border": null,
            "bottom": null,
            "display": null,
            "flex": null,
            "flex_flow": null,
            "grid_area": null,
            "grid_auto_columns": null,
            "grid_auto_flow": null,
            "grid_auto_rows": null,
            "grid_column": null,
            "grid_gap": null,
            "grid_row": null,
            "grid_template_areas": null,
            "grid_template_columns": null,
            "grid_template_rows": null,
            "height": null,
            "justify_content": null,
            "justify_items": null,
            "left": null,
            "margin": null,
            "max_height": null,
            "max_width": null,
            "min_height": null,
            "min_width": null,
            "object_fit": null,
            "object_position": null,
            "order": null,
            "overflow": null,
            "overflow_x": null,
            "overflow_y": null,
            "padding": null,
            "right": null,
            "top": null,
            "visibility": null,
            "width": null
          }
        },
        "fc454a9893914c88b103c780a2f6a5a1": {
          "model_module": "@jupyter-widgets/controls",
          "model_name": "DescriptionStyleModel",
          "model_module_version": "1.5.0",
          "state": {
            "_model_module": "@jupyter-widgets/controls",
            "_model_module_version": "1.5.0",
            "_model_name": "DescriptionStyleModel",
            "_view_count": null,
            "_view_module": "@jupyter-widgets/base",
            "_view_module_version": "1.2.0",
            "_view_name": "StyleView",
            "description_width": ""
          }
        },
        "5cc8678e9b0d4defb3b31bdeeacce18a": {
          "model_module": "@jupyter-widgets/controls",
          "model_name": "HBoxModel",
          "model_module_version": "1.5.0",
          "state": {
            "_dom_classes": [],
            "_model_module": "@jupyter-widgets/controls",
            "_model_module_version": "1.5.0",
            "_model_name": "HBoxModel",
            "_view_count": null,
            "_view_module": "@jupyter-widgets/controls",
            "_view_module_version": "1.5.0",
            "_view_name": "HBoxView",
            "box_style": "",
            "children": [
              "IPY_MODEL_63f1a524718d43c2b17f384b31f918a9",
              "IPY_MODEL_c161aa04f31140be83d424e6c98951de",
              "IPY_MODEL_e716a0a1fd6d4d1485cc03ee865681bc"
            ],
            "layout": "IPY_MODEL_a9c518bfb3d54fc5a603d6513a2f4c43"
          }
        },
        "63f1a524718d43c2b17f384b31f918a9": {
          "model_module": "@jupyter-widgets/controls",
          "model_name": "HTMLModel",
          "model_module_version": "1.5.0",
          "state": {
            "_dom_classes": [],
            "_model_module": "@jupyter-widgets/controls",
            "_model_module_version": "1.5.0",
            "_model_name": "HTMLModel",
            "_view_count": null,
            "_view_module": "@jupyter-widgets/controls",
            "_view_module_version": "1.5.0",
            "_view_name": "HTMLView",
            "description": "",
            "description_tooltip": null,
            "layout": "IPY_MODEL_35d96e4ed68f4816b318f7baf41fc37a",
            "placeholder": "​",
            "style": "IPY_MODEL_01769204dcf44634a350031575129653",
            "value": "merges.txt: 100%"
          }
        },
        "c161aa04f31140be83d424e6c98951de": {
          "model_module": "@jupyter-widgets/controls",
          "model_name": "FloatProgressModel",
          "model_module_version": "1.5.0",
          "state": {
            "_dom_classes": [],
            "_model_module": "@jupyter-widgets/controls",
            "_model_module_version": "1.5.0",
            "_model_name": "FloatProgressModel",
            "_view_count": null,
            "_view_module": "@jupyter-widgets/controls",
            "_view_module_version": "1.5.0",
            "_view_name": "ProgressView",
            "bar_style": "success",
            "description": "",
            "description_tooltip": null,
            "layout": "IPY_MODEL_796f38593abc4a6da1dfb908c316b69c",
            "max": 456318,
            "min": 0,
            "orientation": "horizontal",
            "style": "IPY_MODEL_922d277222384328b4b083bedb71d31c",
            "value": 456318
          }
        },
        "e716a0a1fd6d4d1485cc03ee865681bc": {
          "model_module": "@jupyter-widgets/controls",
          "model_name": "HTMLModel",
          "model_module_version": "1.5.0",
          "state": {
            "_dom_classes": [],
            "_model_module": "@jupyter-widgets/controls",
            "_model_module_version": "1.5.0",
            "_model_name": "HTMLModel",
            "_view_count": null,
            "_view_module": "@jupyter-widgets/controls",
            "_view_module_version": "1.5.0",
            "_view_name": "HTMLView",
            "description": "",
            "description_tooltip": null,
            "layout": "IPY_MODEL_3687d91bf99c403ba8fd8d271a90e440",
            "placeholder": "​",
            "style": "IPY_MODEL_a7af6fb0a3e04dd9963ee6beadbf0560",
            "value": " 456k/456k [00:00&lt;00:00, 2.15MB/s]"
          }
        },
        "a9c518bfb3d54fc5a603d6513a2f4c43": {
          "model_module": "@jupyter-widgets/base",
          "model_name": "LayoutModel",
          "model_module_version": "1.2.0",
          "state": {
            "_model_module": "@jupyter-widgets/base",
            "_model_module_version": "1.2.0",
            "_model_name": "LayoutModel",
            "_view_count": null,
            "_view_module": "@jupyter-widgets/base",
            "_view_module_version": "1.2.0",
            "_view_name": "LayoutView",
            "align_content": null,
            "align_items": null,
            "align_self": null,
            "border": null,
            "bottom": null,
            "display": null,
            "flex": null,
            "flex_flow": null,
            "grid_area": null,
            "grid_auto_columns": null,
            "grid_auto_flow": null,
            "grid_auto_rows": null,
            "grid_column": null,
            "grid_gap": null,
            "grid_row": null,
            "grid_template_areas": null,
            "grid_template_columns": null,
            "grid_template_rows": null,
            "height": null,
            "justify_content": null,
            "justify_items": null,
            "left": null,
            "margin": null,
            "max_height": null,
            "max_width": null,
            "min_height": null,
            "min_width": null,
            "object_fit": null,
            "object_position": null,
            "order": null,
            "overflow": null,
            "overflow_x": null,
            "overflow_y": null,
            "padding": null,
            "right": null,
            "top": null,
            "visibility": null,
            "width": null
          }
        },
        "35d96e4ed68f4816b318f7baf41fc37a": {
          "model_module": "@jupyter-widgets/base",
          "model_name": "LayoutModel",
          "model_module_version": "1.2.0",
          "state": {
            "_model_module": "@jupyter-widgets/base",
            "_model_module_version": "1.2.0",
            "_model_name": "LayoutModel",
            "_view_count": null,
            "_view_module": "@jupyter-widgets/base",
            "_view_module_version": "1.2.0",
            "_view_name": "LayoutView",
            "align_content": null,
            "align_items": null,
            "align_self": null,
            "border": null,
            "bottom": null,
            "display": null,
            "flex": null,
            "flex_flow": null,
            "grid_area": null,
            "grid_auto_columns": null,
            "grid_auto_flow": null,
            "grid_auto_rows": null,
            "grid_column": null,
            "grid_gap": null,
            "grid_row": null,
            "grid_template_areas": null,
            "grid_template_columns": null,
            "grid_template_rows": null,
            "height": null,
            "justify_content": null,
            "justify_items": null,
            "left": null,
            "margin": null,
            "max_height": null,
            "max_width": null,
            "min_height": null,
            "min_width": null,
            "object_fit": null,
            "object_position": null,
            "order": null,
            "overflow": null,
            "overflow_x": null,
            "overflow_y": null,
            "padding": null,
            "right": null,
            "top": null,
            "visibility": null,
            "width": null
          }
        },
        "01769204dcf44634a350031575129653": {
          "model_module": "@jupyter-widgets/controls",
          "model_name": "DescriptionStyleModel",
          "model_module_version": "1.5.0",
          "state": {
            "_model_module": "@jupyter-widgets/controls",
            "_model_module_version": "1.5.0",
            "_model_name": "DescriptionStyleModel",
            "_view_count": null,
            "_view_module": "@jupyter-widgets/base",
            "_view_module_version": "1.2.0",
            "_view_name": "StyleView",
            "description_width": ""
          }
        },
        "796f38593abc4a6da1dfb908c316b69c": {
          "model_module": "@jupyter-widgets/base",
          "model_name": "LayoutModel",
          "model_module_version": "1.2.0",
          "state": {
            "_model_module": "@jupyter-widgets/base",
            "_model_module_version": "1.2.0",
            "_model_name": "LayoutModel",
            "_view_count": null,
            "_view_module": "@jupyter-widgets/base",
            "_view_module_version": "1.2.0",
            "_view_name": "LayoutView",
            "align_content": null,
            "align_items": null,
            "align_self": null,
            "border": null,
            "bottom": null,
            "display": null,
            "flex": null,
            "flex_flow": null,
            "grid_area": null,
            "grid_auto_columns": null,
            "grid_auto_flow": null,
            "grid_auto_rows": null,
            "grid_column": null,
            "grid_gap": null,
            "grid_row": null,
            "grid_template_areas": null,
            "grid_template_columns": null,
            "grid_template_rows": null,
            "height": null,
            "justify_content": null,
            "justify_items": null,
            "left": null,
            "margin": null,
            "max_height": null,
            "max_width": null,
            "min_height": null,
            "min_width": null,
            "object_fit": null,
            "object_position": null,
            "order": null,
            "overflow": null,
            "overflow_x": null,
            "overflow_y": null,
            "padding": null,
            "right": null,
            "top": null,
            "visibility": null,
            "width": null
          }
        },
        "922d277222384328b4b083bedb71d31c": {
          "model_module": "@jupyter-widgets/controls",
          "model_name": "ProgressStyleModel",
          "model_module_version": "1.5.0",
          "state": {
            "_model_module": "@jupyter-widgets/controls",
            "_model_module_version": "1.5.0",
            "_model_name": "ProgressStyleModel",
            "_view_count": null,
            "_view_module": "@jupyter-widgets/base",
            "_view_module_version": "1.2.0",
            "_view_name": "StyleView",
            "bar_color": null,
            "description_width": ""
          }
        },
        "3687d91bf99c403ba8fd8d271a90e440": {
          "model_module": "@jupyter-widgets/base",
          "model_name": "LayoutModel",
          "model_module_version": "1.2.0",
          "state": {
            "_model_module": "@jupyter-widgets/base",
            "_model_module_version": "1.2.0",
            "_model_name": "LayoutModel",
            "_view_count": null,
            "_view_module": "@jupyter-widgets/base",
            "_view_module_version": "1.2.0",
            "_view_name": "LayoutView",
            "align_content": null,
            "align_items": null,
            "align_self": null,
            "border": null,
            "bottom": null,
            "display": null,
            "flex": null,
            "flex_flow": null,
            "grid_area": null,
            "grid_auto_columns": null,
            "grid_auto_flow": null,
            "grid_auto_rows": null,
            "grid_column": null,
            "grid_gap": null,
            "grid_row": null,
            "grid_template_areas": null,
            "grid_template_columns": null,
            "grid_template_rows": null,
            "height": null,
            "justify_content": null,
            "justify_items": null,
            "left": null,
            "margin": null,
            "max_height": null,
            "max_width": null,
            "min_height": null,
            "min_width": null,
            "object_fit": null,
            "object_position": null,
            "order": null,
            "overflow": null,
            "overflow_x": null,
            "overflow_y": null,
            "padding": null,
            "right": null,
            "top": null,
            "visibility": null,
            "width": null
          }
        },
        "a7af6fb0a3e04dd9963ee6beadbf0560": {
          "model_module": "@jupyter-widgets/controls",
          "model_name": "DescriptionStyleModel",
          "model_module_version": "1.5.0",
          "state": {
            "_model_module": "@jupyter-widgets/controls",
            "_model_module_version": "1.5.0",
            "_model_name": "DescriptionStyleModel",
            "_view_count": null,
            "_view_module": "@jupyter-widgets/base",
            "_view_module_version": "1.2.0",
            "_view_name": "StyleView",
            "description_width": ""
          }
        },
        "a8b130a9da1c45f8a339fa904c914aa6": {
          "model_module": "@jupyter-widgets/controls",
          "model_name": "HBoxModel",
          "model_module_version": "1.5.0",
          "state": {
            "_dom_classes": [],
            "_model_module": "@jupyter-widgets/controls",
            "_model_module_version": "1.5.0",
            "_model_name": "HBoxModel",
            "_view_count": null,
            "_view_module": "@jupyter-widgets/controls",
            "_view_module_version": "1.5.0",
            "_view_name": "HBoxView",
            "box_style": "",
            "children": [
              "IPY_MODEL_3672dd120b5a4bc58e732bb165cac460",
              "IPY_MODEL_adbcb3654b524bf5ba6525e93cad7103",
              "IPY_MODEL_5e4c1a18415c43f5995c33dda1d9b5bc"
            ],
            "layout": "IPY_MODEL_7fea5f36e1d1430abc2a4ce076c07a9a"
          }
        },
        "3672dd120b5a4bc58e732bb165cac460": {
          "model_module": "@jupyter-widgets/controls",
          "model_name": "HTMLModel",
          "model_module_version": "1.5.0",
          "state": {
            "_dom_classes": [],
            "_model_module": "@jupyter-widgets/controls",
            "_model_module_version": "1.5.0",
            "_model_name": "HTMLModel",
            "_view_count": null,
            "_view_module": "@jupyter-widgets/controls",
            "_view_module_version": "1.5.0",
            "_view_name": "HTMLView",
            "description": "",
            "description_tooltip": null,
            "layout": "IPY_MODEL_ff02c75bd2904125b7d3170fbcfa63a1",
            "placeholder": "​",
            "style": "IPY_MODEL_1f717c2ce1454d0d93fa450fad6a53dc",
            "value": "tokenizer.json: 100%"
          }
        },
        "adbcb3654b524bf5ba6525e93cad7103": {
          "model_module": "@jupyter-widgets/controls",
          "model_name": "FloatProgressModel",
          "model_module_version": "1.5.0",
          "state": {
            "_dom_classes": [],
            "_model_module": "@jupyter-widgets/controls",
            "_model_module_version": "1.5.0",
            "_model_name": "FloatProgressModel",
            "_view_count": null,
            "_view_module": "@jupyter-widgets/controls",
            "_view_module_version": "1.5.0",
            "_view_name": "ProgressView",
            "bar_style": "success",
            "description": "",
            "description_tooltip": null,
            "layout": "IPY_MODEL_f3b6e4b839024c39954273dbf6bc69ed",
            "max": 1355863,
            "min": 0,
            "orientation": "horizontal",
            "style": "IPY_MODEL_c53195db4ed34d01817c73370330a593",
            "value": 1355863
          }
        },
        "5e4c1a18415c43f5995c33dda1d9b5bc": {
          "model_module": "@jupyter-widgets/controls",
          "model_name": "HTMLModel",
          "model_module_version": "1.5.0",
          "state": {
            "_dom_classes": [],
            "_model_module": "@jupyter-widgets/controls",
            "_model_module_version": "1.5.0",
            "_model_name": "HTMLModel",
            "_view_count": null,
            "_view_module": "@jupyter-widgets/controls",
            "_view_module_version": "1.5.0",
            "_view_name": "HTMLView",
            "description": "",
            "description_tooltip": null,
            "layout": "IPY_MODEL_a78f47263f874dbba0c0fbef43e9b06f",
            "placeholder": "​",
            "style": "IPY_MODEL_e04b4033894a41e2af225dfdd3b37170",
            "value": " 1.36M/1.36M [00:00&lt;00:00, 5.94MB/s]"
          }
        },
        "7fea5f36e1d1430abc2a4ce076c07a9a": {
          "model_module": "@jupyter-widgets/base",
          "model_name": "LayoutModel",
          "model_module_version": "1.2.0",
          "state": {
            "_model_module": "@jupyter-widgets/base",
            "_model_module_version": "1.2.0",
            "_model_name": "LayoutModel",
            "_view_count": null,
            "_view_module": "@jupyter-widgets/base",
            "_view_module_version": "1.2.0",
            "_view_name": "LayoutView",
            "align_content": null,
            "align_items": null,
            "align_self": null,
            "border": null,
            "bottom": null,
            "display": null,
            "flex": null,
            "flex_flow": null,
            "grid_area": null,
            "grid_auto_columns": null,
            "grid_auto_flow": null,
            "grid_auto_rows": null,
            "grid_column": null,
            "grid_gap": null,
            "grid_row": null,
            "grid_template_areas": null,
            "grid_template_columns": null,
            "grid_template_rows": null,
            "height": null,
            "justify_content": null,
            "justify_items": null,
            "left": null,
            "margin": null,
            "max_height": null,
            "max_width": null,
            "min_height": null,
            "min_width": null,
            "object_fit": null,
            "object_position": null,
            "order": null,
            "overflow": null,
            "overflow_x": null,
            "overflow_y": null,
            "padding": null,
            "right": null,
            "top": null,
            "visibility": null,
            "width": null
          }
        },
        "ff02c75bd2904125b7d3170fbcfa63a1": {
          "model_module": "@jupyter-widgets/base",
          "model_name": "LayoutModel",
          "model_module_version": "1.2.0",
          "state": {
            "_model_module": "@jupyter-widgets/base",
            "_model_module_version": "1.2.0",
            "_model_name": "LayoutModel",
            "_view_count": null,
            "_view_module": "@jupyter-widgets/base",
            "_view_module_version": "1.2.0",
            "_view_name": "LayoutView",
            "align_content": null,
            "align_items": null,
            "align_self": null,
            "border": null,
            "bottom": null,
            "display": null,
            "flex": null,
            "flex_flow": null,
            "grid_area": null,
            "grid_auto_columns": null,
            "grid_auto_flow": null,
            "grid_auto_rows": null,
            "grid_column": null,
            "grid_gap": null,
            "grid_row": null,
            "grid_template_areas": null,
            "grid_template_columns": null,
            "grid_template_rows": null,
            "height": null,
            "justify_content": null,
            "justify_items": null,
            "left": null,
            "margin": null,
            "max_height": null,
            "max_width": null,
            "min_height": null,
            "min_width": null,
            "object_fit": null,
            "object_position": null,
            "order": null,
            "overflow": null,
            "overflow_x": null,
            "overflow_y": null,
            "padding": null,
            "right": null,
            "top": null,
            "visibility": null,
            "width": null
          }
        },
        "1f717c2ce1454d0d93fa450fad6a53dc": {
          "model_module": "@jupyter-widgets/controls",
          "model_name": "DescriptionStyleModel",
          "model_module_version": "1.5.0",
          "state": {
            "_model_module": "@jupyter-widgets/controls",
            "_model_module_version": "1.5.0",
            "_model_name": "DescriptionStyleModel",
            "_view_count": null,
            "_view_module": "@jupyter-widgets/base",
            "_view_module_version": "1.2.0",
            "_view_name": "StyleView",
            "description_width": ""
          }
        },
        "f3b6e4b839024c39954273dbf6bc69ed": {
          "model_module": "@jupyter-widgets/base",
          "model_name": "LayoutModel",
          "model_module_version": "1.2.0",
          "state": {
            "_model_module": "@jupyter-widgets/base",
            "_model_module_version": "1.2.0",
            "_model_name": "LayoutModel",
            "_view_count": null,
            "_view_module": "@jupyter-widgets/base",
            "_view_module_version": "1.2.0",
            "_view_name": "LayoutView",
            "align_content": null,
            "align_items": null,
            "align_self": null,
            "border": null,
            "bottom": null,
            "display": null,
            "flex": null,
            "flex_flow": null,
            "grid_area": null,
            "grid_auto_columns": null,
            "grid_auto_flow": null,
            "grid_auto_rows": null,
            "grid_column": null,
            "grid_gap": null,
            "grid_row": null,
            "grid_template_areas": null,
            "grid_template_columns": null,
            "grid_template_rows": null,
            "height": null,
            "justify_content": null,
            "justify_items": null,
            "left": null,
            "margin": null,
            "max_height": null,
            "max_width": null,
            "min_height": null,
            "min_width": null,
            "object_fit": null,
            "object_position": null,
            "order": null,
            "overflow": null,
            "overflow_x": null,
            "overflow_y": null,
            "padding": null,
            "right": null,
            "top": null,
            "visibility": null,
            "width": null
          }
        },
        "c53195db4ed34d01817c73370330a593": {
          "model_module": "@jupyter-widgets/controls",
          "model_name": "ProgressStyleModel",
          "model_module_version": "1.5.0",
          "state": {
            "_model_module": "@jupyter-widgets/controls",
            "_model_module_version": "1.5.0",
            "_model_name": "ProgressStyleModel",
            "_view_count": null,
            "_view_module": "@jupyter-widgets/base",
            "_view_module_version": "1.2.0",
            "_view_name": "StyleView",
            "bar_color": null,
            "description_width": ""
          }
        },
        "a78f47263f874dbba0c0fbef43e9b06f": {
          "model_module": "@jupyter-widgets/base",
          "model_name": "LayoutModel",
          "model_module_version": "1.2.0",
          "state": {
            "_model_module": "@jupyter-widgets/base",
            "_model_module_version": "1.2.0",
            "_model_name": "LayoutModel",
            "_view_count": null,
            "_view_module": "@jupyter-widgets/base",
            "_view_module_version": "1.2.0",
            "_view_name": "LayoutView",
            "align_content": null,
            "align_items": null,
            "align_self": null,
            "border": null,
            "bottom": null,
            "display": null,
            "flex": null,
            "flex_flow": null,
            "grid_area": null,
            "grid_auto_columns": null,
            "grid_auto_flow": null,
            "grid_auto_rows": null,
            "grid_column": null,
            "grid_gap": null,
            "grid_row": null,
            "grid_template_areas": null,
            "grid_template_columns": null,
            "grid_template_rows": null,
            "height": null,
            "justify_content": null,
            "justify_items": null,
            "left": null,
            "margin": null,
            "max_height": null,
            "max_width": null,
            "min_height": null,
            "min_width": null,
            "object_fit": null,
            "object_position": null,
            "order": null,
            "overflow": null,
            "overflow_x": null,
            "overflow_y": null,
            "padding": null,
            "right": null,
            "top": null,
            "visibility": null,
            "width": null
          }
        },
        "e04b4033894a41e2af225dfdd3b37170": {
          "model_module": "@jupyter-widgets/controls",
          "model_name": "DescriptionStyleModel",
          "model_module_version": "1.5.0",
          "state": {
            "_model_module": "@jupyter-widgets/controls",
            "_model_module_version": "1.5.0",
            "_model_name": "DescriptionStyleModel",
            "_view_count": null,
            "_view_module": "@jupyter-widgets/base",
            "_view_module_version": "1.2.0",
            "_view_name": "StyleView",
            "description_width": ""
          }
        },
        "145b54b23d0548a5be71873bcd4e283e": {
          "model_module": "@jupyter-widgets/controls",
          "model_name": "HBoxModel",
          "model_module_version": "1.5.0",
          "state": {
            "_dom_classes": [],
            "_model_module": "@jupyter-widgets/controls",
            "_model_module_version": "1.5.0",
            "_model_name": "HBoxModel",
            "_view_count": null,
            "_view_module": "@jupyter-widgets/controls",
            "_view_module_version": "1.5.0",
            "_view_name": "HBoxView",
            "box_style": "",
            "children": [
              "IPY_MODEL_92620bd3089b47048b79eae374a57b7b",
              "IPY_MODEL_57ff38cfc87048988ffa3a62f60a07a8",
              "IPY_MODEL_fd8f5158079a42a996ec0b2865730910"
            ],
            "layout": "IPY_MODEL_0e217f060dec4e0ba240d5ec1d7a7ac6"
          }
        },
        "92620bd3089b47048b79eae374a57b7b": {
          "model_module": "@jupyter-widgets/controls",
          "model_name": "HTMLModel",
          "model_module_version": "1.5.0",
          "state": {
            "_dom_classes": [],
            "_model_module": "@jupyter-widgets/controls",
            "_model_module_version": "1.5.0",
            "_model_name": "HTMLModel",
            "_view_count": null,
            "_view_module": "@jupyter-widgets/controls",
            "_view_module_version": "1.5.0",
            "_view_name": "HTMLView",
            "description": "",
            "description_tooltip": null,
            "layout": "IPY_MODEL_07d61ebe2c3745a68bc7689dcb23ee2f",
            "placeholder": "​",
            "style": "IPY_MODEL_f785ea179661411a8910e601a2ae7e69",
            "value": "config.json: 100%"
          }
        },
        "57ff38cfc87048988ffa3a62f60a07a8": {
          "model_module": "@jupyter-widgets/controls",
          "model_name": "FloatProgressModel",
          "model_module_version": "1.5.0",
          "state": {
            "_dom_classes": [],
            "_model_module": "@jupyter-widgets/controls",
            "_model_module_version": "1.5.0",
            "_model_name": "FloatProgressModel",
            "_view_count": null,
            "_view_module": "@jupyter-widgets/controls",
            "_view_module_version": "1.5.0",
            "_view_name": "ProgressView",
            "bar_style": "success",
            "description": "",
            "description_tooltip": null,
            "layout": "IPY_MODEL_8ad69f65a0f44a0ebe908d6c7715a085",
            "max": 694,
            "min": 0,
            "orientation": "horizontal",
            "style": "IPY_MODEL_e02d10c7087e4d3a9afd54443f1c63fb",
            "value": 694
          }
        },
        "fd8f5158079a42a996ec0b2865730910": {
          "model_module": "@jupyter-widgets/controls",
          "model_name": "HTMLModel",
          "model_module_version": "1.5.0",
          "state": {
            "_dom_classes": [],
            "_model_module": "@jupyter-widgets/controls",
            "_model_module_version": "1.5.0",
            "_model_name": "HTMLModel",
            "_view_count": null,
            "_view_module": "@jupyter-widgets/controls",
            "_view_module_version": "1.5.0",
            "_view_name": "HTMLView",
            "description": "",
            "description_tooltip": null,
            "layout": "IPY_MODEL_c5aa1b0bc5ff4961a78fcaa30d5966c7",
            "placeholder": "​",
            "style": "IPY_MODEL_3fcfc5f1c6cf43db9c9ff9002d839496",
            "value": " 694/694 [00:00&lt;00:00, 69.9kB/s]"
          }
        },
        "0e217f060dec4e0ba240d5ec1d7a7ac6": {
          "model_module": "@jupyter-widgets/base",
          "model_name": "LayoutModel",
          "model_module_version": "1.2.0",
          "state": {
            "_model_module": "@jupyter-widgets/base",
            "_model_module_version": "1.2.0",
            "_model_name": "LayoutModel",
            "_view_count": null,
            "_view_module": "@jupyter-widgets/base",
            "_view_module_version": "1.2.0",
            "_view_name": "LayoutView",
            "align_content": null,
            "align_items": null,
            "align_self": null,
            "border": null,
            "bottom": null,
            "display": null,
            "flex": null,
            "flex_flow": null,
            "grid_area": null,
            "grid_auto_columns": null,
            "grid_auto_flow": null,
            "grid_auto_rows": null,
            "grid_column": null,
            "grid_gap": null,
            "grid_row": null,
            "grid_template_areas": null,
            "grid_template_columns": null,
            "grid_template_rows": null,
            "height": null,
            "justify_content": null,
            "justify_items": null,
            "left": null,
            "margin": null,
            "max_height": null,
            "max_width": null,
            "min_height": null,
            "min_width": null,
            "object_fit": null,
            "object_position": null,
            "order": null,
            "overflow": null,
            "overflow_x": null,
            "overflow_y": null,
            "padding": null,
            "right": null,
            "top": null,
            "visibility": null,
            "width": null
          }
        },
        "07d61ebe2c3745a68bc7689dcb23ee2f": {
          "model_module": "@jupyter-widgets/base",
          "model_name": "LayoutModel",
          "model_module_version": "1.2.0",
          "state": {
            "_model_module": "@jupyter-widgets/base",
            "_model_module_version": "1.2.0",
            "_model_name": "LayoutModel",
            "_view_count": null,
            "_view_module": "@jupyter-widgets/base",
            "_view_module_version": "1.2.0",
            "_view_name": "LayoutView",
            "align_content": null,
            "align_items": null,
            "align_self": null,
            "border": null,
            "bottom": null,
            "display": null,
            "flex": null,
            "flex_flow": null,
            "grid_area": null,
            "grid_auto_columns": null,
            "grid_auto_flow": null,
            "grid_auto_rows": null,
            "grid_column": null,
            "grid_gap": null,
            "grid_row": null,
            "grid_template_areas": null,
            "grid_template_columns": null,
            "grid_template_rows": null,
            "height": null,
            "justify_content": null,
            "justify_items": null,
            "left": null,
            "margin": null,
            "max_height": null,
            "max_width": null,
            "min_height": null,
            "min_width": null,
            "object_fit": null,
            "object_position": null,
            "order": null,
            "overflow": null,
            "overflow_x": null,
            "overflow_y": null,
            "padding": null,
            "right": null,
            "top": null,
            "visibility": null,
            "width": null
          }
        },
        "f785ea179661411a8910e601a2ae7e69": {
          "model_module": "@jupyter-widgets/controls",
          "model_name": "DescriptionStyleModel",
          "model_module_version": "1.5.0",
          "state": {
            "_model_module": "@jupyter-widgets/controls",
            "_model_module_version": "1.5.0",
            "_model_name": "DescriptionStyleModel",
            "_view_count": null,
            "_view_module": "@jupyter-widgets/base",
            "_view_module_version": "1.2.0",
            "_view_name": "StyleView",
            "description_width": ""
          }
        },
        "8ad69f65a0f44a0ebe908d6c7715a085": {
          "model_module": "@jupyter-widgets/base",
          "model_name": "LayoutModel",
          "model_module_version": "1.2.0",
          "state": {
            "_model_module": "@jupyter-widgets/base",
            "_model_module_version": "1.2.0",
            "_model_name": "LayoutModel",
            "_view_count": null,
            "_view_module": "@jupyter-widgets/base",
            "_view_module_version": "1.2.0",
            "_view_name": "LayoutView",
            "align_content": null,
            "align_items": null,
            "align_self": null,
            "border": null,
            "bottom": null,
            "display": null,
            "flex": null,
            "flex_flow": null,
            "grid_area": null,
            "grid_auto_columns": null,
            "grid_auto_flow": null,
            "grid_auto_rows": null,
            "grid_column": null,
            "grid_gap": null,
            "grid_row": null,
            "grid_template_areas": null,
            "grid_template_columns": null,
            "grid_template_rows": null,
            "height": null,
            "justify_content": null,
            "justify_items": null,
            "left": null,
            "margin": null,
            "max_height": null,
            "max_width": null,
            "min_height": null,
            "min_width": null,
            "object_fit": null,
            "object_position": null,
            "order": null,
            "overflow": null,
            "overflow_x": null,
            "overflow_y": null,
            "padding": null,
            "right": null,
            "top": null,
            "visibility": null,
            "width": null
          }
        },
        "e02d10c7087e4d3a9afd54443f1c63fb": {
          "model_module": "@jupyter-widgets/controls",
          "model_name": "ProgressStyleModel",
          "model_module_version": "1.5.0",
          "state": {
            "_model_module": "@jupyter-widgets/controls",
            "_model_module_version": "1.5.0",
            "_model_name": "ProgressStyleModel",
            "_view_count": null,
            "_view_module": "@jupyter-widgets/base",
            "_view_module_version": "1.2.0",
            "_view_name": "StyleView",
            "bar_color": null,
            "description_width": ""
          }
        },
        "c5aa1b0bc5ff4961a78fcaa30d5966c7": {
          "model_module": "@jupyter-widgets/base",
          "model_name": "LayoutModel",
          "model_module_version": "1.2.0",
          "state": {
            "_model_module": "@jupyter-widgets/base",
            "_model_module_version": "1.2.0",
            "_model_name": "LayoutModel",
            "_view_count": null,
            "_view_module": "@jupyter-widgets/base",
            "_view_module_version": "1.2.0",
            "_view_name": "LayoutView",
            "align_content": null,
            "align_items": null,
            "align_self": null,
            "border": null,
            "bottom": null,
            "display": null,
            "flex": null,
            "flex_flow": null,
            "grid_area": null,
            "grid_auto_columns": null,
            "grid_auto_flow": null,
            "grid_auto_rows": null,
            "grid_column": null,
            "grid_gap": null,
            "grid_row": null,
            "grid_template_areas": null,
            "grid_template_columns": null,
            "grid_template_rows": null,
            "height": null,
            "justify_content": null,
            "justify_items": null,
            "left": null,
            "margin": null,
            "max_height": null,
            "max_width": null,
            "min_height": null,
            "min_width": null,
            "object_fit": null,
            "object_position": null,
            "order": null,
            "overflow": null,
            "overflow_x": null,
            "overflow_y": null,
            "padding": null,
            "right": null,
            "top": null,
            "visibility": null,
            "width": null
          }
        },
        "3fcfc5f1c6cf43db9c9ff9002d839496": {
          "model_module": "@jupyter-widgets/controls",
          "model_name": "DescriptionStyleModel",
          "model_module_version": "1.5.0",
          "state": {
            "_model_module": "@jupyter-widgets/controls",
            "_model_module_version": "1.5.0",
            "_model_name": "DescriptionStyleModel",
            "_view_count": null,
            "_view_module": "@jupyter-widgets/base",
            "_view_module_version": "1.2.0",
            "_view_name": "StyleView",
            "description_width": ""
          }
        },
        "d3e7d7f36c81497faf6a10026d052700": {
          "model_module": "@jupyter-widgets/controls",
          "model_name": "HBoxModel",
          "model_module_version": "1.5.0",
          "state": {
            "_dom_classes": [],
            "_model_module": "@jupyter-widgets/controls",
            "_model_module_version": "1.5.0",
            "_model_name": "HBoxModel",
            "_view_count": null,
            "_view_module": "@jupyter-widgets/controls",
            "_view_module_version": "1.5.0",
            "_view_name": "HBoxView",
            "box_style": "",
            "children": [
              "IPY_MODEL_571d0a8c92f2470798f52aafde042da7",
              "IPY_MODEL_5ce03585f86c462fae710ac93240729c",
              "IPY_MODEL_5f92391bb8c1487597ebb72e55fe5387"
            ],
            "layout": "IPY_MODEL_a6b4386b257d44109fd04ecb059295fd"
          }
        },
        "571d0a8c92f2470798f52aafde042da7": {
          "model_module": "@jupyter-widgets/controls",
          "model_name": "HTMLModel",
          "model_module_version": "1.5.0",
          "state": {
            "_dom_classes": [],
            "_model_module": "@jupyter-widgets/controls",
            "_model_module_version": "1.5.0",
            "_model_name": "HTMLModel",
            "_view_count": null,
            "_view_module": "@jupyter-widgets/controls",
            "_view_module_version": "1.5.0",
            "_view_name": "HTMLView",
            "description": "",
            "description_tooltip": null,
            "layout": "IPY_MODEL_c886c1a0eeb1436ba833f7068f0d2748",
            "placeholder": "​",
            "style": "IPY_MODEL_ee9fab3e4f32400aa8240355e020fdd7",
            "value": "pytorch_model.bin: 100%"
          }
        },
        "5ce03585f86c462fae710ac93240729c": {
          "model_module": "@jupyter-widgets/controls",
          "model_name": "FloatProgressModel",
          "model_module_version": "1.5.0",
          "state": {
            "_dom_classes": [],
            "_model_module": "@jupyter-widgets/controls",
            "_model_module_version": "1.5.0",
            "_model_name": "FloatProgressModel",
            "_view_count": null,
            "_view_module": "@jupyter-widgets/controls",
            "_view_module_version": "1.5.0",
            "_view_name": "ProgressView",
            "bar_style": "success",
            "description": "",
            "description_tooltip": null,
            "layout": "IPY_MODEL_ddf1c51a7a2c44798d4018999bd6326f",
            "max": 597257159,
            "min": 0,
            "orientation": "horizontal",
            "style": "IPY_MODEL_17567e4dba4c41328a8328ceb12ac3c0",
            "value": 597257159
          }
        },
        "5f92391bb8c1487597ebb72e55fe5387": {
          "model_module": "@jupyter-widgets/controls",
          "model_name": "HTMLModel",
          "model_module_version": "1.5.0",
          "state": {
            "_dom_classes": [],
            "_model_module": "@jupyter-widgets/controls",
            "_model_module_version": "1.5.0",
            "_model_name": "HTMLModel",
            "_view_count": null,
            "_view_module": "@jupyter-widgets/controls",
            "_view_module_version": "1.5.0",
            "_view_name": "HTMLView",
            "description": "",
            "description_tooltip": null,
            "layout": "IPY_MODEL_8db24d4cb5844c4e903389b963b1121c",
            "placeholder": "​",
            "style": "IPY_MODEL_c1c255713ee6482ba303c2543fc6286f",
            "value": " 597M/597M [00:02&lt;00:00, 244MB/s]"
          }
        },
        "a6b4386b257d44109fd04ecb059295fd": {
          "model_module": "@jupyter-widgets/base",
          "model_name": "LayoutModel",
          "model_module_version": "1.2.0",
          "state": {
            "_model_module": "@jupyter-widgets/base",
            "_model_module_version": "1.2.0",
            "_model_name": "LayoutModel",
            "_view_count": null,
            "_view_module": "@jupyter-widgets/base",
            "_view_module_version": "1.2.0",
            "_view_name": "LayoutView",
            "align_content": null,
            "align_items": null,
            "align_self": null,
            "border": null,
            "bottom": null,
            "display": null,
            "flex": null,
            "flex_flow": null,
            "grid_area": null,
            "grid_auto_columns": null,
            "grid_auto_flow": null,
            "grid_auto_rows": null,
            "grid_column": null,
            "grid_gap": null,
            "grid_row": null,
            "grid_template_areas": null,
            "grid_template_columns": null,
            "grid_template_rows": null,
            "height": null,
            "justify_content": null,
            "justify_items": null,
            "left": null,
            "margin": null,
            "max_height": null,
            "max_width": null,
            "min_height": null,
            "min_width": null,
            "object_fit": null,
            "object_position": null,
            "order": null,
            "overflow": null,
            "overflow_x": null,
            "overflow_y": null,
            "padding": null,
            "right": null,
            "top": null,
            "visibility": null,
            "width": null
          }
        },
        "c886c1a0eeb1436ba833f7068f0d2748": {
          "model_module": "@jupyter-widgets/base",
          "model_name": "LayoutModel",
          "model_module_version": "1.2.0",
          "state": {
            "_model_module": "@jupyter-widgets/base",
            "_model_module_version": "1.2.0",
            "_model_name": "LayoutModel",
            "_view_count": null,
            "_view_module": "@jupyter-widgets/base",
            "_view_module_version": "1.2.0",
            "_view_name": "LayoutView",
            "align_content": null,
            "align_items": null,
            "align_self": null,
            "border": null,
            "bottom": null,
            "display": null,
            "flex": null,
            "flex_flow": null,
            "grid_area": null,
            "grid_auto_columns": null,
            "grid_auto_flow": null,
            "grid_auto_rows": null,
            "grid_column": null,
            "grid_gap": null,
            "grid_row": null,
            "grid_template_areas": null,
            "grid_template_columns": null,
            "grid_template_rows": null,
            "height": null,
            "justify_content": null,
            "justify_items": null,
            "left": null,
            "margin": null,
            "max_height": null,
            "max_width": null,
            "min_height": null,
            "min_width": null,
            "object_fit": null,
            "object_position": null,
            "order": null,
            "overflow": null,
            "overflow_x": null,
            "overflow_y": null,
            "padding": null,
            "right": null,
            "top": null,
            "visibility": null,
            "width": null
          }
        },
        "ee9fab3e4f32400aa8240355e020fdd7": {
          "model_module": "@jupyter-widgets/controls",
          "model_name": "DescriptionStyleModel",
          "model_module_version": "1.5.0",
          "state": {
            "_model_module": "@jupyter-widgets/controls",
            "_model_module_version": "1.5.0",
            "_model_name": "DescriptionStyleModel",
            "_view_count": null,
            "_view_module": "@jupyter-widgets/base",
            "_view_module_version": "1.2.0",
            "_view_name": "StyleView",
            "description_width": ""
          }
        },
        "ddf1c51a7a2c44798d4018999bd6326f": {
          "model_module": "@jupyter-widgets/base",
          "model_name": "LayoutModel",
          "model_module_version": "1.2.0",
          "state": {
            "_model_module": "@jupyter-widgets/base",
            "_model_module_version": "1.2.0",
            "_model_name": "LayoutModel",
            "_view_count": null,
            "_view_module": "@jupyter-widgets/base",
            "_view_module_version": "1.2.0",
            "_view_name": "LayoutView",
            "align_content": null,
            "align_items": null,
            "align_self": null,
            "border": null,
            "bottom": null,
            "display": null,
            "flex": null,
            "flex_flow": null,
            "grid_area": null,
            "grid_auto_columns": null,
            "grid_auto_flow": null,
            "grid_auto_rows": null,
            "grid_column": null,
            "grid_gap": null,
            "grid_row": null,
            "grid_template_areas": null,
            "grid_template_columns": null,
            "grid_template_rows": null,
            "height": null,
            "justify_content": null,
            "justify_items": null,
            "left": null,
            "margin": null,
            "max_height": null,
            "max_width": null,
            "min_height": null,
            "min_width": null,
            "object_fit": null,
            "object_position": null,
            "order": null,
            "overflow": null,
            "overflow_x": null,
            "overflow_y": null,
            "padding": null,
            "right": null,
            "top": null,
            "visibility": null,
            "width": null
          }
        },
        "17567e4dba4c41328a8328ceb12ac3c0": {
          "model_module": "@jupyter-widgets/controls",
          "model_name": "ProgressStyleModel",
          "model_module_version": "1.5.0",
          "state": {
            "_model_module": "@jupyter-widgets/controls",
            "_model_module_version": "1.5.0",
            "_model_name": "ProgressStyleModel",
            "_view_count": null,
            "_view_module": "@jupyter-widgets/base",
            "_view_module_version": "1.2.0",
            "_view_name": "StyleView",
            "bar_color": null,
            "description_width": ""
          }
        },
        "8db24d4cb5844c4e903389b963b1121c": {
          "model_module": "@jupyter-widgets/base",
          "model_name": "LayoutModel",
          "model_module_version": "1.2.0",
          "state": {
            "_model_module": "@jupyter-widgets/base",
            "_model_module_version": "1.2.0",
            "_model_name": "LayoutModel",
            "_view_count": null,
            "_view_module": "@jupyter-widgets/base",
            "_view_module_version": "1.2.0",
            "_view_name": "LayoutView",
            "align_content": null,
            "align_items": null,
            "align_self": null,
            "border": null,
            "bottom": null,
            "display": null,
            "flex": null,
            "flex_flow": null,
            "grid_area": null,
            "grid_auto_columns": null,
            "grid_auto_flow": null,
            "grid_auto_rows": null,
            "grid_column": null,
            "grid_gap": null,
            "grid_row": null,
            "grid_template_areas": null,
            "grid_template_columns": null,
            "grid_template_rows": null,
            "height": null,
            "justify_content": null,
            "justify_items": null,
            "left": null,
            "margin": null,
            "max_height": null,
            "max_width": null,
            "min_height": null,
            "min_width": null,
            "object_fit": null,
            "object_position": null,
            "order": null,
            "overflow": null,
            "overflow_x": null,
            "overflow_y": null,
            "padding": null,
            "right": null,
            "top": null,
            "visibility": null,
            "width": null
          }
        },
        "c1c255713ee6482ba303c2543fc6286f": {
          "model_module": "@jupyter-widgets/controls",
          "model_name": "DescriptionStyleModel",
          "model_module_version": "1.5.0",
          "state": {
            "_model_module": "@jupyter-widgets/controls",
            "_model_module_version": "1.5.0",
            "_model_name": "DescriptionStyleModel",
            "_view_count": null,
            "_view_module": "@jupyter-widgets/base",
            "_view_module_version": "1.2.0",
            "_view_name": "StyleView",
            "description_width": ""
          }
        },
        "f987138b8f754d2cb518c0b587099565": {
          "model_module": "@jupyter-widgets/controls",
          "model_name": "HBoxModel",
          "model_module_version": "1.5.0",
          "state": {
            "_dom_classes": [],
            "_model_module": "@jupyter-widgets/controls",
            "_model_module_version": "1.5.0",
            "_model_name": "HBoxModel",
            "_view_count": null,
            "_view_module": "@jupyter-widgets/controls",
            "_view_module_version": "1.5.0",
            "_view_name": "HBoxView",
            "box_style": "",
            "children": [
              "IPY_MODEL_d558a693230d43528b17ae64be01b2a5",
              "IPY_MODEL_3e62f1211c154b17b3929ffc7697135b",
              "IPY_MODEL_c88319db21cc46958757b2b7b2bd7227"
            ],
            "layout": "IPY_MODEL_9ef823ce53084770af608d3a772721b0"
          }
        },
        "d558a693230d43528b17ae64be01b2a5": {
          "model_module": "@jupyter-widgets/controls",
          "model_name": "HTMLModel",
          "model_module_version": "1.5.0",
          "state": {
            "_dom_classes": [],
            "_model_module": "@jupyter-widgets/controls",
            "_model_module_version": "1.5.0",
            "_model_name": "HTMLModel",
            "_view_count": null,
            "_view_module": "@jupyter-widgets/controls",
            "_view_module_version": "1.5.0",
            "_view_name": "HTMLView",
            "description": "",
            "description_tooltip": null,
            "layout": "IPY_MODEL_285ee597ec8f49039416abb1cd0d872e",
            "placeholder": "​",
            "style": "IPY_MODEL_c1b7c49af5dc4c07b2dad18768720440",
            "value": "Map: 100%"
          }
        },
        "3e62f1211c154b17b3929ffc7697135b": {
          "model_module": "@jupyter-widgets/controls",
          "model_name": "FloatProgressModel",
          "model_module_version": "1.5.0",
          "state": {
            "_dom_classes": [],
            "_model_module": "@jupyter-widgets/controls",
            "_model_module_version": "1.5.0",
            "_model_name": "FloatProgressModel",
            "_view_count": null,
            "_view_module": "@jupyter-widgets/controls",
            "_view_module_version": "1.5.0",
            "_view_name": "ProgressView",
            "bar_style": "success",
            "description": "",
            "description_tooltip": null,
            "layout": "IPY_MODEL_aa002cc8791847b6806d5d6d846f4a87",
            "max": 96,
            "min": 0,
            "orientation": "horizontal",
            "style": "IPY_MODEL_47e75b0d36014c3c9d63ffd1a746c431",
            "value": 96
          }
        },
        "c88319db21cc46958757b2b7b2bd7227": {
          "model_module": "@jupyter-widgets/controls",
          "model_name": "HTMLModel",
          "model_module_version": "1.5.0",
          "state": {
            "_dom_classes": [],
            "_model_module": "@jupyter-widgets/controls",
            "_model_module_version": "1.5.0",
            "_model_name": "HTMLModel",
            "_view_count": null,
            "_view_module": "@jupyter-widgets/controls",
            "_view_module_version": "1.5.0",
            "_view_name": "HTMLView",
            "description": "",
            "description_tooltip": null,
            "layout": "IPY_MODEL_3138142dcad04641a1d346ce1ccb0bb8",
            "placeholder": "​",
            "style": "IPY_MODEL_62d6e69b82c84ad5a55a972794ed6ff1",
            "value": " 96/96 [00:00&lt;00:00, 712.62 examples/s]"
          }
        },
        "9ef823ce53084770af608d3a772721b0": {
          "model_module": "@jupyter-widgets/base",
          "model_name": "LayoutModel",
          "model_module_version": "1.2.0",
          "state": {
            "_model_module": "@jupyter-widgets/base",
            "_model_module_version": "1.2.0",
            "_model_name": "LayoutModel",
            "_view_count": null,
            "_view_module": "@jupyter-widgets/base",
            "_view_module_version": "1.2.0",
            "_view_name": "LayoutView",
            "align_content": null,
            "align_items": null,
            "align_self": null,
            "border": null,
            "bottom": null,
            "display": null,
            "flex": null,
            "flex_flow": null,
            "grid_area": null,
            "grid_auto_columns": null,
            "grid_auto_flow": null,
            "grid_auto_rows": null,
            "grid_column": null,
            "grid_gap": null,
            "grid_row": null,
            "grid_template_areas": null,
            "grid_template_columns": null,
            "grid_template_rows": null,
            "height": null,
            "justify_content": null,
            "justify_items": null,
            "left": null,
            "margin": null,
            "max_height": null,
            "max_width": null,
            "min_height": null,
            "min_width": null,
            "object_fit": null,
            "object_position": null,
            "order": null,
            "overflow": null,
            "overflow_x": null,
            "overflow_y": null,
            "padding": null,
            "right": null,
            "top": null,
            "visibility": null,
            "width": null
          }
        },
        "285ee597ec8f49039416abb1cd0d872e": {
          "model_module": "@jupyter-widgets/base",
          "model_name": "LayoutModel",
          "model_module_version": "1.2.0",
          "state": {
            "_model_module": "@jupyter-widgets/base",
            "_model_module_version": "1.2.0",
            "_model_name": "LayoutModel",
            "_view_count": null,
            "_view_module": "@jupyter-widgets/base",
            "_view_module_version": "1.2.0",
            "_view_name": "LayoutView",
            "align_content": null,
            "align_items": null,
            "align_self": null,
            "border": null,
            "bottom": null,
            "display": null,
            "flex": null,
            "flex_flow": null,
            "grid_area": null,
            "grid_auto_columns": null,
            "grid_auto_flow": null,
            "grid_auto_rows": null,
            "grid_column": null,
            "grid_gap": null,
            "grid_row": null,
            "grid_template_areas": null,
            "grid_template_columns": null,
            "grid_template_rows": null,
            "height": null,
            "justify_content": null,
            "justify_items": null,
            "left": null,
            "margin": null,
            "max_height": null,
            "max_width": null,
            "min_height": null,
            "min_width": null,
            "object_fit": null,
            "object_position": null,
            "order": null,
            "overflow": null,
            "overflow_x": null,
            "overflow_y": null,
            "padding": null,
            "right": null,
            "top": null,
            "visibility": null,
            "width": null
          }
        },
        "c1b7c49af5dc4c07b2dad18768720440": {
          "model_module": "@jupyter-widgets/controls",
          "model_name": "DescriptionStyleModel",
          "model_module_version": "1.5.0",
          "state": {
            "_model_module": "@jupyter-widgets/controls",
            "_model_module_version": "1.5.0",
            "_model_name": "DescriptionStyleModel",
            "_view_count": null,
            "_view_module": "@jupyter-widgets/base",
            "_view_module_version": "1.2.0",
            "_view_name": "StyleView",
            "description_width": ""
          }
        },
        "aa002cc8791847b6806d5d6d846f4a87": {
          "model_module": "@jupyter-widgets/base",
          "model_name": "LayoutModel",
          "model_module_version": "1.2.0",
          "state": {
            "_model_module": "@jupyter-widgets/base",
            "_model_module_version": "1.2.0",
            "_model_name": "LayoutModel",
            "_view_count": null,
            "_view_module": "@jupyter-widgets/base",
            "_view_module_version": "1.2.0",
            "_view_name": "LayoutView",
            "align_content": null,
            "align_items": null,
            "align_self": null,
            "border": null,
            "bottom": null,
            "display": null,
            "flex": null,
            "flex_flow": null,
            "grid_area": null,
            "grid_auto_columns": null,
            "grid_auto_flow": null,
            "grid_auto_rows": null,
            "grid_column": null,
            "grid_gap": null,
            "grid_row": null,
            "grid_template_areas": null,
            "grid_template_columns": null,
            "grid_template_rows": null,
            "height": null,
            "justify_content": null,
            "justify_items": null,
            "left": null,
            "margin": null,
            "max_height": null,
            "max_width": null,
            "min_height": null,
            "min_width": null,
            "object_fit": null,
            "object_position": null,
            "order": null,
            "overflow": null,
            "overflow_x": null,
            "overflow_y": null,
            "padding": null,
            "right": null,
            "top": null,
            "visibility": null,
            "width": null
          }
        },
        "47e75b0d36014c3c9d63ffd1a746c431": {
          "model_module": "@jupyter-widgets/controls",
          "model_name": "ProgressStyleModel",
          "model_module_version": "1.5.0",
          "state": {
            "_model_module": "@jupyter-widgets/controls",
            "_model_module_version": "1.5.0",
            "_model_name": "ProgressStyleModel",
            "_view_count": null,
            "_view_module": "@jupyter-widgets/base",
            "_view_module_version": "1.2.0",
            "_view_name": "StyleView",
            "bar_color": null,
            "description_width": ""
          }
        },
        "3138142dcad04641a1d346ce1ccb0bb8": {
          "model_module": "@jupyter-widgets/base",
          "model_name": "LayoutModel",
          "model_module_version": "1.2.0",
          "state": {
            "_model_module": "@jupyter-widgets/base",
            "_model_module_version": "1.2.0",
            "_model_name": "LayoutModel",
            "_view_count": null,
            "_view_module": "@jupyter-widgets/base",
            "_view_module_version": "1.2.0",
            "_view_name": "LayoutView",
            "align_content": null,
            "align_items": null,
            "align_self": null,
            "border": null,
            "bottom": null,
            "display": null,
            "flex": null,
            "flex_flow": null,
            "grid_area": null,
            "grid_auto_columns": null,
            "grid_auto_flow": null,
            "grid_auto_rows": null,
            "grid_column": null,
            "grid_gap": null,
            "grid_row": null,
            "grid_template_areas": null,
            "grid_template_columns": null,
            "grid_template_rows": null,
            "height": null,
            "justify_content": null,
            "justify_items": null,
            "left": null,
            "margin": null,
            "max_height": null,
            "max_width": null,
            "min_height": null,
            "min_width": null,
            "object_fit": null,
            "object_position": null,
            "order": null,
            "overflow": null,
            "overflow_x": null,
            "overflow_y": null,
            "padding": null,
            "right": null,
            "top": null,
            "visibility": null,
            "width": null
          }
        },
        "62d6e69b82c84ad5a55a972794ed6ff1": {
          "model_module": "@jupyter-widgets/controls",
          "model_name": "DescriptionStyleModel",
          "model_module_version": "1.5.0",
          "state": {
            "_model_module": "@jupyter-widgets/controls",
            "_model_module_version": "1.5.0",
            "_model_name": "DescriptionStyleModel",
            "_view_count": null,
            "_view_module": "@jupyter-widgets/base",
            "_view_module_version": "1.2.0",
            "_view_name": "StyleView",
            "description_width": ""
          }
        },
        "583b562d54634274ae06e942e63d13c3": {
          "model_module": "@jupyter-widgets/controls",
          "model_name": "HBoxModel",
          "model_module_version": "1.5.0",
          "state": {
            "_dom_classes": [],
            "_model_module": "@jupyter-widgets/controls",
            "_model_module_version": "1.5.0",
            "_model_name": "HBoxModel",
            "_view_count": null,
            "_view_module": "@jupyter-widgets/controls",
            "_view_module_version": "1.5.0",
            "_view_name": "HBoxView",
            "box_style": "",
            "children": [
              "IPY_MODEL_783cba9ff55942e4954c5e3c34e52aaa",
              "IPY_MODEL_9d329759e69f4049b38f1dde6dae6644",
              "IPY_MODEL_cb79ff37940843fa9262e0115ee04e4e"
            ],
            "layout": "IPY_MODEL_c105a8428ba640abb66f875e3406fe97"
          }
        },
        "783cba9ff55942e4954c5e3c34e52aaa": {
          "model_module": "@jupyter-widgets/controls",
          "model_name": "HTMLModel",
          "model_module_version": "1.5.0",
          "state": {
            "_dom_classes": [],
            "_model_module": "@jupyter-widgets/controls",
            "_model_module_version": "1.5.0",
            "_model_name": "HTMLModel",
            "_view_count": null,
            "_view_module": "@jupyter-widgets/controls",
            "_view_module_version": "1.5.0",
            "_view_name": "HTMLView",
            "description": "",
            "description_tooltip": null,
            "layout": "IPY_MODEL_68ec2b037a4a4770981a42e227c02cb0",
            "placeholder": "​",
            "style": "IPY_MODEL_99d6cee4021543198c9f5d860c55af39",
            "value": "Map: 100%"
          }
        },
        "9d329759e69f4049b38f1dde6dae6644": {
          "model_module": "@jupyter-widgets/controls",
          "model_name": "FloatProgressModel",
          "model_module_version": "1.5.0",
          "state": {
            "_dom_classes": [],
            "_model_module": "@jupyter-widgets/controls",
            "_model_module_version": "1.5.0",
            "_model_name": "FloatProgressModel",
            "_view_count": null,
            "_view_module": "@jupyter-widgets/controls",
            "_view_module_version": "1.5.0",
            "_view_name": "ProgressView",
            "bar_style": "success",
            "description": "",
            "description_tooltip": null,
            "layout": "IPY_MODEL_a2b6a4dd02e546a7a333e61e62d1bbfb",
            "max": 12,
            "min": 0,
            "orientation": "horizontal",
            "style": "IPY_MODEL_55c154f2487f4c5fac827016ab832e0d",
            "value": 12
          }
        },
        "cb79ff37940843fa9262e0115ee04e4e": {
          "model_module": "@jupyter-widgets/controls",
          "model_name": "HTMLModel",
          "model_module_version": "1.5.0",
          "state": {
            "_dom_classes": [],
            "_model_module": "@jupyter-widgets/controls",
            "_model_module_version": "1.5.0",
            "_model_name": "HTMLModel",
            "_view_count": null,
            "_view_module": "@jupyter-widgets/controls",
            "_view_module_version": "1.5.0",
            "_view_name": "HTMLView",
            "description": "",
            "description_tooltip": null,
            "layout": "IPY_MODEL_029f3e9e00074df7a40585ad57d13377",
            "placeholder": "​",
            "style": "IPY_MODEL_f928634c6071454f9448327b006106e2",
            "value": " 12/12 [00:00&lt;00:00, 367.17 examples/s]"
          }
        },
        "c105a8428ba640abb66f875e3406fe97": {
          "model_module": "@jupyter-widgets/base",
          "model_name": "LayoutModel",
          "model_module_version": "1.2.0",
          "state": {
            "_model_module": "@jupyter-widgets/base",
            "_model_module_version": "1.2.0",
            "_model_name": "LayoutModel",
            "_view_count": null,
            "_view_module": "@jupyter-widgets/base",
            "_view_module_version": "1.2.0",
            "_view_name": "LayoutView",
            "align_content": null,
            "align_items": null,
            "align_self": null,
            "border": null,
            "bottom": null,
            "display": null,
            "flex": null,
            "flex_flow": null,
            "grid_area": null,
            "grid_auto_columns": null,
            "grid_auto_flow": null,
            "grid_auto_rows": null,
            "grid_column": null,
            "grid_gap": null,
            "grid_row": null,
            "grid_template_areas": null,
            "grid_template_columns": null,
            "grid_template_rows": null,
            "height": null,
            "justify_content": null,
            "justify_items": null,
            "left": null,
            "margin": null,
            "max_height": null,
            "max_width": null,
            "min_height": null,
            "min_width": null,
            "object_fit": null,
            "object_position": null,
            "order": null,
            "overflow": null,
            "overflow_x": null,
            "overflow_y": null,
            "padding": null,
            "right": null,
            "top": null,
            "visibility": null,
            "width": null
          }
        },
        "68ec2b037a4a4770981a42e227c02cb0": {
          "model_module": "@jupyter-widgets/base",
          "model_name": "LayoutModel",
          "model_module_version": "1.2.0",
          "state": {
            "_model_module": "@jupyter-widgets/base",
            "_model_module_version": "1.2.0",
            "_model_name": "LayoutModel",
            "_view_count": null,
            "_view_module": "@jupyter-widgets/base",
            "_view_module_version": "1.2.0",
            "_view_name": "LayoutView",
            "align_content": null,
            "align_items": null,
            "align_self": null,
            "border": null,
            "bottom": null,
            "display": null,
            "flex": null,
            "flex_flow": null,
            "grid_area": null,
            "grid_auto_columns": null,
            "grid_auto_flow": null,
            "grid_auto_rows": null,
            "grid_column": null,
            "grid_gap": null,
            "grid_row": null,
            "grid_template_areas": null,
            "grid_template_columns": null,
            "grid_template_rows": null,
            "height": null,
            "justify_content": null,
            "justify_items": null,
            "left": null,
            "margin": null,
            "max_height": null,
            "max_width": null,
            "min_height": null,
            "min_width": null,
            "object_fit": null,
            "object_position": null,
            "order": null,
            "overflow": null,
            "overflow_x": null,
            "overflow_y": null,
            "padding": null,
            "right": null,
            "top": null,
            "visibility": null,
            "width": null
          }
        },
        "99d6cee4021543198c9f5d860c55af39": {
          "model_module": "@jupyter-widgets/controls",
          "model_name": "DescriptionStyleModel",
          "model_module_version": "1.5.0",
          "state": {
            "_model_module": "@jupyter-widgets/controls",
            "_model_module_version": "1.5.0",
            "_model_name": "DescriptionStyleModel",
            "_view_count": null,
            "_view_module": "@jupyter-widgets/base",
            "_view_module_version": "1.2.0",
            "_view_name": "StyleView",
            "description_width": ""
          }
        },
        "a2b6a4dd02e546a7a333e61e62d1bbfb": {
          "model_module": "@jupyter-widgets/base",
          "model_name": "LayoutModel",
          "model_module_version": "1.2.0",
          "state": {
            "_model_module": "@jupyter-widgets/base",
            "_model_module_version": "1.2.0",
            "_model_name": "LayoutModel",
            "_view_count": null,
            "_view_module": "@jupyter-widgets/base",
            "_view_module_version": "1.2.0",
            "_view_name": "LayoutView",
            "align_content": null,
            "align_items": null,
            "align_self": null,
            "border": null,
            "bottom": null,
            "display": null,
            "flex": null,
            "flex_flow": null,
            "grid_area": null,
            "grid_auto_columns": null,
            "grid_auto_flow": null,
            "grid_auto_rows": null,
            "grid_column": null,
            "grid_gap": null,
            "grid_row": null,
            "grid_template_areas": null,
            "grid_template_columns": null,
            "grid_template_rows": null,
            "height": null,
            "justify_content": null,
            "justify_items": null,
            "left": null,
            "margin": null,
            "max_height": null,
            "max_width": null,
            "min_height": null,
            "min_width": null,
            "object_fit": null,
            "object_position": null,
            "order": null,
            "overflow": null,
            "overflow_x": null,
            "overflow_y": null,
            "padding": null,
            "right": null,
            "top": null,
            "visibility": null,
            "width": null
          }
        },
        "55c154f2487f4c5fac827016ab832e0d": {
          "model_module": "@jupyter-widgets/controls",
          "model_name": "ProgressStyleModel",
          "model_module_version": "1.5.0",
          "state": {
            "_model_module": "@jupyter-widgets/controls",
            "_model_module_version": "1.5.0",
            "_model_name": "ProgressStyleModel",
            "_view_count": null,
            "_view_module": "@jupyter-widgets/base",
            "_view_module_version": "1.2.0",
            "_view_name": "StyleView",
            "bar_color": null,
            "description_width": ""
          }
        },
        "029f3e9e00074df7a40585ad57d13377": {
          "model_module": "@jupyter-widgets/base",
          "model_name": "LayoutModel",
          "model_module_version": "1.2.0",
          "state": {
            "_model_module": "@jupyter-widgets/base",
            "_model_module_version": "1.2.0",
            "_model_name": "LayoutModel",
            "_view_count": null,
            "_view_module": "@jupyter-widgets/base",
            "_view_module_version": "1.2.0",
            "_view_name": "LayoutView",
            "align_content": null,
            "align_items": null,
            "align_self": null,
            "border": null,
            "bottom": null,
            "display": null,
            "flex": null,
            "flex_flow": null,
            "grid_area": null,
            "grid_auto_columns": null,
            "grid_auto_flow": null,
            "grid_auto_rows": null,
            "grid_column": null,
            "grid_gap": null,
            "grid_row": null,
            "grid_template_areas": null,
            "grid_template_columns": null,
            "grid_template_rows": null,
            "height": null,
            "justify_content": null,
            "justify_items": null,
            "left": null,
            "margin": null,
            "max_height": null,
            "max_width": null,
            "min_height": null,
            "min_width": null,
            "object_fit": null,
            "object_position": null,
            "order": null,
            "overflow": null,
            "overflow_x": null,
            "overflow_y": null,
            "padding": null,
            "right": null,
            "top": null,
            "visibility": null,
            "width": null
          }
        },
        "f928634c6071454f9448327b006106e2": {
          "model_module": "@jupyter-widgets/controls",
          "model_name": "DescriptionStyleModel",
          "model_module_version": "1.5.0",
          "state": {
            "_model_module": "@jupyter-widgets/controls",
            "_model_module_version": "1.5.0",
            "_model_name": "DescriptionStyleModel",
            "_view_count": null,
            "_view_module": "@jupyter-widgets/base",
            "_view_module_version": "1.2.0",
            "_view_name": "StyleView",
            "description_width": ""
          }
        },
        "d5bad62ea1594bb18767e312eb9d1716": {
          "model_module": "@jupyter-widgets/controls",
          "model_name": "HBoxModel",
          "model_module_version": "1.5.0",
          "state": {
            "_dom_classes": [],
            "_model_module": "@jupyter-widgets/controls",
            "_model_module_version": "1.5.0",
            "_model_name": "HBoxModel",
            "_view_count": null,
            "_view_module": "@jupyter-widgets/controls",
            "_view_module_version": "1.5.0",
            "_view_name": "HBoxView",
            "box_style": "",
            "children": [
              "IPY_MODEL_84eda4cb0c064c02af4801a9910c047c",
              "IPY_MODEL_2d986bd56d7f4e0681f243fa9a03c5b8",
              "IPY_MODEL_dd418fda377946f7b689cf11ae6ae382"
            ],
            "layout": "IPY_MODEL_951b175a1ec14120a099b7d0fee07a4e"
          }
        },
        "84eda4cb0c064c02af4801a9910c047c": {
          "model_module": "@jupyter-widgets/controls",
          "model_name": "HTMLModel",
          "model_module_version": "1.5.0",
          "state": {
            "_dom_classes": [],
            "_model_module": "@jupyter-widgets/controls",
            "_model_module_version": "1.5.0",
            "_model_name": "HTMLModel",
            "_view_count": null,
            "_view_module": "@jupyter-widgets/controls",
            "_view_module_version": "1.5.0",
            "_view_name": "HTMLView",
            "description": "",
            "description_tooltip": null,
            "layout": "IPY_MODEL_1ed83bbf39084e58b2e749f923c8c657",
            "placeholder": "​",
            "style": "IPY_MODEL_2c5d5e0760b441c2a5deb0de88fdd92d",
            "value": "Map: 100%"
          }
        },
        "2d986bd56d7f4e0681f243fa9a03c5b8": {
          "model_module": "@jupyter-widgets/controls",
          "model_name": "FloatProgressModel",
          "model_module_version": "1.5.0",
          "state": {
            "_dom_classes": [],
            "_model_module": "@jupyter-widgets/controls",
            "_model_module_version": "1.5.0",
            "_model_name": "FloatProgressModel",
            "_view_count": null,
            "_view_module": "@jupyter-widgets/controls",
            "_view_module_version": "1.5.0",
            "_view_name": "ProgressView",
            "bar_style": "success",
            "description": "",
            "description_tooltip": null,
            "layout": "IPY_MODEL_6dafdf4ea88b41b6a777b2097c9c6480",
            "max": 12,
            "min": 0,
            "orientation": "horizontal",
            "style": "IPY_MODEL_8774ee11c7174820a45fb718b4863a29",
            "value": 12
          }
        },
        "dd418fda377946f7b689cf11ae6ae382": {
          "model_module": "@jupyter-widgets/controls",
          "model_name": "HTMLModel",
          "model_module_version": "1.5.0",
          "state": {
            "_dom_classes": [],
            "_model_module": "@jupyter-widgets/controls",
            "_model_module_version": "1.5.0",
            "_model_name": "HTMLModel",
            "_view_count": null,
            "_view_module": "@jupyter-widgets/controls",
            "_view_module_version": "1.5.0",
            "_view_name": "HTMLView",
            "description": "",
            "description_tooltip": null,
            "layout": "IPY_MODEL_767288e49b8a4cf5a9d12b8c0d859639",
            "placeholder": "​",
            "style": "IPY_MODEL_35f63ac5c6dc46a8b5b886407cb18955",
            "value": " 12/12 [00:00&lt;00:00, 316.55 examples/s]"
          }
        },
        "951b175a1ec14120a099b7d0fee07a4e": {
          "model_module": "@jupyter-widgets/base",
          "model_name": "LayoutModel",
          "model_module_version": "1.2.0",
          "state": {
            "_model_module": "@jupyter-widgets/base",
            "_model_module_version": "1.2.0",
            "_model_name": "LayoutModel",
            "_view_count": null,
            "_view_module": "@jupyter-widgets/base",
            "_view_module_version": "1.2.0",
            "_view_name": "LayoutView",
            "align_content": null,
            "align_items": null,
            "align_self": null,
            "border": null,
            "bottom": null,
            "display": null,
            "flex": null,
            "flex_flow": null,
            "grid_area": null,
            "grid_auto_columns": null,
            "grid_auto_flow": null,
            "grid_auto_rows": null,
            "grid_column": null,
            "grid_gap": null,
            "grid_row": null,
            "grid_template_areas": null,
            "grid_template_columns": null,
            "grid_template_rows": null,
            "height": null,
            "justify_content": null,
            "justify_items": null,
            "left": null,
            "margin": null,
            "max_height": null,
            "max_width": null,
            "min_height": null,
            "min_width": null,
            "object_fit": null,
            "object_position": null,
            "order": null,
            "overflow": null,
            "overflow_x": null,
            "overflow_y": null,
            "padding": null,
            "right": null,
            "top": null,
            "visibility": null,
            "width": null
          }
        },
        "1ed83bbf39084e58b2e749f923c8c657": {
          "model_module": "@jupyter-widgets/base",
          "model_name": "LayoutModel",
          "model_module_version": "1.2.0",
          "state": {
            "_model_module": "@jupyter-widgets/base",
            "_model_module_version": "1.2.0",
            "_model_name": "LayoutModel",
            "_view_count": null,
            "_view_module": "@jupyter-widgets/base",
            "_view_module_version": "1.2.0",
            "_view_name": "LayoutView",
            "align_content": null,
            "align_items": null,
            "align_self": null,
            "border": null,
            "bottom": null,
            "display": null,
            "flex": null,
            "flex_flow": null,
            "grid_area": null,
            "grid_auto_columns": null,
            "grid_auto_flow": null,
            "grid_auto_rows": null,
            "grid_column": null,
            "grid_gap": null,
            "grid_row": null,
            "grid_template_areas": null,
            "grid_template_columns": null,
            "grid_template_rows": null,
            "height": null,
            "justify_content": null,
            "justify_items": null,
            "left": null,
            "margin": null,
            "max_height": null,
            "max_width": null,
            "min_height": null,
            "min_width": null,
            "object_fit": null,
            "object_position": null,
            "order": null,
            "overflow": null,
            "overflow_x": null,
            "overflow_y": null,
            "padding": null,
            "right": null,
            "top": null,
            "visibility": null,
            "width": null
          }
        },
        "2c5d5e0760b441c2a5deb0de88fdd92d": {
          "model_module": "@jupyter-widgets/controls",
          "model_name": "DescriptionStyleModel",
          "model_module_version": "1.5.0",
          "state": {
            "_model_module": "@jupyter-widgets/controls",
            "_model_module_version": "1.5.0",
            "_model_name": "DescriptionStyleModel",
            "_view_count": null,
            "_view_module": "@jupyter-widgets/base",
            "_view_module_version": "1.2.0",
            "_view_name": "StyleView",
            "description_width": ""
          }
        },
        "6dafdf4ea88b41b6a777b2097c9c6480": {
          "model_module": "@jupyter-widgets/base",
          "model_name": "LayoutModel",
          "model_module_version": "1.2.0",
          "state": {
            "_model_module": "@jupyter-widgets/base",
            "_model_module_version": "1.2.0",
            "_model_name": "LayoutModel",
            "_view_count": null,
            "_view_module": "@jupyter-widgets/base",
            "_view_module_version": "1.2.0",
            "_view_name": "LayoutView",
            "align_content": null,
            "align_items": null,
            "align_self": null,
            "border": null,
            "bottom": null,
            "display": null,
            "flex": null,
            "flex_flow": null,
            "grid_area": null,
            "grid_auto_columns": null,
            "grid_auto_flow": null,
            "grid_auto_rows": null,
            "grid_column": null,
            "grid_gap": null,
            "grid_row": null,
            "grid_template_areas": null,
            "grid_template_columns": null,
            "grid_template_rows": null,
            "height": null,
            "justify_content": null,
            "justify_items": null,
            "left": null,
            "margin": null,
            "max_height": null,
            "max_width": null,
            "min_height": null,
            "min_width": null,
            "object_fit": null,
            "object_position": null,
            "order": null,
            "overflow": null,
            "overflow_x": null,
            "overflow_y": null,
            "padding": null,
            "right": null,
            "top": null,
            "visibility": null,
            "width": null
          }
        },
        "8774ee11c7174820a45fb718b4863a29": {
          "model_module": "@jupyter-widgets/controls",
          "model_name": "ProgressStyleModel",
          "model_module_version": "1.5.0",
          "state": {
            "_model_module": "@jupyter-widgets/controls",
            "_model_module_version": "1.5.0",
            "_model_name": "ProgressStyleModel",
            "_view_count": null,
            "_view_module": "@jupyter-widgets/base",
            "_view_module_version": "1.2.0",
            "_view_name": "StyleView",
            "bar_color": null,
            "description_width": ""
          }
        },
        "767288e49b8a4cf5a9d12b8c0d859639": {
          "model_module": "@jupyter-widgets/base",
          "model_name": "LayoutModel",
          "model_module_version": "1.2.0",
          "state": {
            "_model_module": "@jupyter-widgets/base",
            "_model_module_version": "1.2.0",
            "_model_name": "LayoutModel",
            "_view_count": null,
            "_view_module": "@jupyter-widgets/base",
            "_view_module_version": "1.2.0",
            "_view_name": "LayoutView",
            "align_content": null,
            "align_items": null,
            "align_self": null,
            "border": null,
            "bottom": null,
            "display": null,
            "flex": null,
            "flex_flow": null,
            "grid_area": null,
            "grid_auto_columns": null,
            "grid_auto_flow": null,
            "grid_auto_rows": null,
            "grid_column": null,
            "grid_gap": null,
            "grid_row": null,
            "grid_template_areas": null,
            "grid_template_columns": null,
            "grid_template_rows": null,
            "height": null,
            "justify_content": null,
            "justify_items": null,
            "left": null,
            "margin": null,
            "max_height": null,
            "max_width": null,
            "min_height": null,
            "min_width": null,
            "object_fit": null,
            "object_position": null,
            "order": null,
            "overflow": null,
            "overflow_x": null,
            "overflow_y": null,
            "padding": null,
            "right": null,
            "top": null,
            "visibility": null,
            "width": null
          }
        },
        "35f63ac5c6dc46a8b5b886407cb18955": {
          "model_module": "@jupyter-widgets/controls",
          "model_name": "DescriptionStyleModel",
          "model_module_version": "1.5.0",
          "state": {
            "_model_module": "@jupyter-widgets/controls",
            "_model_module_version": "1.5.0",
            "_model_name": "DescriptionStyleModel",
            "_view_count": null,
            "_view_module": "@jupyter-widgets/base",
            "_view_module_version": "1.2.0",
            "_view_name": "StyleView",
            "description_width": ""
          }
        },
        "44b7d30f545e4462ba0121f846ab5bef": {
          "model_module": "@jupyter-widgets/controls",
          "model_name": "HBoxModel",
          "model_module_version": "1.5.0",
          "state": {
            "_dom_classes": [],
            "_model_module": "@jupyter-widgets/controls",
            "_model_module_version": "1.5.0",
            "_model_name": "HBoxModel",
            "_view_count": null,
            "_view_module": "@jupyter-widgets/controls",
            "_view_module_version": "1.5.0",
            "_view_name": "HBoxView",
            "box_style": "",
            "children": [
              "IPY_MODEL_fcfc8c558d14487098c346f1592f2697",
              "IPY_MODEL_834a8609b85c4df59a166b8b1f324a87",
              "IPY_MODEL_14a063f4ebf249df9b5ca78c3b39c8b1"
            ],
            "layout": "IPY_MODEL_5a1b134cff6f46f9b88dbbebbf184fed"
          }
        },
        "fcfc8c558d14487098c346f1592f2697": {
          "model_module": "@jupyter-widgets/controls",
          "model_name": "HTMLModel",
          "model_module_version": "1.5.0",
          "state": {
            "_dom_classes": [],
            "_model_module": "@jupyter-widgets/controls",
            "_model_module_version": "1.5.0",
            "_model_name": "HTMLModel",
            "_view_count": null,
            "_view_module": "@jupyter-widgets/controls",
            "_view_module_version": "1.5.0",
            "_view_name": "HTMLView",
            "description": "",
            "description_tooltip": null,
            "layout": "IPY_MODEL_268f2227ebb5412e8e0e34a965fc1975",
            "placeholder": "​",
            "style": "IPY_MODEL_425ce399ace944e297cf2dcd8288d55e",
            "value": "model.safetensors: 100%"
          }
        },
        "834a8609b85c4df59a166b8b1f324a87": {
          "model_module": "@jupyter-widgets/controls",
          "model_name": "FloatProgressModel",
          "model_module_version": "1.5.0",
          "state": {
            "_dom_classes": [],
            "_model_module": "@jupyter-widgets/controls",
            "_model_module_version": "1.5.0",
            "_model_name": "FloatProgressModel",
            "_view_count": null,
            "_view_module": "@jupyter-widgets/controls",
            "_view_module_version": "1.5.0",
            "_view_name": "ProgressView",
            "bar_style": "success",
            "description": "",
            "description_tooltip": null,
            "layout": "IPY_MODEL_e8b77f340bb349b497b1fcf3f118a8ac",
            "max": 597241956,
            "min": 0,
            "orientation": "horizontal",
            "style": "IPY_MODEL_11021c5de0174d86a3e20b3d63d6549e",
            "value": 597241956
          }
        },
        "14a063f4ebf249df9b5ca78c3b39c8b1": {
          "model_module": "@jupyter-widgets/controls",
          "model_name": "HTMLModel",
          "model_module_version": "1.5.0",
          "state": {
            "_dom_classes": [],
            "_model_module": "@jupyter-widgets/controls",
            "_model_module_version": "1.5.0",
            "_model_name": "HTMLModel",
            "_view_count": null,
            "_view_module": "@jupyter-widgets/controls",
            "_view_module_version": "1.5.0",
            "_view_name": "HTMLView",
            "description": "",
            "description_tooltip": null,
            "layout": "IPY_MODEL_b4896a535e7f4541839b0454f44f6a47",
            "placeholder": "​",
            "style": "IPY_MODEL_949262118fa94728aaddcf538ed9033d",
            "value": " 597M/597M [00:02&lt;00:00, 244MB/s]"
          }
        },
        "5a1b134cff6f46f9b88dbbebbf184fed": {
          "model_module": "@jupyter-widgets/base",
          "model_name": "LayoutModel",
          "model_module_version": "1.2.0",
          "state": {
            "_model_module": "@jupyter-widgets/base",
            "_model_module_version": "1.2.0",
            "_model_name": "LayoutModel",
            "_view_count": null,
            "_view_module": "@jupyter-widgets/base",
            "_view_module_version": "1.2.0",
            "_view_name": "LayoutView",
            "align_content": null,
            "align_items": null,
            "align_self": null,
            "border": null,
            "bottom": null,
            "display": null,
            "flex": null,
            "flex_flow": null,
            "grid_area": null,
            "grid_auto_columns": null,
            "grid_auto_flow": null,
            "grid_auto_rows": null,
            "grid_column": null,
            "grid_gap": null,
            "grid_row": null,
            "grid_template_areas": null,
            "grid_template_columns": null,
            "grid_template_rows": null,
            "height": null,
            "justify_content": null,
            "justify_items": null,
            "left": null,
            "margin": null,
            "max_height": null,
            "max_width": null,
            "min_height": null,
            "min_width": null,
            "object_fit": null,
            "object_position": null,
            "order": null,
            "overflow": null,
            "overflow_x": null,
            "overflow_y": null,
            "padding": null,
            "right": null,
            "top": null,
            "visibility": null,
            "width": null
          }
        },
        "268f2227ebb5412e8e0e34a965fc1975": {
          "model_module": "@jupyter-widgets/base",
          "model_name": "LayoutModel",
          "model_module_version": "1.2.0",
          "state": {
            "_model_module": "@jupyter-widgets/base",
            "_model_module_version": "1.2.0",
            "_model_name": "LayoutModel",
            "_view_count": null,
            "_view_module": "@jupyter-widgets/base",
            "_view_module_version": "1.2.0",
            "_view_name": "LayoutView",
            "align_content": null,
            "align_items": null,
            "align_self": null,
            "border": null,
            "bottom": null,
            "display": null,
            "flex": null,
            "flex_flow": null,
            "grid_area": null,
            "grid_auto_columns": null,
            "grid_auto_flow": null,
            "grid_auto_rows": null,
            "grid_column": null,
            "grid_gap": null,
            "grid_row": null,
            "grid_template_areas": null,
            "grid_template_columns": null,
            "grid_template_rows": null,
            "height": null,
            "justify_content": null,
            "justify_items": null,
            "left": null,
            "margin": null,
            "max_height": null,
            "max_width": null,
            "min_height": null,
            "min_width": null,
            "object_fit": null,
            "object_position": null,
            "order": null,
            "overflow": null,
            "overflow_x": null,
            "overflow_y": null,
            "padding": null,
            "right": null,
            "top": null,
            "visibility": null,
            "width": null
          }
        },
        "425ce399ace944e297cf2dcd8288d55e": {
          "model_module": "@jupyter-widgets/controls",
          "model_name": "DescriptionStyleModel",
          "model_module_version": "1.5.0",
          "state": {
            "_model_module": "@jupyter-widgets/controls",
            "_model_module_version": "1.5.0",
            "_model_name": "DescriptionStyleModel",
            "_view_count": null,
            "_view_module": "@jupyter-widgets/base",
            "_view_module_version": "1.2.0",
            "_view_name": "StyleView",
            "description_width": ""
          }
        },
        "e8b77f340bb349b497b1fcf3f118a8ac": {
          "model_module": "@jupyter-widgets/base",
          "model_name": "LayoutModel",
          "model_module_version": "1.2.0",
          "state": {
            "_model_module": "@jupyter-widgets/base",
            "_model_module_version": "1.2.0",
            "_model_name": "LayoutModel",
            "_view_count": null,
            "_view_module": "@jupyter-widgets/base",
            "_view_module_version": "1.2.0",
            "_view_name": "LayoutView",
            "align_content": null,
            "align_items": null,
            "align_self": null,
            "border": null,
            "bottom": null,
            "display": null,
            "flex": null,
            "flex_flow": null,
            "grid_area": null,
            "grid_auto_columns": null,
            "grid_auto_flow": null,
            "grid_auto_rows": null,
            "grid_column": null,
            "grid_gap": null,
            "grid_row": null,
            "grid_template_areas": null,
            "grid_template_columns": null,
            "grid_template_rows": null,
            "height": null,
            "justify_content": null,
            "justify_items": null,
            "left": null,
            "margin": null,
            "max_height": null,
            "max_width": null,
            "min_height": null,
            "min_width": null,
            "object_fit": null,
            "object_position": null,
            "order": null,
            "overflow": null,
            "overflow_x": null,
            "overflow_y": null,
            "padding": null,
            "right": null,
            "top": null,
            "visibility": null,
            "width": null
          }
        },
        "11021c5de0174d86a3e20b3d63d6549e": {
          "model_module": "@jupyter-widgets/controls",
          "model_name": "ProgressStyleModel",
          "model_module_version": "1.5.0",
          "state": {
            "_model_module": "@jupyter-widgets/controls",
            "_model_module_version": "1.5.0",
            "_model_name": "ProgressStyleModel",
            "_view_count": null,
            "_view_module": "@jupyter-widgets/base",
            "_view_module_version": "1.2.0",
            "_view_name": "StyleView",
            "bar_color": null,
            "description_width": ""
          }
        },
        "b4896a535e7f4541839b0454f44f6a47": {
          "model_module": "@jupyter-widgets/base",
          "model_name": "LayoutModel",
          "model_module_version": "1.2.0",
          "state": {
            "_model_module": "@jupyter-widgets/base",
            "_model_module_version": "1.2.0",
            "_model_name": "LayoutModel",
            "_view_count": null,
            "_view_module": "@jupyter-widgets/base",
            "_view_module_version": "1.2.0",
            "_view_name": "LayoutView",
            "align_content": null,
            "align_items": null,
            "align_self": null,
            "border": null,
            "bottom": null,
            "display": null,
            "flex": null,
            "flex_flow": null,
            "grid_area": null,
            "grid_auto_columns": null,
            "grid_auto_flow": null,
            "grid_auto_rows": null,
            "grid_column": null,
            "grid_gap": null,
            "grid_row": null,
            "grid_template_areas": null,
            "grid_template_columns": null,
            "grid_template_rows": null,
            "height": null,
            "justify_content": null,
            "justify_items": null,
            "left": null,
            "margin": null,
            "max_height": null,
            "max_width": null,
            "min_height": null,
            "min_width": null,
            "object_fit": null,
            "object_position": null,
            "order": null,
            "overflow": null,
            "overflow_x": null,
            "overflow_y": null,
            "padding": null,
            "right": null,
            "top": null,
            "visibility": null,
            "width": null
          }
        },
        "949262118fa94728aaddcf538ed9033d": {
          "model_module": "@jupyter-widgets/controls",
          "model_name": "DescriptionStyleModel",
          "model_module_version": "1.5.0",
          "state": {
            "_model_module": "@jupyter-widgets/controls",
            "_model_module_version": "1.5.0",
            "_model_name": "DescriptionStyleModel",
            "_view_count": null,
            "_view_module": "@jupyter-widgets/base",
            "_view_module_version": "1.2.0",
            "_view_name": "StyleView",
            "description_width": ""
          }
        }
      }
    }
  },
  "nbformat": 4,
  "nbformat_minor": 0
}