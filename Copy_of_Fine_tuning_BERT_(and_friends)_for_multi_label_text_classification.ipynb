{
  "nbformat": 4,
  "nbformat_minor": 0,
  "metadata": {
    "colab": {
      "provenance": [],
      "gpuType": "T4",
      "include_colab_link": true
    },
    "kernelspec": {
      "name": "python3",
      "display_name": "Python 3"
    },
    "language_info": {
      "name": "python"
    },
    "widgets": {
      "application/vnd.jupyter.widget-state+json": {
        "571e8ef01c86429c919259d91f9b104f": {
          "model_module": "@jupyter-widgets/controls",
          "model_name": "HBoxModel",
          "model_module_version": "1.5.0",
          "state": {
            "_dom_classes": [],
            "_model_module": "@jupyter-widgets/controls",
            "_model_module_version": "1.5.0",
            "_model_name": "HBoxModel",
            "_view_count": null,
            "_view_module": "@jupyter-widgets/controls",
            "_view_module_version": "1.5.0",
            "_view_name": "HBoxView",
            "box_style": "",
            "children": [
              "IPY_MODEL_96474dda53e7460dbe259a16867afb23",
              "IPY_MODEL_c9135cb0549549c69739e887a424e1f9",
              "IPY_MODEL_f738c57bf54745c9b3c8ff64fb82bc91"
            ],
            "layout": "IPY_MODEL_fce47380b8204a37a1409e4c5bb36776"
          }
        },
        "96474dda53e7460dbe259a16867afb23": {
          "model_module": "@jupyter-widgets/controls",
          "model_name": "HTMLModel",
          "model_module_version": "1.5.0",
          "state": {
            "_dom_classes": [],
            "_model_module": "@jupyter-widgets/controls",
            "_model_module_version": "1.5.0",
            "_model_name": "HTMLModel",
            "_view_count": null,
            "_view_module": "@jupyter-widgets/controls",
            "_view_module_version": "1.5.0",
            "_view_name": "HTMLView",
            "description": "",
            "description_tooltip": null,
            "layout": "IPY_MODEL_e1eccb2796354c1a90d8a4998eb8fda2",
            "placeholder": "​",
            "style": "IPY_MODEL_855d4c74726f4d52aa2abca404b2c37c",
            "value": "Map: 100%"
          }
        },
        "c9135cb0549549c69739e887a424e1f9": {
          "model_module": "@jupyter-widgets/controls",
          "model_name": "FloatProgressModel",
          "model_module_version": "1.5.0",
          "state": {
            "_dom_classes": [],
            "_model_module": "@jupyter-widgets/controls",
            "_model_module_version": "1.5.0",
            "_model_name": "FloatProgressModel",
            "_view_count": null,
            "_view_module": "@jupyter-widgets/controls",
            "_view_module_version": "1.5.0",
            "_view_name": "ProgressView",
            "bar_style": "success",
            "description": "",
            "description_tooltip": null,
            "layout": "IPY_MODEL_874af241ad434328a0d92eab14f1a1cd",
            "max": 128,
            "min": 0,
            "orientation": "horizontal",
            "style": "IPY_MODEL_606879368d7d4476a6110817cdf88626",
            "value": 128
          }
        },
        "f738c57bf54745c9b3c8ff64fb82bc91": {
          "model_module": "@jupyter-widgets/controls",
          "model_name": "HTMLModel",
          "model_module_version": "1.5.0",
          "state": {
            "_dom_classes": [],
            "_model_module": "@jupyter-widgets/controls",
            "_model_module_version": "1.5.0",
            "_model_name": "HTMLModel",
            "_view_count": null,
            "_view_module": "@jupyter-widgets/controls",
            "_view_module_version": "1.5.0",
            "_view_name": "HTMLView",
            "description": "",
            "description_tooltip": null,
            "layout": "IPY_MODEL_d5dc9ed5174f4cdfa0d71568d4ac4ad3",
            "placeholder": "​",
            "style": "IPY_MODEL_92bd5f8a3dc04823a7b4e5e842e7678d",
            "value": " 128/128 [00:00&lt;00:00, 459.42 examples/s]"
          }
        },
        "fce47380b8204a37a1409e4c5bb36776": {
          "model_module": "@jupyter-widgets/base",
          "model_name": "LayoutModel",
          "model_module_version": "1.2.0",
          "state": {
            "_model_module": "@jupyter-widgets/base",
            "_model_module_version": "1.2.0",
            "_model_name": "LayoutModel",
            "_view_count": null,
            "_view_module": "@jupyter-widgets/base",
            "_view_module_version": "1.2.0",
            "_view_name": "LayoutView",
            "align_content": null,
            "align_items": null,
            "align_self": null,
            "border": null,
            "bottom": null,
            "display": null,
            "flex": null,
            "flex_flow": null,
            "grid_area": null,
            "grid_auto_columns": null,
            "grid_auto_flow": null,
            "grid_auto_rows": null,
            "grid_column": null,
            "grid_gap": null,
            "grid_row": null,
            "grid_template_areas": null,
            "grid_template_columns": null,
            "grid_template_rows": null,
            "height": null,
            "justify_content": null,
            "justify_items": null,
            "left": null,
            "margin": null,
            "max_height": null,
            "max_width": null,
            "min_height": null,
            "min_width": null,
            "object_fit": null,
            "object_position": null,
            "order": null,
            "overflow": null,
            "overflow_x": null,
            "overflow_y": null,
            "padding": null,
            "right": null,
            "top": null,
            "visibility": null,
            "width": null
          }
        },
        "e1eccb2796354c1a90d8a4998eb8fda2": {
          "model_module": "@jupyter-widgets/base",
          "model_name": "LayoutModel",
          "model_module_version": "1.2.0",
          "state": {
            "_model_module": "@jupyter-widgets/base",
            "_model_module_version": "1.2.0",
            "_model_name": "LayoutModel",
            "_view_count": null,
            "_view_module": "@jupyter-widgets/base",
            "_view_module_version": "1.2.0",
            "_view_name": "LayoutView",
            "align_content": null,
            "align_items": null,
            "align_self": null,
            "border": null,
            "bottom": null,
            "display": null,
            "flex": null,
            "flex_flow": null,
            "grid_area": null,
            "grid_auto_columns": null,
            "grid_auto_flow": null,
            "grid_auto_rows": null,
            "grid_column": null,
            "grid_gap": null,
            "grid_row": null,
            "grid_template_areas": null,
            "grid_template_columns": null,
            "grid_template_rows": null,
            "height": null,
            "justify_content": null,
            "justify_items": null,
            "left": null,
            "margin": null,
            "max_height": null,
            "max_width": null,
            "min_height": null,
            "min_width": null,
            "object_fit": null,
            "object_position": null,
            "order": null,
            "overflow": null,
            "overflow_x": null,
            "overflow_y": null,
            "padding": null,
            "right": null,
            "top": null,
            "visibility": null,
            "width": null
          }
        },
        "855d4c74726f4d52aa2abca404b2c37c": {
          "model_module": "@jupyter-widgets/controls",
          "model_name": "DescriptionStyleModel",
          "model_module_version": "1.5.0",
          "state": {
            "_model_module": "@jupyter-widgets/controls",
            "_model_module_version": "1.5.0",
            "_model_name": "DescriptionStyleModel",
            "_view_count": null,
            "_view_module": "@jupyter-widgets/base",
            "_view_module_version": "1.2.0",
            "_view_name": "StyleView",
            "description_width": ""
          }
        },
        "874af241ad434328a0d92eab14f1a1cd": {
          "model_module": "@jupyter-widgets/base",
          "model_name": "LayoutModel",
          "model_module_version": "1.2.0",
          "state": {
            "_model_module": "@jupyter-widgets/base",
            "_model_module_version": "1.2.0",
            "_model_name": "LayoutModel",
            "_view_count": null,
            "_view_module": "@jupyter-widgets/base",
            "_view_module_version": "1.2.0",
            "_view_name": "LayoutView",
            "align_content": null,
            "align_items": null,
            "align_self": null,
            "border": null,
            "bottom": null,
            "display": null,
            "flex": null,
            "flex_flow": null,
            "grid_area": null,
            "grid_auto_columns": null,
            "grid_auto_flow": null,
            "grid_auto_rows": null,
            "grid_column": null,
            "grid_gap": null,
            "grid_row": null,
            "grid_template_areas": null,
            "grid_template_columns": null,
            "grid_template_rows": null,
            "height": null,
            "justify_content": null,
            "justify_items": null,
            "left": null,
            "margin": null,
            "max_height": null,
            "max_width": null,
            "min_height": null,
            "min_width": null,
            "object_fit": null,
            "object_position": null,
            "order": null,
            "overflow": null,
            "overflow_x": null,
            "overflow_y": null,
            "padding": null,
            "right": null,
            "top": null,
            "visibility": null,
            "width": null
          }
        },
        "606879368d7d4476a6110817cdf88626": {
          "model_module": "@jupyter-widgets/controls",
          "model_name": "ProgressStyleModel",
          "model_module_version": "1.5.0",
          "state": {
            "_model_module": "@jupyter-widgets/controls",
            "_model_module_version": "1.5.0",
            "_model_name": "ProgressStyleModel",
            "_view_count": null,
            "_view_module": "@jupyter-widgets/base",
            "_view_module_version": "1.2.0",
            "_view_name": "StyleView",
            "bar_color": null,
            "description_width": ""
          }
        },
        "d5dc9ed5174f4cdfa0d71568d4ac4ad3": {
          "model_module": "@jupyter-widgets/base",
          "model_name": "LayoutModel",
          "model_module_version": "1.2.0",
          "state": {
            "_model_module": "@jupyter-widgets/base",
            "_model_module_version": "1.2.0",
            "_model_name": "LayoutModel",
            "_view_count": null,
            "_view_module": "@jupyter-widgets/base",
            "_view_module_version": "1.2.0",
            "_view_name": "LayoutView",
            "align_content": null,
            "align_items": null,
            "align_self": null,
            "border": null,
            "bottom": null,
            "display": null,
            "flex": null,
            "flex_flow": null,
            "grid_area": null,
            "grid_auto_columns": null,
            "grid_auto_flow": null,
            "grid_auto_rows": null,
            "grid_column": null,
            "grid_gap": null,
            "grid_row": null,
            "grid_template_areas": null,
            "grid_template_columns": null,
            "grid_template_rows": null,
            "height": null,
            "justify_content": null,
            "justify_items": null,
            "left": null,
            "margin": null,
            "max_height": null,
            "max_width": null,
            "min_height": null,
            "min_width": null,
            "object_fit": null,
            "object_position": null,
            "order": null,
            "overflow": null,
            "overflow_x": null,
            "overflow_y": null,
            "padding": null,
            "right": null,
            "top": null,
            "visibility": null,
            "width": null
          }
        },
        "92bd5f8a3dc04823a7b4e5e842e7678d": {
          "model_module": "@jupyter-widgets/controls",
          "model_name": "DescriptionStyleModel",
          "model_module_version": "1.5.0",
          "state": {
            "_model_module": "@jupyter-widgets/controls",
            "_model_module_version": "1.5.0",
            "_model_name": "DescriptionStyleModel",
            "_view_count": null,
            "_view_module": "@jupyter-widgets/base",
            "_view_module_version": "1.2.0",
            "_view_name": "StyleView",
            "description_width": ""
          }
        },
        "17f71c3809a443a1baa8d57314bfa95c": {
          "model_module": "@jupyter-widgets/controls",
          "model_name": "HBoxModel",
          "model_module_version": "1.5.0",
          "state": {
            "_dom_classes": [],
            "_model_module": "@jupyter-widgets/controls",
            "_model_module_version": "1.5.0",
            "_model_name": "HBoxModel",
            "_view_count": null,
            "_view_module": "@jupyter-widgets/controls",
            "_view_module_version": "1.5.0",
            "_view_name": "HBoxView",
            "box_style": "",
            "children": [
              "IPY_MODEL_a052fc53e75147b19ff96e225a2499a0",
              "IPY_MODEL_2168ae9e79d3426ca222037f1aa432e3",
              "IPY_MODEL_593e311ca12f4aafa3066efb58d5d91e"
            ],
            "layout": "IPY_MODEL_becc02eed2f14b239c4ea8c8a69ce72f"
          }
        },
        "a052fc53e75147b19ff96e225a2499a0": {
          "model_module": "@jupyter-widgets/controls",
          "model_name": "HTMLModel",
          "model_module_version": "1.5.0",
          "state": {
            "_dom_classes": [],
            "_model_module": "@jupyter-widgets/controls",
            "_model_module_version": "1.5.0",
            "_model_name": "HTMLModel",
            "_view_count": null,
            "_view_module": "@jupyter-widgets/controls",
            "_view_module_version": "1.5.0",
            "_view_name": "HTMLView",
            "description": "",
            "description_tooltip": null,
            "layout": "IPY_MODEL_31f22cd517ab442fa8078288c02c97a5",
            "placeholder": "​",
            "style": "IPY_MODEL_b7c2cce056274ebaab3176f0446477e7",
            "value": "Map: 100%"
          }
        },
        "2168ae9e79d3426ca222037f1aa432e3": {
          "model_module": "@jupyter-widgets/controls",
          "model_name": "FloatProgressModel",
          "model_module_version": "1.5.0",
          "state": {
            "_dom_classes": [],
            "_model_module": "@jupyter-widgets/controls",
            "_model_module_version": "1.5.0",
            "_model_name": "FloatProgressModel",
            "_view_count": null,
            "_view_module": "@jupyter-widgets/controls",
            "_view_module_version": "1.5.0",
            "_view_name": "ProgressView",
            "bar_style": "success",
            "description": "",
            "description_tooltip": null,
            "layout": "IPY_MODEL_89c934f85ed74b72a830d11096d16d71",
            "max": 18,
            "min": 0,
            "orientation": "horizontal",
            "style": "IPY_MODEL_cfa382554d944e73b5eb5fadbc2d60fc",
            "value": 18
          }
        },
        "593e311ca12f4aafa3066efb58d5d91e": {
          "model_module": "@jupyter-widgets/controls",
          "model_name": "HTMLModel",
          "model_module_version": "1.5.0",
          "state": {
            "_dom_classes": [],
            "_model_module": "@jupyter-widgets/controls",
            "_model_module_version": "1.5.0",
            "_model_name": "HTMLModel",
            "_view_count": null,
            "_view_module": "@jupyter-widgets/controls",
            "_view_module_version": "1.5.0",
            "_view_name": "HTMLView",
            "description": "",
            "description_tooltip": null,
            "layout": "IPY_MODEL_4a4248cf4b0d4907a9baaac68f5e3514",
            "placeholder": "​",
            "style": "IPY_MODEL_e147fc941e214b3da2d911d61d6fee12",
            "value": " 18/18 [00:00&lt;00:00, 114.98 examples/s]"
          }
        },
        "becc02eed2f14b239c4ea8c8a69ce72f": {
          "model_module": "@jupyter-widgets/base",
          "model_name": "LayoutModel",
          "model_module_version": "1.2.0",
          "state": {
            "_model_module": "@jupyter-widgets/base",
            "_model_module_version": "1.2.0",
            "_model_name": "LayoutModel",
            "_view_count": null,
            "_view_module": "@jupyter-widgets/base",
            "_view_module_version": "1.2.0",
            "_view_name": "LayoutView",
            "align_content": null,
            "align_items": null,
            "align_self": null,
            "border": null,
            "bottom": null,
            "display": null,
            "flex": null,
            "flex_flow": null,
            "grid_area": null,
            "grid_auto_columns": null,
            "grid_auto_flow": null,
            "grid_auto_rows": null,
            "grid_column": null,
            "grid_gap": null,
            "grid_row": null,
            "grid_template_areas": null,
            "grid_template_columns": null,
            "grid_template_rows": null,
            "height": null,
            "justify_content": null,
            "justify_items": null,
            "left": null,
            "margin": null,
            "max_height": null,
            "max_width": null,
            "min_height": null,
            "min_width": null,
            "object_fit": null,
            "object_position": null,
            "order": null,
            "overflow": null,
            "overflow_x": null,
            "overflow_y": null,
            "padding": null,
            "right": null,
            "top": null,
            "visibility": null,
            "width": null
          }
        },
        "31f22cd517ab442fa8078288c02c97a5": {
          "model_module": "@jupyter-widgets/base",
          "model_name": "LayoutModel",
          "model_module_version": "1.2.0",
          "state": {
            "_model_module": "@jupyter-widgets/base",
            "_model_module_version": "1.2.0",
            "_model_name": "LayoutModel",
            "_view_count": null,
            "_view_module": "@jupyter-widgets/base",
            "_view_module_version": "1.2.0",
            "_view_name": "LayoutView",
            "align_content": null,
            "align_items": null,
            "align_self": null,
            "border": null,
            "bottom": null,
            "display": null,
            "flex": null,
            "flex_flow": null,
            "grid_area": null,
            "grid_auto_columns": null,
            "grid_auto_flow": null,
            "grid_auto_rows": null,
            "grid_column": null,
            "grid_gap": null,
            "grid_row": null,
            "grid_template_areas": null,
            "grid_template_columns": null,
            "grid_template_rows": null,
            "height": null,
            "justify_content": null,
            "justify_items": null,
            "left": null,
            "margin": null,
            "max_height": null,
            "max_width": null,
            "min_height": null,
            "min_width": null,
            "object_fit": null,
            "object_position": null,
            "order": null,
            "overflow": null,
            "overflow_x": null,
            "overflow_y": null,
            "padding": null,
            "right": null,
            "top": null,
            "visibility": null,
            "width": null
          }
        },
        "b7c2cce056274ebaab3176f0446477e7": {
          "model_module": "@jupyter-widgets/controls",
          "model_name": "DescriptionStyleModel",
          "model_module_version": "1.5.0",
          "state": {
            "_model_module": "@jupyter-widgets/controls",
            "_model_module_version": "1.5.0",
            "_model_name": "DescriptionStyleModel",
            "_view_count": null,
            "_view_module": "@jupyter-widgets/base",
            "_view_module_version": "1.2.0",
            "_view_name": "StyleView",
            "description_width": ""
          }
        },
        "89c934f85ed74b72a830d11096d16d71": {
          "model_module": "@jupyter-widgets/base",
          "model_name": "LayoutModel",
          "model_module_version": "1.2.0",
          "state": {
            "_model_module": "@jupyter-widgets/base",
            "_model_module_version": "1.2.0",
            "_model_name": "LayoutModel",
            "_view_count": null,
            "_view_module": "@jupyter-widgets/base",
            "_view_module_version": "1.2.0",
            "_view_name": "LayoutView",
            "align_content": null,
            "align_items": null,
            "align_self": null,
            "border": null,
            "bottom": null,
            "display": null,
            "flex": null,
            "flex_flow": null,
            "grid_area": null,
            "grid_auto_columns": null,
            "grid_auto_flow": null,
            "grid_auto_rows": null,
            "grid_column": null,
            "grid_gap": null,
            "grid_row": null,
            "grid_template_areas": null,
            "grid_template_columns": null,
            "grid_template_rows": null,
            "height": null,
            "justify_content": null,
            "justify_items": null,
            "left": null,
            "margin": null,
            "max_height": null,
            "max_width": null,
            "min_height": null,
            "min_width": null,
            "object_fit": null,
            "object_position": null,
            "order": null,
            "overflow": null,
            "overflow_x": null,
            "overflow_y": null,
            "padding": null,
            "right": null,
            "top": null,
            "visibility": null,
            "width": null
          }
        },
        "cfa382554d944e73b5eb5fadbc2d60fc": {
          "model_module": "@jupyter-widgets/controls",
          "model_name": "ProgressStyleModel",
          "model_module_version": "1.5.0",
          "state": {
            "_model_module": "@jupyter-widgets/controls",
            "_model_module_version": "1.5.0",
            "_model_name": "ProgressStyleModel",
            "_view_count": null,
            "_view_module": "@jupyter-widgets/base",
            "_view_module_version": "1.2.0",
            "_view_name": "StyleView",
            "bar_color": null,
            "description_width": ""
          }
        },
        "4a4248cf4b0d4907a9baaac68f5e3514": {
          "model_module": "@jupyter-widgets/base",
          "model_name": "LayoutModel",
          "model_module_version": "1.2.0",
          "state": {
            "_model_module": "@jupyter-widgets/base",
            "_model_module_version": "1.2.0",
            "_model_name": "LayoutModel",
            "_view_count": null,
            "_view_module": "@jupyter-widgets/base",
            "_view_module_version": "1.2.0",
            "_view_name": "LayoutView",
            "align_content": null,
            "align_items": null,
            "align_self": null,
            "border": null,
            "bottom": null,
            "display": null,
            "flex": null,
            "flex_flow": null,
            "grid_area": null,
            "grid_auto_columns": null,
            "grid_auto_flow": null,
            "grid_auto_rows": null,
            "grid_column": null,
            "grid_gap": null,
            "grid_row": null,
            "grid_template_areas": null,
            "grid_template_columns": null,
            "grid_template_rows": null,
            "height": null,
            "justify_content": null,
            "justify_items": null,
            "left": null,
            "margin": null,
            "max_height": null,
            "max_width": null,
            "min_height": null,
            "min_width": null,
            "object_fit": null,
            "object_position": null,
            "order": null,
            "overflow": null,
            "overflow_x": null,
            "overflow_y": null,
            "padding": null,
            "right": null,
            "top": null,
            "visibility": null,
            "width": null
          }
        },
        "e147fc941e214b3da2d911d61d6fee12": {
          "model_module": "@jupyter-widgets/controls",
          "model_name": "DescriptionStyleModel",
          "model_module_version": "1.5.0",
          "state": {
            "_model_module": "@jupyter-widgets/controls",
            "_model_module_version": "1.5.0",
            "_model_name": "DescriptionStyleModel",
            "_view_count": null,
            "_view_module": "@jupyter-widgets/base",
            "_view_module_version": "1.2.0",
            "_view_name": "StyleView",
            "description_width": ""
          }
        },
        "f6a8b17b246e426c8539d22cba6e9a2c": {
          "model_module": "@jupyter-widgets/controls",
          "model_name": "HBoxModel",
          "model_module_version": "1.5.0",
          "state": {
            "_dom_classes": [],
            "_model_module": "@jupyter-widgets/controls",
            "_model_module_version": "1.5.0",
            "_model_name": "HBoxModel",
            "_view_count": null,
            "_view_module": "@jupyter-widgets/controls",
            "_view_module_version": "1.5.0",
            "_view_name": "HBoxView",
            "box_style": "",
            "children": [
              "IPY_MODEL_f6ce40e4bc2f452db58091ef75711a34",
              "IPY_MODEL_5c64c2c0a8c14127b32af00684f697fa",
              "IPY_MODEL_bab82fe1de9e4cc6869dae030b3d6f6b"
            ],
            "layout": "IPY_MODEL_11f9e14f326846f0b60f608a6f869648"
          }
        },
        "f6ce40e4bc2f452db58091ef75711a34": {
          "model_module": "@jupyter-widgets/controls",
          "model_name": "HTMLModel",
          "model_module_version": "1.5.0",
          "state": {
            "_dom_classes": [],
            "_model_module": "@jupyter-widgets/controls",
            "_model_module_version": "1.5.0",
            "_model_name": "HTMLModel",
            "_view_count": null,
            "_view_module": "@jupyter-widgets/controls",
            "_view_module_version": "1.5.0",
            "_view_name": "HTMLView",
            "description": "",
            "description_tooltip": null,
            "layout": "IPY_MODEL_be6547bd6754498cbf48fc95d42c9e0c",
            "placeholder": "​",
            "style": "IPY_MODEL_5d7ca4e06e2a4ac1a346f02cc8b20bb1",
            "value": "Map: 100%"
          }
        },
        "5c64c2c0a8c14127b32af00684f697fa": {
          "model_module": "@jupyter-widgets/controls",
          "model_name": "FloatProgressModel",
          "model_module_version": "1.5.0",
          "state": {
            "_dom_classes": [],
            "_model_module": "@jupyter-widgets/controls",
            "_model_module_version": "1.5.0",
            "_model_name": "FloatProgressModel",
            "_view_count": null,
            "_view_module": "@jupyter-widgets/controls",
            "_view_module_version": "1.5.0",
            "_view_name": "ProgressView",
            "bar_style": "success",
            "description": "",
            "description_tooltip": null,
            "layout": "IPY_MODEL_4be057e1023f4e7f93d6ce295dc177d2",
            "max": 54,
            "min": 0,
            "orientation": "horizontal",
            "style": "IPY_MODEL_a8ce43d914bd4d1a85a277ba65def642",
            "value": 54
          }
        },
        "bab82fe1de9e4cc6869dae030b3d6f6b": {
          "model_module": "@jupyter-widgets/controls",
          "model_name": "HTMLModel",
          "model_module_version": "1.5.0",
          "state": {
            "_dom_classes": [],
            "_model_module": "@jupyter-widgets/controls",
            "_model_module_version": "1.5.0",
            "_model_name": "HTMLModel",
            "_view_count": null,
            "_view_module": "@jupyter-widgets/controls",
            "_view_module_version": "1.5.0",
            "_view_name": "HTMLView",
            "description": "",
            "description_tooltip": null,
            "layout": "IPY_MODEL_ecb0d36cf31740a794c10871c8d1b76e",
            "placeholder": "​",
            "style": "IPY_MODEL_766fc459d54f455491cff14313bec4aa",
            "value": " 54/54 [00:00&lt;00:00, 171.48 examples/s]"
          }
        },
        "11f9e14f326846f0b60f608a6f869648": {
          "model_module": "@jupyter-widgets/base",
          "model_name": "LayoutModel",
          "model_module_version": "1.2.0",
          "state": {
            "_model_module": "@jupyter-widgets/base",
            "_model_module_version": "1.2.0",
            "_model_name": "LayoutModel",
            "_view_count": null,
            "_view_module": "@jupyter-widgets/base",
            "_view_module_version": "1.2.0",
            "_view_name": "LayoutView",
            "align_content": null,
            "align_items": null,
            "align_self": null,
            "border": null,
            "bottom": null,
            "display": null,
            "flex": null,
            "flex_flow": null,
            "grid_area": null,
            "grid_auto_columns": null,
            "grid_auto_flow": null,
            "grid_auto_rows": null,
            "grid_column": null,
            "grid_gap": null,
            "grid_row": null,
            "grid_template_areas": null,
            "grid_template_columns": null,
            "grid_template_rows": null,
            "height": null,
            "justify_content": null,
            "justify_items": null,
            "left": null,
            "margin": null,
            "max_height": null,
            "max_width": null,
            "min_height": null,
            "min_width": null,
            "object_fit": null,
            "object_position": null,
            "order": null,
            "overflow": null,
            "overflow_x": null,
            "overflow_y": null,
            "padding": null,
            "right": null,
            "top": null,
            "visibility": null,
            "width": null
          }
        },
        "be6547bd6754498cbf48fc95d42c9e0c": {
          "model_module": "@jupyter-widgets/base",
          "model_name": "LayoutModel",
          "model_module_version": "1.2.0",
          "state": {
            "_model_module": "@jupyter-widgets/base",
            "_model_module_version": "1.2.0",
            "_model_name": "LayoutModel",
            "_view_count": null,
            "_view_module": "@jupyter-widgets/base",
            "_view_module_version": "1.2.0",
            "_view_name": "LayoutView",
            "align_content": null,
            "align_items": null,
            "align_self": null,
            "border": null,
            "bottom": null,
            "display": null,
            "flex": null,
            "flex_flow": null,
            "grid_area": null,
            "grid_auto_columns": null,
            "grid_auto_flow": null,
            "grid_auto_rows": null,
            "grid_column": null,
            "grid_gap": null,
            "grid_row": null,
            "grid_template_areas": null,
            "grid_template_columns": null,
            "grid_template_rows": null,
            "height": null,
            "justify_content": null,
            "justify_items": null,
            "left": null,
            "margin": null,
            "max_height": null,
            "max_width": null,
            "min_height": null,
            "min_width": null,
            "object_fit": null,
            "object_position": null,
            "order": null,
            "overflow": null,
            "overflow_x": null,
            "overflow_y": null,
            "padding": null,
            "right": null,
            "top": null,
            "visibility": null,
            "width": null
          }
        },
        "5d7ca4e06e2a4ac1a346f02cc8b20bb1": {
          "model_module": "@jupyter-widgets/controls",
          "model_name": "DescriptionStyleModel",
          "model_module_version": "1.5.0",
          "state": {
            "_model_module": "@jupyter-widgets/controls",
            "_model_module_version": "1.5.0",
            "_model_name": "DescriptionStyleModel",
            "_view_count": null,
            "_view_module": "@jupyter-widgets/base",
            "_view_module_version": "1.2.0",
            "_view_name": "StyleView",
            "description_width": ""
          }
        },
        "4be057e1023f4e7f93d6ce295dc177d2": {
          "model_module": "@jupyter-widgets/base",
          "model_name": "LayoutModel",
          "model_module_version": "1.2.0",
          "state": {
            "_model_module": "@jupyter-widgets/base",
            "_model_module_version": "1.2.0",
            "_model_name": "LayoutModel",
            "_view_count": null,
            "_view_module": "@jupyter-widgets/base",
            "_view_module_version": "1.2.0",
            "_view_name": "LayoutView",
            "align_content": null,
            "align_items": null,
            "align_self": null,
            "border": null,
            "bottom": null,
            "display": null,
            "flex": null,
            "flex_flow": null,
            "grid_area": null,
            "grid_auto_columns": null,
            "grid_auto_flow": null,
            "grid_auto_rows": null,
            "grid_column": null,
            "grid_gap": null,
            "grid_row": null,
            "grid_template_areas": null,
            "grid_template_columns": null,
            "grid_template_rows": null,
            "height": null,
            "justify_content": null,
            "justify_items": null,
            "left": null,
            "margin": null,
            "max_height": null,
            "max_width": null,
            "min_height": null,
            "min_width": null,
            "object_fit": null,
            "object_position": null,
            "order": null,
            "overflow": null,
            "overflow_x": null,
            "overflow_y": null,
            "padding": null,
            "right": null,
            "top": null,
            "visibility": null,
            "width": null
          }
        },
        "a8ce43d914bd4d1a85a277ba65def642": {
          "model_module": "@jupyter-widgets/controls",
          "model_name": "ProgressStyleModel",
          "model_module_version": "1.5.0",
          "state": {
            "_model_module": "@jupyter-widgets/controls",
            "_model_module_version": "1.5.0",
            "_model_name": "ProgressStyleModel",
            "_view_count": null,
            "_view_module": "@jupyter-widgets/base",
            "_view_module_version": "1.2.0",
            "_view_name": "StyleView",
            "bar_color": null,
            "description_width": ""
          }
        },
        "ecb0d36cf31740a794c10871c8d1b76e": {
          "model_module": "@jupyter-widgets/base",
          "model_name": "LayoutModel",
          "model_module_version": "1.2.0",
          "state": {
            "_model_module": "@jupyter-widgets/base",
            "_model_module_version": "1.2.0",
            "_model_name": "LayoutModel",
            "_view_count": null,
            "_view_module": "@jupyter-widgets/base",
            "_view_module_version": "1.2.0",
            "_view_name": "LayoutView",
            "align_content": null,
            "align_items": null,
            "align_self": null,
            "border": null,
            "bottom": null,
            "display": null,
            "flex": null,
            "flex_flow": null,
            "grid_area": null,
            "grid_auto_columns": null,
            "grid_auto_flow": null,
            "grid_auto_rows": null,
            "grid_column": null,
            "grid_gap": null,
            "grid_row": null,
            "grid_template_areas": null,
            "grid_template_columns": null,
            "grid_template_rows": null,
            "height": null,
            "justify_content": null,
            "justify_items": null,
            "left": null,
            "margin": null,
            "max_height": null,
            "max_width": null,
            "min_height": null,
            "min_width": null,
            "object_fit": null,
            "object_position": null,
            "order": null,
            "overflow": null,
            "overflow_x": null,
            "overflow_y": null,
            "padding": null,
            "right": null,
            "top": null,
            "visibility": null,
            "width": null
          }
        },
        "766fc459d54f455491cff14313bec4aa": {
          "model_module": "@jupyter-widgets/controls",
          "model_name": "DescriptionStyleModel",
          "model_module_version": "1.5.0",
          "state": {
            "_model_module": "@jupyter-widgets/controls",
            "_model_module_version": "1.5.0",
            "_model_name": "DescriptionStyleModel",
            "_view_count": null,
            "_view_module": "@jupyter-widgets/base",
            "_view_module_version": "1.2.0",
            "_view_name": "StyleView",
            "description_width": ""
          }
        }
      }
    },
    "accelerator": "GPU"
  },
  "cells": [
    {
      "cell_type": "markdown",
      "metadata": {
        "id": "view-in-github",
        "colab_type": "text"
      },
      "source": [
        "<a href=\"https://colab.research.google.com/github/claudelepere/ML_GitHub/blob/main/Copy_of_Fine_tuning_BERT_(and_friends)_for_multi_label_text_classification.ipynb\" target=\"_parent\"><img src=\"https://colab.research.google.com/assets/colab-badge.svg\" alt=\"Open In Colab\"/></a>"
      ]
    },
    {
      "cell_type": "markdown",
      "metadata": {
        "id": "kLB3I4FKZ5Lr"
      },
      "source": [
        "# Fine-tuning BERT (and friends) for multi-label text classification\n",
        "\n",
        "In this notebook, we are going to fine-tune BERT to predict one or more labels for a given piece of text. Note that this notebook illustrates how to fine-tune a bert-base-uncased model, but you can also fine-tune a RoBERTa, DeBERTa, DistilBERT, CANINE, ... checkpoint in the same way.\n",
        "\n",
        "All of those work in the same way: they add a linear layer on top of the base model, which is used to produce a tensor of shape (batch_size, num_labels), indicating the unnormalized scores for a number of labels for every example in the batch.\n",
        "\n",
        "\n",
        "\n",
        "## Set-up environment\n",
        "\n",
        "First, we install the libraries which we'll use: HuggingFace Transformers and Datasets."
      ]
    },
    {
      "cell_type": "markdown",
      "metadata": {
        "id": "bIH9NP0MZ6-O"
      },
      "source": [
        "## Load dataset\n",
        "\n",
        "Next, let's download a multi-label text classification dataset from the [hub](https://huggingface.co/).\n",
        "\n",
        "At the time of writing, I picked a random one as follows:   \n",
        "\n",
        "* first, go to the \"datasets\" tab on huggingface.co\n",
        "* next, select the \"multi-label-classification\" tag on the left as well as the the \"1k<10k\" tag (fo find a relatively small dataset).\n",
        "\n",
        "Note that you can also easily load your local data (i.e. csv files, txt files, Parquet files, JSON, ...) as explained [here](https://huggingface.co/docs/datasets/loading.html#local-and-remote-files).\n",
        "\n"
      ]
    },
    {
      "cell_type": "code",
      "source": [
        "from getpass import getpass\n",
        "HF_TOKEN = getpass(\"Enter your Hugging Face token: \")"
      ],
      "metadata": {
        "colab": {
          "base_uri": "https://localhost:8080/"
        },
        "id": "-dTfRJv_4EmP",
        "outputId": "131d3163-b402-469e-e7c5-c3d34b720bcc"
      },
      "execution_count": 145,
      "outputs": [
        {
          "name": "stdout",
          "output_type": "stream",
          "text": [
            "Enter your Hugging Face token: ··········\n"
          ]
        }
      ]
    },
    {
      "cell_type": "code",
      "source": [
        "from huggingface_hub import login\n",
        "login(token=HF_TOKEN, add_to_git_credential=True)"
      ],
      "metadata": {
        "colab": {
          "base_uri": "https://localhost:8080/"
        },
        "id": "fmXDZX9A4lZh",
        "outputId": "b4d54658-9e7f-420d-b4e0-95b1da2fbfb9"
      },
      "execution_count": 146,
      "outputs": [
        {
          "output_type": "stream",
          "name": "stdout",
          "text": [
            "Token is valid (permission: fineGrained).\n",
            "Your token has been saved in your configured git credential helpers (store).\n",
            "Your token has been saved to /root/.cache/huggingface/token\n",
            "Login successful\n"
          ]
        }
      ]
    },
    {
      "cell_type": "code",
      "metadata": {
        "colab": {
          "base_uri": "https://localhost:8080/"
        },
        "id": "sd1LiXGjZ420",
        "outputId": "ee103e35-7921-4d35-fa80-c539fdc6b26a"
      },
      "source": [
        "import os, sys, shutil\n",
        "\n",
        "os.chdir(\"/content\")\n",
        "current_dir = os.getcwd()\n",
        "print(f\"The current directory is {current_dir}\")\n",
        "\n",
        "if os.path.isdir('ML_GitHub'):\n",
        "    shutil.rmtree('ML_GitHub')\n",
        "\n",
        "!git init\n",
        "!git branch -m main\n",
        "!git clone https://github.com/claudelepere/ML_GitHub.git\n",
        "print(f\"list /content: {os.listdir(current_dir)}\")\n",
        "print(f\"list /content/ML_GitHub: {os.listdir(current_dir + '/ML_GitHub')}\")\n",
        "!ls -la /content/ML_GitHub/datasetHF\n",
        "os.chdir(current_dir + '/ML_GitHub')\n",
        "\n",
        "#!pip install fsspec==2024.10.0\n",
        "!pip install -q transformers datasets\n",
        "from datasets import DatasetDict\n",
        "\n",
        "dataset = DatasetDict.load_from_disk('datasetHF')\n",
        "print(f\"dataset: {type(dataset)} {dataset.shape}\\n{dataset}\")"
      ],
      "execution_count": 147,
      "outputs": [
        {
          "output_type": "stream",
          "name": "stdout",
          "text": [
            "The current directory is /content\n",
            "Reinitialized existing Git repository in /content/.git/\n",
            "Cloning into 'ML_GitHub'...\n",
            "remote: Enumerating objects: 65, done.\u001b[K\n",
            "remote: Counting objects: 100% (65/65), done.\u001b[K\n",
            "remote: Compressing objects: 100% (40/40), done.\u001b[K\n",
            "remote: Total 65 (delta 29), reused 50 (delta 22), pack-reused 0 (from 0)\u001b[K\n",
            "Receiving objects: 100% (65/65), 9.98 MiB | 23.66 MiB/s, done.\n",
            "Resolving deltas: 100% (29/29), done.\n",
            "list /content: ['.config', '.git', 'ML_GitHub', 'sample_data']\n",
            "list /content/ML_GitHub: ['.git', 'datasetHF', 'README.md', 'Copy_of_Fine_tuning_BERT_(and_friends)_for_multi_label_text_classification.ipynb']\n",
            "total 24\n",
            "drwxr-xr-x 5 root root 4096 Nov  6 21:59 .\n",
            "drwxr-xr-x 4 root root 4096 Nov  6 21:59 ..\n",
            "-rw-r--r-- 1 root root   43 Nov  6 21:59 dataset_dict.json\n",
            "drwxr-xr-x 2 root root 4096 Nov  6 21:59 test\n",
            "drwxr-xr-x 2 root root 4096 Nov  6 21:59 train\n",
            "drwxr-xr-x 2 root root 4096 Nov  6 21:59 validation\n",
            "dataset: <class 'datasets.dataset_dict.DatasetDict'> {'train': (128, 44), 'validation': (18, 44), 'test': (54, 44)}\n",
            "DatasetDict({\n",
            "    train: Dataset({\n",
            "        features: ['id', 'text', '394', '142', '146', '147', '148', '149', '150', '151', '408', '409', '153', '154', '155', '156', '157', '158', '160', '152', '162', '165', '167', '168', '169', '170', '171', '685', '174', '686', '176', '689', '173', '356', '360', '361', '362', '364', '760', '756', '758', '375', '376', '761'],\n",
            "        num_rows: 128\n",
            "    })\n",
            "    validation: Dataset({\n",
            "        features: ['id', 'text', '394', '142', '146', '147', '148', '149', '150', '151', '408', '409', '153', '154', '155', '156', '157', '158', '160', '152', '162', '165', '167', '168', '169', '170', '171', '685', '174', '686', '176', '689', '173', '356', '360', '361', '362', '364', '760', '756', '758', '375', '376', '761'],\n",
            "        num_rows: 18\n",
            "    })\n",
            "    test: Dataset({\n",
            "        features: ['id', 'text', '394', '142', '146', '147', '148', '149', '150', '151', '408', '409', '153', '154', '155', '156', '157', '158', '160', '152', '162', '165', '167', '168', '169', '170', '171', '685', '174', '686', '176', '689', '173', '356', '360', '361', '362', '364', '760', '756', '758', '375', '376', '761'],\n",
            "        num_rows: 54\n",
            "    })\n",
            "})\n"
          ]
        }
      ]
    },
    {
      "cell_type": "markdown",
      "metadata": {
        "id": "QCL02vQgxYTO"
      },
      "source": [
        "As we can see, the dataset contains 3 splits: one for training, one for validation and one for testing."
      ]
    },
    {
      "cell_type": "markdown",
      "metadata": {
        "id": "PgS0wMWExcqP"
      },
      "source": [
        "Let's check the first example of the training split:"
      ]
    },
    {
      "cell_type": "code",
      "metadata": {
        "colab": {
          "base_uri": "https://localhost:8080/"
        },
        "id": "unjuTtKUjZI3",
        "outputId": "d0db3c66-e88b-4e5a-fbb0-5392417b5a7b"
      },
      "source": [
        "example = dataset['validation'][0]\n",
        "example"
      ],
      "execution_count": 148,
      "outputs": [
        {
          "output_type": "execute_result",
          "data": {
            "text/plain": [
              "{'id': 141545,\n",
              " 'text': 'Actiris - Scrum Master / Gestionnaire de Projets Scrum Master, Chef de Projets, .NET Actiris Le service développement d\\'Actiris est composé d\\'une trentaine de personnes qui travaillent essentiellement sur des projets nouveaux (dossier unique, plateforme pour la gestion des relations entre Actiris et les partenaires, plateforme pour la gestion des relations entre Actiris et les employeurs, mise en place d\\'un nouveau CRM, etc.). Votre rôle En tant que Scrum Master/gestionnaire de projets, vous initiez et coordonnez, dans un environnement Agile, des projets dans le cadre du développement de nos nouvelles plateformes core business et vous veillez à leur bonne réalisation dans les délais impartis. Vos responsabilités Vous collectez les informations nécessaires au bon déroulement du projet et êtes capable de discuter d\\'un backlog avec le métier ; Vous déterminez les étapes clés, planning et rétro-planning Highlevel sans forcément de requête auprès de l\\'équipe de développement ; Vous mettez en place un cadre collaboratif avec les acteurs concernés et assurez une communication régulière et constructive ; Vous communiquez régulièrement un feedback sur l\\'avancée du projet aux interlocuteurs concernés ; Vous êtes garant de la qualité du projet en utilisant ou en élaborant les outils nécessaires à son suivi et à son évaluation ; Vous animez et participez à des réunions, sprint planning et sprint review ; Vous vous tenez informé sur les sujets en lien avec le projet; Vous veillez à la progression du projet en effectuant les adaptations nécessaires, notamment en fonction des évolutions technologiques ; Vous rédigez les notes et rapports requis en adaptant le contenu et la technicité en fonction des destinataires. Vous développez des liaisons techniques et fonctionnelles avec l\\'environnement de travail ; Vous respectez les règles fournies par l\\'architecte ainsi que l\\'ensemble des contraintes de tous les services de l\\'informatique. Votre profil Vous êtes titulaire d\\'un diplôme de Master et avez minimum 2 ans d\\'expérience en tant que gestionnaire de projets informatiques et/ou Scrum Master. Vous vous reconnaissez dans le profil suivant : Excellent communicateur, vous vous exprimez aussi bien à l\\'oral qu\\'à l\\'écrit ; Orienté résultats, vous mettez tout en œuvre pour mener vos projets à bien et atteindre les objectifs ; Vous disposez d\\'un très bon esprit de collaboration ; Vous faites face aux imprévus et effectuez les changements nécessaires pour vous y adapter ; Vous gérez votre planning de manière efficace en tenant compte des impératifs de temps et des priorités. Compétences techniques : Connaissances des principaux langages de développement: Web : HTML, JavaScript, CSS, ASP.NET C#, Angular, ... Base de données : Oracle, SQL Server, ... Connaissance d\\'un ensemble de solutions applicatives : ERP, CRM, EAI,... Vous êtes capable de lire une analyse au format UML ; La maîtrise d\\'Azure DevOps est un atout ; Une connaissance de la seconde langue nationale et/ou de l\\'anglais est un atout. Pourquoi rejoindre Actiris? Nos collaborateurs reflètent la population de Bruxelles : la diversité au travail n\\'est pas seulement un de nos objectifs, c\\'est aussi notre réalité quotidienne. Dans un esprit de cohérence avec nos valeurs, nous accordons de l\\'importance à l\\'équilibre entre la vie privée, la vie professionnelle et le bien-être de nos collaborateurs. En tant qu\\'employeur : Nous veillons à l\\'équilibre optimal entre votre vie professionnelle et votre vie privée grâce aux 35 jours de congés annuels, à des horaires flexibles et la possibilité de travailler de la maison. Nous assurons votre développement personnel et professionnel en proposant 11 jours de formation par an, en lien avec votre métier, vos besoins et votre ambition. Nous sommes soucieux de l\\'environnement et d\\'une société durable, ainsi, vous pouvez facilement venir en bus, tram, train ou vélo au travail. Nous vous offrons un abonnement gratuit Villo, STIB, TEC, De Lijn, SNCB, une indemnité vélo et vous pouvez emprunter des vélos électriques sur votre lieu de travail. Nous vous proposons un cadre agréable et stimulant : un restaurant d\\'entreprise avec des menus diversifiés pour tous les goûts et tous les budgets, une salle de sport où sont donnés des cours de yoga, pilates, zumba ou d\\'autres activités en fonction du moment. Nous nous préoccupons de votre santé en organisant des dépistages et en proposant une intervention dans certains frais médicaux et paramédicaux, ainsi qu\\'une assurance hospitalisation et soins dentaires. Nous offrons également des avantages pour les enfants, nous organisons des initiatives visant l\\'économie de partage (bibliothèque, prêt de matériel divers), des activités culturelles à prix réduits, etc. Contrat et avantages Un contrat CDI temps plein Un salaire mensuel brut de 4715.59 pour 2 années d\\'ancienneté avec la possibilité de reconnaître des années d\\'expérience supplémentaires dès l\\'entrée en fonction Des chèques repas de 8€ La possibilité d\\'une prime linguistique allant de 340 à 450€ mensuels bruts Intéressé.e? Postulez maintenant! Cliquez sur le bouton \"postuler\" en lien avec cette offre d\\'emploi. Assurez-vous de joindre votre CV et lettre de motivation, ainsi que d\\'autres documents si vous le souhaitez. Votre candidature sera lue avec la plus grande attention et nous vous informerons de la suite qui lui sera donnée. Si elle est retenue nous vous inviterons à une présélection (entretien et/ou test). Les meilleurs candidats seront ensuite amenés à présenter une épreuve de jury. Actiris: du travail pour tous ! Nous sélectionnons nos collaborateurs sur base de leurs compétences. Nous ne faisons pas de distinction d\\'âge, d\\'orientation sexuelle, de couleur de peau, de croyance, de handicap, de conviction philosophique ou de nationalité. Vous êtes en situation de handicap ? Mentionnez-le lors de votre candidature ! Nous proposons d\\'éventuelles adaptations afin que vous puissiez facilement participer à la procédure de recrutement et travailler confortablement au sein de notre organisation. Documents Au fil de la procédure, les documents suivants devront impérativement être fournis Copie de votre diplôme. Vous avez obtenu votre diplôme dans un pays hors Benelux ? Joignez-y alors l\\'équivalence officielle. Extrait récent de casier judiciaire. Attestation d\\'expérience antérieure pour la valorisation d\\'expérience acquise.',\n",
              " '394': False,\n",
              " '142': False,\n",
              " '146': False,\n",
              " '147': False,\n",
              " '148': False,\n",
              " '149': False,\n",
              " '150': False,\n",
              " '151': False,\n",
              " '408': False,\n",
              " '409': False,\n",
              " '153': False,\n",
              " '154': False,\n",
              " '155': False,\n",
              " '156': False,\n",
              " '157': False,\n",
              " '158': False,\n",
              " '160': False,\n",
              " '152': False,\n",
              " '162': False,\n",
              " '165': False,\n",
              " '167': False,\n",
              " '168': False,\n",
              " '169': True,\n",
              " '170': True,\n",
              " '171': False,\n",
              " '685': False,\n",
              " '174': False,\n",
              " '686': False,\n",
              " '176': False,\n",
              " '689': False,\n",
              " '173': False,\n",
              " '356': False,\n",
              " '360': False,\n",
              " '361': False,\n",
              " '362': False,\n",
              " '364': False,\n",
              " '760': False,\n",
              " '756': False,\n",
              " '758': False,\n",
              " '375': True,\n",
              " '376': False,\n",
              " '761': False}"
            ]
          },
          "metadata": {},
          "execution_count": 148
        }
      ]
    },
    {
      "cell_type": "markdown",
      "metadata": {
        "id": "6DV0Rtetxgd4"
      },
      "source": [
        "The dataset consists of texts, labeled with one or more skills.\n",
        "\n",
        "Let's create a list that contains the labels, as well as 2 dictionaries that map labels to integers and back."
      ]
    },
    {
      "cell_type": "code",
      "metadata": {
        "colab": {
          "base_uri": "https://localhost:8080/"
        },
        "id": "e5vZhQpvkE8s",
        "outputId": "d4213a86-42e5-4728-f17e-5e03f3215111"
      },
      "source": [
        "labels = [label for label in dataset['train'].features.keys() if label not in ['id', 'text']]\n",
        "labels.sort()\n",
        "\n",
        "print(len(labels), list(enumerate(labels)))\n",
        "id2label = {idx:label for idx, label in enumerate(labels)}\n",
        "print(id2label)\n",
        "label2id = {label:idx for idx, label in enumerate(labels)}\n",
        "print(len(labels), labels)"
      ],
      "execution_count": 149,
      "outputs": [
        {
          "output_type": "stream",
          "name": "stdout",
          "text": [
            "42 [(0, '142'), (1, '146'), (2, '147'), (3, '148'), (4, '149'), (5, '150'), (6, '151'), (7, '152'), (8, '153'), (9, '154'), (10, '155'), (11, '156'), (12, '157'), (13, '158'), (14, '160'), (15, '162'), (16, '165'), (17, '167'), (18, '168'), (19, '169'), (20, '170'), (21, '171'), (22, '173'), (23, '174'), (24, '176'), (25, '356'), (26, '360'), (27, '361'), (28, '362'), (29, '364'), (30, '375'), (31, '376'), (32, '394'), (33, '408'), (34, '409'), (35, '685'), (36, '686'), (37, '689'), (38, '756'), (39, '758'), (40, '760'), (41, '761')]\n",
            "{0: '142', 1: '146', 2: '147', 3: '148', 4: '149', 5: '150', 6: '151', 7: '152', 8: '153', 9: '154', 10: '155', 11: '156', 12: '157', 13: '158', 14: '160', 15: '162', 16: '165', 17: '167', 18: '168', 19: '169', 20: '170', 21: '171', 22: '173', 23: '174', 24: '176', 25: '356', 26: '360', 27: '361', 28: '362', 29: '364', 30: '375', 31: '376', 32: '394', 33: '408', 34: '409', 35: '685', 36: '686', 37: '689', 38: '756', 39: '758', 40: '760', 41: '761'}\n",
            "42 ['142', '146', '147', '148', '149', '150', '151', '152', '153', '154', '155', '156', '157', '158', '160', '162', '165', '167', '168', '169', '170', '171', '173', '174', '176', '356', '360', '361', '362', '364', '375', '376', '394', '408', '409', '685', '686', '689', '756', '758', '760', '761']\n"
          ]
        }
      ]
    },
    {
      "cell_type": "markdown",
      "metadata": {
        "id": "nJ3Teyjmank2"
      },
      "source": [
        "## Preprocess data\n",
        "\n",
        "As models like BERT don't expect text as direct input, but rather `input_ids`, etc., we tokenize the text using the tokenizer. Here I'm using the `AutoTokenizer` API, which will automatically load the appropriate tokenizer based on the checkpoint on the hub.\n",
        "\n",
        "What's a bit tricky is that we also need to provide labels to the model. For multi-label text classification, this is a matrix of shape (batch_size, num_labels). Also important: this should be a tensor of floats rather than integers, otherwise PyTorch' `BCEWithLogitsLoss` (which the model will use) will complain, as explained [here](https://discuss.pytorch.org/t/multi-label-binary-classification-result-type-float-cant-be-cast-to-the-desired-output-type-long/117915/3)."
      ]
    },
    {
      "cell_type": "code",
      "metadata": {
        "id": "AFWlSsbZaRLc",
        "colab": {
          "base_uri": "https://localhost:8080/"
        },
        "outputId": "4119bacb-24f9-4bbf-e047-bcee4fe244e2"
      },
      "source": [
        "from transformers import AutoTokenizer\n",
        "import numpy as np\n",
        "\n",
        "tokenizer = AutoTokenizer.from_pretrained(\"bert-base-uncased\")\n",
        "\n",
        "# examples and not example because batched=True => examples is a batch\n",
        "def preprocess_data(examples, indices):\n",
        "  # take a batch of texts\n",
        "  text = examples[\"text\"]\n",
        "  #print(\"Indices:\", indices, \"Batch size:\", len(text), \"Num labels:\", len(labels))\n",
        "\n",
        "  # encode them\n",
        "  encoding = tokenizer(text, padding=\"max_length\", truncation=True, max_length=512)\n",
        "\n",
        "  labels_batch = {label: np.zeros(len(text)) for label in labels}                                                # validation: 42 rows: 'label': 18 x 0.0\n",
        "  #print(f\"labels_batch: zeros: {type(labels_batch)} {len(labels_batch)} {labels_batch}\")\n",
        "  #print(f\"examples.keys(): {examples.keys()}\")\n",
        "  # examples.keys(): all the column names (keys) in the batch dict \"examples\"\n",
        "  # for each k in labels, a new key-value pair k: examples[k] is added to labels_batch\n",
        "  labels_batch.update({k: [1.0 if val else 0.0 for val in examples[k]] for k in examples.keys() if k in labels}) # validation: 42 rows: 'label': 1.0 or 0.0\n",
        "\n",
        "  #print(f\"labels_batch: updated: {type(labels_batch)} {len(labels_batch)} {labels_batch}\")\n",
        "\n",
        "  # create numpy array of shape (batch_size, num_labels)\n",
        "  labels_matrix = np.zeros((len(text), len(labels)))                                                             # validation: 18 rows 42 columns\n",
        "  #print(f\"labels_matrix:{type(labels_matrix)} {labels_matrix.shape}\")\n",
        "  # fill numpy array\n",
        "  for idx, label in enumerate(labels):\n",
        "    #print(f\"idx:{idx} label:{label}\")                                                                            # labels are sorted\n",
        "    labels_matrix[:, idx] = labels_batch[label] # for each row, sets the idx-th column of labels_matrix with the values from labels_batch[label]\n",
        "\n",
        "  #print(\"First row of labels_matrix:\", labels_matrix[0])\n",
        "\n",
        "  # Add labels to encoding\n",
        "  encoding[\"labels\"] = labels_matrix.tolist()\n",
        "  #print(f\"encoding['labels']: {encoding['labels']}\")\n",
        "\n",
        "\n",
        "  return encoding\n",
        "\n"
      ],
      "execution_count": 150,
      "outputs": [
        {
          "output_type": "stream",
          "name": "stderr",
          "text": [
            "/usr/local/lib/python3.10/dist-packages/transformers/tokenization_utils_base.py:1601: FutureWarning: `clean_up_tokenization_spaces` was not set. It will be set to `True` by default. This behavior will be depracted in transformers v4.45, and will be then set to `False` by default. For more details check this issue: https://github.com/huggingface/transformers/issues/31884\n",
            "  warnings.warn(\n"
          ]
        }
      ]
    },
    {
      "cell_type": "code",
      "source": [
        "#dataset.map(preprocess_data_ONE, batched=False)"
      ],
      "metadata": {
        "id": "_ARt9V7YePdE"
      },
      "execution_count": 151,
      "outputs": []
    },
    {
      "cell_type": "code",
      "metadata": {
        "colab": {
          "base_uri": "https://localhost:8080/",
          "height": 113,
          "referenced_widgets": [
            "571e8ef01c86429c919259d91f9b104f",
            "96474dda53e7460dbe259a16867afb23",
            "c9135cb0549549c69739e887a424e1f9",
            "f738c57bf54745c9b3c8ff64fb82bc91",
            "fce47380b8204a37a1409e4c5bb36776",
            "e1eccb2796354c1a90d8a4998eb8fda2",
            "855d4c74726f4d52aa2abca404b2c37c",
            "874af241ad434328a0d92eab14f1a1cd",
            "606879368d7d4476a6110817cdf88626",
            "d5dc9ed5174f4cdfa0d71568d4ac4ad3",
            "92bd5f8a3dc04823a7b4e5e842e7678d",
            "17f71c3809a443a1baa8d57314bfa95c",
            "a052fc53e75147b19ff96e225a2499a0",
            "2168ae9e79d3426ca222037f1aa432e3",
            "593e311ca12f4aafa3066efb58d5d91e",
            "becc02eed2f14b239c4ea8c8a69ce72f",
            "31f22cd517ab442fa8078288c02c97a5",
            "b7c2cce056274ebaab3176f0446477e7",
            "89c934f85ed74b72a830d11096d16d71",
            "cfa382554d944e73b5eb5fadbc2d60fc",
            "4a4248cf4b0d4907a9baaac68f5e3514",
            "e147fc941e214b3da2d911d61d6fee12",
            "f6a8b17b246e426c8539d22cba6e9a2c",
            "f6ce40e4bc2f452db58091ef75711a34",
            "5c64c2c0a8c14127b32af00684f697fa",
            "bab82fe1de9e4cc6869dae030b3d6f6b",
            "11f9e14f326846f0b60f608a6f869648",
            "be6547bd6754498cbf48fc95d42c9e0c",
            "5d7ca4e06e2a4ac1a346f02cc8b20bb1",
            "4be057e1023f4e7f93d6ce295dc177d2",
            "a8ce43d914bd4d1a85a277ba65def642",
            "ecb0d36cf31740a794c10871c8d1b76e",
            "766fc459d54f455491cff14313bec4aa"
          ]
        },
        "id": "i4ENBTdulBEI",
        "outputId": "47894083-3a06-480e-c732-43f6310cf54d"
      },
      "source": [
        "encoded_dataset = dataset.map(preprocess_data, batched=True, remove_columns=dataset['train'].column_names, with_indices=True)"
      ],
      "execution_count": 152,
      "outputs": [
        {
          "output_type": "display_data",
          "data": {
            "text/plain": [
              "Map:   0%|          | 0/128 [00:00<?, ? examples/s]"
            ],
            "application/vnd.jupyter.widget-view+json": {
              "version_major": 2,
              "version_minor": 0,
              "model_id": "571e8ef01c86429c919259d91f9b104f"
            }
          },
          "metadata": {}
        },
        {
          "output_type": "display_data",
          "data": {
            "text/plain": [
              "Map:   0%|          | 0/18 [00:00<?, ? examples/s]"
            ],
            "application/vnd.jupyter.widget-view+json": {
              "version_major": 2,
              "version_minor": 0,
              "model_id": "17f71c3809a443a1baa8d57314bfa95c"
            }
          },
          "metadata": {}
        },
        {
          "output_type": "display_data",
          "data": {
            "text/plain": [
              "Map:   0%|          | 0/54 [00:00<?, ? examples/s]"
            ],
            "application/vnd.jupyter.widget-view+json": {
              "version_major": 2,
              "version_minor": 0,
              "model_id": "f6a8b17b246e426c8539d22cba6e9a2c"
            }
          },
          "metadata": {}
        }
      ]
    },
    {
      "cell_type": "code",
      "metadata": {
        "colab": {
          "base_uri": "https://localhost:8080/"
        },
        "id": "0enAb0W9o25W",
        "outputId": "6842ba12-cf7b-4503-c801-ab64d30a2a68"
      },
      "source": [
        "example = encoded_dataset['validation'][0]\n",
        "print(f\"example.keys(): {example.keys()}\")\n",
        "print(f\"example['input_ids']: {example['input_ids']}\")\n",
        "print(f\"example['token_type_ids']: {example['token_type_ids']}\")\n",
        "print(f\"example['attention_mask']: {example['attention_mask']}\")\n",
        "print(f\"example['labels']: {example['labels']}\")"
      ],
      "execution_count": 153,
      "outputs": [
        {
          "output_type": "stream",
          "name": "stdout",
          "text": [
            "example.keys(): dict_keys(['input_ids', 'token_type_ids', 'attention_mask', 'labels'])\n",
            "example['input_ids']: [101, 2552, 15735, 2015, 1011, 8040, 6824, 3040, 1013, 16216, 16643, 2239, 20589, 2139, 4013, 15759, 2015, 8040, 6824, 3040, 1010, 10026, 2139, 4013, 15759, 2015, 1010, 1012, 5658, 2552, 15735, 2015, 3393, 2326, 4503, 5051, 3672, 1040, 1005, 2552, 15735, 2015, 9765, 17202, 1040, 1005, 16655, 7990, 18175, 2139, 2711, 5267, 21864, 19817, 12462, 10484, 3372, 29032, 9515, 6216, 3672, 7505, 4078, 4013, 15759, 2015, 25272, 2595, 1006, 9998, 20236, 4310, 1010, 5127, 14192, 2063, 10364, 2474, 16216, 16643, 2239, 4078, 4262, 4372, 7913, 2552, 15735, 2015, 3802, 4649, 2112, 8189, 7442, 2015, 1010, 5127, 14192, 2063, 10364, 2474, 16216, 16643, 2239, 4078, 4262, 4372, 7913, 2552, 15735, 2015, 3802, 4649, 12666, 26744, 1010, 28616, 2063, 4372, 2173, 1040, 1005, 4895, 25272, 13675, 2213, 1010, 4385, 1012, 1007, 1012, 29536, 7913, 2535, 4372, 9092, 2102, 10861, 8040, 6824, 3040, 1013, 16216, 16643, 2239, 20589, 2139, 4013, 15759, 2015, 1010, 29536, 2271, 1999, 25090, 9351, 3802, 2522, 8551, 18256, 2480, 1010, 18033, 4895, 4372, 21663, 18256, 3672, 29003, 1010, 4078, 4013, 15759, 2015, 18033, 3393, 28353, 2890, 4241, 4503, 5051, 3672, 2139, 16839, 25207, 2015, 5127, 14192, 2229, 4563, 2449, 3802, 29536, 2271, 15562, 28060, 1037, 3393, 3126, 19349, 2063, 2613, 6648, 18033, 4649, 3972, 15593, 17727, 8445, 2483, 1012, 29536, 2015, 24501, 26029, 3736, 14454, 7616, 29536, 2271, 8145, 9351, 4649, 2592, 2015, 26785, 7971, 14737, 2015, 8740, 14753, 4315, 7140, 16930, 4765, 4241, 4013, 15759, 3802, 3802, 2229, 5214, 2139, 5860, 19901, 1040, 1005, 4895, 2067, 21197, 13642, 2278, 3393, 2777, 3771, 1025, 29536, 2271, 5646, 2480, 4649, 27859, 10374, 18856, 2229, 1010, 4041, 3802, 22307, 1011, 4041, 2152, 20414, 2884, 20344, 2486, 3672, 2139, 2128, 12647, 2063, 8740, 28994, 2139, 1048, 1005, 1041, 15549, 5051, 2139, 4503, 5051, 3672, 1025, 29536, 2271, 2777, 2618, 2480, 4372, 2173, 4895, 28353, 2890, 8902, 20470, 6525, 3775, 2546, 13642, 2278, 4649, 2552, 26744, 5142, 2229, 3802, 14306, 2480, 16655, 4807, 19723, 15859, 7869, 3802, 26157, 1025, 29536, 2271, 4012, 23041, 7413, 2480, 19723, 15859, 7869, 3672, 4895, 12247, 7505, 1048, 1005, 10927, 5897, 2063, 4241, 4013, 15759, 19554, 6970, 4135, 26869, 9236, 5142, 2229, 1025, 29536, 2271, 3802, 2229, 11721, 17884, 2139, 2474, 24209, 11475, 2618, 4241, 4013, 15759, 4372, 21183, 24411, 4630, 15068, 4372, 3449, 7875, 18842, 2102, 4649, 2041, 12146, 26785, 7971, 14737, 2015, 1037, 2365, 24086, 5737, 3802, 1037, 2365, 9312, 1025, 29536, 2271, 8750, 2480, 3802, 2112, 28775, 5051, 2480, 1037, 4078, 10301, 2015, 1010, 9043, 4041, 3802, 9043, 3319, 1025, 29536, 2271, 29536, 2271, 2702, 9351, 12367, 2063, 7505, 4649, 10514, 15759, 2015, 4372, 4682, 2078, 13642, 2278, 3393, 4013, 15759, 1025, 29536, 2271, 15562, 28060, 1037, 2474, 14967, 4241, 4013, 15759, 4372, 3466, 13860, 2102, 4649, 17241, 26785, 7971, 14737, 2015, 1010, 2025, 3286, 3672, 4372, 1042, 2239, 7542, 4078, 6622, 2015, 21416, 21197, 19516, 1025, 29536, 2271, 2417, 25538, 2480, 4649, 3964, 3802, 9680, 25378, 2128, 15549, 2015, 4372, 15581, 4630, 3393, 9530, 6528, 2226, 3802, 2474, 6627, 8713, 4221, 4372, 1042, 2239, 7542, 4078, 4078, 13770, 15444, 6072, 1012, 29536, 2271, 4503, 5051, 102]\n",
            "example['token_type_ids']: [0, 0, 0, 0, 0, 0, 0, 0, 0, 0, 0, 0, 0, 0, 0, 0, 0, 0, 0, 0, 0, 0, 0, 0, 0, 0, 0, 0, 0, 0, 0, 0, 0, 0, 0, 0, 0, 0, 0, 0, 0, 0, 0, 0, 0, 0, 0, 0, 0, 0, 0, 0, 0, 0, 0, 0, 0, 0, 0, 0, 0, 0, 0, 0, 0, 0, 0, 0, 0, 0, 0, 0, 0, 0, 0, 0, 0, 0, 0, 0, 0, 0, 0, 0, 0, 0, 0, 0, 0, 0, 0, 0, 0, 0, 0, 0, 0, 0, 0, 0, 0, 0, 0, 0, 0, 0, 0, 0, 0, 0, 0, 0, 0, 0, 0, 0, 0, 0, 0, 0, 0, 0, 0, 0, 0, 0, 0, 0, 0, 0, 0, 0, 0, 0, 0, 0, 0, 0, 0, 0, 0, 0, 0, 0, 0, 0, 0, 0, 0, 0, 0, 0, 0, 0, 0, 0, 0, 0, 0, 0, 0, 0, 0, 0, 0, 0, 0, 0, 0, 0, 0, 0, 0, 0, 0, 0, 0, 0, 0, 0, 0, 0, 0, 0, 0, 0, 0, 0, 0, 0, 0, 0, 0, 0, 0, 0, 0, 0, 0, 0, 0, 0, 0, 0, 0, 0, 0, 0, 0, 0, 0, 0, 0, 0, 0, 0, 0, 0, 0, 0, 0, 0, 0, 0, 0, 0, 0, 0, 0, 0, 0, 0, 0, 0, 0, 0, 0, 0, 0, 0, 0, 0, 0, 0, 0, 0, 0, 0, 0, 0, 0, 0, 0, 0, 0, 0, 0, 0, 0, 0, 0, 0, 0, 0, 0, 0, 0, 0, 0, 0, 0, 0, 0, 0, 0, 0, 0, 0, 0, 0, 0, 0, 0, 0, 0, 0, 0, 0, 0, 0, 0, 0, 0, 0, 0, 0, 0, 0, 0, 0, 0, 0, 0, 0, 0, 0, 0, 0, 0, 0, 0, 0, 0, 0, 0, 0, 0, 0, 0, 0, 0, 0, 0, 0, 0, 0, 0, 0, 0, 0, 0, 0, 0, 0, 0, 0, 0, 0, 0, 0, 0, 0, 0, 0, 0, 0, 0, 0, 0, 0, 0, 0, 0, 0, 0, 0, 0, 0, 0, 0, 0, 0, 0, 0, 0, 0, 0, 0, 0, 0, 0, 0, 0, 0, 0, 0, 0, 0, 0, 0, 0, 0, 0, 0, 0, 0, 0, 0, 0, 0, 0, 0, 0, 0, 0, 0, 0, 0, 0, 0, 0, 0, 0, 0, 0, 0, 0, 0, 0, 0, 0, 0, 0, 0, 0, 0, 0, 0, 0, 0, 0, 0, 0, 0, 0, 0, 0, 0, 0, 0, 0, 0, 0, 0, 0, 0, 0, 0, 0, 0, 0, 0, 0, 0, 0, 0, 0, 0, 0, 0, 0, 0, 0, 0, 0, 0, 0, 0, 0, 0, 0, 0, 0, 0, 0, 0, 0, 0, 0, 0, 0, 0, 0, 0, 0, 0, 0, 0, 0, 0, 0, 0, 0, 0, 0, 0, 0, 0, 0, 0, 0, 0, 0, 0, 0, 0, 0, 0, 0, 0, 0, 0, 0, 0, 0, 0, 0, 0, 0, 0, 0, 0]\n",
            "example['attention_mask']: [1, 1, 1, 1, 1, 1, 1, 1, 1, 1, 1, 1, 1, 1, 1, 1, 1, 1, 1, 1, 1, 1, 1, 1, 1, 1, 1, 1, 1, 1, 1, 1, 1, 1, 1, 1, 1, 1, 1, 1, 1, 1, 1, 1, 1, 1, 1, 1, 1, 1, 1, 1, 1, 1, 1, 1, 1, 1, 1, 1, 1, 1, 1, 1, 1, 1, 1, 1, 1, 1, 1, 1, 1, 1, 1, 1, 1, 1, 1, 1, 1, 1, 1, 1, 1, 1, 1, 1, 1, 1, 1, 1, 1, 1, 1, 1, 1, 1, 1, 1, 1, 1, 1, 1, 1, 1, 1, 1, 1, 1, 1, 1, 1, 1, 1, 1, 1, 1, 1, 1, 1, 1, 1, 1, 1, 1, 1, 1, 1, 1, 1, 1, 1, 1, 1, 1, 1, 1, 1, 1, 1, 1, 1, 1, 1, 1, 1, 1, 1, 1, 1, 1, 1, 1, 1, 1, 1, 1, 1, 1, 1, 1, 1, 1, 1, 1, 1, 1, 1, 1, 1, 1, 1, 1, 1, 1, 1, 1, 1, 1, 1, 1, 1, 1, 1, 1, 1, 1, 1, 1, 1, 1, 1, 1, 1, 1, 1, 1, 1, 1, 1, 1, 1, 1, 1, 1, 1, 1, 1, 1, 1, 1, 1, 1, 1, 1, 1, 1, 1, 1, 1, 1, 1, 1, 1, 1, 1, 1, 1, 1, 1, 1, 1, 1, 1, 1, 1, 1, 1, 1, 1, 1, 1, 1, 1, 1, 1, 1, 1, 1, 1, 1, 1, 1, 1, 1, 1, 1, 1, 1, 1, 1, 1, 1, 1, 1, 1, 1, 1, 1, 1, 1, 1, 1, 1, 1, 1, 1, 1, 1, 1, 1, 1, 1, 1, 1, 1, 1, 1, 1, 1, 1, 1, 1, 1, 1, 1, 1, 1, 1, 1, 1, 1, 1, 1, 1, 1, 1, 1, 1, 1, 1, 1, 1, 1, 1, 1, 1, 1, 1, 1, 1, 1, 1, 1, 1, 1, 1, 1, 1, 1, 1, 1, 1, 1, 1, 1, 1, 1, 1, 1, 1, 1, 1, 1, 1, 1, 1, 1, 1, 1, 1, 1, 1, 1, 1, 1, 1, 1, 1, 1, 1, 1, 1, 1, 1, 1, 1, 1, 1, 1, 1, 1, 1, 1, 1, 1, 1, 1, 1, 1, 1, 1, 1, 1, 1, 1, 1, 1, 1, 1, 1, 1, 1, 1, 1, 1, 1, 1, 1, 1, 1, 1, 1, 1, 1, 1, 1, 1, 1, 1, 1, 1, 1, 1, 1, 1, 1, 1, 1, 1, 1, 1, 1, 1, 1, 1, 1, 1, 1, 1, 1, 1, 1, 1, 1, 1, 1, 1, 1, 1, 1, 1, 1, 1, 1, 1, 1, 1, 1, 1, 1, 1, 1, 1, 1, 1, 1, 1, 1, 1, 1, 1, 1, 1, 1, 1, 1, 1, 1, 1, 1, 1, 1, 1, 1, 1, 1, 1, 1, 1, 1, 1, 1, 1, 1, 1, 1, 1, 1, 1, 1, 1, 1, 1, 1, 1, 1, 1, 1, 1, 1, 1, 1, 1, 1, 1, 1, 1, 1, 1, 1]\n",
            "example['labels']: [0.0, 0.0, 0.0, 0.0, 0.0, 0.0, 0.0, 0.0, 0.0, 0.0, 0.0, 0.0, 0.0, 0.0, 0.0, 0.0, 0.0, 0.0, 0.0, 1.0, 1.0, 0.0, 0.0, 0.0, 0.0, 0.0, 0.0, 0.0, 0.0, 0.0, 1.0, 0.0, 0.0, 0.0, 0.0, 0.0, 0.0, 0.0, 0.0, 0.0, 0.0, 0.0]\n"
          ]
        }
      ]
    },
    {
      "cell_type": "code",
      "metadata": {
        "colab": {
          "base_uri": "https://localhost:8080/",
          "height": 143
        },
        "id": "D0McCtJ8HRJY",
        "outputId": "9852e0de-7de0-40b3-e054-a2fd4dc1fb51"
      },
      "source": [
        "tokenizer.decode(example['input_ids'])"
      ],
      "execution_count": 154,
      "outputs": [
        {
          "output_type": "execute_result",
          "data": {
            "text/plain": [
              "\"[CLS] actiris - scrum master / gestionnaire de projets scrum master, chef de projets,. net actiris le service developpement d'actiris est compose d'une trentaine de personnes qui travaillent essentiellement sur des projets nouveaux ( dossier unique, plateforme pour la gestion des relations entre actiris et les partenaires, plateforme pour la gestion des relations entre actiris et les employeurs, mise en place d'un nouveau crm, etc. ). votre role en tant que scrum master / gestionnaire de projets, vous initiez et coordonnez, dans un environnement agile, des projets dans le cadre du developpement de nos nouvelles plateformes core business et vous veillez a leur bonne realisation dans les delais impartis. vos responsabilites vous collectez les informations necessaires au bon deroulement du projet et etes capable de discuter d'un backlog avec le metier ; vous determinez les etapes cles, planning et retro - planning highlevel sans forcement de requete aupres de l'equipe de developpement ; vous mettez en place un cadre collaboratif avec les acteurs concernes et assurez une communication reguliere et constructive ; vous communiquez regulierement un feedback sur l'avancee du projet aux interlocuteurs concernes ; vous etes garant de la qualite du projet en utilisant ou en elaborant les outils necessaires a son suivi et a son evaluation ; vous animez et participez a des reunions, sprint planning et sprint review ; vous vous tenez informe sur les sujets en lien avec le projet ; vous veillez a la progression du projet en effectuant les adaptations necessaires, notamment en fonction des evolutions technologiques ; vous redigez les notes et rapports requis en adaptant le contenu et la technicite en fonction des destinataires. vous developpe [SEP]\""
            ],
            "application/vnd.google.colaboratory.intrinsic+json": {
              "type": "string"
            }
          },
          "metadata": {},
          "execution_count": 154
        }
      ]
    },
    {
      "cell_type": "code",
      "metadata": {
        "colab": {
          "base_uri": "https://localhost:8080/"
        },
        "id": "q4Dx95t2o6N9",
        "outputId": "74717226-4b28-43d4-ec65-cfedb4361910"
      },
      "source": [
        "example = encoded_dataset['validation'][0]\n",
        "print(example[\"labels\"])\n"
      ],
      "execution_count": 155,
      "outputs": [
        {
          "output_type": "stream",
          "name": "stdout",
          "text": [
            "[0.0, 0.0, 0.0, 0.0, 0.0, 0.0, 0.0, 0.0, 0.0, 0.0, 0.0, 0.0, 0.0, 0.0, 0.0, 0.0, 0.0, 0.0, 0.0, 1.0, 1.0, 0.0, 0.0, 0.0, 0.0, 0.0, 0.0, 0.0, 0.0, 0.0, 1.0, 0.0, 0.0, 0.0, 0.0, 0.0, 0.0, 0.0, 0.0, 0.0, 0.0, 0.0]\n"
          ]
        }
      ]
    },
    {
      "cell_type": "code",
      "source": [
        "[id2label[idx] for idx, label in enumerate(example['labels']) if label == 1.0]\n"
      ],
      "metadata": {
        "colab": {
          "base_uri": "https://localhost:8080/"
        },
        "id": "6LAyThO7Jnvj",
        "outputId": "fc3abcf8-2933-4470-b57a-a301cafbcd66"
      },
      "execution_count": 156,
      "outputs": [
        {
          "output_type": "execute_result",
          "data": {
            "text/plain": [
              "['169', '170', '375']"
            ]
          },
          "metadata": {},
          "execution_count": 156
        }
      ]
    },
    {
      "cell_type": "markdown",
      "metadata": {
        "id": "HgpKXDfvKBxn"
      },
      "source": [
        "Finally, we set the format of our data to PyTorch tensors. This will turn the training, validation and test sets into standard PyTorch [datasets](https://pytorch.org/docs/stable/data.html)."
      ]
    },
    {
      "cell_type": "code",
      "metadata": {
        "id": "Lk6Cq9duKBkA"
      },
      "source": [
        "encoded_dataset.set_format(\"torch\")"
      ],
      "execution_count": 157,
      "outputs": []
    },
    {
      "cell_type": "markdown",
      "metadata": {
        "id": "w5qSmCgWefWs"
      },
      "source": [
        "## Define model\n",
        "\n",
        "Here we define a model that includes a pre-trained base (i.e. the weights from bert-base-uncased) are loaded, with a random initialized classification head (linear layer) on top. One should fine-tune this head, together with the pre-trained base on a labeled dataset.\n",
        "\n",
        "This is also printed by the warning.\n",
        "\n",
        "We set the `problem_type` to be \"multi_label_classification\", as this will make sure the appropriate loss function is used (namely [`BCEWithLogitsLoss`](https://pytorch.org/docs/stable/generated/torch.nn.BCEWithLogitsLoss.html)). We also make sure the output layer has `len(labels)` output neurons, and we set the id2label and label2id mappings."
      ]
    },
    {
      "cell_type": "code",
      "metadata": {
        "id": "6XPL1Z_RegBF",
        "colab": {
          "base_uri": "https://localhost:8080/"
        },
        "outputId": "0364afa4-4e77-418b-84f8-5c1951be04dc"
      },
      "source": [
        "from transformers import AutoModelForSequenceClassification\n",
        "\n",
        "model = AutoModelForSequenceClassification.from_pretrained(\"bert-base-uncased\",\n",
        "                                                           problem_type=\"multi_label_classification\",\n",
        "                                                           num_labels=len(labels),\n",
        "                                                           id2label=id2label,\n",
        "                                                           label2id=label2id)"
      ],
      "execution_count": 158,
      "outputs": [
        {
          "output_type": "stream",
          "name": "stderr",
          "text": [
            "Some weights of BertForSequenceClassification were not initialized from the model checkpoint at bert-base-uncased and are newly initialized: ['classifier.bias', 'classifier.weight']\n",
            "You should probably TRAIN this model on a down-stream task to be able to use it for predictions and inference.\n"
          ]
        }
      ]
    },
    {
      "cell_type": "code",
      "source": [
        "#raise Exception(\"STOP\")"
      ],
      "metadata": {
        "id": "AgsREtKnMA50"
      },
      "execution_count": 159,
      "outputs": []
    },
    {
      "cell_type": "markdown",
      "metadata": {
        "id": "mjJGEXShp7te"
      },
      "source": [
        "## Train the model!\n",
        "\n",
        "We are going to train the model using HuggingFace's Trainer API. This requires us to define 2 things:\n",
        "\n",
        "* `TrainingArguments`, which specify training hyperparameters. All options can be found in the [docs](https://huggingface.co/transformers/main_classes/trainer.html#trainingarguments). Below, we for example specify that we want to evaluate after every epoch of training, we would like to save the model every epoch, we set the learning rate, the batch size to use for training/evaluation, how many epochs to train for, and so on.\n",
        "* a `Trainer` object (docs can be found [here](https://huggingface.co/transformers/main_classes/trainer.html#id1))."
      ]
    },
    {
      "cell_type": "code",
      "metadata": {
        "id": "K5a8_vIKqr7P"
      },
      "source": [
        "batch_size = 8\n",
        "metric_name = \"f1\""
      ],
      "execution_count": 160,
      "outputs": []
    },
    {
      "cell_type": "code",
      "metadata": {
        "id": "dR2GmpvDqbuZ",
        "colab": {
          "base_uri": "https://localhost:8080/"
        },
        "outputId": "5974d4d7-a836-4403-f40c-9f2c7e8698bb"
      },
      "source": [
        "from transformers import TrainingArguments, Trainer\n",
        "\n",
        "args = TrainingArguments(\n",
        "    f\"C:\\\\tmp\\\\BERT_results\",\n",
        "    evaluation_strategy = \"epoch\",\n",
        "    save_strategy = \"epoch\",\n",
        "    learning_rate=2e-5,\n",
        "    per_device_train_batch_size=batch_size,\n",
        "    per_device_eval_batch_size=batch_size,\n",
        "    num_train_epochs=5,\n",
        "    weight_decay=0.01,\n",
        "    load_best_model_at_end=True,\n",
        "    metric_for_best_model=metric_name,\n",
        "    save_steps=100\n",
        "    #push_to_hub=True,\n",
        ")"
      ],
      "execution_count": 163,
      "outputs": [
        {
          "output_type": "stream",
          "name": "stderr",
          "text": [
            "/usr/local/lib/python3.10/dist-packages/transformers/training_args.py:1525: FutureWarning: `evaluation_strategy` is deprecated and will be removed in version 4.46 of 🤗 Transformers. Use `eval_strategy` instead\n",
            "  warnings.warn(\n"
          ]
        }
      ]
    },
    {
      "cell_type": "markdown",
      "metadata": {
        "id": "1_v2fPFFJ3-v"
      },
      "source": [
        "We are also going to compute metrics while training. For this, we need to define a `compute_metrics` function, that returns a dictionary with the desired metric values."
      ]
    },
    {
      "cell_type": "code",
      "metadata": {
        "id": "797b2WHJqUgZ"
      },
      "source": [
        "from sklearn.metrics import f1_score, roc_auc_score, accuracy_score\n",
        "from transformers import EvalPrediction\n",
        "import torch\n",
        "\n",
        "# source: https://jesusleal.io/2021/04/21/Longformer-multilabel-classification/\n",
        "def multi_label_metrics(predictions, labels, threshold=0.5):\n",
        "    # first, apply sigmoid on predictions which are of shape (batch_size, num_labels)\n",
        "    sigmoid = torch.nn.Sigmoid()\n",
        "    probs = sigmoid(torch.Tensor(predictions))\n",
        "    # next, use threshold to turn them into integer predictions\n",
        "    y_pred = np.zeros(probs.shape)\n",
        "    y_pred[np.where(probs >= threshold)] = 1\n",
        "    # finally, compute metrics\n",
        "    y_true = labels\n",
        "    f1_micro_average = f1_score(y_true=y_true, y_pred=y_pred, average='micro')\n",
        "    roc_auc = roc_auc_score(y_true, y_pred, average = 'micro')\n",
        "    accuracy = accuracy_score(y_true, y_pred)\n",
        "    # return as dictionary\n",
        "    metrics = {'f1': f1_micro_average,\n",
        "               'roc_auc': roc_auc,\n",
        "               'accuracy': accuracy}\n",
        "    return metrics\n",
        "\n",
        "def compute_metrics(p: EvalPrediction):\n",
        "    preds = p.predictions[0] if isinstance(p.predictions,\n",
        "            tuple) else p.predictions\n",
        "    result = multi_label_metrics(\n",
        "        predictions=preds,\n",
        "        labels=p.label_ids)\n",
        "    return result"
      ],
      "execution_count": 164,
      "outputs": []
    },
    {
      "cell_type": "markdown",
      "metadata": {
        "id": "fxNo4_TsvzDm"
      },
      "source": [
        "Let's verify a batch as well as a forward pass:"
      ]
    },
    {
      "cell_type": "code",
      "metadata": {
        "id": "IlOgGiojuWwG",
        "colab": {
          "base_uri": "https://localhost:8080/",
          "height": 38
        },
        "outputId": "eca2e077-b393-4e74-9d6d-f15fa48ab5f9"
      },
      "source": [
        "encoded_dataset['train'][0]['labels'].type()"
      ],
      "execution_count": 165,
      "outputs": [
        {
          "output_type": "execute_result",
          "data": {
            "text/plain": [
              "'torch.FloatTensor'"
            ],
            "application/vnd.google.colaboratory.intrinsic+json": {
              "type": "string"
            }
          },
          "metadata": {},
          "execution_count": 165
        }
      ]
    },
    {
      "cell_type": "code",
      "metadata": {
        "id": "Y41Kre_jvD7x",
        "colab": {
          "base_uri": "https://localhost:8080/"
        },
        "outputId": "ab0d1289-10d1-4ac5-c226-fbca35e32e57"
      },
      "source": [
        "encoded_dataset['train']['input_ids'][0]"
      ],
      "execution_count": 166,
      "outputs": [
        {
          "output_type": "execute_result",
          "data": {
            "text/plain": [
              "tensor([  101,  1999,  3388,  2819,  1011,  2613,  3527, 13728,  2368,  1011,\n",
              "        24296,  6112,  3992, 24296,  6112,  1999,  3388,  2819,  1011,  2613,\n",
              "         3527, 13728,  2368,  2115,  3853,  2000,  2490,  1996, 27258,  3930,\n",
              "         1997,  2256, 24296,  3218,  1010,  2057,  2024,  2559,  2005,  2195,\n",
              "        24296,  6112,  6145,  1012,  2182,  1005,  1055,  2129,  2017,  1005,\n",
              "         2222,  2191,  4254,  1024,  2005,  3469,  3934,  2017,  2147,  1999,\n",
              "         2136,  2007,  2060, 24296,  6112,  6145,  1010,  6112,  5576,  8160,\n",
              "         1998,  2622, 10489,  2000,  4339,  1037,  2047,  3112,  2466,  1012,\n",
              "         2057,  2064,  4175,  2006,  2017,  2005,  1996,  2658,  7375,  1997,\n",
              "         1996,  8518, 18011,  2000,  2017,  1012,  2005,  3760,  6112,  3934,\n",
              "         2017,  2024,  1999,  3715,  2005,  1996,  2440,  8147,  1024,  2017,\n",
              "        18012,  2115,  7396,  2013,  1996,  2640,  2127,  2010,  5576,  2003,\n",
              "         3929,  6515,  1012,  1999,  2804,  2000, 24853,  1010,  2017,  2036,\n",
              "         3749,  2353,  1011,  2240,  2490,  2000,  6304,  1998,  8628,  1012,\n",
              "        19309,  2003,  1999,  2115,  9165,  1012,  2017,  2467, 29453,  2000,\n",
              "         2191,  2115,  2166,  1998,  2008,  1997,  1996,  3169,  6145,  6082,\n",
              "         2011,  8285, 18900,  2075,  2673,  1012,  6502,  1011,  2004,  1011,\n",
              "         3642,  2515,  2025,  2614,  6881,  2000,  2017,  1012,  2017,  3231,\n",
              "        12246,  1010,  1998,  2017,  2123,  1005,  1056, 12014,  2006,  3737,\n",
              "         1012,  2017, 25276,  2000,  2613,  3527, 13728,  6132,  2190,  6078,\n",
              "         1998,  2377,  2019,  3161,  2535,  1999,  1996,  7142,  7620,  2011,\n",
              "         2437, 15690,  1998, 12719,  2241,  2006,  2115,  3679,  2398,  1011,\n",
              "         2006,  3325,  1012,  2017,  2097,  2022,  2920,  2076, 13433,  6169,\n",
              "         1010,  8221,  1998,  4013, 19620,  2578,  1999,  3388,  2819,  1011,\n",
              "         2613,  3527, 13728,  2368,  4107,  2004,  1037,  6112,  3266,  2578,\n",
              "        10802,  1006,  5796,  2361,  1007,  1010,  2107,  1037,  3465, 20600,\n",
              "         1010,  2166, 23490,  2968,  1010,  4294, 20600,  1010,  1012,  1012,\n",
              "         1012,  2017,  2562,  2115,  2147,  2092,  1011,  8832,  1010,  3154,\n",
              "         1998,  2000,  1996,  2391,  1012,  2115,  6337,  2017,  2024,  5281,\n",
              "         1999, 24296,  2004,  1037,  2291,  3992,  2017,  2031,  1037,  3492,\n",
              "         2204,  4824,  1997,  1996, 24296,  6502,  1011,  2004,  1011,  1037,\n",
              "         1011,  2326,  4132,  1998,  2064, 14358,  1996,  2794,  3643,  1997,\n",
              "        24264,  3022,  6177,  2005,  7846,  1005,  7972,  8146,  1012,  2017,\n",
              "         2024,  9461,  2000,  4553,  1998, 12479,  1012,  2017,  2036, 15697,\n",
              "         2115,  2219,  2051,  1999,  4363,  2115,  5566, 14767,  2039,  1011,\n",
              "         2000,  1011,  3058,  1012,  2017,  2024,  1037,  2613,  2136,  2447,\n",
              "         1010,  2021,  2017,  2036,  2131,  2006,  2074,  2986,  2006,  2115,\n",
              "         2219,  1012,  2017,  2024, 14286, 10571,  1998,  2467,  5627,  2000,\n",
              "         3745,  3716,  2007,  8628,  1012,  2017,  2024, 12379,  1998, 13070,\n",
              "         2000,  6911,  1012,  2017,  2147, 14125,  1998,  2006,  1037,  2622,\n",
              "         3978,  1010,  1998,  2017,  2024,  2025,  4810,  2000,  2191, 12014,\n",
              "         2015,  2043,  2009,  3310,  2000,  3737,  1012,  2017,  3713, 19376,\n",
              "         2135,  3803,  1998,  2394,  2030,  2413,  1998,  2394,  1012,  2065,\n",
              "         2008,  1005,  1055,  2017,  1010,  2272,  1999,  1998,  2031,  1037,\n",
              "         2831,  2007,  2149,   999,  2256,  3749,  1996,  4495,  2000,  2031,\n",
              "         1037, 15902,  3105,  2073,  2017,  2064,  2191,  1037,  4489,  1025,\n",
              "         1996,  3382,  2000, 10843, 19852,  2004,  1037,  2658,  1010, 11211,\n",
              "         2007,  1037,  3528,  1997,  2731,  6695,  1025,  1999,  3388,  2819,\n",
              "         1011,  2613,  3527, 13728,  2368,  4122,  2017,  2000,  2424,  1037,\n",
              "         5703,  2090,  2147,  1998,  2797,  2166,  2011,  5378, 12379,  2847,\n",
              "         1010,  5871,  4822,  1998,  2188,  2551,  1025,  3590,  2420,  1997,\n",
              "         3296,   102])"
            ]
          },
          "metadata": {},
          "execution_count": 166
        }
      ]
    },
    {
      "cell_type": "code",
      "metadata": {
        "id": "sxWcnZ8ku12V",
        "colab": {
          "base_uri": "https://localhost:8080/"
        },
        "outputId": "3dfda545-636d-4a92-e197-2ef51297a9a8"
      },
      "source": [
        "#forward pass\n",
        "print(f\"inputids: {type(encoded_dataset['train']['input_ids'][0])} {encoded_dataset['train']['input_ids'][0].shape}\")\n",
        "print(f\"attention_mask: {type(encoded_dataset['train']['attention_mask'][0])} {encoded_dataset['train']['attention_mask'][0].shape}\")\n",
        "print(f\"labels: {type(encoded_dataset['train'][0]['labels'])} {encoded_dataset['train'][0]['labels'].shape}\")\n",
        "\n",
        "outputs = model(input_ids=encoded_dataset['train']['input_ids'][0].unsqueeze(0),\n",
        "                attention_mask=encoded_dataset['train']['attention_mask'][0].unsqueeze(0),\n",
        "                labels=encoded_dataset['train'][0]['labels'].unsqueeze(0))\n",
        "outputs"
      ],
      "execution_count": 167,
      "outputs": [
        {
          "output_type": "stream",
          "name": "stdout",
          "text": [
            "inputids: <class 'torch.Tensor'> torch.Size([512])\n",
            "attention_mask: <class 'torch.Tensor'> torch.Size([512])\n",
            "labels: <class 'torch.Tensor'> torch.Size([42])\n"
          ]
        },
        {
          "output_type": "execute_result",
          "data": {
            "text/plain": [
              "SequenceClassifierOutput(loss=tensor(0.7052, grad_fn=<BinaryCrossEntropyWithLogitsBackward0>), logits=tensor([[ 0.0229,  0.3780, -0.2274, -0.1854,  0.1064,  0.1191,  0.1699, -0.5683,\n",
              "          0.4452, -0.6845,  0.3506,  0.6934, -0.3370,  0.0500,  0.0494,  0.3355,\n",
              "         -0.2689,  0.4613, -0.4316, -0.2425,  0.5372,  0.4277,  0.0832, -0.0118,\n",
              "          0.3681, -0.9598,  0.2862, -0.0103,  0.1475,  0.0441,  0.1987, -0.1984,\n",
              "         -0.5925, -0.2784, -0.1586, -0.0764, -0.0824, -0.3391,  0.1928,  0.2436,\n",
              "          0.0190, -0.2196]], grad_fn=<AddmmBackward0>), hidden_states=None, attentions=None)"
            ]
          },
          "metadata": {},
          "execution_count": 167
        }
      ]
    },
    {
      "cell_type": "markdown",
      "metadata": {
        "id": "f-X2brZcv0X6"
      },
      "source": [
        "Let's start training!"
      ]
    },
    {
      "cell_type": "code",
      "metadata": {
        "id": "chq_3nUz73ib"
      },
      "source": [
        "trainer = Trainer(\n",
        "    model,\n",
        "    args,\n",
        "    train_dataset=encoded_dataset[\"train\"],\n",
        "    eval_dataset=encoded_dataset[\"validation\"],\n",
        "    tokenizer=tokenizer,\n",
        "    compute_metrics=compute_metrics\n",
        ")"
      ],
      "execution_count": 168,
      "outputs": []
    },
    {
      "cell_type": "code",
      "metadata": {
        "id": "KXmFds8js6P8",
        "colab": {
          "base_uri": "https://localhost:8080/",
          "height": 267
        },
        "outputId": "c0087630-41c0-43dc-fada-f2444fcaf7e5"
      },
      "source": [
        "trainer.train()"
      ],
      "execution_count": 169,
      "outputs": [
        {
          "output_type": "display_data",
          "data": {
            "text/plain": [
              "<IPython.core.display.HTML object>"
            ],
            "text/html": [
              "\n",
              "    <div>\n",
              "      \n",
              "      <progress value='80' max='80' style='width:300px; height:20px; vertical-align: middle;'></progress>\n",
              "      [80/80 05:03, Epoch 5/5]\n",
              "    </div>\n",
              "    <table border=\"1\" class=\"dataframe\">\n",
              "  <thead>\n",
              " <tr style=\"text-align: left;\">\n",
              "      <th>Epoch</th>\n",
              "      <th>Training Loss</th>\n",
              "      <th>Validation Loss</th>\n",
              "      <th>F1</th>\n",
              "      <th>Roc Auc</th>\n",
              "      <th>Accuracy</th>\n",
              "    </tr>\n",
              "  </thead>\n",
              "  <tbody>\n",
              "    <tr>\n",
              "      <td>1</td>\n",
              "      <td>No log</td>\n",
              "      <td>0.523046</td>\n",
              "      <td>0.028986</td>\n",
              "      <td>0.493314</td>\n",
              "      <td>0.000000</td>\n",
              "    </tr>\n",
              "    <tr>\n",
              "      <td>2</td>\n",
              "      <td>No log</td>\n",
              "      <td>0.442285</td>\n",
              "      <td>0.000000</td>\n",
              "      <td>0.500000</td>\n",
              "      <td>0.000000</td>\n",
              "    </tr>\n",
              "    <tr>\n",
              "      <td>3</td>\n",
              "      <td>No log</td>\n",
              "      <td>0.400139</td>\n",
              "      <td>0.000000</td>\n",
              "      <td>0.500000</td>\n",
              "      <td>0.000000</td>\n",
              "    </tr>\n",
              "    <tr>\n",
              "      <td>4</td>\n",
              "      <td>No log</td>\n",
              "      <td>0.378894</td>\n",
              "      <td>0.000000</td>\n",
              "      <td>0.500000</td>\n",
              "      <td>0.000000</td>\n",
              "    </tr>\n",
              "    <tr>\n",
              "      <td>5</td>\n",
              "      <td>No log</td>\n",
              "      <td>0.372132</td>\n",
              "      <td>0.000000</td>\n",
              "      <td>0.500000</td>\n",
              "      <td>0.000000</td>\n",
              "    </tr>\n",
              "  </tbody>\n",
              "</table><p>"
            ]
          },
          "metadata": {}
        },
        {
          "output_type": "execute_result",
          "data": {
            "text/plain": [
              "TrainOutput(global_step=80, training_loss=0.4566977024078369, metrics={'train_runtime': 304.4661, 'train_samples_per_second': 2.102, 'train_steps_per_second': 0.263, 'total_flos': 168451552051200.0, 'train_loss': 0.4566977024078369, 'epoch': 5.0})"
            ]
          },
          "metadata": {},
          "execution_count": 169
        }
      ]
    },
    {
      "cell_type": "markdown",
      "metadata": {
        "id": "hiloh9eMK91o"
      },
      "source": [
        "## Evaluate\n",
        "\n",
        "After training, we evaluate our model on the validation set."
      ]
    },
    {
      "cell_type": "code",
      "metadata": {
        "id": "cMlebJ83LRYG",
        "colab": {
          "base_uri": "https://localhost:8080/",
          "height": 176
        },
        "outputId": "0938ddf5-11f8-4f32-ab07-feb6ad5489bb"
      },
      "source": [
        "trainer.evaluate()"
      ],
      "execution_count": 170,
      "outputs": [
        {
          "output_type": "display_data",
          "data": {
            "text/plain": [
              "<IPython.core.display.HTML object>"
            ],
            "text/html": [
              "\n",
              "    <div>\n",
              "      \n",
              "      <progress value='3' max='3' style='width:300px; height:20px; vertical-align: middle;'></progress>\n",
              "      [3/3 00:00]\n",
              "    </div>\n",
              "    "
            ]
          },
          "metadata": {}
        },
        {
          "output_type": "execute_result",
          "data": {
            "text/plain": [
              "{'eval_loss': 0.5230456590652466,\n",
              " 'eval_f1': 0.028985507246376812,\n",
              " 'eval_roc_auc': 0.49331400307010065,\n",
              " 'eval_accuracy': 0.0,\n",
              " 'eval_runtime': 0.7134,\n",
              " 'eval_samples_per_second': 25.231,\n",
              " 'eval_steps_per_second': 4.205,\n",
              " 'epoch': 5.0}"
            ]
          },
          "metadata": {},
          "execution_count": 170
        }
      ]
    },
    {
      "cell_type": "markdown",
      "metadata": {
        "id": "3nmvJp0pLq-3"
      },
      "source": [
        "## Inference\n",
        "\n",
        "Let's test the model on a new sentence:"
      ]
    },
    {
      "cell_type": "markdown",
      "source": [
        "\"Voor een klant van Talencia ben ik opzoek naar een Senior Full Stack Developer (Java & Angular) Job beschrijving Als Developer zal je een bestaand team toevoegen en meewerken aan de buitbouw van webapplicaties op Azure. Dit is om bestaande applicaties te vervangen die end-of-live zijn. Het project is al in volle realisatie. Profiel Zeer goede kennis van Java en Angular Goede kennis van Azure DevOps, AKS,.. is een grote pluspunt Kennis van Docker/ SQL/ OAuth/PWA/ RESTful API is vereist Taal: Nederlands met kennis van Engels Extra informatie Teamspeler met ervaring in Agile methodiek is vereist. Als je meer informatie wilt en dit klinkt interessant voor u, aarzel dan niet om uw meest recente CV door te sturen. Het kan zijn dat ik niet beschik over uw meest recente CV en dat ik daarom u deze opportuniteit doorstuur dat niet geschikt is voor u. Als u iemand kent dat deze missie interessant zou vinden mag u deze vacature doorsturen. Met vriendelijke groeten,\",\"142 (7),189,190,754,208,794,676,811,812,139,138\"\n",
        "146 (7)"
      ],
      "metadata": {
        "id": "AHY6-zJ1YVDb"
      }
    },
    {
      "cell_type": "code",
      "metadata": {
        "id": "3fxjfr8PLD42"
      },
      "source": [
        "text = \"Voor een klant van Talencia ben ik opzoek naar een Senior Full Stack Developer (Java & Angular) Job beschrijving Als Developer zal je een bestaand team toevoegen en meewerken aan de buitbouw van webapplicaties op Azure. Dit is om bestaande applicaties te vervangen die end-of-live zijn. Het project is al in volle realisatie. Profiel Zeer goede kennis van Java en Angular Goede kennis van Azure DevOps, AKS,.. is een grote pluspunt Kennis van Docker/ SQL/ OAuth/PWA/ RESTful API is vereist Taal: Nederlands met kennis van Engels Extra informatie Teamspeler met ervaring in Agile methodiek is vereist. Als je meer informatie wilt en dit klinkt interessant voor u, aarzel dan niet om uw meest recente CV door te sturen. Het kan zijn dat ik niet beschik over uw meest recente CV en dat ik daarom u deze opportuniteit doorstuur dat niet geschikt is voor u. Als u iemand kent dat deze missie interessant zou vinden mag u deze vacature doorsturen. Met vriendelijke groeten\"\n",
        "\n",
        "encoding = tokenizer(text, return_tensors=\"pt\")\n",
        "encoding = {k: v.to(trainer.model.device) for k,v in encoding.items()}\n",
        "\n",
        "outputs = trainer.model(**encoding)"
      ],
      "execution_count": 171,
      "outputs": []
    },
    {
      "cell_type": "markdown",
      "metadata": {
        "id": "8THm5-XgNHPm"
      },
      "source": [
        "The logits that come out of the model are of shape (batch_size, num_labels). As we are only forwarding a single sentence through the model, the `batch_size` equals 1. The logits is a tensor that contains the (unnormalized) scores for every individual label."
      ]
    },
    {
      "cell_type": "code",
      "metadata": {
        "id": "KOBosj4UL2tU",
        "colab": {
          "base_uri": "https://localhost:8080/"
        },
        "outputId": "073769be-e714-4231-e3f6-5ff1f7ac4fbe"
      },
      "source": [
        "logits = outputs.logits\n",
        "logits.shape"
      ],
      "execution_count": 172,
      "outputs": [
        {
          "output_type": "execute_result",
          "data": {
            "text/plain": [
              "torch.Size([1, 42])"
            ]
          },
          "metadata": {},
          "execution_count": 172
        }
      ]
    },
    {
      "cell_type": "markdown",
      "metadata": {
        "id": "DC4XdDaHNVcd"
      },
      "source": [
        "To turn them into actual predicted labels, we first apply a sigmoid function independently to every score, such that every score is turned into a number between 0 and 1, that can be interpreted as a \"probability\" for how certain the model is that a given class belongs to the input text.\n",
        "\n",
        "Next, we use a threshold (typically, 0.5) to turn every probability into either a 1 (which means, we predict the label for the given example) or a 0 (which means, we don't predict the label for the given example)."
      ]
    },
    {
      "cell_type": "code",
      "metadata": {
        "id": "mEkAQleMMT0k",
        "colab": {
          "base_uri": "https://localhost:8080/"
        },
        "outputId": "4778abe5-70b4-4c90-ed0e-af2e0d256c6b"
      },
      "source": [
        "# apply sigmoid + threshold\n",
        "sigmoid = torch.nn.Sigmoid()\n",
        "probs = sigmoid(logits.squeeze().cpu())\n",
        "predictions = np.zeros(probs.shape)\n",
        "predictions[np.where(probs >= 0.5)] = 1\n",
        "# turn predicted id's into actual label names\n",
        "predicted_labels = [id2label[idx] for idx, label in enumerate(predictions) if label == 1.0]\n",
        "print(predicted_labels)"
      ],
      "execution_count": 173,
      "outputs": [
        {
          "output_type": "stream",
          "name": "stdout",
          "text": [
            "['146']\n"
          ]
        }
      ]
    },
    {
      "cell_type": "code",
      "source": [],
      "metadata": {
        "id": "tYg_8RvWYwPM"
      },
      "execution_count": 173,
      "outputs": []
    }
  ]
}