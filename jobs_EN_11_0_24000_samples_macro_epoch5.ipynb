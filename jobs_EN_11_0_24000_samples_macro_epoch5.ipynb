{
  "cells": [
    {
      "cell_type": "markdown",
      "metadata": {
        "id": "view-in-github",
        "colab_type": "text"
      },
      "source": [
        "<a href=\"https://colab.research.google.com/github/claudelepere/ML_GitHub/blob/main/jobs_EN_11_0_24000_samples_macro_epoch5.ipynb\" target=\"_parent\"><img src=\"https://colab.research.google.com/assets/colab-badge.svg\" alt=\"Open In Colab\"/></a>"
      ]
    },
    {
      "cell_type": "code",
      "execution_count": 1,
      "metadata": {
        "id": "9OIjOPWowcJq",
        "colab": {
          "base_uri": "https://localhost:8080/"
        },
        "outputId": "3e05801a-c37e-475e-8999-4f0c535b7bb1"
      },
      "outputs": [
        {
          "output_type": "stream",
          "name": "stdout",
          "text": [
            "\u001b[2K   \u001b[90m━━━━━━━━━━━━━━━━━━━━━━━━━━━━━━━━━━━━━━━━\u001b[0m \u001b[32m363.4/363.4 MB\u001b[0m \u001b[31m2.8 MB/s\u001b[0m eta \u001b[36m0:00:00\u001b[0m\n",
            "\u001b[2K   \u001b[90m━━━━━━━━━━━━━━━━━━━━━━━━━━━━━━━━━━━━━━━━\u001b[0m \u001b[32m13.8/13.8 MB\u001b[0m \u001b[31m83.7 MB/s\u001b[0m eta \u001b[36m0:00:00\u001b[0m\n",
            "\u001b[2K   \u001b[90m━━━━━━━━━━━━━━━━━━━━━━━━━━━━━━━━━━━━━━━━\u001b[0m \u001b[32m24.6/24.6 MB\u001b[0m \u001b[31m74.6 MB/s\u001b[0m eta \u001b[36m0:00:00\u001b[0m\n",
            "\u001b[2K   \u001b[90m━━━━━━━━━━━━━━━━━━━━━━━━━━━━━━━━━━━━━━━━\u001b[0m \u001b[32m883.7/883.7 kB\u001b[0m \u001b[31m52.1 MB/s\u001b[0m eta \u001b[36m0:00:00\u001b[0m\n",
            "\u001b[2K   \u001b[90m━━━━━━━━━━━━━━━━━━━━━━━━━━━━━━━━━━━━━━━━\u001b[0m \u001b[32m664.8/664.8 MB\u001b[0m \u001b[31m1.6 MB/s\u001b[0m eta \u001b[36m0:00:00\u001b[0m\n",
            "\u001b[2K   \u001b[90m━━━━━━━━━━━━━━━━━━━━━━━━━━━━━━━━━━━━━━━━\u001b[0m \u001b[32m211.5/211.5 MB\u001b[0m \u001b[31m10.6 MB/s\u001b[0m eta \u001b[36m0:00:00\u001b[0m\n",
            "\u001b[2K   \u001b[90m━━━━━━━━━━━━━━━━━━━━━━━━━━━━━━━━━━━━━━━━\u001b[0m \u001b[32m56.3/56.3 MB\u001b[0m \u001b[31m39.0 MB/s\u001b[0m eta \u001b[36m0:00:00\u001b[0m\n",
            "\u001b[2K   \u001b[90m━━━━━━━━━━━━━━━━━━━━━━━━━━━━━━━━━━━━━━━━\u001b[0m \u001b[32m127.9/127.9 MB\u001b[0m \u001b[31m18.0 MB/s\u001b[0m eta \u001b[36m0:00:00\u001b[0m\n",
            "\u001b[2K   \u001b[90m━━━━━━━━━━━━━━━━━━━━━━━━━━━━━━━━━━━━━━━━\u001b[0m \u001b[32m207.5/207.5 MB\u001b[0m \u001b[31m4.3 MB/s\u001b[0m eta \u001b[36m0:00:00\u001b[0m\n",
            "\u001b[2K   \u001b[90m━━━━━━━━━━━━━━━━━━━━━━━━━━━━━━━━━━━━━━━━\u001b[0m \u001b[32m21.1/21.1 MB\u001b[0m \u001b[31m101.4 MB/s\u001b[0m eta \u001b[36m0:00:00\u001b[0m\n",
            "\u001b[2K   \u001b[90m━━━━━━━━━━━━━━━━━━━━━━━━━━━━━━━━━━━━━━━━\u001b[0m \u001b[32m485.4/485.4 kB\u001b[0m \u001b[31m26.9 MB/s\u001b[0m eta \u001b[36m0:00:00\u001b[0m\n",
            "\u001b[2K   \u001b[90m━━━━━━━━━━━━━━━━━━━━━━━━━━━━━━━━━━━━━━━━\u001b[0m \u001b[32m116.3/116.3 kB\u001b[0m \u001b[31m11.1 MB/s\u001b[0m eta \u001b[36m0:00:00\u001b[0m\n",
            "\u001b[2K   \u001b[90m━━━━━━━━━━━━━━━━━━━━━━━━━━━━━━━━━━━━━━━━\u001b[0m \u001b[32m143.5/143.5 kB\u001b[0m \u001b[31m13.7 MB/s\u001b[0m eta \u001b[36m0:00:00\u001b[0m\n",
            "\u001b[2K   \u001b[90m━━━━━━━━━━━━━━━━━━━━━━━━━━━━━━━━━━━━━━━━\u001b[0m \u001b[32m194.8/194.8 kB\u001b[0m \u001b[31m16.3 MB/s\u001b[0m eta \u001b[36m0:00:00\u001b[0m\n",
            "\u001b[?25h"
          ]
        }
      ],
      "source": [
        "!pip install -q accelerate\n",
        "!pip install -q huggingface_hub\n",
        "!pip install -q scikit-learn\n",
        "!pip install -q transformers datasets  # transformers and datasets are Hugging Face libraries\n",
        "!pip install -q wandb"
      ]
    },
    {
      "cell_type": "code",
      "execution_count": 2,
      "metadata": {
        "id": "Ync6uXy-wcJs"
      },
      "outputs": [],
      "source": [
        "import datetime\n",
        "import json\n",
        "import numpy as np\n",
        "import os\n",
        "import pandas as pd\n",
        "import pickle\n",
        "import sys\n",
        "import time\n",
        "import torch\n",
        "import torch.nn.functional as F\n",
        "import wandb\n",
        "\n",
        "from datasets               import DatasetDict\n",
        "from google.colab           import auth, drive, files, userdata\n",
        "from huggingface_hub        import create_branch, create_repo, HfApi, login, upload_file, hf_hub_download, whoami\n",
        "from huggingface_hub.errors import RepositoryNotFoundError\n",
        "from sklearn.metrics        import f1_score, precision_score, recall_score, roc_auc_score, average_precision_score, accuracy_score, hamming_loss, classification_report,  precision_recall_fscore_support\n",
        "from torch.optim            import AdamW\n",
        "from torch.utils.data       import DataLoader\n",
        "from tqdm.auto              import tqdm\n",
        "from transformers           import EvalPrediction, LongformerTokenizerFast, LongformerForSequenceClassification, Trainer, TrainingArguments\n",
        "from torch.nn               import BCEWithLogitsLoss, Module"
      ]
    },
    {
      "cell_type": "markdown",
      "source": [
        "## Google Cloud Authentication"
      ],
      "metadata": {
        "id": "wXMnrvto55rW"
      }
    },
    {
      "cell_type": "code",
      "source": [
        "auth.authenticate_user()  # user = c.lepere@ictjob.be"
      ],
      "metadata": {
        "id": "dLG2EnRQ53G4"
      },
      "execution_count": 3,
      "outputs": []
    },
    {
      "cell_type": "markdown",
      "metadata": {
        "id": "-nkZXVHOruti"
      },
      "source": [
        "## Get skills and jobs"
      ]
    },
    {
      "cell_type": "code",
      "execution_count": 4,
      "metadata": {
        "colab": {
          "base_uri": "https://localhost:8080/"
        },
        "outputId": "b6e9a1a2-d2a9-410f-9edc-d4ef323c9990",
        "id": "kCDIh_QXrmdI"
      },
      "outputs": [
        {
          "output_type": "stream",
          "name": "stdout",
          "text": [
            "datasetDict_zip_file_name: dataset_EN_11_0_120.zip\n",
            "datasetDict_dir_name     : dataset_EN_11_0_120\n",
            "\n"
          ]
        }
      ],
      "source": [
        "skills         = 11\n",
        "all_rows_low   = 0\n",
        "all_rows_high  = 120 # 120 12000 24000\n",
        "num_datapoints = all_rows_high - all_rows_low\n",
        "\n",
        "datasetDict_zip_file_name = f\"dataset_EN_{skills}_{all_rows_low}_{all_rows_high}.zip\"\n",
        "datasetDict_dir_name      = os.path.splitext(datasetDict_zip_file_name)[0]\n",
        "\n",
        "print(f\"datasetDict_zip_file_name: {datasetDict_zip_file_name}\")\n",
        "print(f\"datasetDict_dir_name     : {datasetDict_dir_name}\")\n",
        "print()"
      ]
    },
    {
      "cell_type": "markdown",
      "source": [
        "## Averages\n",
        "<pre>\n",
        "- per sample: metrics are computed for each sample (= for each instance, = for each row of y_true and y_pred), and then averaged across all samples.\n",
        "- per label : metrics are computed for each label separately, and then averaged across all labels.\n",
        "- per batch : metrics are computed for each batch, and then averaged across all batches.\n",
        "\n",
        "- 'micro': Calculate metrics globally by counting the total true positives, false negatives and false positives.\n",
        "           Gives more weight to frequent labels → best for imbalanced datasets where frequent labels are more important.\n",
        "- 'macro': Calculate metrics for each label separately, and find their unweighted mean.\n",
        "           This does not take label imbalance into account. This is fine for balanced datasets but not for imbalanced datasets since rare labels are given equal weights.\n",
        "           Averages the metric for each label without considering their imbalance, without considering label frequency.\n",
        "           When to use: when wanting equal importance for all labels, including rare ones.\n",
        "           Treats all labels equally → best when you care about rare labels as much as frequent ones.\n",
        "- 'weighted': Calculate metrics for each label separately, and find their average weighted by support (= the number of true instances for each label). This alters ‘macro’ to account for label imbalance;\n",
        "              it can result in an F-score that is not between precision and recall.\n",
        "              Averages per label weighted by their support, without considering label frequency.\n",
        "              When to use: when wanting to reflect label imbalance (common labels contribute more).\n",
        "              Like macro but considers label frequency → best if you want a compromise between macro and micro.\n",
        "- 'samples': Calculate metrics per sample instead of per label, and find their average (only meaningful for multilabel-classification where this differs from accuracy_score).\n",
        "             Computes the metric per sample and then averages across all samples.\n",
        "             When to use: when each sample has multiple correct labels.\n",
        "\n",
        "- 'macro' or 'weighted' AUC is often best because AUC isn't as affected by class imbalance as F1/Precision/Recall\n",
        "- 'macro'      AUC: usually the best because it treats all labels equally, avoiding the dominance of frequent labels\n",
        "- 'weighted'   AUC: similar to macro but considers label frequency\n",
        "- 'macro'   PR AUC: best for imbalanced datasets because it treats rare labels fairly\n",
        "- 'weighted PR AUC: also good, but slightly biased toward frequent labels\n",
        "\n",
        "PR AUC is better than ROC AUC when you care about positive examples in imbalanced data.\n",
        "</pre>"
      ],
      "metadata": {
        "id": "XjjlUtVRMc_R"
      }
    },
    {
      "cell_type": "code",
      "source": [
        "training_average   = 'samples'              # 'weighted' (best) or 'samples\n",
        "evaluation_average = 'macro'                # 'macro'    (best) or 'weighted'\n",
        "test_average       = evaluation_average\n",
        "prediction_average = 'micro'                # 'micro'    (best) or 'samples' (prediction of unseen datapoints)"
      ],
      "metadata": {
        "id": "EBSQ6pLkMmhI"
      },
      "execution_count": 5,
      "outputs": []
    },
    {
      "cell_type": "markdown",
      "source": [
        "## Tune thresholds?"
      ],
      "metadata": {
        "id": "hgxRu9m4Kb4_"
      }
    },
    {
      "cell_type": "code",
      "source": [
        "threshold_tuning = True"
      ],
      "metadata": {
        "id": "1KUJss-mKmRw"
      },
      "execution_count": 6,
      "outputs": []
    },
    {
      "cell_type": "markdown",
      "source": [
        "## Upload to HF Hub?"
      ],
      "metadata": {
        "id": "lBe6WmEbwq2W"
      }
    },
    {
      "cell_type": "code",
      "source": [
        "upload_to_HF = True\n",
        "repo_id      = ''\n",
        "timestamp    = ''\n"
      ],
      "metadata": {
        "id": "riGK-dwYr1kw"
      },
      "execution_count": 7,
      "outputs": []
    },
    {
      "cell_type": "markdown",
      "metadata": {
        "id": "98L73sydik95"
      },
      "source": [
        "## Hugging Face Hub (HF Hub) authenticate"
      ]
    },
    {
      "cell_type": "code",
      "execution_count": 8,
      "metadata": {
        "id": "BNxYo9txwcJs",
        "colab": {
          "base_uri": "https://localhost:8080/"
        },
        "outputId": "f36e5ef5-308e-4e3b-ed15-5019f1629672"
      },
      "outputs": [
        {
          "output_type": "stream",
          "name": "stderr",
          "text": [
            "Note: Environment variable`HF_TOKEN` is set and is the current active token independently from the token you've just configured.\n",
            "WARNING:huggingface_hub._login:Note: Environment variable`HF_TOKEN` is set and is the current active token independently from the token you've just configured.\n"
          ]
        },
        {
          "output_type": "stream",
          "name": "stdout",
          "text": [
            "user: {'type': 'user', 'id': '66ec3d5f61228b02f8780beb', 'name': 'claudelepere', 'fullname': 'Claude Lepère', 'isPro': False, 'avatarUrl': 'https://cdn-avatars.huggingface.co/v1/production/uploads/66ec3d5f61228b02f8780beb/gvnf9pvm2KvE90ETMUQo3.jpeg', 'orgs': [], 'auth': {'type': 'access_token', 'accessToken': {'displayName': 'jobs_token', 'role': 'fineGrained', 'createdAt': '2025-01-04T17:44:35.493Z', 'fineGrained': {'canReadGatedRepos': False, 'global': [], 'scoped': [{'entity': {'_id': '66ec3d5f61228b02f8780beb', 'type': 'user', 'name': 'claudelepere'}, 'permissions': ['repo.content.read', 'repo.write']}]}}}}\n"
          ]
        }
      ],
      "source": [
        "if upload_to_HF is True:\n",
        "\n",
        "  os.environ[\"HF_TOKEN\"] = userdata.get(\"HF_TOKEN\")    # Store the key in os.environ\n",
        "  hf_token               = os.environ.get('HF_TOKEN')\n",
        "\n",
        "  login(token=hf_token)\n",
        "\n",
        "  # Check\n",
        "  user = whoami(token=hf_token)\n",
        "  assert user['name'] == 'claudelepere', f\"{user['name']} is not claudelepere\"\n",
        "  print(f\"user: {user}\")"
      ]
    },
    {
      "cell_type": "markdown",
      "metadata": {
        "id": "aPBlVmE3wcJv"
      },
      "source": [
        "## repo_id, branch, model and dataset repos on HF Hub\n",
        "**1 repo = 1 model and 1 tokenizer**\n",
        "\n",
        "**branch = revision**"
      ]
    },
    {
      "cell_type": "code",
      "execution_count": 9,
      "metadata": {
        "id": "A1haRyaUwcJv",
        "colab": {
          "base_uri": "https://localhost:8080/"
        },
        "outputId": "07f59fab-6f61-44e0-f94d-9e52807f3e8d"
      },
      "outputs": [
        {
          "output_type": "stream",
          "name": "stdout",
          "text": [
            "Model Repo Url: https://huggingface.co/claudelepere/jobs_EN_11_0_24000_tuned_thresholds created successfully as a private repo\n",
            "Dataset Repo Url: https://huggingface.co/datasets/claudelepere/jobs_EN_11_0_24000_tuned_thresholds created successfully as a private repo\n"
          ]
        }
      ],
      "source": [
        "if upload_to_HF is True:\n",
        "\n",
        "  if threshold_tuning:\n",
        "    repo_id   = 'claudelepere/jobs_EN_11_0_24000_tuned_thresholds'\n",
        "    #repo_id   = 'claudelepere/jobs_EN_11_0_12000_tuned_thresholds'\n",
        "  else:\n",
        "    repo_id   = 'claudelepere/jobs_EN_11_0_24000'\n",
        "    #repo_id   = 'claudelepere/jobs_EN_11_0_12000'\n",
        "  timestamp = f\"{datetime.datetime.now().strftime('%Y-%m-%d %H:%M:%S')}\"\n",
        "\n",
        "  model_repoUrl   = create_repo(repo_id=repo_id, repo_type=\"model\",   private=True, exist_ok=True)\n",
        "  dataset_repoUrl = create_repo(repo_id=repo_id, repo_type=\"dataset\", private=True, exist_ok=True)\n",
        "\n",
        "  #create_branch(repo_id=repo_id, repo_type=\"model\",   branch=branch, exist_ok=True)\n",
        "  #create_branch(repo_id=repo_id, repo_type=\"dataset\", branch=branch, exist_ok=True)\n",
        "\n",
        "  print(f\"Model Repo Url: {model_repoUrl} created successfully as a private repo\")\n",
        "  print(f\"Dataset Repo Url: {dataset_repoUrl} created successfully as a private repo\")"
      ]
    },
    {
      "cell_type": "markdown",
      "source": [
        "## HF model card\n",
        "Model card here => README.md on the HF Hub."
      ],
      "metadata": {
        "id": "f1Ct9Ki6fLLL"
      }
    },
    {
      "cell_type": "code",
      "source": [
        "model_card = \"\"\"\n",
        "---\n",
        "tags:\n",
        "- \"24000\"\n",
        "---\n",
        "# Model\n",
        "Model fine-tuned on higly-imbalanced multilabel classification.\n",
        "\n",
        "## Model details\n",
        "- Language: English\n",
        "- Task: Multilabel classification\n",
        "- Architecture: Longformer\n",
        "- Pretrained model: [allenai/longformer-base-4096](https://huggingface.co/allenai/longformer-base-4096)\n",
        "- Framework: Pytorch\n",
        "- Version 1.0.0\n",
        "\n",
        "## Training Data\n",
        "- skills: 11\n",
        "- 24000 job datapoints\n",
        "\n",
        "## Fine-tuning parameters\n",
        "- batch size: 8\n",
        "- gradient accumulation: 4\n",
        "- fp16 precision\n",
        "- input tokens max length: 1024\n",
        "- epochs: 8\n",
        "- learning rate: 1e-5\n",
        "- tuned thresholds\n",
        "- attention window size: 1024\n",
        "\"\"\""
      ],
      "metadata": {
        "id": "G8Wn7JfxfFI0"
      },
      "execution_count": 10,
      "outputs": []
    },
    {
      "cell_type": "markdown",
      "source": [
        "## Save locally and upload model card to HF Hub"
      ],
      "metadata": {
        "id": "_l8mrGaAqt3a"
      }
    },
    {
      "cell_type": "code",
      "source": [
        "if upload_to_HF is True:\n",
        "\n",
        "  with open(\"model_card.md\", \"w\") as f:\n",
        "    f.write(model_card)\n",
        "\n",
        "  upload_file(\n",
        "      path_or_fileobj = 'model_card.md',  # path to a file or a file-like object\n",
        "      path_in_repo    = 'README.md',\n",
        "      repo_id         = repo_id\n",
        "  )"
      ],
      "metadata": {
        "id": "aY4jxVl1qnEy",
        "colab": {
          "base_uri": "https://localhost:8080/"
        },
        "outputId": "08879c99-e779-4adb-fdaf-abf21558ac05"
      },
      "execution_count": 11,
      "outputs": [
        {
          "output_type": "stream",
          "name": "stderr",
          "text": [
            "No files have been modified since last commit. Skipping to prevent empty commit.\n",
            "WARNING:huggingface_hub.hf_api:No files have been modified since last commit. Skipping to prevent empty commit.\n"
          ]
        }
      ]
    },
    {
      "cell_type": "code",
      "execution_count": 12,
      "metadata": {
        "id": "qhAd6EZJwcJt",
        "colab": {
          "base_uri": "https://localhost:8080/"
        },
        "outputId": "36bc6bd6-4b35-488e-921b-b95c2f294334"
      },
      "outputs": [
        {
          "output_type": "stream",
          "name": "stdout",
          "text": [
            "Python 3.11.11\n"
          ]
        }
      ],
      "source": [
        "\"\"\"\n",
        "# Check the Python version\n",
        "print(sys.version)\n",
        "print()\n",
        "\n",
        "# Get the installed packages (you can see that conda is not installed (do not install it))\n",
        "!pip list\n",
        "print()\n",
        "\n",
        "# Check system information\n",
        "!cat /etc/os-release\n",
        "!uname -m\n",
        "print()\n",
        "\n",
        "# Check the GPU details (only if the runtime type is T4 GPU)\n",
        "#!nvidia-smi\n",
        "#print()\n",
        "\n",
        "# Check RAM\n",
        "!free -h\n",
        "print()\n",
        "\n",
        "# Check disk space\n",
        "!df -h\n",
        "print()\n",
        "\n",
        "# Get environment variables\n",
        "for key, value in os.environ.items():\n",
        "    print(f\"{key}: {value}\")\n",
        "\"\"\"\n",
        "!python -V"
      ]
    },
    {
      "cell_type": "code",
      "execution_count": 13,
      "metadata": {
        "id": "sUTMN8SSwcJt",
        "colab": {
          "base_uri": "https://localhost:8080/"
        },
        "outputId": "f18fcdb3-a48e-4c1f-a9ea-e70263c2aa1a"
      },
      "outputs": [
        {
          "output_type": "stream",
          "name": "stdout",
          "text": [
            "currentdir: /content\n"
          ]
        }
      ],
      "source": [
        "print(f\"currentdir: {os.getcwd()}\")"
      ]
    },
    {
      "cell_type": "code",
      "execution_count": 14,
      "metadata": {
        "id": "QIUfehpkwcJt",
        "colab": {
          "base_uri": "https://localhost:8080/"
        },
        "outputId": "f4c8b828-290b-4c96-b364-57c4745f1c6c"
      },
      "outputs": [
        {
          "output_type": "stream",
          "name": "stdout",
          "text": [
            "device: cuda\n"
          ]
        }
      ],
      "source": [
        "device = torch.device(\"cuda\" if torch.cuda.is_available() else \"cpu\")\n",
        "print(f\"device: {device}\")"
      ]
    },
    {
      "cell_type": "markdown",
      "metadata": {
        "id": "pr4xZXGSXsEx"
      },
      "source": [
        "## Out Of Memory (OOM)"
      ]
    },
    {
      "cell_type": "markdown",
      "metadata": {
        "id": "nvigdvJgp8V9"
      },
      "source": [
        "### OOM: reduce batch size\n",
        "      small sizes (1 to 32):            PROs: better generalization in some cases\n",
        "                                        CONs: may produce noisier gradients\n",
        "      large sizes (128, 256, or higer): PROs: gradients are smoother, leading to more stable training\n",
        "                                        CONs: poorer generalization (overfitting) in some cases\n",
        "      intermediate sizes (32, 64):      combines the benefits of small and large sizes"
      ]
    },
    {
      "cell_type": "code",
      "execution_count": 15,
      "metadata": {
        "id": "Bq0JDT07wcJt"
      },
      "outputs": [],
      "source": [
        "batch_size = 8"
      ]
    },
    {
      "cell_type": "markdown",
      "metadata": {
        "id": "rPERKMpOqa8X"
      },
      "source": [
        "### OOM: enable gradient accumulation\n",
        "\n",
        "* compensate for smaller batch sizes by accumulating gradients over several steps\n",
        "* **effective batch size** = per-device batch size x gradient acumulation steps\n",
        "* in each iteration, the model computes the gradients, these gradients are immediately used to update the model parameters\n",
        "\n",
        "WARNING: gradient_accumulation_steps may not be None => comment it in TrainingArguments"
      ]
    },
    {
      "cell_type": "code",
      "execution_count": 16,
      "metadata": {
        "id": "nG0pflXGwcJt"
      },
      "outputs": [],
      "source": [
        "gradient_accumulation_steps = 4"
      ]
    },
    {
      "cell_type": "markdown",
      "metadata": {
        "id": "8yOaxNG3rzUt"
      },
      "source": [
        "### OOM: use PYTORCH_CUDA_ALLOC_CONF to handle memory fragmentation"
      ]
    },
    {
      "cell_type": "code",
      "execution_count": 17,
      "metadata": {
        "id": "VXrPvSWAwcJt"
      },
      "outputs": [],
      "source": [
        "os.environ['PYTORCH_CUDA_ALLOC_CONF'] = 'expandable_segments:True'"
      ]
    },
    {
      "cell_type": "markdown",
      "metadata": {
        "id": "bmIswaWGsBBV"
      },
      "source": [
        "### OOM: check for and kill zombie processes"
      ]
    },
    {
      "cell_type": "code",
      "execution_count": 18,
      "metadata": {
        "id": "JKeGyFYHwcJu",
        "colab": {
          "base_uri": "https://localhost:8080/"
        },
        "outputId": "70e18666-bfb2-43b1-d8d6-bd9a53bb8884"
      },
      "outputs": [
        {
          "output_type": "stream",
          "name": "stdout",
          "text": [
            "root          86  1.8  0.0      0     0 ?        Z    21:23   0:13 [python3] <defunct>\n",
            "root          87  0.0  0.0  63772 50212 ?        S    21:23   0:00 python3 /usr/local/bin/colab-file\n",
            "root         136  0.5  0.1 779760 127832 ?       Sl   21:23   0:03 /usr/bin/python3 /usr/local/bin/j\n",
            "root        2661 15.2  1.4 12202028 1302408 ?    Ssl  21:34   0:20 /usr/bin/python3 -m colab_kernel_\n",
            "root        2705  0.5  0.0 545184 21112 ?        Sl   21:34   0:00 /usr/bin/python3 /usr/local/lib/p\n",
            "root        3455  0.0  0.0   7376  3504 ?        S    21:36   0:00 /bin/bash -c ps aux | grep python\n",
            "root        3457  0.0  0.0   6484  2228 ?        S    21:36   0:00 grep python\n",
            "/bin/bash: -c: line 1: syntax error near unexpected token `newline'\n",
            "/bin/bash: -c: line 1: `kill -9 <PID>'\n",
            "Fri Feb 28 21:36:18 2025       \n",
            "+-----------------------------------------------------------------------------------------+\n",
            "| NVIDIA-SMI 550.54.15              Driver Version: 550.54.15      CUDA Version: 12.4     |\n",
            "|-----------------------------------------+------------------------+----------------------+\n",
            "| GPU  Name                 Persistence-M | Bus-Id          Disp.A | Volatile Uncorr. ECC |\n",
            "| Fan  Temp   Perf          Pwr:Usage/Cap |           Memory-Usage | GPU-Util  Compute M. |\n",
            "|                                         |                        |               MIG M. |\n",
            "|=========================================+========================+======================|\n",
            "|   0  NVIDIA A100-SXM4-40GB          Off |   00000000:00:04.0 Off |                    0 |\n",
            "| N/A   31C    P0             49W /  400W |       5MiB /  40960MiB |      0%      Default |\n",
            "|                                         |                        |             Disabled |\n",
            "+-----------------------------------------+------------------------+----------------------+\n",
            "                                                                                         \n",
            "+-----------------------------------------------------------------------------------------+\n",
            "| Processes:                                                                              |\n",
            "|  GPU   GI   CI        PID   Type   Process name                              GPU Memory |\n",
            "|        ID   ID                                                               Usage      |\n",
            "|=========================================================================================|\n",
            "|  No running processes found                                                             |\n",
            "+-----------------------------------------------------------------------------------------+\n",
            "|===========================================================================|\n",
            "|                  PyTorch CUDA memory summary, device ID 0                 |\n",
            "|---------------------------------------------------------------------------|\n",
            "|            CUDA OOMs: 0            |        cudaMalloc retries: 0         |\n",
            "|===========================================================================|\n",
            "|        Metric         | Cur Usage  | Peak Usage | Tot Alloc  | Tot Freed  |\n",
            "|---------------------------------------------------------------------------|\n",
            "| Allocated memory      |      0 B   |      0 B   |      0 B   |      0 B   |\n",
            "|       from large pool |      0 B   |      0 B   |      0 B   |      0 B   |\n",
            "|       from small pool |      0 B   |      0 B   |      0 B   |      0 B   |\n",
            "|---------------------------------------------------------------------------|\n",
            "| Active memory         |      0 B   |      0 B   |      0 B   |      0 B   |\n",
            "|       from large pool |      0 B   |      0 B   |      0 B   |      0 B   |\n",
            "|       from small pool |      0 B   |      0 B   |      0 B   |      0 B   |\n",
            "|---------------------------------------------------------------------------|\n",
            "| Requested memory      |      0 B   |      0 B   |      0 B   |      0 B   |\n",
            "|       from large pool |      0 B   |      0 B   |      0 B   |      0 B   |\n",
            "|       from small pool |      0 B   |      0 B   |      0 B   |      0 B   |\n",
            "|---------------------------------------------------------------------------|\n",
            "| GPU reserved memory   |      0 B   |      0 B   |      0 B   |      0 B   |\n",
            "|       from large pool |      0 B   |      0 B   |      0 B   |      0 B   |\n",
            "|       from small pool |      0 B   |      0 B   |      0 B   |      0 B   |\n",
            "|---------------------------------------------------------------------------|\n",
            "| Non-releasable memory |      0 B   |      0 B   |      0 B   |      0 B   |\n",
            "|       from large pool |      0 B   |      0 B   |      0 B   |      0 B   |\n",
            "|       from small pool |      0 B   |      0 B   |      0 B   |      0 B   |\n",
            "|---------------------------------------------------------------------------|\n",
            "| Allocations           |       0    |       0    |       0    |       0    |\n",
            "|       from large pool |       0    |       0    |       0    |       0    |\n",
            "|       from small pool |       0    |       0    |       0    |       0    |\n",
            "|---------------------------------------------------------------------------|\n",
            "| Active allocs         |       0    |       0    |       0    |       0    |\n",
            "|       from large pool |       0    |       0    |       0    |       0    |\n",
            "|       from small pool |       0    |       0    |       0    |       0    |\n",
            "|---------------------------------------------------------------------------|\n",
            "| GPU reserved segments |       0    |       0    |       0    |       0    |\n",
            "|       from large pool |       0    |       0    |       0    |       0    |\n",
            "|       from small pool |       0    |       0    |       0    |       0    |\n",
            "|---------------------------------------------------------------------------|\n",
            "| Non-releasable allocs |       0    |       0    |       0    |       0    |\n",
            "|       from large pool |       0    |       0    |       0    |       0    |\n",
            "|       from small pool |       0    |       0    |       0    |       0    |\n",
            "|---------------------------------------------------------------------------|\n",
            "| Oversize allocations  |       0    |       0    |       0    |       0    |\n",
            "|---------------------------------------------------------------------------|\n",
            "| Oversize GPU segments |       0    |       0    |       0    |       0    |\n",
            "|===========================================================================|\n",
            "\n"
          ]
        }
      ],
      "source": [
        "!ps aux | grep python\n",
        "!kill -9 <PID>\n",
        "if torch.cuda.is_available():\n",
        "  !nvidia-smi\n",
        "  print(torch.cuda.memory_summary())"
      ]
    },
    {
      "cell_type": "markdown",
      "metadata": {
        "id": "TpKIEUjjsO-i"
      },
      "source": [
        "### OOM: use fp16 (half precision) mixed precision training\n",
        "reduces memory requirements by up to 50%"
      ]
    },
    {
      "cell_type": "code",
      "execution_count": 19,
      "metadata": {
        "id": "BbyMivrEwcJu"
      },
      "outputs": [],
      "source": [
        "fp = 'fp16'"
      ]
    },
    {
      "cell_type": "markdown",
      "metadata": {
        "id": "FVhoxNtUwcJu"
      },
      "source": [
        "### OOM: limit the number of GPU workers:\n",
        "* 0 (default) or 1\n",
        "* in Colab dataloader_num_workers = 1"
      ]
    },
    {
      "cell_type": "markdown",
      "metadata": {
        "id": "-elhl5Pkssq8"
      },
      "source": [
        "### OOM: reduce model size or input tokens\n",
        "* LongformerTokenizer.from_pretrained('allenai/longformer-base/large-4096'): large/base: 435M/149M parameters\n",
        "* max_length: 4096 max for Longformer\n",
        "* a single word can be equal to several tokens; stop words are **NOT discarded**!\n",
        "* word_text_length_counts_sorted:\n",
        "      jobs count                 : 50000\n",
        "      jobs count under  512 words: 44794  89.59%\n",
        "      jobs count under  640 words: 47894  95.79%\n",
        "      jobs count under  768 words: 49123  98.25%\n",
        "      jobs count under  896 words: 49691  99.38%\n",
        "      jobs count under 1024 words: 49917  99.83%\n",
        "      jobs count under 2048 words: 50000 100.00%\n",
        "      jobs count under 4096 words: 50000 100.00%"
      ]
    },
    {
      "cell_type": "code",
      "execution_count": 20,
      "metadata": {
        "id": "oZOpDR5JwcJu"
      },
      "outputs": [],
      "source": [
        "#max_length =  768    #      37 min    #\n",
        "max_length = 1024    #      38 min    # GPU RAM: 12.2 / 40 GB\n",
        "#max_length = 2048    # 1 hr 10 min    # GPU RAM: 21.4 / 40 GB\n",
        "#max_length = 4096    # 2 hr 10 min    # GPU RAM: 39.5 / 40 GB => OutOfMemoryError"
      ]
    },
    {
      "cell_type": "markdown",
      "metadata": {
        "id": "R4v9XcFLuudV"
      },
      "source": [
        "### OOM: free up GPU memory"
      ]
    },
    {
      "cell_type": "code",
      "execution_count": 21,
      "metadata": {
        "id": "WJNB5_2HwcJu"
      },
      "outputs": [],
      "source": [
        "torch.cuda.empty_cache()"
      ]
    },
    {
      "cell_type": "markdown",
      "metadata": {
        "id": "EVi2_ymCwcJu"
      },
      "source": [
        "### OOM: reduce the number of transformers layers"
      ]
    },
    {
      "cell_type": "code",
      "execution_count": 22,
      "metadata": {
        "id": "VBu-UPkq0Rq0"
      },
      "outputs": [],
      "source": [
        "# hidden_layers = 6  # default:12"
      ]
    },
    {
      "cell_type": "markdown",
      "metadata": {
        "id": "qizOQRXNu54F"
      },
      "source": [
        "## epoch\n",
        "* 1 epoch is a complete pass through the entire training dataset\n",
        "* with n datapoints and batch size = b, n/b iterations to complete 1 epoch\n",
        "* 1 iteration is a single update of the model's parameters"
      ]
    },
    {
      "cell_type": "code",
      "execution_count": 23,
      "metadata": {
        "id": "KORJtBl7wcJu"
      },
      "outputs": [],
      "source": [
        "epochs = 5"
      ]
    },
    {
      "cell_type": "markdown",
      "metadata": {
        "id": "lBRPtOsqvm2P"
      },
      "source": [
        "## learning rate\n",
        "* A common rule is to scale the learning rate proportionaly with the effective batch size\n",
        "* **note: get_linear_schedule_with_warmup**"
      ]
    },
    {
      "cell_type": "code",
      "execution_count": 24,
      "metadata": {
        "id": "EaoQWRXYwcJu"
      },
      "outputs": [],
      "source": [
        "learning_rate = 1e-5  # 1e-5 x 32/8"
      ]
    },
    {
      "cell_type": "markdown",
      "metadata": {
        "id": "_1j87eP0wCR7"
      },
      "source": [
        "## threshold\n",
        "default: 0.5"
      ]
    },
    {
      "cell_type": "code",
      "execution_count": 25,
      "metadata": {
        "id": "c2Dfm6lvwcJu"
      },
      "outputs": [],
      "source": [
        "threshold = 0.5"
      ]
    },
    {
      "cell_type": "markdown",
      "metadata": {
        "id": "xNDt1EVUwOWE"
      },
      "source": [
        "## attention window size"
      ]
    },
    {
      "cell_type": "code",
      "execution_count": 26,
      "metadata": {
        "id": "P-CmoMf9wcJ0"
      },
      "outputs": [],
      "source": [
        "attention_window = 1024 #512"
      ]
    },
    {
      "cell_type": "markdown",
      "metadata": {
        "id": "RPt8yoHMsksM"
      },
      "source": [
        "## Upload and unzip job dataset"
      ]
    },
    {
      "cell_type": "code",
      "execution_count": 27,
      "metadata": {
        "id": "EvZTXW-_ZAJ-",
        "colab": {
          "base_uri": "https://localhost:8080/",
          "height": 307
        },
        "outputId": "129311fa-fa5a-428c-d95f-369b408c5b0d"
      },
      "outputs": [
        {
          "output_type": "stream",
          "name": "stdout",
          "text": [
            "'dataset_EN_11_0_120.zip' not found in /content. Uploading...\n"
          ]
        },
        {
          "output_type": "display_data",
          "data": {
            "text/plain": [
              "<IPython.core.display.HTML object>"
            ],
            "text/html": [
              "\n",
              "     <input type=\"file\" id=\"files-406d5609-9ca4-445f-ad35-b6328d4095dc\" name=\"files[]\" multiple disabled\n",
              "        style=\"border:none\" />\n",
              "     <output id=\"result-406d5609-9ca4-445f-ad35-b6328d4095dc\">\n",
              "      Upload widget is only available when the cell has been executed in the\n",
              "      current browser session. Please rerun this cell to enable.\n",
              "      </output>\n",
              "      <script>// Copyright 2017 Google LLC\n",
              "//\n",
              "// Licensed under the Apache License, Version 2.0 (the \"License\");\n",
              "// you may not use this file except in compliance with the License.\n",
              "// You may obtain a copy of the License at\n",
              "//\n",
              "//      http://www.apache.org/licenses/LICENSE-2.0\n",
              "//\n",
              "// Unless required by applicable law or agreed to in writing, software\n",
              "// distributed under the License is distributed on an \"AS IS\" BASIS,\n",
              "// WITHOUT WARRANTIES OR CONDITIONS OF ANY KIND, either express or implied.\n",
              "// See the License for the specific language governing permissions and\n",
              "// limitations under the License.\n",
              "\n",
              "/**\n",
              " * @fileoverview Helpers for google.colab Python module.\n",
              " */\n",
              "(function(scope) {\n",
              "function span(text, styleAttributes = {}) {\n",
              "  const element = document.createElement('span');\n",
              "  element.textContent = text;\n",
              "  for (const key of Object.keys(styleAttributes)) {\n",
              "    element.style[key] = styleAttributes[key];\n",
              "  }\n",
              "  return element;\n",
              "}\n",
              "\n",
              "// Max number of bytes which will be uploaded at a time.\n",
              "const MAX_PAYLOAD_SIZE = 100 * 1024;\n",
              "\n",
              "function _uploadFiles(inputId, outputId) {\n",
              "  const steps = uploadFilesStep(inputId, outputId);\n",
              "  const outputElement = document.getElementById(outputId);\n",
              "  // Cache steps on the outputElement to make it available for the next call\n",
              "  // to uploadFilesContinue from Python.\n",
              "  outputElement.steps = steps;\n",
              "\n",
              "  return _uploadFilesContinue(outputId);\n",
              "}\n",
              "\n",
              "// This is roughly an async generator (not supported in the browser yet),\n",
              "// where there are multiple asynchronous steps and the Python side is going\n",
              "// to poll for completion of each step.\n",
              "// This uses a Promise to block the python side on completion of each step,\n",
              "// then passes the result of the previous step as the input to the next step.\n",
              "function _uploadFilesContinue(outputId) {\n",
              "  const outputElement = document.getElementById(outputId);\n",
              "  const steps = outputElement.steps;\n",
              "\n",
              "  const next = steps.next(outputElement.lastPromiseValue);\n",
              "  return Promise.resolve(next.value.promise).then((value) => {\n",
              "    // Cache the last promise value to make it available to the next\n",
              "    // step of the generator.\n",
              "    outputElement.lastPromiseValue = value;\n",
              "    return next.value.response;\n",
              "  });\n",
              "}\n",
              "\n",
              "/**\n",
              " * Generator function which is called between each async step of the upload\n",
              " * process.\n",
              " * @param {string} inputId Element ID of the input file picker element.\n",
              " * @param {string} outputId Element ID of the output display.\n",
              " * @return {!Iterable<!Object>} Iterable of next steps.\n",
              " */\n",
              "function* uploadFilesStep(inputId, outputId) {\n",
              "  const inputElement = document.getElementById(inputId);\n",
              "  inputElement.disabled = false;\n",
              "\n",
              "  const outputElement = document.getElementById(outputId);\n",
              "  outputElement.innerHTML = '';\n",
              "\n",
              "  const pickedPromise = new Promise((resolve) => {\n",
              "    inputElement.addEventListener('change', (e) => {\n",
              "      resolve(e.target.files);\n",
              "    });\n",
              "  });\n",
              "\n",
              "  const cancel = document.createElement('button');\n",
              "  inputElement.parentElement.appendChild(cancel);\n",
              "  cancel.textContent = 'Cancel upload';\n",
              "  const cancelPromise = new Promise((resolve) => {\n",
              "    cancel.onclick = () => {\n",
              "      resolve(null);\n",
              "    };\n",
              "  });\n",
              "\n",
              "  // Wait for the user to pick the files.\n",
              "  const files = yield {\n",
              "    promise: Promise.race([pickedPromise, cancelPromise]),\n",
              "    response: {\n",
              "      action: 'starting',\n",
              "    }\n",
              "  };\n",
              "\n",
              "  cancel.remove();\n",
              "\n",
              "  // Disable the input element since further picks are not allowed.\n",
              "  inputElement.disabled = true;\n",
              "\n",
              "  if (!files) {\n",
              "    return {\n",
              "      response: {\n",
              "        action: 'complete',\n",
              "      }\n",
              "    };\n",
              "  }\n",
              "\n",
              "  for (const file of files) {\n",
              "    const li = document.createElement('li');\n",
              "    li.append(span(file.name, {fontWeight: 'bold'}));\n",
              "    li.append(span(\n",
              "        `(${file.type || 'n/a'}) - ${file.size} bytes, ` +\n",
              "        `last modified: ${\n",
              "            file.lastModifiedDate ? file.lastModifiedDate.toLocaleDateString() :\n",
              "                                    'n/a'} - `));\n",
              "    const percent = span('0% done');\n",
              "    li.appendChild(percent);\n",
              "\n",
              "    outputElement.appendChild(li);\n",
              "\n",
              "    const fileDataPromise = new Promise((resolve) => {\n",
              "      const reader = new FileReader();\n",
              "      reader.onload = (e) => {\n",
              "        resolve(e.target.result);\n",
              "      };\n",
              "      reader.readAsArrayBuffer(file);\n",
              "    });\n",
              "    // Wait for the data to be ready.\n",
              "    let fileData = yield {\n",
              "      promise: fileDataPromise,\n",
              "      response: {\n",
              "        action: 'continue',\n",
              "      }\n",
              "    };\n",
              "\n",
              "    // Use a chunked sending to avoid message size limits. See b/62115660.\n",
              "    let position = 0;\n",
              "    do {\n",
              "      const length = Math.min(fileData.byteLength - position, MAX_PAYLOAD_SIZE);\n",
              "      const chunk = new Uint8Array(fileData, position, length);\n",
              "      position += length;\n",
              "\n",
              "      const base64 = btoa(String.fromCharCode.apply(null, chunk));\n",
              "      yield {\n",
              "        response: {\n",
              "          action: 'append',\n",
              "          file: file.name,\n",
              "          data: base64,\n",
              "        },\n",
              "      };\n",
              "\n",
              "      let percentDone = fileData.byteLength === 0 ?\n",
              "          100 :\n",
              "          Math.round((position / fileData.byteLength) * 100);\n",
              "      percent.textContent = `${percentDone}% done`;\n",
              "\n",
              "    } while (position < fileData.byteLength);\n",
              "  }\n",
              "\n",
              "  // All done.\n",
              "  yield {\n",
              "    response: {\n",
              "      action: 'complete',\n",
              "    }\n",
              "  };\n",
              "}\n",
              "\n",
              "scope.google = scope.google || {};\n",
              "scope.google.colab = scope.google.colab || {};\n",
              "scope.google.colab._files = {\n",
              "  _uploadFiles,\n",
              "  _uploadFilesContinue,\n",
              "};\n",
              "})(self);\n",
              "</script> "
            ]
          },
          "metadata": {}
        },
        {
          "output_type": "stream",
          "name": "stdout",
          "text": [
            "Saving dataset_EN_11_0_120.zip to dataset_EN_11_0_120.zip\n",
            "'dataset_EN_11_0_120.zip' successfully uploaded to /content\n",
            "Archive:  dataset_EN_11_0_120.zip\n",
            "  inflating: dataset_EN_11_0_120/dataset_dict.json  \n",
            "  inflating: dataset_EN_11_0_120/test/data-00000-of-00001.arrow  \n",
            "  inflating: dataset_EN_11_0_120/test/dataset_info.json  \n",
            "  inflating: dataset_EN_11_0_120/test/state.json  \n",
            "  inflating: dataset_EN_11_0_120/train/data-00000-of-00001.arrow  \n",
            "  inflating: dataset_EN_11_0_120/train/dataset_info.json  \n",
            "  inflating: dataset_EN_11_0_120/train/state.json  \n",
            "  inflating: dataset_EN_11_0_120/validation/data-00000-of-00001.arrow  \n",
            "  inflating: dataset_EN_11_0_120/validation/dataset_info.json  \n",
            "  inflating: dataset_EN_11_0_120/validation/state.json  \n"
          ]
        }
      ],
      "source": [
        "def upload_unzip_dataset(file_name=datasetDict_zip_file_name):\n",
        "  # Check if the file exists\n",
        "  if not os.path.exists(file_name):\n",
        "    print(f\"'{file_name}' not found in /content. Uploading...\")\n",
        "    uploaded_files = files.upload()                              # Prompt file upload dialog\n",
        "    if file_name not in uploaded_files:\n",
        "      raise FileNotFoundError(f\"'{file_name}' was not uploaded. Please try again.\")\n",
        "    print(f\"'{file_name}' successfully uploaded to /content\")\n",
        "    uploaded_file_name = list(uploaded_files.keys())[0]          # Get the name of the uploaded file\n",
        "\n",
        "    !unzip {uploaded_file_name}\n",
        "\n",
        "    unzipped_dir_name = os.path.splitext(uploaded_file_name)[0]\n",
        "    assert unzipped_dir_name==datasetDict_dir_name, \"unzipped_dir_name != datasetDict_dir_name\"\n",
        "  else:\n",
        "    print(f\"'{file_name}' already exists in /content.\")\n",
        "\n",
        "upload_unzip_dataset(datasetDict_zip_file_name)"
      ]
    },
    {
      "cell_type": "markdown",
      "metadata": {
        "id": "T90_cKa4wcJv"
      },
      "source": [
        "## W&B initialization (not used now)"
      ]
    },
    {
      "cell_type": "code",
      "execution_count": 28,
      "metadata": {
        "id": "gweGUl--FNsZ",
        "colab": {
          "base_uri": "https://localhost:8080/"
        },
        "outputId": "da1aad0f-4cab-4d93-b47e-c9db6bd9a93c"
      },
      "outputs": [
        {
          "output_type": "stream",
          "name": "stdout",
          "text": [
            "run_name: EN_11_0_120_ml1024_ep5_lr1e-05_th0.5_at1024_fp16_ba8x4\n"
          ]
        }
      ],
      "source": [
        "run_name = f\"EN_{skills}_{all_rows_low}_{all_rows_high}_ml{max_length}_ep{epochs}_lr{learning_rate}_th{threshold}_at{attention_window}_{fp}\"\n",
        "\n",
        "if 'gradient_accumulation_steps' not in globals():\n",
        "  run_name = f\"{run_name}_ba{batch_size}\"\n",
        "else:\n",
        "  run_name = f\"{run_name}_ba{batch_size}x{gradient_accumulation_steps}\"\n",
        "\n",
        "print(f\"run_name: {run_name}\")"
      ]
    },
    {
      "cell_type": "code",
      "execution_count": 29,
      "metadata": {
        "id": "giGsdqlUwcJz",
        "colab": {
          "base_uri": "https://localhost:8080/"
        },
        "outputId": "8aab26eb-47ac-44a7-b936-02efb44621eb"
      },
      "outputs": [
        {
          "output_type": "stream",
          "name": "stderr",
          "text": [
            "\u001b[34m\u001b[1mwandb\u001b[0m: Using wandb-core as the SDK backend.  Please refer to https://wandb.me/wandb-core for more information.\n",
            "\u001b[34m\u001b[1mwandb\u001b[0m: \u001b[33mWARNING\u001b[0m If you're specifying your api key in code, ensure this code is not shared publicly.\n",
            "\u001b[34m\u001b[1mwandb\u001b[0m: \u001b[33mWARNING\u001b[0m Consider setting the WANDB_API_KEY environment variable, or running `wandb login` from the command line.\n",
            "\u001b[34m\u001b[1mwandb\u001b[0m: No netrc file found, creating one.\n",
            "\u001b[34m\u001b[1mwandb\u001b[0m: Appending key for api.wandb.ai to your netrc file: /root/.netrc\n",
            "\u001b[34m\u001b[1mwandb\u001b[0m: Currently logged in as: \u001b[33mclaudelepere\u001b[0m (\u001b[33mclaudelepere-c-cile-cy\u001b[0m) to \u001b[32mhttps://api.wandb.ai\u001b[0m. Use \u001b[1m`wandb login --relogin`\u001b[0m to force relogin\n"
          ]
        },
        {
          "output_type": "execute_result",
          "data": {
            "text/plain": [
              "True"
            ]
          },
          "metadata": {},
          "execution_count": 29
        }
      ],
      "source": [
        "os.environ[\"WANDB_API_KEY\"] = userdata.get(\"WANDB_API_KEY\")        # Store the key in os.environ\n",
        "wandb_api_key               = os.environ.get('WANDB_API_KEY')\n",
        "wandb.login(key=wandb_api_key)"
      ]
    },
    {
      "cell_type": "code",
      "execution_count": 30,
      "metadata": {
        "id": "JYJMUPCONEiD",
        "colab": {
          "base_uri": "https://localhost:8080/",
          "height": 104
        },
        "outputId": "8481c726-fa53-4dc2-b0b1-051285cd8721"
      },
      "outputs": [
        {
          "output_type": "display_data",
          "data": {
            "text/plain": [
              "<IPython.core.display.HTML object>"
            ],
            "text/html": [
              "Tracking run with wandb version 0.19.7"
            ]
          },
          "metadata": {}
        },
        {
          "output_type": "display_data",
          "data": {
            "text/plain": [
              "<IPython.core.display.HTML object>"
            ],
            "text/html": [
              "Run data is saved locally in <code>/content/wandb/run-20250228_213629-0c5pb313</code>"
            ]
          },
          "metadata": {}
        },
        {
          "output_type": "display_data",
          "data": {
            "text/plain": [
              "<IPython.core.display.HTML object>"
            ],
            "text/html": [
              "Syncing run <strong><a href='https://wandb.ai/claudelepere-c-cile-cy/skill_classification/runs/0c5pb313' target=\"_blank\">EN_11_0_120_ml1024_ep5_lr1e-05_th0.5_at1024_fp16_ba8x4</a></strong> to <a href='https://wandb.ai/claudelepere-c-cile-cy/skill_classification' target=\"_blank\">Weights & Biases</a> (<a href='https://wandb.me/developer-guide' target=\"_blank\">docs</a>)<br>"
            ]
          },
          "metadata": {}
        },
        {
          "output_type": "display_data",
          "data": {
            "text/plain": [
              "<IPython.core.display.HTML object>"
            ],
            "text/html": [
              " View project at <a href='https://wandb.ai/claudelepere-c-cile-cy/skill_classification' target=\"_blank\">https://wandb.ai/claudelepere-c-cile-cy/skill_classification</a>"
            ]
          },
          "metadata": {}
        },
        {
          "output_type": "display_data",
          "data": {
            "text/plain": [
              "<IPython.core.display.HTML object>"
            ],
            "text/html": [
              " View run at <a href='https://wandb.ai/claudelepere-c-cile-cy/skill_classification/runs/0c5pb313' target=\"_blank\">https://wandb.ai/claudelepere-c-cile-cy/skill_classification/runs/0c5pb313</a>"
            ]
          },
          "metadata": {}
        }
      ],
      "source": [
        "try:\n",
        "  wandb.init(\n",
        "      project = \"skill_classification\",\n",
        "      name    = run_name,\n",
        "      entity  = \"claudelepere-c-cile-cy\",\n",
        "      config  = {\n",
        "          \"learning_rate\": learning_rate,\n",
        "          \"epochs\"       : epochs,\n",
        "          \"batch_size\"   : batch_size\n",
        "      }\n",
        "  )\n",
        "except wandb.CommError as err:\n",
        "  print(f\"CommError: {err}\")\n",
        "except Exception as exc:\n",
        "  print(f\"Exception: {exc}\")"
      ]
    },
    {
      "cell_type": "markdown",
      "metadata": {
        "id": "wfBhdTN9wcJz"
      },
      "source": [
        "## Create datasetDict (HF DatasetDict) = 3 HF Dataset, train, validation and test"
      ]
    },
    {
      "cell_type": "code",
      "execution_count": 31,
      "metadata": {
        "id": "Fh_SgQD9wcJz"
      },
      "outputs": [],
      "source": [
        "datasetDict = DatasetDict.load_from_disk(datasetDict_dir_name)"
      ]
    },
    {
      "cell_type": "code",
      "execution_count": 32,
      "metadata": {
        "id": "xcF4Gm8GFNsc",
        "colab": {
          "base_uri": "https://localhost:8080/"
        },
        "outputId": "dccef984-ac5a-41d1-838c-8263422cf603"
      },
      "outputs": [
        {
          "output_type": "stream",
          "name": "stdout",
          "text": [
            "datasetDict: <class 'datasets.dataset_dict.DatasetDict'> {'train': (96, 8), 'validation': (12, 8), 'test': (12, 8)}\n",
            "DatasetDict({\n",
            "    train: Dataset({\n",
            "        features: ['id', 'text', '390', '135', '136', '137', '138', '139'],\n",
            "        num_rows: 96\n",
            "    })\n",
            "    validation: Dataset({\n",
            "        features: ['id', 'text', '390', '135', '136', '137', '138', '139'],\n",
            "        num_rows: 12\n",
            "    })\n",
            "    test: Dataset({\n",
            "        features: ['id', 'text', '390', '135', '136', '137', '138', '139'],\n",
            "        num_rows: 12\n",
            "    })\n",
            "})\n",
            "datasetDict.keys(): dict_keys(['train', 'validation', 'test'])\n",
            "datasetDict['train']:      <class 'datasets.arrow_dataset.Dataset'>      (96, 8)\n",
            "datasetDict['validation']: <class 'datasets.arrow_dataset.Dataset'> (12, 8)\n",
            "datasetDict['test']:       <class 'datasets.arrow_dataset.Dataset'>       (12, 8)\n"
          ]
        }
      ],
      "source": [
        "print(f\"datasetDict: {type(datasetDict)} {datasetDict.shape}\\n{datasetDict}\")\n",
        "print(f\"datasetDict.keys(): {datasetDict.keys()}\")\n",
        "print(f\"datasetDict['train']:      {type(datasetDict['train'])}      {datasetDict['train'].shape}\")\n",
        "print(f\"datasetDict['validation']: {type(datasetDict['validation'])} {datasetDict['validation'].shape}\")\n",
        "print(f\"datasetDict['test']:       {type(datasetDict['test'])}       {datasetDict['test'].shape}\")"
      ]
    },
    {
      "cell_type": "code",
      "execution_count": 33,
      "metadata": {
        "id": "unjuTtKUjZI3",
        "colab": {
          "base_uri": "https://localhost:8080/"
        },
        "outputId": "3ee0c3a6-fd83-455c-d7ab-463a331cf040"
      },
      "outputs": [
        {
          "output_type": "stream",
          "name": "stdout",
          "text": [
            "datasetDict['train'][0]: <class 'dict'> dict_keys(['id', 'text', '390', '135', '136', '137', '138', '139'])\n",
            "{'id': 335833, 'text': \"Centric - Full Stack Java Developer   Full Stack Java Developer   Centric   What you do Do you want to dive into multiple technologies and put them to work? Do you have a continuous improvement mindset? Does it give you energy to look for solutions for challenging problems? Answered Yes to these questions? Then you might be the Full Stack developer we are looking for in our team. Job tasks Developing applications on Blue CAP, our internal Cloud Application Platform. You'll be working with technologies like Java & Spring Framework, dockers on OpenShift (= Kubernetes by Red Hat), a fully automated build & deploy pipeline, GIT, continuous releasing, Kibana for log analysis, Prometheus for automated alert management... And you'll be working with a cloud-native development mindset. We also build the front-end for our applications using the Angular framework. How Bluecap works with a DevOps mindset; That means you'll be creating new features while also keeping tabs on the running applications. Occasional bugfixes and interaction with users are part of the job While you quickly fix any bugs that occur, you keep our (internal) users updated through Yammer. Assignments are tackled through the Agile methodology (and supported by Jira). Software is delivered in short iterations (sprints), allowing us to react quickly to new developments. We build high quality software. No feature is “done” until there's test cases for it and it is properly documented What you bring to the team Very good Java experience (full stack) Good experience with Spring Boot framework Knowledge of Hibernate Experienced with Angular framework Experience creating and using Dockers and OpenShift Experienced with Cloud computing Excellent knowledge of the English knowledge Able to work as a freelancer in the region of Brussels\", '390': False, '135': False, '136': False, '137': True, '138': True, '139': False}\n"
          ]
        }
      ],
      "source": [
        "example = datasetDict['train'][0]\n",
        "print(f\"datasetDict['train'][0]: {type(example)} {example.keys()}\\n{example}\")"
      ]
    },
    {
      "cell_type": "markdown",
      "metadata": {
        "id": "GEgARWcywcJz"
      },
      "source": [
        "## Create labels (list), id2label (dict) and label2id (dict).\n",
        "* dataset 7_1000_125_125  ,  48 labels\n",
        "* dataset 7_128_18_54     ,  42 labels\n",
        "* dataset 8910_1087_68_204, 206 labels\n",
        "* dataset 11_1000         ,   6 labels"
      ]
    },
    {
      "cell_type": "code",
      "execution_count": 34,
      "metadata": {
        "id": "Vv6FWVzRwcJz",
        "colab": {
          "base_uri": "https://localhost:8080/"
        },
        "outputId": "a110ca78-a634-42e7-a6da-d2a82f9f871f"
      },
      "outputs": [
        {
          "output_type": "stream",
          "name": "stdout",
          "text": [
            "labels: <class 'list'> 6\n",
            "['135', '136', '137', '138', '139', '390']\n",
            "id2label: <class 'dict'> 6\n",
            "{0: '135', 1: '136', 2: '137', 3: '138', 4: '139', 5: '390'}\n",
            "label2id: <class 'dict'> 6\n",
            "{'135': 0, '136': 1, '137': 2, '138': 3, '139': 4, '390': 5}\n"
          ]
        }
      ],
      "source": [
        "labels = [label for label in datasetDict['train'].features.keys() if label not in ['id', 'text']]\n",
        "labels.sort()\n",
        "print(f\"labels: {type(labels)} {len(labels)}\\n{labels}\")\n",
        "\n",
        "num_labels = len(labels)\n",
        "\n",
        "id2label = {idx: label for idx, label in enumerate(labels)}\n",
        "print(f\"id2label: {type(id2label)} {len(id2label)}\\n{id2label}\")\n",
        "\n",
        "label2id = {label: idx for idx, label in enumerate(labels)}\n",
        "print(f\"label2id: {type(label2id)} {len(label2id)}\\n{label2id}\")"
      ]
    },
    {
      "cell_type": "markdown",
      "metadata": {
        "id": "K_TdBZOGwcJ0"
      },
      "source": [
        "## Load the pretrained tokenizer and the model"
      ]
    },
    {
      "cell_type": "code",
      "execution_count": 35,
      "metadata": {
        "id": "tL1IlzvfwcJ0"
      },
      "outputs": [],
      "source": [
        "model_name = \"allenai/longformer-base-4096\""
      ]
    },
    {
      "cell_type": "code",
      "execution_count": 36,
      "metadata": {
        "id": "mwKcOR8GwcJ0",
        "colab": {
          "base_uri": "https://localhost:8080/",
          "height": 145,
          "referenced_widgets": [
            "97708cddd6f74dd1a5dddf82dc86d8ad",
            "99daeeb794684119bf90f4306f04cd6e",
            "937836fed91b4afb82c8834d573484ba",
            "fa7ff1a67de94b33a603f8df0ffd2971",
            "ea5049e9aaa84f8da15c9a33448bfa67",
            "45ac7d2f514f4224b4d343e2ba3eeeac",
            "b31013ac6eb64570abf0adec0af23ba1",
            "a4de6cd2e19f4b9894ec76dd98848b4c",
            "75b084e9933d4fa7a090571f517e8205",
            "a121406855494ad9b438300a232cc54d",
            "219868d41d0b428c92d83211eae692c5",
            "dcd8f528b2c44f4ea73da1044efdf635",
            "6493310eef20471da36fa5a2327ca8a8",
            "43e9f17ea1724840bbf3ba51f0fefabd",
            "cb22b0a5258c4cc8b4b8d7c966f6e4aa",
            "909f71a7fa764be5999b2e1673fa8e0f",
            "c7369d42f4784d08bc8d17bb1e80e8a3",
            "4f3676cef2b440298fc87706e8696f4e",
            "52f6420259b243ae90e0ddd72af83761",
            "0123dec5d8594fa5884b5521ac470311",
            "d8f8ea6884be4f568e16847be6f18c99",
            "3b81ee25fc59451d8cabcffbf7995ecd",
            "82cc605bc33d452cb93abe0831799050",
            "c696744f8ac74d73909eda36bbd0d200",
            "5ecab88b196a47c89331608c912f94de",
            "cb3f899f35de4cd18e126c072662b63e",
            "263fbe1e88d4487380efa4c91b1d88af",
            "bfd0c52ed63f464498879b2ad9abf859",
            "61f8f31149104238b06f1f1c38186b54",
            "ba17f041ac6e4ae18bcba3b044e7b67a",
            "f3ce2c6fa7cc45efbac546fd8b15a963",
            "77016a3a4cef42238357234f091baa0a",
            "e59fc0f06fa24ad494c5bf9b3a73421d",
            "6440de452792428bb8805ff8489773b7",
            "b7e888794751480abde272a1a222b07f",
            "5a3b61b2885b451e93695338f709e471",
            "65e32bc9862345ee81bec71b46411abb",
            "615c8b28d4f9433b982396545c2545fc",
            "049a212c36ca4ca5af79b36e6a4aaaf8",
            "9e4c63e6ac2146968614c990a6ebda3b",
            "43a9ae97f71e4647b3759213c9520f16",
            "21928fff28b245aea5677a4443627cff",
            "058c8f5a2ff948a983e57c5a6e1e069a",
            "c37b10ce3584447f993022cf6f6c0794"
          ]
        },
        "outputId": "b75ebcdc-c449-4243-b18c-512757f64aec"
      },
      "outputs": [
        {
          "output_type": "display_data",
          "data": {
            "text/plain": [
              "vocab.json:   0%|          | 0.00/899k [00:00<?, ?B/s]"
            ],
            "application/vnd.jupyter.widget-view+json": {
              "version_major": 2,
              "version_minor": 0,
              "model_id": "97708cddd6f74dd1a5dddf82dc86d8ad"
            }
          },
          "metadata": {}
        },
        {
          "output_type": "display_data",
          "data": {
            "text/plain": [
              "merges.txt:   0%|          | 0.00/456k [00:00<?, ?B/s]"
            ],
            "application/vnd.jupyter.widget-view+json": {
              "version_major": 2,
              "version_minor": 0,
              "model_id": "dcd8f528b2c44f4ea73da1044efdf635"
            }
          },
          "metadata": {}
        },
        {
          "output_type": "display_data",
          "data": {
            "text/plain": [
              "tokenizer.json:   0%|          | 0.00/1.36M [00:00<?, ?B/s]"
            ],
            "application/vnd.jupyter.widget-view+json": {
              "version_major": 2,
              "version_minor": 0,
              "model_id": "82cc605bc33d452cb93abe0831799050"
            }
          },
          "metadata": {}
        },
        {
          "output_type": "display_data",
          "data": {
            "text/plain": [
              "config.json:   0%|          | 0.00/694 [00:00<?, ?B/s]"
            ],
            "application/vnd.jupyter.widget-view+json": {
              "version_major": 2,
              "version_minor": 0,
              "model_id": "6440de452792428bb8805ff8489773b7"
            }
          },
          "metadata": {}
        }
      ],
      "source": [
        "tokenizer = LongformerTokenizerFast.from_pretrained(model_name)"
      ]
    },
    {
      "cell_type": "code",
      "execution_count": 37,
      "metadata": {
        "id": "HTZ61-RUwcJ0",
        "colab": {
          "base_uri": "https://localhost:8080/",
          "height": 105,
          "referenced_widgets": [
            "5dcca05016d64e0bb837f4deecca94e5",
            "5272cac60b4c4fc08defacc0f0b33f92",
            "c1d79420ef91448990cc926d2eaf1fff",
            "2ec68669ca4442daae3e927441c81ef8",
            "9d009a26ff66482788f08ee4b7c158b9",
            "b7f8a020a4a946cf90611da272177092",
            "89bc7a7711434e08b6c3550d9ad09616",
            "5d87684a4e18443dbcd7fcd7a40bb3fc",
            "6eb1244efc814d7192bf25ef725add5d",
            "56f013c2747f4368b6127722127aa8d9",
            "96cdecac232e4c569631c30bc125b880"
          ]
        },
        "outputId": "14b2d8f7-8166-4e6f-97e4-add7e2d55ea4"
      },
      "outputs": [
        {
          "output_type": "display_data",
          "data": {
            "text/plain": [
              "pytorch_model.bin:   0%|          | 0.00/597M [00:00<?, ?B/s]"
            ],
            "application/vnd.jupyter.widget-view+json": {
              "version_major": 2,
              "version_minor": 0,
              "model_id": "5dcca05016d64e0bb837f4deecca94e5"
            }
          },
          "metadata": {}
        },
        {
          "output_type": "stream",
          "name": "stderr",
          "text": [
            "Some weights of LongformerForSequenceClassification were not initialized from the model checkpoint at allenai/longformer-base-4096 and are newly initialized: ['classifier.dense.bias', 'classifier.dense.weight', 'classifier.out_proj.bias', 'classifier.out_proj.weight']\n",
            "You should probably TRAIN this model on a down-stream task to be able to use it for predictions and inference.\n"
          ]
        }
      ],
      "source": [
        "model = LongformerForSequenceClassification.from_pretrained(\n",
        "    model_name,\n",
        "    num_labels   = num_labels,\n",
        "    id2label     = id2label,\n",
        "    label2id     = label2id,\n",
        "    problem_type = 'multi_label_classification'\n",
        ")\n",
        "\n",
        "# Configure attention window size\n",
        "model.config.attention_window = attention_window"
      ]
    },
    {
      "cell_type": "code",
      "execution_count": 38,
      "metadata": {
        "id": "PjLO31SssqAM"
      },
      "outputs": [],
      "source": [
        "optimizer = torch.optim.AdamW(model.parameters(), lr=learning_rate)"
      ]
    },
    {
      "cell_type": "markdown",
      "metadata": {
        "id": "NTYt0hM5wcJ0"
      },
      "source": [
        "## Tokenize ('input_ids' and 'attention_mask'), add 'global_attention_mask' (for Longformer), add 'labels'"
      ]
    },
    {
      "cell_type": "code",
      "execution_count": 39,
      "metadata": {
        "id": "AFWlSsbZaRLc"
      },
      "outputs": [],
      "source": [
        "def preprocess_data(examples, indices):\n",
        "  # Step 1: Extract text and tokenize\n",
        "  text = examples['text']             # Batch of texts\n",
        "  encoding = tokenizer(\n",
        "      text,                           # Tokenize text\n",
        "      truncation     = True,\n",
        "      padding        = 'max_length',\n",
        "      max_length     = max_length,\n",
        "      return_tensors = 'pt'           # Return PyTorch tensors\n",
        "  )\n",
        "\n",
        "  # Step 2: Create and add the global attention mask\n",
        "  global_attention_mask             = torch.zeros_like(encoding['input_ids'])  # Initialize global attention mask with zeros (same shape as input_ids)\n",
        "  global_attention_mask[:, 0]       = 1                                        # Set global attention on the first token ([CLS], token ID=0) in each sequence\n",
        "  encoding['global_attention_mask'] = global_attention_mask                    # Add the global_attention_mask to the batch\n",
        "\n",
        "  # Step 3: Create and populate the label matrix\n",
        "  labels_matrix = torch.zeros((len(text), len(labels)), dtype=torch.float32)   # Create an empty label matrix\n",
        "  #print(f\"labels_matrix: {type(labels_matrix)} {labels_matrix.shape}\")\n",
        "  #---------Populate label matrix\n",
        "  for idx, label in enumerate(labels):\n",
        "    #print(f\"idx:{idx} label:{label}\")\n",
        "    if label in examples:\n",
        "      labels_matrix[:, idx] = torch.tensor(\n",
        "          [1.0 if val else 0.0 for val in examples[label]],\n",
        "          dtype=torch.float32\n",
        "          )\n",
        "  print(f\"labels_matrix: {type(labels_matrix)} {labels_matrix.shape}\")\n",
        "\n",
        "  encoding['labels'] = labels_matrix                                           # Add labels to the encoding\n",
        "  print(f\"encoding['labels']: {type(encoding['labels'])} {encoding['labels'].shape}\")\n",
        "\n",
        "  # encoding: <class 'transformers.tokenization_utils_base.BatchEncoding'> dict_keys(['input_ids', 'attention_mask', 'global_attention_mask', 'labels'])\n",
        "  #   'input_ids': tensor([[\n",
        "  #   'attention_mask': tensor([[\n",
        "  #   'global_attention_mask': tensor([[\n",
        "  #   'labels': tensor([[\n",
        "  #print(f\"1 preprocess_data call: encoding: {type(encoding)} {encoding.keys()}\")\n",
        "\n",
        "  return encoding"
      ]
    },
    {
      "cell_type": "markdown",
      "metadata": {
        "id": "Rm9REDT_wcJ0"
      },
      "source": [
        "## Create encoded_dataset (datasets.dataset_dict.DatasetDict) = 3 encoded datasets.arrow_dataset.Dataset, train, validation and test"
      ]
    },
    {
      "cell_type": "code",
      "execution_count": 40,
      "metadata": {
        "id": "mxLcO0XDwcJ0",
        "colab": {
          "base_uri": "https://localhost:8080/",
          "height": 239,
          "referenced_widgets": [
            "a54afc44637f490da85cc3838deeed47",
            "1760a7818ede465fb1877e774ef8b4ff",
            "4d40d03573ae4f29992b457d8ff91345",
            "e9cbc0c2095f459699141b0c05d072d7",
            "3f50b7057c314b7cbb24f44281331145",
            "b93fd251720d4607be6bd8eebeef0724",
            "e7062593983e4739a37b4c7e792ad463",
            "452339ce1ebb4c08bd9306899bd23660",
            "66a16832252143ee9ee39f44ba6d65d3",
            "9197abc8b203499aa1ad9493e5754536",
            "44ac701624cc4bd3a74cb4d8f6c00aa8",
            "902765ba1c3243cd9f362f59a5abe611",
            "0b065796d68a430ab1a5e7298b19e6b5",
            "4ea701785bad474392e51529bee417f5",
            "04410230c6e04644b8879e70559bfcbd",
            "4d3eea02ca2b43a495237e190fb166ba",
            "73d4653a56354ee69c22285a3420d1df",
            "905a020ce87640b380c62552464eefdc",
            "66fade4d4a6146ccb8d5af0e8bbc5c38",
            "609a4cc0723e428686085e4e2c955fe8",
            "20c531d00689417ba686b9c0468e943b",
            "657edf82e25e4ccd96683d680a1e53f2",
            "e02c189f5694436bbaf9c4d9563daa0f",
            "4c80062d5f7f4c9d9af753a4b8499fe1",
            "37e61dd042514bc985aa58303d5cc885",
            "efde519d2490473d846e35b384d6aa24",
            "484b0e224af8452a808528aad9146cf3",
            "54a8c09008b4420fba66f7b63900ccb4",
            "771c540a1fdd4fa980f718b4a3b7e8f6",
            "04acc93081de450ca35bda012fd5a708",
            "5c1f1514e56e40b3a82c732f2117139f",
            "90273a9208614a61957d48885cf04a7e",
            "d1d94f52d0e442dd841bda516dbe4dc2"
          ]
        },
        "outputId": "e9848e08-f4ae-43c9-d30a-ed629a441595"
      },
      "outputs": [
        {
          "output_type": "display_data",
          "data": {
            "text/plain": [
              "Map:   0%|          | 0/96 [00:00<?, ? examples/s]"
            ],
            "application/vnd.jupyter.widget-view+json": {
              "version_major": 2,
              "version_minor": 0,
              "model_id": "a54afc44637f490da85cc3838deeed47"
            }
          },
          "metadata": {}
        },
        {
          "output_type": "stream",
          "name": "stdout",
          "text": [
            "labels_matrix: <class 'torch.Tensor'> torch.Size([96, 6])\n",
            "encoding['labels']: <class 'torch.Tensor'> torch.Size([96, 6])\n"
          ]
        },
        {
          "output_type": "display_data",
          "data": {
            "text/plain": [
              "Map:   0%|          | 0/12 [00:00<?, ? examples/s]"
            ],
            "application/vnd.jupyter.widget-view+json": {
              "version_major": 2,
              "version_minor": 0,
              "model_id": "902765ba1c3243cd9f362f59a5abe611"
            }
          },
          "metadata": {}
        },
        {
          "output_type": "stream",
          "name": "stdout",
          "text": [
            "labels_matrix: <class 'torch.Tensor'> torch.Size([12, 6])\n",
            "encoding['labels']: <class 'torch.Tensor'> torch.Size([12, 6])\n"
          ]
        },
        {
          "output_type": "display_data",
          "data": {
            "text/plain": [
              "Map:   0%|          | 0/12 [00:00<?, ? examples/s]"
            ],
            "application/vnd.jupyter.widget-view+json": {
              "version_major": 2,
              "version_minor": 0,
              "model_id": "e02c189f5694436bbaf9c4d9563daa0f"
            }
          },
          "metadata": {}
        },
        {
          "output_type": "stream",
          "name": "stdout",
          "text": [
            "labels_matrix: <class 'torch.Tensor'> torch.Size([12, 6])\n",
            "encoding['labels']: <class 'torch.Tensor'> torch.Size([12, 6])\n",
            "encoded_dataset: <class 'datasets.dataset_dict.DatasetDict'> shape={'train': (96, 4), 'validation': (12, 4), 'test': (12, 4)}\n"
          ]
        }
      ],
      "source": [
        "encoded_dataset = datasetDict.map(\n",
        "    preprocess_data,\n",
        "    batched        = True,\n",
        "    remove_columns = datasetDict['train'].column_names,\n",
        "    with_indices   = True\n",
        ")\n",
        "\n",
        "print(f\"encoded_dataset: {type(encoded_dataset)} shape={encoded_dataset.shape}\")"
      ]
    },
    {
      "cell_type": "code",
      "execution_count": 41,
      "metadata": {
        "id": "kuft8rJe2Q03",
        "colab": {
          "base_uri": "https://localhost:8080/"
        },
        "outputId": "f6f7e3c9-9ecc-4371-b343-bb2cdee66684"
      },
      "outputs": [
        {
          "output_type": "stream",
          "name": "stdout",
          "text": [
            "train_dataset_tensor:                          <class 'datasets.arrow_dataset.Dataset'>                              (96, 4) {'input_ids': Sequence(feature=Value(dtype='int32', id=None), length=-1, id=None), 'attention_mask': Sequence(feature=Value(dtype='int8', id=None), length=-1, id=None), 'global_attention_mask': Sequence(feature=Value(dtype='int64', id=None), length=-1, id=None), 'labels': Sequence(feature=Value(dtype='float32', id=None), length=-1, id=None)}\n",
            "Dataset({\n",
            "    features: ['input_ids', 'attention_mask', 'global_attention_mask', 'labels'],\n",
            "    num_rows: 96\n",
            "})\n",
            "train_dataset_tensor['input_ids']:             <class 'torch.Tensor'>             len=96             shape=torch.Size([96, 1024])            \n",
            "train_dataset_tensor['attention_mask']:        <class 'torch.Tensor'>        len=96        shape=torch.Size([96, 1024])       \n",
            "train_dataset_tensor['global_attention_mask']: <class 'torch.Tensor'> len=96 shape=torch.Size([96, 1024])\n",
            "train_dataset_tensor['labels']:                <class 'torch.Tensor'>                len=96                shape=torch.Size([96, 6])               \n"
          ]
        }
      ],
      "source": [
        "encoded_dataset.set_format('torch')\n",
        "train_dataset      = encoded_dataset['train']\n",
        "validation_dataset = encoded_dataset['validation']\n",
        "test_dataset       = encoded_dataset['test']\n",
        "\n",
        "print(f\"train_dataset_tensor:                          {type(train_dataset)}                              {train_dataset.shape} {train_dataset.features}\\n{train_dataset}\")\n",
        "print(f\"train_dataset_tensor['input_ids']:             {type(train_dataset['input_ids'])}             len={len(train_dataset['input_ids'])}             shape={train_dataset['input_ids'].shape}            \") #\\n{train_dataset['input_ids']}\")\n",
        "print(f\"train_dataset_tensor['attention_mask']:        {type(train_dataset['attention_mask'])}        len={len(train_dataset['attention_mask'])}        shape={train_dataset['attention_mask'].shape}       \") #\\n{train_dataset['attention_mask']}\")\n",
        "print(f\"train_dataset_tensor['global_attention_mask']: {type(train_dataset['global_attention_mask'])} len={len(train_dataset['global_attention_mask'])} shape={train_dataset['global_attention_mask'].shape}\") #\\n{train_dataset['global_attention_mask']}\")\n",
        "print(f\"train_dataset_tensor['labels']:                {type(train_dataset['labels'])}                len={len(train_dataset['labels'])}                shape={train_dataset['labels'].shape}               \") #\\n{train_dataset['labels']}\")"
      ]
    },
    {
      "cell_type": "markdown",
      "metadata": {
        "id": "ynwZnA55wcJ1"
      },
      "source": [
        "## Truncated part"
      ]
    },
    {
      "cell_type": "code",
      "execution_count": 42,
      "metadata": {
        "id": "brkRdqdjN-Ur"
      },
      "outputs": [],
      "source": [
        "def get_truncated_part(text):\n",
        "  tokens = tokenizer(\n",
        "      text,\n",
        "      truncation                = True,\n",
        "      padding                   = 'max_length',\n",
        "      max_length                = max_length,\n",
        "      return_overflowing_tokens = True,\n",
        "      return_tensors            = None\n",
        "  )\n",
        "  print(f\"tokens.keys(): {tokens.keys()}\")\n",
        "\n",
        "  # Get the truncated tokens\n",
        "  truncated_ids = tokens[\"input_ids\"][0]\n",
        "  print(f\"truncated_ids: {type(truncated_ids)} {truncated_ids}\")\n",
        "  #overflow_ids  = tokens[\"overflow_to_sample_mapping\"][0]\n",
        "  #print(f\"overflow_ids: {type(overflow_ids)} {overflow_ids}\")\n",
        "\n",
        "  # Decode the tokens back to text\n",
        "  truncated_text = tokenizer.decode(truncated_ids, skip_special_tokens=True)\n",
        "  #overflow_text  = tokenizer.decode(overflow_ids, skip_special_tokens=True)\n",
        "\n",
        "  print(f\"original_text :\\n{text}\")\n",
        "  print(f\"truncated_text:\\n{truncated_text}\")\n",
        "  #print(f\"overflow_text:\\n{overflow_text}\")\n",
        "\n",
        "  original_tokens  = tokenizer.tokenize(text)\n",
        "  truncated_tokens = tokenizer.tokenize(truncated_text)\n",
        "  #overflow_tokens  = tokenizer.tokenize(overflow_text)\n",
        "\n",
        "  print(f\"original_tokens count : {len(original_tokens)}\")\n",
        "  print(f\"truncated_tokens count: {len(truncated_tokens)}\")\n",
        "  #print(f\"overflow_tokens count: {len(overflow_tokens)}\")"
      ]
    },
    {
      "cell_type": "code",
      "execution_count": 43,
      "metadata": {
        "id": "DD_bjwTfRiQO"
      },
      "outputs": [],
      "source": [
        "example_text = datasetDict['train'][0]['text']\n",
        "#get_truncated_part(example_text)"
      ]
    },
    {
      "cell_type": "code",
      "execution_count": 44,
      "metadata": {
        "id": "xFiZ4mYmwcJ1"
      },
      "outputs": [],
      "source": [
        "inputs = tokenizer(\n",
        "    example_text,\n",
        "    truncation     = True,\n",
        "    padding        = 'max_length',\n",
        "    max_length     = max_length,\n",
        "    return_tensors = 'pt'\n",
        ")"
      ]
    },
    {
      "cell_type": "markdown",
      "metadata": {
        "id": "RTh2E_8iwcJ1"
      },
      "source": [
        "## Forward pass for multi-label classification"
      ]
    },
    {
      "cell_type": "code",
      "execution_count": 45,
      "metadata": {
        "id": "8_aIPMHuwcJ1",
        "colab": {
          "base_uri": "https://localhost:8080/",
          "height": 67,
          "referenced_widgets": [
            "69ef08baddb14e898512ea89396f7466",
            "5c22a23d18584395811db4a55df5ae0a",
            "d8dc3e1129aa4e3fb47c0b9a5a809ae2",
            "cbf884ce5b0b4d38bd7f36035a653d38",
            "dc38ec275f974e5d8b35a7a7975f9521",
            "d97543689cfc46bfb59896e4d115e9d4",
            "b5ae0ca54f294d29a790b44ca39f4f85",
            "0cfd884317ec41ad8ac64709476fee1e",
            "6f963d7515944003a81b17a8480b759d",
            "7cd20433e65b4e18a2a47139e9293c6e",
            "8221c2cc668142f585738858b8ae7a9d"
          ]
        },
        "outputId": "0ab05cf5-90aa-4f5f-b257-ab0cd56daeb2"
      },
      "outputs": [
        {
          "output_type": "stream",
          "name": "stderr",
          "text": [
            "Initializing global attention on CLS token...\n"
          ]
        },
        {
          "output_type": "display_data",
          "data": {
            "text/plain": [
              "model.safetensors:   0%|          | 0.00/597M [00:00<?, ?B/s]"
            ],
            "application/vnd.jupyter.widget-view+json": {
              "version_major": 2,
              "version_minor": 0,
              "model_id": "69ef08baddb14e898512ea89396f7466"
            }
          },
          "metadata": {}
        }
      ],
      "source": [
        "outputs = model(\n",
        "    input_ids      = inputs.input_ids,\n",
        "    attention_mask = inputs.attention_mask\n",
        ")"
      ]
    },
    {
      "cell_type": "code",
      "execution_count": 46,
      "metadata": {
        "id": "sxWcnZ8ku12V",
        "colab": {
          "base_uri": "https://localhost:8080/"
        },
        "outputId": "aa46f32e-a268-4daa-c605-ca2a678b9f2a"
      },
      "outputs": [
        {
          "output_type": "stream",
          "name": "stdout",
          "text": [
            "outputs: <class 'transformers.models.longformer.modeling_longformer.LongformerSequenceClassifierOutput'> odict_keys(['logits'])\n",
            "LongformerSequenceClassifierOutput(loss=None, logits=tensor([[-0.2098,  0.0485,  0.0196, -0.2309,  0.0474,  0.1348]],\n",
            "       grad_fn=<AddmmBackward0>), hidden_states=None, attentions=None, global_attentions=None)\n"
          ]
        }
      ],
      "source": [
        "print(f\"outputs: {type(outputs)} {outputs.keys()}\\n{outputs}\")"
      ]
    },
    {
      "cell_type": "code",
      "execution_count": 47,
      "metadata": {
        "id": "islk-kFSs0t8",
        "colab": {
          "base_uri": "https://localhost:8080/"
        },
        "outputId": "8e3b624d-ad8d-4d11-bbbc-b88006d919bd"
      },
      "outputs": [
        {
          "output_type": "stream",
          "name": "stdout",
          "text": [
            "logits: <class 'torch.Tensor'> torch.Size([1, 6])\n",
            "tensor([[-0.2098,  0.0485,  0.0196, -0.2309,  0.0474,  0.1348]],\n",
            "       grad_fn=<AddmmBackward0>)\n"
          ]
        }
      ],
      "source": [
        "# Logits (= raw model outputs)\n",
        "logits = outputs.logits\n",
        "print(f\"logits: {type(logits)} {logits.shape}\\n{logits}\")"
      ]
    },
    {
      "cell_type": "code",
      "execution_count": 48,
      "metadata": {
        "id": "sMscqNTXuY8o",
        "colab": {
          "base_uri": "https://localhost:8080/"
        },
        "outputId": "9489c1a8-ed91-4bf9-bf51-4985cb235d2b"
      },
      "outputs": [
        {
          "output_type": "stream",
          "name": "stdout",
          "text": [
            "probs: <class 'torch.Tensor'> torch.Size([1, 6])\n",
            "tensor([[0.4477, 0.5121, 0.5049, 0.4425, 0.5119, 0.5337]],\n",
            "       grad_fn=<SigmoidBackward0>)\n"
          ]
        }
      ],
      "source": [
        "# Convert logits to probabilities\n",
        "sigmoid = torch.nn.Sigmoid()\n",
        "probs   = sigmoid(logits)\n",
        "print(f\"probs: {type(probs)} {probs.shape}\\n{probs}\")"
      ]
    },
    {
      "cell_type": "code",
      "execution_count": 49,
      "metadata": {
        "id": "BZtO3uQkwcJ2"
      },
      "outputs": [],
      "source": [
        "example = encoded_dataset['train'][0]"
      ]
    },
    {
      "cell_type": "code",
      "execution_count": 50,
      "metadata": {
        "id": "0enAb0W9o25W",
        "colab": {
          "base_uri": "https://localhost:8080/"
        },
        "outputId": "b27098f8-8541-4736-9554-c9b2d4355a52"
      },
      "outputs": [
        {
          "output_type": "stream",
          "name": "stdout",
          "text": [
            "example: <class 'dict'> dict_keys(['input_ids', 'attention_mask', 'global_attention_mask', 'labels'])\n",
            "{'input_ids': tensor([    0, 31230,  4063,  ...,     1,     1,     1]), 'attention_mask': tensor([1, 1, 1,  ..., 0, 0, 0]), 'global_attention_mask': tensor([1, 0, 0,  ..., 0, 0, 0]), 'labels': tensor([0., 0., 1., 1., 0., 0.])}\n",
            "\n"
          ]
        }
      ],
      "source": [
        "print(f\"example: {type(example)} {example.keys()}\\n{example}\")\n",
        "print()\n",
        "#print(f\"example['input_ids']: {type(example['input_ids'])} {len(example['input_ids'])}\\n{example['input_ids']}\")\n",
        "#print(f\"example['attention_mask']: {type(example['attention_mask'])} {len(example['attention_mask'])}\\n{example['attention_mask']}\")\n",
        "#print(f\"example['labels']:  {type(example['labels'])} {len(example['labels'])}\\n{example['labels']}\")"
      ]
    },
    {
      "cell_type": "code",
      "execution_count": 51,
      "metadata": {
        "id": "D0McCtJ8HRJY",
        "colab": {
          "base_uri": "https://localhost:8080/",
          "height": 161
        },
        "outputId": "ffadc496-98ee-4726-d5e6-ffd28fb4355b"
      },
      "outputs": [
        {
          "output_type": "execute_result",
          "data": {
            "text/plain": [
              "\"<s>Centric - Full Stack Java Developer   Full Stack Java Developer   Centric   What you do Do you want to dive into multiple technologies and put them to work? Do you have a continuous improvement mindset? Does it give you energy to look for solutions for challenging problems? Answered Yes to these questions? Then you might be the Full Stack developer we are looking for in our team. Job tasks Developing applications on Blue CAP, our internal Cloud Application Platform. You'll be working with technologies like Java & Spring Framework, dockers on OpenShift (= Kubernetes by Red Hat), a fully automated build & deploy pipeline, GIT, continuous releasing, Kibana for log analysis, Prometheus for automated alert management... And you'll be working with a cloud-native development mindset. We also build the front-end for our applications using the Angular framework. How Bluecap works with a DevOps mindset; That means you'll be creating new features while also keeping tabs on the running applications. Occasional bugfixes and interaction with users are part of the job While you quickly fix any bugs that occur, you keep our (internal) users updated through Yammer. Assignments are tackled through the Agile methodology (and supported by Jira). Software is delivered in short iterations (sprints), allowing us to react quickly to new developments. We build high quality software. No feature is “done” until there's test cases for it and it is properly documented What you bring to the team Very good Java experience (full stack) Good experience with Spring Boot framework Knowledge of Hibernate Experienced with Angular framework Experience creating and using Dockers and OpenShift Experienced with Cloud computing Excellent knowledge of the English knowledge Able to work as a freelancer in the region of Brussels</s><pad><pad><pad><pad><pad><pad><pad><pad><pad><pad><pad><pad><pad><pad><pad><pad><pad><pad><pad><pad><pad><pad><pad><pad><pad><pad><pad><pad><pad><pad><pad><pad><pad><pad><pad><pad><pad><pad><pad><pad><pad><pad><pad><pad><pad><pad><pad><pad><pad><pad><pad><pad><pad><pad><pad><pad><pad><pad><pad><pad><pad><pad><pad><pad><pad><pad><pad><pad><pad><pad><pad><pad><pad><pad><pad><pad><pad><pad><pad><pad><pad><pad><pad><pad><pad><pad><pad><pad><pad><pad><pad><pad><pad><pad><pad><pad><pad><pad><pad><pad><pad><pad><pad><pad><pad><pad><pad><pad><pad><pad><pad><pad><pad><pad><pad><pad><pad><pad><pad><pad><pad><pad><pad><pad><pad><pad><pad><pad><pad><pad><pad><pad><pad><pad><pad><pad><pad><pad><pad><pad><pad><pad><pad><pad><pad><pad><pad><pad><pad><pad><pad><pad><pad><pad><pad><pad><pad><pad><pad><pad><pad><pad><pad><pad><pad><pad><pad><pad><pad><pad><pad><pad><pad><pad><pad><pad><pad><pad><pad><pad><pad><pad><pad><pad><pad><pad><pad><pad><pad><pad><pad><pad><pad><pad><pad><pad><pad><pad><pad><pad><pad><pad><pad><pad><pad><pad><pad><pad><pad><pad><pad><pad><pad><pad><pad><pad><pad><pad><pad><pad><pad><pad><pad><pad><pad><pad><pad><pad><pad><pad><pad><pad><pad><pad><pad><pad><pad><pad><pad><pad><pad><pad><pad><pad><pad><pad><pad><pad><pad><pad><pad><pad><pad><pad><pad><pad><pad><pad><pad><pad><pad><pad><pad><pad><pad><pad><pad><pad><pad><pad><pad><pad><pad><pad><pad><pad><pad><pad><pad><pad><pad><pad><pad><pad><pad><pad><pad><pad><pad><pad><pad><pad><pad><pad><pad><pad><pad><pad><pad><pad><pad><pad><pad><pad><pad><pad><pad><pad><pad><pad><pad><pad><pad><pad><pad><pad><pad><pad><pad><pad><pad><pad><pad><pad><pad><pad><pad><pad><pad><pad><pad><pad><pad><pad><pad><pad><pad><pad><pad><pad><pad><pad><pad><pad><pad><pad><pad><pad><pad><pad><pad><pad><pad><pad><pad><pad><pad><pad><pad><pad><pad><pad><pad><pad><pad><pad><pad><pad><pad><pad><pad><pad><pad><pad><pad><pad><pad><pad><pad><pad><pad><pad><pad><pad><pad><pad><pad><pad><pad><pad><pad><pad><pad><pad><pad><pad><pad><pad><pad><pad><pad><pad><pad><pad><pad><pad><pad><pad><pad><pad><pad><pad><pad><pad><pad><pad><pad><pad><pad><pad><pad><pad><pad><pad><pad><pad><pad><pad><pad><pad><pad><pad><pad><pad><pad><pad><pad><pad><pad><pad><pad><pad><pad><pad><pad><pad><pad><pad><pad><pad><pad><pad><pad><pad><pad><pad><pad><pad><pad><pad><pad><pad><pad><pad><pad><pad><pad><pad><pad><pad><pad><pad><pad><pad><pad><pad><pad><pad><pad><pad><pad><pad><pad><pad><pad><pad><pad><pad><pad><pad><pad><pad><pad><pad><pad><pad><pad><pad><pad><pad><pad><pad><pad><pad><pad><pad><pad><pad><pad><pad><pad><pad><pad><pad><pad><pad><pad><pad><pad><pad><pad><pad><pad><pad><pad><pad><pad><pad><pad><pad><pad><pad><pad><pad><pad><pad><pad><pad><pad><pad><pad><pad><pad><pad><pad><pad><pad><pad><pad><pad><pad><pad><pad><pad><pad><pad><pad><pad><pad><pad><pad><pad><pad><pad><pad><pad><pad><pad><pad><pad><pad><pad><pad><pad><pad><pad><pad><pad><pad><pad><pad><pad><pad><pad><pad><pad><pad><pad><pad><pad><pad><pad><pad><pad><pad><pad><pad><pad><pad><pad><pad><pad><pad><pad><pad><pad><pad><pad><pad><pad><pad><pad><pad><pad><pad><pad><pad><pad><pad><pad><pad><pad><pad><pad><pad><pad><pad><pad><pad><pad><pad><pad><pad><pad><pad><pad><pad><pad><pad><pad><pad><pad><pad><pad><pad><pad><pad><pad><pad><pad><pad><pad><pad><pad><pad><pad><pad><pad><pad>\""
            ],
            "application/vnd.google.colaboratory.intrinsic+json": {
              "type": "string"
            }
          },
          "metadata": {},
          "execution_count": 51
        }
      ],
      "source": [
        "tokenizer.decode(example['input_ids'])"
      ]
    },
    {
      "cell_type": "code",
      "execution_count": 52,
      "metadata": {
        "id": "6LAyThO7Jnvj",
        "colab": {
          "base_uri": "https://localhost:8080/"
        },
        "outputId": "7810729a-9f39-41ac-adbe-4b2c0da080fe"
      },
      "outputs": [
        {
          "output_type": "execute_result",
          "data": {
            "text/plain": [
              "['137', '138']"
            ]
          },
          "metadata": {},
          "execution_count": 52
        }
      ],
      "source": [
        "[id2label[idx] for idx, label in enumerate(example['labels']) if label == 1.0]"
      ]
    },
    {
      "cell_type": "markdown",
      "metadata": {
        "id": "mHCJcLKGwcJ2"
      },
      "source": [
        "## Set PyTorch format to ensures correctness and compatibility with PyTorch pipelines\n",
        "The 3 Hugging Face Dataset are formatted as PyTorch Dataset."
      ]
    },
    {
      "cell_type": "code",
      "execution_count": 53,
      "metadata": {
        "id": "i4ENBTdulBEI"
      },
      "outputs": [],
      "source": [
        "encoded_dataset.set_format('torch')"
      ]
    },
    {
      "cell_type": "markdown",
      "metadata": {
        "id": "o8aGgHN-BQrO"
      },
      "source": [
        "## Workflow\n",
        "\n",
        "- 3 steps: training, evaluation, test\n",
        "- 3 datasets: train, validation, test\n",
        "- 3 Trainer functions: train, evaluate, predict\n",
        "---\n",
        "* training uses train_dataset\n",
        "* evaluation uses validation_dataset\n",
        "* test uses test_dataset"
      ]
    },
    {
      "cell_type": "markdown",
      "metadata": {
        "id": "Hy7jlzubwcJ6"
      },
      "source": [
        "## Training step\n"
      ]
    },
    {
      "cell_type": "code",
      "execution_count": 54,
      "metadata": {
        "id": "K5a8_vIKqr7P"
      },
      "outputs": [],
      "source": [
        "batch_size  = batch_size\n",
        "metric_name = \"f1\""
      ]
    },
    {
      "cell_type": "code",
      "execution_count": 55,
      "metadata": {
        "id": "adTwB7XvFNsj",
        "colab": {
          "base_uri": "https://localhost:8080/"
        },
        "outputId": "531830b0-7591-4dcb-8669-b838711453d6"
      },
      "outputs": [
        {
          "output_type": "stream",
          "name": "stdout",
          "text": [
            "input_ids:              <class 'torch.Tensor'>\ttorch.Size([1024])\n",
            "attention_mask:         <class 'torch.Tensor'>\ttorch.Size([1024])\n",
            "global_attention_mask:  <class 'torch.Tensor'>\ttorch.Size([1024])\n",
            "labels:                 <class 'torch.Tensor'>\ttorch.Size([6])\n"
          ]
        }
      ],
      "source": [
        "print(f\"input_ids:              {type(encoded_dataset['train']['input_ids'][0])}\\t{encoded_dataset['train']['input_ids'][0].shape}\")\n",
        "print(f\"attention_mask:         {type(encoded_dataset['train']['attention_mask'][0])}\\t{encoded_dataset['train']['attention_mask'][0].shape}\")\n",
        "print(f\"global_attention_mask:  {type(encoded_dataset['train']['global_attention_mask'][0])}\\t{encoded_dataset['train']['global_attention_mask'][0].shape}\")\n",
        "print(f\"labels:                 {type(encoded_dataset['train'][0]['labels'])}\\t{encoded_dataset['train'][0]['labels'].shape}\")"
      ]
    },
    {
      "cell_type": "markdown",
      "metadata": {
        "id": "xCGdbfNJwcJ4"
      },
      "source": [
        "### Execute a forward pass for debugging or verification purposes (cf. BERT_3_1 in Notion BERT database)"
      ]
    },
    {
      "cell_type": "code",
      "execution_count": 56,
      "metadata": {
        "id": "VN-sEDggwcJ4"
      },
      "outputs": [],
      "source": [
        "outputs = model(\n",
        "    input_ids      = encoded_dataset['train']['input_ids'][0].unsqueeze(0),\n",
        "    attention_mask = encoded_dataset['train']['attention_mask'][0].unsqueeze(0),\n",
        "    labels         = encoded_dataset['train'][0]['labels'].unsqueeze(0)\n",
        ")"
      ]
    },
    {
      "cell_type": "code",
      "execution_count": 57,
      "metadata": {
        "id": "FtEd6KmRwcJ4",
        "colab": {
          "base_uri": "https://localhost:8080/"
        },
        "outputId": "8ccb27d1-5383-4271-8760-70e363e367df"
      },
      "outputs": [
        {
          "output_type": "stream",
          "name": "stdout",
          "text": [
            "outputs: <class 'transformers.models.longformer.modeling_longformer.LongformerSequenceClassifierOutput'> odict_keys(['loss', 'logits'])\n",
            "LongformerSequenceClassifierOutput(loss=tensor(0.7150, grad_fn=<BinaryCrossEntropyWithLogitsBackward0>), logits=tensor([[-0.2098,  0.0485,  0.0196, -0.2309,  0.0474,  0.1348]],\n",
            "       grad_fn=<AddmmBackward0>), hidden_states=None, attentions=None, global_attentions=None)\n"
          ]
        }
      ],
      "source": [
        "print(f\"outputs: {type(outputs)} {outputs.keys()}\\n{outputs}\")"
      ]
    },
    {
      "cell_type": "markdown",
      "metadata": {
        "id": "EYiSTBw_1Kdj"
      },
      "source": [
        "### Weighted loss function"
      ]
    },
    {
      "cell_type": "code",
      "execution_count": 58,
      "metadata": {
        "id": "vqxhHkT1wcJ4"
      },
      "outputs": [],
      "source": [
        "%%capture\n",
        "\n",
        "# Define the weighted loss function\n",
        "\n",
        "class_weights = torch.tensor([7.68, 2.15, 0.61, 0.47, 0.68, 6.26], dtype=torch.float32).to(device)\n",
        "loss_fn       = BCEWithLogitsLoss(pos_weight=class_weights)  # For multi-label classification (binary classification per label)\n",
        "\n",
        "## Class supports, class weigths, weighted loss function\n",
        "\n",
        "#Reminder:\n",
        "#*   df_jobs      : <class 'pandas.core.frame.DataFrame'>\n",
        "#*   df_jobs['id']: <class 'pandas.core.series.Series'>\n",
        "\n",
        "#dataset = Dataset.from_pandas(df_jobs)\n",
        "#*   dataset      : <class 'datasets.arrow_dataset.Dataset'>\n",
        "#*   dataset['id']: <class 'list'>\n",
        "\n",
        "#*   dataset_dict_jobs : <class 'datasets.dataset_dict.DatasetDict'>\n",
        "#*   train_dataset     : <class 'datasets.arrow_dataset.Dataset'>\n",
        "#*   validation_dataset: <class 'datasets.arrow_dataset.Dataset'>\n",
        "#*   test_dataset      : <class 'datasets.arrow_dataset.Dataset'>\n",
        "\n",
        "\n",
        "#We calculate the class supports for the train, validation and test datasets; the class weights and the weighted loss function are used for training only; the class supports of validation_dataset and test_dataset are calculated for information only.\n",
        "\n",
        "def get_train_class_weights(datasetDict, labels):\n",
        "  print(f\"datasetDict: {type(datasetDict)} shape={datasetDict.shape}\\n{datasetDict}\")\n",
        "  print(f\"labels: {type(labels)} len={len(labels)}\\n{labels}\")\n",
        "\n",
        "  dataset_train      = datasetDict['train']\n",
        "  dataset_validation = datasetDict['validation']\n",
        "  dataset_test       = datasetDict['test']\n",
        "\n",
        "  def calculate_class_supports(dataset, labels):\n",
        "    class_supports = dataset.map(\n",
        "        lambda example: {col: example[col] for col in labels},\n",
        "        batched=True\n",
        "    ).to_pandas()[labels].sum(axis=0)\n",
        "    return class_supports\n",
        "\n",
        "  class_supports = {}\n",
        "\n",
        "  for split_name, split_dataset in datasetDict.items():\n",
        "    class_supports[split_name] = calculate_class_supports(split_dataset, labels)\n",
        "\n",
        "  for split_name, split_class_supports in class_supports.items():\n",
        "    print(f\"{split_name}: {type(split_class_supports)} len={len(split_class_supports)}\\n{split_class_supports}\")\n",
        "\n",
        "  train_class_supports_list = class_supports['train'].tolist()\n",
        "  print(f\"train_class_supports_list: {type(train_class_supports_list)} len={len(train_class_supports_list)} {train_class_supports_list}\")\n",
        "\n",
        "  train_class_supports_tensor = torch.tensor(train_class_supports_list, dtype=torch.float32)\n",
        "  print(f\"train_class_supports_tensor: {type(train_class_supports_tensor)} len={len(train_class_supports_tensor)} {train_class_supports_tensor}\")\n",
        "\n",
        "  train_total_samples = dataset_train.num_rows\n",
        "  print(f\"train_total_samples: {train_total_samples}\")\n",
        "\n",
        "  number_of_classes = len(labels)\n",
        "  print(f\"number_of_classes: {number_of_classes}\")\n",
        "\n",
        "  train_class_weights = train_total_samples / (number_of_classes * train_class_supports_tensor)\n",
        "  print(f\"train_class_weights: {type(train_class_weights)} len={len(train_class_weights)} {train_class_weights}\")\n",
        "\n",
        "  train_class_weights_sum = train_class_weights.sum()\n",
        "  print(f\"train_class_weights_sum: {train_class_weights_sum}\")\n",
        "\n",
        "  normalized_train_class_weights = (train_class_weights / train_class_weights_sum) * number_of_classes\n",
        "  print(f\"normalized_train_class_weights: {type(normalized_train_class_weights)} len={len(normalized_train_class_weights)} {normalized_train_class_weights}\")\n",
        "\n",
        "  # Positives samples per label\n",
        "  supports = train_class_supports_tensor\n",
        "  print(f\"supports: {type(supports)} {len(supports)} {supports}\")\n",
        "\n",
        "  # Negatives samples per label\n",
        "  negatives = train_total_samples - supports\n",
        "  print(f\"negatives: {type(negatives)} {len(negatives)} {negatives}\")\n",
        "\n",
        "  # pos_weights = negative to positive ratios\n",
        "  pos_weights = negatives/supports\n",
        "  print(f\"pos_weights: {type(pos_weights)} {len(pos_weights)} {pos_weights}\")\n",
        "\n",
        "  # Normalize using min-max scaling\n",
        "  normalized_pos_weights_minmax = (pos_weights - pos_weights.min()) / (pos_weights.max() - pos_weights.min())\n",
        "  print(f\"normalized_pos_weights_minmax: {type(normalized_pos_weights_minmax)} {len(normalized_pos_weights_minmax)} {normalized_pos_weights_minmax}\")\n",
        "\n",
        "  # Normalize using z-score standardization\n",
        "  normalized_pos_weights_zscore = (pos_weights - pos_weights.mean()) / pos_weights.std()\n",
        "  print(f\"normalized_pos_weights_zscore: {type(normalized_pos_weights_zscore)} {len(normalized_pos_weights_zscore)} {normalized_pos_weights_zscore}\")\n",
        "\n",
        "  # Normalize using min-max scaling\n",
        "  normalized_pos_weights_minmax = (pos_weights - pos_weights.min()) / (pos_weights.max() - pos_weights.min())\n",
        "  print(f\"normalized_pos_weights_minmax: {type(normalized_pos_weights_minmax)} {len(normalized_pos_weights_minmax)} {normalized_pos_weights_minmax}\")\n",
        "\n",
        "  # Normalize using z-score standardization\n",
        "  normalized_pos_weights_zscore = (pos_weights - pos_weights.mean()) / pos_weights.std()\n",
        "  print(f\"normalized_pos_weights_zscore: {type(normalized_pos_weights_zscore)} {len(normalized_pos_weights_zscore)} {normalized_pos_weights_zscore}\")\n",
        "\n",
        "  # Normalize using sum-to-one\n",
        "  normalized_pos_weights_sum1 = pos_weights / pos_weights.sum()\n",
        "  print(f\"normalized_pos_weights_sum1: {type(normalized_pos_weights_sum1)} {len(normalized_pos_weights_sum1)} {normalized_pos_weights_sum1}\")\n",
        "\n",
        "  return normalized_pos_weights_minmax\n",
        "  #return normalized_pos_weights_zscore\n",
        "  #return normalized_pos_weights_sum1\n",
        "\n",
        "pos_weights = get_train_class_weights(datasetDict, labels)\n",
        "\n",
        "loss_fn = BCEWithLogitsLoss(pos_weight=pos_weights.to(device))  # For multi-label classification (binary classification per label)\n",
        "print(f\"loss_fn: {type(loss_fn)} {loss_fn}\")\n"
      ]
    },
    {
      "cell_type": "code",
      "execution_count": 59,
      "metadata": {
        "id": "YqMipSpowcJ5"
      },
      "outputs": [],
      "source": [
        "def get_class_weights(labels=encoded_dataset['train']['labels']):\n",
        "  print(f\"labels: {type(labels)} len={len(labels)} shape={labels.shape}\\n{labels}\")\n",
        "\n",
        "  num_samples, num_labels = labels.shape\n",
        "  print(f\"num_samples: {type(num_samples)} {num_samples}\")\n",
        "  print(f\"num_labels:  {type(num_labels)}  {num_labels}\")\n",
        "\n",
        "  class_counts = labels.sum(dim=0)\n",
        "  print(f\"class_counts: {type(class_counts)} len={len(class_counts)}\\n{class_counts}\")\n",
        "\n",
        "  pos_weights = (num_samples-class_counts) / class_counts\n",
        "  print(f\"pos_weights: {type(pos_weights)} len={len(pos_weights)}\\n{pos_weights}\")\n",
        "\n",
        "  normalized_pos_weights_minmax = (pos_weights - pos_weights.min()) / (pos_weights.max() - pos_weights.min())\n",
        "  print(f\"normalized_pos_weights_minmax: {type(normalized_pos_weights_minmax)} {len(normalized_pos_weights_minmax)} {normalized_pos_weights_minmax}\")\n",
        "\n",
        "  normalized_pos_weights_zscore = (pos_weights - pos_weights.mean()) / pos_weights.std()\n",
        "  print(f\"normalized_pos_weights_zscore: {type(normalized_pos_weights_zscore)} {len(normalized_pos_weights_zscore)} {normalized_pos_weights_zscore}\")\n",
        "\n",
        "  normalized_pos_weights_sum1 = pos_weights / pos_weights.sum()\n",
        "  print(f\"normalized_pos_weights_sum1: {type(normalized_pos_weights_sum1)} {len(normalized_pos_weights_sum1)} {normalized_pos_weights_sum1}\")\n",
        "\n",
        "  #return pos_weights\n",
        "  #return normalized_pos_weights_minmax\n",
        "  #return normalized_pos_weights_zscore\n",
        "  return normalized_pos_weights_sum1"
      ]
    },
    {
      "cell_type": "code",
      "execution_count": 60,
      "metadata": {
        "id": "3Bh-gAHGwcJ5",
        "colab": {
          "base_uri": "https://localhost:8080/"
        },
        "outputId": "fa101979-f0a3-4ed8-b2f0-51e27e3dc81b"
      },
      "outputs": [
        {
          "output_type": "stream",
          "name": "stdout",
          "text": [
            "labels: <class 'torch.Tensor'> len=96 shape=torch.Size([96, 6])\n",
            "tensor([[0., 0., 1., 1., 0., 0.],\n",
            "        [1., 1., 1., 1., 1., 1.],\n",
            "        [0., 0., 1., 1., 1., 0.],\n",
            "        [0., 0., 0., 1., 1., 0.],\n",
            "        [0., 0., 0., 1., 1., 0.],\n",
            "        [0., 0., 0., 0., 1., 0.],\n",
            "        [0., 0., 1., 1., 1., 0.],\n",
            "        [0., 0., 1., 1., 1., 0.],\n",
            "        [0., 0., 1., 1., 0., 0.],\n",
            "        [0., 0., 0., 1., 1., 0.],\n",
            "        [0., 0., 0., 0., 1., 0.],\n",
            "        [0., 0., 1., 1., 1., 0.],\n",
            "        [0., 1., 1., 0., 0., 1.],\n",
            "        [0., 0., 1., 1., 1., 0.],\n",
            "        [0., 0., 1., 1., 1., 0.],\n",
            "        [0., 0., 1., 1., 1., 0.],\n",
            "        [0., 0., 1., 1., 1., 0.],\n",
            "        [0., 0., 1., 1., 0., 0.],\n",
            "        [0., 0., 1., 1., 0., 0.],\n",
            "        [0., 0., 1., 1., 0., 0.],\n",
            "        [0., 0., 0., 1., 1., 0.],\n",
            "        [0., 0., 0., 1., 1., 0.],\n",
            "        [0., 0., 0., 1., 1., 0.],\n",
            "        [0., 0., 0., 1., 1., 0.],\n",
            "        [0., 0., 1., 1., 1., 0.],\n",
            "        [0., 0., 1., 1., 0., 0.],\n",
            "        [0., 0., 0., 0., 1., 0.],\n",
            "        [0., 0., 0., 1., 1., 0.],\n",
            "        [0., 0., 0., 1., 1., 0.],\n",
            "        [0., 0., 1., 1., 1., 0.],\n",
            "        [0., 0., 0., 1., 1., 0.],\n",
            "        [0., 0., 1., 1., 1., 0.],\n",
            "        [0., 0., 1., 1., 1., 0.],\n",
            "        [0., 0., 1., 1., 0., 0.],\n",
            "        [1., 0., 0., 0., 0., 0.],\n",
            "        [0., 0., 0., 1., 1., 0.],\n",
            "        [0., 0., 0., 1., 1., 0.],\n",
            "        [0., 0., 0., 1., 1., 0.],\n",
            "        [0., 0., 1., 1., 0., 0.],\n",
            "        [0., 0., 0., 1., 1., 0.],\n",
            "        [0., 0., 1., 1., 0., 0.],\n",
            "        [0., 1., 1., 1., 0., 0.],\n",
            "        [1., 1., 1., 0., 0., 1.],\n",
            "        [0., 0., 0., 1., 1., 0.],\n",
            "        [0., 0., 1., 0., 0., 0.],\n",
            "        [0., 0., 1., 1., 1., 0.],\n",
            "        [0., 1., 1., 1., 1., 0.],\n",
            "        [0., 0., 0., 1., 1., 0.],\n",
            "        [0., 0., 1., 1., 1., 0.],\n",
            "        [0., 0., 1., 1., 0., 0.],\n",
            "        [0., 0., 0., 1., 1., 0.],\n",
            "        [0., 0., 1., 1., 0., 0.],\n",
            "        [0., 1., 1., 0., 0., 0.],\n",
            "        [0., 0., 0., 1., 1., 0.],\n",
            "        [0., 0., 0., 1., 1., 0.],\n",
            "        [0., 1., 1., 1., 0., 0.],\n",
            "        [0., 0., 0., 1., 1., 0.],\n",
            "        [0., 0., 0., 1., 1., 0.],\n",
            "        [0., 0., 1., 1., 1., 0.],\n",
            "        [0., 0., 0., 1., 1., 0.],\n",
            "        [0., 0., 0., 1., 1., 0.],\n",
            "        [0., 0., 1., 1., 1., 0.],\n",
            "        [0., 0., 0., 1., 1., 0.],\n",
            "        [0., 0., 0., 1., 1., 0.],\n",
            "        [0., 0., 1., 1., 0., 0.],\n",
            "        [0., 0., 1., 1., 0., 0.],\n",
            "        [0., 0., 1., 1., 0., 0.],\n",
            "        [0., 0., 1., 1., 0., 0.],\n",
            "        [0., 0., 0., 1., 1., 0.],\n",
            "        [0., 0., 1., 1., 0., 0.],\n",
            "        [0., 0., 0., 1., 1., 0.],\n",
            "        [0., 0., 0., 1., 1., 0.],\n",
            "        [0., 0., 0., 1., 1., 0.],\n",
            "        [0., 0., 0., 1., 1., 0.],\n",
            "        [0., 0., 1., 1., 0., 0.],\n",
            "        [0., 0., 0., 1., 1., 0.],\n",
            "        [0., 1., 1., 0., 0., 0.],\n",
            "        [0., 0., 0., 1., 1., 0.],\n",
            "        [0., 0., 0., 1., 1., 0.],\n",
            "        [0., 0., 1., 1., 1., 0.],\n",
            "        [0., 0., 0., 1., 1., 0.],\n",
            "        [0., 0., 1., 1., 1., 0.],\n",
            "        [0., 0., 0., 1., 1., 0.],\n",
            "        [0., 1., 0., 0., 0., 0.],\n",
            "        [0., 0., 1., 1., 0., 0.],\n",
            "        [0., 0., 1., 1., 0., 0.],\n",
            "        [0., 0., 1., 1., 1., 0.],\n",
            "        [0., 0., 0., 1., 1., 0.],\n",
            "        [0., 0., 1., 1., 1., 0.],\n",
            "        [0., 0., 1., 1., 0., 0.],\n",
            "        [0., 0., 0., 1., 1., 0.],\n",
            "        [0., 0., 1., 1., 0., 0.],\n",
            "        [0., 0., 1., 1., 0., 0.],\n",
            "        [0., 0., 1., 1., 0., 0.],\n",
            "        [0., 0., 1., 1., 0., 0.],\n",
            "        [0., 0., 0., 1., 1., 0.]])\n",
            "num_samples: <class 'int'> 96\n",
            "num_labels:  <class 'int'>  6\n",
            "class_counts: <class 'torch.Tensor'> len=6\n",
            "tensor([ 3.,  9., 53., 86., 63.,  3.])\n",
            "pos_weights: <class 'torch.Tensor'> len=6\n",
            "tensor([31.0000,  9.6667,  0.8113,  0.1163,  0.5238, 31.0000])\n",
            "normalized_pos_weights_minmax: <class 'torch.Tensor'> 6 tensor([1.0000, 0.3092, 0.0225, 0.0000, 0.0132, 1.0000])\n",
            "normalized_pos_weights_zscore: <class 'torch.Tensor'> 6 tensor([ 1.2540, -0.1680, -0.7582, -0.8045, -0.7774,  1.2540])\n",
            "normalized_pos_weights_sum1: <class 'torch.Tensor'> 6 tensor([0.4240, 0.1322, 0.0111, 0.0016, 0.0072, 0.4240])\n"
          ]
        }
      ],
      "source": [
        "pos_weights = get_class_weights()"
      ]
    },
    {
      "cell_type": "code",
      "execution_count": 61,
      "metadata": {
        "id": "4d36Km6_wcJ5"
      },
      "outputs": [],
      "source": [
        "loss_fn = BCEWithLogitsLoss(pos_weight=pos_weights.to(device))"
      ]
    },
    {
      "cell_type": "markdown",
      "metadata": {
        "id": "w_lLw3Er1WGj"
      },
      "source": [
        "### FocalLoss"
      ]
    },
    {
      "cell_type": "code",
      "execution_count": 62,
      "metadata": {
        "id": "OPRpdL8fwcJ5"
      },
      "outputs": [],
      "source": [
        "class FocalLoss(Module):\n",
        "  \"\"\"\n",
        "  Focal Loss implementation\n",
        "  \"\"\"\n",
        "  def __init__(self, alpha=1.0, gamma=2.0, logits=False, reduce=True):\n",
        "    super(FocalLoss, self).__init__()\n",
        "    self.alpha   = alpha\n",
        "    self.gamma   = gamma\n",
        "    self.logits  = logits  # This flag is to indicate whether input is logits or probability\n",
        "    self.reduce  = reduce\n",
        "\n",
        "  # inputs  = model's predictions: PyTorch tensor, shape=(batch_size, num_classes)\n",
        "  # targets = ground truth labels: PyTorch tensor, shape=same as inputs shape\n",
        "  def forward(self, inputs, targets):\n",
        "    # Here, we check if input is probability or logits\n",
        "    if self.logits:\n",
        "      # Input is logits\n",
        "      BCE_loss = F.binary_cross_entropy_with_logits(inputs, targets, reduction='none')\n",
        "    else:\n",
        "      # Input is probability\n",
        "      BCE_loss = F.binary_cross_entropy(inputs, targets, reduction='none')\n",
        "    pt = torch.exp(-BCE_loss)\n",
        "    F_loss = self.alpha * (1-pt)**self.gamma * BCE_loss\n",
        "\n",
        "    if self.reduce:\n",
        "      return torch.mean(F_loss)\n",
        "    else:\n",
        "      return F_loss\n",
        "\n",
        "  def __repr__(self):\n",
        "    return f\"FocalLoss(alpha={self.alpha}, gamma={self.gamma}, logits={self.logits}, reduce={self.reduce})\"\n",
        "\n",
        "  def __str__(self):\n",
        "    return f\"FocalLoss(alpha={self.alpha}, gamma={self.gamma}, logits={self.logits}, reduce={self.reduce})\"\n",
        "\n",
        "  def __call__(self, inputs, targets):\n",
        "    return self.forward(inputs, targets)"
      ]
    },
    {
      "cell_type": "code",
      "execution_count": 63,
      "metadata": {
        "id": "zknwQWsEb7oP",
        "colab": {
          "base_uri": "https://localhost:8080/"
        },
        "outputId": "4cd75740-6db6-4539-9e94-d9135ad5436a"
      },
      "outputs": [
        {
          "output_type": "stream",
          "name": "stdout",
          "text": [
            "focal_loss_fn: <class '__main__.FocalLoss'> FocalLoss(alpha=0.5, gamma=4.0, logits=True, reduce=True)\n"
          ]
        }
      ],
      "source": [
        "focal_loss_fn = FocalLoss(alpha=0.5, gamma=4.0, logits=True, reduce=True)\n",
        "print(f\"focal_loss_fn: {type(focal_loss_fn)} {focal_loss_fn}\")"
      ]
    },
    {
      "cell_type": "markdown",
      "source": [
        "### Training Metrics\n",
        "  source: https://jesusleal.io/2021/04/21/Longformer-multilabel-classification/"
      ],
      "metadata": {
        "id": "2UVmqyLTDcBQ"
      }
    },
    {
      "cell_type": "markdown",
      "source": [
        "#### UndefinedMetricWarning\n",
        "Only one class is present in y_true. ROC AUC score is not defined in that case.\n",
        "\n",
        "This warning typically arises when you're trying to calculate the ROC AUC score for a label where either all true values are 0 or all are 1 in a particular batch.\n",
        "\n",
        "The ROC AUC score is calculated by comparing the true positive rate (TPR) against the false positive rate (FPR) at various thresholds. If a label is only ever predicted as 0 or 1, you cannot generate a meaningful ROC curve and thus the AUC is undefined.\n",
        "\n",
        "AUC scores rely on the presence of both positive and negative samples for each label.\n",
        "\n",
        "Solution:\n",
        "\n",
        "- Check Label Distribution: Add a check at the start to see if either true_labels or preds for a particular label contain only one unique value (0 or 1). If so, for that label, either skip the ROC AUC calculation or set the ROC AUC to a default value (like 0 or NaN).\n",
        "- Ignore the warning (not recommended):\n",
        "- **Stratified sampling: While you did split into train/validation/test, the warning may indicate you didn't maintain the label balance during the splitting process. Stratified sampling would do this.**\n",
        "\n",
        "#### TPR (True Positive Rate) and FPR (False Positive Rate)\n",
        "TPR = Sensitivity = Recall = TP / (TP + FN)\n",
        "- TPR close to 1: the model identifies most positives\n",
        "- TPR close to 0: the model is missing many positives\n",
        "\n",
        "FPR = FP / (FP + TN)\n",
        "- FPR close to 1: the model produces many false alarms\n",
        "- FPR close to 0: the model makes few false alarms\n",
        "\n",
        "The ROC curve plots TPR (y-axis) vs. FPR (x-axis) at different thresholds.\n",
        "A perfect model has:\n",
        "- TPR = 1 (detect all positives)\n",
        "- FPR = 0 (no false alarms)\n",
        "\n",
        "The ideal ROC curve is a steep rise towards the top-left corner.\n",
        "\n",
        "#### zero_division=0\n",
        "\n",
        "- only for f1, precision and recall because they involve division where the denominator can be zero: some labels might never       be predicted (y_pred = 0 for all samples), or they might not appear in the true_labels (y_true = 0 for all samples)\n",
        "- ROC AUC: works with probabilities and does not involve division by zero\n",
        "- Precision-Recall AUC: also based on ranking, so no zero division issue\n",
        "- Accuracy: just compares exact matches, so no zero division issue"
      ],
      "metadata": {
        "id": "uZleLBD1NXyo"
      }
    },
    {
      "cell_type": "code",
      "source": [
        "def multi_label_metrics(logits, true_labels, threshold=0.5):\n",
        "    \"\"\"\n",
        "    Compute multi-label classification metrics.\n",
        "\n",
        "    Parameters:\n",
        "    - logits     : raw, unnormalized scores from the model  (numpy ndarray of shape (batch_size, num_labels))\n",
        "    - true_labels: actual labels                            (numpy ndarray of shape (batch_size, num_labels))\n",
        "    - threshold  : decision threshold for converting probabilities to binary predictions\n",
        "\n",
        "    Returns:\n",
        "    - metrics: dictionary of scores\n",
        "    \"\"\"\n",
        "    print(f\"logits: {type(logits)} {logits.shape}\\n{logits}\")                      # <class 'numpy.ndarray'> (12, 6)\n",
        "    print(f\"true_labels: {type(true_labels)} {true_labels.shape}\\n{true_labels}\")  # <class 'numpy.ndarray'> (12, 6)\n",
        "\n",
        "    # Ensure logits is a PyTorch tensor before applying sigmoid\n",
        "    if isinstance(logits, np.ndarray):\n",
        "        logits = torch.as_tensor(logits)\n",
        "    print(f\"logits: {type(logits)} {logits.shape}\\n{logits}\")                      # <class 'torch.Tensor'> torch.Size([12, 6])\n",
        "\n",
        "    # Convert logits to probabilities\n",
        "    probs = torch.sigmoid(logits).detach().cpu().numpy()  # Convert to NumPy safely:\n",
        "                                                          # - detach() remove the tensor from the computation graph,\n",
        "                                                          #   making it a regular tensor without gradients\n",
        "                                                          # - cpu() moves the tensor from the GPU to the CPU before converting to NumPy\n",
        "    print(f\"probs: {type(probs)} {probs.shape}\\n{probs}\")  # <class 'numpy.ndarray'> (12, 6)\n",
        "\n",
        "    # Apply threshold to get binary predictions\n",
        "    preds = (probs > threshold).astype(int)\n",
        "    print(f\"preds: {type(preds)} {preds.shape}\\n{preds}\")  # <class 'numpy.ndarray'> (12, 6)\n",
        "\n",
        "    # Compute metrics\n",
        "    f1                   = f1_score               (y_true=true_labels, y_pred=preds, average=training_average, zero_division=0)\n",
        "    precision            = precision_score        (y_true=true_labels, y_pred=preds, average=training_average, zero_division=0)\n",
        "    recall               = recall_score           (y_true=true_labels, y_pred=preds, average=training_average, zero_division=0)\n",
        "\n",
        "    # Identify valid labels (those with both 0s and 1s in 'y_true')\n",
        "    valid_labels = np.where((true_labels.sum(axis=0) > 0) & (true_labels.sum(axis=0) < true_labels.shape[0]))[0]\n",
        "\n",
        "    if len(valid_labels) > 0:\n",
        "        roc_auc              = np.mean([roc_auc_score          (y_true=true_labels[:, i], y_score=probs[:, i]) for i in valid_labels])\n",
        "        precision_recall_auc = np.mean([average_precision_score(y_true=true_labels[:, i], y_score=probs[:, i]) for i in valid_labels])\n",
        "    else:\n",
        "        roc_auc              = np.nan  # Set to NaN if no valid labels exist\n",
        "        precision_recall_auc = np.nan  # Set to NaN if no valid labels exist\n",
        "\n",
        "    subset_acc = accuracy_score(true_labels, preds)  # Subset accuracy (requires exact match per sample)\n",
        "    hamming    = hamming_loss(true_labels, preds)    # Better for imbalanced multi-label tasks\n",
        "\n",
        "    metrics = {\n",
        "        'f1'                  : f1,\n",
        "        'precision'           : precision,\n",
        "        'recall'              : recall,\n",
        "        'roc_auc'             : roc_auc,               # Avoid warning by checking valid labels\n",
        "        'precision_recall_auc': precision_recall_auc,  # Avoid warning by checking valid labels\n",
        "        'subset_accuracy'     : subset_acc,\n",
        "        'hamming_loss'        : hamming\n",
        "    }\n",
        "\n",
        "    return metrics"
      ],
      "metadata": {
        "id": "-smu3fYrIybT"
      },
      "execution_count": 64,
      "outputs": []
    },
    {
      "cell_type": "code",
      "source": [
        "# Evaluation batch per batch\n",
        "def compute_metrics(p: EvalPrediction):\n",
        "    #print(f\"p.predictions: {type(p.predictions)} {p.predictions.shape}\\n{p.predictions[:5]}\")\n",
        "    #print(f\"p.label_ids: {type(p.label_ids)} {p.label_ids.shape}\\n{p.label_ids[:5]}\")\n",
        "\n",
        "    preds  = p.predictions[0] if isinstance(p.predictions, tuple) else p.predictions\n",
        "    result = multi_label_metrics(logits=preds,true_labels=p.label_ids)\n",
        "\n",
        "    return result"
      ],
      "metadata": {
        "id": "HIORbGwIDH-x"
      },
      "execution_count": 65,
      "outputs": []
    },
    {
      "cell_type": "markdown",
      "metadata": {
        "id": "d2elPEoowcJ6"
      },
      "source": [
        "### HF transformer Trainer and CustomTrainer\n",
        "Abstracts the training loop."
      ]
    },
    {
      "cell_type": "code",
      "execution_count": 66,
      "metadata": {
        "id": "dR2GmpvDqbuZ"
      },
      "outputs": [],
      "source": [
        "training_args = TrainingArguments(\n",
        "    output_dir                  = './training_results',  # where model predictions and checkpoints will be written during training\n",
        "    overwrite_output_dir        = True,\n",
        "    logging_dir                 = './logs',\n",
        "    logging_steps               = 50,\n",
        "    save_steps                  = 500,\n",
        "    save_total_limit            = 2,\n",
        "    eval_strategy               = 'epoch',\n",
        "    save_strategy               = 'epoch',\n",
        "    learning_rate               = learning_rate,\n",
        "    per_device_train_batch_size = batch_size,\n",
        "    per_device_eval_batch_size  = batch_size,\n",
        "    gradient_accumulation_steps = gradient_accumulation_steps,\n",
        "    num_train_epochs            = epochs,\n",
        "    weight_decay                = 0.01,\n",
        "    load_best_model_at_end      = True,\n",
        "    metric_for_best_model       = metric_name,\n",
        "    run_name                    = run_name,\n",
        "    fp16                        = fp,\n",
        "    report_to                  = 'wandb'\n",
        ")"
      ]
    },
    {
      "cell_type": "code",
      "execution_count": 67,
      "metadata": {
        "id": "Isb6aMV2bWJ8"
      },
      "outputs": [],
      "source": [
        "class CustomTrainer(Trainer):\n",
        "\n",
        "  def __init__(self, *args, loss_fn=None, **kwargs):\n",
        "    super().__init__(*args, **kwargs)\n",
        "    self.loss_fn = loss_fn\n",
        "\n",
        "  \"\"\"\n",
        "  # No print in compute_loss because out of memory because prints are batch per batch\n",
        "  def compute_loss(self, model, inputs, return_outputs=False, num_items_in_batch=None):\n",
        "\n",
        "    #print(f\"inputs passed to compute_loss: {inputs.keys()}\")\n",
        "    #input_ids             = inputs['input_ids']                        # shape: batch_size, sequence_length\n",
        "    #attention_mask        = inputs['attention_mask']                   # shape: batch_size, sequence_length\n",
        "    #global_attention_mask = inputs.get('global_attention_mask', None)  # shape: batch_size, sequence_length; optional as LongFormer specific\n",
        "    labels                = inputs.pop('labels', None)                 # shape: batch_size, num_labels; needed for loss computation, not required by the model\n",
        "\n",
        "    #outputs = model(**inputs, global_attention_mask=global_attention_mask)  # Forward pass\n",
        "    # Forward pass\n",
        "    #outputs = model(\n",
        "    #    input_ids             = input_ids,\n",
        "    #    attention_mask        = attention_mask,\n",
        "    #    global_attention_mask = global_attention_mask,\n",
        "    #    labels                = labels\n",
        "    #)\n",
        "    outputs = model(**inputs, labels=labels)\n",
        "    #print(f\"outputs: {type(outputs)} {outputs.keys()}\\n{outputs}\")\n",
        "    logits = outputs.logits  # shape: (batch_size, num_labels)\n",
        "\n",
        "    # If labels are provided, compute loss\n",
        "    if labels is not None:\n",
        "      # Use the custom loss function if provided\n",
        "      if self.loss_fn is not None:\n",
        "        loss = self.loss_fn(logits, labels)  # Compute weighted loss\n",
        "      else:\n",
        "        # Default loss: BCEWithLogitsLoss\n",
        "        loss_fn = BCEWithLogitsLoss()\n",
        "        loss    = loss_fn(logits, labels)    # Compute loss\n",
        "      return (loss, outputs) if return_outputs else loss\n",
        "\n",
        "    # If no labels, return outputs only, for evaluation or prediction\n",
        "    return outputs\n",
        "    \"\"\"\n",
        "  def compute_loss(self, model, inputs, return_outputs=False, num_items_in_batch=None):\n",
        "    labels  = inputs.pop('labels', None)\n",
        "    outputs = model(**inputs, labels=labels)\n",
        "    logits  = outputs.logits\n",
        "\n",
        "    if labels is not None:\n",
        "      if self.loss_fn is not None:\n",
        "        loss = self.loss_fn(logits, labels)\n",
        "      else:\n",
        "        loss_fn = BCEWithLogitsLoss()\n",
        "        loss    = loss_fn(logits, labels)\n",
        "      return (loss, outputs) if return_outputs else loss\n",
        "\n",
        "    return outputs"
      ]
    },
    {
      "cell_type": "code",
      "execution_count": 68,
      "metadata": {
        "id": "chq_3nUz73ib"
      },
      "outputs": [],
      "source": [
        "\"\"\"\n",
        "trainer = CustomTrainer(\n",
        "    model           = model,\n",
        "    args            = training_args,\n",
        "    train_dataset   = encoded_dataset[\"train\"],\n",
        "    eval_dataset    = encoded_dataset[\"validation\"],\n",
        "    compute_metrics = compute_metrics,\n",
        "    loss_fn         = focal_loss_fn,\n",
        ")\n",
        "\"\"\"\n",
        "\n",
        "trainer = Trainer(\n",
        "    model           = model,\n",
        "    args            = training_args,\n",
        "    train_dataset   = encoded_dataset[\"train\"],\n",
        "    eval_dataset    = encoded_dataset[\"validation\"],\n",
        "    compute_metrics = compute_metrics,\n",
        ")"
      ]
    },
    {
      "cell_type": "markdown",
      "metadata": {
        "id": "z3kPFNOG-3vL"
      },
      "source": [
        "### trainer.train"
      ]
    },
    {
      "cell_type": "code",
      "execution_count": 69,
      "metadata": {
        "id": "V_k5uxpKwcJ6",
        "colab": {
          "base_uri": "https://localhost:8080/",
          "height": 1000
        },
        "outputId": "0eafe093-b771-497c-c1ff-f56c608aa962"
      },
      "outputs": [
        {
          "output_type": "display_data",
          "data": {
            "text/plain": [
              "<IPython.core.display.HTML object>"
            ],
            "text/html": [
              "\n",
              "    <div>\n",
              "      \n",
              "      <progress value='15' max='15' style='width:300px; height:20px; vertical-align: middle;'></progress>\n",
              "      [15/15 00:44, Epoch 5/5]\n",
              "    </div>\n",
              "    <table border=\"1\" class=\"dataframe\">\n",
              "  <thead>\n",
              " <tr style=\"text-align: left;\">\n",
              "      <th>Epoch</th>\n",
              "      <th>Training Loss</th>\n",
              "      <th>Validation Loss</th>\n",
              "      <th>F1</th>\n",
              "      <th>Precision</th>\n",
              "      <th>Recall</th>\n",
              "      <th>Roc Auc</th>\n",
              "      <th>Precision Recall Auc</th>\n",
              "      <th>Subset Accuracy</th>\n",
              "      <th>Hamming Loss</th>\n",
              "      <th>Runtime</th>\n",
              "      <th>Samples Per Second</th>\n",
              "      <th>Steps Per Second</th>\n",
              "    </tr>\n",
              "  </thead>\n",
              "  <tbody>\n",
              "    <tr>\n",
              "      <td>1</td>\n",
              "      <td>No log</td>\n",
              "      <td>0.693660</td>\n",
              "      <td>0.442063</td>\n",
              "      <td>0.381944</td>\n",
              "      <td>0.541667</td>\n",
              "      <td>0.513839</td>\n",
              "      <td>0.715487</td>\n",
              "      <td>0.000000</td>\n",
              "      <td>0.513889</td>\n",
              "      <td>0.247200</td>\n",
              "      <td>48.535000</td>\n",
              "      <td>8.089000</td>\n",
              "    </tr>\n",
              "    <tr>\n",
              "      <td>2</td>\n",
              "      <td>No log</td>\n",
              "      <td>0.675330</td>\n",
              "      <td>0.466667</td>\n",
              "      <td>0.416667</td>\n",
              "      <td>0.541667</td>\n",
              "      <td>0.537054</td>\n",
              "      <td>0.716437</td>\n",
              "      <td>0.000000</td>\n",
              "      <td>0.458333</td>\n",
              "      <td>0.229200</td>\n",
              "      <td>52.365000</td>\n",
              "      <td>8.727000</td>\n",
              "    </tr>\n",
              "    <tr>\n",
              "      <td>3</td>\n",
              "      <td>No log</td>\n",
              "      <td>0.662925</td>\n",
              "      <td>0.552778</td>\n",
              "      <td>0.569444</td>\n",
              "      <td>0.541667</td>\n",
              "      <td>0.604911</td>\n",
              "      <td>0.765834</td>\n",
              "      <td>0.000000</td>\n",
              "      <td>0.319444</td>\n",
              "      <td>0.227600</td>\n",
              "      <td>52.726000</td>\n",
              "      <td>8.788000</td>\n",
              "    </tr>\n",
              "    <tr>\n",
              "      <td>4</td>\n",
              "      <td>No log</td>\n",
              "      <td>0.648912</td>\n",
              "      <td>0.552778</td>\n",
              "      <td>0.569444</td>\n",
              "      <td>0.541667</td>\n",
              "      <td>0.632143</td>\n",
              "      <td>0.756061</td>\n",
              "      <td>0.000000</td>\n",
              "      <td>0.319444</td>\n",
              "      <td>0.227600</td>\n",
              "      <td>52.714000</td>\n",
              "      <td>8.786000</td>\n",
              "    </tr>\n",
              "    <tr>\n",
              "      <td>5</td>\n",
              "      <td>No log</td>\n",
              "      <td>0.639849</td>\n",
              "      <td>0.602778</td>\n",
              "      <td>0.597222</td>\n",
              "      <td>0.625000</td>\n",
              "      <td>0.646429</td>\n",
              "      <td>0.748778</td>\n",
              "      <td>0.000000</td>\n",
              "      <td>0.291667</td>\n",
              "      <td>0.255800</td>\n",
              "      <td>46.906000</td>\n",
              "      <td>7.818000</td>\n",
              "    </tr>\n",
              "  </tbody>\n",
              "</table><p>"
            ]
          },
          "metadata": {}
        },
        {
          "output_type": "stream",
          "name": "stdout",
          "text": [
            "logits: <class 'numpy.ndarray'> (12, 6)\n",
            "[[-0.25927734  0.00906372  0.03839111 -0.18017578  0.07073975  0.08514404]\n",
            " [-0.2619629   0.01023102  0.03137207 -0.18054199  0.07476807  0.0871582 ]\n",
            " [-0.2529297  -0.00330734  0.0362854  -0.18200684  0.06945801  0.07824707]\n",
            " [-0.25683594 -0.00542068  0.02983093 -0.18603516  0.05630493  0.07336426]\n",
            " [-0.25854492  0.01229858  0.02519226 -0.1842041   0.05438232  0.07611084]\n",
            " [-0.25927734 -0.01956177  0.03619385 -0.18530273  0.07568359  0.08673096]\n",
            " [-0.24914551 -0.0066452   0.01683044 -0.17895508  0.05474854  0.07208252]\n",
            " [-0.25708008 -0.00119305  0.02845764 -0.17285156  0.04904175  0.07995605]\n",
            " [-0.26953125 -0.00251007  0.03189087 -0.18701172  0.0513916   0.06506348]\n",
            " [-0.26831055  0.00265312  0.03292847 -0.1850586   0.06768799  0.07385254]\n",
            " [-0.25317383 -0.0039711   0.03063965 -0.18774414  0.06488037  0.0692749 ]\n",
            " [-0.26464844 -0.00787354  0.03393555 -0.18933105  0.05926514  0.07067871]]\n",
            "true_labels: <class 'numpy.ndarray'> (12, 6)\n",
            "[[0. 0. 1. 1. 0. 0.]\n",
            " [0. 0. 1. 1. 0. 0.]\n",
            " [0. 0. 1. 1. 0. 0.]\n",
            " [0. 0. 1. 1. 0. 0.]\n",
            " [0. 0. 1. 1. 1. 0.]\n",
            " [0. 0. 1. 1. 1. 0.]\n",
            " [0. 0. 0. 1. 1. 0.]\n",
            " [0. 0. 0. 1. 1. 0.]\n",
            " [0. 0. 1. 1. 0. 0.]\n",
            " [0. 0. 0. 1. 1. 0.]\n",
            " [0. 0. 1. 1. 1. 0.]\n",
            " [0. 0. 0. 1. 1. 0.]]\n",
            "logits: <class 'torch.Tensor'> torch.Size([12, 6])\n",
            "tensor([[-0.2593,  0.0091,  0.0384, -0.1802,  0.0707,  0.0851],\n",
            "        [-0.2620,  0.0102,  0.0314, -0.1805,  0.0748,  0.0872],\n",
            "        [-0.2529, -0.0033,  0.0363, -0.1820,  0.0695,  0.0782],\n",
            "        [-0.2568, -0.0054,  0.0298, -0.1860,  0.0563,  0.0734],\n",
            "        [-0.2585,  0.0123,  0.0252, -0.1842,  0.0544,  0.0761],\n",
            "        [-0.2593, -0.0196,  0.0362, -0.1853,  0.0757,  0.0867],\n",
            "        [-0.2491, -0.0066,  0.0168, -0.1790,  0.0547,  0.0721],\n",
            "        [-0.2571, -0.0012,  0.0285, -0.1729,  0.0490,  0.0800],\n",
            "        [-0.2695, -0.0025,  0.0319, -0.1870,  0.0514,  0.0651],\n",
            "        [-0.2683,  0.0027,  0.0329, -0.1851,  0.0677,  0.0739],\n",
            "        [-0.2532, -0.0040,  0.0306, -0.1877,  0.0649,  0.0693],\n",
            "        [-0.2646, -0.0079,  0.0339, -0.1893,  0.0593,  0.0707]])\n",
            "probs: <class 'numpy.ndarray'> (12, 6)\n",
            "[[0.43554133 0.50226593 0.5095966  0.45507753 0.5176776  0.52127314]\n",
            " [0.43488124 0.5025577  0.50784236 0.4549867  0.5186833  0.5217758 ]\n",
            " [0.43710256 0.49917316 0.50907034 0.4546235  0.5173575  0.5195518 ]\n",
            " [0.4361417  0.49864483 0.5074572  0.4536249  0.51407254 0.51833284]\n",
            " [0.43572143 0.5030746  0.5062977  0.45407873 0.51359224 0.51901853]\n",
            " [0.43554133 0.4951097  0.50904745 0.45380643 0.5189119  0.52166915]\n",
            " [0.43803382 0.4983387  0.5042075  0.45538026 0.5136837  0.5180128 ]\n",
            " [0.43608165 0.49970174 0.50711393 0.45689437 0.512258   0.51997834]\n",
            " [0.4330222  0.49937248 0.50797206 0.45338288 0.5128451  0.51626015]\n",
            " [0.43332192 0.5006633  0.5082314  0.45386693 0.51691556 0.51845473]\n",
            " [0.43704247 0.49900723 0.5076593  0.45320132 0.51621443 0.5173118 ]\n",
            " [0.43422136 0.49803165 0.50848305 0.45280817 0.51481193 0.5176623 ]]\n",
            "preds: <class 'numpy.ndarray'> (12, 6)\n",
            "[[0 1 1 0 1 1]\n",
            " [0 1 1 0 1 1]\n",
            " [0 0 1 0 1 1]\n",
            " [0 0 1 0 1 1]\n",
            " [0 1 1 0 1 1]\n",
            " [0 0 1 0 1 1]\n",
            " [0 0 1 0 1 1]\n",
            " [0 0 1 0 1 1]\n",
            " [0 0 1 0 1 1]\n",
            " [0 1 1 0 1 1]\n",
            " [0 0 1 0 1 1]\n",
            " [0 0 1 0 1 1]]\n",
            "logits: <class 'numpy.ndarray'> (12, 6)\n",
            "[[-0.30737305 -0.03604126  0.0536499  -0.13439941  0.08557129  0.02549744]\n",
            " [-0.31152344 -0.03726196  0.04711914 -0.13330078  0.0904541   0.02584839]\n",
            " [-0.31030273 -0.12145996  0.06311035 -0.10510254  0.05004883  0.00357819]\n",
            " [-0.30541992 -0.05163574  0.04467773 -0.14001465  0.07006836  0.01448059]\n",
            " [-0.30688477 -0.02999878  0.03894043 -0.14013672  0.06604004  0.01922607]\n",
            " [-0.26367188 -0.16149902  0.02661133 -0.0814209   0.10687256  0.09838867]\n",
            " [-0.29541016 -0.04714966  0.02996826 -0.13659668  0.06945801  0.01716614]\n",
            " [-0.30566406 -0.04217529  0.04159546 -0.12841797  0.06137085  0.02484131]\n",
            " [-0.32128906 -0.04507446  0.04684448 -0.14257812  0.0637207   0.00580978]\n",
            " [-0.3190918  -0.04122925  0.04727173 -0.1381836   0.08062744  0.01390076]\n",
            " [-0.29101562 -0.06170654  0.04522705 -0.13342285  0.08441162  0.01383972]\n",
            " [-0.31567383 -0.05706787  0.04751587 -0.14538574  0.07324219  0.00874329]]\n",
            "true_labels: <class 'numpy.ndarray'> (12, 6)\n",
            "[[0. 0. 1. 1. 0. 0.]\n",
            " [0. 0. 1. 1. 0. 0.]\n",
            " [0. 0. 1. 1. 0. 0.]\n",
            " [0. 0. 1. 1. 0. 0.]\n",
            " [0. 0. 1. 1. 1. 0.]\n",
            " [0. 0. 1. 1. 1. 0.]\n",
            " [0. 0. 0. 1. 1. 0.]\n",
            " [0. 0. 0. 1. 1. 0.]\n",
            " [0. 0. 1. 1. 0. 0.]\n",
            " [0. 0. 0. 1. 1. 0.]\n",
            " [0. 0. 1. 1. 1. 0.]\n",
            " [0. 0. 0. 1. 1. 0.]]\n",
            "logits: <class 'torch.Tensor'> torch.Size([12, 6])\n",
            "tensor([[-0.3074, -0.0360,  0.0536, -0.1344,  0.0856,  0.0255],\n",
            "        [-0.3115, -0.0373,  0.0471, -0.1333,  0.0905,  0.0258],\n",
            "        [-0.3103, -0.1215,  0.0631, -0.1051,  0.0500,  0.0036],\n",
            "        [-0.3054, -0.0516,  0.0447, -0.1400,  0.0701,  0.0145],\n",
            "        [-0.3069, -0.0300,  0.0389, -0.1401,  0.0660,  0.0192],\n",
            "        [-0.2637, -0.1615,  0.0266, -0.0814,  0.1069,  0.0984],\n",
            "        [-0.2954, -0.0471,  0.0300, -0.1366,  0.0695,  0.0172],\n",
            "        [-0.3057, -0.0422,  0.0416, -0.1284,  0.0614,  0.0248],\n",
            "        [-0.3213, -0.0451,  0.0468, -0.1426,  0.0637,  0.0058],\n",
            "        [-0.3191, -0.0412,  0.0473, -0.1382,  0.0806,  0.0139],\n",
            "        [-0.2910, -0.0617,  0.0452, -0.1334,  0.0844,  0.0138],\n",
            "        [-0.3157, -0.0571,  0.0475, -0.1454,  0.0732,  0.0087]])\n",
            "probs: <class 'numpy.ndarray'> (12, 6)\n",
            "[[0.4237561  0.49099067 0.51340926 0.46645063 0.52137977 0.506374  ]\n",
            " [0.42274293 0.4906856  0.5117776  0.46672407 0.5225981  0.50646174]\n",
            " [0.42304084 0.46967226 0.51577234 0.4737485  0.5125096  0.50089455]\n",
            " [0.42423305 0.48709393 0.5111676  0.46505344 0.51750994 0.5036201 ]\n",
            " [0.42387533 0.49250087 0.5097339  0.465023   0.51650405 0.5048064 ]\n",
            " [0.4344613  0.45971277 0.5066524  0.479656   0.52669275 0.5245773 ]\n",
            " [0.42667985 0.4882148  0.50749147 0.46590385 0.5173575  0.5042914 ]\n",
            " [0.4241734  0.4894577  0.5103974  0.46793953 0.5153379  0.50621   ]\n",
            " [0.42036164 0.48873326 0.511709   0.46441576 0.5159248  0.50145245]\n",
            " [0.4208971  0.48969418 0.5118157  0.465509   0.52014595 0.5034751 ]\n",
            " [0.42775524 0.48457825 0.5113048  0.46669367 0.5210904  0.5034599 ]\n",
            " [0.42173043 0.48573688 0.5118767  0.46371746 0.5183024  0.5021858 ]]\n",
            "preds: <class 'numpy.ndarray'> (12, 6)\n",
            "[[0 0 1 0 1 1]\n",
            " [0 0 1 0 1 1]\n",
            " [0 0 1 0 1 1]\n",
            " [0 0 1 0 1 1]\n",
            " [0 0 1 0 1 1]\n",
            " [0 0 1 0 1 1]\n",
            " [0 0 1 0 1 1]\n",
            " [0 0 1 0 1 1]\n",
            " [0 0 1 0 1 1]\n",
            " [0 0 1 0 1 1]\n",
            " [0 0 1 0 1 1]\n",
            " [0 0 1 0 1 1]]\n",
            "logits: <class 'numpy.ndarray'> (12, 6)\n",
            "[[-0.34179688 -0.08239746  0.06658936 -0.09606934  0.11627197 -0.02471924]\n",
            " [-0.3684082  -0.1550293   0.07409668 -0.05987549  0.11761475 -0.03622437]\n",
            " [-0.36791992 -0.15881348  0.05618286 -0.08068848  0.0619812  -0.0380249 ]\n",
            " [-0.3449707  -0.10516357  0.05718994 -0.09771729  0.09753418 -0.03117371]\n",
            " [-0.3408203  -0.05871582  0.04522705 -0.10705566  0.08105469 -0.0186615 ]\n",
            " [-0.28271484 -0.20178223  0.02256775 -0.05130005  0.13110352  0.0894165 ]\n",
            " [-0.3347168  -0.07946777  0.04058838 -0.10162354  0.08898926 -0.02766418]\n",
            " [-0.34423828 -0.07171631  0.0506897  -0.09307861  0.074646   -0.01565552]\n",
            " [-0.35839844 -0.07305908  0.05499268 -0.10906982  0.07647705 -0.03500366]\n",
            " [-0.35498047 -0.06994629  0.05456543 -0.10424805  0.09460449 -0.02566528]\n",
            " [-0.21582031 -0.1508789   0.05209351 -0.0539856   0.0760498   0.04092407]\n",
            " [-0.3581543  -0.14831543  0.04281616 -0.15625     0.0847168  -0.02140808]]\n",
            "true_labels: <class 'numpy.ndarray'> (12, 6)\n",
            "[[0. 0. 1. 1. 0. 0.]\n",
            " [0. 0. 1. 1. 0. 0.]\n",
            " [0. 0. 1. 1. 0. 0.]\n",
            " [0. 0. 1. 1. 0. 0.]\n",
            " [0. 0. 1. 1. 1. 0.]\n",
            " [0. 0. 1. 1. 1. 0.]\n",
            " [0. 0. 0. 1. 1. 0.]\n",
            " [0. 0. 0. 1. 1. 0.]\n",
            " [0. 0. 1. 1. 0. 0.]\n",
            " [0. 0. 0. 1. 1. 0.]\n",
            " [0. 0. 1. 1. 1. 0.]\n",
            " [0. 0. 0. 1. 1. 0.]]\n",
            "logits: <class 'torch.Tensor'> torch.Size([12, 6])\n",
            "tensor([[-0.3418, -0.0824,  0.0666, -0.0961,  0.1163, -0.0247],\n",
            "        [-0.3684, -0.1550,  0.0741, -0.0599,  0.1176, -0.0362],\n",
            "        [-0.3679, -0.1588,  0.0562, -0.0807,  0.0620, -0.0380],\n",
            "        [-0.3450, -0.1052,  0.0572, -0.0977,  0.0975, -0.0312],\n",
            "        [-0.3408, -0.0587,  0.0452, -0.1071,  0.0811, -0.0187],\n",
            "        [-0.2827, -0.2018,  0.0226, -0.0513,  0.1311,  0.0894],\n",
            "        [-0.3347, -0.0795,  0.0406, -0.1016,  0.0890, -0.0277],\n",
            "        [-0.3442, -0.0717,  0.0507, -0.0931,  0.0746, -0.0157],\n",
            "        [-0.3584, -0.0731,  0.0550, -0.1091,  0.0765, -0.0350],\n",
            "        [-0.3550, -0.0699,  0.0546, -0.1042,  0.0946, -0.0257],\n",
            "        [-0.2158, -0.1509,  0.0521, -0.0540,  0.0760,  0.0409],\n",
            "        [-0.3582, -0.1483,  0.0428, -0.1562,  0.0847, -0.0214]])\n",
            "probs: <class 'numpy.ndarray'> (12, 6)\n",
            "[[0.41537303 0.47941226 0.5166412  0.47600114 0.5290353  0.49382052]\n",
            " [0.4089257  0.4613201  0.5185157  0.4850356  0.52936983 0.49094486]\n",
            " [0.40904373 0.4603799  0.514042   0.47983885 0.5154903  0.49049494]\n",
            " [0.41460252 0.4737333  0.5142936  0.47559008 0.52436423 0.49220717]\n",
            " [0.41561022 0.48532525 0.5113048  0.47326165 0.5202526  0.49533474]\n",
            " [0.4297883  0.4497249  0.5056417  0.48717785 0.532729   0.5223392 ]\n",
            " [0.41709343 0.4801435  0.5101457  0.474616   0.52223265 0.4930844 ]\n",
            " [0.4147803  0.48207864 0.51266974 0.47674713 0.51865286 0.49608624]\n",
            " [0.4113473  0.4817433  0.5137447  0.47275957 0.51910996 0.49124998]\n",
            " [0.4121752  0.48252055 0.51363796 0.47396156 0.5236335  0.49358398]\n",
            " [0.44625336 0.46235165 0.51302046 0.48650685 0.51900333 0.5102296 ]\n",
            " [0.4114064  0.46298894 0.51070243 0.46101677 0.52116656 0.4946482 ]]\n",
            "preds: <class 'numpy.ndarray'> (12, 6)\n",
            "[[0 0 1 0 1 0]\n",
            " [0 0 1 0 1 0]\n",
            " [0 0 1 0 1 0]\n",
            " [0 0 1 0 1 0]\n",
            " [0 0 1 0 1 0]\n",
            " [0 0 1 0 1 1]\n",
            " [0 0 1 0 1 0]\n",
            " [0 0 1 0 1 0]\n",
            " [0 0 1 0 1 0]\n",
            " [0 0 1 0 1 0]\n",
            " [0 0 1 0 1 1]\n",
            " [0 0 1 0 1 0]]\n",
            "logits: <class 'numpy.ndarray'> (12, 6)\n",
            "[[-0.42163086 -0.2512207   0.13781738 -0.02697754  0.15661621 -0.1026001 ]\n",
            " [-0.4387207  -0.23083496  0.10839844 -0.00148392  0.12030029 -0.06793213]\n",
            " [-0.40185547 -0.18530273  0.06015015 -0.05859375  0.07568359 -0.0680542 ]\n",
            " [-0.43798828 -0.26245117  0.10662842 -0.02636719  0.10510254 -0.08477783]\n",
            " [-0.37670898 -0.10186768  0.04678345 -0.06964111  0.10894775 -0.05114746]\n",
            " [-0.3017578  -0.22241211  0.02384949 -0.029953    0.1459961   0.06359863]\n",
            " [-0.3708496  -0.13269043  0.05633545 -0.0617981   0.11688232 -0.06756592]\n",
            " [-0.36914062 -0.0916748   0.05532837 -0.06896973  0.08428955 -0.04223633]\n",
            " [-0.38452148 -0.09277344  0.06109619 -0.08685303  0.0847168  -0.0619812 ]\n",
            " [-0.38427734 -0.09991455  0.05941772 -0.07421875  0.10742188 -0.05834961]\n",
            " [-0.23144531 -0.16516113  0.06118774 -0.04205322  0.08721924  0.02357483]\n",
            " [-0.40478516 -0.1842041   0.05459595 -0.16137695  0.09472656 -0.04315186]]\n",
            "true_labels: <class 'numpy.ndarray'> (12, 6)\n",
            "[[0. 0. 1. 1. 0. 0.]\n",
            " [0. 0. 1. 1. 0. 0.]\n",
            " [0. 0. 1. 1. 0. 0.]\n",
            " [0. 0. 1. 1. 0. 0.]\n",
            " [0. 0. 1. 1. 1. 0.]\n",
            " [0. 0. 1. 1. 1. 0.]\n",
            " [0. 0. 0. 1. 1. 0.]\n",
            " [0. 0. 0. 1. 1. 0.]\n",
            " [0. 0. 1. 1. 0. 0.]\n",
            " [0. 0. 0. 1. 1. 0.]\n",
            " [0. 0. 1. 1. 1. 0.]\n",
            " [0. 0. 0. 1. 1. 0.]]\n",
            "logits: <class 'torch.Tensor'> torch.Size([12, 6])\n",
            "tensor([[-0.4216, -0.2512,  0.1378, -0.0270,  0.1566, -0.1026],\n",
            "        [-0.4387, -0.2308,  0.1084, -0.0015,  0.1203, -0.0679],\n",
            "        [-0.4019, -0.1853,  0.0602, -0.0586,  0.0757, -0.0681],\n",
            "        [-0.4380, -0.2625,  0.1066, -0.0264,  0.1051, -0.0848],\n",
            "        [-0.3767, -0.1019,  0.0468, -0.0696,  0.1089, -0.0511],\n",
            "        [-0.3018, -0.2224,  0.0238, -0.0300,  0.1460,  0.0636],\n",
            "        [-0.3708, -0.1327,  0.0563, -0.0618,  0.1169, -0.0676],\n",
            "        [-0.3691, -0.0917,  0.0553, -0.0690,  0.0843, -0.0422],\n",
            "        [-0.3845, -0.0928,  0.0611, -0.0869,  0.0847, -0.0620],\n",
            "        [-0.3843, -0.0999,  0.0594, -0.0742,  0.1074, -0.0583],\n",
            "        [-0.2314, -0.1652,  0.0612, -0.0421,  0.0872,  0.0236],\n",
            "        [-0.4048, -0.1842,  0.0546, -0.1614,  0.0947, -0.0432]])\n",
            "probs: <class 'numpy.ndarray'> (12, 6)\n",
            "[[0.3961266  0.43752307 0.5343999  0.49325603 0.5390742  0.47437245]\n",
            " [0.39204586 0.4425462  0.52707314 0.49962905 0.53003883 0.4830235 ]\n",
            " [0.40086663 0.45380643 0.515033   0.4853558  0.5189119  0.482993  ]\n",
            " [0.3922204  0.43476126 0.5266319  0.4934086  0.5262515  0.47881824]\n",
            " [0.4069209  0.4745551  0.5116937  0.48259676 0.52721006 0.48721594]\n",
            " [0.42512783 0.44462508 0.5059621  0.49251235 0.53643435 0.5158943 ]\n",
            " [0.40833575 0.46687597 0.5140801  0.48455542 0.5291873  0.48311496]\n",
            " [0.4087487  0.47709733 0.5138286  0.4827644  0.52105993 0.4894425 ]\n",
            " [0.40503684 0.47682324 0.5152693  0.47830036 0.52116656 0.48450965]\n",
            " [0.4050957  0.47504216 0.5148501  0.48145384 0.5268297  0.48541674]\n",
            " [0.4423956  0.45880336 0.51529217 0.4894882  0.521791   0.5058934 ]\n",
            " [0.40016317 0.45407873 0.5136456  0.45974305 0.52366394 0.4892137 ]]\n",
            "preds: <class 'numpy.ndarray'> (12, 6)\n",
            "[[0 0 1 0 1 0]\n",
            " [0 0 1 0 1 0]\n",
            " [0 0 1 0 1 0]\n",
            " [0 0 1 0 1 0]\n",
            " [0 0 1 0 1 0]\n",
            " [0 0 1 0 1 1]\n",
            " [0 0 1 0 1 0]\n",
            " [0 0 1 0 1 0]\n",
            " [0 0 1 0 1 0]\n",
            " [0 0 1 0 1 0]\n",
            " [0 0 1 0 1 1]\n",
            " [0 0 1 0 1 0]]\n",
            "logits: <class 'numpy.ndarray'> (12, 6)\n",
            "[[-0.45288086 -0.28051758  0.1496582  -0.00588608  0.16906738 -0.1295166 ]\n",
            " [-0.4633789  -0.25146484  0.11712646  0.0196991   0.1270752  -0.0904541 ]\n",
            " [-0.42260742 -0.20275879  0.06524658 -0.03829956  0.08398438 -0.08996582]\n",
            " [-0.46826172 -0.28735352  0.11767578 -0.0065155   0.11590576 -0.11151123]\n",
            " [-0.4465332  -0.18725586  0.06451416 -0.01183319  0.11669922 -0.08258057]\n",
            " [-0.31445312 -0.23571777  0.0252533  -0.01543427  0.15368652  0.04629517]\n",
            " [-0.4621582  -0.24084473  0.09313965  0.00964355  0.13500977 -0.11755371]\n",
            " [-0.38549805 -0.10675049  0.05819702 -0.05264282  0.09094238 -0.06027222]\n",
            " [-0.40063477 -0.10565186  0.06500244 -0.07263184  0.08966064 -0.0791626 ]\n",
            " [-0.42993164 -0.14978027  0.06219482 -0.03509521  0.10943604 -0.09356689]\n",
            " [-0.24255371 -0.1763916   0.06555176 -0.03201294  0.09344482  0.01039886]\n",
            " [-0.42260742 -0.19799805  0.06060791 -0.14697266  0.10217285 -0.05786133]]\n",
            "true_labels: <class 'numpy.ndarray'> (12, 6)\n",
            "[[0. 0. 1. 1. 0. 0.]\n",
            " [0. 0. 1. 1. 0. 0.]\n",
            " [0. 0. 1. 1. 0. 0.]\n",
            " [0. 0. 1. 1. 0. 0.]\n",
            " [0. 0. 1. 1. 1. 0.]\n",
            " [0. 0. 1. 1. 1. 0.]\n",
            " [0. 0. 0. 1. 1. 0.]\n",
            " [0. 0. 0. 1. 1. 0.]\n",
            " [0. 0. 1. 1. 0. 0.]\n",
            " [0. 0. 0. 1. 1. 0.]\n",
            " [0. 0. 1. 1. 1. 0.]\n",
            " [0. 0. 0. 1. 1. 0.]]\n",
            "logits: <class 'torch.Tensor'> torch.Size([12, 6])\n",
            "tensor([[-0.4529, -0.2805,  0.1497, -0.0059,  0.1691, -0.1295],\n",
            "        [-0.4634, -0.2515,  0.1171,  0.0197,  0.1271, -0.0905],\n",
            "        [-0.4226, -0.2028,  0.0652, -0.0383,  0.0840, -0.0900],\n",
            "        [-0.4683, -0.2874,  0.1177, -0.0065,  0.1159, -0.1115],\n",
            "        [-0.4465, -0.1873,  0.0645, -0.0118,  0.1167, -0.0826],\n",
            "        [-0.3145, -0.2357,  0.0253, -0.0154,  0.1537,  0.0463],\n",
            "        [-0.4622, -0.2408,  0.0931,  0.0096,  0.1350, -0.1176],\n",
            "        [-0.3855, -0.1068,  0.0582, -0.0526,  0.0909, -0.0603],\n",
            "        [-0.4006, -0.1057,  0.0650, -0.0726,  0.0897, -0.0792],\n",
            "        [-0.4299, -0.1498,  0.0622, -0.0351,  0.1094, -0.0936],\n",
            "        [-0.2426, -0.1764,  0.0656, -0.0320,  0.0934,  0.0104],\n",
            "        [-0.4226, -0.1980,  0.0606, -0.1470,  0.1022, -0.0579]])\n",
            "probs: <class 'numpy.ndarray'> (12, 6)\n",
            "[[0.38867602 0.43032688 0.5373449  0.49852848 0.5421665  0.46766603]\n",
            " [0.38618454 0.437463   0.5292482  0.5049246  0.5317261  0.47740188]\n",
            " [0.39589298 0.44948325 0.51630586 0.49042627 0.52098376 0.47752374]\n",
            " [0.38502774 0.4286519  0.52938503 0.49837115 0.528944   0.47215107]\n",
            " [0.39018536 0.45332232 0.51612294 0.49704173 0.5291417  0.47936657]\n",
            " [0.42202815 0.44134188 0.506313   0.49614152 0.5383462  0.5115717 ]\n",
            " [0.38647398 0.44007817 0.5232681  0.5024109  0.53370124 0.47064537]\n",
            " [0.40480152 0.47333768 0.51454514 0.48684233 0.5227199  0.4849365 ]\n",
            " [0.40115985 0.47361156 0.5162449  0.48185003 0.5224002  0.4802197 ]\n",
            " [0.3941427  0.46262476 0.5155437  0.49122706 0.52733177 0.47662535]\n",
            " [0.43965712 0.45601612 0.51638204 0.49199748 0.5233442  0.5025997 ]\n",
            " [0.39589298 0.45066157 0.5151473  0.46332282 0.525521   0.48553872]]\n",
            "preds: <class 'numpy.ndarray'> (12, 6)\n",
            "[[0 0 1 0 1 0]\n",
            " [0 0 1 1 1 0]\n",
            " [0 0 1 0 1 0]\n",
            " [0 0 1 0 1 0]\n",
            " [0 0 1 0 1 0]\n",
            " [0 0 1 0 1 1]\n",
            " [0 0 1 1 1 0]\n",
            " [0 0 1 0 1 0]\n",
            " [0 0 1 0 1 0]\n",
            " [0 0 1 0 1 0]\n",
            " [0 0 1 0 1 1]\n",
            " [0 0 1 0 1 0]]\n",
            "trainer_train: <class 'transformers.trainer_utils.TrainOutput'> len=3\n",
            "TrainOutput(global_step=15, training_loss=0.6713672002156575, metrics={'train_runtime': 47.7245, 'train_samples_per_second': 10.058, 'train_steps_per_second': 0.314, 'total_flos': 315297845084160.0, 'train_loss': 0.6713672002156575, 'epoch': 5.0})\n",
            "\n",
            "trainer_train.metrics: <class 'dict'> len=6\n",
            "{\n",
            "    \"train_runtime\": 47.7245,\n",
            "    \"train_samples_per_second\": 10.058,\n",
            "    \"train_steps_per_second\": 0.314,\n",
            "    \"total_flos\": 315297845084160.0,\n",
            "    \"train_loss\": 0.6713672002156575,\n",
            "    \"epoch\": 5.0\n",
            "}\n"
          ]
        }
      ],
      "source": [
        "trainer_train = trainer.train()\n",
        "\n",
        "print(f\"trainer_train: {type(trainer_train)} len={len(trainer_train)}\\n{trainer_train}\")\n",
        "print()\n",
        "print(f\"trainer_train.metrics: {type(trainer_train.metrics)} len={len(trainer_train.metrics)}\\n{json.dumps(trainer_train.metrics, indent=4)}\")"
      ]
    },
    {
      "cell_type": "code",
      "execution_count": 70,
      "metadata": {
        "id": "I2SMR-lI8Y8r",
        "colab": {
          "base_uri": "https://localhost:8080/"
        },
        "outputId": "f2466820-5942-43c3-a7ff-73c08d15e88a"
      },
      "outputs": [
        {
          "output_type": "stream",
          "name": "stdout",
          "text": [
            "trainer.train successfully completed\n"
          ]
        }
      ],
      "source": [
        "print(\"trainer.train successfully completed\")"
      ]
    },
    {
      "cell_type": "markdown",
      "metadata": {
        "id": "Uai-d2z2IMaZ"
      },
      "source": [
        "### trainer.train: save locally and upload to HF Hub"
      ]
    },
    {
      "cell_type": "code",
      "execution_count": 71,
      "metadata": {
        "id": "HvhT1c_h_oul",
        "colab": {
          "base_uri": "https://localhost:8080/"
        },
        "outputId": "bfec7f9c-d68d-46c4-a90f-3b205e6aaecc"
      },
      "outputs": [
        {
          "output_type": "stream",
          "name": "stdout",
          "text": [
            "trainer_train results successfully saved locally to trainer_train.json\n",
            "trainer_train results successfully uploaded to HF Hub as trainer_train.json\n"
          ]
        }
      ],
      "source": [
        "if upload_to_HF is True:\n",
        "\n",
        "  name               = \"trainer_train\"\n",
        "  trainer_train_path = f\"{name}.json\"\n",
        "\n",
        "  with open(trainer_train_path, \"w\") as f:\n",
        "    json.dump(trainer_train, f)\n",
        "\n",
        "  print(f\"{name} results successfully saved locally to {trainer_train_path}\")\n",
        "\n",
        "  upload_file(\n",
        "      path_or_fileobj = trainer_train_path,\n",
        "      path_in_repo    = trainer_train_path,\n",
        "      repo_id         = repo_id,\n",
        "      repo_type       = 'dataset',\n",
        "      commit_message  = f\"{name}_{timestamp}\"\n",
        "  )\n",
        "\n",
        "  print(f\"{name} results successfully uploaded to HF Hub as {trainer_train_path}\")"
      ]
    },
    {
      "cell_type": "markdown",
      "metadata": {
        "id": "as2omZpPJNO6"
      },
      "source": [
        "### trainer.train: check that the uploaded file can be downloaded\n",
        "File locally downloaded to:\n",
        "/root/.cache/huggingface/hub/datasets-claudelepere-skill_classification/snapshots/full_commit_hash/trainer_train_results.json"
      ]
    },
    {
      "cell_type": "code",
      "execution_count": 72,
      "metadata": {
        "id": "PJ2D28X2-GfV",
        "colab": {
          "base_uri": "https://localhost:8080/",
          "height": 87,
          "referenced_widgets": [
            "5d6c88494aaf4a219416ad2ff030ae90",
            "b0e493b8cfba4eebba3aa5e1e97d51ac",
            "d8346ad73fb64529bd9022f0c854a5ab",
            "fdb92e5396954e249f08d9bf10c5d2f8",
            "f67f37a296b44c4a9a42d6347562f2cc",
            "536036f49c2b44c4a0eed6a5a3f8e975",
            "a3e305427a0540afacfa3db51309c3ec",
            "c6200caeb9634993a303e22ff9f9f820",
            "7a1f2284a8234671a6f45d030e2c5f6e",
            "712151cafe984c148e4408b1597f4927",
            "d361d2165b784365ad4cede3949966a4"
          ]
        },
        "outputId": "52372235-8ed4-4aec-ecd7-d6463126d222"
      },
      "outputs": [
        {
          "output_type": "display_data",
          "data": {
            "text/plain": [
              "trainer_train.json:   0%|          | 0.00/202 [00:00<?, ?B/s]"
            ],
            "application/vnd.jupyter.widget-view+json": {
              "version_major": 2,
              "version_minor": 0,
              "model_id": "5d6c88494aaf4a219416ad2ff030ae90"
            }
          },
          "metadata": {}
        },
        {
          "output_type": "stream",
          "name": "stdout",
          "text": [
            "file_path: /root/.cache/huggingface/hub/datasets--claudelepere--jobs_EN_11_0_24000_tuned_thresholds/snapshots/28c4b7ec4a9326b34698ac692dd3df4b201e6d19/trainer_train.json\n"
          ]
        }
      ],
      "source": [
        "if upload_to_HF is True:\n",
        "  file_path = hf_hub_download(repo_type=\"dataset\", repo_id=repo_id, filename=trainer_train_path)\n",
        "\n",
        "  print(f\"file_path: {file_path}\")"
      ]
    },
    {
      "cell_type": "markdown",
      "metadata": {
        "id": "JVozoTnW1Mt9"
      },
      "source": [
        "## Evaluation step"
      ]
    },
    {
      "cell_type": "markdown",
      "metadata": {
        "id": "05FkezueB6_J"
      },
      "source": [
        "### Evaluation 1: trainer.evaluate\n",
        "trainer.evaluate uses a fixed threshold of 0.5 to convert logits into binary labels, which is often suboptimal for imbalanced data."
      ]
    },
    {
      "cell_type": "code",
      "execution_count": 73,
      "metadata": {
        "id": "HMKEjsRk5ah6",
        "colab": {
          "base_uri": "https://localhost:8080/",
          "height": 1000
        },
        "outputId": "f25a7d39-7dee-45e0-8e43-efc9250debd9"
      },
      "outputs": [
        {
          "output_type": "display_data",
          "data": {
            "text/plain": [
              "<IPython.core.display.HTML object>"
            ],
            "text/html": [
              "\n",
              "    <div>\n",
              "      \n",
              "      <progress value='2' max='2' style='width:300px; height:20px; vertical-align: middle;'></progress>\n",
              "      [2/2 00:00]\n",
              "    </div>\n",
              "    "
            ]
          },
          "metadata": {}
        },
        {
          "output_type": "stream",
          "name": "stdout",
          "text": [
            "logits: <class 'numpy.ndarray'> (12, 6)\n",
            "[[-0.45288086 -0.28051758  0.1496582  -0.00588608  0.16906738 -0.1295166 ]\n",
            " [-0.4633789  -0.25146484  0.11712646  0.0196991   0.1270752  -0.0904541 ]\n",
            " [-0.42260742 -0.20275879  0.06524658 -0.03829956  0.08398438 -0.08996582]\n",
            " [-0.46826172 -0.28735352  0.11767578 -0.0065155   0.11590576 -0.11151123]\n",
            " [-0.4465332  -0.18725586  0.06451416 -0.01183319  0.11669922 -0.08258057]\n",
            " [-0.31445312 -0.23571777  0.0252533  -0.01543427  0.15368652  0.04629517]\n",
            " [-0.4621582  -0.24084473  0.09313965  0.00964355  0.13500977 -0.11755371]\n",
            " [-0.38549805 -0.10675049  0.05819702 -0.05264282  0.09094238 -0.06027222]\n",
            " [-0.40063477 -0.10565186  0.06500244 -0.07263184  0.08966064 -0.0791626 ]\n",
            " [-0.42993164 -0.14978027  0.06219482 -0.03509521  0.10943604 -0.09356689]\n",
            " [-0.24255371 -0.1763916   0.06555176 -0.03201294  0.09344482  0.01039886]\n",
            " [-0.42260742 -0.19799805  0.06060791 -0.14697266  0.10217285 -0.05786133]]\n",
            "true_labels: <class 'numpy.ndarray'> (12, 6)\n",
            "[[0. 0. 1. 1. 0. 0.]\n",
            " [0. 0. 1. 1. 0. 0.]\n",
            " [0. 0. 1. 1. 0. 0.]\n",
            " [0. 0. 1. 1. 0. 0.]\n",
            " [0. 0. 1. 1. 1. 0.]\n",
            " [0. 0. 1. 1. 1. 0.]\n",
            " [0. 0. 0. 1. 1. 0.]\n",
            " [0. 0. 0. 1. 1. 0.]\n",
            " [0. 0. 1. 1. 0. 0.]\n",
            " [0. 0. 0. 1. 1. 0.]\n",
            " [0. 0. 1. 1. 1. 0.]\n",
            " [0. 0. 0. 1. 1. 0.]]\n",
            "logits: <class 'torch.Tensor'> torch.Size([12, 6])\n",
            "tensor([[-0.4529, -0.2805,  0.1497, -0.0059,  0.1691, -0.1295],\n",
            "        [-0.4634, -0.2515,  0.1171,  0.0197,  0.1271, -0.0905],\n",
            "        [-0.4226, -0.2028,  0.0652, -0.0383,  0.0840, -0.0900],\n",
            "        [-0.4683, -0.2874,  0.1177, -0.0065,  0.1159, -0.1115],\n",
            "        [-0.4465, -0.1873,  0.0645, -0.0118,  0.1167, -0.0826],\n",
            "        [-0.3145, -0.2357,  0.0253, -0.0154,  0.1537,  0.0463],\n",
            "        [-0.4622, -0.2408,  0.0931,  0.0096,  0.1350, -0.1176],\n",
            "        [-0.3855, -0.1068,  0.0582, -0.0526,  0.0909, -0.0603],\n",
            "        [-0.4006, -0.1057,  0.0650, -0.0726,  0.0897, -0.0792],\n",
            "        [-0.4299, -0.1498,  0.0622, -0.0351,  0.1094, -0.0936],\n",
            "        [-0.2426, -0.1764,  0.0656, -0.0320,  0.0934,  0.0104],\n",
            "        [-0.4226, -0.1980,  0.0606, -0.1470,  0.1022, -0.0579]])\n",
            "probs: <class 'numpy.ndarray'> (12, 6)\n",
            "[[0.38867602 0.43032688 0.5373449  0.49852848 0.5421665  0.46766603]\n",
            " [0.38618454 0.437463   0.5292482  0.5049246  0.5317261  0.47740188]\n",
            " [0.39589298 0.44948325 0.51630586 0.49042627 0.52098376 0.47752374]\n",
            " [0.38502774 0.4286519  0.52938503 0.49837115 0.528944   0.47215107]\n",
            " [0.39018536 0.45332232 0.51612294 0.49704173 0.5291417  0.47936657]\n",
            " [0.42202815 0.44134188 0.506313   0.49614152 0.5383462  0.5115717 ]\n",
            " [0.38647398 0.44007817 0.5232681  0.5024109  0.53370124 0.47064537]\n",
            " [0.40480152 0.47333768 0.51454514 0.48684233 0.5227199  0.4849365 ]\n",
            " [0.40115985 0.47361156 0.5162449  0.48185003 0.5224002  0.4802197 ]\n",
            " [0.3941427  0.46262476 0.5155437  0.49122706 0.52733177 0.47662535]\n",
            " [0.43965712 0.45601612 0.51638204 0.49199748 0.5233442  0.5025997 ]\n",
            " [0.39589298 0.45066157 0.5151473  0.46332282 0.525521   0.48553872]]\n",
            "preds: <class 'numpy.ndarray'> (12, 6)\n",
            "[[0 0 1 0 1 0]\n",
            " [0 0 1 1 1 0]\n",
            " [0 0 1 0 1 0]\n",
            " [0 0 1 0 1 0]\n",
            " [0 0 1 0 1 0]\n",
            " [0 0 1 0 1 1]\n",
            " [0 0 1 1 1 0]\n",
            " [0 0 1 0 1 0]\n",
            " [0 0 1 0 1 0]\n",
            " [0 0 1 0 1 0]\n",
            " [0 0 1 0 1 1]\n",
            " [0 0 1 0 1 0]]\n",
            "evaluation_trainer_evaluate_metrics: <class 'dict'> len=12\n",
            "{\n",
            "    \"eval_loss\": 0.6398486495018005,\n",
            "    \"eval_f1\": 0.6027777777777777,\n",
            "    \"eval_precision\": 0.5972222222222222,\n",
            "    \"eval_recall\": 0.625,\n",
            "    \"eval_roc_auc\": 0.6464285714285714,\n",
            "    \"eval_precision_recall_auc\": 0.7487776360544218,\n",
            "    \"eval_subset_accuracy\": 0.0,\n",
            "    \"eval_hamming_loss\": 0.2916666666666667,\n",
            "    \"eval_runtime\": 0.2485,\n",
            "    \"eval_samples_per_second\": 48.296,\n",
            "    \"eval_steps_per_second\": 8.049,\n",
            "    \"epoch\": 5.0\n",
            "}\n"
          ]
        }
      ],
      "source": [
        "evaluation_trainer_evaluate_metrics = trainer.evaluate(\n",
        "    #eval_dataset = encoded_dataset[\"validation\"],  # by default, trainer.evaluate() evaluates the dataset passed as eval_dataset during training\n",
        "    metric_key_prefix=\"eval\"                       # prefix for the evaluation metrics\n",
        ")\n",
        "\n",
        "print(f\"evaluation_trainer_evaluate_metrics: {type(evaluation_trainer_evaluate_metrics)} len={len(evaluation_trainer_evaluate_metrics)}\\n{json.dumps(evaluation_trainer_evaluate_metrics, indent=4)}\")\n"
      ]
    },
    {
      "cell_type": "code",
      "execution_count": 74,
      "metadata": {
        "id": "_O-_tVHg-lUe",
        "colab": {
          "base_uri": "https://localhost:8080/"
        },
        "outputId": "d6ab6651-6561-42e6-e26e-b24c2f559540"
      },
      "outputs": [
        {
          "output_type": "stream",
          "name": "stdout",
          "text": [
            "evaluation 1: trainer.evaluate: successfully completed\n"
          ]
        }
      ],
      "source": [
        "print(\"evaluation 1: trainer.evaluate: successfully completed\")"
      ]
    },
    {
      "cell_type": "markdown",
      "metadata": {
        "id": "9w5BmumZ6tDS"
      },
      "source": [
        "### Evaluation 1: trainer.evaluate: save locally and upload to HF Hub"
      ]
    },
    {
      "cell_type": "code",
      "execution_count": 75,
      "metadata": {
        "id": "cMlebJ83LRYG",
        "colab": {
          "base_uri": "https://localhost:8080/"
        },
        "outputId": "219a3ec3-225f-45b5-80a0-87101eb52066"
      },
      "outputs": [
        {
          "output_type": "stream",
          "name": "stdout",
          "text": [
            "evaluation_trainer_evaluate successfully saved locally to evaluation_trainer_evaluate.json\n",
            "evaluation_trainer_evaluate successfully uploaded to HF Hub as evaluation_trainer_evaluate.json\n"
          ]
        }
      ],
      "source": [
        "if upload_to_HF is True:\n",
        "\n",
        "  name                             = \"evaluation_trainer_evaluate\"\n",
        "  evaluation_trainer_evaluate_path = f\"{name}.json\"\n",
        "\n",
        "  with open(evaluation_trainer_evaluate_path, \"w\") as f:\n",
        "    json.dump(evaluation_trainer_evaluate_metrics, f)\n",
        "\n",
        "  print(f\"{name} successfully saved locally to {evaluation_trainer_evaluate_path}\")\n",
        "\n",
        "  upload_file(\n",
        "      path_or_fileobj = evaluation_trainer_evaluate_path,\n",
        "      path_in_repo    = evaluation_trainer_evaluate_path,\n",
        "      repo_id         = repo_id,\n",
        "      repo_type       = 'dataset',\n",
        "      commit_message  = f\"{name}_{timestamp}\"\n",
        "  )\n",
        "\n",
        "  print(f\"{name} successfully uploaded to HF Hub as {evaluation_trainer_evaluate_path}\")"
      ]
    },
    {
      "cell_type": "markdown",
      "metadata": {
        "id": "nxYFDrB57nM3"
      },
      "source": [
        "### Evaluation 2: trainer.predict"
      ]
    },
    {
      "cell_type": "code",
      "source": [
        "def predict_with_optimized_thresholds_OLD(trainer, dataset, id2label, threshold_tuning=False, thresholds=None):\n",
        "    \"\"\"\n",
        "    Predicts using trainer.predict(), with optional threshold tuning, using NumPy arrays, and not PyTorch tensors\n",
        "\n",
        "    Parameters:\n",
        "    - trainer                         : Hugging Face Trainer or CustomTrainer instance\n",
        "    - dataset                         : Dataset to predict on\n",
        "    - id2label                        : Dictionary mapping label indices (int) to label names (string)\n",
        "    - threshold_tuning                : Boolean to enable threshold tuning per class\n",
        "    - thresholds       (numpy.ndarray): Custom thresholds for classification\n",
        "\n",
        "    Returns:\n",
        "    if threshold_tuning is True:\n",
        "        - best_thresholds      (numpy.ndarray): optimized threshold per class (= per label)\n",
        "        - best_thresholds_dict (dict)         : optimized threshold per class (= per label)\n",
        "        - best_metrics         (dict)         : best f1, precision, recall per class (= per label)\n",
        "    else:\n",
        "        - thresholds      (numpy.ndarray): fixed threshold per class (= per label)\n",
        "        - thresholds_dict (dict)         : fixed threshold per class (= per label)\n",
        "        - metrics         (dict)         : computed with provided thresholds or default to 0.5\n",
        "    \"\"\"\n",
        "    # Predict\n",
        "    predictions_output = trainer.predict(dataset)\n",
        "    logits             = predictions_output.predictions\n",
        "    true_labels        = predictions_output.label_ids\n",
        "\n",
        "    # Convert logits to probabilities (with np, not with torch)\n",
        "    probs = 1 / (1 + np.exp(-logits))  # Sigmoid function\n",
        "\n",
        "    num_labels           = len(id2label)\n",
        "    threshold_candidates = np.linspace(0.05, 0.95, 19)\n",
        "    best_thresholds      = np.zeros(num_labels)\n",
        "\n",
        "    best_metrics         = {label: {'f1': 0.0, 'precision': 0.0, 'recall': 0.0} for label in id2label.values()}     # if threshold_tuning is True\n",
        "    metrics              = {label: {'f1': 0.0, 'precision': 0.0, 'recall': 0.0} for label in id2label.values()}     # else\n",
        "\n",
        "    if threshold_tuning is True:\n",
        "        # Vectorized computation for speed\n",
        "        for label_idx, label in id2label.items():\n",
        "            preds = probs[:, label_idx][:, None] > threshold_candidates  # Create a matrix of shape (num_samples num_thresholds)\n",
        "\n",
        "            # Compute precision, recall, and F1 for all thresholds at once\n",
        "            precision, recall, f1, _ = precision_recall_fscore_support(\n",
        "                np.tile(true_labels[:, label_idx], (len(threshold_candidates), 1)).T, preds, average=None, zero_division=0\n",
        "            )\n",
        "\n",
        "            # Find the best threshold based on F1\n",
        "            best_idx                   = np.argmax(f1)\n",
        "            best_thresholds[label_idx] = threshold_candidates[best_idx]\n",
        "            best_metrics[label]        = {'f1': f1[best_idx], 'precision': precision[best_idx], 'recall': recall[best_idx]}\n",
        "\n",
        "        best_thresholds_dict = {id2label[i]: best_thresholds[i].item() for i in range(len(best_thresholds))}\n",
        "\n",
        "        #print(\"==== best_thresholds, best_threshold_dict and best_metrics ====\")\n",
        "        #print(f\"best_thresholds: {type(best_thresholds)} shape={best_thresholds.shape}\\n{best_thresholds}\")                     # <class 'numpy.ndarray'> shape=(6,)\n",
        "        #print(f\"best_thresholds_dict: {type(best_thresholds_dict)} len={len(best_thresholds_dict)}\\n{best_thresholds_dict}\")    # <class 'dict'> len=6\n",
        "        #print(f\"best_metrics:         {type(best_metrics)} len={len(best_metrics)}\\n{json.dumps(best_metrics, indent=4)}\")      # <class 'dict'> len=6\n",
        "        #print(\"=========================\")\n",
        "        #print()\n",
        "\n",
        "        return best_thresholds, best_thresholds_dict, best_metrics\n",
        "\n",
        "    # Apply provided thresholds or default to 0.5\n",
        "    elif thresholds is None:\n",
        "        thresholds = np.full(num_labels, 0.5)\n",
        "\n",
        "    for label_idx, label in id2label.items():\n",
        "        preds = probs[:, label_idx][:, None] > thresholds  # Create a matrix of shape (num_samples num_thresholds)\n",
        "\n",
        "        # Compute precision, recall, and F1 for all thresholds at once\n",
        "        precision, recall, f1, _ = precision_recall_fscore_support(\n",
        "            np.tile(true_labels[:, label_idx], (len(thresholds), 1)).T, preds, average=None, zero_division=0\n",
        "        )\n",
        "\n",
        "        metrics[label] = {'f1': f1[label_idx], 'precision': precision[label_idx], 'recall': recall[label_idx]}\n",
        "\n",
        "    thresholds_dict = {label: threshold for label, threshold in zip(id2label.values(), thresholds.tolist())}\n",
        "\n",
        "    #print(\"==== provided thresholds and metrics ====\")\n",
        "    #print(f\"thresholds: {type(thresholds)} shape={thresholds.shape}\\n{thresholds}\")                     # <class 'numpy.ndarray'> shape=(6,)\n",
        "    #print(f\"thresholds_dict: {type(thresholds_dict)} len={len(thresholds_dict)}\\n{thresholds_dict}\")    # <class 'dict'> len=6\n",
        "    #print(f\"metrics   : {type(metrics)} len={len(metrics)}\\n{json.dumps(metrics, indent=4)}\")           # <class 'dict'> len=6\n",
        "    #print(\"=========================\")\n",
        "    #print()\n",
        "\n",
        "    return thresholds, thresholds_dict, metrics"
      ],
      "metadata": {
        "id": "KZLwRkhTDOQR"
      },
      "execution_count": 76,
      "outputs": []
    },
    {
      "cell_type": "code",
      "source": [
        "def predict_with_optimized_thresholds(trainer, dataset, id2label, threshold_tuning=False, thresholds=None):\n",
        "    \"\"\"\n",
        "    Predicts using trainer.predict(), with optional threshold tuning, using NumPy arrays, and not PyTorch tensors\n",
        "\n",
        "    Parameters:\n",
        "    - trainer                         : Hugging Face Trainer or CustomTrainer instance\n",
        "    - dataset                         : Dataset to predict on\n",
        "    - id2label                        : Dictionary mapping label indices (int) to label names (string)\n",
        "    - threshold_tuning                : Boolean to enable threshold tuning per class\n",
        "    - thresholds       (numpy.ndarray): Custom thresholds for classification\n",
        "\n",
        "    Returns:\n",
        "    if threshold_tuning is True:\n",
        "        - best_thresholds      (numpy.ndarray): optimized threshold per class (aka per label)\n",
        "        - best_thresholds_dict (dict)         : optimized threshold per class (aka per label)\n",
        "        - best_metrics         (dict)         : best F1, precision, recall per class (aka per label)\n",
        "    else:\n",
        "        - thresholds      (numpy.ndarray): fixed threshold per class (aka per label)\n",
        "        - thresholds_dict (dict)         : fixed threshold per class (aka per label)\n",
        "        - metrics         (dict)         : computed with provided thresholds or default to 0.5\n",
        "    \"\"\"\n",
        "    # Predict\n",
        "    predictions_output = trainer.predict(dataset)\n",
        "    logits             = predictions_output.predictions\n",
        "    true_labels        = predictions_output.label_ids\n",
        "\n",
        "    # Convert logits to probabilities (with np, not with torch)\n",
        "    probs = 1 / (1 + np.exp(-logits))  # Sigmoid function\n",
        "\n",
        "    num_labels = len(id2label)\n",
        "\n",
        "    best_thresholds      = None\n",
        "    best_thresholds_dict = None\n",
        "    best_metrics         = None\n",
        "    best_preds           = None\n",
        "\n",
        "    if threshold_tuning:\n",
        "        num_samples, num_labels = true_labels.shape\n",
        "\n",
        "        # Create a 3D matrix for threshold candidates: shape = (num_samples, num_labels, num_thresholds) aka (N, L, T)\n",
        "        threshold_candidates = np.linspace(0.05, 0.95, 19)             # Shape = (num_thresholds,)\n",
        "        threshold_candidates = threshold_candidates.reshape(1, 1, -1)  # Reshape for broadcasting\n",
        "\n",
        "        # Expand dimensions for broadcasting: probs.shape = (num_samples, num_labels, 1)\n",
        "        preds_matrix = probs[:, :, None] > threshold_candidates        # Shape = (N, L, T)\n",
        "\n",
        "        # Expand true_labels for broadcasting\n",
        "        true_labels_expanded = np.expand_dims(true_labels, axis=-1)    # Shape = (N, L, 1)\n",
        "\n",
        "        # Compute precision, recall, and F1 for all labels and all thresholds at once\n",
        "        precision, recall, f1, _ = precision_recall_fscore_support(\n",
        "            true_labels_expanded.reshape(-1, len(threshold_candidates)),\n",
        "            preds_matrix.reshape(-1, len(threshold_candidates)),\n",
        "            average=None,\n",
        "            zero_division=0\n",
        "        )\n",
        "\n",
        "        # Find best thresholds per class based on max F1\n",
        "        best_idx        = np.argmax(f1, axis=-1)                    # Best index for each label\n",
        "        best_thresholds = threshold_candidates.squeeze()[best_idx]  # Convert to 1D array\n",
        "\n",
        "        # Convert to dict format\n",
        "        best_thresholds_dict = {id2label[i]: best_thresholds[i].item() for i in range(num_labels)}\n",
        "        best_metrics         = {\n",
        "            id2label[i]: {'f1': f1[i], 'precision': precision[i], 'recall': recall[i]} for i in range(num_labels)\n",
        "        }\n",
        "\n",
        "        # Best preds for average calculations\n",
        "        best_preds = np.zeros((len(true_labels), len(id2label)))  # Shape = (N, L)\n",
        "\n",
        "        for label_idx in range(len(id2label)):\n",
        "            best_threshold_idx       = np.argmin(np.abs(best_thresholds[label_idx] - threshold_candidates))\n",
        "            best_preds[:, label_idx] = preds_matrix[:, label_idx, best_threshold_idx]  # Extract best_preds\n",
        "\n",
        "        best_preds = best_preds.astype(int)  # Ensure it's an integer array for sklearn metrics\n",
        "\n",
        "        #print(\"==== best_thresholds, best_threshold_dict and best_metrics ====\")\n",
        "        #print(f\"best_thresholds:      {type(best_thresholds)} shape={best_thresholds.shape}\\n{best_thresholds}\")                # <class 'numpy.ndarray'> shape=(6,)\n",
        "        #print(f\"best_thresholds_dict: {type(best_thresholds_dict)} len={len(best_thresholds_dict)}\\n{best_thresholds_dict}\")    # <class 'dict'> len=6\n",
        "        #print(f\"best_metrics:         {type(best_metrics)} len={len(best_metrics)}\\n{json.dumps(best_metrics, indent=4)}\")      # <class 'dict'> len=6\n",
        "        #print(\"===============================================================\")\n",
        "        #print()\n",
        "\n",
        "    # ==== If not threshold_tuning ====\n",
        "\n",
        "    # Apply provided thresholds or default to 0.5\n",
        "    thresholds_fixed = thresholds if thresholds is not None else np.full(num_labels, 0.5)\n",
        "\n",
        "    # Compute predictions with fixed thresholds\n",
        "    preds_fixed = (probs > thresholds).astype(int)\n",
        "\n",
        "    # Compute metrics in one step (no loop)\n",
        "    precision, recall, f1, _ = precision_recall_fscore_support(true_labels, preds_fixed, average=None, zero_division=0)\n",
        "\n",
        "    # Convert to dict format\n",
        "    metrics_fixed         = {id2label[i]: {'f1': f1[i], 'precision': precision[i], 'recall': recall[i]} for i in range(num_labels)}\n",
        "    thresholds_dict_fixed = {id2label[i]: thresholds[i].item() for i in range(num_labels)}\n",
        "\n",
        "    #print(\"==== provided thresholds and metrics ====\")\n",
        "    #print(f\"thresholds: {type(thresholds)} shape={thresholds.shape}\\n{thresholds}\")                     # <class 'numpy.ndarray'> shape=(6,)\n",
        "    #print(f\"thresholds_dict: {type(thresholds_dict)} len={len(thresholds_dict)}\\n{thresholds_dict}\")    # <class 'dict'> len=6\n",
        "    #print(f\"metrics   : {type(metrics)} len={len(metrics)}\\n{json.dumps(metrics, indent=4)}\")           # <class 'dict'> len=6\n",
        "    #print(\"=========================================\")\n",
        "    #print()\n",
        "\n",
        "    thresholds      = best_thresholds      if threshold_tuning else thresholds_fixed\n",
        "    thresholds_dict = best_thresholds_dict if threshold_tuning else thresholds_dict_fixed\n",
        "    metrics         = best_metrics         if threshold_tuning else metrics_fixed\n",
        "    preds           = best_preds           if threshold_tuning else preds_fixed\n",
        "\n",
        "    # Compute micro average\n",
        "    #   compute metrics globally by summing all TP, FP, FN across all labels\n",
        "    #   good for overall performance assessment\n",
        "    #   dominated by frequent labels: if most samples belong to a few labels, if favors them\n",
        "    micro_precision, micro_recall, micro_f1, _ = precision_recall_fscore_support(\n",
        "        true_labels, preds, average='micro', zero_division=0\n",
        "    )\n",
        "\n",
        "    # Compute macro average\n",
        "    #   each label is treated equally, regardless of how often it appears\n",
        "    #   good for evaluating rare labels\n",
        "    #   sensitive to rare labels: if rare labels perform poorly, macro F1 will drop\n",
        "    macro_precision, macro_recall, macro_f1, _ = precision_recall_fscore_support(\n",
        "        true_labels, preds, average='macro', zero_division=0\n",
        "    )\n",
        "\n",
        "    # Compute weighted average\n",
        "    #   like macro, but weights each label's F1 based on its frequency\n",
        "    #   balances between micro and macro by considering both label importance and prevalence\n",
        "    #   useful if class imbalance exists but you still want per-label influence\n",
        "    weighted_precision, weighted_recall, weighted_f1, _ = precision_recall_fscore_support(\n",
        "        true_labels, preds, average='weighted', zero_division=0\n",
        "    )\n",
        "\n",
        "    global_metrics = {\n",
        "        'micro':    {'f1': micro_f1,    'precision': micro_precision,    'recall': micro_recall},\n",
        "        'macro':    {'f1': macro_f1,    'precision': macro_precision,    'recall': macro_recall},\n",
        "        'weighted': {'f1': weighted_f1, 'precision': weighted_precision, 'recall': weighted_recall}\n",
        "    }\n",
        "\n",
        "    return thresholds, thresholds_dict, metrics, global_metrics"
      ],
      "metadata": {
        "id": "UvBaTA62X7xV"
      },
      "execution_count": 77,
      "outputs": []
    },
    {
      "cell_type": "markdown",
      "source": [
        "### Evaluation 2: calculate metrics and optimized thresholds\n",
        "\n",
        "- First, to **calculate** the optimized thresholds, threshold_tuning = True and thresholds = None.\n",
        "- After, to **use** these optimized thresholds, threshold_tuning = False and thresholds = the optimized thresholds."
      ],
      "metadata": {
        "id": "8YZ2WcwI7IBl"
      }
    },
    {
      "cell_type": "code",
      "execution_count": 79,
      "metadata": {
        "id": "TphO3ifmBLDf",
        "colab": {
          "base_uri": "https://localhost:8080/",
          "height": 1000
        },
        "outputId": "127fd0f2-7d2e-4592-de81-ea163654d5a6"
      },
      "outputs": [
        {
          "output_type": "display_data",
          "data": {
            "text/plain": [
              "<IPython.core.display.HTML object>"
            ],
            "text/html": []
          },
          "metadata": {}
        },
        {
          "output_type": "stream",
          "name": "stdout",
          "text": [
            "logits: <class 'numpy.ndarray'> (12, 6)\n",
            "[[-0.45288086 -0.28051758  0.1496582  -0.00588608  0.16906738 -0.1295166 ]\n",
            " [-0.4633789  -0.25146484  0.11712646  0.0196991   0.1270752  -0.0904541 ]\n",
            " [-0.42260742 -0.20275879  0.06524658 -0.03829956  0.08398438 -0.08996582]\n",
            " [-0.46826172 -0.28735352  0.11767578 -0.0065155   0.11590576 -0.11151123]\n",
            " [-0.4465332  -0.18725586  0.06451416 -0.01183319  0.11669922 -0.08258057]\n",
            " [-0.31445312 -0.23571777  0.0252533  -0.01543427  0.15368652  0.04629517]\n",
            " [-0.4621582  -0.24084473  0.09313965  0.00964355  0.13500977 -0.11755371]\n",
            " [-0.38549805 -0.10675049  0.05819702 -0.05264282  0.09094238 -0.06027222]\n",
            " [-0.40063477 -0.10565186  0.06500244 -0.07263184  0.08966064 -0.0791626 ]\n",
            " [-0.42993164 -0.14978027  0.06219482 -0.03509521  0.10943604 -0.09356689]\n",
            " [-0.24255371 -0.1763916   0.06555176 -0.03201294  0.09344482  0.01039886]\n",
            " [-0.42260742 -0.19799805  0.06060791 -0.14697266  0.10217285 -0.05786133]]\n",
            "true_labels: <class 'numpy.ndarray'> (12, 6)\n",
            "[[0. 0. 1. 1. 0. 0.]\n",
            " [0. 0. 1. 1. 0. 0.]\n",
            " [0. 0. 1. 1. 0. 0.]\n",
            " [0. 0. 1. 1. 0. 0.]\n",
            " [0. 0. 1. 1. 1. 0.]\n",
            " [0. 0. 1. 1. 1. 0.]\n",
            " [0. 0. 0. 1. 1. 0.]\n",
            " [0. 0. 0. 1. 1. 0.]\n",
            " [0. 0. 1. 1. 0. 0.]\n",
            " [0. 0. 0. 1. 1. 0.]\n",
            " [0. 0. 1. 1. 1. 0.]\n",
            " [0. 0. 0. 1. 1. 0.]]\n",
            "logits: <class 'torch.Tensor'> torch.Size([12, 6])\n",
            "tensor([[-0.4529, -0.2805,  0.1497, -0.0059,  0.1691, -0.1295],\n",
            "        [-0.4634, -0.2515,  0.1171,  0.0197,  0.1271, -0.0905],\n",
            "        [-0.4226, -0.2028,  0.0652, -0.0383,  0.0840, -0.0900],\n",
            "        [-0.4683, -0.2874,  0.1177, -0.0065,  0.1159, -0.1115],\n",
            "        [-0.4465, -0.1873,  0.0645, -0.0118,  0.1167, -0.0826],\n",
            "        [-0.3145, -0.2357,  0.0253, -0.0154,  0.1537,  0.0463],\n",
            "        [-0.4622, -0.2408,  0.0931,  0.0096,  0.1350, -0.1176],\n",
            "        [-0.3855, -0.1068,  0.0582, -0.0526,  0.0909, -0.0603],\n",
            "        [-0.4006, -0.1057,  0.0650, -0.0726,  0.0897, -0.0792],\n",
            "        [-0.4299, -0.1498,  0.0622, -0.0351,  0.1094, -0.0936],\n",
            "        [-0.2426, -0.1764,  0.0656, -0.0320,  0.0934,  0.0104],\n",
            "        [-0.4226, -0.1980,  0.0606, -0.1470,  0.1022, -0.0579]])\n",
            "probs: <class 'numpy.ndarray'> (12, 6)\n",
            "[[0.38867602 0.43032688 0.5373449  0.49852848 0.5421665  0.46766603]\n",
            " [0.38618454 0.437463   0.5292482  0.5049246  0.5317261  0.47740188]\n",
            " [0.39589298 0.44948325 0.51630586 0.49042627 0.52098376 0.47752374]\n",
            " [0.38502774 0.4286519  0.52938503 0.49837115 0.528944   0.47215107]\n",
            " [0.39018536 0.45332232 0.51612294 0.49704173 0.5291417  0.47936657]\n",
            " [0.42202815 0.44134188 0.506313   0.49614152 0.5383462  0.5115717 ]\n",
            " [0.38647398 0.44007817 0.5232681  0.5024109  0.53370124 0.47064537]\n",
            " [0.40480152 0.47333768 0.51454514 0.48684233 0.5227199  0.4849365 ]\n",
            " [0.40115985 0.47361156 0.5162449  0.48185003 0.5224002  0.4802197 ]\n",
            " [0.3941427  0.46262476 0.5155437  0.49122706 0.52733177 0.47662535]\n",
            " [0.43965712 0.45601612 0.51638204 0.49199748 0.5233442  0.5025997 ]\n",
            " [0.39589298 0.45066157 0.5151473  0.46332282 0.525521   0.48553872]]\n",
            "preds: <class 'numpy.ndarray'> (12, 6)\n",
            "[[0 0 1 0 1 0]\n",
            " [0 0 1 1 1 0]\n",
            " [0 0 1 0 1 0]\n",
            " [0 0 1 0 1 0]\n",
            " [0 0 1 0 1 0]\n",
            " [0 0 1 0 1 1]\n",
            " [0 0 1 1 1 0]\n",
            " [0 0 1 0 1 0]\n",
            " [0 0 1 0 1 0]\n",
            " [0 0 1 0 1 0]\n",
            " [0 0 1 0 1 1]\n",
            " [0 0 1 0 1 0]]\n"
          ]
        },
        {
          "output_type": "error",
          "ename": "ValueError",
          "evalue": "Found input variables with inconsistent numbers of samples: [72, 1368]",
          "traceback": [
            "\u001b[0;31m---------------------------------------------------------------------------\u001b[0m",
            "\u001b[0;31mValueError\u001b[0m                                Traceback (most recent call last)",
            "\u001b[0;32m<ipython-input-79-0931776194c5>\u001b[0m in \u001b[0;36m<cell line: 0>\u001b[0;34m()\u001b[0m\n\u001b[0;32m----> 1\u001b[0;31m \u001b[0mthresholds\u001b[0m\u001b[0;34m,\u001b[0m \u001b[0mthresholds_dict\u001b[0m\u001b[0;34m,\u001b[0m \u001b[0mmetrics\u001b[0m\u001b[0;34m,\u001b[0m \u001b[0mglobal_metrics\u001b[0m \u001b[0;34m=\u001b[0m \u001b[0mpredict_with_optimized_thresholds\u001b[0m\u001b[0;34m(\u001b[0m\u001b[0mtrainer\u001b[0m\u001b[0;34m,\u001b[0m \u001b[0mvalidation_dataset\u001b[0m\u001b[0;34m,\u001b[0m \u001b[0mid2label\u001b[0m\u001b[0;34m,\u001b[0m \u001b[0mthreshold_tuning\u001b[0m\u001b[0;34m=\u001b[0m\u001b[0;32mTrue\u001b[0m\u001b[0;34m,\u001b[0m \u001b[0mthresholds\u001b[0m\u001b[0;34m=\u001b[0m\u001b[0;32mNone\u001b[0m\u001b[0;34m)\u001b[0m\u001b[0;34m\u001b[0m\u001b[0;34m\u001b[0m\u001b[0m\n\u001b[0m\u001b[1;32m      2\u001b[0m \u001b[0;34m\u001b[0m\u001b[0m\n\u001b[1;32m      3\u001b[0m \u001b[0mprint\u001b[0m\u001b[0;34m(\u001b[0m\u001b[0;34mf\"optimized_thresholds: {type(thresholds)} shape={thresholds.shape} {thresholds}\"\u001b[0m\u001b[0;34m)\u001b[0m\u001b[0;34m\u001b[0m\u001b[0;34m\u001b[0m\u001b[0m\n\u001b[1;32m      4\u001b[0m \u001b[0mprint\u001b[0m\u001b[0;34m(\u001b[0m\u001b[0;34mf\"optimized_thresholds_dict: {type(thresholds_dict)} len={len(thresholds_dict)}\\n{thresholds_dict}\"\u001b[0m\u001b[0;34m)\u001b[0m\u001b[0;34m\u001b[0m\u001b[0;34m\u001b[0m\u001b[0m\n\u001b[1;32m      5\u001b[0m \u001b[0mprint\u001b[0m\u001b[0;34m(\u001b[0m\u001b[0;34mf\"evaluation_trainer_predict_metrics: {type(metrics)} len={len(metrics)}\\n{json.dumps(metrics, indent=4)}\"\u001b[0m\u001b[0;34m)\u001b[0m\u001b[0;34m\u001b[0m\u001b[0;34m\u001b[0m\u001b[0m\n",
            "\u001b[0;32m<ipython-input-77-94028e90ea08>\u001b[0m in \u001b[0;36mpredict_with_optimized_thresholds\u001b[0;34m(trainer, dataset, id2label, threshold_tuning, thresholds)\u001b[0m\n\u001b[1;32m     49\u001b[0m \u001b[0;34m\u001b[0m\u001b[0m\n\u001b[1;32m     50\u001b[0m         \u001b[0;31m# Compute precision, recall, and F1 for all labels and all thresholds at once\u001b[0m\u001b[0;34m\u001b[0m\u001b[0;34m\u001b[0m\u001b[0m\n\u001b[0;32m---> 51\u001b[0;31m         precision, recall, f1, _ = precision_recall_fscore_support(\n\u001b[0m\u001b[1;32m     52\u001b[0m             \u001b[0mtrue_labels_expanded\u001b[0m\u001b[0;34m.\u001b[0m\u001b[0mreshape\u001b[0m\u001b[0;34m(\u001b[0m\u001b[0;34m-\u001b[0m\u001b[0;36m1\u001b[0m\u001b[0;34m,\u001b[0m \u001b[0mlen\u001b[0m\u001b[0;34m(\u001b[0m\u001b[0mthreshold_candidates\u001b[0m\u001b[0;34m)\u001b[0m\u001b[0;34m)\u001b[0m\u001b[0;34m,\u001b[0m\u001b[0;34m\u001b[0m\u001b[0;34m\u001b[0m\u001b[0m\n\u001b[1;32m     53\u001b[0m             \u001b[0mpreds_matrix\u001b[0m\u001b[0;34m.\u001b[0m\u001b[0mreshape\u001b[0m\u001b[0;34m(\u001b[0m\u001b[0;34m-\u001b[0m\u001b[0;36m1\u001b[0m\u001b[0;34m,\u001b[0m \u001b[0mlen\u001b[0m\u001b[0;34m(\u001b[0m\u001b[0mthreshold_candidates\u001b[0m\u001b[0;34m)\u001b[0m\u001b[0;34m)\u001b[0m\u001b[0;34m,\u001b[0m\u001b[0;34m\u001b[0m\u001b[0;34m\u001b[0m\u001b[0m\n",
            "\u001b[0;32m/usr/local/lib/python3.11/dist-packages/sklearn/utils/_param_validation.py\u001b[0m in \u001b[0;36mwrapper\u001b[0;34m(*args, **kwargs)\u001b[0m\n\u001b[1;32m    214\u001b[0m                     )\n\u001b[1;32m    215\u001b[0m                 ):\n\u001b[0;32m--> 216\u001b[0;31m                     \u001b[0;32mreturn\u001b[0m \u001b[0mfunc\u001b[0m\u001b[0;34m(\u001b[0m\u001b[0;34m*\u001b[0m\u001b[0margs\u001b[0m\u001b[0;34m,\u001b[0m \u001b[0;34m**\u001b[0m\u001b[0mkwargs\u001b[0m\u001b[0;34m)\u001b[0m\u001b[0;34m\u001b[0m\u001b[0;34m\u001b[0m\u001b[0m\n\u001b[0m\u001b[1;32m    217\u001b[0m             \u001b[0;32mexcept\u001b[0m \u001b[0mInvalidParameterError\u001b[0m \u001b[0;32mas\u001b[0m \u001b[0me\u001b[0m\u001b[0;34m:\u001b[0m\u001b[0;34m\u001b[0m\u001b[0;34m\u001b[0m\u001b[0m\n\u001b[1;32m    218\u001b[0m                 \u001b[0;31m# When the function is just a wrapper around an estimator, we allow\u001b[0m\u001b[0;34m\u001b[0m\u001b[0;34m\u001b[0m\u001b[0m\n",
            "\u001b[0;32m/usr/local/lib/python3.11/dist-packages/sklearn/metrics/_classification.py\u001b[0m in \u001b[0;36mprecision_recall_fscore_support\u001b[0;34m(y_true, y_pred, beta, labels, pos_label, average, warn_for, sample_weight, zero_division)\u001b[0m\n\u001b[1;32m   1828\u001b[0m     \"\"\"\n\u001b[1;32m   1829\u001b[0m     \u001b[0m_check_zero_division\u001b[0m\u001b[0;34m(\u001b[0m\u001b[0mzero_division\u001b[0m\u001b[0;34m)\u001b[0m\u001b[0;34m\u001b[0m\u001b[0;34m\u001b[0m\u001b[0m\n\u001b[0;32m-> 1830\u001b[0;31m     \u001b[0mlabels\u001b[0m \u001b[0;34m=\u001b[0m \u001b[0m_check_set_wise_labels\u001b[0m\u001b[0;34m(\u001b[0m\u001b[0my_true\u001b[0m\u001b[0;34m,\u001b[0m \u001b[0my_pred\u001b[0m\u001b[0;34m,\u001b[0m \u001b[0maverage\u001b[0m\u001b[0;34m,\u001b[0m \u001b[0mlabels\u001b[0m\u001b[0;34m,\u001b[0m \u001b[0mpos_label\u001b[0m\u001b[0;34m)\u001b[0m\u001b[0;34m\u001b[0m\u001b[0;34m\u001b[0m\u001b[0m\n\u001b[0m\u001b[1;32m   1831\u001b[0m \u001b[0;34m\u001b[0m\u001b[0m\n\u001b[1;32m   1832\u001b[0m     \u001b[0;31m# Calculate tp_sum, pred_sum, true_sum ###\u001b[0m\u001b[0;34m\u001b[0m\u001b[0;34m\u001b[0m\u001b[0m\n",
            "\u001b[0;32m/usr/local/lib/python3.11/dist-packages/sklearn/metrics/_classification.py\u001b[0m in \u001b[0;36m_check_set_wise_labels\u001b[0;34m(y_true, y_pred, average, labels, pos_label)\u001b[0m\n\u001b[1;32m   1594\u001b[0m \u001b[0;34m\u001b[0m\u001b[0m\n\u001b[1;32m   1595\u001b[0m     \u001b[0my_true\u001b[0m\u001b[0;34m,\u001b[0m \u001b[0my_pred\u001b[0m \u001b[0;34m=\u001b[0m \u001b[0mattach_unique\u001b[0m\u001b[0;34m(\u001b[0m\u001b[0my_true\u001b[0m\u001b[0;34m,\u001b[0m \u001b[0my_pred\u001b[0m\u001b[0;34m)\u001b[0m\u001b[0;34m\u001b[0m\u001b[0;34m\u001b[0m\u001b[0m\n\u001b[0;32m-> 1596\u001b[0;31m     \u001b[0my_type\u001b[0m\u001b[0;34m,\u001b[0m \u001b[0my_true\u001b[0m\u001b[0;34m,\u001b[0m \u001b[0my_pred\u001b[0m \u001b[0;34m=\u001b[0m \u001b[0m_check_targets\u001b[0m\u001b[0;34m(\u001b[0m\u001b[0my_true\u001b[0m\u001b[0;34m,\u001b[0m \u001b[0my_pred\u001b[0m\u001b[0;34m)\u001b[0m\u001b[0;34m\u001b[0m\u001b[0;34m\u001b[0m\u001b[0m\n\u001b[0m\u001b[1;32m   1597\u001b[0m     \u001b[0;31m# Convert to Python primitive type to avoid NumPy type / Python str\u001b[0m\u001b[0;34m\u001b[0m\u001b[0;34m\u001b[0m\u001b[0m\n\u001b[1;32m   1598\u001b[0m     \u001b[0;31m# comparison. See https://github.com/numpy/numpy/issues/6784\u001b[0m\u001b[0;34m\u001b[0m\u001b[0;34m\u001b[0m\u001b[0m\n",
            "\u001b[0;32m/usr/local/lib/python3.11/dist-packages/sklearn/metrics/_classification.py\u001b[0m in \u001b[0;36m_check_targets\u001b[0;34m(y_true, y_pred)\u001b[0m\n\u001b[1;32m     96\u001b[0m     \"\"\"\n\u001b[1;32m     97\u001b[0m     \u001b[0mxp\u001b[0m\u001b[0;34m,\u001b[0m \u001b[0m_\u001b[0m \u001b[0;34m=\u001b[0m \u001b[0mget_namespace\u001b[0m\u001b[0;34m(\u001b[0m\u001b[0my_true\u001b[0m\u001b[0;34m,\u001b[0m \u001b[0my_pred\u001b[0m\u001b[0;34m)\u001b[0m\u001b[0;34m\u001b[0m\u001b[0;34m\u001b[0m\u001b[0m\n\u001b[0;32m---> 98\u001b[0;31m     \u001b[0mcheck_consistent_length\u001b[0m\u001b[0;34m(\u001b[0m\u001b[0my_true\u001b[0m\u001b[0;34m,\u001b[0m \u001b[0my_pred\u001b[0m\u001b[0;34m)\u001b[0m\u001b[0;34m\u001b[0m\u001b[0;34m\u001b[0m\u001b[0m\n\u001b[0m\u001b[1;32m     99\u001b[0m     \u001b[0mtype_true\u001b[0m \u001b[0;34m=\u001b[0m \u001b[0mtype_of_target\u001b[0m\u001b[0;34m(\u001b[0m\u001b[0my_true\u001b[0m\u001b[0;34m,\u001b[0m \u001b[0minput_name\u001b[0m\u001b[0;34m=\u001b[0m\u001b[0;34m\"y_true\"\u001b[0m\u001b[0;34m)\u001b[0m\u001b[0;34m\u001b[0m\u001b[0;34m\u001b[0m\u001b[0m\n\u001b[1;32m    100\u001b[0m     \u001b[0mtype_pred\u001b[0m \u001b[0;34m=\u001b[0m \u001b[0mtype_of_target\u001b[0m\u001b[0;34m(\u001b[0m\u001b[0my_pred\u001b[0m\u001b[0;34m,\u001b[0m \u001b[0minput_name\u001b[0m\u001b[0;34m=\u001b[0m\u001b[0;34m\"y_pred\"\u001b[0m\u001b[0;34m)\u001b[0m\u001b[0;34m\u001b[0m\u001b[0;34m\u001b[0m\u001b[0m\n",
            "\u001b[0;32m/usr/local/lib/python3.11/dist-packages/sklearn/utils/validation.py\u001b[0m in \u001b[0;36mcheck_consistent_length\u001b[0;34m(*arrays)\u001b[0m\n\u001b[1;32m    473\u001b[0m     \u001b[0muniques\u001b[0m \u001b[0;34m=\u001b[0m \u001b[0mnp\u001b[0m\u001b[0;34m.\u001b[0m\u001b[0munique\u001b[0m\u001b[0;34m(\u001b[0m\u001b[0mlengths\u001b[0m\u001b[0;34m)\u001b[0m\u001b[0;34m\u001b[0m\u001b[0;34m\u001b[0m\u001b[0m\n\u001b[1;32m    474\u001b[0m     \u001b[0;32mif\u001b[0m \u001b[0mlen\u001b[0m\u001b[0;34m(\u001b[0m\u001b[0muniques\u001b[0m\u001b[0;34m)\u001b[0m \u001b[0;34m>\u001b[0m \u001b[0;36m1\u001b[0m\u001b[0;34m:\u001b[0m\u001b[0;34m\u001b[0m\u001b[0;34m\u001b[0m\u001b[0m\n\u001b[0;32m--> 475\u001b[0;31m         raise ValueError(\n\u001b[0m\u001b[1;32m    476\u001b[0m             \u001b[0;34m\"Found input variables with inconsistent numbers of samples: %r\"\u001b[0m\u001b[0;34m\u001b[0m\u001b[0;34m\u001b[0m\u001b[0m\n\u001b[1;32m    477\u001b[0m             \u001b[0;34m%\u001b[0m \u001b[0;34m[\u001b[0m\u001b[0mint\u001b[0m\u001b[0;34m(\u001b[0m\u001b[0ml\u001b[0m\u001b[0;34m)\u001b[0m \u001b[0;32mfor\u001b[0m \u001b[0ml\u001b[0m \u001b[0;32min\u001b[0m \u001b[0mlengths\u001b[0m\u001b[0;34m]\u001b[0m\u001b[0;34m\u001b[0m\u001b[0;34m\u001b[0m\u001b[0m\n",
            "\u001b[0;31mValueError\u001b[0m: Found input variables with inconsistent numbers of samples: [72, 1368]"
          ]
        }
      ],
      "source": [
        "thresholds, thresholds_dict, metrics, global_metrics = predict_with_optimized_thresholds(trainer, validation_dataset, id2label, threshold_tuning=True, thresholds=None)\n",
        "\n",
        "print(f\"optimized_thresholds: {type(thresholds)} shape={thresholds.shape} {thresholds}\")\n",
        "print(f\"optimized_thresholds_dict: {type(thresholds_dict)} len={len(thresholds_dict)}\\n{thresholds_dict}\")\n",
        "print(f\"evaluation_trainer_predict_metrics: {type(metrics)} len={len(metrics)}\\n{json.dumps(metrics, indent=4)}\")\n",
        "print(f\"evaluation_trainer_predict_global_metrics: {type(global_metrics)} len={len(global_metrics)}\\n{json.dumps(global_metrics, indent=4)}\")\n",
        "\n",
        "thresholds, thresholds_dict, metrics, global_metrics = predict_with_optimized_thresholds(trainer, validation_dataset, id2label, threshold_tuning=False, thresholds=None)\n",
        "\n",
        "print(f\"thresholds: {type(thresholds)} shape={thresholds.shape} {thresholds}\")\n",
        "print(f\"thresholds_dict: {type(thresholds_dict)} len={len(thresholds_dict)}\\n{thresholds_dict}\")\n",
        "print(f\"evaluation_trainer_predict_metrics: {type(metrics)} len={len(metrics)}\\n{json.dumps(metrics, indent=4)}\")\n",
        "print(f\"evaluation_trainer_predict_global_metrics: {type(global_metrics)} len={len(global_metrics)}\\n{json.dumps(global_metrics, indent=4)}\")"
      ]
    },
    {
      "cell_type": "code",
      "source": [
        "print(\"evaluation 2: trainer.predict: successfully completed\")"
      ],
      "metadata": {
        "id": "Gc9XZPkpDFdR"
      },
      "execution_count": null,
      "outputs": []
    },
    {
      "cell_type": "code",
      "source": [
        "raise Exception(\"I stop here\")"
      ],
      "metadata": {
        "id": "_pu0NRFJes3B"
      },
      "execution_count": null,
      "outputs": []
    },
    {
      "cell_type": "markdown",
      "source": [
        "### Evaluation 2: trainer.predict: save locally and upload to HF Hub\n"
      ],
      "metadata": {
        "id": "zwV60_UQ-HXd"
      }
    },
    {
      "cell_type": "code",
      "source": [
        "if upload_to_HF is True:\n",
        "\n",
        "  name                            = \"evaluation_trainer_predict\"\n",
        "  evaluation_trainer_predict_path = f\"{name}.json\"\n",
        "\n",
        "  with open(evaluation_trainer_predict_path, \"w\") as f:\n",
        "    json.dump(evaluation_trainer_predict_metrics, f)\n",
        "\n",
        "  print(f\"{name} successfully saved locally to {evaluation_trainer_predict_path}\")\n",
        "\n",
        "  upload_file(\n",
        "      path_or_fileobj = evaluation_trainer_predict_path,\n",
        "      path_in_repo    = evaluation_trainer_predict_path,\n",
        "      repo_id         = repo_id,\n",
        "      repo_type       = 'dataset',\n",
        "      commit_message  = f\"{name}_{timestamp}\"\n",
        "  )\n",
        "\n",
        "  print(f\"{name} successfully uploaded to HF Hub as {evaluation_trainer_predict_path}\")"
      ],
      "metadata": {
        "id": "14zP2d72-WXk"
      },
      "execution_count": null,
      "outputs": []
    },
    {
      "cell_type": "markdown",
      "source": [
        "### Evaluation 2: optimized thresholds: save locally (as a dict) and upload to HF Hub (as a JSON file in repo 'model')\n",
        "optimized_thresholds: <class 'numpy.ndarray'> shape=(6,) but JSON doesn't support NumPy types"
      ],
      "metadata": {
        "id": "f127duCt-Nhg"
      }
    },
    {
      "cell_type": "code",
      "source": [
        "if threshold_tuning is True and upload_to_HF is True:\n",
        "    name                      = \"optimized_thresholds\"\n",
        "    optimized_thresholds_path = f\"{name}.json\"\n",
        "\n",
        "    with open(optimized_thresholds_path, \"w\") as f:\n",
        "        json.dump(optimized_thresholds_dict, f, indent=4)\n",
        "\n",
        "    print(f\"{optimized_thresholds_dict} successfully saved locally to {optimized_thresholds_path}\")\n",
        "\n",
        "    path_in_repo = \"optimized_thresholds.json\"\n",
        "\n",
        "    upload_file(\n",
        "        path_or_fileobj = optimized_thresholds_path,\n",
        "        path_in_repo    = path_in_repo,\n",
        "        repo_id         = repo_id,\n",
        "        repo_type       = 'model',\n",
        "        commit_message  = f\"optimized_thresholds_{timestamp}\"\n",
        "        )\n",
        "\n",
        "    print(f\"{name} successfully uploaded to HF Hub as {path_in_repo}\")"
      ],
      "metadata": {
        "id": "iZjQfyNP-J46"
      },
      "execution_count": null,
      "outputs": []
    },
    {
      "cell_type": "markdown",
      "source": [
        "### Evaluation 3: model.eval"
      ],
      "metadata": {
        "id": "noWOBOOd9hP7"
      }
    },
    {
      "cell_type": "code",
      "source": [
        "def compute_metrics_with_threshold(model, dataset, optimized_thresholds, id2label, batch_size=8):\n",
        "    \"\"\"\n",
        "    Compute metrics during evaluation or test, by applying tuned thresholds\n",
        "\n",
        "    Parameters:\n",
        "    - model                                               : Hugging Face model\n",
        "    - dataset                                             : Dataset to predict on\n",
        "    - optimized_thresholds (list or NumPy array of floats): Optimized thresholds for each label\n",
        "    - id2label                                            : Dictionary mapping label indices (int) to label names (string)\n",
        "    - batch_size                                          : Batch size for prediction. Defaults to 8\n",
        "    Returns:\n",
        "    - metrics (dict)\n",
        "\n",
        "    Compute metrics during evaluation or test, by applying optimized thresholds\n",
        "    \"\"\"\n",
        "    dataloader = DataLoader(dataset, batch_size=batch_size)\n",
        "\n",
        "    device = torch.device(\"cuda\" if torch.cuda.is_available() else \"cpu\")\n",
        "    model.to(device)    # Move model to GPU/CPU\n",
        "    model.eval()        # Set model to evaluation mode\n",
        "\n",
        "    all_logits, all_labels = [], []\n",
        "\n",
        "    with torch.no_grad():\n",
        "        for batch in dataloader:\n",
        "            labels  = batch.pop('labels')                           # Keep labels on CPU\n",
        "            inputs  = {k: v.to(device) for k, v in batch.items()}   # Move inputs to device\n",
        "            outputs = model(**inputs)\n",
        "\n",
        "            all_logits.append(outputs.logits.cpu())     # Keep logits as tensors, move to CPU\n",
        "            all_labels.append(labels)                   # Labels remain on CPU\n",
        "\n",
        "    # Stack tensors\n",
        "    logits = torch.cat(all_logits, dim=0).to(device)   # shape = (num_samples, num_labels), move to device\n",
        "    labels = torch.cat(all_labels, dim=0).to(device)   # shape = (num_samples, num_labels), move to device\n",
        "\n",
        "    # Convert logits to probabilities\n",
        "    probs = torch.sigmoid(logits)           # shape = (num_samples, num_labels)\n",
        "\n",
        "    # Apply per-class tuned thresholds (element-wise comparison)\n",
        "    thresholds = torch.tensor(optimized_thresholds, dtype=torch.float32, device=device)  # Convert tuned_thresholds to tensor\n",
        "    preds      = (probs > thresholds).int()                                              # Convert to binary predictions (1 or 0)\n",
        "\n",
        "    # Compute TP, FP, FN, TN\n",
        "    TP = ((preds == 1) & (labels == 1)).sum(dim=0).float()\n",
        "    TN = ((preds == 0) & (labels == 0)).sum(dim=0).float()\n",
        "    FP = ((preds == 1) & (labels == 0)).sum(dim=0).float()\n",
        "    FN = ((preds == 0) & (labels == 1)).sum(dim=0).float()\n",
        "\n",
        "    # Compute per-class metrics\n",
        "    precision_per_class = TP / (TP + FP + 1e-8)\n",
        "    recall_per_class    = TP / (TP + FN + 1e-8)\n",
        "    f1_per_class        = 2 * (precision_per_class * recall_per_class) / (precision_per_class + recall_per_class + 1e-8)\n",
        "\n",
        "    # Compute averaged metrics\n",
        "    precision = precision_per_class.mean()\n",
        "    recall    = recall_per_class.mean()\n",
        "    f1        = f1_per_class.mean()\n",
        "\n",
        "    # Compute accuracy\n",
        "    accuracy = (preds == labels).float().mean()\n",
        "\n",
        "    # Convert to NumPy for ROC-AUC and PR-AUC\n",
        "    labels_np = labels.cpu().numpy()  # Move to CPU before converting\n",
        "    probs_np  = probs.cpu().numpy()   # Move to CPU before converting\n",
        "\n",
        "    # Compute ROC-AUC and PR-AUC\n",
        "    roc_auc = torch.tensor(roc_auc_score(labels_np, probs_np, average=evaluation_average, multi_class='ovr'))\n",
        "    pr_auc  = torch.tensor(average_precision_score(labels_np, probs_np, average=evaluation_average))\n",
        "\n",
        "    # Convert predictions to Numpy for classification_report\n",
        "    preds_np = preds.cpu().numpy()  # Move to CPU before converting\n",
        "\n",
        "    # Generate classification report\n",
        "    class_names  = [id2label[i] for i in range(len(id2label))]\n",
        "    class_report = classification_report(labels_np, preds_np, target_names=class_names, zero_division=0)\n",
        "\n",
        "    #print(f\"\\nClassification Report:\\n{class_report}\")\n",
        "\n",
        "    # Store metrics\n",
        "    metrics = {\n",
        "        'accurary'             : accuracy.item(),\n",
        "        'precision'            : precision.item(),\n",
        "        'recall'               : recall.item(),\n",
        "        'f1'                   : f1.item(),\n",
        "        'roc_auc'              : roc_auc.item(),\n",
        "        'pr_auc'               : pr_auc.item(),\n",
        "        'per_class_precision'  : {id2label[i]: precision_per_class[i].item() for i in range(len(id2label))},\n",
        "        'per_class_recall'     : {id2label[i]: recall_per_class[i].item() for i in range(len(id2label))},\n",
        "        'per_class_f1'         : {id2label[i]: f1_per_class[i].item() for i in range(len(id2label))},\n",
        "        'classification_report': class_report,\n",
        "    }\n",
        "\n",
        "    return metrics"
      ],
      "metadata": {
        "id": "3XGQ4QNv9LsL"
      },
      "execution_count": null,
      "outputs": []
    },
    {
      "cell_type": "code",
      "source": [
        "evaluation_model_eval_metrics = compute_metrics_with_threshold(model, validation_dataset, optimized_thresholds, id2label, batch_size=16)\n",
        "\n",
        "except_report = {k: v for k, v in evaluation_model_eval_metrics.items() if k!='classification_report'}\n",
        "report        = evaluation_model_eval_metrics['classification_report']\n",
        "print(f\"evaluation_model_eval_metrics: {type(except_report)} len={len(except_report)}\\n{json.dumps(except_report, indent=4)}\")\n",
        "print(f\"evaluation_model_eval_metrics['classification_report']: {type(report)} len={len(report)}\\n{report}\")"
      ],
      "metadata": {
        "id": "ehquE8Ii2yNT"
      },
      "execution_count": null,
      "outputs": []
    },
    {
      "cell_type": "code",
      "source": [
        "print(\"evaluation 3: model.eval: successfully completed\")"
      ],
      "metadata": {
        "id": "lu5iSiinCUOh"
      },
      "execution_count": null,
      "outputs": []
    },
    {
      "cell_type": "markdown",
      "source": [
        "### Evaluation 3: model.eval: save locally and upload to HF Hub"
      ],
      "metadata": {
        "id": "DFwAT0oWHawd"
      }
    },
    {
      "cell_type": "code",
      "source": [
        "if upload_to_HF is True:\n",
        "\n",
        "  name                       = \"evaluation_model_eval\"\n",
        "  evaluation_model_eval_path = f\"{name}.json\"\n",
        "\n",
        "  with open(evaluation_model_eval_path, \"w\") as f:\n",
        "    json.dump(evaluation_model_eval_metrics, f)\n",
        "\n",
        "  print(f\"{name} successfully saved locally to {evaluation_model_eval_path}\")\n",
        "\n",
        "  upload_file(\n",
        "      path_or_fileobj = evaluation_model_eval_path,\n",
        "      path_in_repo    = evaluation_model_eval_path,\n",
        "      repo_id         = repo_id,\n",
        "      repo_type       = 'dataset',\n",
        "      commit_message  = f\"{name}_{timestamp}\"\n",
        "  )\n",
        "\n",
        "  print(f\"{name} successfully uploaded to HF Hub as {evaluation_model_eval_path}\")"
      ],
      "metadata": {
        "id": "ilEmnR5jHeYs"
      },
      "execution_count": null,
      "outputs": []
    },
    {
      "cell_type": "markdown",
      "metadata": {
        "id": "sYSVoKZDAq4e"
      },
      "source": [
        "## Test step"
      ]
    },
    {
      "cell_type": "markdown",
      "metadata": {
        "id": "0lCQusokDRda"
      },
      "source": [
        "### Test: trainer.evaluate"
      ]
    },
    {
      "cell_type": "code",
      "execution_count": null,
      "metadata": {
        "id": "3B6m5pYJM_0e"
      },
      "outputs": [],
      "source": [
        "test_trainer_evaluate_metrics = trainer.evaluate(\n",
        "    eval_dataset = encoded_dataset['test'],\n",
        "    metric_key_prefix='test'\n",
        ")\n",
        "\n",
        "print(f\"test_trainer_evaluate_metrics: {type(test_trainer_evaluate_metrics)} len={len(test_trainer_evaluate_metrics)}\\n{json.dumps(test_trainer_evaluate_metrics, indent=4)}\")\n"
      ]
    },
    {
      "cell_type": "code",
      "execution_count": null,
      "metadata": {
        "id": "8JuMtbi6ODIJ"
      },
      "outputs": [],
      "source": [
        "print(\"test_trainer.evaluate successfully completed\")"
      ]
    },
    {
      "cell_type": "markdown",
      "metadata": {
        "id": "LosNwpYCOV2F"
      },
      "source": [
        "### Test: trainer.evaluate: save locally and upload to HF Hub"
      ]
    },
    {
      "cell_type": "code",
      "execution_count": null,
      "metadata": {
        "id": "IuJvVmF8Oj8M"
      },
      "outputs": [],
      "source": [
        "if upload_to_HF is True:\n",
        "\n",
        "  name                       = \"test_trainer_evaluate\"\n",
        "  test_trainer_evaluate_path = f\"{name}.json\"\n",
        "\n",
        "  with open(test_trainer_evaluate_path, \"w\") as f:\n",
        "    json.dump(test_trainer_evaluate_metrics, f)\n",
        "\n",
        "  print(f\"{name} results successfully saved locally to {test_trainer_evaluate_path}\")\n",
        "\n",
        "  upload_file(\n",
        "      path_or_fileobj = test_trainer_evaluate_path,\n",
        "      path_in_repo    = test_trainer_evaluate_path,\n",
        "      repo_id         = repo_id,\n",
        "      repo_type       = 'dataset',\n",
        "      commit_message  = f\"{name}_{timestamp}\"\n",
        "  )\n",
        "\n",
        "  print(f\"{name} results successfully uploaded to HF Hub as {test_trainer_evaluate_path}\")"
      ]
    },
    {
      "cell_type": "markdown",
      "metadata": {
        "id": "ZJNMb3idDapI"
      },
      "source": [
        "### Test: trainer.predict"
      ]
    },
    {
      "cell_type": "code",
      "source": [
        "optimized_thresholds, optimized_thresholds_dict, test_trainer_predict_metrics = predict_with_optimized_thresholds(\n",
        "    trainer, test_dataset, id2label, threshold_tuning=False, thresholds=optimized_thresholds)\n",
        "\n",
        "print(f\"optimized_thresholds: {type(optimized_thresholds)} shape={optimized_thresholds.shape} {optimized_thresholds}\")\n",
        "print(f\"optimized_thresholds_dict: {type(optimized_thresholds_dict)} len={len(optimized_thresholds_dict)}\\n{optimized_thresholds_dict}\")\n",
        "print(f\"test_trainer_predict_metrics: {type(test_trainer_predict_metrics)} len={len(test_trainer_predict_metrics)}\\n{json.dumps(test_trainer_predict_metrics, indent=4)}\")"
      ],
      "metadata": {
        "id": "s9jKJjJACguS"
      },
      "execution_count": null,
      "outputs": []
    },
    {
      "cell_type": "code",
      "execution_count": null,
      "metadata": {
        "id": "R9lfg-tYjaWC"
      },
      "outputs": [],
      "source": [
        "#test_trainer_predict_results = predict_with_optimized_thresholds(\n",
        "#    trainer, test_dataset, id2label, threshold_tuning=False, thresholds=optimized_thresholds)\n",
        "\n",
        "#except_report = {k: v for k, v in test_trainer_predict_results.items() if k!='classification_report'}\n",
        "#report        = test_trainer_predict_results['classification_report']\n",
        "#print(f\"test_trainer_predict_results: {type(except_report)} len={len(except_report)}\\n{json.dumps(except_report, indent=4)}\")\n",
        "#print(f\"test_trainer_predict_results['classification_report']: {type(report)} len={len(report)}\\n{report}\")\n"
      ]
    },
    {
      "cell_type": "code",
      "source": [
        "print(\"test_trainer.predict successfully completed\")"
      ],
      "metadata": {
        "id": "9fs3FWd4mfUu"
      },
      "execution_count": null,
      "outputs": []
    },
    {
      "cell_type": "markdown",
      "source": [
        "### Test: trainer.predict: save locally and upload to HF Hub"
      ],
      "metadata": {
        "id": "Kr9L2hoGoQF-"
      }
    },
    {
      "cell_type": "code",
      "execution_count": null,
      "metadata": {
        "id": "Qq1WgCmgoioR"
      },
      "outputs": [],
      "source": [
        "if upload_to_HF is True:\n",
        "\n",
        "  name                      = \"test_trainer_predict\"\n",
        "  test_trainer_predict_path = f\"{name}.json\"\n",
        "\n",
        "  with open(test_trainer_predict_path, \"w\") as f:\n",
        "    json.dump(test_trainer_predict_metrics, f)\n",
        "\n",
        "  print(f\"{name} results successfully saved locally to {test_trainer_predict_path}\")\n",
        "\n",
        "  upload_file(\n",
        "      path_or_fileobj = test_trainer_predict_path,\n",
        "      path_in_repo    = test_trainer_predict_path,\n",
        "      repo_id         = repo_id,\n",
        "      repo_type       = 'dataset',\n",
        "      commit_message  = f\"{name}_{timestamp}\"\n",
        "  )\n",
        "\n",
        "  print(f\"{name} results successfully uploaded to HF Hub as {test_trainer_predict_path}\")"
      ]
    },
    {
      "cell_type": "markdown",
      "source": [
        "### Test: model.eval"
      ],
      "metadata": {
        "id": "ZAvjnQsiPvA3"
      }
    },
    {
      "cell_type": "code",
      "source": [
        "test_model_eval_metrics = compute_metrics_with_threshold(model, test_dataset, optimized_thresholds, id2label, batch_size=16)\n",
        "\n",
        "except_report = {k: v for k, v in test_model_eval_metrics.items() if k!='classification_report'}\n",
        "report        = test_model_eval_metrics['classification_report']\n",
        "print(f\"test_model_eval_metrics: {type(except_report)} len={len(except_report)}\\n{json.dumps(except_report, indent=4)}\")\n",
        "print(f\"test_model_eval_metrics['classification_report']: {type(report)} len={len(report)}\\n{report}\")"
      ],
      "metadata": {
        "id": "EEmK1IiGPBQ5"
      },
      "execution_count": null,
      "outputs": []
    },
    {
      "cell_type": "markdown",
      "metadata": {
        "id": "zVQXo7SvwcJ7"
      },
      "source": [
        "## Upload tokenizer and model to HF Hub and check"
      ]
    },
    {
      "cell_type": "code",
      "execution_count": null,
      "metadata": {
        "id": "xSAz3pspFNsm"
      },
      "outputs": [],
      "source": [
        "if upload_to_HF is True:\n",
        "\n",
        "  # Upload\n",
        "  commit_message = f\"'model_tokenizer'_{timestamp}\"\n",
        "\n",
        "  tokenizer.push_to_hub(repo_id, commit_message=commit_message)  # commit_message as named parameter\n",
        "  model.push_to_hub(    repo_id, commit_message=commit_message)  # commit_message as named parameter\n",
        "\n",
        "  print(f\"tokenizer and model successfully uploaded to HF Hub at {repo_id}\")\n",
        "\n",
        "  # Check\n",
        "  def check_upload(repo_id):\n",
        "    print()\n",
        "    print(\"Tokenizer\")\n",
        "    tokenizer = LongformerTokenizerFast.from_pretrained(repo_id)\n",
        "    print()\n",
        "    print(\"Model\")\n",
        "    model = LongformerForSequenceClassification.from_pretrained(repo_id)\n",
        "    print()\n",
        "\n",
        "    inputs = tokenizer(\"Hello, my dog is cute\", return_tensors=\"pt\", truncation=True, padding=True)\n",
        "    outputs = model(**inputs)\n",
        "\n",
        "    print(f\"outputs: {type(outputs)} {outputs.keys()}\\n{outputs}\")\n",
        "\n",
        "  # To check if the upload was successful, download the tokenizer and the model\n",
        "  check_upload(repo_id)"
      ]
    },
    {
      "cell_type": "code",
      "execution_count": null,
      "metadata": {
        "id": "vvh_jDvdBt26"
      },
      "outputs": [],
      "source": [
        "print(\"It's the end\")"
      ]
    },
    {
      "cell_type": "code",
      "source": [
        "raise Exception(\"I stop here\")"
      ],
      "metadata": {
        "id": "Q9ThLZFflK7v"
      },
      "execution_count": null,
      "outputs": []
    },
    {
      "cell_type": "markdown",
      "source": [
        "==========================================================================================================="
      ],
      "metadata": {
        "id": "-9CetqX9zAM3"
      }
    },
    {
      "cell_type": "code",
      "source": [
        "import matplotlib.pyplot as plt\n",
        "import numpy as np\n",
        "\n",
        "# Data from your training results\n",
        "epochs = np.arange(1, 9)\n",
        "training_loss = [0.3122, 0.2897, 0.2665, 0.2466, 0.2244, 0.2223, 0.2202, 0.2077]\n",
        "validation_loss = [0.303785, 0.293599, 0.278830, 0.275663, 0.280968, 0.280640, 0.279608, 0.282026]\n",
        "f1_score = [0.865113, 0.871222, 0.875554, 0.880279, 0.879128, 0.878554, 0.879872, 0.877893]\n",
        "\n",
        "# Plot Loss\n",
        "plt.figure(figsize=(10, 4))\n",
        "plt.subplot(1, 2, 1)\n",
        "plt.plot(epochs, training_loss, label='Training Loss', marker='o')\n",
        "plt.plot(epochs, validation_loss, label='Validation Loss', marker='s')\n",
        "plt.xlabel('Epochs')\n",
        "plt.ylabel('Loss')\n",
        "plt.title('Training & Validation Loss')\n",
        "plt.legend()\n",
        "plt.grid()\n",
        "\n",
        "# Plot F1 Score\n",
        "plt.subplot(1, 2, 2)\n",
        "plt.plot(epochs, f1_score, label='F1 Score', marker='o', color='green')\n",
        "plt.xlabel('Epochs')\n",
        "plt.ylabel('F1 Score')\n",
        "plt.title('F1 Score over Epochs')\n",
        "plt.legend()\n",
        "plt.grid()\n",
        "\n",
        "plt.tight_layout()\n",
        "plt.show()\n"
      ],
      "metadata": {
        "id": "P5BOwuD1RnQe"
      },
      "execution_count": null,
      "outputs": []
    },
    {
      "cell_type": "code",
      "execution_count": null,
      "metadata": {
        "id": "AVn29oBT2n0k"
      },
      "outputs": [],
      "source": [
        "example = datasetDict['test'][0]\n",
        "print(f\"datasetDict['test'][0]: {type(example)} {example.keys()}\\n{example}\")"
      ]
    },
    {
      "cell_type": "code",
      "execution_count": null,
      "metadata": {
        "id": "spiVOeMhz6Ku"
      },
      "outputs": [],
      "source": [
        "inputs = tokenizer(\n",
        "    example['text'],\n",
        "    truncation     = True,\n",
        "    padding        = 'max_length',\n",
        "    max_length     = max_length,\n",
        "    return_tensors = 'pt'\n",
        ")"
      ]
    },
    {
      "cell_type": "code",
      "source": [
        "with torch.no_grad():  # Disable gradient calculation during prediction\n",
        "    outputs = model(\n",
        "        input_ids=inputs.input_ids.to(device),\n",
        "        attention_mask=inputs.attention_mask.to(device)\n",
        "    )\n"
      ],
      "metadata": {
        "id": "_2U-0iYO0LWf"
      },
      "execution_count": null,
      "outputs": []
    },
    {
      "cell_type": "code",
      "source": [
        "probs = torch.sigmoid(outputs.logits)\n"
      ],
      "metadata": {
        "id": "u-VuKUM10dte"
      },
      "execution_count": null,
      "outputs": []
    },
    {
      "cell_type": "code",
      "source": [
        "best_thresholds = [0.4, 0.3, 0.3, 0.3, 0.4, 0.5]\n",
        "preds = np.zeros_like(probs)  # Initialize predictions array\n",
        "for label_idx in range(num_labels):\n",
        "  preds[:, label_idx] = (probs[:, label_idx] > best_thresholds[label_idx])  #.astype(int)"
      ],
      "metadata": {
        "id": "pMOj7NB11CH8"
      },
      "execution_count": null,
      "outputs": []
    },
    {
      "cell_type": "code",
      "source": [
        "print(f\"probs: {type(probs)} shape={probs.shape}\\n{probs}\")\n",
        "print(f\"preds: {type(preds)} shape={preds.shape}\\n{preds}\")"
      ],
      "metadata": {
        "id": "ICCj8Hm3i_GP"
      },
      "execution_count": null,
      "outputs": []
    },
    {
      "cell_type": "code",
      "source": [
        "print(f\"labels: {type(labels)} {len(labels)}\\n{labels}\")\n",
        "# '390': False, '135': False, '136': True, '137': True, '138': True, '139': False}"
      ],
      "metadata": {
        "id": "TiCmBf-kjcfc"
      },
      "execution_count": null,
      "outputs": []
    },
    {
      "cell_type": "code",
      "source": [
        "%%capture\n",
        "\n",
        "def tune_thresholds(true_labels, probs, id2label):\n",
        "  \"\"\"\n",
        "  Tune thresholds for each label to maximize F1 alone, as F1 balances precision and recall into a single metric.\n",
        "\n",
        "  Args:\n",
        "    true_labels: actual labels for the data                                      (numpy array of shape (num_samples, num_labels))\n",
        "    probs      : predicted probabilities                                         (numpy array of shape (num_samples, num_labels))\n",
        "    id2label   : dictionary mapping label indices (int) to label names (string)\n",
        "\n",
        "  Returns:\n",
        "    best_thresholds: best threshold for each label                                                      (numpy array of shape (num_labels,))\n",
        "    best_metrics   : dictionary of best F1, precision_for_best_f1 and recall_for_best_f1 for each label (dictionary of numpy arrays)\n",
        "  \"\"\"\n",
        "  thresholds      = np.linspace(0.1, 0.9, 9)\n",
        "  best_thresholds = np.zeros(len(id2label))\n",
        "  best_metrics    = {label: {'f1': 0.0, 'precision': 0.0, 'recall': 0.0} for label in id2label.values()}\n",
        "\n",
        "  for label_idx, label in id2label.items():\n",
        "    for threshold in thresholds:\n",
        "      pred                     = (probs[:, label_idx] > threshold).astype(int)\n",
        "      precision, recall, f1, _ = precision_recall_fscore_support(true_labels[:, label_idx], pred, average='binary', zero_division=0)\n",
        "      if f1 > best_metrics[label]['f1']:\n",
        "        best_thresholds[label_idx]       = threshold\n",
        "        best_metrics[label]['f1']        = f1\n",
        "        best_metrics[label]['precision'] = precision\n",
        "        best_metrics[label]['recall']    = recall\n",
        "\n",
        "  print(\"==== tune_thresholds ====\")\n",
        "  print(f\"best_thresholds: {type(best_thresholds)} shape={best_thresholds.shape}\\n{best_thresholds}\")\n",
        "  print(f\"best_metrics   : {type(best_metrics)}    len={len(best_metrics)}      \\n{json.dumps(best_metrics, indent=4)}\")\n",
        "  print(\"=========================\")\n",
        "  print()\n",
        "\n",
        "  return best_thresholds, best_metrics"
      ],
      "metadata": {
        "id": "jJFDabZ41cbP"
      },
      "execution_count": null,
      "outputs": []
    },
    {
      "cell_type": "code",
      "source": [
        "%%capture\n",
        "\n",
        "def compute_metrics_with_threshold_SAV(probs, label_ids, thresholds, id2label):\n",
        "\n",
        "  #Compute metrics during evaluation or test, by applying tuned thresholds\n",
        "\n",
        "  #logits  = eval_preds.predictions\n",
        "  #labels  = eval_preds.label_ids\n",
        "  #sigmoid = torch.nn.Sigmoid  # Sigmoid or numpy?\n",
        "  #probs   = sigmoid(logits).cpu().numpy()\n",
        "  preds   = np.zeros_like(probs)\n",
        "\n",
        "  if threshold_tuning:\n",
        "    # Apply per-label tuned threshold\n",
        "    for label_idx in id2label.keys():\n",
        "        preds[:, label_idx] = (probs[:, label_idx] > thresholds[label_idx]).astype(int)\n",
        "  else:\n",
        "    # threhsolds = None, apply a fixed threshold to all labels\n",
        "    for label_idx in id2label.keys():\n",
        "        preds[:, label_idx] = (probs[:, label_idx] > threshold).astype(int)\n",
        "\n",
        "  # Compute metrics\n",
        "  f1                    = f1_score               (label_ids, preds, average='micro')\n",
        "  precision             = precision_score        (label_ids, preds, average='micro')\n",
        "  recall                = recall_score           (label_ids, preds, average='micro')\n",
        "  accuracy              = accuracy_score         (label_ids, preds)\n",
        "  roc_auc               = roc_auc_score          (label_ids, probs, average='micro')  # multi_class=\"ovr\" <<<<<<<<<<<<<<<<<<<<<<<<<<<<<<<<<<<\n",
        "  precision_recall_auc  = average_precision_score(label_ids, probs, average='micro')\n",
        "\n",
        "  # Use id2label for target_names\n",
        "  report = classification_report(label_ids, preds, target_names=id2label.values(), zero_division=0)\n",
        "\n",
        "  if threshold_tuning:\n",
        "    _thresholds = thresholds.tolist()\n",
        "  else:\n",
        "    _thresholds = threshold\n",
        "\n",
        "  metrics = {\n",
        "      'f1'                   : f1,\n",
        "      'precision'            : precision,\n",
        "      'recall'               : recall,\n",
        "      'accuracy'             : accuracy,\n",
        "      'roc_auc'              : roc_auc,\n",
        "      'precision_recall_auc' : precision_recall_auc,\n",
        "      'thresholds'           : _thresholds,\n",
        "      'classification_report': report\n",
        "  }\n",
        "\n",
        "  return metrics"
      ],
      "metadata": {
        "id": "JwTLn73u1n6m"
      },
      "execution_count": null,
      "outputs": []
    },
    {
      "cell_type": "code",
      "source": [
        "%%capture\n",
        "\n",
        "def compute_metrics_with_threshold_OLD(probs, label_ids, thresholds, id2label):\n",
        "    \"\"\"\n",
        "    Compute metrics during evaluation or test, by applying tuned thresholds\n",
        "\n",
        "    average:\n",
        "    - 'micro'   : gives more weight to frequent labels     → best for imbalanced datasets where frequent labels are more important\n",
        "    - 'macro'   : treats all labels equally                → best when you care about rare labels as much as frequent ones\n",
        "    - 'weighted': like macro but considers label frequency → best if you want a compromise between macro and micro\n",
        "\n",
        "    - 'macro' or 'weighted' AUC is often best because AUC isn't as affected by class imbalance as F1/Precision/Recall\n",
        "    - 'macro'      AUC: usually the best because it treats all labels equally, avoiding the dominance of frequent labels\n",
        "    - 'weighted'   AUC: similar to macro but considers label frequency\n",
        "    - 'macro'   PR AUC: best for imbalanced datasets because it treats rare labels fairly\n",
        "    - 'weighted PR AUC: also good, but slightly biased toward frequent labels\n",
        "\n",
        "    PR AUC is better than ROC AUC when you care about positive examples in imbalanced data\n",
        "    \"\"\"\n",
        "    average = 'macro'\n",
        "    preds   = np.zeros_like(probs)\n",
        "\n",
        "    # Apply per-label tuned threshold\n",
        "    for label_idx in id2label.keys():\n",
        "        preds[:, label_idx] = (probs[:, label_idx] > thresholds[label_idx]).astype(int)\n",
        "\n",
        "    # Compute metrics\n",
        "    f1        = f1_score       (label_ids, preds, average=average)\n",
        "    precision = precision_score(label_ids, preds, average=average)\n",
        "    recall    = recall_score   (label_ids, preds, average=average)\n",
        "    accuracy  = accuracy_score (label_ids, preds)\n",
        "\n",
        "    # Compute AUC scores with error handling\n",
        "    try:\n",
        "        roc_auc              = roc_auc_score          (label_ids, probs, average=average)\n",
        "    except ValueError:\n",
        "        roc_auc              = 0.0\n",
        "\n",
        "    try:\n",
        "        precision_recall_auc = average_precision_score(label_ids, probs, average=average)\n",
        "    except ValueError:\n",
        "        precision_recall_auc = 0.0\n",
        "\n",
        "    # Compute per-class metrics (average = None)\n",
        "    per_class_f1        = f1_score       (label_ids, preds, average=None)\n",
        "    per_class_precision = precision_score(label_ids, preds, average=None)\n",
        "    per_class_recall    = recall_score   (label_ids, preds, average=None)\n",
        "\n",
        "    # Generate classification report\n",
        "    report = classification_report(label_ids, preds, target_names=id2label.values(), zero_division=0)\n",
        "\n",
        "    # Store metrics\n",
        "    metrics = {\n",
        "        'f1'                   : f1,\n",
        "        'precision'            : precision,\n",
        "        'recall'               : recall,\n",
        "        'accuracy'             : accuracy,\n",
        "        'roc_auc'              : roc_auc,\n",
        "        'precision_recall_auc' : precision_recall_auc,\n",
        "        'thresholds'           : thresholds.tolist(),\n",
        "        'classification_report': report,\n",
        "        'per_class_f1'         : per_class_f1,\n",
        "        'per_class_precision'  : per_class_precision,\n",
        "        'per_class_recall'     : per_class_recall\n",
        "    }\n",
        "\n",
        "    return metrics"
      ],
      "metadata": {
        "id": "HBsBg2vL1y6s"
      },
      "execution_count": null,
      "outputs": []
    },
    {
      "cell_type": "code",
      "source": [
        "%%capture\n",
        "\n",
        "def predict_with_optimized_thresholds_cuda(trainer, dataset, threshold_tuning=False, thresholds=None, threshold=threshold):\n",
        "    \"\"\"\n",
        "    Predicts using trainer.predict(), with optional threshold tuning on GPU\n",
        "\n",
        "    Parameters:\n",
        "    - trainer         : Hugging Face Trainer or CustomTrainer instance\n",
        "    - dataset         : dataset to predict on\n",
        "    - id2label        : dictionary mapping label indices (int) to label names (string)\n",
        "    - threshold_tuning: boolean to enable thresholds tuning per class (if evaluation, True, if prediction, False)\n",
        "    - thresholds      : if evaluation, custom thresholds, if prediction, tuned thresholds (from evaluation)\n",
        "\n",
        "    Returns:\n",
        "    - best_thresholds (if threshold_tuning=True): optimized threshold for each label\n",
        "    - best_metrics                              : computed with tuned thresholds whether for evaluation or prediction\n",
        "\n",
        "    - metrics (if threshold_tuning=False): computed with fixed thresholds\n",
        "    - metrics (if threshold_tuning=True): computed with tuned thresholds\n",
        "    - predictions: final binary predictions\n",
        "    - label_ids  : ground true labels from the dataset\n",
        "    - best_thresholds (if threshold_tuning=True): optimized threshold per class\n",
        "    \"\"\"\n",
        "    device = torch.device(\"cuda\" if torch.cuda.is_available() else \"cpu\")  # Auto-detect GPU\n",
        "\n",
        "    # Predict\n",
        "    predictions_output = trainer.predict(dataset)        # <class 'transformers.trainer_utils.PredictionOutput'> len   = 3\n",
        "    predictions_np     = predictions_output.predictions  # <class 'numpy.ndarray'>                               shape = (2400, 6)\n",
        "    label_ids_np       = predictions_output.label_ids    # <class 'numpy.ndarray'>                               shape = (2400, 6)\n",
        "    metrics_dict       = predictions_output.metrics      # <class 'dict'> (= trainer.evaluate results)           len   = 10\n",
        "\n",
        "    print(\"==== predictions_output ====\")\n",
        "    print(f\"predictions_output.predictions: {type(predictions_np)} shape={predictions_np.shape} \\n{predictions_np}\")\n",
        "    print(f\"predictions_output.label_ids  : {type(label_ids_np)}   shape={label_ids_np.shape}   \\n{label_ids_np}\")\n",
        "    print(f\"predictions_output.metrics    : {type(metrics_dict)}   len={len(metrics_dict)}      \\n{json.dumps(metrics_dict, indent=4)}\")\n",
        "\n",
        "    # Convert NumPy arrays to PyTorch tensors (torch.from_numpy() keeps the NumPy array's memory layout, while torch.tensor() creates a new copy)\n",
        "    logits      = torch.tensor(predictions_np, device=device)  # Move to GPU\n",
        "    true_labels = torch.tensor(label_ids_np, device=device)    # Move to GPU\n",
        "\n",
        "    print(f\"logits     : {type(logits)}      shape={logits.shape}     \\n{logits}\")\n",
        "    print(f\"true_labels: {type(true_labels)} shape={true_labels.shape}\\n{true_labels}\")\n",
        "\n",
        "    # Convert logits to probabilities using PyTorch (on GPU)\n",
        "    probs = torch.sigmoid(logits)  # <class 'torch.Tensor'>  shape = (1200, 6)\n",
        "\n",
        "    print(f\"probs: {type(probs)} shape={probs.shape}\\n{probs}\")\n",
        "    print(\"============================\")\n",
        "    print()\n",
        "\n",
        "    num_labels = probs.shape[1]\n",
        "\n",
        "    if threshold_tuning:\n",
        "        best_thresholds = torch.full((num_labels,), threshold, device=device, dtype=torch.float32)  # Default to threshold\n",
        "\n",
        "        # Define candidate thresholds (on GPU)\n",
        "        threshold_candidates = torch.linspace(0.05, 0.95, 19, device=device)\n",
        "\n",
        "        for label_idx in range(num_labels):\n",
        "            best_f1 = 0\n",
        "            for threshold in threshold_candidates:\n",
        "                preds = (probs[:, label_idx] > threshold).int()\n",
        "\n",
        "                # Convert to CPU for sklearn\n",
        "                precision, recall, f1, _ = precision_recall_fscore_support(\n",
        "                    true_labels[:, label_idx].cpu().numpy(),\n",
        "                    preds.cpu().numpy(),\n",
        "                    average='binary',\n",
        "                    zero_division=0\n",
        "                )\n",
        "\n",
        "                if f1 > best_f1:\n",
        "                    best_f1                    = f1\n",
        "                    best_thresholds[label_idx] = threshold  # Store best threshold\n",
        "\n",
        "        return probs, true_labels, best_thresholds\n",
        "\n",
        "    # Apply provided thresholds (or default to 0.5)\n",
        "    if thresholds is None:\n",
        "        thresholds = torch.full((num_labels,), 0.5, device=device)  # Default to 0.5\n",
        "    else:\n",
        "        thresholds = torch.tensor(thresholds, device=device)  # Move thresholds to GPU\n",
        "\n",
        "    preds = (probs > thresholds).int()\n",
        "\n",
        "    return preds, true_labels, None"
      ],
      "metadata": {
        "id": "3OYJ-0tP2E7c"
      },
      "execution_count": null,
      "outputs": []
    }
  ],
  "metadata": {
    "colab": {
      "provenance": [],
      "machine_shape": "hm",
      "gpuType": "A100",
      "include_colab_link": true
    },
    "jupytext": {
      "formats": "ipynb,py:nomarker"
    },
    "kernelspec": {
      "display_name": "Python 3",
      "name": "python3"
    },
    "language_info": {
      "codemirror_mode": {
        "name": "ipython",
        "version": 3
      },
      "file_extension": ".py",
      "mimetype": "text/x-python",
      "name": "python",
      "nbconvert_exporter": "python",
      "pygments_lexer": "ipython3",
      "version": "3.12.3"
    },
    "widgets": {
      "application/vnd.jupyter.widget-state+json": {
        "97708cddd6f74dd1a5dddf82dc86d8ad": {
          "model_module": "@jupyter-widgets/controls",
          "model_name": "HBoxModel",
          "model_module_version": "1.5.0",
          "state": {
            "_dom_classes": [],
            "_model_module": "@jupyter-widgets/controls",
            "_model_module_version": "1.5.0",
            "_model_name": "HBoxModel",
            "_view_count": null,
            "_view_module": "@jupyter-widgets/controls",
            "_view_module_version": "1.5.0",
            "_view_name": "HBoxView",
            "box_style": "",
            "children": [
              "IPY_MODEL_99daeeb794684119bf90f4306f04cd6e",
              "IPY_MODEL_937836fed91b4afb82c8834d573484ba",
              "IPY_MODEL_fa7ff1a67de94b33a603f8df0ffd2971"
            ],
            "layout": "IPY_MODEL_ea5049e9aaa84f8da15c9a33448bfa67"
          }
        },
        "99daeeb794684119bf90f4306f04cd6e": {
          "model_module": "@jupyter-widgets/controls",
          "model_name": "HTMLModel",
          "model_module_version": "1.5.0",
          "state": {
            "_dom_classes": [],
            "_model_module": "@jupyter-widgets/controls",
            "_model_module_version": "1.5.0",
            "_model_name": "HTMLModel",
            "_view_count": null,
            "_view_module": "@jupyter-widgets/controls",
            "_view_module_version": "1.5.0",
            "_view_name": "HTMLView",
            "description": "",
            "description_tooltip": null,
            "layout": "IPY_MODEL_45ac7d2f514f4224b4d343e2ba3eeeac",
            "placeholder": "​",
            "style": "IPY_MODEL_b31013ac6eb64570abf0adec0af23ba1",
            "value": "vocab.json: 100%"
          }
        },
        "937836fed91b4afb82c8834d573484ba": {
          "model_module": "@jupyter-widgets/controls",
          "model_name": "FloatProgressModel",
          "model_module_version": "1.5.0",
          "state": {
            "_dom_classes": [],
            "_model_module": "@jupyter-widgets/controls",
            "_model_module_version": "1.5.0",
            "_model_name": "FloatProgressModel",
            "_view_count": null,
            "_view_module": "@jupyter-widgets/controls",
            "_view_module_version": "1.5.0",
            "_view_name": "ProgressView",
            "bar_style": "success",
            "description": "",
            "description_tooltip": null,
            "layout": "IPY_MODEL_a4de6cd2e19f4b9894ec76dd98848b4c",
            "max": 898823,
            "min": 0,
            "orientation": "horizontal",
            "style": "IPY_MODEL_75b084e9933d4fa7a090571f517e8205",
            "value": 898823
          }
        },
        "fa7ff1a67de94b33a603f8df0ffd2971": {
          "model_module": "@jupyter-widgets/controls",
          "model_name": "HTMLModel",
          "model_module_version": "1.5.0",
          "state": {
            "_dom_classes": [],
            "_model_module": "@jupyter-widgets/controls",
            "_model_module_version": "1.5.0",
            "_model_name": "HTMLModel",
            "_view_count": null,
            "_view_module": "@jupyter-widgets/controls",
            "_view_module_version": "1.5.0",
            "_view_name": "HTMLView",
            "description": "",
            "description_tooltip": null,
            "layout": "IPY_MODEL_a121406855494ad9b438300a232cc54d",
            "placeholder": "​",
            "style": "IPY_MODEL_219868d41d0b428c92d83211eae692c5",
            "value": " 899k/899k [00:00&lt;00:00, 2.05MB/s]"
          }
        },
        "ea5049e9aaa84f8da15c9a33448bfa67": {
          "model_module": "@jupyter-widgets/base",
          "model_name": "LayoutModel",
          "model_module_version": "1.2.0",
          "state": {
            "_model_module": "@jupyter-widgets/base",
            "_model_module_version": "1.2.0",
            "_model_name": "LayoutModel",
            "_view_count": null,
            "_view_module": "@jupyter-widgets/base",
            "_view_module_version": "1.2.0",
            "_view_name": "LayoutView",
            "align_content": null,
            "align_items": null,
            "align_self": null,
            "border": null,
            "bottom": null,
            "display": null,
            "flex": null,
            "flex_flow": null,
            "grid_area": null,
            "grid_auto_columns": null,
            "grid_auto_flow": null,
            "grid_auto_rows": null,
            "grid_column": null,
            "grid_gap": null,
            "grid_row": null,
            "grid_template_areas": null,
            "grid_template_columns": null,
            "grid_template_rows": null,
            "height": null,
            "justify_content": null,
            "justify_items": null,
            "left": null,
            "margin": null,
            "max_height": null,
            "max_width": null,
            "min_height": null,
            "min_width": null,
            "object_fit": null,
            "object_position": null,
            "order": null,
            "overflow": null,
            "overflow_x": null,
            "overflow_y": null,
            "padding": null,
            "right": null,
            "top": null,
            "visibility": null,
            "width": null
          }
        },
        "45ac7d2f514f4224b4d343e2ba3eeeac": {
          "model_module": "@jupyter-widgets/base",
          "model_name": "LayoutModel",
          "model_module_version": "1.2.0",
          "state": {
            "_model_module": "@jupyter-widgets/base",
            "_model_module_version": "1.2.0",
            "_model_name": "LayoutModel",
            "_view_count": null,
            "_view_module": "@jupyter-widgets/base",
            "_view_module_version": "1.2.0",
            "_view_name": "LayoutView",
            "align_content": null,
            "align_items": null,
            "align_self": null,
            "border": null,
            "bottom": null,
            "display": null,
            "flex": null,
            "flex_flow": null,
            "grid_area": null,
            "grid_auto_columns": null,
            "grid_auto_flow": null,
            "grid_auto_rows": null,
            "grid_column": null,
            "grid_gap": null,
            "grid_row": null,
            "grid_template_areas": null,
            "grid_template_columns": null,
            "grid_template_rows": null,
            "height": null,
            "justify_content": null,
            "justify_items": null,
            "left": null,
            "margin": null,
            "max_height": null,
            "max_width": null,
            "min_height": null,
            "min_width": null,
            "object_fit": null,
            "object_position": null,
            "order": null,
            "overflow": null,
            "overflow_x": null,
            "overflow_y": null,
            "padding": null,
            "right": null,
            "top": null,
            "visibility": null,
            "width": null
          }
        },
        "b31013ac6eb64570abf0adec0af23ba1": {
          "model_module": "@jupyter-widgets/controls",
          "model_name": "DescriptionStyleModel",
          "model_module_version": "1.5.0",
          "state": {
            "_model_module": "@jupyter-widgets/controls",
            "_model_module_version": "1.5.0",
            "_model_name": "DescriptionStyleModel",
            "_view_count": null,
            "_view_module": "@jupyter-widgets/base",
            "_view_module_version": "1.2.0",
            "_view_name": "StyleView",
            "description_width": ""
          }
        },
        "a4de6cd2e19f4b9894ec76dd98848b4c": {
          "model_module": "@jupyter-widgets/base",
          "model_name": "LayoutModel",
          "model_module_version": "1.2.0",
          "state": {
            "_model_module": "@jupyter-widgets/base",
            "_model_module_version": "1.2.0",
            "_model_name": "LayoutModel",
            "_view_count": null,
            "_view_module": "@jupyter-widgets/base",
            "_view_module_version": "1.2.0",
            "_view_name": "LayoutView",
            "align_content": null,
            "align_items": null,
            "align_self": null,
            "border": null,
            "bottom": null,
            "display": null,
            "flex": null,
            "flex_flow": null,
            "grid_area": null,
            "grid_auto_columns": null,
            "grid_auto_flow": null,
            "grid_auto_rows": null,
            "grid_column": null,
            "grid_gap": null,
            "grid_row": null,
            "grid_template_areas": null,
            "grid_template_columns": null,
            "grid_template_rows": null,
            "height": null,
            "justify_content": null,
            "justify_items": null,
            "left": null,
            "margin": null,
            "max_height": null,
            "max_width": null,
            "min_height": null,
            "min_width": null,
            "object_fit": null,
            "object_position": null,
            "order": null,
            "overflow": null,
            "overflow_x": null,
            "overflow_y": null,
            "padding": null,
            "right": null,
            "top": null,
            "visibility": null,
            "width": null
          }
        },
        "75b084e9933d4fa7a090571f517e8205": {
          "model_module": "@jupyter-widgets/controls",
          "model_name": "ProgressStyleModel",
          "model_module_version": "1.5.0",
          "state": {
            "_model_module": "@jupyter-widgets/controls",
            "_model_module_version": "1.5.0",
            "_model_name": "ProgressStyleModel",
            "_view_count": null,
            "_view_module": "@jupyter-widgets/base",
            "_view_module_version": "1.2.0",
            "_view_name": "StyleView",
            "bar_color": null,
            "description_width": ""
          }
        },
        "a121406855494ad9b438300a232cc54d": {
          "model_module": "@jupyter-widgets/base",
          "model_name": "LayoutModel",
          "model_module_version": "1.2.0",
          "state": {
            "_model_module": "@jupyter-widgets/base",
            "_model_module_version": "1.2.0",
            "_model_name": "LayoutModel",
            "_view_count": null,
            "_view_module": "@jupyter-widgets/base",
            "_view_module_version": "1.2.0",
            "_view_name": "LayoutView",
            "align_content": null,
            "align_items": null,
            "align_self": null,
            "border": null,
            "bottom": null,
            "display": null,
            "flex": null,
            "flex_flow": null,
            "grid_area": null,
            "grid_auto_columns": null,
            "grid_auto_flow": null,
            "grid_auto_rows": null,
            "grid_column": null,
            "grid_gap": null,
            "grid_row": null,
            "grid_template_areas": null,
            "grid_template_columns": null,
            "grid_template_rows": null,
            "height": null,
            "justify_content": null,
            "justify_items": null,
            "left": null,
            "margin": null,
            "max_height": null,
            "max_width": null,
            "min_height": null,
            "min_width": null,
            "object_fit": null,
            "object_position": null,
            "order": null,
            "overflow": null,
            "overflow_x": null,
            "overflow_y": null,
            "padding": null,
            "right": null,
            "top": null,
            "visibility": null,
            "width": null
          }
        },
        "219868d41d0b428c92d83211eae692c5": {
          "model_module": "@jupyter-widgets/controls",
          "model_name": "DescriptionStyleModel",
          "model_module_version": "1.5.0",
          "state": {
            "_model_module": "@jupyter-widgets/controls",
            "_model_module_version": "1.5.0",
            "_model_name": "DescriptionStyleModel",
            "_view_count": null,
            "_view_module": "@jupyter-widgets/base",
            "_view_module_version": "1.2.0",
            "_view_name": "StyleView",
            "description_width": ""
          }
        },
        "dcd8f528b2c44f4ea73da1044efdf635": {
          "model_module": "@jupyter-widgets/controls",
          "model_name": "HBoxModel",
          "model_module_version": "1.5.0",
          "state": {
            "_dom_classes": [],
            "_model_module": "@jupyter-widgets/controls",
            "_model_module_version": "1.5.0",
            "_model_name": "HBoxModel",
            "_view_count": null,
            "_view_module": "@jupyter-widgets/controls",
            "_view_module_version": "1.5.0",
            "_view_name": "HBoxView",
            "box_style": "",
            "children": [
              "IPY_MODEL_6493310eef20471da36fa5a2327ca8a8",
              "IPY_MODEL_43e9f17ea1724840bbf3ba51f0fefabd",
              "IPY_MODEL_cb22b0a5258c4cc8b4b8d7c966f6e4aa"
            ],
            "layout": "IPY_MODEL_909f71a7fa764be5999b2e1673fa8e0f"
          }
        },
        "6493310eef20471da36fa5a2327ca8a8": {
          "model_module": "@jupyter-widgets/controls",
          "model_name": "HTMLModel",
          "model_module_version": "1.5.0",
          "state": {
            "_dom_classes": [],
            "_model_module": "@jupyter-widgets/controls",
            "_model_module_version": "1.5.0",
            "_model_name": "HTMLModel",
            "_view_count": null,
            "_view_module": "@jupyter-widgets/controls",
            "_view_module_version": "1.5.0",
            "_view_name": "HTMLView",
            "description": "",
            "description_tooltip": null,
            "layout": "IPY_MODEL_c7369d42f4784d08bc8d17bb1e80e8a3",
            "placeholder": "​",
            "style": "IPY_MODEL_4f3676cef2b440298fc87706e8696f4e",
            "value": "merges.txt: 100%"
          }
        },
        "43e9f17ea1724840bbf3ba51f0fefabd": {
          "model_module": "@jupyter-widgets/controls",
          "model_name": "FloatProgressModel",
          "model_module_version": "1.5.0",
          "state": {
            "_dom_classes": [],
            "_model_module": "@jupyter-widgets/controls",
            "_model_module_version": "1.5.0",
            "_model_name": "FloatProgressModel",
            "_view_count": null,
            "_view_module": "@jupyter-widgets/controls",
            "_view_module_version": "1.5.0",
            "_view_name": "ProgressView",
            "bar_style": "success",
            "description": "",
            "description_tooltip": null,
            "layout": "IPY_MODEL_52f6420259b243ae90e0ddd72af83761",
            "max": 456318,
            "min": 0,
            "orientation": "horizontal",
            "style": "IPY_MODEL_0123dec5d8594fa5884b5521ac470311",
            "value": 456318
          }
        },
        "cb22b0a5258c4cc8b4b8d7c966f6e4aa": {
          "model_module": "@jupyter-widgets/controls",
          "model_name": "HTMLModel",
          "model_module_version": "1.5.0",
          "state": {
            "_dom_classes": [],
            "_model_module": "@jupyter-widgets/controls",
            "_model_module_version": "1.5.0",
            "_model_name": "HTMLModel",
            "_view_count": null,
            "_view_module": "@jupyter-widgets/controls",
            "_view_module_version": "1.5.0",
            "_view_name": "HTMLView",
            "description": "",
            "description_tooltip": null,
            "layout": "IPY_MODEL_d8f8ea6884be4f568e16847be6f18c99",
            "placeholder": "​",
            "style": "IPY_MODEL_3b81ee25fc59451d8cabcffbf7995ecd",
            "value": " 456k/456k [00:00&lt;00:00, 41.2MB/s]"
          }
        },
        "909f71a7fa764be5999b2e1673fa8e0f": {
          "model_module": "@jupyter-widgets/base",
          "model_name": "LayoutModel",
          "model_module_version": "1.2.0",
          "state": {
            "_model_module": "@jupyter-widgets/base",
            "_model_module_version": "1.2.0",
            "_model_name": "LayoutModel",
            "_view_count": null,
            "_view_module": "@jupyter-widgets/base",
            "_view_module_version": "1.2.0",
            "_view_name": "LayoutView",
            "align_content": null,
            "align_items": null,
            "align_self": null,
            "border": null,
            "bottom": null,
            "display": null,
            "flex": null,
            "flex_flow": null,
            "grid_area": null,
            "grid_auto_columns": null,
            "grid_auto_flow": null,
            "grid_auto_rows": null,
            "grid_column": null,
            "grid_gap": null,
            "grid_row": null,
            "grid_template_areas": null,
            "grid_template_columns": null,
            "grid_template_rows": null,
            "height": null,
            "justify_content": null,
            "justify_items": null,
            "left": null,
            "margin": null,
            "max_height": null,
            "max_width": null,
            "min_height": null,
            "min_width": null,
            "object_fit": null,
            "object_position": null,
            "order": null,
            "overflow": null,
            "overflow_x": null,
            "overflow_y": null,
            "padding": null,
            "right": null,
            "top": null,
            "visibility": null,
            "width": null
          }
        },
        "c7369d42f4784d08bc8d17bb1e80e8a3": {
          "model_module": "@jupyter-widgets/base",
          "model_name": "LayoutModel",
          "model_module_version": "1.2.0",
          "state": {
            "_model_module": "@jupyter-widgets/base",
            "_model_module_version": "1.2.0",
            "_model_name": "LayoutModel",
            "_view_count": null,
            "_view_module": "@jupyter-widgets/base",
            "_view_module_version": "1.2.0",
            "_view_name": "LayoutView",
            "align_content": null,
            "align_items": null,
            "align_self": null,
            "border": null,
            "bottom": null,
            "display": null,
            "flex": null,
            "flex_flow": null,
            "grid_area": null,
            "grid_auto_columns": null,
            "grid_auto_flow": null,
            "grid_auto_rows": null,
            "grid_column": null,
            "grid_gap": null,
            "grid_row": null,
            "grid_template_areas": null,
            "grid_template_columns": null,
            "grid_template_rows": null,
            "height": null,
            "justify_content": null,
            "justify_items": null,
            "left": null,
            "margin": null,
            "max_height": null,
            "max_width": null,
            "min_height": null,
            "min_width": null,
            "object_fit": null,
            "object_position": null,
            "order": null,
            "overflow": null,
            "overflow_x": null,
            "overflow_y": null,
            "padding": null,
            "right": null,
            "top": null,
            "visibility": null,
            "width": null
          }
        },
        "4f3676cef2b440298fc87706e8696f4e": {
          "model_module": "@jupyter-widgets/controls",
          "model_name": "DescriptionStyleModel",
          "model_module_version": "1.5.0",
          "state": {
            "_model_module": "@jupyter-widgets/controls",
            "_model_module_version": "1.5.0",
            "_model_name": "DescriptionStyleModel",
            "_view_count": null,
            "_view_module": "@jupyter-widgets/base",
            "_view_module_version": "1.2.0",
            "_view_name": "StyleView",
            "description_width": ""
          }
        },
        "52f6420259b243ae90e0ddd72af83761": {
          "model_module": "@jupyter-widgets/base",
          "model_name": "LayoutModel",
          "model_module_version": "1.2.0",
          "state": {
            "_model_module": "@jupyter-widgets/base",
            "_model_module_version": "1.2.0",
            "_model_name": "LayoutModel",
            "_view_count": null,
            "_view_module": "@jupyter-widgets/base",
            "_view_module_version": "1.2.0",
            "_view_name": "LayoutView",
            "align_content": null,
            "align_items": null,
            "align_self": null,
            "border": null,
            "bottom": null,
            "display": null,
            "flex": null,
            "flex_flow": null,
            "grid_area": null,
            "grid_auto_columns": null,
            "grid_auto_flow": null,
            "grid_auto_rows": null,
            "grid_column": null,
            "grid_gap": null,
            "grid_row": null,
            "grid_template_areas": null,
            "grid_template_columns": null,
            "grid_template_rows": null,
            "height": null,
            "justify_content": null,
            "justify_items": null,
            "left": null,
            "margin": null,
            "max_height": null,
            "max_width": null,
            "min_height": null,
            "min_width": null,
            "object_fit": null,
            "object_position": null,
            "order": null,
            "overflow": null,
            "overflow_x": null,
            "overflow_y": null,
            "padding": null,
            "right": null,
            "top": null,
            "visibility": null,
            "width": null
          }
        },
        "0123dec5d8594fa5884b5521ac470311": {
          "model_module": "@jupyter-widgets/controls",
          "model_name": "ProgressStyleModel",
          "model_module_version": "1.5.0",
          "state": {
            "_model_module": "@jupyter-widgets/controls",
            "_model_module_version": "1.5.0",
            "_model_name": "ProgressStyleModel",
            "_view_count": null,
            "_view_module": "@jupyter-widgets/base",
            "_view_module_version": "1.2.0",
            "_view_name": "StyleView",
            "bar_color": null,
            "description_width": ""
          }
        },
        "d8f8ea6884be4f568e16847be6f18c99": {
          "model_module": "@jupyter-widgets/base",
          "model_name": "LayoutModel",
          "model_module_version": "1.2.0",
          "state": {
            "_model_module": "@jupyter-widgets/base",
            "_model_module_version": "1.2.0",
            "_model_name": "LayoutModel",
            "_view_count": null,
            "_view_module": "@jupyter-widgets/base",
            "_view_module_version": "1.2.0",
            "_view_name": "LayoutView",
            "align_content": null,
            "align_items": null,
            "align_self": null,
            "border": null,
            "bottom": null,
            "display": null,
            "flex": null,
            "flex_flow": null,
            "grid_area": null,
            "grid_auto_columns": null,
            "grid_auto_flow": null,
            "grid_auto_rows": null,
            "grid_column": null,
            "grid_gap": null,
            "grid_row": null,
            "grid_template_areas": null,
            "grid_template_columns": null,
            "grid_template_rows": null,
            "height": null,
            "justify_content": null,
            "justify_items": null,
            "left": null,
            "margin": null,
            "max_height": null,
            "max_width": null,
            "min_height": null,
            "min_width": null,
            "object_fit": null,
            "object_position": null,
            "order": null,
            "overflow": null,
            "overflow_x": null,
            "overflow_y": null,
            "padding": null,
            "right": null,
            "top": null,
            "visibility": null,
            "width": null
          }
        },
        "3b81ee25fc59451d8cabcffbf7995ecd": {
          "model_module": "@jupyter-widgets/controls",
          "model_name": "DescriptionStyleModel",
          "model_module_version": "1.5.0",
          "state": {
            "_model_module": "@jupyter-widgets/controls",
            "_model_module_version": "1.5.0",
            "_model_name": "DescriptionStyleModel",
            "_view_count": null,
            "_view_module": "@jupyter-widgets/base",
            "_view_module_version": "1.2.0",
            "_view_name": "StyleView",
            "description_width": ""
          }
        },
        "82cc605bc33d452cb93abe0831799050": {
          "model_module": "@jupyter-widgets/controls",
          "model_name": "HBoxModel",
          "model_module_version": "1.5.0",
          "state": {
            "_dom_classes": [],
            "_model_module": "@jupyter-widgets/controls",
            "_model_module_version": "1.5.0",
            "_model_name": "HBoxModel",
            "_view_count": null,
            "_view_module": "@jupyter-widgets/controls",
            "_view_module_version": "1.5.0",
            "_view_name": "HBoxView",
            "box_style": "",
            "children": [
              "IPY_MODEL_c696744f8ac74d73909eda36bbd0d200",
              "IPY_MODEL_5ecab88b196a47c89331608c912f94de",
              "IPY_MODEL_cb3f899f35de4cd18e126c072662b63e"
            ],
            "layout": "IPY_MODEL_263fbe1e88d4487380efa4c91b1d88af"
          }
        },
        "c696744f8ac74d73909eda36bbd0d200": {
          "model_module": "@jupyter-widgets/controls",
          "model_name": "HTMLModel",
          "model_module_version": "1.5.0",
          "state": {
            "_dom_classes": [],
            "_model_module": "@jupyter-widgets/controls",
            "_model_module_version": "1.5.0",
            "_model_name": "HTMLModel",
            "_view_count": null,
            "_view_module": "@jupyter-widgets/controls",
            "_view_module_version": "1.5.0",
            "_view_name": "HTMLView",
            "description": "",
            "description_tooltip": null,
            "layout": "IPY_MODEL_bfd0c52ed63f464498879b2ad9abf859",
            "placeholder": "​",
            "style": "IPY_MODEL_61f8f31149104238b06f1f1c38186b54",
            "value": "tokenizer.json: 100%"
          }
        },
        "5ecab88b196a47c89331608c912f94de": {
          "model_module": "@jupyter-widgets/controls",
          "model_name": "FloatProgressModel",
          "model_module_version": "1.5.0",
          "state": {
            "_dom_classes": [],
            "_model_module": "@jupyter-widgets/controls",
            "_model_module_version": "1.5.0",
            "_model_name": "FloatProgressModel",
            "_view_count": null,
            "_view_module": "@jupyter-widgets/controls",
            "_view_module_version": "1.5.0",
            "_view_name": "ProgressView",
            "bar_style": "success",
            "description": "",
            "description_tooltip": null,
            "layout": "IPY_MODEL_ba17f041ac6e4ae18bcba3b044e7b67a",
            "max": 1355863,
            "min": 0,
            "orientation": "horizontal",
            "style": "IPY_MODEL_f3ce2c6fa7cc45efbac546fd8b15a963",
            "value": 1355863
          }
        },
        "cb3f899f35de4cd18e126c072662b63e": {
          "model_module": "@jupyter-widgets/controls",
          "model_name": "HTMLModel",
          "model_module_version": "1.5.0",
          "state": {
            "_dom_classes": [],
            "_model_module": "@jupyter-widgets/controls",
            "_model_module_version": "1.5.0",
            "_model_name": "HTMLModel",
            "_view_count": null,
            "_view_module": "@jupyter-widgets/controls",
            "_view_module_version": "1.5.0",
            "_view_name": "HTMLView",
            "description": "",
            "description_tooltip": null,
            "layout": "IPY_MODEL_77016a3a4cef42238357234f091baa0a",
            "placeholder": "​",
            "style": "IPY_MODEL_e59fc0f06fa24ad494c5bf9b3a73421d",
            "value": " 1.36M/1.36M [00:00&lt;00:00, 6.03MB/s]"
          }
        },
        "263fbe1e88d4487380efa4c91b1d88af": {
          "model_module": "@jupyter-widgets/base",
          "model_name": "LayoutModel",
          "model_module_version": "1.2.0",
          "state": {
            "_model_module": "@jupyter-widgets/base",
            "_model_module_version": "1.2.0",
            "_model_name": "LayoutModel",
            "_view_count": null,
            "_view_module": "@jupyter-widgets/base",
            "_view_module_version": "1.2.0",
            "_view_name": "LayoutView",
            "align_content": null,
            "align_items": null,
            "align_self": null,
            "border": null,
            "bottom": null,
            "display": null,
            "flex": null,
            "flex_flow": null,
            "grid_area": null,
            "grid_auto_columns": null,
            "grid_auto_flow": null,
            "grid_auto_rows": null,
            "grid_column": null,
            "grid_gap": null,
            "grid_row": null,
            "grid_template_areas": null,
            "grid_template_columns": null,
            "grid_template_rows": null,
            "height": null,
            "justify_content": null,
            "justify_items": null,
            "left": null,
            "margin": null,
            "max_height": null,
            "max_width": null,
            "min_height": null,
            "min_width": null,
            "object_fit": null,
            "object_position": null,
            "order": null,
            "overflow": null,
            "overflow_x": null,
            "overflow_y": null,
            "padding": null,
            "right": null,
            "top": null,
            "visibility": null,
            "width": null
          }
        },
        "bfd0c52ed63f464498879b2ad9abf859": {
          "model_module": "@jupyter-widgets/base",
          "model_name": "LayoutModel",
          "model_module_version": "1.2.0",
          "state": {
            "_model_module": "@jupyter-widgets/base",
            "_model_module_version": "1.2.0",
            "_model_name": "LayoutModel",
            "_view_count": null,
            "_view_module": "@jupyter-widgets/base",
            "_view_module_version": "1.2.0",
            "_view_name": "LayoutView",
            "align_content": null,
            "align_items": null,
            "align_self": null,
            "border": null,
            "bottom": null,
            "display": null,
            "flex": null,
            "flex_flow": null,
            "grid_area": null,
            "grid_auto_columns": null,
            "grid_auto_flow": null,
            "grid_auto_rows": null,
            "grid_column": null,
            "grid_gap": null,
            "grid_row": null,
            "grid_template_areas": null,
            "grid_template_columns": null,
            "grid_template_rows": null,
            "height": null,
            "justify_content": null,
            "justify_items": null,
            "left": null,
            "margin": null,
            "max_height": null,
            "max_width": null,
            "min_height": null,
            "min_width": null,
            "object_fit": null,
            "object_position": null,
            "order": null,
            "overflow": null,
            "overflow_x": null,
            "overflow_y": null,
            "padding": null,
            "right": null,
            "top": null,
            "visibility": null,
            "width": null
          }
        },
        "61f8f31149104238b06f1f1c38186b54": {
          "model_module": "@jupyter-widgets/controls",
          "model_name": "DescriptionStyleModel",
          "model_module_version": "1.5.0",
          "state": {
            "_model_module": "@jupyter-widgets/controls",
            "_model_module_version": "1.5.0",
            "_model_name": "DescriptionStyleModel",
            "_view_count": null,
            "_view_module": "@jupyter-widgets/base",
            "_view_module_version": "1.2.0",
            "_view_name": "StyleView",
            "description_width": ""
          }
        },
        "ba17f041ac6e4ae18bcba3b044e7b67a": {
          "model_module": "@jupyter-widgets/base",
          "model_name": "LayoutModel",
          "model_module_version": "1.2.0",
          "state": {
            "_model_module": "@jupyter-widgets/base",
            "_model_module_version": "1.2.0",
            "_model_name": "LayoutModel",
            "_view_count": null,
            "_view_module": "@jupyter-widgets/base",
            "_view_module_version": "1.2.0",
            "_view_name": "LayoutView",
            "align_content": null,
            "align_items": null,
            "align_self": null,
            "border": null,
            "bottom": null,
            "display": null,
            "flex": null,
            "flex_flow": null,
            "grid_area": null,
            "grid_auto_columns": null,
            "grid_auto_flow": null,
            "grid_auto_rows": null,
            "grid_column": null,
            "grid_gap": null,
            "grid_row": null,
            "grid_template_areas": null,
            "grid_template_columns": null,
            "grid_template_rows": null,
            "height": null,
            "justify_content": null,
            "justify_items": null,
            "left": null,
            "margin": null,
            "max_height": null,
            "max_width": null,
            "min_height": null,
            "min_width": null,
            "object_fit": null,
            "object_position": null,
            "order": null,
            "overflow": null,
            "overflow_x": null,
            "overflow_y": null,
            "padding": null,
            "right": null,
            "top": null,
            "visibility": null,
            "width": null
          }
        },
        "f3ce2c6fa7cc45efbac546fd8b15a963": {
          "model_module": "@jupyter-widgets/controls",
          "model_name": "ProgressStyleModel",
          "model_module_version": "1.5.0",
          "state": {
            "_model_module": "@jupyter-widgets/controls",
            "_model_module_version": "1.5.0",
            "_model_name": "ProgressStyleModel",
            "_view_count": null,
            "_view_module": "@jupyter-widgets/base",
            "_view_module_version": "1.2.0",
            "_view_name": "StyleView",
            "bar_color": null,
            "description_width": ""
          }
        },
        "77016a3a4cef42238357234f091baa0a": {
          "model_module": "@jupyter-widgets/base",
          "model_name": "LayoutModel",
          "model_module_version": "1.2.0",
          "state": {
            "_model_module": "@jupyter-widgets/base",
            "_model_module_version": "1.2.0",
            "_model_name": "LayoutModel",
            "_view_count": null,
            "_view_module": "@jupyter-widgets/base",
            "_view_module_version": "1.2.0",
            "_view_name": "LayoutView",
            "align_content": null,
            "align_items": null,
            "align_self": null,
            "border": null,
            "bottom": null,
            "display": null,
            "flex": null,
            "flex_flow": null,
            "grid_area": null,
            "grid_auto_columns": null,
            "grid_auto_flow": null,
            "grid_auto_rows": null,
            "grid_column": null,
            "grid_gap": null,
            "grid_row": null,
            "grid_template_areas": null,
            "grid_template_columns": null,
            "grid_template_rows": null,
            "height": null,
            "justify_content": null,
            "justify_items": null,
            "left": null,
            "margin": null,
            "max_height": null,
            "max_width": null,
            "min_height": null,
            "min_width": null,
            "object_fit": null,
            "object_position": null,
            "order": null,
            "overflow": null,
            "overflow_x": null,
            "overflow_y": null,
            "padding": null,
            "right": null,
            "top": null,
            "visibility": null,
            "width": null
          }
        },
        "e59fc0f06fa24ad494c5bf9b3a73421d": {
          "model_module": "@jupyter-widgets/controls",
          "model_name": "DescriptionStyleModel",
          "model_module_version": "1.5.0",
          "state": {
            "_model_module": "@jupyter-widgets/controls",
            "_model_module_version": "1.5.0",
            "_model_name": "DescriptionStyleModel",
            "_view_count": null,
            "_view_module": "@jupyter-widgets/base",
            "_view_module_version": "1.2.0",
            "_view_name": "StyleView",
            "description_width": ""
          }
        },
        "6440de452792428bb8805ff8489773b7": {
          "model_module": "@jupyter-widgets/controls",
          "model_name": "HBoxModel",
          "model_module_version": "1.5.0",
          "state": {
            "_dom_classes": [],
            "_model_module": "@jupyter-widgets/controls",
            "_model_module_version": "1.5.0",
            "_model_name": "HBoxModel",
            "_view_count": null,
            "_view_module": "@jupyter-widgets/controls",
            "_view_module_version": "1.5.0",
            "_view_name": "HBoxView",
            "box_style": "",
            "children": [
              "IPY_MODEL_b7e888794751480abde272a1a222b07f",
              "IPY_MODEL_5a3b61b2885b451e93695338f709e471",
              "IPY_MODEL_65e32bc9862345ee81bec71b46411abb"
            ],
            "layout": "IPY_MODEL_615c8b28d4f9433b982396545c2545fc"
          }
        },
        "b7e888794751480abde272a1a222b07f": {
          "model_module": "@jupyter-widgets/controls",
          "model_name": "HTMLModel",
          "model_module_version": "1.5.0",
          "state": {
            "_dom_classes": [],
            "_model_module": "@jupyter-widgets/controls",
            "_model_module_version": "1.5.0",
            "_model_name": "HTMLModel",
            "_view_count": null,
            "_view_module": "@jupyter-widgets/controls",
            "_view_module_version": "1.5.0",
            "_view_name": "HTMLView",
            "description": "",
            "description_tooltip": null,
            "layout": "IPY_MODEL_049a212c36ca4ca5af79b36e6a4aaaf8",
            "placeholder": "​",
            "style": "IPY_MODEL_9e4c63e6ac2146968614c990a6ebda3b",
            "value": "config.json: 100%"
          }
        },
        "5a3b61b2885b451e93695338f709e471": {
          "model_module": "@jupyter-widgets/controls",
          "model_name": "FloatProgressModel",
          "model_module_version": "1.5.0",
          "state": {
            "_dom_classes": [],
            "_model_module": "@jupyter-widgets/controls",
            "_model_module_version": "1.5.0",
            "_model_name": "FloatProgressModel",
            "_view_count": null,
            "_view_module": "@jupyter-widgets/controls",
            "_view_module_version": "1.5.0",
            "_view_name": "ProgressView",
            "bar_style": "success",
            "description": "",
            "description_tooltip": null,
            "layout": "IPY_MODEL_43a9ae97f71e4647b3759213c9520f16",
            "max": 694,
            "min": 0,
            "orientation": "horizontal",
            "style": "IPY_MODEL_21928fff28b245aea5677a4443627cff",
            "value": 694
          }
        },
        "65e32bc9862345ee81bec71b46411abb": {
          "model_module": "@jupyter-widgets/controls",
          "model_name": "HTMLModel",
          "model_module_version": "1.5.0",
          "state": {
            "_dom_classes": [],
            "_model_module": "@jupyter-widgets/controls",
            "_model_module_version": "1.5.0",
            "_model_name": "HTMLModel",
            "_view_count": null,
            "_view_module": "@jupyter-widgets/controls",
            "_view_module_version": "1.5.0",
            "_view_name": "HTMLView",
            "description": "",
            "description_tooltip": null,
            "layout": "IPY_MODEL_058c8f5a2ff948a983e57c5a6e1e069a",
            "placeholder": "​",
            "style": "IPY_MODEL_c37b10ce3584447f993022cf6f6c0794",
            "value": " 694/694 [00:00&lt;00:00, 85.2kB/s]"
          }
        },
        "615c8b28d4f9433b982396545c2545fc": {
          "model_module": "@jupyter-widgets/base",
          "model_name": "LayoutModel",
          "model_module_version": "1.2.0",
          "state": {
            "_model_module": "@jupyter-widgets/base",
            "_model_module_version": "1.2.0",
            "_model_name": "LayoutModel",
            "_view_count": null,
            "_view_module": "@jupyter-widgets/base",
            "_view_module_version": "1.2.0",
            "_view_name": "LayoutView",
            "align_content": null,
            "align_items": null,
            "align_self": null,
            "border": null,
            "bottom": null,
            "display": null,
            "flex": null,
            "flex_flow": null,
            "grid_area": null,
            "grid_auto_columns": null,
            "grid_auto_flow": null,
            "grid_auto_rows": null,
            "grid_column": null,
            "grid_gap": null,
            "grid_row": null,
            "grid_template_areas": null,
            "grid_template_columns": null,
            "grid_template_rows": null,
            "height": null,
            "justify_content": null,
            "justify_items": null,
            "left": null,
            "margin": null,
            "max_height": null,
            "max_width": null,
            "min_height": null,
            "min_width": null,
            "object_fit": null,
            "object_position": null,
            "order": null,
            "overflow": null,
            "overflow_x": null,
            "overflow_y": null,
            "padding": null,
            "right": null,
            "top": null,
            "visibility": null,
            "width": null
          }
        },
        "049a212c36ca4ca5af79b36e6a4aaaf8": {
          "model_module": "@jupyter-widgets/base",
          "model_name": "LayoutModel",
          "model_module_version": "1.2.0",
          "state": {
            "_model_module": "@jupyter-widgets/base",
            "_model_module_version": "1.2.0",
            "_model_name": "LayoutModel",
            "_view_count": null,
            "_view_module": "@jupyter-widgets/base",
            "_view_module_version": "1.2.0",
            "_view_name": "LayoutView",
            "align_content": null,
            "align_items": null,
            "align_self": null,
            "border": null,
            "bottom": null,
            "display": null,
            "flex": null,
            "flex_flow": null,
            "grid_area": null,
            "grid_auto_columns": null,
            "grid_auto_flow": null,
            "grid_auto_rows": null,
            "grid_column": null,
            "grid_gap": null,
            "grid_row": null,
            "grid_template_areas": null,
            "grid_template_columns": null,
            "grid_template_rows": null,
            "height": null,
            "justify_content": null,
            "justify_items": null,
            "left": null,
            "margin": null,
            "max_height": null,
            "max_width": null,
            "min_height": null,
            "min_width": null,
            "object_fit": null,
            "object_position": null,
            "order": null,
            "overflow": null,
            "overflow_x": null,
            "overflow_y": null,
            "padding": null,
            "right": null,
            "top": null,
            "visibility": null,
            "width": null
          }
        },
        "9e4c63e6ac2146968614c990a6ebda3b": {
          "model_module": "@jupyter-widgets/controls",
          "model_name": "DescriptionStyleModel",
          "model_module_version": "1.5.0",
          "state": {
            "_model_module": "@jupyter-widgets/controls",
            "_model_module_version": "1.5.0",
            "_model_name": "DescriptionStyleModel",
            "_view_count": null,
            "_view_module": "@jupyter-widgets/base",
            "_view_module_version": "1.2.0",
            "_view_name": "StyleView",
            "description_width": ""
          }
        },
        "43a9ae97f71e4647b3759213c9520f16": {
          "model_module": "@jupyter-widgets/base",
          "model_name": "LayoutModel",
          "model_module_version": "1.2.0",
          "state": {
            "_model_module": "@jupyter-widgets/base",
            "_model_module_version": "1.2.0",
            "_model_name": "LayoutModel",
            "_view_count": null,
            "_view_module": "@jupyter-widgets/base",
            "_view_module_version": "1.2.0",
            "_view_name": "LayoutView",
            "align_content": null,
            "align_items": null,
            "align_self": null,
            "border": null,
            "bottom": null,
            "display": null,
            "flex": null,
            "flex_flow": null,
            "grid_area": null,
            "grid_auto_columns": null,
            "grid_auto_flow": null,
            "grid_auto_rows": null,
            "grid_column": null,
            "grid_gap": null,
            "grid_row": null,
            "grid_template_areas": null,
            "grid_template_columns": null,
            "grid_template_rows": null,
            "height": null,
            "justify_content": null,
            "justify_items": null,
            "left": null,
            "margin": null,
            "max_height": null,
            "max_width": null,
            "min_height": null,
            "min_width": null,
            "object_fit": null,
            "object_position": null,
            "order": null,
            "overflow": null,
            "overflow_x": null,
            "overflow_y": null,
            "padding": null,
            "right": null,
            "top": null,
            "visibility": null,
            "width": null
          }
        },
        "21928fff28b245aea5677a4443627cff": {
          "model_module": "@jupyter-widgets/controls",
          "model_name": "ProgressStyleModel",
          "model_module_version": "1.5.0",
          "state": {
            "_model_module": "@jupyter-widgets/controls",
            "_model_module_version": "1.5.0",
            "_model_name": "ProgressStyleModel",
            "_view_count": null,
            "_view_module": "@jupyter-widgets/base",
            "_view_module_version": "1.2.0",
            "_view_name": "StyleView",
            "bar_color": null,
            "description_width": ""
          }
        },
        "058c8f5a2ff948a983e57c5a6e1e069a": {
          "model_module": "@jupyter-widgets/base",
          "model_name": "LayoutModel",
          "model_module_version": "1.2.0",
          "state": {
            "_model_module": "@jupyter-widgets/base",
            "_model_module_version": "1.2.0",
            "_model_name": "LayoutModel",
            "_view_count": null,
            "_view_module": "@jupyter-widgets/base",
            "_view_module_version": "1.2.0",
            "_view_name": "LayoutView",
            "align_content": null,
            "align_items": null,
            "align_self": null,
            "border": null,
            "bottom": null,
            "display": null,
            "flex": null,
            "flex_flow": null,
            "grid_area": null,
            "grid_auto_columns": null,
            "grid_auto_flow": null,
            "grid_auto_rows": null,
            "grid_column": null,
            "grid_gap": null,
            "grid_row": null,
            "grid_template_areas": null,
            "grid_template_columns": null,
            "grid_template_rows": null,
            "height": null,
            "justify_content": null,
            "justify_items": null,
            "left": null,
            "margin": null,
            "max_height": null,
            "max_width": null,
            "min_height": null,
            "min_width": null,
            "object_fit": null,
            "object_position": null,
            "order": null,
            "overflow": null,
            "overflow_x": null,
            "overflow_y": null,
            "padding": null,
            "right": null,
            "top": null,
            "visibility": null,
            "width": null
          }
        },
        "c37b10ce3584447f993022cf6f6c0794": {
          "model_module": "@jupyter-widgets/controls",
          "model_name": "DescriptionStyleModel",
          "model_module_version": "1.5.0",
          "state": {
            "_model_module": "@jupyter-widgets/controls",
            "_model_module_version": "1.5.0",
            "_model_name": "DescriptionStyleModel",
            "_view_count": null,
            "_view_module": "@jupyter-widgets/base",
            "_view_module_version": "1.2.0",
            "_view_name": "StyleView",
            "description_width": ""
          }
        },
        "5dcca05016d64e0bb837f4deecca94e5": {
          "model_module": "@jupyter-widgets/controls",
          "model_name": "HBoxModel",
          "model_module_version": "1.5.0",
          "state": {
            "_dom_classes": [],
            "_model_module": "@jupyter-widgets/controls",
            "_model_module_version": "1.5.0",
            "_model_name": "HBoxModel",
            "_view_count": null,
            "_view_module": "@jupyter-widgets/controls",
            "_view_module_version": "1.5.0",
            "_view_name": "HBoxView",
            "box_style": "",
            "children": [
              "IPY_MODEL_5272cac60b4c4fc08defacc0f0b33f92",
              "IPY_MODEL_c1d79420ef91448990cc926d2eaf1fff",
              "IPY_MODEL_2ec68669ca4442daae3e927441c81ef8"
            ],
            "layout": "IPY_MODEL_9d009a26ff66482788f08ee4b7c158b9"
          }
        },
        "5272cac60b4c4fc08defacc0f0b33f92": {
          "model_module": "@jupyter-widgets/controls",
          "model_name": "HTMLModel",
          "model_module_version": "1.5.0",
          "state": {
            "_dom_classes": [],
            "_model_module": "@jupyter-widgets/controls",
            "_model_module_version": "1.5.0",
            "_model_name": "HTMLModel",
            "_view_count": null,
            "_view_module": "@jupyter-widgets/controls",
            "_view_module_version": "1.5.0",
            "_view_name": "HTMLView",
            "description": "",
            "description_tooltip": null,
            "layout": "IPY_MODEL_b7f8a020a4a946cf90611da272177092",
            "placeholder": "​",
            "style": "IPY_MODEL_89bc7a7711434e08b6c3550d9ad09616",
            "value": "pytorch_model.bin: 100%"
          }
        },
        "c1d79420ef91448990cc926d2eaf1fff": {
          "model_module": "@jupyter-widgets/controls",
          "model_name": "FloatProgressModel",
          "model_module_version": "1.5.0",
          "state": {
            "_dom_classes": [],
            "_model_module": "@jupyter-widgets/controls",
            "_model_module_version": "1.5.0",
            "_model_name": "FloatProgressModel",
            "_view_count": null,
            "_view_module": "@jupyter-widgets/controls",
            "_view_module_version": "1.5.0",
            "_view_name": "ProgressView",
            "bar_style": "success",
            "description": "",
            "description_tooltip": null,
            "layout": "IPY_MODEL_5d87684a4e18443dbcd7fcd7a40bb3fc",
            "max": 597257159,
            "min": 0,
            "orientation": "horizontal",
            "style": "IPY_MODEL_6eb1244efc814d7192bf25ef725add5d",
            "value": 597257159
          }
        },
        "2ec68669ca4442daae3e927441c81ef8": {
          "model_module": "@jupyter-widgets/controls",
          "model_name": "HTMLModel",
          "model_module_version": "1.5.0",
          "state": {
            "_dom_classes": [],
            "_model_module": "@jupyter-widgets/controls",
            "_model_module_version": "1.5.0",
            "_model_name": "HTMLModel",
            "_view_count": null,
            "_view_module": "@jupyter-widgets/controls",
            "_view_module_version": "1.5.0",
            "_view_name": "HTMLView",
            "description": "",
            "description_tooltip": null,
            "layout": "IPY_MODEL_56f013c2747f4368b6127722127aa8d9",
            "placeholder": "​",
            "style": "IPY_MODEL_96cdecac232e4c569631c30bc125b880",
            "value": " 597M/597M [00:01&lt;00:00, 488MB/s]"
          }
        },
        "9d009a26ff66482788f08ee4b7c158b9": {
          "model_module": "@jupyter-widgets/base",
          "model_name": "LayoutModel",
          "model_module_version": "1.2.0",
          "state": {
            "_model_module": "@jupyter-widgets/base",
            "_model_module_version": "1.2.0",
            "_model_name": "LayoutModel",
            "_view_count": null,
            "_view_module": "@jupyter-widgets/base",
            "_view_module_version": "1.2.0",
            "_view_name": "LayoutView",
            "align_content": null,
            "align_items": null,
            "align_self": null,
            "border": null,
            "bottom": null,
            "display": null,
            "flex": null,
            "flex_flow": null,
            "grid_area": null,
            "grid_auto_columns": null,
            "grid_auto_flow": null,
            "grid_auto_rows": null,
            "grid_column": null,
            "grid_gap": null,
            "grid_row": null,
            "grid_template_areas": null,
            "grid_template_columns": null,
            "grid_template_rows": null,
            "height": null,
            "justify_content": null,
            "justify_items": null,
            "left": null,
            "margin": null,
            "max_height": null,
            "max_width": null,
            "min_height": null,
            "min_width": null,
            "object_fit": null,
            "object_position": null,
            "order": null,
            "overflow": null,
            "overflow_x": null,
            "overflow_y": null,
            "padding": null,
            "right": null,
            "top": null,
            "visibility": null,
            "width": null
          }
        },
        "b7f8a020a4a946cf90611da272177092": {
          "model_module": "@jupyter-widgets/base",
          "model_name": "LayoutModel",
          "model_module_version": "1.2.0",
          "state": {
            "_model_module": "@jupyter-widgets/base",
            "_model_module_version": "1.2.0",
            "_model_name": "LayoutModel",
            "_view_count": null,
            "_view_module": "@jupyter-widgets/base",
            "_view_module_version": "1.2.0",
            "_view_name": "LayoutView",
            "align_content": null,
            "align_items": null,
            "align_self": null,
            "border": null,
            "bottom": null,
            "display": null,
            "flex": null,
            "flex_flow": null,
            "grid_area": null,
            "grid_auto_columns": null,
            "grid_auto_flow": null,
            "grid_auto_rows": null,
            "grid_column": null,
            "grid_gap": null,
            "grid_row": null,
            "grid_template_areas": null,
            "grid_template_columns": null,
            "grid_template_rows": null,
            "height": null,
            "justify_content": null,
            "justify_items": null,
            "left": null,
            "margin": null,
            "max_height": null,
            "max_width": null,
            "min_height": null,
            "min_width": null,
            "object_fit": null,
            "object_position": null,
            "order": null,
            "overflow": null,
            "overflow_x": null,
            "overflow_y": null,
            "padding": null,
            "right": null,
            "top": null,
            "visibility": null,
            "width": null
          }
        },
        "89bc7a7711434e08b6c3550d9ad09616": {
          "model_module": "@jupyter-widgets/controls",
          "model_name": "DescriptionStyleModel",
          "model_module_version": "1.5.0",
          "state": {
            "_model_module": "@jupyter-widgets/controls",
            "_model_module_version": "1.5.0",
            "_model_name": "DescriptionStyleModel",
            "_view_count": null,
            "_view_module": "@jupyter-widgets/base",
            "_view_module_version": "1.2.0",
            "_view_name": "StyleView",
            "description_width": ""
          }
        },
        "5d87684a4e18443dbcd7fcd7a40bb3fc": {
          "model_module": "@jupyter-widgets/base",
          "model_name": "LayoutModel",
          "model_module_version": "1.2.0",
          "state": {
            "_model_module": "@jupyter-widgets/base",
            "_model_module_version": "1.2.0",
            "_model_name": "LayoutModel",
            "_view_count": null,
            "_view_module": "@jupyter-widgets/base",
            "_view_module_version": "1.2.0",
            "_view_name": "LayoutView",
            "align_content": null,
            "align_items": null,
            "align_self": null,
            "border": null,
            "bottom": null,
            "display": null,
            "flex": null,
            "flex_flow": null,
            "grid_area": null,
            "grid_auto_columns": null,
            "grid_auto_flow": null,
            "grid_auto_rows": null,
            "grid_column": null,
            "grid_gap": null,
            "grid_row": null,
            "grid_template_areas": null,
            "grid_template_columns": null,
            "grid_template_rows": null,
            "height": null,
            "justify_content": null,
            "justify_items": null,
            "left": null,
            "margin": null,
            "max_height": null,
            "max_width": null,
            "min_height": null,
            "min_width": null,
            "object_fit": null,
            "object_position": null,
            "order": null,
            "overflow": null,
            "overflow_x": null,
            "overflow_y": null,
            "padding": null,
            "right": null,
            "top": null,
            "visibility": null,
            "width": null
          }
        },
        "6eb1244efc814d7192bf25ef725add5d": {
          "model_module": "@jupyter-widgets/controls",
          "model_name": "ProgressStyleModel",
          "model_module_version": "1.5.0",
          "state": {
            "_model_module": "@jupyter-widgets/controls",
            "_model_module_version": "1.5.0",
            "_model_name": "ProgressStyleModel",
            "_view_count": null,
            "_view_module": "@jupyter-widgets/base",
            "_view_module_version": "1.2.0",
            "_view_name": "StyleView",
            "bar_color": null,
            "description_width": ""
          }
        },
        "56f013c2747f4368b6127722127aa8d9": {
          "model_module": "@jupyter-widgets/base",
          "model_name": "LayoutModel",
          "model_module_version": "1.2.0",
          "state": {
            "_model_module": "@jupyter-widgets/base",
            "_model_module_version": "1.2.0",
            "_model_name": "LayoutModel",
            "_view_count": null,
            "_view_module": "@jupyter-widgets/base",
            "_view_module_version": "1.2.0",
            "_view_name": "LayoutView",
            "align_content": null,
            "align_items": null,
            "align_self": null,
            "border": null,
            "bottom": null,
            "display": null,
            "flex": null,
            "flex_flow": null,
            "grid_area": null,
            "grid_auto_columns": null,
            "grid_auto_flow": null,
            "grid_auto_rows": null,
            "grid_column": null,
            "grid_gap": null,
            "grid_row": null,
            "grid_template_areas": null,
            "grid_template_columns": null,
            "grid_template_rows": null,
            "height": null,
            "justify_content": null,
            "justify_items": null,
            "left": null,
            "margin": null,
            "max_height": null,
            "max_width": null,
            "min_height": null,
            "min_width": null,
            "object_fit": null,
            "object_position": null,
            "order": null,
            "overflow": null,
            "overflow_x": null,
            "overflow_y": null,
            "padding": null,
            "right": null,
            "top": null,
            "visibility": null,
            "width": null
          }
        },
        "96cdecac232e4c569631c30bc125b880": {
          "model_module": "@jupyter-widgets/controls",
          "model_name": "DescriptionStyleModel",
          "model_module_version": "1.5.0",
          "state": {
            "_model_module": "@jupyter-widgets/controls",
            "_model_module_version": "1.5.0",
            "_model_name": "DescriptionStyleModel",
            "_view_count": null,
            "_view_module": "@jupyter-widgets/base",
            "_view_module_version": "1.2.0",
            "_view_name": "StyleView",
            "description_width": ""
          }
        },
        "a54afc44637f490da85cc3838deeed47": {
          "model_module": "@jupyter-widgets/controls",
          "model_name": "HBoxModel",
          "model_module_version": "1.5.0",
          "state": {
            "_dom_classes": [],
            "_model_module": "@jupyter-widgets/controls",
            "_model_module_version": "1.5.0",
            "_model_name": "HBoxModel",
            "_view_count": null,
            "_view_module": "@jupyter-widgets/controls",
            "_view_module_version": "1.5.0",
            "_view_name": "HBoxView",
            "box_style": "",
            "children": [
              "IPY_MODEL_1760a7818ede465fb1877e774ef8b4ff",
              "IPY_MODEL_4d40d03573ae4f29992b457d8ff91345",
              "IPY_MODEL_e9cbc0c2095f459699141b0c05d072d7"
            ],
            "layout": "IPY_MODEL_3f50b7057c314b7cbb24f44281331145"
          }
        },
        "1760a7818ede465fb1877e774ef8b4ff": {
          "model_module": "@jupyter-widgets/controls",
          "model_name": "HTMLModel",
          "model_module_version": "1.5.0",
          "state": {
            "_dom_classes": [],
            "_model_module": "@jupyter-widgets/controls",
            "_model_module_version": "1.5.0",
            "_model_name": "HTMLModel",
            "_view_count": null,
            "_view_module": "@jupyter-widgets/controls",
            "_view_module_version": "1.5.0",
            "_view_name": "HTMLView",
            "description": "",
            "description_tooltip": null,
            "layout": "IPY_MODEL_b93fd251720d4607be6bd8eebeef0724",
            "placeholder": "​",
            "style": "IPY_MODEL_e7062593983e4739a37b4c7e792ad463",
            "value": "Map: 100%"
          }
        },
        "4d40d03573ae4f29992b457d8ff91345": {
          "model_module": "@jupyter-widgets/controls",
          "model_name": "FloatProgressModel",
          "model_module_version": "1.5.0",
          "state": {
            "_dom_classes": [],
            "_model_module": "@jupyter-widgets/controls",
            "_model_module_version": "1.5.0",
            "_model_name": "FloatProgressModel",
            "_view_count": null,
            "_view_module": "@jupyter-widgets/controls",
            "_view_module_version": "1.5.0",
            "_view_name": "ProgressView",
            "bar_style": "success",
            "description": "",
            "description_tooltip": null,
            "layout": "IPY_MODEL_452339ce1ebb4c08bd9306899bd23660",
            "max": 96,
            "min": 0,
            "orientation": "horizontal",
            "style": "IPY_MODEL_66a16832252143ee9ee39f44ba6d65d3",
            "value": 96
          }
        },
        "e9cbc0c2095f459699141b0c05d072d7": {
          "model_module": "@jupyter-widgets/controls",
          "model_name": "HTMLModel",
          "model_module_version": "1.5.0",
          "state": {
            "_dom_classes": [],
            "_model_module": "@jupyter-widgets/controls",
            "_model_module_version": "1.5.0",
            "_model_name": "HTMLModel",
            "_view_count": null,
            "_view_module": "@jupyter-widgets/controls",
            "_view_module_version": "1.5.0",
            "_view_name": "HTMLView",
            "description": "",
            "description_tooltip": null,
            "layout": "IPY_MODEL_9197abc8b203499aa1ad9493e5754536",
            "placeholder": "​",
            "style": "IPY_MODEL_44ac701624cc4bd3a74cb4d8f6c00aa8",
            "value": " 96/96 [00:00&lt;00:00, 767.75 examples/s]"
          }
        },
        "3f50b7057c314b7cbb24f44281331145": {
          "model_module": "@jupyter-widgets/base",
          "model_name": "LayoutModel",
          "model_module_version": "1.2.0",
          "state": {
            "_model_module": "@jupyter-widgets/base",
            "_model_module_version": "1.2.0",
            "_model_name": "LayoutModel",
            "_view_count": null,
            "_view_module": "@jupyter-widgets/base",
            "_view_module_version": "1.2.0",
            "_view_name": "LayoutView",
            "align_content": null,
            "align_items": null,
            "align_self": null,
            "border": null,
            "bottom": null,
            "display": null,
            "flex": null,
            "flex_flow": null,
            "grid_area": null,
            "grid_auto_columns": null,
            "grid_auto_flow": null,
            "grid_auto_rows": null,
            "grid_column": null,
            "grid_gap": null,
            "grid_row": null,
            "grid_template_areas": null,
            "grid_template_columns": null,
            "grid_template_rows": null,
            "height": null,
            "justify_content": null,
            "justify_items": null,
            "left": null,
            "margin": null,
            "max_height": null,
            "max_width": null,
            "min_height": null,
            "min_width": null,
            "object_fit": null,
            "object_position": null,
            "order": null,
            "overflow": null,
            "overflow_x": null,
            "overflow_y": null,
            "padding": null,
            "right": null,
            "top": null,
            "visibility": null,
            "width": null
          }
        },
        "b93fd251720d4607be6bd8eebeef0724": {
          "model_module": "@jupyter-widgets/base",
          "model_name": "LayoutModel",
          "model_module_version": "1.2.0",
          "state": {
            "_model_module": "@jupyter-widgets/base",
            "_model_module_version": "1.2.0",
            "_model_name": "LayoutModel",
            "_view_count": null,
            "_view_module": "@jupyter-widgets/base",
            "_view_module_version": "1.2.0",
            "_view_name": "LayoutView",
            "align_content": null,
            "align_items": null,
            "align_self": null,
            "border": null,
            "bottom": null,
            "display": null,
            "flex": null,
            "flex_flow": null,
            "grid_area": null,
            "grid_auto_columns": null,
            "grid_auto_flow": null,
            "grid_auto_rows": null,
            "grid_column": null,
            "grid_gap": null,
            "grid_row": null,
            "grid_template_areas": null,
            "grid_template_columns": null,
            "grid_template_rows": null,
            "height": null,
            "justify_content": null,
            "justify_items": null,
            "left": null,
            "margin": null,
            "max_height": null,
            "max_width": null,
            "min_height": null,
            "min_width": null,
            "object_fit": null,
            "object_position": null,
            "order": null,
            "overflow": null,
            "overflow_x": null,
            "overflow_y": null,
            "padding": null,
            "right": null,
            "top": null,
            "visibility": null,
            "width": null
          }
        },
        "e7062593983e4739a37b4c7e792ad463": {
          "model_module": "@jupyter-widgets/controls",
          "model_name": "DescriptionStyleModel",
          "model_module_version": "1.5.0",
          "state": {
            "_model_module": "@jupyter-widgets/controls",
            "_model_module_version": "1.5.0",
            "_model_name": "DescriptionStyleModel",
            "_view_count": null,
            "_view_module": "@jupyter-widgets/base",
            "_view_module_version": "1.2.0",
            "_view_name": "StyleView",
            "description_width": ""
          }
        },
        "452339ce1ebb4c08bd9306899bd23660": {
          "model_module": "@jupyter-widgets/base",
          "model_name": "LayoutModel",
          "model_module_version": "1.2.0",
          "state": {
            "_model_module": "@jupyter-widgets/base",
            "_model_module_version": "1.2.0",
            "_model_name": "LayoutModel",
            "_view_count": null,
            "_view_module": "@jupyter-widgets/base",
            "_view_module_version": "1.2.0",
            "_view_name": "LayoutView",
            "align_content": null,
            "align_items": null,
            "align_self": null,
            "border": null,
            "bottom": null,
            "display": null,
            "flex": null,
            "flex_flow": null,
            "grid_area": null,
            "grid_auto_columns": null,
            "grid_auto_flow": null,
            "grid_auto_rows": null,
            "grid_column": null,
            "grid_gap": null,
            "grid_row": null,
            "grid_template_areas": null,
            "grid_template_columns": null,
            "grid_template_rows": null,
            "height": null,
            "justify_content": null,
            "justify_items": null,
            "left": null,
            "margin": null,
            "max_height": null,
            "max_width": null,
            "min_height": null,
            "min_width": null,
            "object_fit": null,
            "object_position": null,
            "order": null,
            "overflow": null,
            "overflow_x": null,
            "overflow_y": null,
            "padding": null,
            "right": null,
            "top": null,
            "visibility": null,
            "width": null
          }
        },
        "66a16832252143ee9ee39f44ba6d65d3": {
          "model_module": "@jupyter-widgets/controls",
          "model_name": "ProgressStyleModel",
          "model_module_version": "1.5.0",
          "state": {
            "_model_module": "@jupyter-widgets/controls",
            "_model_module_version": "1.5.0",
            "_model_name": "ProgressStyleModel",
            "_view_count": null,
            "_view_module": "@jupyter-widgets/base",
            "_view_module_version": "1.2.0",
            "_view_name": "StyleView",
            "bar_color": null,
            "description_width": ""
          }
        },
        "9197abc8b203499aa1ad9493e5754536": {
          "model_module": "@jupyter-widgets/base",
          "model_name": "LayoutModel",
          "model_module_version": "1.2.0",
          "state": {
            "_model_module": "@jupyter-widgets/base",
            "_model_module_version": "1.2.0",
            "_model_name": "LayoutModel",
            "_view_count": null,
            "_view_module": "@jupyter-widgets/base",
            "_view_module_version": "1.2.0",
            "_view_name": "LayoutView",
            "align_content": null,
            "align_items": null,
            "align_self": null,
            "border": null,
            "bottom": null,
            "display": null,
            "flex": null,
            "flex_flow": null,
            "grid_area": null,
            "grid_auto_columns": null,
            "grid_auto_flow": null,
            "grid_auto_rows": null,
            "grid_column": null,
            "grid_gap": null,
            "grid_row": null,
            "grid_template_areas": null,
            "grid_template_columns": null,
            "grid_template_rows": null,
            "height": null,
            "justify_content": null,
            "justify_items": null,
            "left": null,
            "margin": null,
            "max_height": null,
            "max_width": null,
            "min_height": null,
            "min_width": null,
            "object_fit": null,
            "object_position": null,
            "order": null,
            "overflow": null,
            "overflow_x": null,
            "overflow_y": null,
            "padding": null,
            "right": null,
            "top": null,
            "visibility": null,
            "width": null
          }
        },
        "44ac701624cc4bd3a74cb4d8f6c00aa8": {
          "model_module": "@jupyter-widgets/controls",
          "model_name": "DescriptionStyleModel",
          "model_module_version": "1.5.0",
          "state": {
            "_model_module": "@jupyter-widgets/controls",
            "_model_module_version": "1.5.0",
            "_model_name": "DescriptionStyleModel",
            "_view_count": null,
            "_view_module": "@jupyter-widgets/base",
            "_view_module_version": "1.2.0",
            "_view_name": "StyleView",
            "description_width": ""
          }
        },
        "902765ba1c3243cd9f362f59a5abe611": {
          "model_module": "@jupyter-widgets/controls",
          "model_name": "HBoxModel",
          "model_module_version": "1.5.0",
          "state": {
            "_dom_classes": [],
            "_model_module": "@jupyter-widgets/controls",
            "_model_module_version": "1.5.0",
            "_model_name": "HBoxModel",
            "_view_count": null,
            "_view_module": "@jupyter-widgets/controls",
            "_view_module_version": "1.5.0",
            "_view_name": "HBoxView",
            "box_style": "",
            "children": [
              "IPY_MODEL_0b065796d68a430ab1a5e7298b19e6b5",
              "IPY_MODEL_4ea701785bad474392e51529bee417f5",
              "IPY_MODEL_04410230c6e04644b8879e70559bfcbd"
            ],
            "layout": "IPY_MODEL_4d3eea02ca2b43a495237e190fb166ba"
          }
        },
        "0b065796d68a430ab1a5e7298b19e6b5": {
          "model_module": "@jupyter-widgets/controls",
          "model_name": "HTMLModel",
          "model_module_version": "1.5.0",
          "state": {
            "_dom_classes": [],
            "_model_module": "@jupyter-widgets/controls",
            "_model_module_version": "1.5.0",
            "_model_name": "HTMLModel",
            "_view_count": null,
            "_view_module": "@jupyter-widgets/controls",
            "_view_module_version": "1.5.0",
            "_view_name": "HTMLView",
            "description": "",
            "description_tooltip": null,
            "layout": "IPY_MODEL_73d4653a56354ee69c22285a3420d1df",
            "placeholder": "​",
            "style": "IPY_MODEL_905a020ce87640b380c62552464eefdc",
            "value": "Map: 100%"
          }
        },
        "4ea701785bad474392e51529bee417f5": {
          "model_module": "@jupyter-widgets/controls",
          "model_name": "FloatProgressModel",
          "model_module_version": "1.5.0",
          "state": {
            "_dom_classes": [],
            "_model_module": "@jupyter-widgets/controls",
            "_model_module_version": "1.5.0",
            "_model_name": "FloatProgressModel",
            "_view_count": null,
            "_view_module": "@jupyter-widgets/controls",
            "_view_module_version": "1.5.0",
            "_view_name": "ProgressView",
            "bar_style": "success",
            "description": "",
            "description_tooltip": null,
            "layout": "IPY_MODEL_66fade4d4a6146ccb8d5af0e8bbc5c38",
            "max": 12,
            "min": 0,
            "orientation": "horizontal",
            "style": "IPY_MODEL_609a4cc0723e428686085e4e2c955fe8",
            "value": 12
          }
        },
        "04410230c6e04644b8879e70559bfcbd": {
          "model_module": "@jupyter-widgets/controls",
          "model_name": "HTMLModel",
          "model_module_version": "1.5.0",
          "state": {
            "_dom_classes": [],
            "_model_module": "@jupyter-widgets/controls",
            "_model_module_version": "1.5.0",
            "_model_name": "HTMLModel",
            "_view_count": null,
            "_view_module": "@jupyter-widgets/controls",
            "_view_module_version": "1.5.0",
            "_view_name": "HTMLView",
            "description": "",
            "description_tooltip": null,
            "layout": "IPY_MODEL_20c531d00689417ba686b9c0468e943b",
            "placeholder": "​",
            "style": "IPY_MODEL_657edf82e25e4ccd96683d680a1e53f2",
            "value": " 12/12 [00:00&lt;00:00, 425.25 examples/s]"
          }
        },
        "4d3eea02ca2b43a495237e190fb166ba": {
          "model_module": "@jupyter-widgets/base",
          "model_name": "LayoutModel",
          "model_module_version": "1.2.0",
          "state": {
            "_model_module": "@jupyter-widgets/base",
            "_model_module_version": "1.2.0",
            "_model_name": "LayoutModel",
            "_view_count": null,
            "_view_module": "@jupyter-widgets/base",
            "_view_module_version": "1.2.0",
            "_view_name": "LayoutView",
            "align_content": null,
            "align_items": null,
            "align_self": null,
            "border": null,
            "bottom": null,
            "display": null,
            "flex": null,
            "flex_flow": null,
            "grid_area": null,
            "grid_auto_columns": null,
            "grid_auto_flow": null,
            "grid_auto_rows": null,
            "grid_column": null,
            "grid_gap": null,
            "grid_row": null,
            "grid_template_areas": null,
            "grid_template_columns": null,
            "grid_template_rows": null,
            "height": null,
            "justify_content": null,
            "justify_items": null,
            "left": null,
            "margin": null,
            "max_height": null,
            "max_width": null,
            "min_height": null,
            "min_width": null,
            "object_fit": null,
            "object_position": null,
            "order": null,
            "overflow": null,
            "overflow_x": null,
            "overflow_y": null,
            "padding": null,
            "right": null,
            "top": null,
            "visibility": null,
            "width": null
          }
        },
        "73d4653a56354ee69c22285a3420d1df": {
          "model_module": "@jupyter-widgets/base",
          "model_name": "LayoutModel",
          "model_module_version": "1.2.0",
          "state": {
            "_model_module": "@jupyter-widgets/base",
            "_model_module_version": "1.2.0",
            "_model_name": "LayoutModel",
            "_view_count": null,
            "_view_module": "@jupyter-widgets/base",
            "_view_module_version": "1.2.0",
            "_view_name": "LayoutView",
            "align_content": null,
            "align_items": null,
            "align_self": null,
            "border": null,
            "bottom": null,
            "display": null,
            "flex": null,
            "flex_flow": null,
            "grid_area": null,
            "grid_auto_columns": null,
            "grid_auto_flow": null,
            "grid_auto_rows": null,
            "grid_column": null,
            "grid_gap": null,
            "grid_row": null,
            "grid_template_areas": null,
            "grid_template_columns": null,
            "grid_template_rows": null,
            "height": null,
            "justify_content": null,
            "justify_items": null,
            "left": null,
            "margin": null,
            "max_height": null,
            "max_width": null,
            "min_height": null,
            "min_width": null,
            "object_fit": null,
            "object_position": null,
            "order": null,
            "overflow": null,
            "overflow_x": null,
            "overflow_y": null,
            "padding": null,
            "right": null,
            "top": null,
            "visibility": null,
            "width": null
          }
        },
        "905a020ce87640b380c62552464eefdc": {
          "model_module": "@jupyter-widgets/controls",
          "model_name": "DescriptionStyleModel",
          "model_module_version": "1.5.0",
          "state": {
            "_model_module": "@jupyter-widgets/controls",
            "_model_module_version": "1.5.0",
            "_model_name": "DescriptionStyleModel",
            "_view_count": null,
            "_view_module": "@jupyter-widgets/base",
            "_view_module_version": "1.2.0",
            "_view_name": "StyleView",
            "description_width": ""
          }
        },
        "66fade4d4a6146ccb8d5af0e8bbc5c38": {
          "model_module": "@jupyter-widgets/base",
          "model_name": "LayoutModel",
          "model_module_version": "1.2.0",
          "state": {
            "_model_module": "@jupyter-widgets/base",
            "_model_module_version": "1.2.0",
            "_model_name": "LayoutModel",
            "_view_count": null,
            "_view_module": "@jupyter-widgets/base",
            "_view_module_version": "1.2.0",
            "_view_name": "LayoutView",
            "align_content": null,
            "align_items": null,
            "align_self": null,
            "border": null,
            "bottom": null,
            "display": null,
            "flex": null,
            "flex_flow": null,
            "grid_area": null,
            "grid_auto_columns": null,
            "grid_auto_flow": null,
            "grid_auto_rows": null,
            "grid_column": null,
            "grid_gap": null,
            "grid_row": null,
            "grid_template_areas": null,
            "grid_template_columns": null,
            "grid_template_rows": null,
            "height": null,
            "justify_content": null,
            "justify_items": null,
            "left": null,
            "margin": null,
            "max_height": null,
            "max_width": null,
            "min_height": null,
            "min_width": null,
            "object_fit": null,
            "object_position": null,
            "order": null,
            "overflow": null,
            "overflow_x": null,
            "overflow_y": null,
            "padding": null,
            "right": null,
            "top": null,
            "visibility": null,
            "width": null
          }
        },
        "609a4cc0723e428686085e4e2c955fe8": {
          "model_module": "@jupyter-widgets/controls",
          "model_name": "ProgressStyleModel",
          "model_module_version": "1.5.0",
          "state": {
            "_model_module": "@jupyter-widgets/controls",
            "_model_module_version": "1.5.0",
            "_model_name": "ProgressStyleModel",
            "_view_count": null,
            "_view_module": "@jupyter-widgets/base",
            "_view_module_version": "1.2.0",
            "_view_name": "StyleView",
            "bar_color": null,
            "description_width": ""
          }
        },
        "20c531d00689417ba686b9c0468e943b": {
          "model_module": "@jupyter-widgets/base",
          "model_name": "LayoutModel",
          "model_module_version": "1.2.0",
          "state": {
            "_model_module": "@jupyter-widgets/base",
            "_model_module_version": "1.2.0",
            "_model_name": "LayoutModel",
            "_view_count": null,
            "_view_module": "@jupyter-widgets/base",
            "_view_module_version": "1.2.0",
            "_view_name": "LayoutView",
            "align_content": null,
            "align_items": null,
            "align_self": null,
            "border": null,
            "bottom": null,
            "display": null,
            "flex": null,
            "flex_flow": null,
            "grid_area": null,
            "grid_auto_columns": null,
            "grid_auto_flow": null,
            "grid_auto_rows": null,
            "grid_column": null,
            "grid_gap": null,
            "grid_row": null,
            "grid_template_areas": null,
            "grid_template_columns": null,
            "grid_template_rows": null,
            "height": null,
            "justify_content": null,
            "justify_items": null,
            "left": null,
            "margin": null,
            "max_height": null,
            "max_width": null,
            "min_height": null,
            "min_width": null,
            "object_fit": null,
            "object_position": null,
            "order": null,
            "overflow": null,
            "overflow_x": null,
            "overflow_y": null,
            "padding": null,
            "right": null,
            "top": null,
            "visibility": null,
            "width": null
          }
        },
        "657edf82e25e4ccd96683d680a1e53f2": {
          "model_module": "@jupyter-widgets/controls",
          "model_name": "DescriptionStyleModel",
          "model_module_version": "1.5.0",
          "state": {
            "_model_module": "@jupyter-widgets/controls",
            "_model_module_version": "1.5.0",
            "_model_name": "DescriptionStyleModel",
            "_view_count": null,
            "_view_module": "@jupyter-widgets/base",
            "_view_module_version": "1.2.0",
            "_view_name": "StyleView",
            "description_width": ""
          }
        },
        "e02c189f5694436bbaf9c4d9563daa0f": {
          "model_module": "@jupyter-widgets/controls",
          "model_name": "HBoxModel",
          "model_module_version": "1.5.0",
          "state": {
            "_dom_classes": [],
            "_model_module": "@jupyter-widgets/controls",
            "_model_module_version": "1.5.0",
            "_model_name": "HBoxModel",
            "_view_count": null,
            "_view_module": "@jupyter-widgets/controls",
            "_view_module_version": "1.5.0",
            "_view_name": "HBoxView",
            "box_style": "",
            "children": [
              "IPY_MODEL_4c80062d5f7f4c9d9af753a4b8499fe1",
              "IPY_MODEL_37e61dd042514bc985aa58303d5cc885",
              "IPY_MODEL_efde519d2490473d846e35b384d6aa24"
            ],
            "layout": "IPY_MODEL_484b0e224af8452a808528aad9146cf3"
          }
        },
        "4c80062d5f7f4c9d9af753a4b8499fe1": {
          "model_module": "@jupyter-widgets/controls",
          "model_name": "HTMLModel",
          "model_module_version": "1.5.0",
          "state": {
            "_dom_classes": [],
            "_model_module": "@jupyter-widgets/controls",
            "_model_module_version": "1.5.0",
            "_model_name": "HTMLModel",
            "_view_count": null,
            "_view_module": "@jupyter-widgets/controls",
            "_view_module_version": "1.5.0",
            "_view_name": "HTMLView",
            "description": "",
            "description_tooltip": null,
            "layout": "IPY_MODEL_54a8c09008b4420fba66f7b63900ccb4",
            "placeholder": "​",
            "style": "IPY_MODEL_771c540a1fdd4fa980f718b4a3b7e8f6",
            "value": "Map: 100%"
          }
        },
        "37e61dd042514bc985aa58303d5cc885": {
          "model_module": "@jupyter-widgets/controls",
          "model_name": "FloatProgressModel",
          "model_module_version": "1.5.0",
          "state": {
            "_dom_classes": [],
            "_model_module": "@jupyter-widgets/controls",
            "_model_module_version": "1.5.0",
            "_model_name": "FloatProgressModel",
            "_view_count": null,
            "_view_module": "@jupyter-widgets/controls",
            "_view_module_version": "1.5.0",
            "_view_name": "ProgressView",
            "bar_style": "success",
            "description": "",
            "description_tooltip": null,
            "layout": "IPY_MODEL_04acc93081de450ca35bda012fd5a708",
            "max": 12,
            "min": 0,
            "orientation": "horizontal",
            "style": "IPY_MODEL_5c1f1514e56e40b3a82c732f2117139f",
            "value": 12
          }
        },
        "efde519d2490473d846e35b384d6aa24": {
          "model_module": "@jupyter-widgets/controls",
          "model_name": "HTMLModel",
          "model_module_version": "1.5.0",
          "state": {
            "_dom_classes": [],
            "_model_module": "@jupyter-widgets/controls",
            "_model_module_version": "1.5.0",
            "_model_name": "HTMLModel",
            "_view_count": null,
            "_view_module": "@jupyter-widgets/controls",
            "_view_module_version": "1.5.0",
            "_view_name": "HTMLView",
            "description": "",
            "description_tooltip": null,
            "layout": "IPY_MODEL_90273a9208614a61957d48885cf04a7e",
            "placeholder": "​",
            "style": "IPY_MODEL_d1d94f52d0e442dd841bda516dbe4dc2",
            "value": " 12/12 [00:00&lt;00:00, 436.12 examples/s]"
          }
        },
        "484b0e224af8452a808528aad9146cf3": {
          "model_module": "@jupyter-widgets/base",
          "model_name": "LayoutModel",
          "model_module_version": "1.2.0",
          "state": {
            "_model_module": "@jupyter-widgets/base",
            "_model_module_version": "1.2.0",
            "_model_name": "LayoutModel",
            "_view_count": null,
            "_view_module": "@jupyter-widgets/base",
            "_view_module_version": "1.2.0",
            "_view_name": "LayoutView",
            "align_content": null,
            "align_items": null,
            "align_self": null,
            "border": null,
            "bottom": null,
            "display": null,
            "flex": null,
            "flex_flow": null,
            "grid_area": null,
            "grid_auto_columns": null,
            "grid_auto_flow": null,
            "grid_auto_rows": null,
            "grid_column": null,
            "grid_gap": null,
            "grid_row": null,
            "grid_template_areas": null,
            "grid_template_columns": null,
            "grid_template_rows": null,
            "height": null,
            "justify_content": null,
            "justify_items": null,
            "left": null,
            "margin": null,
            "max_height": null,
            "max_width": null,
            "min_height": null,
            "min_width": null,
            "object_fit": null,
            "object_position": null,
            "order": null,
            "overflow": null,
            "overflow_x": null,
            "overflow_y": null,
            "padding": null,
            "right": null,
            "top": null,
            "visibility": null,
            "width": null
          }
        },
        "54a8c09008b4420fba66f7b63900ccb4": {
          "model_module": "@jupyter-widgets/base",
          "model_name": "LayoutModel",
          "model_module_version": "1.2.0",
          "state": {
            "_model_module": "@jupyter-widgets/base",
            "_model_module_version": "1.2.0",
            "_model_name": "LayoutModel",
            "_view_count": null,
            "_view_module": "@jupyter-widgets/base",
            "_view_module_version": "1.2.0",
            "_view_name": "LayoutView",
            "align_content": null,
            "align_items": null,
            "align_self": null,
            "border": null,
            "bottom": null,
            "display": null,
            "flex": null,
            "flex_flow": null,
            "grid_area": null,
            "grid_auto_columns": null,
            "grid_auto_flow": null,
            "grid_auto_rows": null,
            "grid_column": null,
            "grid_gap": null,
            "grid_row": null,
            "grid_template_areas": null,
            "grid_template_columns": null,
            "grid_template_rows": null,
            "height": null,
            "justify_content": null,
            "justify_items": null,
            "left": null,
            "margin": null,
            "max_height": null,
            "max_width": null,
            "min_height": null,
            "min_width": null,
            "object_fit": null,
            "object_position": null,
            "order": null,
            "overflow": null,
            "overflow_x": null,
            "overflow_y": null,
            "padding": null,
            "right": null,
            "top": null,
            "visibility": null,
            "width": null
          }
        },
        "771c540a1fdd4fa980f718b4a3b7e8f6": {
          "model_module": "@jupyter-widgets/controls",
          "model_name": "DescriptionStyleModel",
          "model_module_version": "1.5.0",
          "state": {
            "_model_module": "@jupyter-widgets/controls",
            "_model_module_version": "1.5.0",
            "_model_name": "DescriptionStyleModel",
            "_view_count": null,
            "_view_module": "@jupyter-widgets/base",
            "_view_module_version": "1.2.0",
            "_view_name": "StyleView",
            "description_width": ""
          }
        },
        "04acc93081de450ca35bda012fd5a708": {
          "model_module": "@jupyter-widgets/base",
          "model_name": "LayoutModel",
          "model_module_version": "1.2.0",
          "state": {
            "_model_module": "@jupyter-widgets/base",
            "_model_module_version": "1.2.0",
            "_model_name": "LayoutModel",
            "_view_count": null,
            "_view_module": "@jupyter-widgets/base",
            "_view_module_version": "1.2.0",
            "_view_name": "LayoutView",
            "align_content": null,
            "align_items": null,
            "align_self": null,
            "border": null,
            "bottom": null,
            "display": null,
            "flex": null,
            "flex_flow": null,
            "grid_area": null,
            "grid_auto_columns": null,
            "grid_auto_flow": null,
            "grid_auto_rows": null,
            "grid_column": null,
            "grid_gap": null,
            "grid_row": null,
            "grid_template_areas": null,
            "grid_template_columns": null,
            "grid_template_rows": null,
            "height": null,
            "justify_content": null,
            "justify_items": null,
            "left": null,
            "margin": null,
            "max_height": null,
            "max_width": null,
            "min_height": null,
            "min_width": null,
            "object_fit": null,
            "object_position": null,
            "order": null,
            "overflow": null,
            "overflow_x": null,
            "overflow_y": null,
            "padding": null,
            "right": null,
            "top": null,
            "visibility": null,
            "width": null
          }
        },
        "5c1f1514e56e40b3a82c732f2117139f": {
          "model_module": "@jupyter-widgets/controls",
          "model_name": "ProgressStyleModel",
          "model_module_version": "1.5.0",
          "state": {
            "_model_module": "@jupyter-widgets/controls",
            "_model_module_version": "1.5.0",
            "_model_name": "ProgressStyleModel",
            "_view_count": null,
            "_view_module": "@jupyter-widgets/base",
            "_view_module_version": "1.2.0",
            "_view_name": "StyleView",
            "bar_color": null,
            "description_width": ""
          }
        },
        "90273a9208614a61957d48885cf04a7e": {
          "model_module": "@jupyter-widgets/base",
          "model_name": "LayoutModel",
          "model_module_version": "1.2.0",
          "state": {
            "_model_module": "@jupyter-widgets/base",
            "_model_module_version": "1.2.0",
            "_model_name": "LayoutModel",
            "_view_count": null,
            "_view_module": "@jupyter-widgets/base",
            "_view_module_version": "1.2.0",
            "_view_name": "LayoutView",
            "align_content": null,
            "align_items": null,
            "align_self": null,
            "border": null,
            "bottom": null,
            "display": null,
            "flex": null,
            "flex_flow": null,
            "grid_area": null,
            "grid_auto_columns": null,
            "grid_auto_flow": null,
            "grid_auto_rows": null,
            "grid_column": null,
            "grid_gap": null,
            "grid_row": null,
            "grid_template_areas": null,
            "grid_template_columns": null,
            "grid_template_rows": null,
            "height": null,
            "justify_content": null,
            "justify_items": null,
            "left": null,
            "margin": null,
            "max_height": null,
            "max_width": null,
            "min_height": null,
            "min_width": null,
            "object_fit": null,
            "object_position": null,
            "order": null,
            "overflow": null,
            "overflow_x": null,
            "overflow_y": null,
            "padding": null,
            "right": null,
            "top": null,
            "visibility": null,
            "width": null
          }
        },
        "d1d94f52d0e442dd841bda516dbe4dc2": {
          "model_module": "@jupyter-widgets/controls",
          "model_name": "DescriptionStyleModel",
          "model_module_version": "1.5.0",
          "state": {
            "_model_module": "@jupyter-widgets/controls",
            "_model_module_version": "1.5.0",
            "_model_name": "DescriptionStyleModel",
            "_view_count": null,
            "_view_module": "@jupyter-widgets/base",
            "_view_module_version": "1.2.0",
            "_view_name": "StyleView",
            "description_width": ""
          }
        },
        "69ef08baddb14e898512ea89396f7466": {
          "model_module": "@jupyter-widgets/controls",
          "model_name": "HBoxModel",
          "model_module_version": "1.5.0",
          "state": {
            "_dom_classes": [],
            "_model_module": "@jupyter-widgets/controls",
            "_model_module_version": "1.5.0",
            "_model_name": "HBoxModel",
            "_view_count": null,
            "_view_module": "@jupyter-widgets/controls",
            "_view_module_version": "1.5.0",
            "_view_name": "HBoxView",
            "box_style": "",
            "children": [
              "IPY_MODEL_5c22a23d18584395811db4a55df5ae0a",
              "IPY_MODEL_d8dc3e1129aa4e3fb47c0b9a5a809ae2",
              "IPY_MODEL_cbf884ce5b0b4d38bd7f36035a653d38"
            ],
            "layout": "IPY_MODEL_dc38ec275f974e5d8b35a7a7975f9521"
          }
        },
        "5c22a23d18584395811db4a55df5ae0a": {
          "model_module": "@jupyter-widgets/controls",
          "model_name": "HTMLModel",
          "model_module_version": "1.5.0",
          "state": {
            "_dom_classes": [],
            "_model_module": "@jupyter-widgets/controls",
            "_model_module_version": "1.5.0",
            "_model_name": "HTMLModel",
            "_view_count": null,
            "_view_module": "@jupyter-widgets/controls",
            "_view_module_version": "1.5.0",
            "_view_name": "HTMLView",
            "description": "",
            "description_tooltip": null,
            "layout": "IPY_MODEL_d97543689cfc46bfb59896e4d115e9d4",
            "placeholder": "​",
            "style": "IPY_MODEL_b5ae0ca54f294d29a790b44ca39f4f85",
            "value": "model.safetensors: 100%"
          }
        },
        "d8dc3e1129aa4e3fb47c0b9a5a809ae2": {
          "model_module": "@jupyter-widgets/controls",
          "model_name": "FloatProgressModel",
          "model_module_version": "1.5.0",
          "state": {
            "_dom_classes": [],
            "_model_module": "@jupyter-widgets/controls",
            "_model_module_version": "1.5.0",
            "_model_name": "FloatProgressModel",
            "_view_count": null,
            "_view_module": "@jupyter-widgets/controls",
            "_view_module_version": "1.5.0",
            "_view_name": "ProgressView",
            "bar_style": "success",
            "description": "",
            "description_tooltip": null,
            "layout": "IPY_MODEL_0cfd884317ec41ad8ac64709476fee1e",
            "max": 597241956,
            "min": 0,
            "orientation": "horizontal",
            "style": "IPY_MODEL_6f963d7515944003a81b17a8480b759d",
            "value": 597241956
          }
        },
        "cbf884ce5b0b4d38bd7f36035a653d38": {
          "model_module": "@jupyter-widgets/controls",
          "model_name": "HTMLModel",
          "model_module_version": "1.5.0",
          "state": {
            "_dom_classes": [],
            "_model_module": "@jupyter-widgets/controls",
            "_model_module_version": "1.5.0",
            "_model_name": "HTMLModel",
            "_view_count": null,
            "_view_module": "@jupyter-widgets/controls",
            "_view_module_version": "1.5.0",
            "_view_name": "HTMLView",
            "description": "",
            "description_tooltip": null,
            "layout": "IPY_MODEL_7cd20433e65b4e18a2a47139e9293c6e",
            "placeholder": "​",
            "style": "IPY_MODEL_8221c2cc668142f585738858b8ae7a9d",
            "value": " 597M/597M [00:01&lt;00:00, 312MB/s]"
          }
        },
        "dc38ec275f974e5d8b35a7a7975f9521": {
          "model_module": "@jupyter-widgets/base",
          "model_name": "LayoutModel",
          "model_module_version": "1.2.0",
          "state": {
            "_model_module": "@jupyter-widgets/base",
            "_model_module_version": "1.2.0",
            "_model_name": "LayoutModel",
            "_view_count": null,
            "_view_module": "@jupyter-widgets/base",
            "_view_module_version": "1.2.0",
            "_view_name": "LayoutView",
            "align_content": null,
            "align_items": null,
            "align_self": null,
            "border": null,
            "bottom": null,
            "display": null,
            "flex": null,
            "flex_flow": null,
            "grid_area": null,
            "grid_auto_columns": null,
            "grid_auto_flow": null,
            "grid_auto_rows": null,
            "grid_column": null,
            "grid_gap": null,
            "grid_row": null,
            "grid_template_areas": null,
            "grid_template_columns": null,
            "grid_template_rows": null,
            "height": null,
            "justify_content": null,
            "justify_items": null,
            "left": null,
            "margin": null,
            "max_height": null,
            "max_width": null,
            "min_height": null,
            "min_width": null,
            "object_fit": null,
            "object_position": null,
            "order": null,
            "overflow": null,
            "overflow_x": null,
            "overflow_y": null,
            "padding": null,
            "right": null,
            "top": null,
            "visibility": null,
            "width": null
          }
        },
        "d97543689cfc46bfb59896e4d115e9d4": {
          "model_module": "@jupyter-widgets/base",
          "model_name": "LayoutModel",
          "model_module_version": "1.2.0",
          "state": {
            "_model_module": "@jupyter-widgets/base",
            "_model_module_version": "1.2.0",
            "_model_name": "LayoutModel",
            "_view_count": null,
            "_view_module": "@jupyter-widgets/base",
            "_view_module_version": "1.2.0",
            "_view_name": "LayoutView",
            "align_content": null,
            "align_items": null,
            "align_self": null,
            "border": null,
            "bottom": null,
            "display": null,
            "flex": null,
            "flex_flow": null,
            "grid_area": null,
            "grid_auto_columns": null,
            "grid_auto_flow": null,
            "grid_auto_rows": null,
            "grid_column": null,
            "grid_gap": null,
            "grid_row": null,
            "grid_template_areas": null,
            "grid_template_columns": null,
            "grid_template_rows": null,
            "height": null,
            "justify_content": null,
            "justify_items": null,
            "left": null,
            "margin": null,
            "max_height": null,
            "max_width": null,
            "min_height": null,
            "min_width": null,
            "object_fit": null,
            "object_position": null,
            "order": null,
            "overflow": null,
            "overflow_x": null,
            "overflow_y": null,
            "padding": null,
            "right": null,
            "top": null,
            "visibility": null,
            "width": null
          }
        },
        "b5ae0ca54f294d29a790b44ca39f4f85": {
          "model_module": "@jupyter-widgets/controls",
          "model_name": "DescriptionStyleModel",
          "model_module_version": "1.5.0",
          "state": {
            "_model_module": "@jupyter-widgets/controls",
            "_model_module_version": "1.5.0",
            "_model_name": "DescriptionStyleModel",
            "_view_count": null,
            "_view_module": "@jupyter-widgets/base",
            "_view_module_version": "1.2.0",
            "_view_name": "StyleView",
            "description_width": ""
          }
        },
        "0cfd884317ec41ad8ac64709476fee1e": {
          "model_module": "@jupyter-widgets/base",
          "model_name": "LayoutModel",
          "model_module_version": "1.2.0",
          "state": {
            "_model_module": "@jupyter-widgets/base",
            "_model_module_version": "1.2.0",
            "_model_name": "LayoutModel",
            "_view_count": null,
            "_view_module": "@jupyter-widgets/base",
            "_view_module_version": "1.2.0",
            "_view_name": "LayoutView",
            "align_content": null,
            "align_items": null,
            "align_self": null,
            "border": null,
            "bottom": null,
            "display": null,
            "flex": null,
            "flex_flow": null,
            "grid_area": null,
            "grid_auto_columns": null,
            "grid_auto_flow": null,
            "grid_auto_rows": null,
            "grid_column": null,
            "grid_gap": null,
            "grid_row": null,
            "grid_template_areas": null,
            "grid_template_columns": null,
            "grid_template_rows": null,
            "height": null,
            "justify_content": null,
            "justify_items": null,
            "left": null,
            "margin": null,
            "max_height": null,
            "max_width": null,
            "min_height": null,
            "min_width": null,
            "object_fit": null,
            "object_position": null,
            "order": null,
            "overflow": null,
            "overflow_x": null,
            "overflow_y": null,
            "padding": null,
            "right": null,
            "top": null,
            "visibility": null,
            "width": null
          }
        },
        "6f963d7515944003a81b17a8480b759d": {
          "model_module": "@jupyter-widgets/controls",
          "model_name": "ProgressStyleModel",
          "model_module_version": "1.5.0",
          "state": {
            "_model_module": "@jupyter-widgets/controls",
            "_model_module_version": "1.5.0",
            "_model_name": "ProgressStyleModel",
            "_view_count": null,
            "_view_module": "@jupyter-widgets/base",
            "_view_module_version": "1.2.0",
            "_view_name": "StyleView",
            "bar_color": null,
            "description_width": ""
          }
        },
        "7cd20433e65b4e18a2a47139e9293c6e": {
          "model_module": "@jupyter-widgets/base",
          "model_name": "LayoutModel",
          "model_module_version": "1.2.0",
          "state": {
            "_model_module": "@jupyter-widgets/base",
            "_model_module_version": "1.2.0",
            "_model_name": "LayoutModel",
            "_view_count": null,
            "_view_module": "@jupyter-widgets/base",
            "_view_module_version": "1.2.0",
            "_view_name": "LayoutView",
            "align_content": null,
            "align_items": null,
            "align_self": null,
            "border": null,
            "bottom": null,
            "display": null,
            "flex": null,
            "flex_flow": null,
            "grid_area": null,
            "grid_auto_columns": null,
            "grid_auto_flow": null,
            "grid_auto_rows": null,
            "grid_column": null,
            "grid_gap": null,
            "grid_row": null,
            "grid_template_areas": null,
            "grid_template_columns": null,
            "grid_template_rows": null,
            "height": null,
            "justify_content": null,
            "justify_items": null,
            "left": null,
            "margin": null,
            "max_height": null,
            "max_width": null,
            "min_height": null,
            "min_width": null,
            "object_fit": null,
            "object_position": null,
            "order": null,
            "overflow": null,
            "overflow_x": null,
            "overflow_y": null,
            "padding": null,
            "right": null,
            "top": null,
            "visibility": null,
            "width": null
          }
        },
        "8221c2cc668142f585738858b8ae7a9d": {
          "model_module": "@jupyter-widgets/controls",
          "model_name": "DescriptionStyleModel",
          "model_module_version": "1.5.0",
          "state": {
            "_model_module": "@jupyter-widgets/controls",
            "_model_module_version": "1.5.0",
            "_model_name": "DescriptionStyleModel",
            "_view_count": null,
            "_view_module": "@jupyter-widgets/base",
            "_view_module_version": "1.2.0",
            "_view_name": "StyleView",
            "description_width": ""
          }
        },
        "5d6c88494aaf4a219416ad2ff030ae90": {
          "model_module": "@jupyter-widgets/controls",
          "model_name": "HBoxModel",
          "model_module_version": "1.5.0",
          "state": {
            "_dom_classes": [],
            "_model_module": "@jupyter-widgets/controls",
            "_model_module_version": "1.5.0",
            "_model_name": "HBoxModel",
            "_view_count": null,
            "_view_module": "@jupyter-widgets/controls",
            "_view_module_version": "1.5.0",
            "_view_name": "HBoxView",
            "box_style": "",
            "children": [
              "IPY_MODEL_b0e493b8cfba4eebba3aa5e1e97d51ac",
              "IPY_MODEL_d8346ad73fb64529bd9022f0c854a5ab",
              "IPY_MODEL_fdb92e5396954e249f08d9bf10c5d2f8"
            ],
            "layout": "IPY_MODEL_f67f37a296b44c4a9a42d6347562f2cc"
          }
        },
        "b0e493b8cfba4eebba3aa5e1e97d51ac": {
          "model_module": "@jupyter-widgets/controls",
          "model_name": "HTMLModel",
          "model_module_version": "1.5.0",
          "state": {
            "_dom_classes": [],
            "_model_module": "@jupyter-widgets/controls",
            "_model_module_version": "1.5.0",
            "_model_name": "HTMLModel",
            "_view_count": null,
            "_view_module": "@jupyter-widgets/controls",
            "_view_module_version": "1.5.0",
            "_view_name": "HTMLView",
            "description": "",
            "description_tooltip": null,
            "layout": "IPY_MODEL_536036f49c2b44c4a0eed6a5a3f8e975",
            "placeholder": "​",
            "style": "IPY_MODEL_a3e305427a0540afacfa3db51309c3ec",
            "value": "trainer_train.json: 100%"
          }
        },
        "d8346ad73fb64529bd9022f0c854a5ab": {
          "model_module": "@jupyter-widgets/controls",
          "model_name": "FloatProgressModel",
          "model_module_version": "1.5.0",
          "state": {
            "_dom_classes": [],
            "_model_module": "@jupyter-widgets/controls",
            "_model_module_version": "1.5.0",
            "_model_name": "FloatProgressModel",
            "_view_count": null,
            "_view_module": "@jupyter-widgets/controls",
            "_view_module_version": "1.5.0",
            "_view_name": "ProgressView",
            "bar_style": "success",
            "description": "",
            "description_tooltip": null,
            "layout": "IPY_MODEL_c6200caeb9634993a303e22ff9f9f820",
            "max": 202,
            "min": 0,
            "orientation": "horizontal",
            "style": "IPY_MODEL_7a1f2284a8234671a6f45d030e2c5f6e",
            "value": 202
          }
        },
        "fdb92e5396954e249f08d9bf10c5d2f8": {
          "model_module": "@jupyter-widgets/controls",
          "model_name": "HTMLModel",
          "model_module_version": "1.5.0",
          "state": {
            "_dom_classes": [],
            "_model_module": "@jupyter-widgets/controls",
            "_model_module_version": "1.5.0",
            "_model_name": "HTMLModel",
            "_view_count": null,
            "_view_module": "@jupyter-widgets/controls",
            "_view_module_version": "1.5.0",
            "_view_name": "HTMLView",
            "description": "",
            "description_tooltip": null,
            "layout": "IPY_MODEL_712151cafe984c148e4408b1597f4927",
            "placeholder": "​",
            "style": "IPY_MODEL_d361d2165b784365ad4cede3949966a4",
            "value": " 202/202 [00:00&lt;00:00, 24.0kB/s]"
          }
        },
        "f67f37a296b44c4a9a42d6347562f2cc": {
          "model_module": "@jupyter-widgets/base",
          "model_name": "LayoutModel",
          "model_module_version": "1.2.0",
          "state": {
            "_model_module": "@jupyter-widgets/base",
            "_model_module_version": "1.2.0",
            "_model_name": "LayoutModel",
            "_view_count": null,
            "_view_module": "@jupyter-widgets/base",
            "_view_module_version": "1.2.0",
            "_view_name": "LayoutView",
            "align_content": null,
            "align_items": null,
            "align_self": null,
            "border": null,
            "bottom": null,
            "display": null,
            "flex": null,
            "flex_flow": null,
            "grid_area": null,
            "grid_auto_columns": null,
            "grid_auto_flow": null,
            "grid_auto_rows": null,
            "grid_column": null,
            "grid_gap": null,
            "grid_row": null,
            "grid_template_areas": null,
            "grid_template_columns": null,
            "grid_template_rows": null,
            "height": null,
            "justify_content": null,
            "justify_items": null,
            "left": null,
            "margin": null,
            "max_height": null,
            "max_width": null,
            "min_height": null,
            "min_width": null,
            "object_fit": null,
            "object_position": null,
            "order": null,
            "overflow": null,
            "overflow_x": null,
            "overflow_y": null,
            "padding": null,
            "right": null,
            "top": null,
            "visibility": null,
            "width": null
          }
        },
        "536036f49c2b44c4a0eed6a5a3f8e975": {
          "model_module": "@jupyter-widgets/base",
          "model_name": "LayoutModel",
          "model_module_version": "1.2.0",
          "state": {
            "_model_module": "@jupyter-widgets/base",
            "_model_module_version": "1.2.0",
            "_model_name": "LayoutModel",
            "_view_count": null,
            "_view_module": "@jupyter-widgets/base",
            "_view_module_version": "1.2.0",
            "_view_name": "LayoutView",
            "align_content": null,
            "align_items": null,
            "align_self": null,
            "border": null,
            "bottom": null,
            "display": null,
            "flex": null,
            "flex_flow": null,
            "grid_area": null,
            "grid_auto_columns": null,
            "grid_auto_flow": null,
            "grid_auto_rows": null,
            "grid_column": null,
            "grid_gap": null,
            "grid_row": null,
            "grid_template_areas": null,
            "grid_template_columns": null,
            "grid_template_rows": null,
            "height": null,
            "justify_content": null,
            "justify_items": null,
            "left": null,
            "margin": null,
            "max_height": null,
            "max_width": null,
            "min_height": null,
            "min_width": null,
            "object_fit": null,
            "object_position": null,
            "order": null,
            "overflow": null,
            "overflow_x": null,
            "overflow_y": null,
            "padding": null,
            "right": null,
            "top": null,
            "visibility": null,
            "width": null
          }
        },
        "a3e305427a0540afacfa3db51309c3ec": {
          "model_module": "@jupyter-widgets/controls",
          "model_name": "DescriptionStyleModel",
          "model_module_version": "1.5.0",
          "state": {
            "_model_module": "@jupyter-widgets/controls",
            "_model_module_version": "1.5.0",
            "_model_name": "DescriptionStyleModel",
            "_view_count": null,
            "_view_module": "@jupyter-widgets/base",
            "_view_module_version": "1.2.0",
            "_view_name": "StyleView",
            "description_width": ""
          }
        },
        "c6200caeb9634993a303e22ff9f9f820": {
          "model_module": "@jupyter-widgets/base",
          "model_name": "LayoutModel",
          "model_module_version": "1.2.0",
          "state": {
            "_model_module": "@jupyter-widgets/base",
            "_model_module_version": "1.2.0",
            "_model_name": "LayoutModel",
            "_view_count": null,
            "_view_module": "@jupyter-widgets/base",
            "_view_module_version": "1.2.0",
            "_view_name": "LayoutView",
            "align_content": null,
            "align_items": null,
            "align_self": null,
            "border": null,
            "bottom": null,
            "display": null,
            "flex": null,
            "flex_flow": null,
            "grid_area": null,
            "grid_auto_columns": null,
            "grid_auto_flow": null,
            "grid_auto_rows": null,
            "grid_column": null,
            "grid_gap": null,
            "grid_row": null,
            "grid_template_areas": null,
            "grid_template_columns": null,
            "grid_template_rows": null,
            "height": null,
            "justify_content": null,
            "justify_items": null,
            "left": null,
            "margin": null,
            "max_height": null,
            "max_width": null,
            "min_height": null,
            "min_width": null,
            "object_fit": null,
            "object_position": null,
            "order": null,
            "overflow": null,
            "overflow_x": null,
            "overflow_y": null,
            "padding": null,
            "right": null,
            "top": null,
            "visibility": null,
            "width": null
          }
        },
        "7a1f2284a8234671a6f45d030e2c5f6e": {
          "model_module": "@jupyter-widgets/controls",
          "model_name": "ProgressStyleModel",
          "model_module_version": "1.5.0",
          "state": {
            "_model_module": "@jupyter-widgets/controls",
            "_model_module_version": "1.5.0",
            "_model_name": "ProgressStyleModel",
            "_view_count": null,
            "_view_module": "@jupyter-widgets/base",
            "_view_module_version": "1.2.0",
            "_view_name": "StyleView",
            "bar_color": null,
            "description_width": ""
          }
        },
        "712151cafe984c148e4408b1597f4927": {
          "model_module": "@jupyter-widgets/base",
          "model_name": "LayoutModel",
          "model_module_version": "1.2.0",
          "state": {
            "_model_module": "@jupyter-widgets/base",
            "_model_module_version": "1.2.0",
            "_model_name": "LayoutModel",
            "_view_count": null,
            "_view_module": "@jupyter-widgets/base",
            "_view_module_version": "1.2.0",
            "_view_name": "LayoutView",
            "align_content": null,
            "align_items": null,
            "align_self": null,
            "border": null,
            "bottom": null,
            "display": null,
            "flex": null,
            "flex_flow": null,
            "grid_area": null,
            "grid_auto_columns": null,
            "grid_auto_flow": null,
            "grid_auto_rows": null,
            "grid_column": null,
            "grid_gap": null,
            "grid_row": null,
            "grid_template_areas": null,
            "grid_template_columns": null,
            "grid_template_rows": null,
            "height": null,
            "justify_content": null,
            "justify_items": null,
            "left": null,
            "margin": null,
            "max_height": null,
            "max_width": null,
            "min_height": null,
            "min_width": null,
            "object_fit": null,
            "object_position": null,
            "order": null,
            "overflow": null,
            "overflow_x": null,
            "overflow_y": null,
            "padding": null,
            "right": null,
            "top": null,
            "visibility": null,
            "width": null
          }
        },
        "d361d2165b784365ad4cede3949966a4": {
          "model_module": "@jupyter-widgets/controls",
          "model_name": "DescriptionStyleModel",
          "model_module_version": "1.5.0",
          "state": {
            "_model_module": "@jupyter-widgets/controls",
            "_model_module_version": "1.5.0",
            "_model_name": "DescriptionStyleModel",
            "_view_count": null,
            "_view_module": "@jupyter-widgets/base",
            "_view_module_version": "1.2.0",
            "_view_name": "StyleView",
            "description_width": ""
          }
        }
      }
    },
    "accelerator": "GPU"
  },
  "nbformat": 4,
  "nbformat_minor": 0
}