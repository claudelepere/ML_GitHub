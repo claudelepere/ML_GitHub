{
  "nbformat": 4,
  "nbformat_minor": 0,
  "metadata": {
    "colab": {
      "provenance": [],
      "authorship_tag": "ABX9TyOFaM011baU0159cjwxYbeG",
      "include_colab_link": true
    },
    "kernelspec": {
      "name": "python3",
      "display_name": "Python 3"
    },
    "language_info": {
      "name": "python"
    }
  },
  "cells": [
    {
      "cell_type": "markdown",
      "metadata": {
        "id": "view-in-github",
        "colab_type": "text"
      },
      "source": [
        "<a href=\"https://colab.research.google.com/github/claudelepere/ML_GitHub/blob/main/Untitled2.ipynb\" target=\"_parent\"><img src=\"https://colab.research.google.com/assets/colab-badge.svg\" alt=\"Open In Colab\"/></a>"
      ]
    },
    {
      "cell_type": "code",
      "source": [
        "import os\n",
        "\n",
        "print(os.getcwd())"
      ],
      "metadata": {
        "id": "cQZ7jt0KU8Gz"
      },
      "execution_count": null,
      "outputs": []
    },
    {
      "cell_type": "code",
      "execution_count": null,
      "metadata": {
        "id": "vxhPCRO8T-xQ"
      },
      "outputs": [],
      "source": [
        "#from google.colab import files\n",
        "#uploaded = files.upload()\n",
        "\n",
        "!ls -la"
      ]
    },
    {
      "cell_type": "code",
      "source": [
        "#!unzip datasetHF_128_18_54.zip -d datasetHF_128_18_54\n",
        "#!unzip datasetHF_1000_125_125.zip -d datasetHF_1000_125_125"
      ],
      "metadata": {
        "id": "AXw-lkrbVTK9"
      },
      "execution_count": null,
      "outputs": []
    },
    {
      "cell_type": "code",
      "source": [
        "!pip install -q transformers datasets\n",
        "from datasets import DatasetDict\n",
        "#dataset = DatasetDict.load_from_disk('datasetHF_128_18_54')\n",
        "dataset = DatasetDict.load_from_disk('datasetHF_1000_125_125')\n",
        "\n",
        "print(f\"dataset: {type(dataset)} {dataset.shape}\\n{dataset}\")"
      ],
      "metadata": {
        "id": "XvBzxQpFeAQl"
      },
      "execution_count": null,
      "outputs": []
    },
    {
      "cell_type": "code",
      "source": [
        "example = dataset['train'][0]\n",
        "print(f\"example: {type(example)} {example.keys()}\\n{example}\")"
      ],
      "metadata": {
        "colab": {
          "base_uri": "https://localhost:8080/"
        },
        "id": "mEY-QrBReXT8",
        "outputId": "b4be92b4-9513-4125-9339-c0df5f926a2e"
      },
      "execution_count": 34,
      "outputs": [
        {
          "output_type": "stream",
          "name": "stdout",
          "text": [
            "example: <class 'dict'> dict_keys(['id', 'text', '394', '142', '143', '146', '147', '148', '149', '150', '151', '408', '409', '153', '154', '155', '156', '157', '158', '160', '152', '162', '667', '165', '167', '168', '169', '170', '171', '685', '174', '686', '176', '689', '173', '175', '356', '360', '361', '362', '364', '760', '371', '756', '373', '758', '375', '376', '761', '757'])\n",
            "{'id': 161181, 'text': \"Argenta - Product Owner Netwerk en Security Cloud, Werkplek, Netwerk, Security Argenta Je gaat aan de slag op het hoofdkantoor van Argenta binnen de afdeling Infrastructure & Operations Services (iOS). Deze directie staat in voor de centrale en overkoepelende aansturing van de technische implementatie, de opvolging en het beheer van de infrastructuur (private en public Cloud), werkplek- en netwerk & security componenten. Hiermee ondersteunen we onze applicatie voor de kantoren, HQ medewerkers en onze klanten via digitale kanalen. Als Product Owner Netwerk & Security ben je verantwoordelijk voor het inrichten en beheren van het netwerk en de bijhorende security vanuit een Agile methodiek. Samen met de Scrum Master heb je een cruciale rol in het team. Jullie treden als tandem op om alle activiteiten inhoudelijk goed af te stemmen met de epic owners of andere product owners (zowel binnen de infrastructuurafdeling als daarbuiten). Jouw technische kennis over netwerk en security is vooral nodig om de epics te kunnen inschatten, op te delen in deliverables en inhoudelijk met het team de taken te kunnen inschatten en verdelen, afhankelijk van de competenties in het team. Onze projecten en epics worden met jou en het team uitgewerkt tot features en stories. Het in kaart brengen en analyseren van de behoeften van de klant zorgt ervoor dat onze producten en oplossingen blijvend up-to-date, stabiel en kwaliteitsvol zijn. Je rapporteert over de activiteiten naar de Manager Infrastructuur over de voortgang van de activiteiten, eventuele issues/risico's en de algemene werking van het team. Je persoonlijkheid Jezelf zijn staat centraal bij Argenta en in ons team. Samenwerken in een aangename sfeer met respect voor de collega's staat hoog in ons vaandel. Eenvoud en efficiëntie is waar we voor gaan. Luisteren naar collega's vinden we vanzelfsprekend. Teamspelers hebben dan ook een streepje voor. En vooral teamspelers die pragmatisch werken, gaan voor een positieve aanpak en focussen op de essentie. Een positieve ingesteldheid en oplossingsgerichtheid helpen het team en onze doelstellingen immers vooruit. Duidelijke communicatie, analytisch vermogen en teamwork zijn de ingrediënten die dagelijks aan bod zullen komen in deze rol. Bovendien ben je een belangrijke schakel in onze SAFe Agile werkmethode. In het iOS-team houden we beide voeten stevig op de grond en met een pragmatische aanpak houden we onze omgeving maximaal beschikbaar en veilig. Je bent constructief en praktisch aangelegd en kan goed plannen, organiseren en coördineren binnen een complexe ICT-infrastructuur. Daarnaast beschik je over uitstekende communicatieve vaardigheden en weet je je stakeholders op een vriendelijke, respectvolle manier te benaderen. Tenslotte schrikt het jou niet af om ownership te nemen en wil je graag je eigen loopbaan uitbouwen. Je theoretische bagage Je behaalde een bachelor of master in een ICT-gerelateerde richting, of gelijkwaardig door ervaring. Je hebt een ervaring in een gelijkaardige functie. Je bent gefascineerd om een passende oplossing te vinden voor onze Argenta-behoeftes. Je hebt een goede kennis van Netwerk & Security technologieën. Algemene kennis van Azure Cloud netwerk en security is zeker een pluspunt. Een goede beheersing van de Nederlandse en Engelse taal is noodzakelijk. Aanbieding Er zijn 101 redenen om voor Argenta te werken. Deze vacature is te kort om ze allemaal op te sommen maar dit willen we je zeker al meegeven Werken bij Argenta is werken bij een duurzame werkgever in hartje Antwerpen. Je voelt je meteen welkom bij ons. Je komt terecht bij fantastische collega's die klaarstaan om je te helpen. We luisteren naar jou en investeren in je carrière. Zo krijgt je talent alle kansen. Maar niet ten koste van alles. Bij Argenta heb je ook nog tijd voor wat anders. Gezonde groei, noemen we dat. En het financiële plaatje? Een contract van onbepaalde duur Een marktconforme brutoverloning Maaltijdcheques Groepsverzekering Hospitalisatieverzekering Cafetariaplan (je kunt het bedrag van je 13de maand inzetten om aan voordelige voorwaarden bijvoorbeeld een nieuwe fiets, een nieuwe smartphone of extra verlofdagen aan te kopen) Contact Wil jij onze nieuwe Product Owner worden? Solliciteer dan snel online via onderstaande knop!\", '394': False, '142': False, '143': False, '146': False, '147': False, '148': False, '149': False, '150': False, '151': False, '408': False, '409': False, '153': False, '154': False, '155': False, '156': False, '157': False, '158': False, '160': False, '152': False, '162': True, '667': False, '165': True, '167': False, '168': False, '169': False, '170': False, '171': False, '685': False, '174': False, '686': False, '176': False, '689': False, '173': False, '175': False, '356': False, '360': False, '361': False, '362': False, '364': False, '760': False, '371': False, '756': False, '373': False, '758': False, '375': True, '376': False, '761': False, '757': False}\n"
          ]
        }
      ]
    },
    {
      "cell_type": "code",
      "source": [
        "### dataset 1000_125_125: 48 labels\n",
        "### dataset 128_18_54   : 42 labels\n",
        "\n",
        "labels = [label for label in dataset['train'].features.keys() if label not in ['id', 'text']]\n",
        "labels.sort()\n",
        "print(f\"labels: {type(labels)} {len(labels)}\\n{list(enumerate(labels))}\")\n",
        "\n",
        "id2label = {idx:label for idx, label in enumerate(labels)}\n",
        "print(f\"id2label: {type(id2label)} {len(id2label)}\\n{id2label}\")\n",
        "\n",
        "label2id = {label:idx for idx, label in enumerate(labels)}\n",
        "print(f\"label2id: {type(label2id)} {len(label2id)}\\n{label2id}\")"
      ],
      "metadata": {
        "colab": {
          "base_uri": "https://localhost:8080/"
        },
        "id": "G8Z7lzCnmgNh",
        "outputId": "a4408db6-fb2f-4ee6-c366-5018f3aa8615"
      },
      "execution_count": 35,
      "outputs": [
        {
          "output_type": "stream",
          "name": "stdout",
          "text": [
            "labels: <class 'list'> 48\n",
            "[(0, '142'), (1, '143'), (2, '146'), (3, '147'), (4, '148'), (5, '149'), (6, '150'), (7, '151'), (8, '152'), (9, '153'), (10, '154'), (11, '155'), (12, '156'), (13, '157'), (14, '158'), (15, '160'), (16, '162'), (17, '165'), (18, '167'), (19, '168'), (20, '169'), (21, '170'), (22, '171'), (23, '173'), (24, '174'), (25, '175'), (26, '176'), (27, '356'), (28, '360'), (29, '361'), (30, '362'), (31, '364'), (32, '371'), (33, '373'), (34, '375'), (35, '376'), (36, '394'), (37, '408'), (38, '409'), (39, '667'), (40, '685'), (41, '686'), (42, '689'), (43, '756'), (44, '757'), (45, '758'), (46, '760'), (47, '761')]\n",
            "id2label: <class 'dict'> 48\n",
            "{0: '142', 1: '143', 2: '146', 3: '147', 4: '148', 5: '149', 6: '150', 7: '151', 8: '152', 9: '153', 10: '154', 11: '155', 12: '156', 13: '157', 14: '158', 15: '160', 16: '162', 17: '165', 18: '167', 19: '168', 20: '169', 21: '170', 22: '171', 23: '173', 24: '174', 25: '175', 26: '176', 27: '356', 28: '360', 29: '361', 30: '362', 31: '364', 32: '371', 33: '373', 34: '375', 35: '376', 36: '394', 37: '408', 38: '409', 39: '667', 40: '685', 41: '686', 42: '689', 43: '756', 44: '757', 45: '758', 46: '760', 47: '761'}\n",
            "label2id: <class 'dict'> 48\n",
            "{'142': 0, '143': 1, '146': 2, '147': 3, '148': 4, '149': 5, '150': 6, '151': 7, '152': 8, '153': 9, '154': 10, '155': 11, '156': 12, '157': 13, '158': 14, '160': 15, '162': 16, '165': 17, '167': 18, '168': 19, '169': 20, '170': 21, '171': 22, '173': 23, '174': 24, '175': 25, '176': 26, '356': 27, '360': 28, '361': 29, '362': 30, '364': 31, '371': 32, '373': 33, '375': 34, '376': 35, '394': 36, '408': 37, '409': 38, '667': 39, '685': 40, '686': 41, '689': 42, '756': 43, '757': 44, '758': 45, '760': 46, '761': 47}\n"
          ]
        }
      ]
    },
    {
      "cell_type": "code",
      "source": [],
      "metadata": {
        "id": "6ZWhZsLPoH9r"
      },
      "execution_count": null,
      "outputs": []
    }
  ]
}